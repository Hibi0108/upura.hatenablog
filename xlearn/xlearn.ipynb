{
 "cells": [
  {
   "cell_type": "code",
   "execution_count": 1,
   "metadata": {
    "collapsed": true
   },
   "outputs": [],
   "source": [
    "import pandas as pd\n",
    "from sklearn.datasets import make_classification\n",
    "from sklearn.model_selection import train_test_split\n",
    "\n",
    "# サンプルデータの生成\n",
    "X, y = make_classification(n_samples=10000, n_features=10, n_informative=5, n_redundant=0, n_repeated=0,\n",
    "                           n_clusters_per_class=8, random_state=123)\n",
    "X = pd.DataFrame(X)\n",
    "X_train, X_test, y_train, y_test = train_test_split(X, y, test_size=0.2, random_state=123)"
   ]
  },
  {
   "cell_type": "code",
   "execution_count": 2,
   "metadata": {},
   "outputs": [
    {
     "data": {
      "text/html": [
       "<div>\n",
       "<style scoped>\n",
       "    .dataframe tbody tr th:only-of-type {\n",
       "        vertical-align: middle;\n",
       "    }\n",
       "\n",
       "    .dataframe tbody tr th {\n",
       "        vertical-align: top;\n",
       "    }\n",
       "\n",
       "    .dataframe thead th {\n",
       "        text-align: right;\n",
       "    }\n",
       "</style>\n",
       "<table border=\"1\" class=\"dataframe\">\n",
       "  <thead>\n",
       "    <tr style=\"text-align: right;\">\n",
       "      <th></th>\n",
       "      <th>0</th>\n",
       "      <th>1</th>\n",
       "      <th>2</th>\n",
       "      <th>3</th>\n",
       "      <th>4</th>\n",
       "      <th>5</th>\n",
       "      <th>6</th>\n",
       "      <th>7</th>\n",
       "      <th>8</th>\n",
       "      <th>9</th>\n",
       "    </tr>\n",
       "  </thead>\n",
       "  <tbody>\n",
       "    <tr>\n",
       "      <th>0</th>\n",
       "      <td>-0.627954</td>\n",
       "      <td>-1.257001</td>\n",
       "      <td>-2.838384</td>\n",
       "      <td>-1.215003</td>\n",
       "      <td>0.170414</td>\n",
       "      <td>2.548580</td>\n",
       "      <td>1.381993</td>\n",
       "      <td>-2.140337</td>\n",
       "      <td>1.387694</td>\n",
       "      <td>-1.076551</td>\n",
       "    </tr>\n",
       "    <tr>\n",
       "      <th>1</th>\n",
       "      <td>-1.725737</td>\n",
       "      <td>0.979930</td>\n",
       "      <td>-1.148848</td>\n",
       "      <td>0.145803</td>\n",
       "      <td>0.232371</td>\n",
       "      <td>0.676025</td>\n",
       "      <td>-0.275424</td>\n",
       "      <td>-0.526875</td>\n",
       "      <td>-2.199112</td>\n",
       "      <td>1.599393</td>\n",
       "    </tr>\n",
       "    <tr>\n",
       "      <th>2</th>\n",
       "      <td>-0.137816</td>\n",
       "      <td>-0.643452</td>\n",
       "      <td>0.080468</td>\n",
       "      <td>0.852353</td>\n",
       "      <td>-0.015710</td>\n",
       "      <td>0.240533</td>\n",
       "      <td>-0.546579</td>\n",
       "      <td>0.246902</td>\n",
       "      <td>1.488931</td>\n",
       "      <td>0.814251</td>\n",
       "    </tr>\n",
       "    <tr>\n",
       "      <th>3</th>\n",
       "      <td>0.770367</td>\n",
       "      <td>0.970867</td>\n",
       "      <td>-2.784677</td>\n",
       "      <td>1.176957</td>\n",
       "      <td>-1.274624</td>\n",
       "      <td>0.561870</td>\n",
       "      <td>-1.132929</td>\n",
       "      <td>-3.037186</td>\n",
       "      <td>-0.800666</td>\n",
       "      <td>1.753148</td>\n",
       "    </tr>\n",
       "    <tr>\n",
       "      <th>4</th>\n",
       "      <td>-0.388445</td>\n",
       "      <td>0.592529</td>\n",
       "      <td>2.554683</td>\n",
       "      <td>1.190418</td>\n",
       "      <td>1.466753</td>\n",
       "      <td>1.023078</td>\n",
       "      <td>1.186102</td>\n",
       "      <td>-2.128137</td>\n",
       "      <td>-0.316924</td>\n",
       "      <td>0.243327</td>\n",
       "    </tr>\n",
       "  </tbody>\n",
       "</table>\n",
       "</div>"
      ],
      "text/plain": [
       "          0         1         2         3         4         5         6  \\\n",
       "0 -0.627954 -1.257001 -2.838384 -1.215003  0.170414  2.548580  1.381993   \n",
       "1 -1.725737  0.979930 -1.148848  0.145803  0.232371  0.676025 -0.275424   \n",
       "2 -0.137816 -0.643452  0.080468  0.852353 -0.015710  0.240533 -0.546579   \n",
       "3  0.770367  0.970867 -2.784677  1.176957 -1.274624  0.561870 -1.132929   \n",
       "4 -0.388445  0.592529  2.554683  1.190418  1.466753  1.023078  1.186102   \n",
       "\n",
       "          7         8         9  \n",
       "0 -2.140337  1.387694 -1.076551  \n",
       "1 -0.526875 -2.199112  1.599393  \n",
       "2  0.246902  1.488931  0.814251  \n",
       "3 -3.037186 -0.800666  1.753148  \n",
       "4 -2.128137 -0.316924  0.243327  "
      ]
     },
     "execution_count": 2,
     "metadata": {},
     "output_type": "execute_result"
    }
   ],
   "source": [
    "X.head()"
   ]
  },
  {
   "cell_type": "code",
   "execution_count": 3,
   "metadata": {
    "collapsed": true
   },
   "outputs": [],
   "source": [
    "import xlearn as xl\n",
    "ffm_model = xl.create_ffm()"
   ]
  },
  {
   "cell_type": "code",
   "execution_count": 4,
   "metadata": {
    "collapsed": true
   },
   "outputs": [],
   "source": [
    "ffm_model.setTrain(\"small_train.txt\")\n",
    "ffm_model.setValidate(\"small_test.txt\")"
   ]
  },
  {
   "cell_type": "code",
   "execution_count": 5,
   "metadata": {
    "collapsed": true
   },
   "outputs": [],
   "source": [
    "# param:\n",
    "#  0. binary classification\n",
    "#  1. learning rate : 0.2\n",
    "#  2. regular lambda : 0.002\n",
    "param = {'task':'binary', 'lr':0.2, \n",
    "         'lambda':0.002, 'metric':'acc'}"
   ]
  },
  {
   "cell_type": "code",
   "execution_count": 6,
   "metadata": {
    "collapsed": true
   },
   "outputs": [],
   "source": [
    "# # Train model\n",
    "# ffm_model.fit(param, \"model.out\")"
   ]
  },
  {
   "cell_type": "code",
   "execution_count": null,
   "metadata": {
    "collapsed": true
   },
   "outputs": [],
   "source": []
  }
 ],
 "metadata": {
  "kernelspec": {
   "display_name": "Python 3",
   "language": "python",
   "name": "python3"
  },
  "language_info": {
   "codemirror_mode": {
    "name": "ipython",
    "version": 3
   },
   "file_extension": ".py",
   "mimetype": "text/x-python",
   "name": "python",
   "nbconvert_exporter": "python",
   "pygments_lexer": "ipython3",
   "version": "3.6.8"
  }
 },
 "nbformat": 4,
 "nbformat_minor": 2
}
