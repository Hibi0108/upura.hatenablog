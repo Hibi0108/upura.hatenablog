{
 "cells": [
  {
   "cell_type": "code",
   "execution_count": 1,
   "metadata": {
    "collapsed": true
   },
   "outputs": [],
   "source": [
    "def prob_same_birthday_pair(n):\n",
    "    prob = 1\n",
    "    for i in range(n):\n",
    "        prob *= (365 - i )/365\n",
    "    return 1 - prob"
   ]
  },
  {
   "cell_type": "code",
   "execution_count": 2,
   "metadata": {},
   "outputs": [
    {
     "data": {
      "text/plain": [
       "0.7063162427192688"
      ]
     },
     "execution_count": 2,
     "metadata": {},
     "output_type": "execute_result"
    }
   ],
   "source": [
    "prob_same_birthday_pair(30)"
   ]
  },
  {
   "cell_type": "code",
   "execution_count": 3,
   "metadata": {},
   "outputs": [
    {
     "name": "stdout",
     "output_type": "stream",
     "text": [
      "n = 1:    0.0\n",
      "n = 2:    0.002739726027397249\n",
      "n = 3:    0.008204165884781345\n",
      "n = 4:    0.016355912466550215\n",
      "n = 5:    0.02713557369979347\n",
      "n = 6:    0.040462483649111425\n",
      "n = 7:    0.056235703095975365\n",
      "n = 8:    0.07433529235166902\n",
      "n = 9:    0.09462383388916673\n",
      "n = 10:    0.11694817771107768\n",
      "n = 11:    0.14114137832173312\n",
      "n = 12:    0.1670247888380645\n",
      "n = 13:    0.19441027523242949\n",
      "n = 14:    0.2231025120049731\n",
      "n = 15:    0.25290131976368646\n",
      "n = 16:    0.2836040052528501\n",
      "n = 17:    0.3150076652965609\n",
      "n = 18:    0.3469114178717896\n",
      "n = 19:    0.37911852603153695\n",
      "n = 20:    0.41143838358058027\n",
      "n = 21:    0.443688335165206\n",
      "n = 22:    0.4756953076625503\n",
      "n = 23:    0.5072972343239857\n",
      "n = 24:    0.538344257914529\n",
      "n = 25:    0.568699703969464\n",
      "n = 26:    0.598240820135939\n",
      "n = 27:    0.6268592822632421\n",
      "n = 28:    0.6544614723423995\n",
      "n = 29:    0.6809685374777771\n",
      "n = 30:    0.7063162427192688\n"
     ]
    }
   ],
   "source": [
    "for i in range(30):\n",
    "    print('n = ' + str(i+1) + ':    ' + str(prob_same_birthday_pair(i+1)))"
   ]
  },
  {
   "cell_type": "code",
   "execution_count": null,
   "metadata": {
    "collapsed": true
   },
   "outputs": [],
   "source": []
  }
 ],
 "metadata": {
  "kernelspec": {
   "display_name": "Python 3",
   "language": "python",
   "name": "python3"
  },
  "language_info": {
   "codemirror_mode": {
    "name": "ipython",
    "version": 3
   },
   "file_extension": ".py",
   "mimetype": "text/x-python",
   "name": "python",
   "nbconvert_exporter": "python",
   "pygments_lexer": "ipython3",
   "version": "3.6.2"
  }
 },
 "nbformat": 4,
 "nbformat_minor": 2
}
