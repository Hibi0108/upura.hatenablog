{
 "cells": [
  {
   "cell_type": "code",
   "execution_count": 1,
   "metadata": {},
   "outputs": [
    {
     "data": {
      "text/html": [
       "<style>.container { width:100% !important; }</style>"
      ],
      "text/plain": [
       "<IPython.core.display.HTML object>"
      ]
     },
     "metadata": {},
     "output_type": "display_data"
    }
   ],
   "source": [
    "from IPython.core.display import display, HTML \n",
    "display(HTML(\"<style>.container { width:100% !important; }</style>\"))\n",
    "import pandas as pd\n",
    "import matplotlib.pyplot as plt\n",
    "import numpy as np\n",
    "%matplotlib inline"
   ]
  },
  {
   "cell_type": "code",
   "execution_count": 2,
   "metadata": {},
   "outputs": [],
   "source": [
    "# https://github.com/ozt-ca/tjo.hatenablog.samples/blob/master/r_samples/public_lib/jp/xmastree_dt.txt\n",
    "df = pd.read_table('df.tsv')"
   ]
  },
  {
   "cell_type": "code",
   "execution_count": 3,
   "metadata": {
    "scrolled": true
   },
   "outputs": [
    {
     "data": {
      "text/html": [
       "<div>\n",
       "<style>\n",
       "    .dataframe thead tr:only-child th {\n",
       "        text-align: right;\n",
       "    }\n",
       "\n",
       "    .dataframe thead th {\n",
       "        text-align: left;\n",
       "    }\n",
       "\n",
       "    .dataframe tbody tr th {\n",
       "        vertical-align: top;\n",
       "    }\n",
       "</style>\n",
       "<table border=\"1\" class=\"dataframe\">\n",
       "  <thead>\n",
       "    <tr style=\"text-align: right;\">\n",
       "      <th></th>\n",
       "      <th>x</th>\n",
       "      <th>y</th>\n",
       "      <th>label</th>\n",
       "    </tr>\n",
       "  </thead>\n",
       "  <tbody>\n",
       "    <tr>\n",
       "      <th>0</th>\n",
       "      <td>-0.046023</td>\n",
       "      <td>2.844051</td>\n",
       "      <td>0</td>\n",
       "    </tr>\n",
       "    <tr>\n",
       "      <th>1</th>\n",
       "      <td>-0.046023</td>\n",
       "      <td>2.501590</td>\n",
       "      <td>0</td>\n",
       "    </tr>\n",
       "    <tr>\n",
       "      <th>2</th>\n",
       "      <td>-0.127676</td>\n",
       "      <td>2.256976</td>\n",
       "      <td>0</td>\n",
       "    </tr>\n",
       "    <tr>\n",
       "      <th>3</th>\n",
       "      <td>-0.194483</td>\n",
       "      <td>1.784055</td>\n",
       "      <td>0</td>\n",
       "    </tr>\n",
       "    <tr>\n",
       "      <th>4</th>\n",
       "      <td>-0.008908</td>\n",
       "      <td>1.637286</td>\n",
       "      <td>0</td>\n",
       "    </tr>\n",
       "  </tbody>\n",
       "</table>\n",
       "</div>"
      ],
      "text/plain": [
       "          x         y  label\n",
       "0 -0.046023  2.844051      0\n",
       "1 -0.046023  2.501590      0\n",
       "2 -0.127676  2.256976      0\n",
       "3 -0.194483  1.784055      0\n",
       "4 -0.008908  1.637286      0"
      ]
     },
     "execution_count": 3,
     "metadata": {},
     "output_type": "execute_result"
    }
   ],
   "source": [
    "df.head()"
   ]
  },
  {
   "cell_type": "code",
   "execution_count": 4,
   "metadata": {
    "collapsed": true
   },
   "outputs": [],
   "source": [
    "import random\n",
    "random.seed(100)\n",
    "x_add = [random.random() *6 - 3 for i in range(100)]\n",
    "y_add = [-1 * random.random() *1.5 - 2.7 for i in range(100)]\n",
    "label_add = [2 if abs(i) < 0.6 else 1 for i in x_add]"
   ]
  },
  {
   "cell_type": "code",
   "execution_count": 5,
   "metadata": {},
   "outputs": [],
   "source": [
    "df_add = pd.DataFrame({\n",
    "    'x': x_add,\n",
    "    'y': y_add,\n",
    "    'label': label_add\n",
    "})"
   ]
  },
  {
   "cell_type": "code",
   "execution_count": 6,
   "metadata": {
    "collapsed": true
   },
   "outputs": [],
   "source": [
    "df = pd.concat([df, df_add])"
   ]
  },
  {
   "cell_type": "code",
   "execution_count": 7,
   "metadata": {},
   "outputs": [],
   "source": [
    "x1 = df.query('label == 0')['x']\n",
    "y1 = df.query('label == 0')['y']\n",
    "x2 = df.query('label == 1')['x']\n",
    "y2 = df.query('label == 1')['y']\n",
    "x3 = df.query('label == 2')['x']\n",
    "y3 = df.query('label == 2')['y']"
   ]
  },
  {
   "cell_type": "code",
   "execution_count": 8,
   "metadata": {},
   "outputs": [
    {
     "data": {
      "text/plain": [
       "<matplotlib.collections.PathCollection at 0x1134cd7b8>"
      ]
     },
     "execution_count": 8,
     "metadata": {},
     "output_type": "execute_result"
    },
    {
     "data": {
      "image/png": "[encoded data removed]",
      "text/plain": [
       "<matplotlib.figure.Figure at 0x10f614400>"
      ]
     },
     "metadata": {},
     "output_type": "display_data"
    }
   ],
   "source": [
    "plt.figure(figsize=(10, 10))\n",
    "plt.style.use('dark_background')\n",
    "plt.xticks(color=\"None\")\n",
    "plt.yticks(color=\"None\")\n",
    "plt.tick_params(length=0)\n",
    "plt.scatter(x1,y1,c='green')\n",
    "plt.scatter(x2,y2,c='white')\n",
    "plt.scatter(x3,y3,c='#623526')"
   ]
  },
  {
   "cell_type": "code",
   "execution_count": 9,
   "metadata": {
    "collapsed": true
   },
   "outputs": [],
   "source": [
    "from mlxtend.plotting import plot_decision_regions\n",
    "import lightgbm as lgb\n",
    "from sklearn.model_selection import train_test_split"
   ]
  },
  {
   "cell_type": "code",
   "execution_count": 10,
   "metadata": {},
   "outputs": [],
   "source": [
    "X = df[['x', 'y']]\n",
    "y = df['label']\n",
    "X_train, X_valid, y_train, y_valid= train_test_split(X, y, random_state = 0)\n",
    "lgb_train = lgb.Dataset(X_train, y_train)\n",
    "lgb_eval = lgb.Dataset(X_valid, y_valid, reference=lgb_train)"
   ]
  },
  {
   "cell_type": "code",
   "execution_count": 11,
   "metadata": {
    "collapsed": true
   },
   "outputs": [],
   "source": [
    "lgbm_params = {\n",
    "    'learning_rate': 0.2,\n",
    "    'num_leaves': 8,\n",
    "    'boosting_type': 'gbdt',\n",
    "    'reg_alpha': 1,\n",
    "    'reg_lambda': 1,\n",
    "    'objective': 'regression',\n",
    "    'metric': 'mae',\n",
    "}"
   ]
  },
  {
   "cell_type": "code",
   "execution_count": 12,
   "metadata": {
    "scrolled": false
   },
   "outputs": [
    {
     "name": "stdout",
     "output_type": "stream",
     "text": [
      "[1]\tvalid_0's l1: 0.476084\n",
      "Training until validation scores don't improve for 10 rounds.\n",
      "[2]\tvalid_0's l1: 0.437051\n",
      "[3]\tvalid_0's l1: 0.406789\n",
      "[4]\tvalid_0's l1: 0.37356\n",
      "[5]\tvalid_0's l1: 0.34651\n",
      "[6]\tvalid_0's l1: 0.330441\n",
      "[7]\tvalid_0's l1: 0.316853\n",
      "[8]\tvalid_0's l1: 0.300737\n",
      "[9]\tvalid_0's l1: 0.291291\n",
      "[10]\tvalid_0's l1: 0.281345\n",
      "[11]\tvalid_0's l1: 0.273023\n",
      "[12]\tvalid_0's l1: 0.268547\n",
      "[13]\tvalid_0's l1: 0.261027\n",
      "[14]\tvalid_0's l1: 0.254583\n",
      "[15]\tvalid_0's l1: 0.251495\n",
      "[16]\tvalid_0's l1: 0.247887\n",
      "[17]\tvalid_0's l1: 0.246059\n",
      "[18]\tvalid_0's l1: 0.244242\n",
      "[19]\tvalid_0's l1: 0.243239\n",
      "[20]\tvalid_0's l1: 0.242764\n",
      "[21]\tvalid_0's l1: 0.241326\n",
      "[22]\tvalid_0's l1: 0.241065\n",
      "[23]\tvalid_0's l1: 0.240601\n",
      "[24]\tvalid_0's l1: 0.239649\n",
      "[25]\tvalid_0's l1: 0.239304\n",
      "[26]\tvalid_0's l1: 0.238566\n",
      "[27]\tvalid_0's l1: 0.238323\n",
      "[28]\tvalid_0's l1: 0.238689\n",
      "[29]\tvalid_0's l1: 0.238708\n",
      "[30]\tvalid_0's l1: 0.240317\n",
      "[31]\tvalid_0's l1: 0.238565\n",
      "[32]\tvalid_0's l1: 0.237113\n",
      "[33]\tvalid_0's l1: 0.236891\n",
      "[34]\tvalid_0's l1: 0.236628\n",
      "[35]\tvalid_0's l1: 0.236156\n",
      "[36]\tvalid_0's l1: 0.234723\n",
      "[37]\tvalid_0's l1: 0.234888\n",
      "[38]\tvalid_0's l1: 0.235045\n",
      "[39]\tvalid_0's l1: 0.234393\n",
      "[40]\tvalid_0's l1: 0.234383\n",
      "[41]\tvalid_0's l1: 0.234793\n",
      "[42]\tvalid_0's l1: 0.234284\n",
      "[43]\tvalid_0's l1: 0.234369\n",
      "[44]\tvalid_0's l1: 0.234077\n",
      "[45]\tvalid_0's l1: 0.234418\n",
      "[46]\tvalid_0's l1: 0.234264\n",
      "[47]\tvalid_0's l1: 0.234148\n",
      "[48]\tvalid_0's l1: 0.233698\n",
      "[49]\tvalid_0's l1: 0.233469\n",
      "[50]\tvalid_0's l1: 0.233469\n",
      "[51]\tvalid_0's l1: 0.233799\n",
      "[52]\tvalid_0's l1: 0.233442\n",
      "[53]\tvalid_0's l1: 0.232734\n",
      "[54]\tvalid_0's l1: 0.232772\n",
      "[55]\tvalid_0's l1: 0.23312\n",
      "[56]\tvalid_0's l1: 0.233198\n",
      "[57]\tvalid_0's l1: 0.23326\n",
      "[58]\tvalid_0's l1: 0.232598\n",
      "[59]\tvalid_0's l1: 0.232206\n",
      "[60]\tvalid_0's l1: 0.232423\n",
      "[61]\tvalid_0's l1: 0.23239\n",
      "[62]\tvalid_0's l1: 0.232647\n",
      "[63]\tvalid_0's l1: 0.23232\n",
      "[64]\tvalid_0's l1: 0.232348\n",
      "[65]\tvalid_0's l1: 0.232144\n",
      "[66]\tvalid_0's l1: 0.232008\n",
      "[67]\tvalid_0's l1: 0.231981\n",
      "[68]\tvalid_0's l1: 0.231977\n",
      "[69]\tvalid_0's l1: 0.232339\n",
      "[70]\tvalid_0's l1: 0.232632\n",
      "[71]\tvalid_0's l1: 0.232813\n",
      "[72]\tvalid_0's l1: 0.232566\n",
      "[73]\tvalid_0's l1: 0.232595\n",
      "[74]\tvalid_0's l1: 0.232537\n",
      "[75]\tvalid_0's l1: 0.2323\n",
      "[76]\tvalid_0's l1: 0.2321\n",
      "[77]\tvalid_0's l1: 0.23222\n",
      "[78]\tvalid_0's l1: 0.232087\n",
      "Early stopping, best iteration is:\n",
      "[68]\tvalid_0's l1: 0.231977\n"
     ]
    }
   ],
   "source": [
    "# 上記のパラメータでモデルを学習する\n",
    "model = lgb.train(\n",
    "    lgbm_params, lgb_train,\n",
    "    # モデルの評価用データを渡す\n",
    "    valid_sets=lgb_eval,\n",
    "    # 最大で 1000 ラウンドまで学習する\n",
    "    num_boost_round=1000,\n",
    "    # 10 ラウンド経過しても性能が向上しないときは学習を打ち切る\n",
    "    early_stopping_rounds=10,\n",
    ")"
   ]
  },
  {
   "cell_type": "code",
   "execution_count": 13,
   "metadata": {},
   "outputs": [
    {
     "data": {
      "text/plain": [
       "<matplotlib.axes._subplots.AxesSubplot at 0x1a19e695c0>"
      ]
     },
     "execution_count": 13,
     "metadata": {},
     "output_type": "execute_result"
    },
    {
     "data": {
      "image/png": "[encoded data removed]",
      "text/plain": [
       "<matplotlib.figure.Figure at 0x1a19e69588>"
      ]
     },
     "metadata": {},
     "output_type": "display_data"
    }
   ],
   "source": [
    "plt.figure(figsize=(10,10))\n",
    "plt.xticks(color=\"None\")\n",
    "plt.yticks(color=\"None\")\n",
    "plt.tick_params(length=0)\n",
    "plot_decision_regions(np.array(X), np.array(y), clf=model, res=0.02, legend=2, colors='limegreen,white,brown')"
   ]
  },
  {
   "cell_type": "code",
   "execution_count": null,
   "metadata": {
    "collapsed": true
   },
   "outputs": [],
   "source": []
  }
 ],
 "metadata": {
  "kernelspec": {
   "display_name": "Python 3",
   "language": "python",
   "name": "python3"
  },
  "language_info": {
   "codemirror_mode": {
    "name": "ipython",
    "version": 3
   },
   "file_extension": ".py",
   "mimetype": "text/x-python",
   "name": "python",
   "nbconvert_exporter": "python",
   "pygments_lexer": "ipython3",
   "version": "3.6.2"
  }
 },
 "nbformat": 4,
 "nbformat_minor": 2
}
