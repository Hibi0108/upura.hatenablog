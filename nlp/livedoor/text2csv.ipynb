{
 "cells": [
  {
   "cell_type": "code",
   "execution_count": 1,
   "metadata": {},
   "outputs": [
    {
     "data": {
      "text/html": [
       "<style>.container { width:100% !important; }</style>"
      ],
      "text/plain": [
       "<IPython.core.display.HTML object>"
      ]
     },
     "metadata": {},
     "output_type": "display_data"
    }
   ],
   "source": [
    "from IPython.core.display import display, HTML \n",
    "display(HTML(\"<style>.container { width:100% !important; }</style>\"))\n",
    "import pandas as pd\n",
    "import matplotlib.pyplot as plt\n",
    "from fastprogress import master_bar, progress_bar\n",
    "%matplotlib inline"
   ]
  },
  {
   "cell_type": "code",
   "execution_count": 2,
   "metadata": {},
   "outputs": [
    {
     "data": {
      "text/plain": [
       "<torch._C.Generator at 0x110f25090>"
      ]
     },
     "execution_count": 2,
     "metadata": {},
     "output_type": "execute_result"
    }
   ],
   "source": [
    "import torch\n",
    "from torch import nn\n",
    "from torch.autograd import Variable\n",
    "import numpy as np\n",
    "# import matplotlib.pyplot as plt\n",
    "plt.rcParams['font.family'] = 'IPAPGothic'\n",
    "# %matplotlib inline\n",
    "\n",
    "torch.manual_seed(1)    # reproducible\n",
    "# from fastprogress import master_bar, progress_bar"
   ]
  },
  {
   "cell_type": "code",
   "execution_count": 3,
   "metadata": {
    "collapsed": true
   },
   "outputs": [],
   "source": [
    "import codecs\n",
    "import glob\n",
    "import MeCab\n",
    "import pandas as pd"
   ]
  },
  {
   "cell_type": "code",
   "execution_count": 4,
   "metadata": {
    "collapsed": true
   },
   "outputs": [],
   "source": [
    "tagger = MeCab.Tagger(\"-Ochasen\")"
   ]
  },
  {
   "cell_type": "code",
   "execution_count": 5,
   "metadata": {
    "collapsed": true
   },
   "outputs": [],
   "source": [
    "def get_morphemes(fpath):\n",
    "    \"\"\" Get morphemes\n",
    "    :param fpath: file path\n",
    "    :return: result of morphological analysis, -1 indicates error\n",
    "    \"\"\"\n",
    "    data = read_file(fpath)\n",
    "    morphemes = tokenzier(data)\n",
    "    return morphemes if morphemes else -1\n",
    "\n",
    "def read_file(fpath):\n",
    "    \"\"\" Read file\n",
    "    :param fpath: file path\n",
    "    :return: file content of live door news corpus\n",
    "    \"\"\"\n",
    "    with codecs.open(fpath, 'r', 'utf-8') as f:\n",
    "        return \"\\n\".join(f.read().splitlines()[2:])\n",
    "\n",
    "def tokenzier(sentences):\n",
    "    \"\"\" Morphological analysis\n",
    "    :param sentences: strings in the article\n",
    "    :return: morphemes\n",
    "    \"\"\"\n",
    "    tag = tagger.parseToNode(sentences)\n",
    "    morphemes = []\n",
    "    while tag:\n",
    "        features = tag.feature.split(\",\")\n",
    "        if features[0] == \"名詞\":\n",
    "            morphemes.append(tag.surface.lower())\n",
    "        tag = tag.next\n",
    "    return morphemes"
   ]
  },
  {
   "cell_type": "code",
   "execution_count": 6,
   "metadata": {
    "collapsed": true
   },
   "outputs": [],
   "source": [
    "path = \"text/\"\n",
    "ldcc = [\"dokujo-tsushin\",\"it-life-hack\",\"kaden-channel\",\"livedoor-homme\",\n",
    "        \"movie-enter\",\"peachy\",\"smax\",\"sports-watch\",\"topic-news\"]\n",
    "ldcc2id = {v: k for k, v in enumerate(ldcc)}"
   ]
  },
  {
   "cell_type": "code",
   "execution_count": 7,
   "metadata": {},
   "outputs": [
    {
     "data": {
      "text/html": [
       "<div>\n",
       "<style>\n",
       "    .dataframe thead tr:only-child th {\n",
       "        text-align: right;\n",
       "    }\n",
       "\n",
       "    .dataframe thead th {\n",
       "        text-align: left;\n",
       "    }\n",
       "\n",
       "    .dataframe tbody tr th {\n",
       "        vertical-align: top;\n",
       "    }\n",
       "</style>\n",
       "<table border=\"1\" class=\"dataframe\">\n",
       "  <thead>\n",
       "    <tr style=\"text-align: right;\">\n",
       "      <th></th>\n",
       "      <th>class</th>\n",
       "      <th>news</th>\n",
       "    </tr>\n",
       "  </thead>\n",
       "  <tbody>\n",
       "  </tbody>\n",
       "</table>\n",
       "</div>"
      ],
      "text/plain": [
       "Empty DataFrame\n",
       "Columns: [class, news]\n",
       "Index: []"
      ]
     },
     "execution_count": 7,
     "metadata": {},
     "output_type": "execute_result"
    }
   ],
   "source": [
    "df = pd.DataFrame(columns=[\"class\", \"news\"])\n",
    "df.head()"
   ]
  },
  {
   "cell_type": "code",
   "execution_count": 8,
   "metadata": {
    "scrolled": true
   },
   "outputs": [
    {
     "name": "stdout",
     "output_type": "stream",
     "text": [
      "done\n"
     ]
    }
   ],
   "source": [
    "for d, i in ldcc2id.items():\n",
    "    flist = glob.glob(path + d + \"/*.txt\")\n",
    "    flist.remove(path + d + \"/LICENSE.txt\")\n",
    "    for fpath in flist:\n",
    "        morphemes = get_morphemes(fpath)\n",
    "        if morphemes == -1:\n",
    "            continue\n",
    "        temp = pd.Series([i, \" \".join(morphemes)], index=df.columns)\n",
    "        df = df.append(temp, ignore_index=True)\n",
    "print('done')"
   ]
  },
  {
   "cell_type": "code",
   "execution_count": 9,
   "metadata": {},
   "outputs": [
    {
     "data": {
      "text/plain": [
       "7367"
      ]
     },
     "execution_count": 9,
     "metadata": {},
     "output_type": "execute_result"
    }
   ],
   "source": [
    "len(df)"
   ]
  },
  {
   "cell_type": "code",
   "execution_count": 15,
   "metadata": {},
   "outputs": [
    {
     "data": {
      "text/html": [
       "<div>\n",
       "<style>\n",
       "    .dataframe thead tr:only-child th {\n",
       "        text-align: right;\n",
       "    }\n",
       "\n",
       "    .dataframe thead th {\n",
       "        text-align: left;\n",
       "    }\n",
       "\n",
       "    .dataframe tbody tr th {\n",
       "        vertical-align: top;\n",
       "    }\n",
       "</style>\n",
       "<table border=\"1\" class=\"dataframe\">\n",
       "  <thead>\n",
       "    <tr style=\"text-align: right;\">\n",
       "      <th></th>\n",
       "      <th>class</th>\n",
       "      <th>news</th>\n",
       "    </tr>\n",
       "  </thead>\n",
       "  <tbody>\n",
       "    <tr>\n",
       "      <th>0</th>\n",
       "      <td>0</td>\n",
       "      <td>タニタに続き、第二弾！ 話題の社員食堂は家庭薬膳\\nタニタだけじゃない。2008年から社員食...</td>\n",
       "    </tr>\n",
       "    <tr>\n",
       "      <th>1</th>\n",
       "      <td>0</td>\n",
       "      <td>マスクで顔を隠す独女たち\\n東京・渋谷のセンター街でマスク姿の10〜30代の男女100人にア...</td>\n",
       "    </tr>\n",
       "    <tr>\n",
       "      <th>2</th>\n",
       "      <td>0</td>\n",
       "      <td>薄っぺらい親友関係が増殖中？ 女の友情はきょわい〜！？\\nあなたは親友と呼べる友達がいるだろ...</td>\n",
       "    </tr>\n",
       "    <tr>\n",
       "      <th>3</th>\n",
       "      <td>0</td>\n",
       "      <td>オトナ女子映画部】“隙だらけ”のウザい女に学ぶ男心のつかみ方『乱暴と待機』\\n互いに好意を持...</td>\n",
       "    </tr>\n",
       "    <tr>\n",
       "      <th>4</th>\n",
       "      <td>0</td>\n",
       "      <td>女医が教えるオンナの体のウソホント vol.10「体の変化とホルモン分泌の周期」presen...</td>\n",
       "    </tr>\n",
       "  </tbody>\n",
       "</table>\n",
       "</div>"
      ],
      "text/plain": [
       "  class                                               news\n",
       "0     0  タニタに続き、第二弾！ 話題の社員食堂は家庭薬膳\\nタニタだけじゃない。2008年から社員食...\n",
       "1     0  マスクで顔を隠す独女たち\\n東京・渋谷のセンター街でマスク姿の10〜30代の男女100人にア...\n",
       "2     0  薄っぺらい親友関係が増殖中？ 女の友情はきょわい〜！？\\nあなたは親友と呼べる友達がいるだろ...\n",
       "3     0  オトナ女子映画部】“隙だらけ”のウザい女に学ぶ男心のつかみ方『乱暴と待機』\\n互いに好意を持...\n",
       "4     0  女医が教えるオンナの体のウソホント vol.10「体の変化とホルモン分泌の周期」presen..."
      ]
     },
     "execution_count": 15,
     "metadata": {},
     "output_type": "execute_result"
    }
   ],
   "source": [
    "df.head()"
   ]
  },
  {
   "cell_type": "code",
   "execution_count": 11,
   "metadata": {
    "collapsed": true
   },
   "outputs": [],
   "source": [
    "# df.to_csv(\"livedoor_news.csv\", index=False)"
   ]
  },
  {
   "cell_type": "code",
   "execution_count": 12,
   "metadata": {
    "collapsed": true
   },
   "outputs": [],
   "source": [
    "# news = pd.read_csv(\"livedoor_news.csv\")"
   ]
  },
  {
   "cell_type": "code",
   "execution_count": 13,
   "metadata": {
    "collapsed": true
   },
   "outputs": [],
   "source": [
    "# news.head()"
   ]
  },
  {
   "cell_type": "code",
   "execution_count": 16,
   "metadata": {
    "collapsed": true
   },
   "outputs": [],
   "source": [
    "df.to_csv('livedoor_news.csv')"
   ]
  },
  {
   "cell_type": "code",
   "execution_count": null,
   "metadata": {
    "collapsed": true
   },
   "outputs": [],
   "source": []
  }
 ],
 "metadata": {
  "kernelspec": {
   "display_name": "Python 3",
   "language": "python",
   "name": "python3"
  },
  "language_info": {
   "codemirror_mode": {
    "name": "ipython",
    "version": 3
   },
   "file_extension": ".py",
   "mimetype": "text/x-python",
   "name": "python",
   "nbconvert_exporter": "python",
   "pygments_lexer": "ipython3",
   "version": "3.6.8"
  }
 },
 "nbformat": 4,
 "nbformat_minor": 2
}
