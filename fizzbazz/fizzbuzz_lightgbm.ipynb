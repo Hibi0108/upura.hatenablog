{
 "cells": [
  {
   "cell_type": "markdown",
   "metadata": {},
   "source": [
    "http://joelgrus.com/2016/05/23/fizz-buzz-in-tensorflow/"
   ]
  },
  {
   "cell_type": "code",
   "execution_count": 1,
   "metadata": {
    "collapsed": true
   },
   "outputs": [],
   "source": [
    "import numpy as np\n",
    "import lightgbm as lgb"
   ]
  },
  {
   "cell_type": "code",
   "execution_count": 2,
   "metadata": {
    "collapsed": true
   },
   "outputs": [],
   "source": [
    "def binary_encode(i, num_digits):\n",
    "    return np.array([i >> d & 1 for d in range(num_digits)])\n",
    "\n",
    "def fizz_buzz_encode(i):\n",
    "    if   i % 15 == 0: return 3\n",
    "    elif i % 5  == 0: return 2\n",
    "    elif i % 3  == 0: return 1\n",
    "    else:             return 0\n",
    "\n",
    "def fizz_buzz(i, prediction):\n",
    "    return [str(i), \"fizz\", \"buzz\", \"fizzbuzz\"][prediction]\n"
   ]
  },
  {
   "cell_type": "code",
   "execution_count": 3,
   "metadata": {
    "collapsed": true
   },
   "outputs": [],
   "source": [
    "NUM_DIGITS = 10\n",
    "NUM_DATA = 15\n",
    "X = np.array([binary_encode(i, NUM_DIGITS) for i in range(101, 2 ** NUM_DATA)])\n",
    "y = np.array([fizz_buzz_encode(i) for i in range(101, 2 ** NUM_DATA)])"
   ]
  },
  {
   "cell_type": "code",
   "execution_count": 4,
   "metadata": {
    "scrolled": false
   },
   "outputs": [
    {
     "data": {
      "text/plain": [
       "(32667, 10)"
      ]
     },
     "execution_count": 4,
     "metadata": {},
     "output_type": "execute_result"
    }
   ],
   "source": [
    "X.shape"
   ]
  },
  {
   "cell_type": "code",
   "execution_count": 5,
   "metadata": {
    "collapsed": true
   },
   "outputs": [],
   "source": [
    "X_train = X[100:]\n",
    "y_train = y[100:]\n",
    "X_valid = X[:100]\n",
    "y_valid = y[:100]"
   ]
  },
  {
   "cell_type": "code",
   "execution_count": 6,
   "metadata": {},
   "outputs": [
    {
     "data": {
      "text/plain": [
       "Counter({0: 17369, 1: 8685, 2: 4342, 3: 2171})"
      ]
     },
     "execution_count": 6,
     "metadata": {},
     "output_type": "execute_result"
    }
   ],
   "source": [
    "import collections\n",
    "collections.Counter(list(y_train))"
   ]
  },
  {
   "cell_type": "code",
   "execution_count": 7,
   "metadata": {
    "collapsed": true
   },
   "outputs": [],
   "source": [
    "lgbm_params = {\n",
    "    'learning_rate': 0.1,\n",
    "    'num_leaves': 8,\n",
    "    'boosting_type' : 'gbdt',\n",
    "    'objective': 'multiclass',\n",
    "    'num_class': 4,\n",
    "}\n",
    "\n",
    "def lgbm_train(X_train_df, X_valid_df, y_train_df, y_valid_df, lgbm_params):\n",
    "    lgb_train = lgb.Dataset(X_train_df, y_train_df)\n",
    "    lgb_eval = lgb.Dataset(X_valid_df, y_valid_df, reference=lgb_train)\n",
    "\n",
    "    # 上記のパラメータでモデルを学習する\n",
    "    model = lgb.train(lgbm_params, lgb_train,\n",
    "                      # モデルの評価用データを渡す\n",
    "                      valid_sets=lgb_eval,\n",
    "                      # 最大で 1000 ラウンドまで学習する\n",
    "                      num_boost_round=1000,\n",
    "                      # 10 ラウンド経過しても性能が向上しないときは学習を打ち切る\n",
    "                      early_stopping_rounds=10)\n",
    "    \n",
    "    return model"
   ]
  },
  {
   "cell_type": "code",
   "execution_count": 8,
   "metadata": {},
   "outputs": [
    {
     "name": "stdout",
     "output_type": "stream",
     "text": [
      "[1]\tvalid_0's multi_logloss: 1.35302\n",
      "Training until validation scores don't improve for 10 rounds.\n",
      "[2]\tvalid_0's multi_logloss: 1.32463\n",
      "[3]\tvalid_0's multi_logloss: 1.30028\n",
      "[4]\tvalid_0's multi_logloss: 1.27931\n",
      "[5]\tvalid_0's multi_logloss: 1.2612\n",
      "[6]\tvalid_0's multi_logloss: 1.24547\n",
      "[7]\tvalid_0's multi_logloss: 1.2318\n",
      "[8]\tvalid_0's multi_logloss: 1.21991\n",
      "[9]\tvalid_0's multi_logloss: 1.20953\n",
      "[10]\tvalid_0's multi_logloss: 1.20044\n",
      "[11]\tvalid_0's multi_logloss: 1.19252\n",
      "[12]\tvalid_0's multi_logloss: 1.18556\n",
      "[13]\tvalid_0's multi_logloss: 1.17948\n",
      "[14]\tvalid_0's multi_logloss: 1.17414\n",
      "[15]\tvalid_0's multi_logloss: 1.16946\n",
      "[16]\tvalid_0's multi_logloss: 1.16539\n",
      "[17]\tvalid_0's multi_logloss: 1.16178\n",
      "[18]\tvalid_0's multi_logloss: 1.15861\n",
      "[19]\tvalid_0's multi_logloss: 1.15585\n",
      "[20]\tvalid_0's multi_logloss: 1.15346\n",
      "[21]\tvalid_0's multi_logloss: 1.15135\n",
      "[22]\tvalid_0's multi_logloss: 1.14947\n",
      "[23]\tvalid_0's multi_logloss: 1.1478\n",
      "[24]\tvalid_0's multi_logloss: 1.14634\n",
      "[25]\tvalid_0's multi_logloss: 1.14508\n",
      "[26]\tvalid_0's multi_logloss: 1.14394\n",
      "[27]\tvalid_0's multi_logloss: 1.14297\n",
      "[28]\tvalid_0's multi_logloss: 1.14204\n",
      "[29]\tvalid_0's multi_logloss: 1.14124\n",
      "[30]\tvalid_0's multi_logloss: 1.14054\n",
      "[31]\tvalid_0's multi_logloss: 1.13992\n",
      "[32]\tvalid_0's multi_logloss: 1.13938\n",
      "[33]\tvalid_0's multi_logloss: 1.13887\n",
      "[34]\tvalid_0's multi_logloss: 1.13843\n",
      "[35]\tvalid_0's multi_logloss: 1.13806\n",
      "[36]\tvalid_0's multi_logloss: 1.13774\n",
      "[37]\tvalid_0's multi_logloss: 1.13744\n",
      "[38]\tvalid_0's multi_logloss: 1.13723\n",
      "[39]\tvalid_0's multi_logloss: 1.13702\n",
      "[40]\tvalid_0's multi_logloss: 1.1368\n",
      "[41]\tvalid_0's multi_logloss: 1.13661\n",
      "[42]\tvalid_0's multi_logloss: 1.13646\n",
      "[43]\tvalid_0's multi_logloss: 1.13632\n",
      "[44]\tvalid_0's multi_logloss: 1.13622\n",
      "[45]\tvalid_0's multi_logloss: 1.13609\n",
      "[46]\tvalid_0's multi_logloss: 1.13594\n",
      "[47]\tvalid_0's multi_logloss: 1.13588\n",
      "[48]\tvalid_0's multi_logloss: 1.13584\n",
      "[49]\tvalid_0's multi_logloss: 1.13581\n",
      "[50]\tvalid_0's multi_logloss: 1.13577\n",
      "[51]\tvalid_0's multi_logloss: 1.13573\n",
      "[52]\tvalid_0's multi_logloss: 1.13568\n",
      "[53]\tvalid_0's multi_logloss: 1.13565\n",
      "[54]\tvalid_0's multi_logloss: 1.1356\n",
      "[55]\tvalid_0's multi_logloss: 1.13563\n",
      "[56]\tvalid_0's multi_logloss: 1.13561\n",
      "[57]\tvalid_0's multi_logloss: 1.13558\n",
      "[58]\tvalid_0's multi_logloss: 1.13555\n",
      "[59]\tvalid_0's multi_logloss: 1.13553\n",
      "[60]\tvalid_0's multi_logloss: 1.13552\n",
      "[61]\tvalid_0's multi_logloss: 1.13551\n",
      "[62]\tvalid_0's multi_logloss: 1.1354\n",
      "[63]\tvalid_0's multi_logloss: 1.1354\n",
      "[64]\tvalid_0's multi_logloss: 1.13535\n",
      "[65]\tvalid_0's multi_logloss: 1.13529\n",
      "[66]\tvalid_0's multi_logloss: 1.13518\n",
      "[67]\tvalid_0's multi_logloss: 1.13518\n",
      "[68]\tvalid_0's multi_logloss: 1.13509\n",
      "[69]\tvalid_0's multi_logloss: 1.13502\n",
      "[70]\tvalid_0's multi_logloss: 1.13494\n",
      "[71]\tvalid_0's multi_logloss: 1.13494\n",
      "[72]\tvalid_0's multi_logloss: 1.13486\n",
      "[73]\tvalid_0's multi_logloss: 1.13479\n",
      "[74]\tvalid_0's multi_logloss: 1.13472\n",
      "[75]\tvalid_0's multi_logloss: 1.13473\n",
      "[76]\tvalid_0's multi_logloss: 1.13466\n",
      "[77]\tvalid_0's multi_logloss: 1.13457\n",
      "[78]\tvalid_0's multi_logloss: 1.13454\n",
      "[79]\tvalid_0's multi_logloss: 1.13453\n",
      "[80]\tvalid_0's multi_logloss: 1.13448\n",
      "[81]\tvalid_0's multi_logloss: 1.13444\n",
      "[82]\tvalid_0's multi_logloss: 1.13443\n",
      "[83]\tvalid_0's multi_logloss: 1.13437\n",
      "[84]\tvalid_0's multi_logloss: 1.13432\n",
      "[85]\tvalid_0's multi_logloss: 1.13434\n",
      "[86]\tvalid_0's multi_logloss: 1.13426\n",
      "[87]\tvalid_0's multi_logloss: 1.13418\n",
      "[88]\tvalid_0's multi_logloss: 1.13418\n",
      "[89]\tvalid_0's multi_logloss: 1.13415\n",
      "[90]\tvalid_0's multi_logloss: 1.13417\n",
      "[91]\tvalid_0's multi_logloss: 1.13414\n",
      "[92]\tvalid_0's multi_logloss: 1.13411\n",
      "[93]\tvalid_0's multi_logloss: 1.13413\n",
      "[94]\tvalid_0's multi_logloss: 1.13415\n",
      "[95]\tvalid_0's multi_logloss: 1.13416\n",
      "[96]\tvalid_0's multi_logloss: 1.13418\n",
      "[97]\tvalid_0's multi_logloss: 1.13414\n",
      "[98]\tvalid_0's multi_logloss: 1.13415\n",
      "[99]\tvalid_0's multi_logloss: 1.13414\n",
      "[100]\tvalid_0's multi_logloss: 1.13416\n",
      "[101]\tvalid_0's multi_logloss: 1.13413\n",
      "[102]\tvalid_0's multi_logloss: 1.13415\n",
      "Early stopping, best iteration is:\n",
      "[92]\tvalid_0's multi_logloss: 1.13411\n"
     ]
    }
   ],
   "source": [
    "model = lgbm_train(X_train, X_valid, y_train, y_valid, lgbm_params)"
   ]
  },
  {
   "cell_type": "code",
   "execution_count": 9,
   "metadata": {
    "collapsed": true
   },
   "outputs": [],
   "source": [
    "numbers = np.arange(1, 101)\n",
    "X_test = np.transpose(binary_encode(numbers, NUM_DIGITS))"
   ]
  },
  {
   "cell_type": "code",
   "execution_count": 10,
   "metadata": {},
   "outputs": [],
   "source": [
    "y_pred = model.predict(X_test, num_iteration=model.best_iteration)\n",
    "y_pred_max = np.argmax(y_pred, axis=1)"
   ]
  },
  {
   "cell_type": "code",
   "execution_count": 11,
   "metadata": {},
   "outputs": [
    {
     "data": {
      "text/plain": [
       "array([0, 0, 0, 0, 0, 0, 0, 0, 0, 0, 0, 0, 0, 0, 0, 0, 0, 0, 0, 0, 0, 0, 0,\n",
       "       0, 0, 0, 0, 0, 0, 0, 0, 0, 0, 0, 0, 0, 0, 0, 0, 0, 0, 0, 0, 0, 0, 0,\n",
       "       0, 0, 0, 0, 0, 0, 0, 0, 0, 0, 0, 0, 0, 0, 0, 0, 0, 0, 0, 0, 0, 0, 0,\n",
       "       0, 0, 0, 0, 0, 0, 0, 0, 0, 0, 0, 0, 0, 0, 0, 0, 0, 0, 0, 0, 0, 0, 0,\n",
       "       0, 0, 0, 0, 0, 0, 0, 0])"
      ]
     },
     "execution_count": 11,
     "metadata": {},
     "output_type": "execute_result"
    }
   ],
   "source": [
    "y_pred_max"
   ]
  },
  {
   "cell_type": "code",
   "execution_count": 12,
   "metadata": {
    "collapsed": true
   },
   "outputs": [],
   "source": [
    "output = np.vectorize(fizz_buzz)(numbers, y_pred_max)"
   ]
  },
  {
   "cell_type": "code",
   "execution_count": 13,
   "metadata": {},
   "outputs": [
    {
     "data": {
      "text/plain": [
       "array(['1', '2', '3', '4', '5', '6', '7', '8', '9', '10', '11', '12', '13',\n",
       "       '14', '15', '16', '17', '18', '19', '20', '21', '22', '23', '24',\n",
       "       '25', '26', '27', '28', '29', '30', '31', '32', '33', '34', '35',\n",
       "       '36', '37', '38', '39', '40', '41', '42', '43', '44', '45', '46',\n",
       "       '47', '48', '49', '50', '51', '52', '53', '54', '55', '56', '57',\n",
       "       '58', '59', '60', '61', '62', '63', '64', '65', '66', '67', '68',\n",
       "       '69', '70', '71', '72', '73', '74', '75', '76', '77', '78', '79',\n",
       "       '80', '81', '82', '83', '84', '85', '86', '87', '88', '89', '90',\n",
       "       '91', '92', '93', '94', '95', '96', '97', '98', '99', '100'],\n",
       "      dtype='<U3')"
      ]
     },
     "execution_count": 13,
     "metadata": {},
     "output_type": "execute_result"
    }
   ],
   "source": [
    "output"
   ]
  },
  {
   "cell_type": "code",
   "execution_count": null,
   "metadata": {
    "collapsed": true
   },
   "outputs": [],
   "source": []
  }
 ],
 "metadata": {
  "kernelspec": {
   "display_name": "Python 3",
   "language": "python",
   "name": "python3"
  },
  "language_info": {
   "codemirror_mode": {
    "name": "ipython",
    "version": 3
   },
   "file_extension": ".py",
   "mimetype": "text/x-python",
   "name": "python",
   "nbconvert_exporter": "python",
   "pygments_lexer": "ipython3",
   "version": "3.6.6"
  }
 },
 "nbformat": 4,
 "nbformat_minor": 2
}
