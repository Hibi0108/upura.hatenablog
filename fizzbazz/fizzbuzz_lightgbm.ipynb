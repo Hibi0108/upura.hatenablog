{
 "cells": [
  {
   "cell_type": "markdown",
   "metadata": {},
   "source": [
    "http://joelgrus.com/2016/05/23/fizz-buzz-in-tensorflow/"
   ]
  },
  {
   "cell_type": "code",
   "execution_count": 1,
   "metadata": {
    "collapsed": true
   },
   "outputs": [],
   "source": [
    "import numpy as np\n",
    "import lightgbm as lgb"
   ]
  },
  {
   "cell_type": "code",
   "execution_count": 2,
   "metadata": {
    "collapsed": true
   },
   "outputs": [],
   "source": [
    "def binary_encode(i, num_digits):\n",
    "    return np.array([i >> d & 1 for d in range(num_digits)])\n",
    "\n",
    "def fizz_buzz_encode(i):\n",
    "    if   i % 15 == 0: return 3\n",
    "    elif i % 5  == 0: return 2\n",
    "    elif i % 3  == 0: return 1\n",
    "    else: return 0\n",
    "\n",
    "def fizz_buzz(i, prediction):\n",
    "    return [str(i), \"fizz\", \"buzz\", \"fizzbuzz\"][prediction]\n"
   ]
  },
  {
   "cell_type": "code",
   "execution_count": 3,
   "metadata": {
    "collapsed": true
   },
   "outputs": [],
   "source": [
    "NUM_DIGITS = 10\n",
    "NUM_DATA = 12\n",
    "X = np.array([binary_encode(i, NUM_DIGITS) for i in range(101, 2 ** NUM_DATA)])\n",
    "y = np.array([fizz_buzz_encode(i) for i in range(101, 2 ** NUM_DATA)])"
   ]
  },
  {
   "cell_type": "code",
   "execution_count": 4,
   "metadata": {},
   "outputs": [
    {
     "data": {
      "text/plain": [
       "(3995, 10)"
      ]
     },
     "execution_count": 4,
     "metadata": {},
     "output_type": "execute_result"
    }
   ],
   "source": [
    "X.shape"
   ]
  },
  {
   "cell_type": "code",
   "execution_count": 5,
   "metadata": {
    "scrolled": true
   },
   "outputs": [
    {
     "data": {
      "text/plain": [
       "(array([1, 0, 1, 0, 0, 1, 1, 0, 0, 0]), 0)"
      ]
     },
     "execution_count": 5,
     "metadata": {},
     "output_type": "execute_result"
    }
   ],
   "source": [
    "X[0], y[0]"
   ]
  },
  {
   "cell_type": "code",
   "execution_count": 6,
   "metadata": {
    "collapsed": true
   },
   "outputs": [],
   "source": [
    "X_train = X[100:]\n",
    "y_train = y[100:]\n",
    "X_valid = X[:100]\n",
    "y_valid = y[:100]"
   ]
  },
  {
   "cell_type": "code",
   "execution_count": 7,
   "metadata": {},
   "outputs": [
    {
     "data": {
      "text/plain": [
       "Counter({0: 2077, 1: 1039, 2: 519, 3: 260})"
      ]
     },
     "execution_count": 7,
     "metadata": {},
     "output_type": "execute_result"
    }
   ],
   "source": [
    "import collections\n",
    "c = collections.Counter(list(y_train))\n",
    "c"
   ]
  },
  {
   "cell_type": "code",
   "execution_count": 8,
   "metadata": {
    "scrolled": true
   },
   "outputs": [
    {
     "name": "stdout",
     "output_type": "stream",
     "text": [
      "1.0\n",
      "1.9990375360923964\n",
      "4.001926782273603\n",
      "7.9884615384615385\n"
     ]
    }
   ],
   "source": [
    "rate = []\n",
    "for i in range(4):\n",
    "    rate.append(c[0]/c[i])\n",
    "    print(rate[i])"
   ]
  },
  {
   "cell_type": "code",
   "execution_count": 9,
   "metadata": {},
   "outputs": [],
   "source": [
    "def weights(n):\n",
    "    return(rate[n])\n",
    "\n",
    "w = [weights(i) for i in list(y_train)]"
   ]
  },
  {
   "cell_type": "code",
   "execution_count": 10,
   "metadata": {},
   "outputs": [],
   "source": [
    "lgbm_params = {\n",
    "    'boosting_type' : 'gbdt',\n",
    "    'objective': 'multiclass',\n",
    "    'num_class': 4,\n",
    "    'learning_rate': 0.05,\n",
    "#     'min_child_samples': 5,  # Minimum number of data need in a child(min_data_in_leaf)\n",
    "    'subsample': 0.9,  # Subsample ratio of the training instance.\n",
    "}\n",
    "\n",
    "def lgbm_train(X_train_df, X_valid_df, y_train_df, y_valid_df, lgbm_params):\n",
    "    lgb_train = lgb.Dataset(X_train_df, y_train_df, weight=w)\n",
    "    lgb_eval = lgb.Dataset(X_valid_df, y_valid_df, reference=lgb_train)\n",
    "\n",
    "    # 上記のパラメータでモデルを学習する\n",
    "    model = lgb.train(lgbm_params, lgb_train,\n",
    "                      # モデルの評価用データを渡す\n",
    "                      valid_sets=lgb_eval,\n",
    "                      # 最大で 1000 ラウンドまで学習する\n",
    "                      num_boost_round=1000,\n",
    "                      # 10 ラウンド経過しても性能が向上しないときは学習を打ち切る\n",
    "                      early_stopping_rounds=10)\n",
    "    \n",
    "    return model"
   ]
  },
  {
   "cell_type": "code",
   "execution_count": 11,
   "metadata": {},
   "outputs": [
    {
     "name": "stdout",
     "output_type": "stream",
     "text": [
      "[1]\tvalid_0's multi_logloss: 1.38614\n",
      "Training until validation scores don't improve for 10 rounds.\n",
      "[2]\tvalid_0's multi_logloss: 1.38663\n",
      "[3]\tvalid_0's multi_logloss: 1.38717\n",
      "[4]\tvalid_0's multi_logloss: 1.38791\n",
      "[5]\tvalid_0's multi_logloss: 1.38823\n",
      "[6]\tvalid_0's multi_logloss: 1.3886\n",
      "[7]\tvalid_0's multi_logloss: 1.38918\n",
      "[8]\tvalid_0's multi_logloss: 1.38899\n",
      "[9]\tvalid_0's multi_logloss: 1.3882\n",
      "[10]\tvalid_0's multi_logloss: 1.38796\n",
      "[11]\tvalid_0's multi_logloss: 1.38807\n",
      "Early stopping, best iteration is:\n",
      "[1]\tvalid_0's multi_logloss: 1.38614\n"
     ]
    }
   ],
   "source": [
    "model = lgbm_train(X_train, X_valid, y_train, y_valid, lgbm_params)"
   ]
  },
  {
   "cell_type": "code",
   "execution_count": 12,
   "metadata": {
    "collapsed": true
   },
   "outputs": [],
   "source": [
    "numbers = np.arange(1, 101)\n",
    "X_test = np.transpose(binary_encode(numbers, NUM_DIGITS))"
   ]
  },
  {
   "cell_type": "code",
   "execution_count": 13,
   "metadata": {},
   "outputs": [],
   "source": [
    "y_pred = model.predict(X_test, num_iteration=model.best_iteration)\n",
    "y_pred_max = np.argmax(y_pred, axis=1)"
   ]
  },
  {
   "cell_type": "code",
   "execution_count": 14,
   "metadata": {},
   "outputs": [
    {
     "data": {
      "text/plain": [
       "array([[ 0.24959967,  0.24954961,  0.24953958,  0.25131114],\n",
       "       [ 0.24959967,  0.24954961,  0.24953958,  0.25131114],\n",
       "       [ 0.24959967,  0.24954961,  0.24953958,  0.25131114],\n",
       "       [ 0.24863578,  0.24833873,  0.25475665,  0.24826884],\n",
       "       [ 0.24823994,  0.24846956,  0.25489086,  0.24839964],\n",
       "       [ 0.25155656,  0.25125602,  0.24600211,  0.25118531],\n",
       "       [ 0.25063177,  0.2508636 ,  0.24771164,  0.250793  ],\n",
       "       [ 0.25097065,  0.252981  ,  0.25091023,  0.24513812],\n",
       "       [ 0.24909929,  0.25044801,  0.24903932,  0.25141337],\n",
       "       [ 0.25278928,  0.24756781,  0.25272842,  0.24691448],\n",
       "       [ 0.2493372 ,  0.24973214,  0.24927717,  0.25165349],\n",
       "       [ 0.24753015,  0.24926483,  0.25362379,  0.24958123],\n",
       "       [ 0.24930207,  0.25093406,  0.25598144,  0.24378244],\n",
       "       [ 0.25223375,  0.24677811,  0.24666434,  0.2543238 ],\n",
       "       [ 0.25124469,  0.25475585,  0.24831741,  0.24568205],\n",
       "       [ 0.24977664,  0.24972655,  0.24971651,  0.2507803 ],\n",
       "       [ 0.24977664,  0.24972655,  0.24971651,  0.2507803 ],\n",
       "       [ 0.24977664,  0.24972655,  0.24971651,  0.2507803 ],\n",
       "       [ 0.24977664,  0.24972655,  0.24971651,  0.2507803 ],\n",
       "       [ 0.24845377,  0.24815694,  0.25530219,  0.2480871 ],\n",
       "       [ 0.25116866,  0.25140099,  0.24610011,  0.25133024],\n",
       "       [ 0.25105423,  0.25075429,  0.24750775,  0.25068372],\n",
       "       [ 0.24801474,  0.24824415,  0.25556683,  0.24817429],\n",
       "       [ 0.24884603,  0.25121009,  0.24878612,  0.25115776],\n",
       "       [ 0.24926989,  0.24739205,  0.24920988,  0.25412818],\n",
       "       [ 0.24909929,  0.25044801,  0.24903932,  0.25141337],\n",
       "       [ 0.24870467,  0.2490986 ,  0.24864479,  0.25355194],\n",
       "       [ 0.24926161,  0.25137941,  0.25613229,  0.24322669],\n",
       "       [ 0.25037295,  0.24876652,  0.24532045,  0.25554008],\n",
       "       [ 0.25213832,  0.25325141,  0.24857652,  0.24603375],\n",
       "       [ 0.24673918,  0.25018737,  0.25124213,  0.25183132],\n",
       "       [ 0.24959967,  0.24954961,  0.24953958,  0.25131114],\n",
       "       [ 0.24959967,  0.24954961,  0.24953958,  0.25131114],\n",
       "       [ 0.24959967,  0.24954961,  0.24953958,  0.25131114],\n",
       "       [ 0.24959967,  0.24954961,  0.24953958,  0.25131114],\n",
       "       [ 0.25132984,  0.25102957,  0.24668166,  0.25095892],\n",
       "       [ 0.25065583,  0.25088768,  0.24763941,  0.25081707],\n",
       "       [ 0.24841034,  0.24811355,  0.25543238,  0.24804373],\n",
       "       [ 0.24857701,  0.24880694,  0.25387912,  0.24873692],\n",
       "       [ 0.25278928,  0.24756781,  0.25272842,  0.24691448],\n",
       "       [ 0.2493372 ,  0.24973214,  0.24927717,  0.25165349],\n",
       "       [ 0.25097065,  0.252981  ,  0.25091023,  0.24513812],\n",
       "       [ 0.24896038,  0.25086603,  0.24890043,  0.25127316],\n",
       "       [ 0.2520058 ,  0.2465551 ,  0.24734512,  0.25409397],\n",
       "       [ 0.25126887,  0.25478037,  0.24824507,  0.24570569],\n",
       "       [ 0.24805355,  0.2497919 ,  0.25204559,  0.25010896],\n",
       "       [ 0.24950235,  0.25169517,  0.25482419,  0.24397829],\n",
       "       [ 0.24959967,  0.24954961,  0.24953958,  0.25131114],\n",
       "       [ 0.24959967,  0.24954961,  0.24953958,  0.25131114],\n",
       "       [ 0.24959967,  0.24954961,  0.24953958,  0.25131114],\n",
       "       [ 0.24959967,  0.24954961,  0.24953958,  0.25131114],\n",
       "       [ 0.25105423,  0.25075429,  0.24750775,  0.25068372],\n",
       "       [ 0.24801474,  0.24824415,  0.25556683,  0.24817429],\n",
       "       [ 0.24897321,  0.24867576,  0.25374526,  0.24860577],\n",
       "       [ 0.25189993,  0.25213293,  0.24390516,  0.25206198],\n",
       "       [ 0.24909929,  0.25044801,  0.24903932,  0.25141337],\n",
       "       [ 0.24870467,  0.2490986 ,  0.24864479,  0.25355194],\n",
       "       [ 0.24896038,  0.25086603,  0.24890043,  0.25127316],\n",
       "       [ 0.25042893,  0.24389264,  0.25036863,  0.2553098 ],\n",
       "       [ 0.25213832,  0.25325141,  0.24857652,  0.24603375],\n",
       "       [ 0.24673918,  0.25018737,  0.25124213,  0.25183132],\n",
       "       [ 0.24989953,  0.25156197,  0.25468933,  0.24384917],\n",
       "       [ 0.25227706,  0.24596912,  0.24427032,  0.25748349],\n",
       "       [ 0.24959967,  0.24954961,  0.24953958,  0.25131114],\n",
       "       [ 0.24959967,  0.24954961,  0.24953958,  0.25131114],\n",
       "       [ 0.24959967,  0.24954961,  0.24953958,  0.25131114],\n",
       "       [ 0.24959967,  0.24954961,  0.24953958,  0.25131114],\n",
       "       [ 0.2470525 ,  0.24886203,  0.25529347,  0.248792  ],\n",
       "       [ 0.24908898,  0.24818894,  0.25460299,  0.24811909],\n",
       "       [ 0.2520133 ,  0.25110269,  0.24585198,  0.25103203],\n",
       "       [ 0.24958576,  0.25121377,  0.24805741,  0.25114307],\n",
       "       [ 0.25097065,  0.252981  ,  0.25091023,  0.24513812],\n",
       "       [ 0.24909929,  0.25044801,  0.24903932,  0.25141337],\n",
       "       [ 0.25278928,  0.24756781,  0.25272842,  0.24691448],\n",
       "       [ 0.2493372 ,  0.24973214,  0.24927717,  0.25165349],\n",
       "       [ 0.24691553,  0.24946843,  0.25383095,  0.24978509],\n",
       "       [ 0.25015352,  0.25064944,  0.2556911 ,  0.24350594],\n",
       "       [ 0.2526913 ,  0.24662711,  0.24651341,  0.25416818],\n",
       "       [ 0.25019697,  0.25511232,  0.24866488,  0.24602583],\n",
       "       [ 0.24977664,  0.24972655,  0.24971651,  0.2507803 ],\n",
       "       [ 0.24977664,  0.24972655,  0.24971651,  0.2507803 ],\n",
       "       [ 0.24977664,  0.24972655,  0.24971651,  0.2507803 ],\n",
       "       [ 0.24977664,  0.24972655,  0.24971651,  0.2507803 ],\n",
       "       [ 0.24950906,  0.24780849,  0.2549437 ,  0.24773875],\n",
       "       [ 0.25202436,  0.25111371,  0.24581889,  0.25104304],\n",
       "       [ 0.24960975,  0.25123792,  0.24798512,  0.25116721],\n",
       "       [ 0.24969317,  0.24769007,  0.2549964 ,  0.24762036],\n",
       "       [ 0.24884603,  0.25121009,  0.24878612,  0.25115776],\n",
       "       [ 0.24926989,  0.24739205,  0.24920988,  0.25412818],\n",
       "       [ 0.24909929,  0.25044801,  0.24903932,  0.25141337],\n",
       "       [ 0.24870467,  0.2490986 ,  0.24864479,  0.25355194],\n",
       "       [ 0.24906732,  0.25144446,  0.25619858,  0.24328964],\n",
       "       [ 0.25122684,  0.24848316,  0.24504101,  0.255249  ],\n",
       "       [ 0.25068969,  0.25374197,  0.24905802,  0.24651033],\n",
       "       [ 0.24841182,  0.24963182,  0.25068424,  0.25127212],\n",
       "       [ 0.24959967,  0.24954961,  0.24953958,  0.25131114],\n",
       "       [ 0.24959967,  0.24954961,  0.24953958,  0.25131114],\n",
       "       [ 0.24959967,  0.24954961,  0.24953958,  0.25131114],\n",
       "       [ 0.24959967,  0.24954961,  0.24953958,  0.25131114],\n",
       "       [ 0.2502117 ,  0.25204437,  0.24577049,  0.25197344]])"
      ]
     },
     "execution_count": 14,
     "metadata": {},
     "output_type": "execute_result"
    }
   ],
   "source": [
    "y_pred"
   ]
  },
  {
   "cell_type": "code",
   "execution_count": 15,
   "metadata": {},
   "outputs": [
    {
     "data": {
      "text/plain": [
       "array([3, 3, 3, 2, 2, 0, 1, 1, 3, 0, 3, 2, 2, 3, 1, 3, 3, 3, 3, 2, 1, 0, 2,\n",
       "       1, 3, 3, 3, 2, 3, 1, 3, 3, 3, 3, 3, 0, 1, 2, 2, 0, 3, 1, 3, 3, 1, 2,\n",
       "       2, 3, 3, 3, 3, 0, 2, 2, 1, 3, 3, 3, 3, 1, 3, 2, 3, 3, 3, 3, 3, 2, 2,\n",
       "       0, 1, 1, 3, 0, 3, 2, 2, 3, 1, 3, 3, 3, 3, 2, 0, 1, 2, 1, 3, 3, 3, 2,\n",
       "       3, 1, 3, 3, 3, 3, 3, 1])"
      ]
     },
     "execution_count": 15,
     "metadata": {},
     "output_type": "execute_result"
    }
   ],
   "source": [
    "y_pred_max"
   ]
  },
  {
   "cell_type": "code",
   "execution_count": 16,
   "metadata": {
    "scrolled": true
   },
   "outputs": [
    {
     "data": {
      "text/plain": [
       "array([0, 0, 1, 0, 2, 1, 0, 0, 1, 2, 0, 1, 0, 0, 3, 0, 0, 1, 0, 2, 1, 0, 0,\n",
       "       1, 2, 0, 1, 0, 0, 3, 0, 0, 1, 0, 2, 1, 0, 0, 1, 2, 0, 1, 0, 0, 3, 0,\n",
       "       0, 1, 0, 2, 1, 0, 0, 1, 2, 0, 1, 0, 0, 3, 0, 0, 1, 0, 2, 1, 0, 0, 1,\n",
       "       2, 0, 1, 0, 0, 3, 0, 0, 1, 0, 2, 1, 0, 0, 1, 2, 0, 1, 0, 0, 3, 0, 0,\n",
       "       1, 0, 2, 1, 0, 0, 1, 2])"
      ]
     },
     "execution_count": 16,
     "metadata": {},
     "output_type": "execute_result"
    }
   ],
   "source": [
    "y_test = np.array([fizz_buzz_encode(i) for i in range(1, 101)])\n",
    "y_test"
   ]
  },
  {
   "cell_type": "code",
   "execution_count": 17,
   "metadata": {},
   "outputs": [
    {
     "data": {
      "text/plain": [
       "0.11"
      ]
     },
     "execution_count": 17,
     "metadata": {},
     "output_type": "execute_result"
    }
   ],
   "source": [
    "from sklearn.metrics import accuracy_score\n",
    "accuracy_score(y_test, y_pred_max)"
   ]
  },
  {
   "cell_type": "code",
   "execution_count": 18,
   "metadata": {
    "collapsed": true
   },
   "outputs": [],
   "source": [
    "output = np.vectorize(fizz_buzz)(numbers, y_pred_max)"
   ]
  },
  {
   "cell_type": "code",
   "execution_count": 19,
   "metadata": {},
   "outputs": [
    {
     "data": {
      "text/plain": [
       "array(['fizzbuzz', 'fizzbuzz', 'fizzbuzz', 'buzz', 'buzz', '6', 'fizz',\n",
       "       'fizz', 'fizzbuzz', '10', 'fizzbuzz', 'buzz', 'buzz', 'fizzbuzz',\n",
       "       'fizz', 'fizzbuzz', 'fizzbuzz', 'fizzbuzz', 'fizzbuzz', 'buzz',\n",
       "       'fizz', '22', 'buzz', 'fizz', 'fizzbuzz', 'fizzbuzz', 'fizzbuzz',\n",
       "       'buzz', 'fizzbuzz', 'fizz', 'fizzbuzz', 'fizzbuzz', 'fizzbuzz',\n",
       "       'fizzbuzz', 'fizzbuzz', '36', 'fizz', 'buzz', 'buzz', '40',\n",
       "       'fizzbuzz', 'fizz', 'fizzbuzz', 'fizzbuzz', 'fizz', 'buzz', 'buzz',\n",
       "       'fizzbuzz', 'fizzbuzz', 'fizzbuzz', 'fizzbuzz', '52', 'buzz',\n",
       "       'buzz', 'fizz', 'fizzbuzz', 'fizzbuzz', 'fizzbuzz', 'fizzbuzz',\n",
       "       'fizz', 'fizzbuzz', 'buzz', 'fizzbuzz', 'fizzbuzz', 'fizzbuzz',\n",
       "       'fizzbuzz', 'fizzbuzz', 'buzz', 'buzz', '70', 'fizz', 'fizz',\n",
       "       'fizzbuzz', '74', 'fizzbuzz', 'buzz', 'buzz', 'fizzbuzz', 'fizz',\n",
       "       'fizzbuzz', 'fizzbuzz', 'fizzbuzz', 'fizzbuzz', 'buzz', '85',\n",
       "       'fizz', 'buzz', 'fizz', 'fizzbuzz', 'fizzbuzz', 'fizzbuzz', 'buzz',\n",
       "       'fizzbuzz', 'fizz', 'fizzbuzz', 'fizzbuzz', 'fizzbuzz', 'fizzbuzz',\n",
       "       'fizzbuzz', 'fizz'],\n",
       "      dtype='<U8')"
      ]
     },
     "execution_count": 19,
     "metadata": {},
     "output_type": "execute_result"
    }
   ],
   "source": [
    "output"
   ]
  },
  {
   "cell_type": "code",
   "execution_count": null,
   "metadata": {
    "collapsed": true
   },
   "outputs": [],
   "source": []
  }
 ],
 "metadata": {
  "kernelspec": {
   "display_name": "Python 3",
   "language": "python",
   "name": "python3"
  },
  "language_info": {
   "codemirror_mode": {
    "name": "ipython",
    "version": 3
   },
   "file_extension": ".py",
   "mimetype": "text/x-python",
   "name": "python",
   "nbconvert_exporter": "python",
   "pygments_lexer": "ipython3",
   "version": "3.6.6"
  }
 },
 "nbformat": 4,
 "nbformat_minor": 2
}
