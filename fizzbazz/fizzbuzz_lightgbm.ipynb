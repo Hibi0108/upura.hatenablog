{
 "cells": [
  {
   "cell_type": "markdown",
   "metadata": {},
   "source": [
    "http://joelgrus.com/2016/05/23/fizz-buzz-in-tensorflow/"
   ]
  },
  {
   "cell_type": "code",
   "execution_count": 1,
   "metadata": {
    "collapsed": true
   },
   "outputs": [],
   "source": [
    "import numpy as np\n",
    "import lightgbm as lgb"
   ]
  },
  {
   "cell_type": "code",
   "execution_count": 2,
   "metadata": {
    "collapsed": true
   },
   "outputs": [],
   "source": [
    "def binary_encode(i, num_digits):\n",
    "    return np.array([i >> d & 1 for d in range(num_digits)])\n",
    "\n",
    "def fizz_buzz_encode(i):\n",
    "    if   i % 15 == 0: return 3\n",
    "    elif i % 5  == 0: return 2\n",
    "    elif i % 3  == 0: return 1\n",
    "    else: return 0\n",
    "\n",
    "def fizz_buzz(i, prediction):\n",
    "    return [str(i), \"fizz\", \"buzz\", \"fizzbuzz\"][prediction]\n"
   ]
  },
  {
   "cell_type": "code",
   "execution_count": 3,
   "metadata": {
    "collapsed": true
   },
   "outputs": [],
   "source": [
    "NUM_DIGITS = 10\n",
    "NUM_DATA = 20\n",
    "X = np.array([binary_encode(i, NUM_DIGITS) for i in range(101, 2 ** NUM_DATA)])\n",
    "y = np.array([fizz_buzz_encode(i) for i in range(101, 2 ** NUM_DATA)])"
   ]
  },
  {
   "cell_type": "code",
   "execution_count": 4,
   "metadata": {},
   "outputs": [
    {
     "data": {
      "text/plain": [
       "(1048475, 10)"
      ]
     },
     "execution_count": 4,
     "metadata": {},
     "output_type": "execute_result"
    }
   ],
   "source": [
    "X.shape"
   ]
  },
  {
   "cell_type": "code",
   "execution_count": 5,
   "metadata": {
    "scrolled": true
   },
   "outputs": [
    {
     "data": {
      "text/plain": [
       "(array([1, 0, 1, 0, 0, 1, 1, 0, 0, 0]), 0)"
      ]
     },
     "execution_count": 5,
     "metadata": {},
     "output_type": "execute_result"
    }
   ],
   "source": [
    "X[0], y[0]"
   ]
  },
  {
   "cell_type": "code",
   "execution_count": 6,
   "metadata": {
    "collapsed": true
   },
   "outputs": [],
   "source": [
    "X_train = X[100:]\n",
    "y_train = y[100:]\n",
    "X_valid = X[:100]\n",
    "y_valid = y[:100]"
   ]
  },
  {
   "cell_type": "code",
   "execution_count": 7,
   "metadata": {},
   "outputs": [
    {
     "data": {
      "text/plain": [
       "(Counter({0: 559133, 1: 279567, 2: 139783, 3: 69892}),\n",
       " Counter({0: 54, 1: 26, 2: 13, 3: 7}))"
      ]
     },
     "execution_count": 7,
     "metadata": {},
     "output_type": "execute_result"
    }
   ],
   "source": [
    "import collections\n",
    "c_train = collections.Counter(list(y_train))\n",
    "c_valid = collections.Counter(list(y_valid))\n",
    "c_train, c_valid"
   ]
  },
  {
   "cell_type": "markdown",
   "metadata": {},
   "source": [
    "# Weight"
   ]
  },
  {
   "cell_type": "code",
   "execution_count": 8,
   "metadata": {
    "scrolled": true
   },
   "outputs": [
    {
     "name": "stdout",
     "output_type": "stream",
     "text": [
      "1.0\n",
      "1.9999964230399152\n",
      "4.0000071539457585\n",
      "7.999957076632518\n"
     ]
    }
   ],
   "source": [
    "rate = []\n",
    "for i in range(4):\n",
    "    rate.append(c_train[0]/c_train[i])\n",
    "    print(rate[i])"
   ]
  },
  {
   "cell_type": "code",
   "execution_count": 9,
   "metadata": {},
   "outputs": [],
   "source": [
    "def weights(n):\n",
    "    return(rate[n])\n",
    "\n",
    "w = [weights(i) for i in list(y_train)]"
   ]
  },
  {
   "cell_type": "code",
   "execution_count": 10,
   "metadata": {},
   "outputs": [],
   "source": [
    "lgbm_params = {\n",
    "    'boosting_type' : 'gbdt',\n",
    "    'objective': 'multiclass',\n",
    "    'num_class': 4,\n",
    "    'learning_rate': 0.05,\n",
    "    'min_child_samples': 5,  # Minimum number of data need in a child(min_data_in_leaf)\n",
    "    'subsample': 0.9,  # Subsample ratio of the training instance.\n",
    "}\n",
    "\n",
    "def lgbm_train(X_train_df, X_valid_df, y_train_df, y_valid_df, lgbm_params):\n",
    "    lgb_train = lgb.Dataset(X_train_df, y_train_df, weight=w)\n",
    "    lgb_eval = lgb.Dataset(X_valid_df, y_valid_df, reference=lgb_train)\n",
    "\n",
    "    # 上記のパラメータでモデルを学習する\n",
    "    model = lgb.train(lgbm_params, lgb_train,\n",
    "                      # モデルの評価用データを渡す\n",
    "                      valid_sets=lgb_eval,\n",
    "                      # 最大で 1000 ラウンドまで学習する\n",
    "                      num_boost_round=1000,\n",
    "                      # 10 ラウンド経過しても性能が向上しないときは学習を打ち切る\n",
    "                      early_stopping_rounds=10)\n",
    "    \n",
    "    return model"
   ]
  },
  {
   "cell_type": "code",
   "execution_count": 11,
   "metadata": {},
   "outputs": [
    {
     "name": "stdout",
     "output_type": "stream",
     "text": [
      "[1]\tvalid_0's multi_logloss: 1.3863\n",
      "Training until validation scores don't improve for 10 rounds.\n",
      "[2]\tvalid_0's multi_logloss: 1.3863\n",
      "[3]\tvalid_0's multi_logloss: 1.3863\n",
      "[4]\tvalid_0's multi_logloss: 1.38631\n",
      "[5]\tvalid_0's multi_logloss: 1.38631\n",
      "[6]\tvalid_0's multi_logloss: 1.38632\n",
      "[7]\tvalid_0's multi_logloss: 1.38632\n",
      "[8]\tvalid_0's multi_logloss: 1.38632\n",
      "[9]\tvalid_0's multi_logloss: 1.38632\n",
      "[10]\tvalid_0's multi_logloss: 1.38632\n",
      "[11]\tvalid_0's multi_logloss: 1.38633\n",
      "Early stopping, best iteration is:\n",
      "[1]\tvalid_0's multi_logloss: 1.3863\n"
     ]
    }
   ],
   "source": [
    "model = lgbm_train(X_train, X_valid, y_train, y_valid, lgbm_params)"
   ]
  },
  {
   "cell_type": "code",
   "execution_count": 12,
   "metadata": {
    "collapsed": true
   },
   "outputs": [],
   "source": [
    "numbers = np.arange(1, 101)\n",
    "X_test = np.transpose(binary_encode(numbers, NUM_DIGITS))"
   ]
  },
  {
   "cell_type": "code",
   "execution_count": 13,
   "metadata": {},
   "outputs": [],
   "source": [
    "y_pred = model.predict(X_test, num_iteration=model.best_iteration)\n",
    "y_pred_max = np.argmax(y_pred, axis=1)"
   ]
  },
  {
   "cell_type": "code",
   "execution_count": 14,
   "metadata": {},
   "outputs": [
    {
     "data": {
      "text/plain": [
       "array([[ 0.24999273,  0.24999254,  0.24999251,  0.25002222],\n",
       "       [ 0.2500065 ,  0.25000632,  0.25000628,  0.2499809 ],\n",
       "       [ 0.24999273,  0.24999254,  0.24999251,  0.25002222],\n",
       "       [ 0.25000065,  0.24999931,  0.250001  ,  0.24999904],\n",
       "       [ 0.24999965,  0.24999964,  0.25000133,  0.24999938],\n",
       "       [ 0.25000065,  0.24999931,  0.250001  ,  0.24999904],\n",
       "       [ 0.24999965,  0.24999964,  0.25000133,  0.24999938],\n",
       "       [ 0.24999733,  0.2500085 ,  0.24999711,  0.24999705],\n",
       "       [ 0.25000044,  0.2499992 ,  0.25000021,  0.25000015],\n",
       "       [ 0.24999632,  0.25001156,  0.24999609,  0.24999603],\n",
       "       [ 0.24999766,  0.25000752,  0.24999744,  0.24999738],\n",
       "       [ 0.24999777,  0.25000778,  0.24999812,  0.24999633],\n",
       "       [ 0.24999987,  0.24999881,  0.25000155,  0.24999977],\n",
       "       [ 0.24999676,  0.25001084,  0.2499971 ,  0.24999531],\n",
       "       [ 0.2499971 ,  0.25000713,  0.24999878,  0.24999699],\n",
       "       [ 0.24999261,  0.24999242,  0.24999239,  0.25002258],\n",
       "       [ 0.25000674,  0.25000656,  0.25000652,  0.24998018],\n",
       "       [ 0.24999261,  0.24999242,  0.24999239,  0.25002258],\n",
       "       [ 0.25000674,  0.25000656,  0.25000652,  0.24998018],\n",
       "       [ 0.25000065,  0.24999931,  0.250001  ,  0.24999904],\n",
       "       [ 0.24999965,  0.24999964,  0.25000133,  0.24999938],\n",
       "       [ 0.25000065,  0.24999931,  0.250001  ,  0.24999904],\n",
       "       [ 0.24999965,  0.24999964,  0.25000133,  0.24999938],\n",
       "       [ 0.24999823,  0.25000582,  0.24999801,  0.24999795],\n",
       "       [ 0.25000044,  0.2499992 ,  0.25000021,  0.25000015],\n",
       "       [ 0.24999769,  0.25000743,  0.24999747,  0.24999741],\n",
       "       [ 0.24999766,  0.25000752,  0.24999744,  0.24999738],\n",
       "       [ 0.24999867,  0.2500051 ,  0.24999901,  0.24999722],\n",
       "       [ 0.24999987,  0.24999881,  0.25000155,  0.24999977],\n",
       "       [ 0.24999813,  0.25000671,  0.24999847,  0.24999669],\n",
       "       [ 0.2499971 ,  0.25000713,  0.24999878,  0.24999699],\n",
       "       [ 0.2500065 ,  0.25000632,  0.25000628,  0.2499809 ],\n",
       "       [ 0.24999273,  0.24999254,  0.24999251,  0.25002222],\n",
       "       [ 0.2500065 ,  0.25000632,  0.25000628,  0.2499809 ],\n",
       "       [ 0.24999273,  0.24999254,  0.24999251,  0.25002222],\n",
       "       [ 0.25000622,  0.25000487,  0.2499843 ,  0.25000461],\n",
       "       [ 0.25000695,  0.25000694,  0.24997944,  0.25000668],\n",
       "       [ 0.24999632,  0.24999497,  0.25001399,  0.24999471],\n",
       "       [ 0.24999645,  0.24999644,  0.25001093,  0.24999618],\n",
       "       [ 0.24999632,  0.25001156,  0.24999609,  0.24999603],\n",
       "       [ 0.24999766,  0.25000752,  0.24999744,  0.24999738],\n",
       "       [ 0.24999763,  0.25000761,  0.24999741,  0.24999735],\n",
       "       [ 0.2500027 ,  0.24999241,  0.25000248,  0.25000242],\n",
       "       [ 0.25000232,  0.2500164 ,  0.2499804 ,  0.25000087],\n",
       "       [ 0.2500013 ,  0.25001134,  0.24998617,  0.25000119],\n",
       "       [ 0.24999374,  0.25000255,  0.25001141,  0.24999229],\n",
       "       [ 0.24999893,  0.24998882,  0.25001342,  0.24999883],\n",
       "       [ 0.24999261,  0.24999242,  0.24999239,  0.25002258],\n",
       "       [ 0.25000674,  0.25000656,  0.25000652,  0.24998018],\n",
       "       [ 0.24999261,  0.24999242,  0.24999239,  0.25002258],\n",
       "       [ 0.25000674,  0.25000656,  0.25000652,  0.24998018],\n",
       "       [ 0.25000795,  0.2500066 ,  0.2499791 ,  0.25000634],\n",
       "       [ 0.24999168,  0.24999167,  0.25002524,  0.24999141],\n",
       "       [ 0.24999745,  0.24999611,  0.2500106 ,  0.24999584],\n",
       "       [ 0.25000849,  0.25000848,  0.2499748 ,  0.25000822],\n",
       "       [ 0.24999769,  0.25000743,  0.24999747,  0.24999741],\n",
       "       [ 0.24999766,  0.25000752,  0.24999744,  0.24999738],\n",
       "       [ 0.24999871,  0.25000439,  0.24999848,  0.24999842],\n",
       "       [ 0.2500027 ,  0.24999241,  0.25000248,  0.25000242],\n",
       "       [ 0.25000233,  0.25001091,  0.24998587,  0.25000089],\n",
       "       [ 0.24999533,  0.25000536,  0.25000409,  0.24999522],\n",
       "       [ 0.24999595,  0.25000047,  0.25000909,  0.2499945 ],\n",
       "       [ 0.25001098,  0.25000086,  0.24997729,  0.25001087],\n",
       "       [ 0.2500065 ,  0.25000632,  0.25000628,  0.2499809 ],\n",
       "       [ 0.24999273,  0.24999254,  0.24999251,  0.25002222],\n",
       "       [ 0.2500065 ,  0.25000632,  0.25000628,  0.2499809 ],\n",
       "       [ 0.24999273,  0.24999254,  0.24999251,  0.25002222],\n",
       "       [ 0.24999618,  0.2500008 ,  0.25000249,  0.25000053],\n",
       "       [ 0.24999965,  0.24999964,  0.25000133,  0.24999938],\n",
       "       [ 0.25000012,  0.24999948,  0.25000118,  0.24999922],\n",
       "       [ 0.24999965,  0.24999964,  0.25000133,  0.24999938],\n",
       "       [ 0.24999733,  0.2500085 ,  0.24999711,  0.24999705],\n",
       "       [ 0.25000044,  0.2499992 ,  0.25000021,  0.25000015],\n",
       "       [ 0.24999632,  0.25001156,  0.24999609,  0.24999603],\n",
       "       [ 0.24999766,  0.25000752,  0.24999744,  0.24999738],\n",
       "       [ 0.2499933 ,  0.25000927,  0.24999961,  0.24999782],\n",
       "       [ 0.24999987,  0.24999881,  0.25000155,  0.24999977],\n",
       "       [ 0.25000957,  0.24997096,  0.25001063,  0.25000884],\n",
       "       [ 0.2499971 ,  0.25000713,  0.24999878,  0.24999699],\n",
       "       [ 0.24999261,  0.24999242,  0.24999239,  0.25002258],\n",
       "       [ 0.25000674,  0.25000656,  0.25000652,  0.24998018],\n",
       "       [ 0.24999261,  0.24999242,  0.24999239,  0.25002258],\n",
       "       [ 0.25000674,  0.25000656,  0.25000652,  0.24998018],\n",
       "       [ 0.25000835,  0.24999674,  0.24999843,  0.24999648],\n",
       "       [ 0.24999965,  0.24999964,  0.25000133,  0.24999938],\n",
       "       [ 0.24999511,  0.25000115,  0.25000284,  0.25000089],\n",
       "       [ 0.24999965,  0.24999964,  0.25000133,  0.24999938],\n",
       "       [ 0.24999823,  0.25000582,  0.24999801,  0.24999795],\n",
       "       [ 0.25000044,  0.2499992 ,  0.25000021,  0.25000015],\n",
       "       [ 0.24999769,  0.25000743,  0.24999747,  0.24999741],\n",
       "       [ 0.24999766,  0.25000752,  0.24999744,  0.24999738],\n",
       "       [ 0.24998919,  0.25000826,  0.25000217,  0.25000038],\n",
       "       [ 0.24999987,  0.24999881,  0.25000155,  0.24999977],\n",
       "       [ 0.24999259,  0.25000856,  0.25000032,  0.24999853],\n",
       "       [ 0.2499971 ,  0.25000713,  0.24999878,  0.24999699],\n",
       "       [ 0.2500065 ,  0.25000632,  0.25000628,  0.2499809 ],\n",
       "       [ 0.24999273,  0.24999254,  0.24999251,  0.25002222],\n",
       "       [ 0.2500065 ,  0.25000632,  0.25000628,  0.2499809 ],\n",
       "       [ 0.24999273,  0.24999254,  0.24999251,  0.25002222],\n",
       "       [ 0.25000175,  0.25000636,  0.24998579,  0.2500061 ]])"
      ]
     },
     "execution_count": 14,
     "metadata": {},
     "output_type": "execute_result"
    }
   ],
   "source": [
    "y_pred"
   ]
  },
  {
   "cell_type": "code",
   "execution_count": 15,
   "metadata": {},
   "outputs": [
    {
     "data": {
      "text/plain": [
       "array([3, 0, 3, 2, 2, 2, 2, 1, 0, 1, 1, 1, 2, 1, 1, 3, 0, 3, 0, 2, 2, 2, 2,\n",
       "       1, 0, 1, 1, 1, 2, 1, 1, 0, 3, 0, 3, 0, 0, 2, 2, 1, 1, 1, 0, 1, 1, 2,\n",
       "       2, 3, 0, 3, 0, 0, 2, 2, 0, 1, 1, 1, 0, 1, 1, 2, 0, 0, 3, 0, 3, 2, 2,\n",
       "       2, 2, 1, 0, 1, 1, 1, 2, 2, 1, 3, 0, 3, 0, 0, 2, 2, 2, 1, 0, 1, 1, 1,\n",
       "       2, 1, 1, 0, 3, 0, 3, 1])"
      ]
     },
     "execution_count": 15,
     "metadata": {},
     "output_type": "execute_result"
    }
   ],
   "source": [
    "y_pred_max"
   ]
  },
  {
   "cell_type": "code",
   "execution_count": 16,
   "metadata": {
    "scrolled": true
   },
   "outputs": [
    {
     "data": {
      "text/plain": [
       "array([0, 0, 1, 0, 2, 1, 0, 0, 1, 2, 0, 1, 0, 0, 3, 0, 0, 1, 0, 2, 1, 0, 0,\n",
       "       1, 2, 0, 1, 0, 0, 3, 0, 0, 1, 0, 2, 1, 0, 0, 1, 2, 0, 1, 0, 0, 3, 0,\n",
       "       0, 1, 0, 2, 1, 0, 0, 1, 2, 0, 1, 0, 0, 3, 0, 0, 1, 0, 2, 1, 0, 0, 1,\n",
       "       2, 0, 1, 0, 0, 3, 0, 0, 1, 0, 2, 1, 0, 0, 1, 2, 0, 1, 0, 0, 3, 0, 0,\n",
       "       1, 0, 2, 1, 0, 0, 1, 2])"
      ]
     },
     "execution_count": 16,
     "metadata": {},
     "output_type": "execute_result"
    }
   ],
   "source": [
    "y_test = np.array([fizz_buzz_encode(i) for i in range(1, 101)])\n",
    "y_test"
   ]
  },
  {
   "cell_type": "code",
   "execution_count": 17,
   "metadata": {},
   "outputs": [
    {
     "data": {
      "text/plain": [
       "0.25"
      ]
     },
     "execution_count": 17,
     "metadata": {},
     "output_type": "execute_result"
    }
   ],
   "source": [
    "from sklearn.metrics import accuracy_score\n",
    "accuracy_score(y_test, y_pred_max)"
   ]
  },
  {
   "cell_type": "code",
   "execution_count": 18,
   "metadata": {
    "scrolled": true
   },
   "outputs": [
    {
     "data": {
      "text/plain": [
       "array(['fizzbuzz', '2', 'fizzbuzz', 'buzz', 'buzz', 'buzz', 'buzz', 'fizz',\n",
       "       '9', 'fizz', 'fizz', 'fizz', 'buzz', 'fizz', 'fizz', 'fizzbuzz',\n",
       "       '17', 'fizzbuzz', '19', 'buzz', 'buzz', 'buzz', 'buzz', 'fizz',\n",
       "       '25', 'fizz', 'fizz', 'fizz', 'buzz', 'fizz', 'fizz', '32',\n",
       "       'fizzbuzz', '34', 'fizzbuzz', '36', '37', 'buzz', 'buzz', 'fizz',\n",
       "       'fizz', 'fizz', '43', 'fizz', 'fizz', 'buzz', 'buzz', 'fizzbuzz',\n",
       "       '49', 'fizzbuzz', '51', '52', 'buzz', 'buzz', '55', 'fizz', 'fizz',\n",
       "       'fizz', '59', 'fizz', 'fizz', 'buzz', '63', '64', 'fizzbuzz', '66',\n",
       "       'fizzbuzz', 'buzz', 'buzz', 'buzz', 'buzz', 'fizz', '73', 'fizz',\n",
       "       'fizz', 'fizz', 'buzz', 'buzz', 'fizz', 'fizzbuzz', '81',\n",
       "       'fizzbuzz', '83', '84', 'buzz', 'buzz', 'buzz', 'fizz', '89',\n",
       "       'fizz', 'fizz', 'fizz', 'buzz', 'fizz', 'fizz', '96', 'fizzbuzz',\n",
       "       '98', 'fizzbuzz', 'fizz'],\n",
       "      dtype='<U8')"
      ]
     },
     "execution_count": 18,
     "metadata": {},
     "output_type": "execute_result"
    }
   ],
   "source": [
    "output = np.vectorize(fizz_buzz)(numbers, y_pred_max)\n",
    "output"
   ]
  },
  {
   "cell_type": "markdown",
   "metadata": {},
   "source": [
    "# Sampling"
   ]
  },
  {
   "cell_type": "code",
   "execution_count": 19,
   "metadata": {},
   "outputs": [],
   "source": [
    "from imblearn.datasets import make_imbalance\n",
    "\n",
    "X_r, y_r = make_imbalance(X, y,\n",
    "                      sampling_strategy={0: c_train[3], 1: c_train[3], 2: c_train[3], 3: c_train[3]},\n",
    "                      random_state=123)"
   ]
  },
  {
   "cell_type": "code",
   "execution_count": 20,
   "metadata": {
    "collapsed": true
   },
   "outputs": [],
   "source": [
    "lgbm_params = {\n",
    "    'boosting_type' : 'gbdt',\n",
    "    'objective': 'multiclass',\n",
    "    'num_class': 4,\n",
    "    'learning_rate': 0.05,\n",
    "#     'min_child_samples': 5,  # Minimum number of data need in a child(min_data_in_leaf)\n",
    "    'subsample': 0.9,  # Subsample ratio of the training instance.\n",
    "}\n",
    "\n",
    "def lgbm_train(X_train_df, X_valid_df, y_train_df, y_valid_df, lgbm_params):\n",
    "    lgb_train = lgb.Dataset(X_train_df, y_train_df, weight=None)\n",
    "    lgb_eval = lgb.Dataset(X_valid_df, y_valid_df, reference=lgb_train)\n",
    "\n",
    "    # 上記のパラメータでモデルを学習する\n",
    "    model = lgb.train(lgbm_params, lgb_train,\n",
    "                      # モデルの評価用データを渡す\n",
    "                      valid_sets=lgb_eval,\n",
    "                      # 最大で 1000 ラウンドまで学習する\n",
    "                      num_boost_round=1000,\n",
    "                      # 10 ラウンド経過しても性能が向上しないときは学習を打ち切る\n",
    "                      early_stopping_rounds=10)\n",
    "    \n",
    "    return model"
   ]
  },
  {
   "cell_type": "code",
   "execution_count": 21,
   "metadata": {},
   "outputs": [
    {
     "name": "stdout",
     "output_type": "stream",
     "text": [
      "[1]\tvalid_0's multi_logloss: 1.38624\n",
      "Training until validation scores don't improve for 10 rounds.\n",
      "[2]\tvalid_0's multi_logloss: 1.38621\n",
      "[3]\tvalid_0's multi_logloss: 1.38612\n",
      "[4]\tvalid_0's multi_logloss: 1.3861\n",
      "[5]\tvalid_0's multi_logloss: 1.38609\n",
      "[6]\tvalid_0's multi_logloss: 1.38605\n",
      "[7]\tvalid_0's multi_logloss: 1.38603\n",
      "[8]\tvalid_0's multi_logloss: 1.38605\n",
      "[9]\tvalid_0's multi_logloss: 1.386\n",
      "[10]\tvalid_0's multi_logloss: 1.38593\n",
      "[11]\tvalid_0's multi_logloss: 1.38591\n",
      "[12]\tvalid_0's multi_logloss: 1.38591\n",
      "[13]\tvalid_0's multi_logloss: 1.386\n",
      "[14]\tvalid_0's multi_logloss: 1.38597\n",
      "[15]\tvalid_0's multi_logloss: 1.38588\n",
      "[16]\tvalid_0's multi_logloss: 1.38595\n",
      "[17]\tvalid_0's multi_logloss: 1.38585\n",
      "[18]\tvalid_0's multi_logloss: 1.38584\n",
      "[19]\tvalid_0's multi_logloss: 1.38573\n",
      "[20]\tvalid_0's multi_logloss: 1.38564\n",
      "[21]\tvalid_0's multi_logloss: 1.3856\n",
      "[22]\tvalid_0's multi_logloss: 1.38555\n",
      "[23]\tvalid_0's multi_logloss: 1.38546\n",
      "[24]\tvalid_0's multi_logloss: 1.38542\n",
      "[25]\tvalid_0's multi_logloss: 1.38537\n",
      "[26]\tvalid_0's multi_logloss: 1.38537\n",
      "[27]\tvalid_0's multi_logloss: 1.38521\n",
      "[28]\tvalid_0's multi_logloss: 1.38518\n",
      "[29]\tvalid_0's multi_logloss: 1.38516\n",
      "[30]\tvalid_0's multi_logloss: 1.38515\n",
      "[31]\tvalid_0's multi_logloss: 1.38518\n",
      "[32]\tvalid_0's multi_logloss: 1.38519\n",
      "[33]\tvalid_0's multi_logloss: 1.38522\n",
      "[34]\tvalid_0's multi_logloss: 1.38524\n",
      "[35]\tvalid_0's multi_logloss: 1.38533\n",
      "[36]\tvalid_0's multi_logloss: 1.38537\n",
      "[37]\tvalid_0's multi_logloss: 1.38536\n",
      "[38]\tvalid_0's multi_logloss: 1.38544\n",
      "[39]\tvalid_0's multi_logloss: 1.38543\n",
      "[40]\tvalid_0's multi_logloss: 1.38546\n",
      "Early stopping, best iteration is:\n",
      "[30]\tvalid_0's multi_logloss: 1.38515\n"
     ]
    }
   ],
   "source": [
    "model = lgbm_train(X_r, X_valid, y_r, y_valid, lgbm_params)"
   ]
  },
  {
   "cell_type": "code",
   "execution_count": 22,
   "metadata": {
    "collapsed": true
   },
   "outputs": [],
   "source": [
    "y_pred = model.predict(X_test, num_iteration=model.best_iteration)\n",
    "y_pred_max = np.argmax(y_pred, axis=1)"
   ]
  },
  {
   "cell_type": "code",
   "execution_count": 23,
   "metadata": {},
   "outputs": [
    {
     "data": {
      "text/plain": [
       "0.20000000000000001"
      ]
     },
     "execution_count": 23,
     "metadata": {},
     "output_type": "execute_result"
    }
   ],
   "source": [
    "accuracy_score(y_test, y_pred_max)"
   ]
  },
  {
   "cell_type": "code",
   "execution_count": 24,
   "metadata": {},
   "outputs": [
    {
     "data": {
      "text/plain": [
       "array(['buzz', 'fizz', 'buzz', 'buzz', 'buzz', 'buzz', 'buzz', 'buzz',\n",
       "       'buzz', 'buzz', 'buzz', 'buzz', 'fizz', 'buzz', 'fizz', '16',\n",
       "       'buzz', 'buzz', 'buzz', 'buzz', '21', 'fizzbuzz', 'fizzbuzz', '24',\n",
       "       'buzz', '26', '27', 'buzz', '29', '30', 'fizz', '32', '33', '34',\n",
       "       'fizz', 'fizzbuzz', '37', 'buzz', '39', 'buzz', 'fizz', 'buzz',\n",
       "       'fizz', '44', '45', '46', '47', 'fizzbuzz', 'fizz', 'fizzbuzz',\n",
       "       'fizz', 'buzz', 'fizz', 'buzz', 'fizzbuzz', 'buzz', 'fizz', 'buzz',\n",
       "       'fizz', 'buzz', 'fizz', 'buzz', 'fizz', 'fizz', 'buzz', 'fizz',\n",
       "       'buzz', 'fizz', 'buzz', 'fizz', 'buzz', 'buzz', 'buzz', 'buzz',\n",
       "       'buzz', 'buzz', 'fizz', 'buzz', 'fizz', 'buzz', 'fizzbuzz', 'buzz',\n",
       "       'fizzbuzz', 'buzz', '85', 'buzz', 'buzz', 'buzz', 'fizz', 'buzz',\n",
       "       'fizz', 'buzz', '93', 'buzz', 'fizz', 'buzz', 'fizz', 'buzz',\n",
       "       'buzz', 'fizzbuzz'],\n",
       "      dtype='<U8')"
      ]
     },
     "execution_count": 24,
     "metadata": {},
     "output_type": "execute_result"
    }
   ],
   "source": [
    "output = np.vectorize(fizz_buzz)(numbers, y_pred_max)\n",
    "output"
   ]
  },
  {
   "cell_type": "code",
   "execution_count": null,
   "metadata": {
    "collapsed": true
   },
   "outputs": [],
   "source": []
  }
 ],
 "metadata": {
  "kernelspec": {
   "display_name": "Python 3",
   "language": "python",
   "name": "python3"
  },
  "language_info": {
   "codemirror_mode": {
    "name": "ipython",
    "version": 3
   },
   "file_extension": ".py",
   "mimetype": "text/x-python",
   "name": "python",
   "nbconvert_exporter": "python",
   "pygments_lexer": "ipython3",
   "version": "3.6.6"
  }
 },
 "nbformat": 4,
 "nbformat_minor": 2
}
