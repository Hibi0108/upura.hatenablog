{
 "cells": [
  {
   "cell_type": "markdown",
   "metadata": {},
   "source": [
    "- https://arxiv.org/abs/1811.11264\n",
    "- https://github.com/DAI-Lab/TGAN\n",
    "- https://dai-lab.github.io/TGAN/"
   ]
  },
  {
   "cell_type": "code",
   "execution_count": 1,
   "metadata": {},
   "outputs": [
    {
     "data": {
      "text/html": [
       "<style>.container { width:100% !important; }</style>"
      ],
      "text/plain": [
       "<IPython.core.display.HTML object>"
      ]
     },
     "metadata": {},
     "output_type": "display_data"
    }
   ],
   "source": [
    "import numpy as np\n",
    "import pandas as pd\n",
    "import matplotlib.pyplot as plt\n",
    "%matplotlib inline\n",
    "from IPython.core.display import display, HTML \n",
    "display(HTML(\"<style>.container { width:100% !important; }</style>\"))"
   ]
  },
  {
   "cell_type": "code",
   "execution_count": 2,
   "metadata": {
    "scrolled": true
   },
   "outputs": [
    {
     "data": {
      "text/html": [
       "<div>\n",
       "<style scoped>\n",
       "    .dataframe tbody tr th:only-of-type {\n",
       "        vertical-align: middle;\n",
       "    }\n",
       "\n",
       "    .dataframe tbody tr th {\n",
       "        vertical-align: top;\n",
       "    }\n",
       "\n",
       "    .dataframe thead th {\n",
       "        text-align: right;\n",
       "    }\n",
       "</style>\n",
       "<table border=\"1\" class=\"dataframe\">\n",
       "  <thead>\n",
       "    <tr style=\"text-align: right;\">\n",
       "      <th></th>\n",
       "      <th>PassengerId</th>\n",
       "      <th>Survived</th>\n",
       "      <th>Pclass</th>\n",
       "      <th>Name</th>\n",
       "      <th>Sex</th>\n",
       "      <th>Age</th>\n",
       "      <th>SibSp</th>\n",
       "      <th>Parch</th>\n",
       "      <th>Ticket</th>\n",
       "      <th>Fare</th>\n",
       "      <th>Cabin</th>\n",
       "      <th>Embarked</th>\n",
       "    </tr>\n",
       "  </thead>\n",
       "  <tbody>\n",
       "    <tr>\n",
       "      <th>0</th>\n",
       "      <td>1</td>\n",
       "      <td>0</td>\n",
       "      <td>3</td>\n",
       "      <td>Braund, Mr. Owen Harris</td>\n",
       "      <td>male</td>\n",
       "      <td>22.0</td>\n",
       "      <td>1</td>\n",
       "      <td>0</td>\n",
       "      <td>A/5 21171</td>\n",
       "      <td>7.2500</td>\n",
       "      <td>NaN</td>\n",
       "      <td>S</td>\n",
       "    </tr>\n",
       "    <tr>\n",
       "      <th>1</th>\n",
       "      <td>2</td>\n",
       "      <td>1</td>\n",
       "      <td>1</td>\n",
       "      <td>Cumings, Mrs. John Bradley (Florence Briggs Th...</td>\n",
       "      <td>female</td>\n",
       "      <td>38.0</td>\n",
       "      <td>1</td>\n",
       "      <td>0</td>\n",
       "      <td>PC 17599</td>\n",
       "      <td>71.2833</td>\n",
       "      <td>C85</td>\n",
       "      <td>C</td>\n",
       "    </tr>\n",
       "    <tr>\n",
       "      <th>2</th>\n",
       "      <td>3</td>\n",
       "      <td>1</td>\n",
       "      <td>3</td>\n",
       "      <td>Heikkinen, Miss. Laina</td>\n",
       "      <td>female</td>\n",
       "      <td>26.0</td>\n",
       "      <td>0</td>\n",
       "      <td>0</td>\n",
       "      <td>STON/O2. 3101282</td>\n",
       "      <td>7.9250</td>\n",
       "      <td>NaN</td>\n",
       "      <td>S</td>\n",
       "    </tr>\n",
       "    <tr>\n",
       "      <th>3</th>\n",
       "      <td>4</td>\n",
       "      <td>1</td>\n",
       "      <td>1</td>\n",
       "      <td>Futrelle, Mrs. Jacques Heath (Lily May Peel)</td>\n",
       "      <td>female</td>\n",
       "      <td>35.0</td>\n",
       "      <td>1</td>\n",
       "      <td>0</td>\n",
       "      <td>113803</td>\n",
       "      <td>53.1000</td>\n",
       "      <td>C123</td>\n",
       "      <td>S</td>\n",
       "    </tr>\n",
       "    <tr>\n",
       "      <th>4</th>\n",
       "      <td>5</td>\n",
       "      <td>0</td>\n",
       "      <td>3</td>\n",
       "      <td>Allen, Mr. William Henry</td>\n",
       "      <td>male</td>\n",
       "      <td>35.0</td>\n",
       "      <td>0</td>\n",
       "      <td>0</td>\n",
       "      <td>373450</td>\n",
       "      <td>8.0500</td>\n",
       "      <td>NaN</td>\n",
       "      <td>S</td>\n",
       "    </tr>\n",
       "  </tbody>\n",
       "</table>\n",
       "</div>"
      ],
      "text/plain": [
       "   PassengerId  Survived  Pclass  \\\n",
       "0            1         0       3   \n",
       "1            2         1       1   \n",
       "2            3         1       3   \n",
       "3            4         1       1   \n",
       "4            5         0       3   \n",
       "\n",
       "                                                Name     Sex   Age  SibSp  \\\n",
       "0                            Braund, Mr. Owen Harris    male  22.0      1   \n",
       "1  Cumings, Mrs. John Bradley (Florence Briggs Th...  female  38.0      1   \n",
       "2                             Heikkinen, Miss. Laina  female  26.0      0   \n",
       "3       Futrelle, Mrs. Jacques Heath (Lily May Peel)  female  35.0      1   \n",
       "4                           Allen, Mr. William Henry    male  35.0      0   \n",
       "\n",
       "   Parch            Ticket     Fare Cabin Embarked  \n",
       "0      0         A/5 21171   7.2500   NaN        S  \n",
       "1      0          PC 17599  71.2833   C85        C  \n",
       "2      0  STON/O2. 3101282   7.9250   NaN        S  \n",
       "3      0            113803  53.1000  C123        S  \n",
       "4      0            373450   8.0500   NaN        S  "
      ]
     },
     "execution_count": 2,
     "metadata": {},
     "output_type": "execute_result"
    }
   ],
   "source": [
    "df = pd.read_csv('input/train.csv')\n",
    "df.head()"
   ]
  },
  {
   "cell_type": "code",
   "execution_count": 3,
   "metadata": {
    "scrolled": true
   },
   "outputs": [
    {
     "data": {
      "text/plain": [
       "(891, 12)"
      ]
     },
     "execution_count": 3,
     "metadata": {},
     "output_type": "execute_result"
    }
   ],
   "source": [
    "df.shape"
   ]
  },
  {
   "cell_type": "markdown",
   "metadata": {},
   "source": [
    "# TGANはNaNに対応していない"
   ]
  },
  {
   "cell_type": "code",
   "execution_count": 4,
   "metadata": {},
   "outputs": [
    {
     "data": {
      "text/plain": [
       "PassengerId      0\n",
       "Survived         0\n",
       "Pclass           0\n",
       "Name             0\n",
       "Sex              0\n",
       "Age            177\n",
       "SibSp            0\n",
       "Parch            0\n",
       "Ticket           0\n",
       "Fare             0\n",
       "Cabin          687\n",
       "Embarked         2\n",
       "dtype: int64"
      ]
     },
     "execution_count": 4,
     "metadata": {},
     "output_type": "execute_result"
    }
   ],
   "source": [
    "df.isnull().sum()"
   ]
  },
  {
   "cell_type": "code",
   "execution_count": 5,
   "metadata": {},
   "outputs": [],
   "source": [
    "df.drop('Cabin', axis=1, inplace=True)"
   ]
  },
  {
   "cell_type": "code",
   "execution_count": 6,
   "metadata": {},
   "outputs": [
    {
     "data": {
      "text/plain": [
       "30.0"
      ]
     },
     "execution_count": 6,
     "metadata": {},
     "output_type": "execute_result"
    }
   ],
   "source": [
    "avg_age = round(df['Age'].mean(), 0)\n",
    "avg_age"
   ]
  },
  {
   "cell_type": "code",
   "execution_count": 7,
   "metadata": {
    "scrolled": true
   },
   "outputs": [
    {
     "data": {
      "text/plain": [
       "S    644\n",
       "C    168\n",
       "Q     77\n",
       "Name: Embarked, dtype: int64"
      ]
     },
     "execution_count": 7,
     "metadata": {},
     "output_type": "execute_result"
    }
   ],
   "source": [
    "df['Embarked'].value_counts()"
   ]
  },
  {
   "cell_type": "code",
   "execution_count": 8,
   "metadata": {},
   "outputs": [],
   "source": [
    "df['Age'].fillna(avg_age, inplace=True)\n",
    "df['Embarked'].fillna(df['Embarked'].value_counts().index[0], inplace=True)"
   ]
  },
  {
   "cell_type": "code",
   "execution_count": 9,
   "metadata": {
    "scrolled": true
   },
   "outputs": [
    {
     "data": {
      "text/plain": [
       "PassengerId    0\n",
       "Survived       0\n",
       "Pclass         0\n",
       "Name           0\n",
       "Sex            0\n",
       "Age            0\n",
       "SibSp          0\n",
       "Parch          0\n",
       "Ticket         0\n",
       "Fare           0\n",
       "Embarked       0\n",
       "dtype: int64"
      ]
     },
     "execution_count": 9,
     "metadata": {},
     "output_type": "execute_result"
    }
   ],
   "source": [
    "df.isnull().sum()"
   ]
  },
  {
   "cell_type": "markdown",
   "metadata": {},
   "source": [
    "# TGANに入れないcolumnsは削除しておく"
   ]
  },
  {
   "cell_type": "code",
   "execution_count": 10,
   "metadata": {},
   "outputs": [],
   "source": [
    "df.drop(['PassengerId','Name', 'Ticket'], axis=1, inplace=True)"
   ]
  },
  {
   "cell_type": "code",
   "execution_count": 11,
   "metadata": {},
   "outputs": [
    {
     "data": {
      "text/html": [
       "<div>\n",
       "<style scoped>\n",
       "    .dataframe tbody tr th:only-of-type {\n",
       "        vertical-align: middle;\n",
       "    }\n",
       "\n",
       "    .dataframe tbody tr th {\n",
       "        vertical-align: top;\n",
       "    }\n",
       "\n",
       "    .dataframe thead th {\n",
       "        text-align: right;\n",
       "    }\n",
       "</style>\n",
       "<table border=\"1\" class=\"dataframe\">\n",
       "  <thead>\n",
       "    <tr style=\"text-align: right;\">\n",
       "      <th></th>\n",
       "      <th>Survived</th>\n",
       "      <th>Pclass</th>\n",
       "      <th>Sex</th>\n",
       "      <th>Age</th>\n",
       "      <th>SibSp</th>\n",
       "      <th>Parch</th>\n",
       "      <th>Fare</th>\n",
       "      <th>Embarked</th>\n",
       "    </tr>\n",
       "  </thead>\n",
       "  <tbody>\n",
       "    <tr>\n",
       "      <th>0</th>\n",
       "      <td>0</td>\n",
       "      <td>3</td>\n",
       "      <td>male</td>\n",
       "      <td>22.0</td>\n",
       "      <td>1</td>\n",
       "      <td>0</td>\n",
       "      <td>7.2500</td>\n",
       "      <td>S</td>\n",
       "    </tr>\n",
       "    <tr>\n",
       "      <th>1</th>\n",
       "      <td>1</td>\n",
       "      <td>1</td>\n",
       "      <td>female</td>\n",
       "      <td>38.0</td>\n",
       "      <td>1</td>\n",
       "      <td>0</td>\n",
       "      <td>71.2833</td>\n",
       "      <td>C</td>\n",
       "    </tr>\n",
       "    <tr>\n",
       "      <th>2</th>\n",
       "      <td>1</td>\n",
       "      <td>3</td>\n",
       "      <td>female</td>\n",
       "      <td>26.0</td>\n",
       "      <td>0</td>\n",
       "      <td>0</td>\n",
       "      <td>7.9250</td>\n",
       "      <td>S</td>\n",
       "    </tr>\n",
       "    <tr>\n",
       "      <th>3</th>\n",
       "      <td>1</td>\n",
       "      <td>1</td>\n",
       "      <td>female</td>\n",
       "      <td>35.0</td>\n",
       "      <td>1</td>\n",
       "      <td>0</td>\n",
       "      <td>53.1000</td>\n",
       "      <td>S</td>\n",
       "    </tr>\n",
       "    <tr>\n",
       "      <th>4</th>\n",
       "      <td>0</td>\n",
       "      <td>3</td>\n",
       "      <td>male</td>\n",
       "      <td>35.0</td>\n",
       "      <td>0</td>\n",
       "      <td>0</td>\n",
       "      <td>8.0500</td>\n",
       "      <td>S</td>\n",
       "    </tr>\n",
       "  </tbody>\n",
       "</table>\n",
       "</div>"
      ],
      "text/plain": [
       "   Survived  Pclass     Sex   Age  SibSp  Parch     Fare Embarked\n",
       "0         0       3    male  22.0      1      0   7.2500        S\n",
       "1         1       1  female  38.0      1      0  71.2833        C\n",
       "2         1       3  female  26.0      0      0   7.9250        S\n",
       "3         1       1  female  35.0      1      0  53.1000        S\n",
       "4         0       3    male  35.0      0      0   8.0500        S"
      ]
     },
     "execution_count": 11,
     "metadata": {},
     "output_type": "execute_result"
    }
   ],
   "source": [
    "df.head()"
   ]
  },
  {
   "cell_type": "markdown",
   "metadata": {},
   "source": [
    "# TGANでcolumnsがindexに破壊的に置き換えられてしまうので、保存しておく"
   ]
  },
  {
   "cell_type": "code",
   "execution_count": 12,
   "metadata": {},
   "outputs": [],
   "source": [
    "df_columns = df.columns"
   ]
  },
  {
   "cell_type": "code",
   "execution_count": 13,
   "metadata": {},
   "outputs": [
    {
     "data": {
      "text/plain": [
       "[3, 6]"
      ]
     },
     "execution_count": 13,
     "metadata": {},
     "output_type": "execute_result"
    }
   ],
   "source": [
    "continuous_columns = [df.columns.get_loc(c) for c in df.select_dtypes(include=['float']).columns]\n",
    "continuous_columns"
   ]
  },
  {
   "cell_type": "code",
   "execution_count": 14,
   "metadata": {
    "scrolled": false
   },
   "outputs": [
    {
     "name": "stderr",
     "output_type": "stream",
     "text": [
      "WARNING: Logging before flag parsing goes to stderr.\n",
      "W0819 02:17:06.711143 140735518651264 deprecation_wrapper.py:119] From /Users/shotaroishihara/.pyenv/versions/anaconda3-5.0.0/lib/python3.6/site-packages/tensorpack/callbacks/hooks.py:17: The name tf.train.SessionRunHook is deprecated. Please use tf.estimator.SessionRunHook instead.\n",
      "\n",
      "W0819 02:17:06.724061 140735518651264 deprecation_wrapper.py:119] From /Users/shotaroishihara/.pyenv/versions/anaconda3-5.0.0/lib/python3.6/site-packages/tensorpack/tfutils/optimizer.py:18: The name tf.train.Optimizer is deprecated. Please use tf.compat.v1.train.Optimizer instead.\n",
      "\n",
      "W0819 02:17:06.726121 140735518651264 deprecation_wrapper.py:119] From /Users/shotaroishihara/.pyenv/versions/anaconda3-5.0.0/lib/python3.6/site-packages/tensorpack/tfutils/sesscreate.py:20: The name tf.train.SessionCreator is deprecated. Please use tf.compat.v1.train.SessionCreator instead.\n",
      "\n"
     ]
    }
   ],
   "source": [
    "from tgan.model import TGANModel"
   ]
  },
  {
   "cell_type": "code",
   "execution_count": 15,
   "metadata": {
    "scrolled": false
   },
   "outputs": [
    {
     "name": "stderr",
     "output_type": "stream",
     "text": [
      "W0819 02:17:07.181424 140735518651264 deprecation_wrapper.py:119] From /Users/shotaroishihara/.pyenv/versions/anaconda3-5.0.0/lib/python3.6/site-packages/tensorpack/graph_builder/model_desc.py:29: The name tf.get_default_graph is deprecated. Please use tf.compat.v1.get_default_graph instead.\n",
      "\n",
      "W0819 02:17:07.182371 140735518651264 deprecation_wrapper.py:119] From /Users/shotaroishihara/.pyenv/versions/anaconda3-5.0.0/lib/python3.6/site-packages/tensorpack/graph_builder/model_desc.py:39: The name tf.placeholder is deprecated. Please use tf.compat.v1.placeholder instead.\n",
      "\n",
      "W0819 02:17:07.189288 140735518651264 deprecation_wrapper.py:119] From /Users/shotaroishihara/.pyenv/versions/anaconda3-5.0.0/lib/python3.6/site-packages/tensorpack/input_source/input_source.py:219: The name tf.FIFOQueue is deprecated. Please use tf.queue.FIFOQueue instead.\n",
      "\n"
     ]
    },
    {
     "name": "stdout",
     "output_type": "stream",
     "text": [
      "CPU times: user 2 µs, sys: 0 ns, total: 2 µs\n",
      "Wall time: 5.25 µs\n",
      "\u001b[32m[0819 02:17:07 @input_source.py:222]\u001b[0m Setting up the queue 'QueueInput/input_queue' for CPU prefetching ...\n"
     ]
    },
    {
     "name": "stderr",
     "output_type": "stream",
     "text": [
      "W0819 02:17:07.196660 140735518651264 deprecation_wrapper.py:119] From /Users/shotaroishihara/.pyenv/versions/anaconda3-5.0.0/lib/python3.6/site-packages/tensorpack/tfutils/summary.py:237: The name tf.get_variable_scope is deprecated. Please use tf.compat.v1.get_variable_scope instead.\n",
      "\n",
      "W0819 02:17:07.197694 140735518651264 deprecation_wrapper.py:119] From /Users/shotaroishihara/.pyenv/versions/anaconda3-5.0.0/lib/python3.6/site-packages/tensorpack/tfutils/summary.py:27: The name tf.variable_scope is deprecated. Please use tf.compat.v1.variable_scope instead.\n",
      "\n",
      "W0819 02:17:07.230877 140735518651264 deprecation_wrapper.py:119] From /Users/shotaroishihara/.pyenv/versions/anaconda3-5.0.0/lib/python3.6/site-packages/tensorpack/tfutils/summary.py:264: The name tf.summary.scalar is deprecated. Please use tf.compat.v1.summary.scalar instead.\n",
      "\n",
      "W0819 02:17:07.244670 140735518651264 deprecation.py:323] From /Users/shotaroishihara/.pyenv/versions/anaconda3-5.0.0/lib/python3.6/site-packages/tgan/model.py:259: LSTMCell.__init__ (from tensorflow.python.ops.rnn_cell_impl) is deprecated and will be removed in a future version.\n",
      "Instructions for updating:\n",
      "This class is equivalent as tf.keras.layers.LSTMCell, and will be replaced by that in Tensorflow 2.0.\n",
      "W0819 02:17:07.265242 140735518651264 deprecation.py:506] From /Users/shotaroishihara/.pyenv/versions/anaconda3-5.0.0/lib/python3.6/site-packages/tensorflow/python/ops/init_ops.py:1251: calling VarianceScaling.__init__ (from tensorflow.python.ops.init_ops) with dtype is deprecated and will be removed in a future version.\n",
      "Instructions for updating:\n",
      "Call initializer instance with the dtype argument instead of passing it to the constructor\n",
      "W0819 02:17:07.297693 140735518651264 deprecation.py:506] From /Users/shotaroishihara/.pyenv/versions/anaconda3-5.0.0/lib/python3.6/site-packages/tensorflow/python/ops/rnn_cell_impl.py:961: calling Zeros.__init__ (from tensorflow.python.ops.init_ops) with dtype is deprecated and will be removed in a future version.\n",
      "Instructions for updating:\n",
      "Call initializer instance with the dtype argument instead of passing it to the constructor\n"
     ]
    },
    {
     "name": "stdout",
     "output_type": "stream",
     "text": [
      "\u001b[32m[0819 02:17:07 @registry.py:126]\u001b[0m gen/LSTM/00/FC input: [50, 100]\n"
     ]
    },
    {
     "name": "stderr",
     "output_type": "stream",
     "text": [
      "W0819 02:17:07.814757 140735518651264 deprecation_wrapper.py:119] From /Users/shotaroishihara/.pyenv/versions/anaconda3-5.0.0/lib/python3.6/site-packages/tensorpack/models/fc.py:57: The name tf.layers.Dense is deprecated. Please use tf.compat.v1.layers.Dense instead.\n",
      "\n"
     ]
    },
    {
     "name": "stdout",
     "output_type": "stream",
     "text": [
      "\u001b[32m[0819 02:17:08 @registry.py:134]\u001b[0m gen/LSTM/00/FC output: [50, 100]\n",
      "\u001b[32m[0819 02:17:08 @registry.py:126]\u001b[0m gen/LSTM/00/FC2 input: [50, 100]\n",
      "\u001b[32m[0819 02:17:08 @registry.py:134]\u001b[0m gen/LSTM/00/FC2 output: [50, 2]\n",
      "\u001b[32m[0819 02:17:08 @registry.py:126]\u001b[0m gen/LSTM/00/FC3 input: [50, 2]\n",
      "\u001b[32m[0819 02:17:08 @registry.py:134]\u001b[0m gen/LSTM/00/FC3 output: [50, 100]\n",
      "\u001b[32m[0819 02:17:08 @registry.py:126]\u001b[0m gen/LSTM/01/FC input: [50, 100]\n",
      "\u001b[32m[0819 02:17:08 @registry.py:134]\u001b[0m gen/LSTM/01/FC output: [50, 100]\n",
      "\u001b[32m[0819 02:17:08 @registry.py:126]\u001b[0m gen/LSTM/01/FC2 input: [50, 100]\n",
      "\u001b[32m[0819 02:17:08 @registry.py:134]\u001b[0m gen/LSTM/01/FC2 output: [50, 3]\n",
      "\u001b[32m[0819 02:17:08 @registry.py:126]\u001b[0m gen/LSTM/01/FC3 input: [50, 3]\n",
      "\u001b[32m[0819 02:17:08 @registry.py:134]\u001b[0m gen/LSTM/01/FC3 output: [50, 100]\n",
      "\u001b[32m[0819 02:17:08 @registry.py:126]\u001b[0m gen/LSTM/02/FC input: [50, 100]\n",
      "\u001b[32m[0819 02:17:08 @registry.py:134]\u001b[0m gen/LSTM/02/FC output: [50, 100]\n",
      "\u001b[32m[0819 02:17:08 @registry.py:126]\u001b[0m gen/LSTM/02/FC2 input: [50, 100]\n",
      "\u001b[32m[0819 02:17:08 @registry.py:134]\u001b[0m gen/LSTM/02/FC2 output: [50, 2]\n",
      "\u001b[32m[0819 02:17:08 @registry.py:126]\u001b[0m gen/LSTM/02/FC3 input: [50, 2]\n",
      "\u001b[32m[0819 02:17:08 @registry.py:134]\u001b[0m gen/LSTM/02/FC3 output: [50, 100]\n",
      "\u001b[32m[0819 02:17:08 @registry.py:126]\u001b[0m gen/LSTM/03/FC input: [50, 100]\n",
      "\u001b[32m[0819 02:17:08 @registry.py:134]\u001b[0m gen/LSTM/03/FC output: [50, 100]\n",
      "\u001b[32m[0819 02:17:08 @registry.py:126]\u001b[0m gen/LSTM/03/FC2 input: [50, 100]\n",
      "\u001b[32m[0819 02:17:08 @registry.py:134]\u001b[0m gen/LSTM/03/FC2 output: [50, 1]\n",
      "\u001b[32m[0819 02:17:08 @registry.py:126]\u001b[0m gen/LSTM/04/FC input: [50, 100]\n",
      "\u001b[32m[0819 02:17:08 @registry.py:134]\u001b[0m gen/LSTM/04/FC output: [50, 100]\n",
      "\u001b[32m[0819 02:17:08 @registry.py:126]\u001b[0m gen/LSTM/04/FC2 input: [50, 100]\n",
      "\u001b[32m[0819 02:17:08 @registry.py:134]\u001b[0m gen/LSTM/04/FC2 output: [50, 5]\n",
      "\u001b[32m[0819 02:17:08 @registry.py:126]\u001b[0m gen/LSTM/04/FC3 input: [50, 5]\n",
      "\u001b[32m[0819 02:17:08 @registry.py:134]\u001b[0m gen/LSTM/04/FC3 output: [50, 100]\n",
      "\u001b[32m[0819 02:17:08 @registry.py:126]\u001b[0m gen/LSTM/05/FC input: [50, 100]\n",
      "\u001b[32m[0819 02:17:08 @registry.py:134]\u001b[0m gen/LSTM/05/FC output: [50, 100]\n",
      "\u001b[32m[0819 02:17:08 @registry.py:126]\u001b[0m gen/LSTM/05/FC2 input: [50, 100]\n",
      "\u001b[32m[0819 02:17:08 @registry.py:134]\u001b[0m gen/LSTM/05/FC2 output: [50, 7]\n",
      "\u001b[32m[0819 02:17:08 @registry.py:126]\u001b[0m gen/LSTM/05/FC3 input: [50, 7]\n",
      "\u001b[32m[0819 02:17:08 @registry.py:134]\u001b[0m gen/LSTM/05/FC3 output: [50, 100]\n",
      "\u001b[32m[0819 02:17:08 @registry.py:126]\u001b[0m gen/LSTM/06/FC input: [50, 100]\n",
      "\u001b[32m[0819 02:17:08 @registry.py:134]\u001b[0m gen/LSTM/06/FC output: [50, 100]\n",
      "\u001b[32m[0819 02:17:08 @registry.py:126]\u001b[0m gen/LSTM/06/FC2 input: [50, 100]\n",
      "\u001b[32m[0819 02:17:08 @registry.py:134]\u001b[0m gen/LSTM/06/FC2 output: [50, 7]\n",
      "\u001b[32m[0819 02:17:08 @registry.py:126]\u001b[0m gen/LSTM/06/FC3 input: [50, 7]\n",
      "\u001b[32m[0819 02:17:08 @registry.py:134]\u001b[0m gen/LSTM/06/FC3 output: [50, 100]\n",
      "\u001b[32m[0819 02:17:08 @registry.py:126]\u001b[0m gen/LSTM/07/FC input: [50, 100]\n",
      "\u001b[32m[0819 02:17:08 @registry.py:134]\u001b[0m gen/LSTM/07/FC output: [50, 100]\n",
      "\u001b[32m[0819 02:17:08 @registry.py:126]\u001b[0m gen/LSTM/07/FC2 input: [50, 100]\n",
      "\u001b[32m[0819 02:17:08 @registry.py:134]\u001b[0m gen/LSTM/07/FC2 output: [50, 1]\n",
      "\u001b[32m[0819 02:17:09 @registry.py:126]\u001b[0m gen/LSTM/08/FC input: [50, 100]\n",
      "\u001b[32m[0819 02:17:09 @registry.py:134]\u001b[0m gen/LSTM/08/FC output: [50, 100]\n",
      "\u001b[32m[0819 02:17:09 @registry.py:126]\u001b[0m gen/LSTM/08/FC2 input: [50, 100]\n",
      "\u001b[32m[0819 02:17:09 @registry.py:134]\u001b[0m gen/LSTM/08/FC2 output: [50, 5]\n",
      "\u001b[32m[0819 02:17:09 @registry.py:126]\u001b[0m gen/LSTM/08/FC3 input: [50, 5]\n",
      "\u001b[32m[0819 02:17:09 @registry.py:134]\u001b[0m gen/LSTM/08/FC3 output: [50, 100]\n",
      "\u001b[32m[0819 02:17:09 @registry.py:126]\u001b[0m gen/LSTM/09/FC input: [50, 100]\n",
      "\u001b[32m[0819 02:17:09 @registry.py:134]\u001b[0m gen/LSTM/09/FC output: [50, 100]\n",
      "\u001b[32m[0819 02:17:09 @registry.py:126]\u001b[0m gen/LSTM/09/FC2 input: [50, 100]\n",
      "\u001b[32m[0819 02:17:09 @registry.py:134]\u001b[0m gen/LSTM/09/FC2 output: [50, 3]\n",
      "\u001b[32m[0819 02:17:09 @registry.py:126]\u001b[0m gen/LSTM/09/FC3 input: [50, 3]\n",
      "\u001b[32m[0819 02:17:09 @registry.py:134]\u001b[0m gen/LSTM/09/FC3 output: [50, 100]\n",
      "\u001b[32m[0819 02:17:09 @registry.py:126]\u001b[0m discrim/dis_fc0/fc input: [50, 36]\n",
      "\u001b[32m[0819 02:17:09 @registry.py:134]\u001b[0m discrim/dis_fc0/fc output: [50, 100]\n",
      "\u001b[32m[0819 02:17:09 @registry.py:126]\u001b[0m discrim/dis_fc0/fc_diversity input: [50, 100]\n",
      "\u001b[32m[0819 02:17:09 @registry.py:134]\u001b[0m discrim/dis_fc0/fc_diversity output: [50, 100]\n"
     ]
    },
    {
     "name": "stderr",
     "output_type": "stream",
     "text": [
      "W0819 02:17:09.521713 140735518651264 deprecation_wrapper.py:119] From /Users/shotaroishihara/.pyenv/versions/anaconda3-5.0.0/lib/python3.6/site-packages/tensorpack/models/batch_norm.py:204: The name tf.layers.BatchNormalization is deprecated. Please use tf.compat.v1.layers.BatchNormalization instead.\n",
      "\n"
     ]
    },
    {
     "name": "stdout",
     "output_type": "stream",
     "text": [
      "\u001b[32m[0819 02:17:09 @registry.py:126]\u001b[0m discrim/dis_fc_top input: [50, 110]\n",
      "\u001b[32m[0819 02:17:09 @registry.py:134]\u001b[0m discrim/dis_fc_top output: [50, 1]\n"
     ]
    },
    {
     "name": "stderr",
     "output_type": "stream",
     "text": [
      "W0819 02:17:09.718101 140735518651264 deprecation_wrapper.py:119] From /Users/shotaroishihara/.pyenv/versions/anaconda3-5.0.0/lib/python3.6/site-packages/tgan/model.py:118: The name tf.summary.histogram is deprecated. Please use tf.compat.v1.summary.histogram instead.\n",
      "\n",
      "W0819 02:17:09.726330 140735518651264 deprecation.py:323] From /Users/shotaroishihara/.pyenv/versions/anaconda3-5.0.0/lib/python3.6/site-packages/tensorflow/python/ops/nn_impl.py:180: add_dispatch_support.<locals>.wrapper (from tensorflow.python.ops.array_ops) is deprecated and will be removed in a future version.\n",
      "Instructions for updating:\n",
      "Use tf.where in 2.0, which has the same broadcast rule as np.where\n",
      "W0819 02:17:10.307646 140735518651264 lazy_loader.py:50] \n",
      "The TensorFlow contrib module will not be included in TensorFlow 2.0.\n",
      "For more information, please see:\n",
      "  * https://github.com/tensorflow/community/blob/master/rfcs/20180907-contrib-sunset.md\n",
      "  * https://github.com/tensorflow/addons\n",
      "  * https://github.com/tensorflow/io (for I/O related ops)\n",
      "If you depend on functionality not listed there, please file an issue.\n",
      "\n",
      "W0819 02:17:10.523095 140735518651264 deprecation_wrapper.py:119] From /Users/shotaroishihara/.pyenv/versions/anaconda3-5.0.0/lib/python3.6/site-packages/tgan/model.py:551: The name tf.train.AdamOptimizer is deprecated. Please use tf.compat.v1.train.AdamOptimizer instead.\n",
      "\n"
     ]
    },
    {
     "name": "stdout",
     "output_type": "stream",
     "text": [
      "\u001b[32m[0819 02:17:13 @logger.py:90]\u001b[0m Argv: /Users/shotaroishihara/.pyenv/versions/anaconda3-5.0.0/lib/python3.6/site-packages/ipykernel_launcher.py -f /Users/shotaroishihara/Library/Jupyter/runtime/kernel-0d4da767-c599-45d8-8a3d-021d24cc11d8.json\n"
     ]
    },
    {
     "name": "stderr",
     "output_type": "stream",
     "text": [
      "W0819 02:17:13.281690 140735518651264 deprecation_wrapper.py:119] From /Users/shotaroishihara/.pyenv/versions/anaconda3-5.0.0/lib/python3.6/site-packages/tensorpack/callbacks/saver.py:43: The name tf.gfile.IsDirectory is deprecated. Please use tf.io.gfile.isdir instead.\n",
      "\n",
      "W0819 02:17:13.282520 140735518651264 deprecation_wrapper.py:119] From /Users/shotaroishihara/.pyenv/versions/anaconda3-5.0.0/lib/python3.6/site-packages/tensorpack/callbacks/saver.py:44: The name tf.gfile.MakeDirs is deprecated. Please use tf.io.gfile.makedirs instead.\n",
      "\n"
     ]
    },
    {
     "name": "stdout",
     "output_type": "stream",
     "text": [
      "\u001b[32m[0819 02:17:13 @model_utils.py:67]\u001b[0m \u001b[36mList of Trainable Variables: \n",
      "\u001b[0mname                              shape         #elements\n",
      "--------------------------------  ----------  -----------\n",
      "gen/LSTM/go:0                     [1, 100]            100\n",
      "gen/LSTM/lstm_cell/kernel:0       [500, 400]       200000\n",
      "gen/LSTM/lstm_cell/bias:0         [400]               400\n",
      "gen/LSTM/00/FC/W:0                [100, 100]        10000\n",
      "gen/LSTM/00/FC/b:0                [100]               100\n",
      "gen/LSTM/00/FC2/W:0               [100, 2]            200\n",
      "gen/LSTM/00/FC2/b:0               [2]                   2\n",
      "gen/LSTM/00/FC3/W:0               [2, 100]            200\n",
      "gen/LSTM/00/FC3/b:0               [100]               100\n",
      "gen/LSTM/00/attw:0                [1, 1, 1]             1\n",
      "gen/LSTM/01/FC/W:0                [100, 100]        10000\n",
      "gen/LSTM/01/FC/b:0                [100]               100\n",
      "gen/LSTM/01/FC2/W:0               [100, 3]            300\n",
      "gen/LSTM/01/FC2/b:0               [3]                   3\n",
      "gen/LSTM/01/FC3/W:0               [3, 100]            300\n",
      "gen/LSTM/01/FC3/b:0               [100]               100\n",
      "gen/LSTM/01/attw:0                [2, 1, 1]             2\n",
      "gen/LSTM/02/FC/W:0                [100, 100]        10000\n",
      "gen/LSTM/02/FC/b:0                [100]               100\n",
      "gen/LSTM/02/FC2/W:0               [100, 2]            200\n",
      "gen/LSTM/02/FC2/b:0               [2]                   2\n",
      "gen/LSTM/02/FC3/W:0               [2, 100]            200\n",
      "gen/LSTM/02/FC3/b:0               [100]               100\n",
      "gen/LSTM/02/attw:0                [3, 1, 1]             3\n",
      "gen/LSTM/03/FC/W:0                [100, 100]        10000\n",
      "gen/LSTM/03/FC/b:0                [100]               100\n",
      "gen/LSTM/03/FC2/W:0               [100, 1]            100\n",
      "gen/LSTM/03/FC2/b:0               [1]                   1\n",
      "gen/LSTM/03/attw:0                [4, 1, 1]             4\n",
      "gen/LSTM/04/FC/W:0                [100, 100]        10000\n",
      "gen/LSTM/04/FC/b:0                [100]               100\n",
      "gen/LSTM/04/FC2/W:0               [100, 5]            500\n",
      "gen/LSTM/04/FC2/b:0               [5]                   5\n",
      "gen/LSTM/04/FC3/W:0               [5, 100]            500\n",
      "gen/LSTM/04/FC3/b:0               [100]               100\n",
      "gen/LSTM/04/attw:0                [5, 1, 1]             5\n",
      "gen/LSTM/05/FC/W:0                [100, 100]        10000\n",
      "gen/LSTM/05/FC/b:0                [100]               100\n",
      "gen/LSTM/05/FC2/W:0               [100, 7]            700\n",
      "gen/LSTM/05/FC2/b:0               [7]                   7\n",
      "gen/LSTM/05/FC3/W:0               [7, 100]            700\n",
      "gen/LSTM/05/FC3/b:0               [100]               100\n",
      "gen/LSTM/05/attw:0                [6, 1, 1]             6\n",
      "gen/LSTM/06/FC/W:0                [100, 100]        10000\n",
      "gen/LSTM/06/FC/b:0                [100]               100\n",
      "gen/LSTM/06/FC2/W:0               [100, 7]            700\n",
      "gen/LSTM/06/FC2/b:0               [7]                   7\n",
      "gen/LSTM/06/FC3/W:0               [7, 100]            700\n",
      "gen/LSTM/06/FC3/b:0               [100]               100\n",
      "gen/LSTM/06/attw:0                [7, 1, 1]             7\n",
      "gen/LSTM/07/FC/W:0                [100, 100]        10000\n",
      "gen/LSTM/07/FC/b:0                [100]               100\n",
      "gen/LSTM/07/FC2/W:0               [100, 1]            100\n",
      "gen/LSTM/07/FC2/b:0               [1]                   1\n",
      "gen/LSTM/07/attw:0                [8, 1, 1]             8\n",
      "gen/LSTM/08/FC/W:0                [100, 100]        10000\n",
      "gen/LSTM/08/FC/b:0                [100]               100\n",
      "gen/LSTM/08/FC2/W:0               [100, 5]            500\n",
      "gen/LSTM/08/FC2/b:0               [5]                   5\n",
      "gen/LSTM/08/FC3/W:0               [5, 100]            500\n",
      "gen/LSTM/08/FC3/b:0               [100]               100\n",
      "gen/LSTM/08/attw:0                [9, 1, 1]             9\n",
      "gen/LSTM/09/FC/W:0                [100, 100]        10000\n",
      "gen/LSTM/09/FC/b:0                [100]               100\n",
      "gen/LSTM/09/FC2/W:0               [100, 3]            300\n",
      "gen/LSTM/09/FC2/b:0               [3]                   3\n",
      "gen/LSTM/09/FC3/W:0               [3, 100]            300\n",
      "gen/LSTM/09/FC3/b:0               [100]               100\n",
      "gen/LSTM/09/attw:0                [10, 1, 1]           10\n",
      "discrim/dis_fc0/fc/W:0            [36, 100]          3600\n",
      "discrim/dis_fc0/fc/b:0            [100]               100\n",
      "discrim/dis_fc0/fc_diversity/W:0  [100, 100]        10000\n",
      "discrim/dis_fc0/fc_diversity/b:0  [100]               100\n",
      "discrim/dis_fc0/bn/beta:0         [110]               110\n",
      "discrim/dis_fc_top/W:0            [110, 1]            110\n",
      "discrim/dis_fc_top/b:0            [1]                   1\u001b[36m\n",
      "Number of trainable variables: 76\n",
      "Number of parameters (elements): 323412\n",
      "Storage space needed for all trainable variables: 1.23MB\u001b[0m\n",
      "\u001b[32m[0819 02:17:13 @base.py:209]\u001b[0m Setup callbacks graph ...\n"
     ]
    },
    {
     "name": "stderr",
     "output_type": "stream",
     "text": [
      "W0819 02:17:13.295694 140735518651264 deprecation_wrapper.py:119] From /Users/shotaroishihara/.pyenv/versions/anaconda3-5.0.0/lib/python3.6/site-packages/tensorpack/callbacks/graph.py:54: The name tf.train.SessionRunArgs is deprecated. Please use tf.estimator.SessionRunArgs instead.\n",
      "\n"
     ]
    },
    {
     "name": "stdout",
     "output_type": "stream",
     "text": [
      "\u001b[32m[0819 02:17:13 @summary.py:46]\u001b[0m [MovingAverageSummary] 6 operations in collection 'MOVING_SUMMARY_OPS' will be run with session hooks.\n",
      "\u001b[32m[0819 02:17:13 @summary.py:93]\u001b[0m Summarizing collection 'summaries' of size 9.\n"
     ]
    },
    {
     "name": "stderr",
     "output_type": "stream",
     "text": [
      "W0819 02:17:13.492088 140735518651264 deprecation_wrapper.py:119] From /Users/shotaroishihara/.pyenv/versions/anaconda3-5.0.0/lib/python3.6/site-packages/tensorpack/callbacks/summary.py:94: The name tf.summary.merge_all is deprecated. Please use tf.compat.v1.summary.merge_all instead.\n",
      "\n"
     ]
    },
    {
     "name": "stdout",
     "output_type": "stream",
     "text": [
      "\u001b[32m[0819 02:17:13 @graph.py:98]\u001b[0m Applying collection UPDATE_OPS of 4 ops.\n"
     ]
    },
    {
     "name": "stderr",
     "output_type": "stream",
     "text": [
      "W0819 02:17:13.498045 140735518651264 deprecation_wrapper.py:119] From /Users/shotaroishihara/.pyenv/versions/anaconda3-5.0.0/lib/python3.6/site-packages/tensorpack/callbacks/monitor.py:261: The name tf.summary.FileWriter is deprecated. Please use tf.compat.v1.summary.FileWriter instead.\n",
      "\n"
     ]
    },
    {
     "name": "stdout",
     "output_type": "stream",
     "text": [
      "\u001b[32m[0819 02:17:14 @base.py:230]\u001b[0m Creating the session ...\n",
      "\u001b[32m[0819 02:17:15 @base.py:236]\u001b[0m Initializing the session ...\n",
      "\u001b[32m[0819 02:17:15 @base.py:243]\u001b[0m Graph Finalized.\n",
      "\u001b[32m[0819 02:17:15 @concurrency.py:38]\u001b[0m Starting EnqueueThread QueueInput/input_queue ...\n"
     ]
    },
    {
     "name": "stderr",
     "output_type": "stream",
     "text": [
      "W0819 02:17:15.522864 140735518651264 deprecation_wrapper.py:119] From /Users/shotaroishihara/.pyenv/versions/anaconda3-5.0.0/lib/python3.6/site-packages/tensorpack/callbacks/monitor.py:309: The name tf.gfile.Exists is deprecated. Please use tf.io.gfile.exists instead.\n",
      "\n"
     ]
    },
    {
     "name": "stdout",
     "output_type": "stream",
     "text": [
      "\u001b[32m[0819 02:17:15 @base.py:275]\u001b[0m Start Epoch 1 ...\n"
     ]
    },
    {
     "name": "stderr",
     "output_type": "stream",
     "text": [
      "100%|##########|10000/10000[02:35<00:00,64.41it/s]"
     ]
    },
    {
     "name": "stdout",
     "output_type": "stream",
     "text": [
      "\u001b[32m[0819 02:19:50 @base.py:285]\u001b[0m Epoch 1 (global_step 10000) finished, time:2 minutes 35 seconds.\n",
      "\u001b[32m[0819 02:19:50 @saver.py:79]\u001b[0m Model saved to output/model/model-10000.\n",
      "\u001b[32m[0819 02:19:50 @monitor.py:467]\u001b[0m GAN_loss/discrim/accuracy_fake: 0.78\n",
      "\u001b[32m[0819 02:19:50 @monitor.py:467]\u001b[0m GAN_loss/discrim/accuracy_real: 0.3\n",
      "\u001b[32m[0819 02:19:50 @monitor.py:467]\u001b[0m GAN_loss/discrim/loss: 0.67256\n",
      "\u001b[32m[0819 02:19:50 @monitor.py:467]\u001b[0m GAN_loss/gen/final-g-loss: 1.0307\n",
      "\u001b[32m[0819 02:19:50 @monitor.py:467]\u001b[0m GAN_loss/gen/klloss: 0.16364\n",
      "\u001b[32m[0819 02:19:50 @monitor.py:467]\u001b[0m GAN_loss/gen/loss: 0.86706\n",
      "\u001b[32m[0819 02:19:50 @monitor.py:467]\u001b[0m QueueInput/queue_size: 50\n",
      "\u001b[32m[0819 02:19:50 @base.py:275]\u001b[0m Start Epoch 2 ...\n"
     ]
    },
    {
     "name": "stderr",
     "output_type": "stream",
     "text": [
      "\n",
      "100%|##########|10000/10000[02:31<00:00,65.98it/s]"
     ]
    },
    {
     "name": "stdout",
     "output_type": "stream",
     "text": [
      "\u001b[32m[0819 02:22:22 @base.py:285]\u001b[0m Epoch 2 (global_step 20000) finished, time:2 minutes 31 seconds.\n",
      "\u001b[32m[0819 02:22:22 @saver.py:79]\u001b[0m Model saved to output/model/model-20000.\n",
      "\u001b[32m[0819 02:22:22 @monitor.py:467]\u001b[0m GAN_loss/discrim/accuracy_fake: 0.92\n",
      "\u001b[32m[0819 02:22:22 @monitor.py:467]\u001b[0m GAN_loss/discrim/accuracy_real: 0.3\n",
      "\u001b[32m[0819 02:22:22 @monitor.py:467]\u001b[0m GAN_loss/discrim/loss: 0.61909\n",
      "\u001b[32m[0819 02:22:22 @monitor.py:467]\u001b[0m GAN_loss/gen/final-g-loss: 1.1143\n",
      "\u001b[32m[0819 02:22:22 @monitor.py:467]\u001b[0m GAN_loss/gen/klloss: 0.12303\n",
      "\u001b[32m[0819 02:22:22 @monitor.py:467]\u001b[0m GAN_loss/gen/loss: 0.99129\n",
      "\u001b[32m[0819 02:22:22 @monitor.py:467]\u001b[0m QueueInput/queue_size: 50\n",
      "\u001b[32m[0819 02:22:22 @base.py:275]\u001b[0m Start Epoch 3 ...\n"
     ]
    },
    {
     "name": "stderr",
     "output_type": "stream",
     "text": [
      "\n",
      "100%|##########|10000/10000[02:34<00:00,64.53it/s]"
     ]
    },
    {
     "name": "stdout",
     "output_type": "stream",
     "text": [
      "\u001b[32m[0819 02:24:57 @base.py:285]\u001b[0m Epoch 3 (global_step 30000) finished, time:2 minutes 34 seconds.\n",
      "\u001b[32m[0819 02:24:57 @saver.py:79]\u001b[0m Model saved to output/model/model-30000.\n",
      "\u001b[32m[0819 02:24:57 @monitor.py:467]\u001b[0m GAN_loss/discrim/accuracy_fake: 0.96\n",
      "\u001b[32m[0819 02:24:57 @monitor.py:467]\u001b[0m GAN_loss/discrim/accuracy_real: 0.2\n",
      "\u001b[32m[0819 02:24:57 @monitor.py:467]\u001b[0m GAN_loss/discrim/loss: 0.62615\n",
      "\u001b[32m[0819 02:24:57 @monitor.py:467]\u001b[0m GAN_loss/gen/final-g-loss: 1.1615\n",
      "\u001b[32m[0819 02:24:57 @monitor.py:467]\u001b[0m GAN_loss/gen/klloss: 0.16487\n",
      "\u001b[32m[0819 02:24:57 @monitor.py:467]\u001b[0m GAN_loss/gen/loss: 0.99665\n",
      "\u001b[32m[0819 02:24:57 @monitor.py:467]\u001b[0m QueueInput/queue_size: 50\n",
      "\u001b[32m[0819 02:24:57 @base.py:275]\u001b[0m Start Epoch 4 ...\n"
     ]
    },
    {
     "name": "stderr",
     "output_type": "stream",
     "text": [
      "\n",
      "100%|##########|10000/10000[02:32<00:00,65.74it/s]"
     ]
    },
    {
     "name": "stdout",
     "output_type": "stream",
     "text": [
      "\u001b[32m[0819 02:27:29 @base.py:285]\u001b[0m Epoch 4 (global_step 40000) finished, time:2 minutes 32 seconds.\n",
      "\u001b[32m[0819 02:27:29 @saver.py:79]\u001b[0m Model saved to output/model/model-40000.\n",
      "\u001b[32m[0819 02:27:29 @monitor.py:467]\u001b[0m GAN_loss/discrim/accuracy_fake: 0.86\n",
      "\u001b[32m[0819 02:27:29 @monitor.py:467]\u001b[0m GAN_loss/discrim/accuracy_real: 0.34\n",
      "\u001b[32m[0819 02:27:29 @monitor.py:467]\u001b[0m GAN_loss/discrim/loss: 0.64826\n",
      "\u001b[32m[0819 02:27:29 @monitor.py:467]\u001b[0m GAN_loss/gen/final-g-loss: 1.0523\n",
      "\u001b[32m[0819 02:27:29 @monitor.py:467]\u001b[0m GAN_loss/gen/klloss: 0.12617\n",
      "\u001b[32m[0819 02:27:29 @monitor.py:467]\u001b[0m GAN_loss/gen/loss: 0.92613\n",
      "\u001b[32m[0819 02:27:29 @monitor.py:467]\u001b[0m QueueInput/queue_size: 50\n",
      "\u001b[32m[0819 02:27:29 @base.py:275]\u001b[0m Start Epoch 5 ...\n"
     ]
    },
    {
     "name": "stderr",
     "output_type": "stream",
     "text": [
      "\n",
      "100%|##########|10000/10000[02:27<00:00,67.99it/s]"
     ]
    },
    {
     "name": "stdout",
     "output_type": "stream",
     "text": [
      "\u001b[32m[0819 02:29:56 @base.py:285]\u001b[0m Epoch 5 (global_step 50000) finished, time:2 minutes 27 seconds.\n",
      "\u001b[32m[0819 02:29:56 @saver.py:79]\u001b[0m Model saved to output/model/model-50000.\n",
      "\u001b[32m[0819 02:29:56 @monitor.py:467]\u001b[0m GAN_loss/discrim/accuracy_fake: 0.9\n",
      "\u001b[32m[0819 02:29:56 @monitor.py:467]\u001b[0m GAN_loss/discrim/accuracy_real: 0.24\n",
      "\u001b[32m[0819 02:29:56 @monitor.py:467]\u001b[0m GAN_loss/discrim/loss: 0.63292\n",
      "\u001b[32m[0819 02:29:56 @monitor.py:467]\u001b[0m GAN_loss/gen/final-g-loss: 1.3043\n",
      "\u001b[32m[0819 02:29:56 @monitor.py:467]\u001b[0m GAN_loss/gen/klloss: 0.2792\n",
      "\u001b[32m[0819 02:29:56 @monitor.py:467]\u001b[0m GAN_loss/gen/loss: 1.0251\n",
      "\u001b[32m[0819 02:29:56 @monitor.py:467]\u001b[0m QueueInput/queue_size: 50\n",
      "\u001b[32m[0819 02:29:56 @base.py:289]\u001b[0m Training has finished!\n"
     ]
    },
    {
     "name": "stderr",
     "output_type": "stream",
     "text": [
      "\n"
     ]
    },
    {
     "name": "stdout",
     "output_type": "stream",
     "text": [
      "\u001b[32m[0819 02:29:57 @input_source.py:178]\u001b[0m EnqueueThread QueueInput/input_queue Exited.\n",
      "\u001b[32m[0819 02:29:58 @collection.py:146]\u001b[0m New collections created in tower : tf.GraphKeys.REGULARIZATION_LOSSES\n",
      "\u001b[32m[0819 02:29:58 @collection.py:165]\u001b[0m These collections were modified but restored in : (tf.GraphKeys.SUMMARIES: 0->2)\n",
      "\u001b[32m[0819 02:29:58 @sessinit.py:87]\u001b[0m \u001b[5m\u001b[31mWRN\u001b[0m The following variables are in the checkpoint, but not found in the graph: global_step, optimize/beta1_power, optimize/beta2_power\n",
      "\u001b[32m[0819 02:29:58 @sessinit.py:114]\u001b[0m Restoring checkpoint from output/model/model-50000 ...\n"
     ]
    },
    {
     "name": "stderr",
     "output_type": "stream",
     "text": [
      "W0819 02:29:58.625829 140735518651264 deprecation.py:323] From /Users/shotaroishihara/.pyenv/versions/anaconda3-5.0.0/lib/python3.6/site-packages/tensorflow/python/training/saver.py:1276: checkpoint_exists (from tensorflow.python.training.checkpoint_management) is deprecated and will be removed in a future version.\n",
      "Instructions for updating:\n",
      "Use standard file APIs to check for files with this prefix.\n"
     ]
    }
   ],
   "source": [
    "%%time\n",
    "# batch_sizeを小さめに指定しないと、tensorpack の assertion error で止まる\n",
    "# https://github.com/tensorpack/tensorpack/blob/8112723601610a6a3a6211c9893bee23942c0848/tensorpack/dataflow/common.py#L90\n",
    "tgan = TGANModel(continuous_columns, batch_size=50)\n",
    "tgan.fit(df)"
   ]
  },
  {
   "cell_type": "code",
   "execution_count": 16,
   "metadata": {},
   "outputs": [
    {
     "data": {
      "text/html": [
       "<div>\n",
       "<style scoped>\n",
       "    .dataframe tbody tr th:only-of-type {\n",
       "        vertical-align: middle;\n",
       "    }\n",
       "\n",
       "    .dataframe tbody tr th {\n",
       "        vertical-align: top;\n",
       "    }\n",
       "\n",
       "    .dataframe thead th {\n",
       "        text-align: right;\n",
       "    }\n",
       "</style>\n",
       "<table border=\"1\" class=\"dataframe\">\n",
       "  <thead>\n",
       "    <tr style=\"text-align: right;\">\n",
       "      <th></th>\n",
       "      <th>0</th>\n",
       "      <th>1</th>\n",
       "      <th>2</th>\n",
       "      <th>3</th>\n",
       "      <th>4</th>\n",
       "      <th>5</th>\n",
       "      <th>6</th>\n",
       "      <th>7</th>\n",
       "    </tr>\n",
       "  </thead>\n",
       "  <tbody>\n",
       "    <tr>\n",
       "      <th>0</th>\n",
       "      <td>0</td>\n",
       "      <td>3</td>\n",
       "      <td>male</td>\n",
       "      <td>22.0</td>\n",
       "      <td>1</td>\n",
       "      <td>0</td>\n",
       "      <td>7.2500</td>\n",
       "      <td>S</td>\n",
       "    </tr>\n",
       "    <tr>\n",
       "      <th>1</th>\n",
       "      <td>1</td>\n",
       "      <td>1</td>\n",
       "      <td>female</td>\n",
       "      <td>38.0</td>\n",
       "      <td>1</td>\n",
       "      <td>0</td>\n",
       "      <td>71.2833</td>\n",
       "      <td>C</td>\n",
       "    </tr>\n",
       "    <tr>\n",
       "      <th>2</th>\n",
       "      <td>1</td>\n",
       "      <td>3</td>\n",
       "      <td>female</td>\n",
       "      <td>26.0</td>\n",
       "      <td>0</td>\n",
       "      <td>0</td>\n",
       "      <td>7.9250</td>\n",
       "      <td>S</td>\n",
       "    </tr>\n",
       "    <tr>\n",
       "      <th>3</th>\n",
       "      <td>1</td>\n",
       "      <td>1</td>\n",
       "      <td>female</td>\n",
       "      <td>35.0</td>\n",
       "      <td>1</td>\n",
       "      <td>0</td>\n",
       "      <td>53.1000</td>\n",
       "      <td>S</td>\n",
       "    </tr>\n",
       "    <tr>\n",
       "      <th>4</th>\n",
       "      <td>0</td>\n",
       "      <td>3</td>\n",
       "      <td>male</td>\n",
       "      <td>35.0</td>\n",
       "      <td>0</td>\n",
       "      <td>0</td>\n",
       "      <td>8.0500</td>\n",
       "      <td>S</td>\n",
       "    </tr>\n",
       "  </tbody>\n",
       "</table>\n",
       "</div>"
      ],
      "text/plain": [
       "   0  1       2     3  4  5        6  7\n",
       "0  0  3    male  22.0  1  0   7.2500  S\n",
       "1  1  1  female  38.0  1  0  71.2833  C\n",
       "2  1  3  female  26.0  0  0   7.9250  S\n",
       "3  1  1  female  35.0  1  0  53.1000  S\n",
       "4  0  3    male  35.0  0  0   8.0500  S"
      ]
     },
     "execution_count": 16,
     "metadata": {},
     "output_type": "execute_result"
    }
   ],
   "source": [
    "df.head()"
   ]
  },
  {
   "cell_type": "code",
   "execution_count": 17,
   "metadata": {},
   "outputs": [
    {
     "name": "stderr",
     "output_type": "stream",
     "text": [
      " 32%|###2      |16/50[00:00<00:00,68.75it/s]\n"
     ]
    }
   ],
   "source": [
    "num_samples = len(df)\n",
    "samples = tgan.sample(num_samples)"
   ]
  },
  {
   "cell_type": "code",
   "execution_count": 18,
   "metadata": {},
   "outputs": [
    {
     "data": {
      "text/html": [
       "<div>\n",
       "<style scoped>\n",
       "    .dataframe tbody tr th:only-of-type {\n",
       "        vertical-align: middle;\n",
       "    }\n",
       "\n",
       "    .dataframe tbody tr th {\n",
       "        vertical-align: top;\n",
       "    }\n",
       "\n",
       "    .dataframe thead th {\n",
       "        text-align: right;\n",
       "    }\n",
       "</style>\n",
       "<table border=\"1\" class=\"dataframe\">\n",
       "  <thead>\n",
       "    <tr style=\"text-align: right;\">\n",
       "      <th></th>\n",
       "      <th>Survived</th>\n",
       "      <th>Pclass</th>\n",
       "      <th>Sex</th>\n",
       "      <th>Age</th>\n",
       "      <th>SibSp</th>\n",
       "      <th>Parch</th>\n",
       "      <th>Fare</th>\n",
       "      <th>Embarked</th>\n",
       "    </tr>\n",
       "  </thead>\n",
       "  <tbody>\n",
       "    <tr>\n",
       "      <th>0</th>\n",
       "      <td>0</td>\n",
       "      <td>2</td>\n",
       "      <td>female</td>\n",
       "      <td>13.196098</td>\n",
       "      <td>3</td>\n",
       "      <td>0</td>\n",
       "      <td>20.713007</td>\n",
       "      <td>S</td>\n",
       "    </tr>\n",
       "    <tr>\n",
       "      <th>1</th>\n",
       "      <td>0</td>\n",
       "      <td>3</td>\n",
       "      <td>male</td>\n",
       "      <td>29.998602</td>\n",
       "      <td>0</td>\n",
       "      <td>0</td>\n",
       "      <td>11.851699</td>\n",
       "      <td>S</td>\n",
       "    </tr>\n",
       "    <tr>\n",
       "      <th>2</th>\n",
       "      <td>0</td>\n",
       "      <td>2</td>\n",
       "      <td>male</td>\n",
       "      <td>25.893719</td>\n",
       "      <td>0</td>\n",
       "      <td>0</td>\n",
       "      <td>10.928357</td>\n",
       "      <td>S</td>\n",
       "    </tr>\n",
       "    <tr>\n",
       "      <th>3</th>\n",
       "      <td>0</td>\n",
       "      <td>3</td>\n",
       "      <td>male</td>\n",
       "      <td>14.378340</td>\n",
       "      <td>0</td>\n",
       "      <td>0</td>\n",
       "      <td>9.984689</td>\n",
       "      <td>S</td>\n",
       "    </tr>\n",
       "    <tr>\n",
       "      <th>4</th>\n",
       "      <td>0</td>\n",
       "      <td>2</td>\n",
       "      <td>male</td>\n",
       "      <td>25.540975</td>\n",
       "      <td>0</td>\n",
       "      <td>0</td>\n",
       "      <td>13.816646</td>\n",
       "      <td>S</td>\n",
       "    </tr>\n",
       "  </tbody>\n",
       "</table>\n",
       "</div>"
      ],
      "text/plain": [
       "  Survived Pclass     Sex        Age SibSp Parch       Fare Embarked\n",
       "0        0      2  female  13.196098     3     0  20.713007        S\n",
       "1        0      3    male  29.998602     0     0  11.851699        S\n",
       "2        0      2    male  25.893719     0     0  10.928357        S\n",
       "3        0      3    male  14.378340     0     0   9.984689        S\n",
       "4        0      2    male  25.540975     0     0  13.816646        S"
      ]
     },
     "execution_count": 18,
     "metadata": {},
     "output_type": "execute_result"
    }
   ],
   "source": [
    "samples.columns = df_columns\n",
    "samples.head()"
   ]
  },
  {
   "cell_type": "code",
   "execution_count": 19,
   "metadata": {},
   "outputs": [
    {
     "data": {
      "text/plain": [
       "0    540\n",
       "1    310\n",
       "Name: Survived, dtype: int64"
      ]
     },
     "execution_count": 19,
     "metadata": {},
     "output_type": "execute_result"
    }
   ],
   "source": [
    "samples['Survived'].value_counts()"
   ]
  },
  {
   "cell_type": "code",
   "execution_count": 20,
   "metadata": {},
   "outputs": [
    {
     "name": "stdout",
     "output_type": "stream",
     "text": [
      "\u001b[32m[0819 02:49:01 @model.py:813]\u001b[0m Model saved successfully.\n"
     ]
    }
   ],
   "source": [
    "model_path = 'output/models/mymodel.pkl'\n",
    "tgan.save(model_path)"
   ]
  },
  {
   "cell_type": "code",
   "execution_count": null,
   "metadata": {},
   "outputs": [],
   "source": []
  }
 ],
 "metadata": {
  "kernelspec": {
   "display_name": "Python 3",
   "language": "python",
   "name": "python3"
  },
  "language_info": {
   "codemirror_mode": {
    "name": "ipython",
    "version": 3
   },
   "file_extension": ".py",
   "mimetype": "text/x-python",
   "name": "python",
   "nbconvert_exporter": "python",
   "pygments_lexer": "ipython3",
   "version": "3.6.8"
  }
 },
 "nbformat": 4,
 "nbformat_minor": 2
}
