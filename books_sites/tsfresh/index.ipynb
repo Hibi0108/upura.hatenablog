{
 "cells": [
  {
   "cell_type": "code",
   "execution_count": 1,
   "metadata": {},
   "outputs": [
    {
     "data": {
      "text/html": [
       "<style>.container { width:100% !important; }</style>"
      ],
      "text/plain": [
       "<IPython.core.display.HTML object>"
      ]
     },
     "metadata": {},
     "output_type": "display_data"
    }
   ],
   "source": [
    "from IPython.core.display import display, HTML \n",
    "display(HTML(\"<style>.container { width:100% !important; }</style>\"))\n",
    "import matplotlib.pyplot as plt\n",
    "%matplotlib inline\n",
    "\n",
    "import pandas as pd"
   ]
  },
  {
   "cell_type": "code",
   "execution_count": 2,
   "metadata": {
    "scrolled": true
   },
   "outputs": [],
   "source": [
    "# https://datamarket.com/data/set/22ti/zuerich-monthly-sunspot-numbers-1749-1983#!ds=22ti&display=line\n",
    "df = pd.read_csv(\n",
    "    'zuerich-monthly-sunspot-numbers-.csv',\n",
    ")"
   ]
  },
  {
   "cell_type": "code",
   "execution_count": 3,
   "metadata": {
    "scrolled": true
   },
   "outputs": [
    {
     "data": {
      "text/html": [
       "<div>\n",
       "<style>\n",
       "    .dataframe thead tr:only-child th {\n",
       "        text-align: right;\n",
       "    }\n",
       "\n",
       "    .dataframe thead th {\n",
       "        text-align: left;\n",
       "    }\n",
       "\n",
       "    .dataframe tbody tr th {\n",
       "        vertical-align: top;\n",
       "    }\n",
       "</style>\n",
       "<table border=\"1\" class=\"dataframe\">\n",
       "  <thead>\n",
       "    <tr style=\"text-align: right;\">\n",
       "      <th></th>\n",
       "      <th>Month</th>\n",
       "      <th>Zuerich_monthly_sunspot_numbers_1749-1983</th>\n",
       "    </tr>\n",
       "  </thead>\n",
       "  <tbody>\n",
       "    <tr>\n",
       "      <th>0</th>\n",
       "      <td>1749-01</td>\n",
       "      <td>58.0</td>\n",
       "    </tr>\n",
       "    <tr>\n",
       "      <th>1</th>\n",
       "      <td>1749-02</td>\n",
       "      <td>62.6</td>\n",
       "    </tr>\n",
       "    <tr>\n",
       "      <th>2</th>\n",
       "      <td>1749-03</td>\n",
       "      <td>70.0</td>\n",
       "    </tr>\n",
       "    <tr>\n",
       "      <th>3</th>\n",
       "      <td>1749-04</td>\n",
       "      <td>55.7</td>\n",
       "    </tr>\n",
       "    <tr>\n",
       "      <th>4</th>\n",
       "      <td>1749-05</td>\n",
       "      <td>85.0</td>\n",
       "    </tr>\n",
       "  </tbody>\n",
       "</table>\n",
       "</div>"
      ],
      "text/plain": [
       "     Month  Zuerich_monthly_sunspot_numbers_1749-1983\n",
       "0  1749-01                                       58.0\n",
       "1  1749-02                                       62.6\n",
       "2  1749-03                                       70.0\n",
       "3  1749-04                                       55.7\n",
       "4  1749-05                                       85.0"
      ]
     },
     "execution_count": 3,
     "metadata": {},
     "output_type": "execute_result"
    }
   ],
   "source": [
    "df.head()"
   ]
  },
  {
   "cell_type": "code",
   "execution_count": 4,
   "metadata": {},
   "outputs": [
    {
     "data": {
      "text/html": [
       "<div>\n",
       "<style>\n",
       "    .dataframe thead tr:only-child th {\n",
       "        text-align: right;\n",
       "    }\n",
       "\n",
       "    .dataframe thead th {\n",
       "        text-align: left;\n",
       "    }\n",
       "\n",
       "    .dataframe tbody tr th {\n",
       "        vertical-align: top;\n",
       "    }\n",
       "</style>\n",
       "<table border=\"1\" class=\"dataframe\">\n",
       "  <thead>\n",
       "    <tr style=\"text-align: right;\">\n",
       "      <th></th>\n",
       "      <th>Month</th>\n",
       "      <th>Zuerich_monthly_sunspot_numbers_1749-1983</th>\n",
       "    </tr>\n",
       "  </thead>\n",
       "  <tbody>\n",
       "    <tr>\n",
       "      <th>2815</th>\n",
       "      <td>Aug-83</td>\n",
       "      <td>71.8</td>\n",
       "    </tr>\n",
       "    <tr>\n",
       "      <th>2816</th>\n",
       "      <td>Sep-83</td>\n",
       "      <td>50.3</td>\n",
       "    </tr>\n",
       "    <tr>\n",
       "      <th>2817</th>\n",
       "      <td>Oct-83</td>\n",
       "      <td>55.8</td>\n",
       "    </tr>\n",
       "    <tr>\n",
       "      <th>2818</th>\n",
       "      <td>Nov-83</td>\n",
       "      <td>33.3</td>\n",
       "    </tr>\n",
       "    <tr>\n",
       "      <th>2819</th>\n",
       "      <td>Dec-83</td>\n",
       "      <td>33.4</td>\n",
       "    </tr>\n",
       "  </tbody>\n",
       "</table>\n",
       "</div>"
      ],
      "text/plain": [
       "       Month  Zuerich_monthly_sunspot_numbers_1749-1983\n",
       "2815  Aug-83                                       71.8\n",
       "2816  Sep-83                                       50.3\n",
       "2817  Oct-83                                       55.8\n",
       "2818  Nov-83                                       33.3\n",
       "2819  Dec-83                                       33.4"
      ]
     },
     "execution_count": 4,
     "metadata": {},
     "output_type": "execute_result"
    }
   ],
   "source": [
    "df.tail()"
   ]
  },
  {
   "cell_type": "code",
   "execution_count": 5,
   "metadata": {},
   "outputs": [
    {
     "data": {
      "text/plain": [
       "<matplotlib.axes._subplots.AxesSubplot at 0x110ca8588>"
      ]
     },
     "execution_count": 5,
     "metadata": {},
     "output_type": "execute_result"
    },
    {
     "data": {
      "image/png": "[encoded data removed]",
      "text/plain": [
       "<matplotlib.figure.Figure at 0x10d4bfe48>"
      ]
     },
     "metadata": {},
     "output_type": "display_data"
    }
   ],
   "source": [
    "df['Zuerich_monthly_sunspot_numbers_1749-1983'].plot()"
   ]
  },
  {
   "cell_type": "code",
   "execution_count": 6,
   "metadata": {},
   "outputs": [
    {
     "data": {
      "text/plain": [
       "(2820, 2)"
      ]
     },
     "execution_count": 6,
     "metadata": {},
     "output_type": "execute_result"
    }
   ],
   "source": [
    "df.shape"
   ]
  },
  {
   "cell_type": "markdown",
   "metadata": {},
   "source": [
    "## Feature Engineering"
   ]
  },
  {
   "cell_type": "code",
   "execution_count": 7,
   "metadata": {},
   "outputs": [],
   "source": [
    "def convert_to_datetime(date):\n",
    "    try:\n",
    "        return pd.to_datetime(date, format='%Y-%m')\n",
    "    except:\n",
    "        return pd.to_datetime(date, format='%b-%y')\n",
    "\n",
    "df['datetime'] = df['Month'].map(convert_to_datetime)"
   ]
  },
  {
   "cell_type": "code",
   "execution_count": 8,
   "metadata": {
    "collapsed": true
   },
   "outputs": [],
   "source": [
    "df['year'] = df['datetime'].dt.year\n",
    "df['month'] = df['datetime'].dt.month"
   ]
  },
  {
   "cell_type": "code",
   "execution_count": 9,
   "metadata": {
    "scrolled": true
   },
   "outputs": [
    {
     "data": {
      "text/plain": [
       "<matplotlib.axes._subplots.AxesSubplot at 0x115b985c0>"
      ]
     },
     "execution_count": 9,
     "metadata": {},
     "output_type": "execute_result"
    },
    {
     "data": {
      "image/png": "[encoded data removed]",
      "text/plain": [
       "<matplotlib.figure.Figure at 0x10d4bfdd8>"
      ]
     },
     "metadata": {},
     "output_type": "display_data"
    }
   ],
   "source": [
    "df['year'].plot()"
   ]
  },
  {
   "cell_type": "code",
   "execution_count": 10,
   "metadata": {},
   "outputs": [],
   "source": [
    "df['year'] = [y if y < 2000 else (y - 100) for y in df['year']]"
   ]
  },
  {
   "cell_type": "code",
   "execution_count": 11,
   "metadata": {
    "scrolled": true
   },
   "outputs": [
    {
     "data": {
      "text/plain": [
       "<matplotlib.axes._subplots.AxesSubplot at 0x115bfd630>"
      ]
     },
     "execution_count": 11,
     "metadata": {},
     "output_type": "execute_result"
    },
    {
     "data": {
      "image/png": "[encoded data removed]",
      "text/plain": [
       "<matplotlib.figure.Figure at 0x1190cf898>"
      ]
     },
     "metadata": {},
     "output_type": "display_data"
    }
   ],
   "source": [
    "df['year'].plot()"
   ]
  },
  {
   "cell_type": "markdown",
   "metadata": {},
   "source": [
    "## train, test"
   ]
  },
  {
   "cell_type": "code",
   "execution_count": 12,
   "metadata": {},
   "outputs": [],
   "source": [
    "from sklearn.model_selection import train_test_split\n",
    "train, test = train_test_split(df, shuffle=False, test_size=0.2, random_state=0)"
   ]
  },
  {
   "cell_type": "code",
   "execution_count": 13,
   "metadata": {},
   "outputs": [],
   "source": [
    "feature_columns = ['year', 'month']\n",
    "target_colunns = 'Zuerich_monthly_sunspot_numbers_1749-1983'\n",
    "\n",
    "X_train = train[feature_columns]\n",
    "y_train = train[target_colunns]\n",
    "\n",
    "X_test = test[feature_columns].reset_index(drop=True)\n",
    "y_test = test[target_colunns].reset_index(drop=True)"
   ]
  },
  {
   "cell_type": "markdown",
   "metadata": {},
   "source": [
    "## predict"
   ]
  },
  {
   "cell_type": "code",
   "execution_count": 14,
   "metadata": {
    "scrolled": true
   },
   "outputs": [
    {
     "data": {
      "text/plain": [
       "GradientBoostingRegressor(alpha=0.9, criterion='friedman_mse', init=None,\n",
       "             learning_rate=0.1, loss='ls', max_depth=3, max_features=None,\n",
       "             max_leaf_nodes=None, min_impurity_decrease=0.0,\n",
       "             min_impurity_split=None, min_samples_leaf=1,\n",
       "             min_samples_split=2, min_weight_fraction_leaf=0.0,\n",
       "             n_estimators=100, presort='auto', random_state=None,\n",
       "             subsample=1.0, verbose=0, warm_start=False)"
      ]
     },
     "execution_count": 14,
     "metadata": {},
     "output_type": "execute_result"
    }
   ],
   "source": [
    "from sklearn.ensemble import GradientBoostingRegressor\n",
    "\n",
    "clf = GradientBoostingRegressor()\n",
    "clf.fit(X_train, y_train)"
   ]
  },
  {
   "cell_type": "code",
   "execution_count": 15,
   "metadata": {},
   "outputs": [],
   "source": [
    "y_pred = clf.predict(X_test)"
   ]
  },
  {
   "cell_type": "code",
   "execution_count": 16,
   "metadata": {},
   "outputs": [
    {
     "data": {
      "text/plain": [
       "48.329151340846209"
      ]
     },
     "execution_count": 16,
     "metadata": {},
     "output_type": "execute_result"
    }
   ],
   "source": [
    "from sklearn.metrics import mean_absolute_error\n",
    "mean_absolute_error(y_test, y_pred)"
   ]
  },
  {
   "cell_type": "code",
   "execution_count": 17,
   "metadata": {
    "scrolled": true
   },
   "outputs": [
    {
     "data": {
      "text/plain": [
       "<matplotlib.legend.Legend at 0x1a1b1d7b38>"
      ]
     },
     "execution_count": 17,
     "metadata": {},
     "output_type": "execute_result"
    },
    {
     "data": {
      "image/png": "[encoded data removed]",
      "text/plain": [
       "<matplotlib.figure.Figure at 0x1a1b152c88>"
      ]
     },
     "metadata": {},
     "output_type": "display_data"
    }
   ],
   "source": [
    "plt.plot(y_test, label='y_test')\n",
    "plt.plot(y_pred, label='y_pred')\n",
    "plt.legend()"
   ]
  },
  {
   "cell_type": "code",
   "execution_count": 18,
   "metadata": {},
   "outputs": [
    {
     "name": "stderr",
     "output_type": "stream",
     "text": [
      "/Users/shotaroishihara/.pyenv/versions/anaconda3-5.0.0/lib/python3.6/site-packages/ipykernel_launcher.py:2: SettingWithCopyWarning: \n",
      "A value is trying to be set on a copy of a slice from a DataFrame.\n",
      "Try using .loc[row_indexer,col_indexer] = value instead\n",
      "\n",
      "See the caveats in the documentation: http://pandas.pydata.org/pandas-docs/stable/indexing.html#indexing-view-versus-copy\n",
      "  \n"
     ]
    }
   ],
   "source": [
    "df2 = df[['datetime', 'Zuerich_monthly_sunspot_numbers_1749-1983']]\n",
    "df2['id'] = [0 for y in df2.index]"
   ]
  },
  {
   "cell_type": "code",
   "execution_count": 19,
   "metadata": {},
   "outputs": [
    {
     "name": "stderr",
     "output_type": "stream",
     "text": [
      "/Users/shotaroishihara/.pyenv/versions/anaconda3-5.0.0/lib/python3.6/site-packages/statsmodels/compat/pandas.py:56: FutureWarning: The pandas.core.datetools module is deprecated and will be removed in a future version. Please use the pandas.tseries module instead.\n",
      "  from pandas.core import datetools\n",
      "Feature Extraction: 100%|██████████| 1/1 [00:09<00:00,  9.64s/it]\n"
     ]
    }
   ],
   "source": [
    "from tsfresh import extract_features\n",
    "extracted_features = extract_features(df2, column_id='id', column_sort='datetime')"
   ]
  },
  {
   "cell_type": "code",
   "execution_count": 20,
   "metadata": {},
   "outputs": [
    {
     "data": {
      "text/html": [
       "<div>\n",
       "<style>\n",
       "    .dataframe thead tr:only-child th {\n",
       "        text-align: right;\n",
       "    }\n",
       "\n",
       "    .dataframe thead th {\n",
       "        text-align: left;\n",
       "    }\n",
       "\n",
       "    .dataframe tbody tr th {\n",
       "        vertical-align: top;\n",
       "    }\n",
       "</style>\n",
       "<table border=\"1\" class=\"dataframe\">\n",
       "  <thead>\n",
       "    <tr style=\"text-align: right;\">\n",
       "      <th>variable</th>\n",
       "      <th>Zuerich_monthly_sunspot_numbers_1749-1983__abs_energy</th>\n",
       "      <th>Zuerich_monthly_sunspot_numbers_1749-1983__absolute_sum_of_changes</th>\n",
       "      <th>Zuerich_monthly_sunspot_numbers_1749-1983__agg_autocorrelation__f_agg_\"mean\"</th>\n",
       "      <th>Zuerich_monthly_sunspot_numbers_1749-1983__agg_autocorrelation__f_agg_\"median\"</th>\n",
       "      <th>Zuerich_monthly_sunspot_numbers_1749-1983__agg_autocorrelation__f_agg_\"var\"</th>\n",
       "      <th>Zuerich_monthly_sunspot_numbers_1749-1983__agg_linear_trend__f_agg_\"max\"__chunk_len_10__attr_\"intercept\"</th>\n",
       "      <th>Zuerich_monthly_sunspot_numbers_1749-1983__agg_linear_trend__f_agg_\"max\"__chunk_len_10__attr_\"rvalue\"</th>\n",
       "      <th>Zuerich_monthly_sunspot_numbers_1749-1983__agg_linear_trend__f_agg_\"max\"__chunk_len_10__attr_\"slope\"</th>\n",
       "      <th>Zuerich_monthly_sunspot_numbers_1749-1983__agg_linear_trend__f_agg_\"max\"__chunk_len_10__attr_\"stderr\"</th>\n",
       "      <th>Zuerich_monthly_sunspot_numbers_1749-1983__agg_linear_trend__f_agg_\"max\"__chunk_len_50__attr_\"intercept\"</th>\n",
       "      <th>...</th>\n",
       "      <th>Zuerich_monthly_sunspot_numbers_1749-1983__time_reversal_asymmetry_statistic__lag_1</th>\n",
       "      <th>Zuerich_monthly_sunspot_numbers_1749-1983__time_reversal_asymmetry_statistic__lag_2</th>\n",
       "      <th>Zuerich_monthly_sunspot_numbers_1749-1983__time_reversal_asymmetry_statistic__lag_3</th>\n",
       "      <th>Zuerich_monthly_sunspot_numbers_1749-1983__value_count__value_-inf</th>\n",
       "      <th>Zuerich_monthly_sunspot_numbers_1749-1983__value_count__value_0</th>\n",
       "      <th>Zuerich_monthly_sunspot_numbers_1749-1983__value_count__value_1</th>\n",
       "      <th>Zuerich_monthly_sunspot_numbers_1749-1983__value_count__value_inf</th>\n",
       "      <th>Zuerich_monthly_sunspot_numbers_1749-1983__value_count__value_nan</th>\n",
       "      <th>Zuerich_monthly_sunspot_numbers_1749-1983__variance</th>\n",
       "      <th>Zuerich_monthly_sunspot_numbers_1749-1983__variance_larger_than_standard_deviation</th>\n",
       "    </tr>\n",
       "    <tr>\n",
       "      <th>id</th>\n",
       "      <th></th>\n",
       "      <th></th>\n",
       "      <th></th>\n",
       "      <th></th>\n",
       "      <th></th>\n",
       "      <th></th>\n",
       "      <th></th>\n",
       "      <th></th>\n",
       "      <th></th>\n",
       "      <th></th>\n",
       "      <th></th>\n",
       "      <th></th>\n",
       "      <th></th>\n",
       "      <th></th>\n",
       "      <th></th>\n",
       "      <th></th>\n",
       "      <th></th>\n",
       "      <th></th>\n",
       "      <th></th>\n",
       "      <th></th>\n",
       "      <th></th>\n",
       "    </tr>\n",
       "  </thead>\n",
       "  <tbody>\n",
       "    <tr>\n",
       "      <th>0</th>\n",
       "      <td>12733264.62</td>\n",
       "      <td>34039.2</td>\n",
       "      <td>0.443809</td>\n",
       "      <td>0.470112</td>\n",
       "      <td>0.105622</td>\n",
       "      <td>63.540476</td>\n",
       "      <td>0.120038</td>\n",
       "      <td>0.075424</td>\n",
       "      <td>0.037279</td>\n",
       "      <td>100.836358</td>\n",
       "      <td>...</td>\n",
       "      <td>-55.221708</td>\n",
       "      <td>397.907341</td>\n",
       "      <td>95.186522</td>\n",
       "      <td>0.0</td>\n",
       "      <td>67.0</td>\n",
       "      <td>5.0</td>\n",
       "      <td>0.0</td>\n",
       "      <td>0.0</td>\n",
       "      <td>1887.143671</td>\n",
       "      <td>1.0</td>\n",
       "    </tr>\n",
       "  </tbody>\n",
       "</table>\n",
       "<p>1 rows × 794 columns</p>\n",
       "</div>"
      ],
      "text/plain": [
       "variable  Zuerich_monthly_sunspot_numbers_1749-1983__abs_energy  \\\n",
       "id                                                                \n",
       "0                                               12733264.62       \n",
       "\n",
       "variable  Zuerich_monthly_sunspot_numbers_1749-1983__absolute_sum_of_changes  \\\n",
       "id                                                                             \n",
       "0                                                   34039.2                    \n",
       "\n",
       "variable  Zuerich_monthly_sunspot_numbers_1749-1983__agg_autocorrelation__f_agg_\"mean\"  \\\n",
       "id                                                                                       \n",
       "0                                                  0.443809                              \n",
       "\n",
       "variable  Zuerich_monthly_sunspot_numbers_1749-1983__agg_autocorrelation__f_agg_\"median\"  \\\n",
       "id                                                                                         \n",
       "0                                                  0.470112                                \n",
       "\n",
       "variable  Zuerich_monthly_sunspot_numbers_1749-1983__agg_autocorrelation__f_agg_\"var\"  \\\n",
       "id                                                                                      \n",
       "0                                                  0.105622                             \n",
       "\n",
       "variable  Zuerich_monthly_sunspot_numbers_1749-1983__agg_linear_trend__f_agg_\"max\"__chunk_len_10__attr_\"intercept\"  \\\n",
       "id                                                                                                                   \n",
       "0                                                 63.540476                                                          \n",
       "\n",
       "variable  Zuerich_monthly_sunspot_numbers_1749-1983__agg_linear_trend__f_agg_\"max\"__chunk_len_10__attr_\"rvalue\"  \\\n",
       "id                                                                                                                \n",
       "0                                                  0.120038                                                       \n",
       "\n",
       "variable  Zuerich_monthly_sunspot_numbers_1749-1983__agg_linear_trend__f_agg_\"max\"__chunk_len_10__attr_\"slope\"  \\\n",
       "id                                                                                                               \n",
       "0                                                  0.075424                                                      \n",
       "\n",
       "variable  Zuerich_monthly_sunspot_numbers_1749-1983__agg_linear_trend__f_agg_\"max\"__chunk_len_10__attr_\"stderr\"  \\\n",
       "id                                                                                                                \n",
       "0                                                  0.037279                                                       \n",
       "\n",
       "variable  Zuerich_monthly_sunspot_numbers_1749-1983__agg_linear_trend__f_agg_\"max\"__chunk_len_50__attr_\"intercept\"  \\\n",
       "id                                                                                                                   \n",
       "0                                                100.836358                                                          \n",
       "\n",
       "variable                                         ...                                          \\\n",
       "id                                               ...                                           \n",
       "0                                                ...                                           \n",
       "\n",
       "variable  Zuerich_monthly_sunspot_numbers_1749-1983__time_reversal_asymmetry_statistic__lag_1  \\\n",
       "id                                                                                              \n",
       "0                                                -55.221708                                     \n",
       "\n",
       "variable  Zuerich_monthly_sunspot_numbers_1749-1983__time_reversal_asymmetry_statistic__lag_2  \\\n",
       "id                                                                                              \n",
       "0                                                397.907341                                     \n",
       "\n",
       "variable  Zuerich_monthly_sunspot_numbers_1749-1983__time_reversal_asymmetry_statistic__lag_3  \\\n",
       "id                                                                                              \n",
       "0                                                 95.186522                                     \n",
       "\n",
       "variable  Zuerich_monthly_sunspot_numbers_1749-1983__value_count__value_-inf  \\\n",
       "id                                                                             \n",
       "0                                                       0.0                    \n",
       "\n",
       "variable  Zuerich_monthly_sunspot_numbers_1749-1983__value_count__value_0  \\\n",
       "id                                                                          \n",
       "0                                                      67.0                 \n",
       "\n",
       "variable  Zuerich_monthly_sunspot_numbers_1749-1983__value_count__value_1  \\\n",
       "id                                                                          \n",
       "0                                                       5.0                 \n",
       "\n",
       "variable  Zuerich_monthly_sunspot_numbers_1749-1983__value_count__value_inf  \\\n",
       "id                                                                            \n",
       "0                                                       0.0                   \n",
       "\n",
       "variable  Zuerich_monthly_sunspot_numbers_1749-1983__value_count__value_nan  \\\n",
       "id                                                                            \n",
       "0                                                       0.0                   \n",
       "\n",
       "variable  Zuerich_monthly_sunspot_numbers_1749-1983__variance  \\\n",
       "id                                                              \n",
       "0                                               1887.143671     \n",
       "\n",
       "variable  Zuerich_monthly_sunspot_numbers_1749-1983__variance_larger_than_standard_deviation  \n",
       "id                                                                                            \n",
       "0                                                       1.0                                   \n",
       "\n",
       "[1 rows x 794 columns]"
      ]
     },
     "execution_count": 20,
     "metadata": {},
     "output_type": "execute_result"
    }
   ],
   "source": [
    "extracted_features.head()"
   ]
  },
  {
   "cell_type": "code",
   "execution_count": null,
   "metadata": {
    "collapsed": true
   },
   "outputs": [],
   "source": []
  }
 ],
 "metadata": {
  "kernelspec": {
   "display_name": "Python 3",
   "language": "python",
   "name": "python3"
  },
  "language_info": {
   "codemirror_mode": {
    "name": "ipython",
    "version": 3
   },
   "file_extension": ".py",
   "mimetype": "text/x-python",
   "name": "python",
   "nbconvert_exporter": "python",
   "pygments_lexer": "ipython3",
   "version": "3.6.7"
  }
 },
 "nbformat": 4,
 "nbformat_minor": 2
}
