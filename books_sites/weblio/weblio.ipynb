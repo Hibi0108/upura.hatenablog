{
 "cells": [
  {
   "cell_type": "code",
   "execution_count": 1,
   "metadata": {},
   "outputs": [],
   "source": [
    "import requests\n",
    "from bs4 import BeautifulSoup"
   ]
  },
  {
   "cell_type": "code",
   "execution_count": 2,
   "metadata": {},
   "outputs": [],
   "source": [
    "target_url = 'https://ejje.weblio.jp/sentence/content/apple'\n",
    "r = requests.get(target_url) \n",
    "soup = BeautifulSoup(r.text, \"html.parser\")"
   ]
  },
  {
   "cell_type": "code",
   "execution_count": 3,
   "metadata": {},
   "outputs": [],
   "source": [
    "qotCE = soup.find_all(\"p\", class_='qotCE')"
   ]
  },
  {
   "cell_type": "code",
   "execution_count": 4,
   "metadata": {},
   "outputs": [
    {
     "name": "stdout",
     "output_type": "stream",
     "text": [
      "A (is) for Apple. A例文帳に追加\n",
      "a baked apple例文帳に追加\n",
      "apple blossoms例文帳に追加\n",
      "apple butter例文帳に追加\n",
      "apple fritters例文帳に追加\n",
      "a green apple例文帳に追加\n",
      "an apple tart例文帳に追加\n",
      "an apple tree例文帳に追加\n",
      "a big apple例文帳に追加\n",
      "apple butter例文帳に追加\n",
      "apple jelly例文帳に追加\n",
      "pick off an apple例文帳に追加\n",
      "a cooking apple例文帳に追加\n",
      "core an apple例文帳に追加\n",
      "an apple corer例文帳に追加\n",
      "apple crumble例文帳に追加\n",
      "gnaw at [on] an apple例文帳に追加\n",
      "pare an apple例文帳に追加\n",
      "quarter an apple例文帳に追加\n",
      "a sour apple例文帳に追加\n",
      "a wizened apple例文帳に追加\n",
      "I want an apple.例文帳に追加\n",
      "He is an apple-polisher.例文帳に追加\n",
      "Give me an apple.例文帳に追加\n",
      "This apple is delicious.例文帳に追加\n",
      "Peel an apple例文帳に追加\n",
      "good apple‐pie fun例文帳に追加\n",
      "a kind of apple [metal]例文帳に追加\n",
      "bake an apple pie例文帳に追加\n",
      "an apple turnover例文帳に追加\n",
      "apple [currant, palm] wine例文帳に追加\n",
      "The apple tree is heavy with fruit.例文帳に追加\n",
      "a food called grilled apple例文帳に追加\n",
      "an apple called \"Jonathan\"例文帳に追加\n",
      "a plant called apple例文帳に追加\n",
      "a pastry called apple pandowdy例文帳に追加\n",
      "An apple is round in shape.例文帳に追加\n",
      "I like an apple.例文帳に追加\n",
      "I am eating an apple.例文帳に追加\n",
      "She bit into the apple.例文帳に追加\n",
      "The apple fell from the tree.例文帳に追加\n",
      "This is an apple, too.例文帳に追加\n",
      "This apple is bad.例文帳に追加\n",
      "This apple is sweet.例文帳に追加\n",
      "This apple is very red.例文帳に追加\n",
      "This apple is about as big as that apple.例文帳に追加\n",
      "To take an apple out from the box.例文帳に追加\n",
      "I saved half of the apple that I bought.例文帳に追加\n",
      "I split the apple into three pieces.例文帳に追加\n",
      "A mildly sweet apple pie.例文帳に追加\n"
     ]
    }
   ],
   "source": [
    "for q in qotCE:\n",
    "    print(q.text)"
   ]
  },
  {
   "cell_type": "code",
   "execution_count": null,
   "metadata": {},
   "outputs": [],
   "source": []
  }
 ],
 "metadata": {
  "kernelspec": {
   "display_name": "Python 3",
   "language": "python",
   "name": "python3"
  },
  "language_info": {
   "codemirror_mode": {
    "name": "ipython",
    "version": 3
   },
   "file_extension": ".py",
   "mimetype": "text/x-python",
   "name": "python",
   "nbconvert_exporter": "python",
   "pygments_lexer": "ipython3",
   "version": "3.6.8"
  }
 },
 "nbformat": 4,
 "nbformat_minor": 2
}
