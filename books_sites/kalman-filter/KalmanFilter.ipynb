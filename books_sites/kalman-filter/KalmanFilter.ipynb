{
 "cells": [
  {
   "cell_type": "code",
   "execution_count": 1,
   "metadata": {},
   "outputs": [
    {
     "data": {
      "text/html": [
       "<style>.container { width:100% !important; }</style>"
      ],
      "text/plain": [
       "<IPython.core.display.HTML object>"
      ]
     },
     "metadata": {},
     "output_type": "display_data"
    }
   ],
   "source": [
    "from IPython.core.display import display, HTML \n",
    "display(HTML(\"<style>.container { width:100% !important; }</style>\"))\n",
    "import pandas as pd\n",
    "import matplotlib.pyplot as plt\n",
    "from tqdm import tqdm_notebook as tqdm\n",
    "%matplotlib inline"
   ]
  },
  {
   "cell_type": "markdown",
   "metadata": {},
   "source": [
    "http://koukyo1213.hatenablog.com/entry/KalmanFilter"
   ]
  },
  {
   "cell_type": "code",
   "execution_count": 2,
   "metadata": {
    "collapsed": true
   },
   "outputs": [],
   "source": [
    "import numpy as np\n",
    "import numpy.random as random"
   ]
  },
  {
   "cell_type": "code",
   "execution_count": 3,
   "metadata": {
    "collapsed": true
   },
   "outputs": [],
   "source": [
    "def model(x, A, B, u):\n",
    "    return np.dot(A, x) + B * u\n",
    "\n",
    "def true(x):\n",
    "    noise = random.normal(0.0, 1.0, (2, 1))    # 誤差を乗せて返す \n",
    "    return x + noise\n",
    "\n",
    "def system(x, A, B, u):\n",
    "    true_val = true(model(x, A, B, u))\n",
    "    obs_val = true(true_val)\n",
    "    return true_val, obs_val"
   ]
  },
  {
   "cell_type": "code",
   "execution_count": 4,
   "metadata": {
    "collapsed": true
   },
   "outputs": [],
   "source": [
    "def Kalman_Filter(m, V, y, A, B, u, Q, R):\n",
    "    # 予測\n",
    "    m_est = model(x, A, B, u)\n",
    "    V_est = np.dot(np.dot(A, V), A.transpose()) + Q\n",
    "    \n",
    "    # 観測更新\n",
    "    K = np.dot(V_est, np.linalg.inv(V_est + R))\n",
    "    m_next = m_est + np.dot(K, (y - m_est))\n",
    "    V_next = np.dot((np.identity(2) - K), V_est)\n",
    "\n",
    "#     K = np.dot(V_est, np.dot(C.transpose(), np.linalg.inv(np.dot(C, np.dot(V_est, C.transpose())) + R)))\n",
    "#     m_next = m_est + np.dot(K, (y - np.dot(C, m_est)))\n",
    "#     V_next = np.dot((np.identity(2) - np.dot(K, C)), V_est)\n",
    "\n",
    "    return m_next, V_next"
   ]
  },
  {
   "cell_type": "code",
   "execution_count": 5,
   "metadata": {
    "collapsed": true
   },
   "outputs": [],
   "source": [
    "A = np.identity(2) # 状態方程式のA\n",
    "B = np.ones((2, 1)) # 状態方程式のB\n",
    "u = 2.0 # 速度\n",
    "x = np.zeros((2, 1)) # 真値\n",
    "m = np.zeros((2, 1)) # 推定値\n",
    "V = np.identity(2) # 推定値の初期共分散行列(勝手に設定して良い)\n",
    "Q = 2 * np.identity(2) # 入力誤差の共分散行列(今回はtrue()の中でnoiseの分散を2.0に設定したので)\n",
    "R = 2 * np.identity(2) # 上と同じ"
   ]
  },
  {
   "cell_type": "code",
   "execution_count": 6,
   "metadata": {},
   "outputs": [
    {
     "data": {
      "image/png": "[encoded data removed]",
      "text/plain": [
       "<matplotlib.figure.Figure at 0x1077d7160>"
      ]
     },
     "metadata": {},
     "output_type": "display_data"
    }
   ],
   "source": [
    "# 試行回数\n",
    "NUM = 50\n",
    "\n",
    "# 記録用\n",
    "rec = np.empty((4, NUM))\n",
    "\n",
    "# main loop\n",
    "for i in range(NUM):\n",
    "    x, y = system(x, A, B, u)\n",
    "    m, V = Kalman_Filter(m, V, y, A, B, u, Q, R)\n",
    "\n",
    "    rec[0, i] = x[0]\n",
    "    rec[1, i] = x[1]\n",
    "    rec[2, i] = m[0]\n",
    "    rec[3, i] = m[1]\n",
    "\n",
    "# 描画\n",
    "plt.plot(rec[0, :], rec[1, :], color=\"blue\", marker=\"o\", label=\"true\")\n",
    "plt.plot(rec[2, :], rec[3, :], color=\"red\", marker=\"^\", label=\"estimated\")\n",
    "plt.legend()\n",
    "plt.show()"
   ]
  },
  {
   "cell_type": "code",
   "execution_count": null,
   "metadata": {
    "collapsed": true
   },
   "outputs": [],
   "source": []
  }
 ],
 "metadata": {
  "kernelspec": {
   "display_name": "Python 3",
   "language": "python",
   "name": "python3"
  },
  "language_info": {
   "codemirror_mode": {
    "name": "ipython",
    "version": 3
   },
   "file_extension": ".py",
   "mimetype": "text/x-python",
   "name": "python",
   "nbconvert_exporter": "python",
   "pygments_lexer": "ipython3",
   "version": "3.6.7"
  }
 },
 "nbformat": 4,
 "nbformat_minor": 2
}
