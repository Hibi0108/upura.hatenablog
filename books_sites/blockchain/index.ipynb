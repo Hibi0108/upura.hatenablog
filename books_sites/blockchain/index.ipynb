{
 "cells": [
  {
   "cell_type": "markdown",
   "metadata": {},
   "source": [
    "http://catindog.hatenablog.com/entry/2018/03/22/195341"
   ]
  },
  {
   "cell_type": "code",
   "execution_count": 1,
   "metadata": {},
   "outputs": [
    {
     "data": {
      "text/html": [
       "<style>.container { width:100% !important; }</style>"
      ],
      "text/plain": [
       "<IPython.core.display.HTML object>"
      ]
     },
     "metadata": {},
     "output_type": "display_data"
    }
   ],
   "source": [
    "from IPython.core.display import display, HTML \n",
    "display(HTML(\"<style>.container { width:100% !important; }</style>\"))\n",
    "\n",
    "import hashlib\n",
    "import json\n",
    "import http.server\n",
    "import socketserver\n",
    "import time\n",
    "from datetime import datetime\n",
    "import concurrent.futures\n",
    "import requests\n",
    "import random"
   ]
  },
  {
   "cell_type": "code",
   "execution_count": 2,
   "metadata": {},
   "outputs": [],
   "source": [
    "def _gen_block(arg):\n",
    "  source_host, data, prev_hash = arg\n",
    "\n",
    "  now = time.time()\n",
    "  loc = datetime.fromtimestamp(now)\n",
    "  timestamp = loc.timestamp()\n",
    " \n",
    "  while True:\n",
    "    nonce = random.randint(0, 100000000000000) \n",
    "    block = { \\\n",
    "      'timestamp':timestamp, \\\n",
    "      'source_host':source_host, \\\n",
    "      'data':data, \\\n",
    "      'prev_hash': prev_hash,  \\\n",
    "      'nonce':nonce,\n",
    "    }\n",
    "    next_hash = hashlib.sha256(bytes(json.dumps(block),'utf8')).hexdigest()\n",
    "\n",
    "    # 先頭のN字が\"0\"ならば、採用\n",
    "    size = 1\n",
    "    if next_hash[:size] == '0'*size:\n",
    "      break\n",
    "  open(f'cache/{next_hash}', 'w').write( json.dumps(block, indent=2, ensure_ascii=False) ) \n",
    "  print(next_hash)\n",
    "  print(block)\n",
    "  return block, next_hash"
   ]
  },
  {
   "cell_type": "markdown",
   "metadata": {},
   "source": [
    "2019年1月15日の夕刊の1面アタマ\n",
    "https://www.nikkei.com/article/DGKKZO40005950V10C19A1MM0000/"
   ]
  },
  {
   "cell_type": "code",
   "execution_count": 3,
   "metadata": {},
   "outputs": [
    {
     "name": "stdout",
     "output_type": "stream",
     "text": [
      "0442d16ffaaf4a35db33a415111efb51e3592279549c8996efdc885eb886e9f2\n",
      "{'timestamp': 1547539931.872511, 'source_host': 'http://localhost:1200', 'data': 'Ground Zero', 'prev_hash': '5feceb66ffc86f38d952786c6d696c79c2dbc239dd4e91b46729d73a27fb57e9', 'nonce': 23205205749575}\n",
      "0fbf3eebb9d30b19d920b50b266197dd65e0d6ba6ac353cfa36d7b368ae2794e\n",
      "{'timestamp': 1547539931.874475, 'source_host': 'http://localhost:1200', 'data': 'フェアトレード、日本企業動く\\u3000ESG投資拡大で 帝人、認証コットン\\u3000イオンはカカオ取引10倍', 'prev_hash': '0442d16ffaaf4a35db33a415111efb51e3592279549c8996efdc885eb886e9f2', 'nonce': 38790722031958}\n",
      "034aadd5b4f634b6803228750b090ea42d9cfef5a33b2f70f2a4239d86fc74ab\n",
      "{'timestamp': 1547539931.876551, 'source_host': 'http://localhost:1200', 'data': '', 'prev_hash': '0fbf3eebb9d30b19d920b50b266197dd65e0d6ba6ac353cfa36d7b368ae2794e', 'nonce': 72877662601783}\n",
      "00ca85f428087f0cfe33eed44a4bf9d046c7358934338ed011795a3ac8233c5a\n",
      "{'timestamp': 1547539931.877543, 'source_host': 'http://localhost:1200', 'data': '途上国での児童労働の禁止など人権に配慮して生産したフェアトレード商品の流通が日本でも増える。帝人が認証を取得した繊維製品の販売を始めるほか、イオンは2020年までに認証済みカカオの取引量を12年比で10倍に増やす。人権や環境保護を意識した企業に投資するESG投資の広がりを受け、同商品の市場規模は世界で1兆円を超えた。日本でも社会的責任を意識した企業の取り組みが本格化する。', 'prev_hash': '034aadd5b4f634b6803228750b090ea42d9cfef5a33b2f70f2a4239d86fc74ab', 'nonce': 18619664502289}\n",
      "0868e2e567d04c0244c29a07629a3cafc2c179838a2851d969cb0edd09a11c4c\n",
      "{'timestamp': 1547539931.879086, 'source_host': 'http://localhost:1200', 'data': '', 'prev_hash': '00ca85f428087f0cfe33eed44a4bf9d046c7358934338ed011795a3ac8233c5a', 'nonce': 19875963251283}\n",
      "033fb79317fcd95c0819fe5d0297d8c7f7dca143e2ccc057300fb8de7ad4e5db\n",
      "{'timestamp': 1547539931.88123, 'source_host': 'http://localhost:1200', 'data': 'フェアトレード認証を受けた商品は特に欧州市場の伸びが大きい。日本の市場規模は1%程度とされ、欧州に比べ存在感に乏しい。ただ、投資家が人権や環境に配慮した企業を選別するESG投資の広がりから、企業側の意識が変わり始めた。', 'prev_hash': '0868e2e567d04c0244c29a07629a3cafc2c179838a2851d969cb0edd09a11c4c', 'nonce': 54328640108128}\n",
      "0fac3f54f99f6b29b9f613c0e581cbd2d10bea27f29d85537b81c79733160d45\n",
      "{'timestamp': 1547539931.882476, 'source_host': 'http://localhost:1200', 'data': '', 'prev_hash': '033fb79317fcd95c0819fe5d0297d8c7f7dca143e2ccc057300fb8de7ad4e5db', 'nonce': 2454083002168}\n",
      "03b2ee924a4ac68a9fa2decd6c9c239dde95773ea6a7cafa81943b2b3b6becee\n",
      "{'timestamp': 1547539931.883264, 'source_host': 'http://localhost:1200', 'data': '帝人の繊維子会社、帝人フロンティアは、20年からフェアトレード認証を取得したコットンを原料にした衣料品の販売開始を目指す。クラボウを通じて原料を調達し、2月にも販売ライセンスを取る。製造ライセンスの取得も検討する。帝人フロンティアは今後5年間で、フェアトレード認証を取得した製品の販売を増やしていく方針。', 'prev_hash': '0fac3f54f99f6b29b9f613c0e581cbd2d10bea27f29d85537b81c79733160d45', 'nonce': 76506871383075}\n",
      "0c92c802eb7c190f10faa3c6611ec71d28ea8d864a8caae859813719417626d6\n",
      "{'timestamp': 1547539931.884321, 'source_host': 'http://localhost:1200', 'data': '', 'prev_hash': '03b2ee924a4ac68a9fa2decd6c9c239dde95773ea6a7cafa81943b2b3b6becee', 'nonce': 3597384798628}\n",
      "0e37e5ce0ffbc04a3f66a01718999a123c695a8e4acbd7633d210da41f626aad\n",
      "{'timestamp': 1547539931.88581, 'source_host': 'http://localhost:1200', 'data': '帝人フロンティア衣料営業企画部の辻岡由衣氏は「フェアトレード商品を作るコストは従来より1～2割高くなるが、消費者に受け入れられやすくなってきた」と話す。こういった取り組みを始める理由として、「フェアトレード商品を取り扱うことで、働く人の人権に配慮していることをアピールできる」（帝人）という。', 'prev_hash': '0c92c802eb7c190f10faa3c6611ec71d28ea8d864a8caae859813719417626d6', 'nonce': 19645215931979}\n",
      "07ae7dcbc4c340c9d05be86ff146f43eb94c314f157090bfade574f59451c25f\n",
      "{'timestamp': 1547539931.886868, 'source_host': 'http://localhost:1200', 'data': '', 'prev_hash': '0e37e5ce0ffbc04a3f66a01718999a123c695a8e4acbd7633d210da41f626aad', 'nonce': 35343467121802}\n",
      "00c8392f757df6e767593847ad4ba699a17625bde4426a226088550fe2c86cb4\n",
      "{'timestamp': 1547539931.888526, 'source_host': 'http://localhost:1200', 'data': 'コーヒーやチョコレートなど約20種類のフェアトレード商品を扱うイオンは、20年までに認証済みカカオの取引量を12年比10倍に増やす。同社はプライベートブランド（PB=自主企画）商品の「トップバリュ」などで認証を取得。約8000店舗で販売している。', 'prev_hash': '07ae7dcbc4c340c9d05be86ff146f43eb94c314f157090bfade574f59451c25f', 'nonce': 20359221102560}\n",
      "09f2c8f54e89a7d2a115abd5fd3f9484f91bd72e8d6bc51bb4ef08552eecd758\n",
      "{'timestamp': 1547539931.889285, 'source_host': 'http://localhost:1200', 'data': '', 'prev_hash': '00c8392f757df6e767593847ad4ba699a17625bde4426a226088550fe2c86cb4', 'nonce': 11319914953390}\n",
      "0e61457f887816bce6110103486602090a5dd4048cc3cd4c22b71578041a24bb\n",
      "{'timestamp': 1547539931.890279, 'source_host': 'http://localhost:1200', 'data': 'インターネットサイトでは楽天が11月から「楽天市場」で環境や社会に配慮した約7000点の商品の販売を始めた。ヤフーも20年までにフェアトレード商品の販売を始める計画だ。', 'prev_hash': '09f2c8f54e89a7d2a115abd5fd3f9484f91bd72e8d6bc51bb4ef08552eecd758', 'nonce': 5160522029202}\n",
      "0273b7f9d47bb0fccbda0ec709a29b4674817030cddf371ecad3b27246dc861d\n",
      "{'timestamp': 1547539931.891003, 'source_host': 'http://localhost:1200', 'data': '', 'prev_hash': '0e61457f887816bce6110103486602090a5dd4048cc3cd4c22b71578041a24bb', 'nonce': 50950129514013}\n",
      "0669f940474bc0d7fc374520e9060ccf031e99fe944a3973d5d364550af64c49\n",
      "{'timestamp': 1547539931.891797, 'source_host': 'http://localhost:1200', 'data': '社員を啓発するための取り組みもでてきた。日清製粉グループ本社は、このほど社員食堂でフェアトレード認証を得たコーヒーの販売を始めた。「生産者の人権について考えてもらう」（石森昌子総務部主査）狙い。今後、持続可能性に配慮して作った食材を使ったランチの提供も検討する。', 'prev_hash': '0273b7f9d47bb0fccbda0ec709a29b4674817030cddf371ecad3b27246dc861d', 'nonce': 46597228755609}\n",
      "0a9370abda6aa0ba69fdeb87a7f892b287ab465e0f8876cb62b12f63d7e0e2ca\n",
      "{'timestamp': 1547539931.892515, 'source_host': 'http://localhost:1200', 'data': '', 'prev_hash': '0669f940474bc0d7fc374520e9060ccf031e99fe944a3973d5d364550af64c49', 'nonce': 41810680311699}\n",
      "0ee704fb94e3bc4198cc999703b1b1001d002dd6cfebe519458eefc30e07cd19\n",
      "{'timestamp': 1547539931.893219, 'source_host': 'http://localhost:1200', 'data': 'フェアトレード・インターナショナルのジョン・ロックリッジ氏は「国連が定めた持続可能な開発目標の推進もあり、認証取得の動きは日本でも増える」と見る。日本ではフェアトレードという言葉の認知度が50%と、欧州の90%に比べ低いのが課題だ。同認証を受けた食品や衣料品について、どんな生産者がどのように作っているのかを消費者に知ってもらう工夫が必要だ。', 'prev_hash': '0a9370abda6aa0ba69fdeb87a7f892b287ab465e0f8876cb62b12f63d7e0e2ca', 'nonce': 73201783158748}\n"
     ]
    }
   ],
   "source": [
    "start_block, next_hash = _gen_block(('http://localhost:1200', 'Ground Zero', hashlib.sha256(bytes('0', 'utf8')).hexdigest()))\n",
    "for line in open('stash/news.txt'):\n",
    "  line = line.strip()\n",
    "  block, next_hash = _gen_block(('http://localhost:1200', line, next_hash) )"
   ]
  },
  {
   "cell_type": "code",
   "execution_count": 5,
   "metadata": {},
   "outputs": [
    {
     "name": "stdout",
     "output_type": "stream",
     "text": [
      "フェアトレード・インターナショナルのジョン・ロックリッジ氏は「国連が定めた持続可能な開発目標の推進もあり、認証取得の動きは日本でも増える」と見る。日本ではフェアトレードという言葉の認知度が50%と、欧州の90%に比べ低いのが課題だ。同認証を受けた食品や衣料品について、どんな生産者がどのように作っているのかを消費者に知ってもらう工夫が必要だ。\n",
      "\n",
      "社員を啓発するための取り組みもでてきた。日清製粉グループ本社は、このほど社員食堂でフェアトレード認証を得たコーヒーの販売を始めた。「生産者の人権について考えてもらう」（石森昌子総務部主査）狙い。今後、持続可能性に配慮して作った食材を使ったランチの提供も検討する。\n",
      "\n",
      "インターネットサイトでは楽天が11月から「楽天市場」で環境や社会に配慮した約7000点の商品の販売を始めた。ヤフーも20年までにフェアトレード商品の販売を始める計画だ。\n",
      "\n",
      "コーヒーやチョコレートなど約20種類のフェアトレード商品を扱うイオンは、20年までに認証済みカカオの取引量を12年比10倍に増やす。同社はプライベートブランド（PB=自主企画）商品の「トップバリュ」などで認証を取得。約8000店舗で販売している。\n",
      "\n",
      "帝人フロンティア衣料営業企画部の辻岡由衣氏は「フェアトレード商品を作るコストは従来より1～2割高くなるが、消費者に受け入れられやすくなってきた」と話す。こういった取り組みを始める理由として、「フェアトレード商品を取り扱うことで、働く人の人権に配慮していることをアピールできる」（帝人）という。\n",
      "\n",
      "帝人の繊維子会社、帝人フロンティアは、20年からフェアトレード認証を取得したコットンを原料にした衣料品の販売開始を目指す。クラボウを通じて原料を調達し、2月にも販売ライセンスを取る。製造ライセンスの取得も検討する。帝人フロンティアは今後5年間で、フェアトレード認証を取得した製品の販売を増やしていく方針。\n",
      "\n",
      "フェアトレード認証を受けた商品は特に欧州市場の伸びが大きい。日本の市場規模は1%程度とされ、欧州に比べ存在感に乏しい。ただ、投資家が人権や環境に配慮した企業を選別するESG投資の広がりから、企業側の意識が変わり始めた。\n",
      "\n",
      "途上国での児童労働の禁止など人権に配慮して生産したフェアトレード商品の流通が日本でも増える。帝人が認証を取得した繊維製品の販売を始めるほか、イオンは2020年までに認証済みカカオの取引量を12年比で10倍に増やす。人権や環境保護を意識した企業に投資するESG投資の広がりを受け、同商品の市場規模は世界で1兆円を超えた。日本でも社会的責任を意識した企業の取り組みが本格化する。\n",
      "\n",
      "フェアトレード、日本企業動く　ESG投資拡大で 帝人、認証コットン　イオンはカカオ取引10倍\n",
      "Ground Zero\n"
     ]
    }
   ],
   "source": [
    "import json\n",
    "\n",
    "#while True:\n",
    "\n",
    "cor = '0ee704fb94e3bc4198cc999703b1b1001d002dd6cfebe519458eefc30e07cd19'\n",
    "\n",
    "while True:\n",
    "  obj = json.load( open(f'cache/{cor}') )\n",
    "  prev_hash = obj['prev_hash']\n",
    "  data = obj['data']\n",
    "  print( data )\n",
    "\n",
    "  if data == 'Ground Zero':\n",
    "    break\n",
    "  cor =  prev_hash"
   ]
  },
  {
   "cell_type": "code",
   "execution_count": null,
   "metadata": {},
   "outputs": [],
   "source": []
  }
 ],
 "metadata": {
  "kernelspec": {
   "display_name": "Python 3",
   "language": "python",
   "name": "python3"
  },
  "language_info": {
   "codemirror_mode": {
    "name": "ipython",
    "version": 3
   },
   "file_extension": ".py",
   "mimetype": "text/x-python",
   "name": "python",
   "nbconvert_exporter": "python",
   "pygments_lexer": "ipython3",
   "version": "3.6.3"
  }
 },
 "nbformat": 4,
 "nbformat_minor": 2
}
