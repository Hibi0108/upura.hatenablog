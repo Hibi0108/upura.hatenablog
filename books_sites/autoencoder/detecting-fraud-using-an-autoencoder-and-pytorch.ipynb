{
 "cells": [
  {
   "cell_type": "code",
   "execution_count": 1,
   "metadata": {
    "_cell_guid": "b1076dfc-b9ad-4769-8c92-a6c4dae69d19",
    "_uuid": "8f2839f25d086af736a60e9eeb907d3b93b6e0e5",
    "collapsed": true
   },
   "outputs": [],
   "source": [
    "import os\n",
    "\n",
    "import pandas as pd\n",
    "import numpy as np\n",
    "import seaborn as sns\n",
    "import collections\n",
    "from tqdm import tqdm, tqdm_notebook\n",
    "\n",
    "# PyTorch Packages\n",
    "import torch.nn as nn\n",
    "from torch.autograd import Variable as V\n",
    "import torch\n",
    "from torch.utils.data import DataLoader\n",
    "\n",
    "# SKLearn Packages\n",
    "from sklearn.preprocessing import StandardScaler\n",
    "from sklearn.model_selection import train_test_split\n",
    "from sklearn.metrics import roc_auc_score\n",
    "from sklearn.metrics import (confusion_matrix, precision_recall_curve, auc,\n",
    "                             roc_curve, recall_score, classification_report, f1_score)\n",
    "from sklearn.metrics import accuracy_score, precision_score\n",
    "\n",
    "# Plotting packages\n",
    "import matplotlib.pyplot as plt\n",
    "%matplotlib inline\n",
    "from bokeh.plotting import figure, output_notebook, show, ColumnDataSource\n",
    "from bokeh.models import HoverTool, NumeralTickFormatter\n",
    "from bokeh.palettes import Set3_12\n",
    "from bokeh.transform import jitter"
   ]
  },
  {
   "cell_type": "code",
   "execution_count": 2,
   "metadata": {
    "_cell_guid": "d0305f21-8673-408b-9998-79dd8b86daf3",
    "_uuid": "cd35b4b06b6dcbf48319f9b1d3690cdc8fb0c9de"
   },
   "outputs": [
    {
     "data": {
      "text/html": [
       "\n",
       "    <div class=\"bk-root\">\n",
       "        <a href=\"https://bokeh.pydata.org\" target=\"_blank\" class=\"bk-logo bk-logo-small bk-logo-notebook\"></a>\n",
       "        <span id=\"1001\">Loading BokehJS ...</span>\n",
       "    </div>"
      ]
     },
     "metadata": {},
     "output_type": "display_data"
    },
    {
     "data": {
      "application/javascript": [
       "\n",
       "(function(root) {\n",
       "  function now() {\n",
       "    return new Date();\n",
       "  }\n",
       "\n",
       "  var force = true;\n",
       "\n",
       "  if (typeof (root._bokeh_onload_callbacks) === \"undefined\" || force === true) {\n",
       "    root._bokeh_onload_callbacks = [];\n",
       "    root._bokeh_is_loading = undefined;\n",
       "  }\n",
       "\n",
       "  var JS_MIME_TYPE = 'application/javascript';\n",
       "  var HTML_MIME_TYPE = 'text/html';\n",
       "  var EXEC_MIME_TYPE = 'application/vnd.bokehjs_exec.v0+json';\n",
       "  var CLASS_NAME = 'output_bokeh rendered_html';\n",
       "\n",
       "  /**\n",
       "   * Render data to the DOM node\n",
       "   */\n",
       "  function render(props, node) {\n",
       "    var script = document.createElement(\"script\");\n",
       "    node.appendChild(script);\n",
       "  }\n",
       "\n",
       "  /**\n",
       "   * Handle when an output is cleared or removed\n",
       "   */\n",
       "  function handleClearOutput(event, handle) {\n",
       "    var cell = handle.cell;\n",
       "\n",
       "    var id = cell.output_area._bokeh_element_id;\n",
       "    var server_id = cell.output_area._bokeh_server_id;\n",
       "    // Clean up Bokeh references\n",
       "    if (id != null && id in Bokeh.index) {\n",
       "      Bokeh.index[id].model.document.clear();\n",
       "      delete Bokeh.index[id];\n",
       "    }\n",
       "\n",
       "    if (server_id !== undefined) {\n",
       "      // Clean up Bokeh references\n",
       "      var cmd = \"from bokeh.io.state import curstate; print(curstate().uuid_to_server['\" + server_id + \"'].get_sessions()[0].document.roots[0]._id)\";\n",
       "      cell.notebook.kernel.execute(cmd, {\n",
       "        iopub: {\n",
       "          output: function(msg) {\n",
       "            var id = msg.content.text.trim();\n",
       "            if (id in Bokeh.index) {\n",
       "              Bokeh.index[id].model.document.clear();\n",
       "              delete Bokeh.index[id];\n",
       "            }\n",
       "          }\n",
       "        }\n",
       "      });\n",
       "      // Destroy server and session\n",
       "      var cmd = \"import bokeh.io.notebook as ion; ion.destroy_server('\" + server_id + \"')\";\n",
       "      cell.notebook.kernel.execute(cmd);\n",
       "    }\n",
       "  }\n",
       "\n",
       "  /**\n",
       "   * Handle when a new output is added\n",
       "   */\n",
       "  function handleAddOutput(event, handle) {\n",
       "    var output_area = handle.output_area;\n",
       "    var output = handle.output;\n",
       "\n",
       "    // limit handleAddOutput to display_data with EXEC_MIME_TYPE content only\n",
       "    if ((output.output_type != \"display_data\") || (!output.data.hasOwnProperty(EXEC_MIME_TYPE))) {\n",
       "      return\n",
       "    }\n",
       "\n",
       "    var toinsert = output_area.element.find(\".\" + CLASS_NAME.split(' ')[0]);\n",
       "\n",
       "    if (output.metadata[EXEC_MIME_TYPE][\"id\"] !== undefined) {\n",
       "      toinsert[toinsert.length - 1].firstChild.textContent = output.data[JS_MIME_TYPE];\n",
       "      // store reference to embed id on output_area\n",
       "      output_area._bokeh_element_id = output.metadata[EXEC_MIME_TYPE][\"id\"];\n",
       "    }\n",
       "    if (output.metadata[EXEC_MIME_TYPE][\"server_id\"] !== undefined) {\n",
       "      var bk_div = document.createElement(\"div\");\n",
       "      bk_div.innerHTML = output.data[HTML_MIME_TYPE];\n",
       "      var script_attrs = bk_div.children[0].attributes;\n",
       "      for (var i = 0; i < script_attrs.length; i++) {\n",
       "        toinsert[toinsert.length - 1].firstChild.setAttribute(script_attrs[i].name, script_attrs[i].value);\n",
       "      }\n",
       "      // store reference to server id on output_area\n",
       "      output_area._bokeh_server_id = output.metadata[EXEC_MIME_TYPE][\"server_id\"];\n",
       "    }\n",
       "  }\n",
       "\n",
       "  function register_renderer(events, OutputArea) {\n",
       "\n",
       "    function append_mime(data, metadata, element) {\n",
       "      // create a DOM node to render to\n",
       "      var toinsert = this.create_output_subarea(\n",
       "        metadata,\n",
       "        CLASS_NAME,\n",
       "        EXEC_MIME_TYPE\n",
       "      );\n",
       "      this.keyboard_manager.register_events(toinsert);\n",
       "      // Render to node\n",
       "      var props = {data: data, metadata: metadata[EXEC_MIME_TYPE]};\n",
       "      render(props, toinsert[toinsert.length - 1]);\n",
       "      element.append(toinsert);\n",
       "      return toinsert\n",
       "    }\n",
       "\n",
       "    /* Handle when an output is cleared or removed */\n",
       "    events.on('clear_output.CodeCell', handleClearOutput);\n",
       "    events.on('delete.Cell', handleClearOutput);\n",
       "\n",
       "    /* Handle when a new output is added */\n",
       "    events.on('output_added.OutputArea', handleAddOutput);\n",
       "\n",
       "    /**\n",
       "     * Register the mime type and append_mime function with output_area\n",
       "     */\n",
       "    OutputArea.prototype.register_mime_type(EXEC_MIME_TYPE, append_mime, {\n",
       "      /* Is output safe? */\n",
       "      safe: true,\n",
       "      /* Index of renderer in `output_area.display_order` */\n",
       "      index: 0\n",
       "    });\n",
       "  }\n",
       "\n",
       "  // register the mime type if in Jupyter Notebook environment and previously unregistered\n",
       "  if (root.Jupyter !== undefined) {\n",
       "    var events = require('base/js/events');\n",
       "    var OutputArea = require('notebook/js/outputarea').OutputArea;\n",
       "\n",
       "    if (OutputArea.prototype.mime_types().indexOf(EXEC_MIME_TYPE) == -1) {\n",
       "      register_renderer(events, OutputArea);\n",
       "    }\n",
       "  }\n",
       "\n",
       "  \n",
       "  if (typeof (root._bokeh_timeout) === \"undefined\" || force === true) {\n",
       "    root._bokeh_timeout = Date.now() + 5000;\n",
       "    root._bokeh_failed_load = false;\n",
       "  }\n",
       "\n",
       "  var NB_LOAD_WARNING = {'data': {'text/html':\n",
       "     \"<div style='background-color: #fdd'>\\n\"+\n",
       "     \"<p>\\n\"+\n",
       "     \"BokehJS does not appear to have successfully loaded. If loading BokehJS from CDN, this \\n\"+\n",
       "     \"may be due to a slow or bad network connection. Possible fixes:\\n\"+\n",
       "     \"</p>\\n\"+\n",
       "     \"<ul>\\n\"+\n",
       "     \"<li>re-rerun `output_notebook()` to attempt to load from CDN again, or</li>\\n\"+\n",
       "     \"<li>use INLINE resources instead, as so:</li>\\n\"+\n",
       "     \"</ul>\\n\"+\n",
       "     \"<code>\\n\"+\n",
       "     \"from bokeh.resources import INLINE\\n\"+\n",
       "     \"output_notebook(resources=INLINE)\\n\"+\n",
       "     \"</code>\\n\"+\n",
       "     \"</div>\"}};\n",
       "\n",
       "  function display_loaded() {\n",
       "    var el = document.getElementById(\"1001\");\n",
       "    if (el != null) {\n",
       "      el.textContent = \"BokehJS is loading...\";\n",
       "    }\n",
       "    if (root.Bokeh !== undefined) {\n",
       "      if (el != null) {\n",
       "        el.textContent = \"BokehJS \" + root.Bokeh.version + \" successfully loaded.\";\n",
       "      }\n",
       "    } else if (Date.now() < root._bokeh_timeout) {\n",
       "      setTimeout(display_loaded, 100)\n",
       "    }\n",
       "  }\n",
       "\n",
       "\n",
       "  function run_callbacks() {\n",
       "    try {\n",
       "      root._bokeh_onload_callbacks.forEach(function(callback) { callback() });\n",
       "    }\n",
       "    finally {\n",
       "      delete root._bokeh_onload_callbacks\n",
       "    }\n",
       "    console.info(\"Bokeh: all callbacks have finished\");\n",
       "  }\n",
       "\n",
       "  function load_libs(js_urls, callback) {\n",
       "    root._bokeh_onload_callbacks.push(callback);\n",
       "    if (root._bokeh_is_loading > 0) {\n",
       "      console.log(\"Bokeh: BokehJS is being loaded, scheduling callback at\", now());\n",
       "      return null;\n",
       "    }\n",
       "    if (js_urls == null || js_urls.length === 0) {\n",
       "      run_callbacks();\n",
       "      return null;\n",
       "    }\n",
       "    console.log(\"Bokeh: BokehJS not loaded, scheduling load and callback at\", now());\n",
       "    root._bokeh_is_loading = js_urls.length;\n",
       "    for (var i = 0; i < js_urls.length; i++) {\n",
       "      var url = js_urls[i];\n",
       "      var s = document.createElement('script');\n",
       "      s.src = url;\n",
       "      s.async = false;\n",
       "      s.onreadystatechange = s.onload = function() {\n",
       "        root._bokeh_is_loading--;\n",
       "        if (root._bokeh_is_loading === 0) {\n",
       "          console.log(\"Bokeh: all BokehJS libraries loaded\");\n",
       "          run_callbacks()\n",
       "        }\n",
       "      };\n",
       "      s.onerror = function() {\n",
       "        console.warn(\"failed to load library \" + url);\n",
       "      };\n",
       "      console.log(\"Bokeh: injecting script tag for BokehJS library: \", url);\n",
       "      document.getElementsByTagName(\"head\")[0].appendChild(s);\n",
       "    }\n",
       "  };var element = document.getElementById(\"1001\");\n",
       "  if (element == null) {\n",
       "    console.log(\"Bokeh: ERROR: autoload.js configured with elementid '1001' but no matching script tag was found. \")\n",
       "    return false;\n",
       "  }\n",
       "\n",
       "  var js_urls = [\"https://cdn.pydata.org/bokeh/release/bokeh-1.0.4.min.js\", \"https://cdn.pydata.org/bokeh/release/bokeh-widgets-1.0.4.min.js\", \"https://cdn.pydata.org/bokeh/release/bokeh-tables-1.0.4.min.js\", \"https://cdn.pydata.org/bokeh/release/bokeh-gl-1.0.4.min.js\"];\n",
       "\n",
       "  var inline_js = [\n",
       "    function(Bokeh) {\n",
       "      Bokeh.set_log_level(\"info\");\n",
       "    },\n",
       "    \n",
       "    function(Bokeh) {\n",
       "      \n",
       "    },\n",
       "    function(Bokeh) {\n",
       "      console.log(\"Bokeh: injecting CSS: https://cdn.pydata.org/bokeh/release/bokeh-1.0.4.min.css\");\n",
       "      Bokeh.embed.inject_css(\"https://cdn.pydata.org/bokeh/release/bokeh-1.0.4.min.css\");\n",
       "      console.log(\"Bokeh: injecting CSS: https://cdn.pydata.org/bokeh/release/bokeh-widgets-1.0.4.min.css\");\n",
       "      Bokeh.embed.inject_css(\"https://cdn.pydata.org/bokeh/release/bokeh-widgets-1.0.4.min.css\");\n",
       "      console.log(\"Bokeh: injecting CSS: https://cdn.pydata.org/bokeh/release/bokeh-tables-1.0.4.min.css\");\n",
       "      Bokeh.embed.inject_css(\"https://cdn.pydata.org/bokeh/release/bokeh-tables-1.0.4.min.css\");\n",
       "    }\n",
       "  ];\n",
       "\n",
       "  function run_inline_js() {\n",
       "    \n",
       "    if ((root.Bokeh !== undefined) || (force === true)) {\n",
       "      for (var i = 0; i < inline_js.length; i++) {\n",
       "        inline_js[i].call(root, root.Bokeh);\n",
       "      }if (force === true) {\n",
       "        display_loaded();\n",
       "      }} else if (Date.now() < root._bokeh_timeout) {\n",
       "      setTimeout(run_inline_js, 100);\n",
       "    } else if (!root._bokeh_failed_load) {\n",
       "      console.log(\"Bokeh: BokehJS failed to load within specified timeout.\");\n",
       "      root._bokeh_failed_load = true;\n",
       "    } else if (force !== true) {\n",
       "      var cell = $(document.getElementById(\"1001\")).parents('.cell').data().cell;\n",
       "      cell.output_area.append_execute_result(NB_LOAD_WARNING)\n",
       "    }\n",
       "\n",
       "  }\n",
       "\n",
       "  if (root._bokeh_is_loading === 0) {\n",
       "    console.log(\"Bokeh: BokehJS loaded, going straight to plotting\");\n",
       "    run_inline_js();\n",
       "  } else {\n",
       "    load_libs(js_urls, function() {\n",
       "      console.log(\"Bokeh: BokehJS plotting callback run at\", now());\n",
       "      run_inline_js();\n",
       "    });\n",
       "  }\n",
       "}(window));"
      ],
      "application/vnd.bokehjs_load.v0+json": "\n(function(root) {\n  function now() {\n    return new Date();\n  }\n\n  var force = true;\n\n  if (typeof (root._bokeh_onload_callbacks) === \"undefined\" || force === true) {\n    root._bokeh_onload_callbacks = [];\n    root._bokeh_is_loading = undefined;\n  }\n\n  \n\n  \n  if (typeof (root._bokeh_timeout) === \"undefined\" || force === true) {\n    root._bokeh_timeout = Date.now() + 5000;\n    root._bokeh_failed_load = false;\n  }\n\n  var NB_LOAD_WARNING = {'data': {'text/html':\n     \"<div style='background-color: #fdd'>\\n\"+\n     \"<p>\\n\"+\n     \"BokehJS does not appear to have successfully loaded. If loading BokehJS from CDN, this \\n\"+\n     \"may be due to a slow or bad network connection. Possible fixes:\\n\"+\n     \"</p>\\n\"+\n     \"<ul>\\n\"+\n     \"<li>re-rerun `output_notebook()` to attempt to load from CDN again, or</li>\\n\"+\n     \"<li>use INLINE resources instead, as so:</li>\\n\"+\n     \"</ul>\\n\"+\n     \"<code>\\n\"+\n     \"from bokeh.resources import INLINE\\n\"+\n     \"output_notebook(resources=INLINE)\\n\"+\n     \"</code>\\n\"+\n     \"</div>\"}};\n\n  function display_loaded() {\n    var el = document.getElementById(\"1001\");\n    if (el != null) {\n      el.textContent = \"BokehJS is loading...\";\n    }\n    if (root.Bokeh !== undefined) {\n      if (el != null) {\n        el.textContent = \"BokehJS \" + root.Bokeh.version + \" successfully loaded.\";\n      }\n    } else if (Date.now() < root._bokeh_timeout) {\n      setTimeout(display_loaded, 100)\n    }\n  }\n\n\n  function run_callbacks() {\n    try {\n      root._bokeh_onload_callbacks.forEach(function(callback) { callback() });\n    }\n    finally {\n      delete root._bokeh_onload_callbacks\n    }\n    console.info(\"Bokeh: all callbacks have finished\");\n  }\n\n  function load_libs(js_urls, callback) {\n    root._bokeh_onload_callbacks.push(callback);\n    if (root._bokeh_is_loading > 0) {\n      console.log(\"Bokeh: BokehJS is being loaded, scheduling callback at\", now());\n      return null;\n    }\n    if (js_urls == null || js_urls.length === 0) {\n      run_callbacks();\n      return null;\n    }\n    console.log(\"Bokeh: BokehJS not loaded, scheduling load and callback at\", now());\n    root._bokeh_is_loading = js_urls.length;\n    for (var i = 0; i < js_urls.length; i++) {\n      var url = js_urls[i];\n      var s = document.createElement('script');\n      s.src = url;\n      s.async = false;\n      s.onreadystatechange = s.onload = function() {\n        root._bokeh_is_loading--;\n        if (root._bokeh_is_loading === 0) {\n          console.log(\"Bokeh: all BokehJS libraries loaded\");\n          run_callbacks()\n        }\n      };\n      s.onerror = function() {\n        console.warn(\"failed to load library \" + url);\n      };\n      console.log(\"Bokeh: injecting script tag for BokehJS library: \", url);\n      document.getElementsByTagName(\"head\")[0].appendChild(s);\n    }\n  };var element = document.getElementById(\"1001\");\n  if (element == null) {\n    console.log(\"Bokeh: ERROR: autoload.js configured with elementid '1001' but no matching script tag was found. \")\n    return false;\n  }\n\n  var js_urls = [\"https://cdn.pydata.org/bokeh/release/bokeh-1.0.4.min.js\", \"https://cdn.pydata.org/bokeh/release/bokeh-widgets-1.0.4.min.js\", \"https://cdn.pydata.org/bokeh/release/bokeh-tables-1.0.4.min.js\", \"https://cdn.pydata.org/bokeh/release/bokeh-gl-1.0.4.min.js\"];\n\n  var inline_js = [\n    function(Bokeh) {\n      Bokeh.set_log_level(\"info\");\n    },\n    \n    function(Bokeh) {\n      \n    },\n    function(Bokeh) {\n      console.log(\"Bokeh: injecting CSS: https://cdn.pydata.org/bokeh/release/bokeh-1.0.4.min.css\");\n      Bokeh.embed.inject_css(\"https://cdn.pydata.org/bokeh/release/bokeh-1.0.4.min.css\");\n      console.log(\"Bokeh: injecting CSS: https://cdn.pydata.org/bokeh/release/bokeh-widgets-1.0.4.min.css\");\n      Bokeh.embed.inject_css(\"https://cdn.pydata.org/bokeh/release/bokeh-widgets-1.0.4.min.css\");\n      console.log(\"Bokeh: injecting CSS: https://cdn.pydata.org/bokeh/release/bokeh-tables-1.0.4.min.css\");\n      Bokeh.embed.inject_css(\"https://cdn.pydata.org/bokeh/release/bokeh-tables-1.0.4.min.css\");\n    }\n  ];\n\n  function run_inline_js() {\n    \n    if ((root.Bokeh !== undefined) || (force === true)) {\n      for (var i = 0; i < inline_js.length; i++) {\n        inline_js[i].call(root, root.Bokeh);\n      }if (force === true) {\n        display_loaded();\n      }} else if (Date.now() < root._bokeh_timeout) {\n      setTimeout(run_inline_js, 100);\n    } else if (!root._bokeh_failed_load) {\n      console.log(\"Bokeh: BokehJS failed to load within specified timeout.\");\n      root._bokeh_failed_load = true;\n    } else if (force !== true) {\n      var cell = $(document.getElementById(\"1001\")).parents('.cell').data().cell;\n      cell.output_area.append_execute_result(NB_LOAD_WARNING)\n    }\n\n  }\n\n  if (root._bokeh_is_loading === 0) {\n    console.log(\"Bokeh: BokehJS loaded, going straight to plotting\");\n    run_inline_js();\n  } else {\n    load_libs(js_urls, function() {\n      console.log(\"Bokeh: BokehJS plotting callback run at\", now());\n      run_inline_js();\n    });\n  }\n}(window));"
     },
     "metadata": {},
     "output_type": "display_data"
    }
   ],
   "source": [
    "output_notebook()"
   ]
  },
  {
   "cell_type": "markdown",
   "metadata": {
    "_cell_guid": "47335c40-6fca-48d5-bbb5-5b6badcf9e87",
    "_uuid": "b8f8e9923f680345837093b525aa81bf0ce048fd"
   },
   "source": [
    "## Approach\n",
    "\n",
    "The general approach to this notebook is based on this awesome [post.](https://medium.com/@curiousily/credit-card-fraud-detection-using-autoencoders-in-keras-tensorflow-for-hackers-part-vii-20e0c85301bd) However, this implementation utilizes Pytorch as well as several modifications the architecture and input data.\n",
    "This notebook investigates using an autoencoder for anomaly and fraud detection. Autoencoders aren't new to machine learning, but they are not as prolific as some of the newer techniques in deep learning. An autoencoder's goal is to compress an input and then reconstruct the original input from the compressed data.\n",
    "![deep_autoencoder.png](https://deeplearning4j.org/img/deep_autoencoder.png)\n",
    "\n",
    "It is an unsupervised algorithm since the target variable is the input. There are many use cases and interesting applications of autoencoders which can be seen [here](https://towardsdatascience.com/autoencoders-bits-and-bytes-of-deep-learning-eaba376f23ad).\n",
    "\n",
    "\n",
    "In the case of detecting fraud, the approach is to build a model that will learn the characteristics of a normal transaction by training the model on non-fraudulent data points only. The idea is to get the model as accurate as possible at recreating normal transaction from the filtered data set. Once you have a model that can recreate normal transactions with a given amount of error, you then use the model to predict a set of data that has both normal and fraudulent transaction. If everything goes well, you will have a model that given a normal transaction will predict the original inputs with a small margin of error and a much larger error for transactions that are fraudulent."
   ]
  },
  {
   "cell_type": "code",
   "execution_count": 3,
   "metadata": {
    "_cell_guid": "83ea2a54-6bc0-48b1-9fb9-66d0dcb8ef7f",
    "_uuid": "a85b1c0a377cd3b6ab90dda3554f41b6446d3274",
    "collapsed": true
   },
   "outputs": [],
   "source": [
    "df = pd.read_csv('creditcard.csv')"
   ]
  },
  {
   "cell_type": "markdown",
   "metadata": {
    "_cell_guid": "817885de-d425-4410-9b66-0d84bf3f4726",
    "_uuid": "d4cfc47ab4597029dcdcd000d5c9c9e1bfdc028f"
   },
   "source": [
    "Since the *time* column comes in as seconds from the start of the 2 day period. I first normalized the time to a normal 24 hour clock as well as the time of every transaction and the amount to see if there is any pattern in the timing of fraudulent charges. For this notebook I will be using a mix of Bokeh and Seaborn for visualization."
   ]
  },
  {
   "cell_type": "code",
   "execution_count": 4,
   "metadata": {
    "_cell_guid": "93572498-2ef4-4f8b-8a36-e9ba9b98e6c6",
    "_uuid": "2c28c0fd983f95c2837b45cde9a0fd27e2e6bdd9",
    "collapsed": true
   },
   "outputs": [],
   "source": [
    "df['TimeNorm'] = df['Time'].apply(lambda x: np.ceil(float(x)/3600) % 24.)"
   ]
  },
  {
   "cell_type": "code",
   "execution_count": 5,
   "metadata": {
    "_cell_guid": "da7ed2ae-04a1-4b32-b3ec-ed8bd3dbf63e",
    "_uuid": "58455a2c3a7859e70a69d6c675e6dd4e6a1384a7",
    "collapsed": true
   },
   "outputs": [],
   "source": [
    "def format_plot(p, x_label, y_label):\n",
    "    p.grid.grid_line_color = None\n",
    "    p.background_fill_color = \"whitesmoke\"\n",
    "    p.axis.minor_tick_line_color = None\n",
    "    p.title.align = 'center'\n",
    "    p.title.text_font_size = \"18px\"\n",
    "    p.xaxis.axis_label = x_label\n",
    "    p.yaxis.axis_label = y_label\n",
    "    p.xaxis.axis_label_text_font_size = \"14px\"\n",
    "    p.yaxis.axis_label_text_font_size = \"14px\"\n",
    "    p.yaxis.axis_line_color = None\n",
    "    p.yaxis.major_tick_line_color = None\n",
    "    p.axis.major_label_text_font_size = \"12px\"\n",
    "    return p"
   ]
  },
  {
   "cell_type": "code",
   "execution_count": 6,
   "metadata": {
    "_cell_guid": "d97328b9-c1ca-492d-8e6b-6b4c241386e7",
    "_uuid": "5292fac84f85f66d6029f5e98836ba0e422f32c1"
   },
   "outputs": [
    {
     "data": {
      "text/html": [
       "\n",
       "\n",
       "\n",
       "\n",
       "\n",
       "\n",
       "  <div class=\"bk-root\" id=\"dc2bc572-3f28-476d-bd6e-9fef184b8dac\" data-root-id=\"1005\"></div>\n"
      ]
     },
     "metadata": {},
     "output_type": "display_data"
    },
    {
     "data": {
      "application/javascript": [
       "(function(root) {\n",
       "  function embed_document(root) {\n",
       "    \n",
       "  var docs_json = {\"c0757d89-c147-4567-bbc4-1aa113f9b1b0\":{\"roots\":{\"references\":[{\"attributes\":{\"background_fill_color\":{\"value\":\"whitesmoke\"},\"below\":[{\"id\":\"1015\",\"type\":\"LinearAxis\"}],\"left\":[{\"id\":\"1020\",\"type\":\"LinearAxis\"}],\"plot_width\":800,\"renderers\":[{\"id\":\"1015\",\"type\":\"LinearAxis\"},{\"id\":\"1019\",\"type\":\"Grid\"},{\"id\":\"1020\",\"type\":\"LinearAxis\"},{\"id\":\"1024\",\"type\":\"Grid\"},{\"id\":\"1033\",\"type\":\"BoxAnnotation\"},{\"id\":\"1044\",\"type\":\"GlyphRenderer\"},{\"id\":\"1050\",\"type\":\"GlyphRenderer\"}],\"title\":{\"id\":\"1004\",\"type\":\"Title\"},\"toolbar\":{\"id\":\"1031\",\"type\":\"Toolbar\"},\"toolbar_location\":null,\"x_range\":{\"id\":\"1007\",\"type\":\"DataRange1d\"},\"x_scale\":{\"id\":\"1011\",\"type\":\"LinearScale\"},\"y_range\":{\"id\":\"1009\",\"type\":\"DataRange1d\"},\"y_scale\":{\"id\":\"1013\",\"type\":\"LinearScale\"}},\"id\":\"1005\",\"subtype\":\"Figure\",\"type\":\"Plot\"},{\"attributes\":{},\"id\":\"1026\",\"type\":\"WheelZoomTool\"},{\"attributes\":{\"callback\":null,\"data\":{\"x\":{\"__ndarray__\":\"AAAAAAAAMEAAAAAAAAAuQAAAAAAAADZAAAAAAAAANkAAAAAAAAA0QAAAAAAAABxAAAAAAAAAJEAAAAAAAAAQQAAAAAAAADNAAAAAAAAAMEAAAAAAAAAwQAAAAAAAACpAAAAAAAAAJkAAAAAAAAAyQAAAAAAAACpAAAAAAAAAKkAAAAAAAAAzQAAAAAAAACZAAAAAAAAALkAAAAAAAAAxQAAAAAAAADJAAAAAAAAANEAAAAAAAAAoQAAAAAAAACxAAAAAAAAALkAAAAAAAAAqQAAAAAAAACxAAAAAAAAAHEAAAAAAAAAuQAAAAAAAABxAAAAAAAAAJkAAAAAAAAA2QAAAAAAAADNAAAAAAAAAEEAAAAAAAAAmQAAAAAAAADRAAAAAAAAAKkAAAAAAAAAAAAAAAAAAAC5AAAAAAAAAMEAAAAAAAAA3QAAAAAAAACpAAAAAAAAAKkAAAAAAAAAqQAAAAAAAADVAAAAAAAAAJEAAAAAAAAAwQAAAAAAAAC5AAAAAAAAANEAAAAAAAAA1QAAAAAAAACxAAAAAAAAANUAAAAAAAAAcQAAAAAAAAChAAAAAAAAALkAAAAAAAAAgQAAAAAAAACZAAAAAAAAANEAAAAAAAAAoQAAAAAAAACpAAAAAAAAALkAAAAAAAAAuQAAAAAAAADdAAAAAAAAAKkAAAAAAAAA2QAAAAAAAADFAAAAAAAAANkAAAAAAAAAzQAAAAAAAABBAAAAAAAAAFEAAAAAAAAA3QAAAAAAAACJAAAAAAAAAKEAAAAAAAAA3QAAAAAAAADRAAAAAAAAANEAAAAAAAAAuQAAAAAAAADRAAAAAAAAA8D8AAAAAAAAyQAAAAAAAADBAAAAAAAAALkAAAAAAAAA3QAAAAAAAACZAAAAAAAAAMUAAAAAAAADwPwAAAAAAACBAAAAAAAAANUAAAAAAAAAyQAAAAAAAADVAAAAAAAAAJkAAAAAAAAAiQAAAAAAAAAhAAAAAAAAAJEAAAAAAAAAUQAAAAAAAADNAAAAAAAAAKEAAAAAAAAA3QAAAAAAAADRAAAAAAAAAJkAAAAAAAAA0QAAAAAAAACpAAAAAAAAANkAAAAAAAAAcQAAAAAAAADdAAAAAAAAANUAAAAAAAAAcQAAAAAAAACxAAAAAAAAAKEAAAAAAAAAyQAAAAAAAADNAAAAAAAAACEAAAAAAAAAzQAAAAAAAACxAAAAAAAAAN0AAAAAAAAAYQAAAAAAAAPA/AAAAAAAAN0AAAAAAAAAmQAAAAAAAAChAAAAAAAAAAAAAAAAAAAAsQAAAAAAAACJAAAAAAAAAJEAAAAAAAAAiQAAAAAAAADNAAAAAAAAAMUAAAAAAAAAmQAAAAAAAACRAAAAAAAAANEAAAAAAAAA2QAAAAAAAADNAAAAAAAAAAEAAAAAAAAAyQAAAAAAAACRAAAAAAAAALEAAAAAAAAA2QAAAAAAAACRAAAAAAAAAJkAAAAAAAAAxQAAAAAAAAChAAAAAAAAAFEAAAAAAAAAxQAAAAAAAADBAAAAAAAAAN0AAAAAAAAAAQAAAAAAAAPA/AAAAAAAAMkAAAAAAAAAmQAAAAAAAAPA/AAAAAAAANUAAAAAAAAA1QAAAAAAAADJAAAAAAAAALkAAAAAAAAA0QAAAAAAAACpAAAAAAAAANEAAAAAAAAAyQAAAAAAAACZAAAAAAAAAMkAAAAAAAAAIQAAAAAAAACZAAAAAAAAALEAAAAAAAAA1QAAAAAAAAC5AAAAAAAAAHEAAAAAAAAAqQAAAAAAAACpAAAAAAAAANkAAAAAAAAAoQAAAAAAAACZAAAAAAAAA8D8AAAAAAAA3QAAAAAAAADZAAAAAAAAAMEAAAAAAAAAsQAAAAAAAADNAAAAAAAAAN0AAAAAAAAAyQAAAAAAAADFAAAAAAAAAAAAAAAAAAAAuQAAAAAAAADFAAAAAAAAALkAAAAAAAAAuQAAAAAAAADVAAAAAAAAAN0AAAAAAAAAyQAAAAAAAACxAAAAAAAAAMkAAAAAAAAA0QAAAAAAAACpAAAAAAAAACEAAAAAAAAA0QAAAAAAAADZAAAAAAAAAMkAAAAAAAAAmQAAAAAAAADJAAAAAAAAAIkAAAAAAAAAsQAAAAAAAACpAAAAAAAAAAEAAAAAAAAA3QAAAAAAAADJAAAAAAAAAJkAAAAAAAAAiQAAAAAAAACZAAAAAAAAAM0AAAAAAAAAyQAAAAAAAAAAAAAAAAAAANkAAAAAAAAA0QAAAAAAAADNAAAAAAAAANkAAAAAAAAAoQAAAAAAAADJAAAAAAAAAJEAAAAAAAAAzQAAAAAAAACBAAAAAAAAACEAAAAAAAAAqQAAAAAAAACRAAAAAAAAANkAAAAAAAAAoQAAAAAAAAChAAAAAAAAAFEAAAAAAAAAmQAAAAAAAABxAAAAAAAAAIEAAAAAAAAAoQAAAAAAAADZAAAAAAAAAJkAAAAAAAAAsQAAAAAAAACRAAAAAAAAAKEAAAAAAAAAqQAAAAAAAAChAAAAAAAAAJkAAAAAAAAA1QAAAAAAAACJAAAAAAAAAMEAAAAAAAAAuQAAAAAAAAC5AAAAAAAAANUAAAAAAAAA2QAAAAAAAACZAAAAAAAAAMUAAAAAAAAAmQAAAAAAAABBAAAAAAAAA8D8AAAAAAAAwQAAAAAAAADRAAAAAAAAAJkAAAAAAAAAwQAAAAAAAABhAAAAAAAAAJEAAAAAAAAA0QAAAAAAAACxAAAAAAAAAM0AAAAAAAAAyQAAAAAAAACxAAAAAAAAAAAAAAAAAAAA2QAAAAAAAACRAAAAAAAAAMUAAAAAAAAA3QAAAAAAAACxAAAAAAAAAMEAAAAAAAAA2QAAAAAAAADJAAAAAAAAAN0AAAAAAAADwPwAAAAAAAAhAAAAAAAAAM0AAAAAAAAA2QAAAAAAAADJAAAAAAAAALkAAAAAAAAAxQAAAAAAAADNAAAAAAAAAKkAAAAAAAAAkQAAAAAAAACZAAAAAAAAAMUAAAAAAAAAsQAAAAAAAAC5AAAAAAAAAHEAAAAAAAAAzQAAAAAAAADFAAAAAAAAAM0AAAAAAAAAmQAAAAAAAADVAAAAAAAAANkAAAAAAAAA3QAAAAAAAADJAAAAAAAAA8D8AAAAAAAAgQAAAAAAAABxAAAAAAAAAIkAAAAAAAAAkQAAAAAAAAC5AAAAAAAAANkAAAAAAAAAqQAAAAAAAADFAAAAAAAAA8D8AAAAAAAA2QAAAAAAAAC5AAAAAAAAAMEAAAAAAAAAcQAAAAAAAADZAAAAAAAAANUAAAAAAAAAyQAAAAAAAADFAAAAAAAAALkAAAAAAAAAyQAAAAAAAADRAAAAAAAAALEAAAAAAAAAmQAAAAAAAAC5AAAAAAAAAJEAAAAAAAAAmQAAAAAAAADFAAAAAAAAAAAAAAAAAAAAyQAAAAAAAADZAAAAAAAAAKEAAAAAAAAAiQAAAAAAAAC5AAAAAAAAA8D8AAAAAAAAxQAAAAAAAACxAAAAAAAAAMkAAAAAAAAAYQAAAAAAAACxAAAAAAAAAKkAAAAAAAAAyQAAAAAAAADRAAAAAAAAAMEAAAAAAAAAkQAAAAAAAADdAAAAAAAAANEAAAAAAAAAcQAAAAAAAADVAAAAAAAAAJkAAAAAAAAAiQAAAAAAAACxAAAAAAAAAAAAAAAAAAAAuQAAAAAAAADRAAAAAAAAAMkAAAAAAAAAsQAAAAAAAADZAAAAAAAAALkAAAAAAAAAYQAAAAAAAADNAAAAAAAAAMkAAAAAAAAAkQAAAAAAAAC5AAAAAAAAALkAAAAAAAAAqQAAAAAAAADRAAAAAAAAAJEAAAAAAAAAuQAAAAAAAACRAAAAAAAAAAAAAAAAAAAAqQAAAAAAAAPA/AAAAAAAAAAAAAAAAAAA0QAAAAAAAADdAAAAAAAAAIkAAAAAAAAAsQAAAAAAAADBAAAAAAAAANkAAAAAAAAAoQAAAAAAAADNAAAAAAAAANEAAAAAAAAAuQAAAAAAAADBAAAAAAAAAIEAAAAAAAAA1QAAAAAAAACxAAAAAAAAAM0AAAAAAAADwPwAAAAAAADBAAAAAAAAALEAAAAAAAAAuQAAAAAAAADFAAAAAAAAAM0AAAAAAAAAxQAAAAAAAADZAAAAAAAAAKEAAAAAAAAA1QAAAAAAAACpAAAAAAAAAKEAAAAAAAAAqQAAAAAAAADdAAAAAAAAAJkAAAAAAAAAwQAAAAAAAADZAAAAAAAAAJEAAAAAAAAA3QAAAAAAAADZAAAAAAAAAJkAAAAAAAAAiQAAAAAAAADJAAAAAAAAALEAAAAAAAAAuQAAAAAAAAC5AAAAAAAAAJkAAAAAAAAAwQAAAAAAAACRAAAAAAAAALkAAAAAAAAA1QAAAAAAAACRAAAAAAAAAKEAAAAAAAAA2QAAAAAAAACJAAAAAAAAAGEAAAAAAAAAwQAAAAAAAACZAAAAAAAAANEAAAAAAAAA1QAAAAAAAACxAAAAAAAAALEAAAAAAAAAoQAAAAAAAACpAAAAAAAAAN0AAAAAAAAA3QAAAAAAAADJAAAAAAAAANkAAAAAAAAA0QAAAAAAAADNAAAAAAAAAJkAAAAAAAAAqQAAAAAAAADNAAAAAAAAAJkAAAAAAAAA0QAAAAAAAADZAAAAAAAAAN0AAAAAAAAAcQAAAAAAAADZAAAAAAAAALkAAAAAAAAAzQAAAAAAAACZAAAAAAAAAM0AAAAAAAAAgQAAAAAAAACZAAAAAAAAAKkAAAAAAAAAxQAAAAAAAAC5AAAAAAAAANkAAAAAAAAAcQAAAAAAAADJAAAAAAAAALEAAAAAAAAAsQAAAAAAAACpAAAAAAAAANkAAAAAAAAAsQAAAAAAAACZAAAAAAAAACEAAAAAAAAAyQAAAAAAAADBAAAAAAAAAKEAAAAAAAAAYQAAAAAAAADJAAAAAAAAANkAAAAAAAAAoQAAAAAAAAAAAAAAAAAAAMEAAAAAAAAAoQAAAAAAAADVAAAAAAAAAMUAAAAAAAAAkQAAAAAAAACBAAAAAAAAAAEAAAAAAAAA0QAAAAAAAACZAAAAAAAAAKEAAAAAAAAAwQAAAAAAAADdAAAAAAAAAKkAAAAAAAAAgQAAAAAAAADdAAAAAAAAAAAAAAAAAAAAuQAAAAAAAADRAAAAAAAAANEAAAAAAAAAwQAAAAAAAACxAAAAAAAAAKEAAAAAAAAAkQAAAAAAAADBAAAAAAAAAMUAAAAAAAAAiQAAAAAAAACRAAAAAAAAANkAAAAAAAAAAAAAAAAAAAC5AAAAAAAAAEEAAAAAAAAAyQAAAAAAAACZAAAAAAAAANkAAAAAAAAAgQAAAAAAAAC5AAAAAAAAAJkAAAAAAAAAgQAAAAAAAADVAAAAAAAAAJEAAAAAAAAAxQAAAAAAAACpAAAAAAAAALkAAAAAAAAAwQAAAAAAAADJAAAAAAAAAMUAAAAAAAAA3QAAAAAAAADNAAAAAAAAAJkAAAAAAAAA1QAAAAAAAAAhAAAAAAAAAJEAAAAAAAAAyQAAAAAAAACZAAAAAAAAAIkAAAAAAAAAyQAAAAAAAADNAAAAAAAAANEAAAAAAAAA2QAAAAAAAADZAAAAAAAAAJkAAAAAAAAAzQAAAAAAAACpAAAAAAAAANEAAAAAAAAAsQAAAAAAAADFAAAAAAAAAGEAAAAAAAAAmQAAAAAAAAC5AAAAAAAAAIEAAAAAAAAAqQAAAAAAAADFAAAAAAAAALEAAAAAAAAAkQAAAAAAAACpAAAAAAAAAMkAAAAAAAAAsQAAAAAAAACJAAAAAAAAACEAAAAAAAAAAAAAAAAAAAChAAAAAAAAANkAAAAAAAAAzQAAAAAAAADNAAAAAAAAAMkAAAAAAAAAsQAAAAAAAADNAAAAAAAAAMUAAAAAAAAAyQAAAAAAAACpAAAAAAAAAMkAAAAAAAAAmQAAAAAAAACRAAAAAAAAAMkAAAAAAAAA3QAAAAAAAADZAAAAAAAAALkAAAAAAAAA2QAAAAAAAACJAAAAAAAAAM0AAAAAAAAAxQAAAAAAAADdAAAAAAAAAAAAAAAAAAAAqQAAAAAAAADVAAAAAAAAAIEAAAAAAAAA3QAAAAAAAAAhAAAAAAAAAMUAAAAAAAAA1QAAAAAAAAAAAAAAAAAAALkAAAAAAAAAwQAAAAAAAABBAAAAAAAAAIEAAAAAAAAAmQAAAAAAAACpAAAAAAAAAMEAAAAAAAAA2QAAAAAAAADBAAAAAAAAAJkAAAAAAAAA1QAAAAAAAACRAAAAAAAAAMEAAAAAAAAAwQAAAAAAAAChAAAAAAAAAKEAAAAAAAAAwQAAAAAAAACxAAAAAAAAANkAAAAAAAAAAAAAAAAAAACRAAAAAAAAAMEAAAAAAAAAzQAAAAAAAADNAAAAAAAAAJkAAAAAAAAAuQAAAAAAAACJAAAAAAAAAMUAAAAAAAAAxQAAAAAAAADdAAAAAAAAAN0AAAAAAAAA3QAAAAAAAADVAAAAAAAAALkAAAAAAAAA0QAAAAAAAAPA/AAAAAAAAMUAAAAAAAAA1QAAAAAAAADVAAAAAAAAAMkAAAAAAAAAmQAAAAAAAADNAAAAAAAAAAEAAAAAAAAAzQAAAAAAAABhAAAAAAAAAJkAAAAAAAAAkQAAAAAAAACpAAAAAAAAAAAAAAAAAAAAwQAAAAAAAACZAAAAAAAAAKEAAAAAAAAA1QAAAAAAAADdAAAAAAAAANUAAAAAAAAAyQAAAAAAAACpAAAAAAAAANEAAAAAAAAAAAAAAAAAAADBAAAAAAAAALEAAAAAAAADwPwAAAAAAADJAAAAAAAAAJEAAAAAAAAAoQAAAAAAAAChAAAAAAAAAKEAAAAAAAAA3QAAAAAAAAAAAAAAAAAAANUAAAAAAAAA0QAAAAAAAACpAAAAAAAAAKEAAAAAAAAAuQAAAAAAAACBAAAAAAAAAFEAAAAAAAAAgQAAAAAAAADFAAAAAAAAA8D8AAAAAAAAqQAAAAAAAACZAAAAAAAAAGEAAAAAAAAAAAAAAAAAAAC5AAAAAAAAAMkAAAAAAAAAmQAAAAAAAADJAAAAAAAAAJkAAAAAAAAAuQAAAAAAAADRAAAAAAAAANkAAAAAAAAAgQAAAAAAAADNAAAAAAAAAJkAAAAAAAAA0QAAAAAAAADVAAAAAAAAALEAAAAAAAAAkQAAAAAAAAAAAAAAAAAAAM0AAAAAAAAAmQAAAAAAAACZAAAAAAAAACEAAAAAAAAAqQAAAAAAAACpAAAAAAAAAN0AAAAAAAAA3QAAAAAAAADFAAAAAAAAAJkAAAAAAAAAAAAAAAAAAABBAAAAAAAAAJkAAAAAAAAAmQAAAAAAAACZAAAAAAAAANUAAAAAAAAAUQAAAAAAAACJAAAAAAAAAEEAAAAAAAAAsQAAAAAAAADJAAAAAAAAACEAAAAAAAAAkQAAAAAAAAAAAAAAAAAAANEAAAAAAAAA1QAAAAAAAADNAAAAAAAAANkAAAAAAAAA1QAAAAAAAADBAAAAAAAAAJEAAAAAAAAAyQAAAAAAAAC5AAAAAAAAAAEAAAAAAAAAmQAAAAAAAACZAAAAAAAAAMkAAAAAAAAAyQAAAAAAAADJAAAAAAAAAJkAAAAAAAAAgQAAAAAAAADdAAAAAAAAAKkAAAAAAAAA1QAAAAAAAADJAAAAAAAAAM0AAAAAAAAAQQAAAAAAAAChAAAAAAAAAMUAAAAAAAAA2QAAAAAAAACxAAAAAAAAAJkAAAAAAAAA0QAAAAAAAADNAAAAAAAAAMkAAAAAAAAAzQAAAAAAAACpAAAAAAAAAMEAAAAAAAAAzQAAAAAAAADNAAAAAAAAALkAAAAAAAADwPwAAAAAAADVAAAAAAAAAKkAAAAAAAAAuQAAAAAAAADNAAAAAAAAANEAAAAAAAADwPwAAAAAAADJAAAAAAAAANEAAAAAAAAAAAAAAAAAAADJAAAAAAAAAMEAAAAAAAAA2QAAAAAAAAC5AAAAAAAAAKkAAAAAAAAAiQAAAAAAAADNAAAAAAAAALkAAAAAAAAA3QAAAAAAAACxAAAAAAAAAGEAAAAAAAAA1QAAAAAAAADVAAAAAAAAAMkAAAAAAAAAwQAAAAAAAADBAAAAAAAAALEAAAAAAAAA2QAAAAAAAAAAAAAAAAAAAMEAAAAAAAAA1QAAAAAAAAC5AAAAAAAAAM0AAAAAAAAAsQAAAAAAAADBAAAAAAAAAM0AAAAAAAAAmQAAAAAAAADJAAAAAAAAAN0AAAAAAAAA3QAAAAAAAAPA/AAAAAAAALEAAAAAAAAAqQAAAAAAAADVAAAAAAAAAN0AAAAAAAAAoQAAAAAAAADVAAAAAAAAANEAAAAAAAAA0QAAAAAAAACJAAAAAAAAAMEAAAAAAAAAsQAAAAAAAACZAAAAAAAAANkAAAAAAAAA3QAAAAAAAADJAAAAAAAAAKEAAAAAAAAAAAAAAAAAAADZAAAAAAAAAKkAAAAAAAAAcQAAAAAAAACJAAAAAAAAAMkAAAAAAAAAkQAAAAAAAACpAAAAAAAAANkAAAAAAAAAoQAAAAAAAACBAAAAAAAAAGEAAAAAAAAA2QAAAAAAAACJAAAAAAAAALEAAAAAAAAAzQAAAAAAAADJAAAAAAAAAMEAAAAAAAAAzQAAAAAAAACBAAAAAAAAANkAAAAAAAAAwQAAAAAAAACJAAAAAAAAAKEAAAAAAAAAkQAAAAAAAADFAAAAAAAAANEAAAAAAAAAoQAAAAAAAACZAAAAAAAAAMkAAAAAAAAAqQAAAAAAAADJAAAAAAAAANEAAAAAAAAAkQAAAAAAAADNAAAAAAAAAMEAAAAAAAAA1QAAAAAAAADBAAAAAAAAAMEAAAAAAAAAxQAAAAAAAADFAAAAAAAAANUAAAAAAAAAmQAAAAAAAADRAAAAAAAAANEAAAAAAAAAwQAAAAAAAADVAAAAAAAAA8D8AAAAAAAAuQAAAAAAAAAAAAAAAAAAALEAAAAAAAAA2QAAAAAAAAABAAAAAAAAAM0AAAAAAAAAyQAAAAAAAADBAAAAAAAAALEAAAAAAAAAiQAAAAAAAAAhAAAAAAAAAAAAAAAAAAAA0QAAAAAAAACJAAAAAAAAANEAAAAAAAADwPwAAAAAAADNAAAAAAAAAMkAAAAAAAAAoQAAAAAAAADJAAAAAAAAAIkAAAAAAAAA3QAAAAAAAADFAAAAAAAAALkAAAAAAAAAkQAAAAAAAACRAAAAAAAAAN0AAAAAAAAAmQAAAAAAAACxAAAAAAAAAKkAAAAAAAAAqQAAAAAAAACRAAAAAAAAAN0AAAAAAAAAsQAAAAAAAADdAAAAAAAAAKEAAAAAAAAAqQAAAAAAAADNAAAAAAAAA8D8AAAAAAAA3QAAAAAAAAC5AAAAAAAAAKkAAAAAAAAAqQAAAAAAAACJAAAAAAAAAKEAAAAAAAAAcQAAAAAAAACRAAAAAAAAAMEAAAAAAAAAxQAAAAAAAACJAAAAAAAAAN0AAAAAAAAAsQAAAAAAAADRAAAAAAAAAMUAAAAAAAAAwQAAAAAAAACZAAAAAAAAANUAAAAAAAAA1QAAAAAAAADFAAAAAAAAAHEAAAAAAAAA0QAAAAAAAADJAAAAAAAAA8D8AAAAAAAAoQAAAAAAAACpAAAAAAAAAM0AAAAAAAAAsQAAAAAAAADVAAAAAAAAANEAAAAAAAAAyQAAAAAAAAAhAAAAAAAAAJkAAAAAAAAAsQAAAAAAAAABAAAAAAAAAJEAAAAAAAAAkQAAAAAAAAPA/AAAAAAAAAEAAAAAAAAAIQAAAAAAAACZAAAAAAAAAJEAAAAAAAAA1QAAAAAAAACpAAAAAAAAAKkAAAAAAAAA2QAAAAAAAADZAAAAAAAAAM0AAAAAAAAAAAAAAAAAAAAAAAAAAAAAAKEAAAAAAAAA1QAAAAAAAADNAAAAAAAAAN0AAAAAAAAAiQAAAAAAAADNAAAAAAAAAMEAAAAAAAAAAAAAAAAAAACRAAAAAAAAANkAAAAAAAAAsQAAAAAAAACpAAAAAAAAAIEAAAAAAAADwPwAAAAAAACBAAAAAAAAANEAAAAAAAAAAAAAAAAAAACRAAAAAAAAAKEAAAAAAAAAzQAAAAAAAADFAAAAAAAAAMUAAAAAAAAAmQAAAAAAAADNAAAAAAAAAMUAAAAAAAAAuQAAAAAAAADVAAAAAAAAAKEAAAAAAAAAAAAAAAAAAADdAAAAAAAAAKEAAAAAAAAAgQAAAAAAAACxAAAAAAAAANUAAAAAAAAAzQAAAAAAAACRAAAAAAAAAKkAAAAAAAAAsQAAAAAAAADJAAAAAAAAALEAAAAAAAAA3QAAAAAAAAPA/AAAAAAAANkAAAAAAAAA1QAAAAAAAADRAAAAAAAAAIEAAAAAAAAAiQAAAAAAAACZAAAAAAAAAJkAAAAAAAAAgQAAAAAAAAC5AAAAAAAAALEAAAAAAAAAzQAAAAAAAACxAAAAAAAAAN0AAAAAAAAAiQAAAAAAAADNAAAAAAAAAAAAAAAAAAAA1QAAAAAAAABBAAAAAAAAANUAAAAAAAAAzQAAAAAAAACpAAAAAAAAAEEAAAAAAAAAwQAAAAAAAACZAAAAAAAAAMEAAAAAAAAAsQAAAAAAAADFAAAAAAAAAMEAAAAAAAAAqQAAAAAAAACpAAAAAAAAAIEAAAAAAAAA2QAAAAAAAABRAAAAAAAAAGEAAAAAAAAAwQAAAAAAAACJAAAAAAAAANEAAAAAAAAAmQAAAAAAAACZAAAAAAAAALkAAAAAAAAAyQAAAAAAAAABAAAAAAAAANkAAAAAAAAA3QAAAAAAAAAhAAAAAAAAANkAAAAAAAAAqQAAAAAAAAChAAAAAAAAANUAAAAAAAAAAAAAAAAAAAChAAAAAAAAALkAAAAAAAAAkQAAAAAAAADVAAAAAAAAAFEAAAAAAAAAzQAAAAAAAACxAAAAAAAAANkAAAAAAAAAkQAAAAAAAAChAAAAAAAAAIEAAAAAAAAA2QAAAAAAAADRAAAAAAAAANkAAAAAAAAAqQAAAAAAAADdAAAAAAAAAMEAAAAAAAAAAQAAAAAAAAChAAAAAAAAAJEAAAAAAAAAkQAAAAAAAACpAAAAAAAAAN0AAAAAAAAAsQAAAAAAAADdAAAAAAAAALEAAAAAAAAAAAAAAAAAAACJAAAAAAAAAAAAAAAAAAAAwQAAAAAAAADNAAAAAAAAAKEAAAAAAAAAsQAAAAAAAACRAAAAAAAAAHEAAAAAAAAA2QAAAAAAAADZAAAAAAAAANUAAAAAAAAAuQAAAAAAAADRAAAAAAAAAN0AAAAAAAAA0QAAAAAAAADNAAAAAAAAAEEAAAAAAAAAmQAAAAAAAAC5AAAAAAAAAKkAAAAAAAAAzQAAAAAAAACRAAAAAAAAA8D8AAAAAAAAkQAAAAAAAADVAAAAAAAAA8D8AAAAAAAAAAAAAAAAAACZAAAAAAAAAIEAAAAAAAAAuQAAAAAAAADJAAAAAAAAALEAAAAAAAAAxQAAAAAAAADBAAAAAAAAANkAAAAAAAAA3QAAAAAAAADZAAAAAAAAACEAAAAAAAAA2QAAAAAAAACJAAAAAAAAAKEAAAAAAAAA1QAAAAAAAADVAAAAAAAAAMUAAAAAAAAAzQAAAAAAAADRAAAAAAAAAMEAAAAAAAAAsQAAAAAAAACRAAAAAAAAANUAAAAAAAAA3QAAAAAAAADJAAAAAAAAAM0AAAAAAAAAiQAAAAAAAACJAAAAAAAAALEAAAAAAAAAuQAAAAAAAADJAAAAAAAAANUAAAAAAAAA1QAAAAAAAAABAAAAAAAAAAAAAAAAAAAAqQAAAAAAAAAAAAAAAAAAAN0AAAAAAAAAUQAAAAAAAABhAAAAAAAAAKEAAAAAAAAAmQAAAAAAAADVAAAAAAAAAEEAAAAAAAAAmQAAAAAAAABxAAAAAAAAAJkAAAAAAAAAxQAAAAAAAACBAAAAAAAAAMUAAAAAAAAAoQAAAAAAAACxAAAAAAAAAFEAAAAAAAAAkQAAAAAAAADdAAAAAAAAALkAAAAAAAAAoQAAAAAAAACxAAAAAAAAAMUAAAAAAAAAwQAAAAAAAADBAAAAAAAAANEAAAAAAAADwPwAAAAAAADNAAAAAAAAANkAAAAAAAAAgQAAAAAAAACRAAAAAAAAAJkAAAAAAAAAuQAAAAAAAAAAAAAAAAAAANkAAAAAAAAAxQAAAAAAAADVAAAAAAAAAMUAAAAAAAAAYQAAAAAAAADJAAAAAAAAALkAAAAAAAAA0QAAAAAAAAAAAAAAAAAAAN0AAAAAAAAA2QAAAAAAAACJAAAAAAAAANUAAAAAAAAAoQAAAAAAAADVAAAAAAAAAGEAAAAAAAAA1QAAAAAAAAC5AAAAAAAAAM0AAAAAAAAAgQAAAAAAAAChAAAAAAAAAMEAAAAAAAAA2QAAAAAAAADdAAAAAAAAAJEAAAAAAAAAmQAAAAAAAACxAAAAAAAAALkAAAAAAAAAAAAAAAAAAADFAAAAAAAAAM0AAAAAAAAAwQAAAAAAAADdAAAAAAAAALkAAAAAAAAAAQAAAAAAAACpAAAAAAAAAJEAAAAAAAAAzQAAAAAAAADVAAAAAAAAANUAAAAAAAAAuQAAAAAAAADRAAAAAAAAANEAAAAAAAAA0QAAAAAAAACJAAAAAAAAANkAAAAAAAAA1QAAAAAAAAAAAAAAAAAAANEAAAAAAAAAuQAAAAAAAAABAAAAAAAAAKkAAAAAAAAA2QAAAAAAAAChAAAAAAAAAMUAAAAAAAAA2QAAAAAAAADdAAAAAAAAAN0AAAAAAAAAyQAAAAAAAADVAAAAAAAAAJkAAAAAAAAA1QAAAAAAAADJAAAAAAAAALEAAAAAAAAAxQAAAAAAAAC5AAAAAAAAALkAAAAAAAAAxQAAAAAAAADVAAAAAAAAAIkAAAAAAAAAwQAAAAAAAADFAAAAAAAAAKEAAAAAAAAA1QAAAAAAAADZAAAAAAAAAAEAAAAAAAADwPwAAAAAAADFAAAAAAAAANUAAAAAAAAAyQAAAAAAAADNAAAAAAAAALEAAAAAAAAAYQAAAAAAAACJAAAAAAAAAMkAAAAAAAAAoQAAAAAAAACpAAAAAAAAAMUAAAAAAAAAkQAAAAAAAAChAAAAAAAAAEEAAAAAAAAAxQAAAAAAAAChAAAAAAAAAMEAAAAAAAAA3QAAAAAAAADRAAAAAAAAANEAAAAAAAAA3QAAAAAAAAPA/AAAAAAAAMEAAAAAAAAAsQAAAAAAAADdAAAAAAAAAKEAAAAAAAAAAAAAAAAAAAChAAAAAAAAAMUAAAAAAAAA1QAAAAAAAADRAAAAAAAAA8D8AAAAAAAAsQAAAAAAAADNAAAAAAAAANUAAAAAAAAAzQAAAAAAAAChAAAAAAAAAMUAAAAAAAAA3QAAAAAAAADBAAAAAAAAAKkAAAAAAAAAoQAAAAAAAADVAAAAAAAAALkAAAAAAAAA2QAAAAAAAAChAAAAAAAAANkAAAAAAAAAAAAAAAAAAADFAAAAAAAAAKkAAAAAAAAAuQAAAAAAAACpAAAAAAAAANkAAAAAAAAA2QAAAAAAAADNAAAAAAAAAGEAAAAAAAAA1QAAAAAAAACpAAAAAAAAAIkAAAAAAAAAyQAAAAAAAADVAAAAAAAAAIEAAAAAAAAAiQAAAAAAAADNAAAAAAAAANkAAAAAAAAAmQAAAAAAAADVAAAAAAAAANEAAAAAAAAAxQAAAAAAAACpAAAAAAAAAKEAAAAAAAAAcQAAAAAAAADNAAAAAAAAAKkAAAAAAAAAuQAAAAAAAADZAAAAAAAAAHEAAAAAAAAAmQAAAAAAAADRAAAAAAAAAIkAAAAAAAAA0QAAAAAAAADFAAAAAAAAALEAAAAAAAAAxQAAAAAAAACZAAAAAAAAAJEAAAAAAAAAxQAAAAAAAADBAAAAAAAAANUAAAAAAAAAmQAAAAAAAACZAAAAAAAAAM0AAAAAAAAAiQAAAAAAAADVAAAAAAAAAIkAAAAAAAAAyQAAAAAAAADJAAAAAAAAAMUAAAAAAAAAkQAAAAAAAADdAAAAAAAAANkAAAAAAAAAmQAAAAAAAAChAAAAAAAAANkAAAAAAAAAkQAAAAAAAADJAAAAAAAAAJkAAAAAAAAAxQAAAAAAAAChAAAAAAAAAJkAAAAAAAAAAAAAAAAAAADdAAAAAAAAAAAAAAAAAAAAkQAAAAAAAACZAAAAAAAAANkAAAAAAAAAqQAAAAAAAADVAAAAAAAAAMkAAAAAAAAAqQAAAAAAAAChAAAAAAAAAMUAAAAAAAAAUQAAAAAAAACBAAAAAAAAANEAAAAAAAAAkQAAAAAAAACxAAAAAAAAAGEAAAAAAAAAxQAAAAAAAADZAAAAAAAAAMkAAAAAAAAAmQAAAAAAAADZAAAAAAAAAM0AAAAAAAAAoQAAAAAAAADBAAAAAAAAAMEAAAAAAAAAoQAAAAAAAADZAAAAAAAAAN0AAAAAAAAAoQAAAAAAAADRAAAAAAAAALkAAAAAAAADwPwAAAAAAADZAAAAAAAAACEAAAAAAAAAsQAAAAAAAADVAAAAAAAAANUAAAAAAAAA3QAAAAAAAADNAAAAAAAAAMUAAAAAAAAAoQAAAAAAAAAAAAAAAAAAANkAAAAAAAAA2QAAAAAAAADVAAAAAAAAAM0AAAAAAAAAuQAAAAAAAACxAAAAAAAAAGEAAAAAAAAAkQAAAAAAAADNAAAAAAAAALEAAAAAAAAAsQAAAAAAAADBAAAAAAAAAN0AAAAAAAAA0QAAAAAAAACpAAAAAAAAAMkAAAAAAAAAqQAAAAAAAABBAAAAAAAAAKEAAAAAAAAAwQAAAAAAAACxAAAAAAAAAMEAAAAAAAAAxQAAAAAAAADRAAAAAAAAANkAAAAAAAAA3QAAAAAAAADNAAAAAAAAAMUAAAAAAAAAuQAAAAAAAAC5AAAAAAAAAHEAAAAAAAAAAAAAAAAAAAC5AAAAAAAAAMEAAAAAAAAAmQAAAAAAAABBAAAAAAAAAJEAAAAAAAAAzQAAAAAAAADRAAAAAAAAAAEAAAAAAAAAUQAAAAAAAADVAAAAAAAAAKkAAAAAAAAAyQAAAAAAAACpAAAAAAAAAKEAAAAAAAAAuQAAAAAAAADdAAAAAAAAAKkAAAAAAAAAxQAAAAAAAADdAAAAAAAAAIkAAAAAAAAAzQAAAAAAAADRAAAAAAAAA8D8AAAAAAAAmQAAAAAAAACRAAAAAAAAAMkAAAAAAAAAAAAAAAAAAACRAAAAAAAAANEAAAAAAAAAxQAAAAAAAADNAAAAAAAAANUAAAAAAAAAmQAAAAAAAADNAAAAAAAAAAAAAAAAAAAAoQAAAAAAAAAAAAAAAAAAAMUAAAAAAAAA3QAAAAAAAAC5AAAAAAAAAM0AAAAAAAAA2QAAAAAAAAPA/AAAAAAAAJEAAAAAAAAAwQAAAAAAAADJAAAAAAAAAKkAAAAAAAAAwQAAAAAAAADRAAAAAAAAAHEAAAAAAAAAwQAAAAAAAADRAAAAAAAAANUAAAAAAAAA3QAAAAAAAAAAAAAAAAAAAJkAAAAAAAAA2QAAAAAAAAChAAAAAAAAAMEAAAAAAAAAwQAAAAAAAADVAAAAAAAAAN0AAAAAAAAAzQAAAAAAAABxAAAAAAAAAMUAAAAAAAAA3QAAAAAAAADdAAAAAAAAAM0AAAAAAAAAxQAAAAAAAACRAAAAAAAAAMEAAAAAAAAAAQAAAAAAAADZAAAAAAAAAIEAAAAAAAAAqQAAAAAAAAAhAAAAAAAAAIkAAAAAAAAAzQAAAAAAAADNAAAAAAAAAAEAAAAAAAAAyQAAAAAAAADdAAAAAAAAANUAAAAAAAAAxQAAAAAAAACpAAAAAAAAAEEAAAAAAAAAwQAAAAAAAACRAAAAAAAAAIEAAAAAAAAA2QAAAAAAAAC5AAAAAAAAANUAAAAAAAAAzQAAAAAAAADBAAAAAAAAA8D8AAAAAAAAwQAAAAAAAADZAAAAAAAAAN0AAAAAAAAAmQAAAAAAAADVAAAAAAAAAMUAAAAAAAAAyQAAAAAAAADJAAAAAAAAAEEAAAAAAAAAqQAAAAAAAACxAAAAAAAAAIEAAAAAAAAAsQAAAAAAAADdAAAAAAAAAKkAAAAAAAAAcQAAAAAAAADFAAAAAAAAAN0AAAAAAAAAyQAAAAAAAAChAAAAAAAAAJkAAAAAAAAAzQAAAAAAAAChAAAAAAAAAKkAAAAAAAAAzQAAAAAAAADVAAAAAAAAAKkAAAAAAAAAzQAAAAAAAADNAAAAAAAAAJEAAAAAAAAAqQAAAAAAAACxAAAAAAAAAKEAAAAAAAAAsQAAAAAAAABBAAAAAAAAAAAAAAAAAAAAzQAAAAAAAADVAAAAAAAAANEAAAAAAAAAkQAAAAAAAADZAAAAAAAAAM0AAAAAAAAAyQAAAAAAAADJAAAAAAAAAKkAAAAAAAAA2QAAAAAAAACpAAAAAAAAA8D8AAAAAAAAzQAAAAAAAAC5AAAAAAAAAM0AAAAAAAAAYQAAAAAAAADRAAAAAAAAAMEAAAAAAAAAAQAAAAAAAADJAAAAAAAAANEAAAAAAAAA2QAAAAAAAACZAAAAAAAAAAEAAAAAAAAAwQAAAAAAAAAAAAAAAAAAAHEAAAAAAAAAxQAAAAAAAADJAAAAAAAAAJEAAAAAAAAAzQAAAAAAAAC5AAAAAAAAALEAAAAAAAAAyQAAAAAAAAC5AAAAAAAAANkAAAAAAAAAsQAAAAAAAADJAAAAAAAAAN0AAAAAAAAAuQAAAAAAAACZAAAAAAAAALEAAAAAAAAA1QAAAAAAAACJAAAAAAAAAM0AAAAAAAAAoQAAAAAAAACpAAAAAAAAAKkAAAAAAAAAzQAAAAAAAAABAAAAAAAAAJEAAAAAAAAAzQAAAAAAAACRAAAAAAAAA8D8AAAAAAAA0QAAAAAAAADBAAAAAAAAAJkAAAAAAAAA2QAAAAAAAAC5AAAAAAAAAKkAAAAAAAAAoQAAAAAAAADdAAAAAAAAAKEAAAAAAAAAmQAAAAAAAAChAAAAAAAAAKEAAAAAAAAAyQAAAAAAAACxAAAAAAAAAJkAAAAAAAAAoQAAAAAAAAABAAAAAAAAAIkAAAAAAAAAoQAAAAAAAADBAAAAAAAAAIEAAAAAAAAA3QAAAAAAAADVAAAAAAAAAAAAAAAAAAAAiQAAAAAAAACZAAAAAAAAAKEAAAAAAAAAuQAAAAAAAADFAAAAAAAAAN0AAAAAAAAAoQAAAAAAAADFAAAAAAAAAJkAAAAAAAAAqQAAAAAAAADFAAAAAAAAANkAAAAAAAAA1QAAAAAAAAChAAAAAAAAAMkAAAAAAAAA2QAAAAAAAAAAAAAAAAAAAJkAAAAAAAAA1QAAAAAAAACRAAAAAAAAALEAAAAAAAAAqQAAAAAAAACZAAAAAAAAALEAAAAAAAAAwQAAAAAAAACpAAAAAAAAAMkAAAAAAAAAkQAAAAAAAACJAAAAAAAAAN0AAAAAAAADwPwAAAAAAADRAAAAAAAAAMEAAAAAAAAA2QAAAAAAAADJAAAAAAAAAMkAAAAAAAADwPwAAAAAAADNAAAAAAAAA8D8AAAAAAAA3QAAAAAAAADJAAAAAAAAAIkAAAAAAAAAyQAAAAAAAAC5AAAAAAAAANEAAAAAAAAAxQAAAAAAAADBAAAAAAAAAJkAAAAAAAAAqQAAAAAAAACRAAAAAAAAAM0AAAAAAAAAqQAAAAAAAADRAAAAAAAAAM0AAAAAAAAA0QAAAAAAAAChAAAAAAAAAMEAAAAAAAAA0QAAAAAAAADVAAAAAAAAAMEAAAAAAAAAxQAAAAAAAACBAAAAAAAAAIEAAAAAAAAA2QAAAAAAAAAAAAAAAAAAAIkAAAAAAAAA1QAAAAAAAACBAAAAAAAAAMEAAAAAAAAAuQAAAAAAAADJAAAAAAAAAMUAAAAAAAAAzQAAAAAAAADBAAAAAAAAANUAAAAAAAAAsQAAAAAAAACZAAAAAAAAAM0AAAAAAAAAcQAAAAAAAADBAAAAAAAAAMkAAAAAAAAA0QAAAAAAAADNAAAAAAAAANkAAAAAAAAAsQAAAAAAAAC5AAAAAAAAALEAAAAAAAAAiQAAAAAAAADVAAAAAAAAAM0AAAAAAAAAoQAAAAAAAACRAAAAAAAAAKEAAAAAAAAAuQAAAAAAAADFAAAAAAAAALkAAAAAAAAAiQAAAAAAAADNAAAAAAAAAKEAAAAAAAAA1QAAAAAAAACpAAAAAAAAACEAAAAAAAAAgQAAAAAAAACZAAAAAAAAAIkAAAAAAAADwPwAAAAAAAC5AAAAAAAAAMUAAAAAAAAAAAAAAAAAAACRAAAAAAAAANkAAAAAAAAAwQAAAAAAAADVAAAAAAAAAMUAAAAAAAAA0QAAAAAAAADZAAAAAAAAAJEAAAAAAAADwPwAAAAAAAChAAAAAAAAANUAAAAAAAAA0QAAAAAAAADJAAAAAAAAAMEAAAAAAAAAqQAAAAAAAAPA/AAAAAAAANkAAAAAAAAAgQAAAAAAAADFAAAAAAAAAIEAAAAAAAAAxQAAAAAAAADBAAAAAAAAA8D8AAAAAAAAsQAAAAAAAADNAAAAAAAAAAAAAAAAAAAAkQAAAAAAAADRAAAAAAAAAM0AAAAAAAAAAAAAAAAAAAAAAAAAAAAAAKEAAAAAAAAA1QAAAAAAAACZAAAAAAAAANUAAAAAAAAAkQAAAAAAAAC5AAAAAAAAANUAAAAAAAAA2QAAAAAAAADJAAAAAAAAANEAAAAAAAAAwQAAAAAAAADVAAAAAAAAAIkAAAAAAAAAxQAAAAAAAADdAAAAAAAAALkAAAAAAAAAsQAAAAAAAADdAAAAAAAAALkAAAAAAAADwPwAAAAAAADNAAAAAAAAAJkAAAAAAAAAyQAAAAAAAADFAAAAAAAAAMkAAAAAAAAAAAAAAAAAAADdAAAAAAAAALEAAAAAAAAAoQAAAAAAAADRAAAAAAAAAMUAAAAAAAAA1QAAAAAAAADNAAAAAAAAANUAAAAAAAAA1QAAAAAAAACpAAAAAAAAAKkAAAAAAAAAyQAAAAAAAADNAAAAAAAAANEAAAAAAAAAkQAAAAAAAADNAAAAAAAAAMEAAAAAAAAA1QAAAAAAAAAAAAAAAAAAANUAAAAAAAAAAAAAAAAAAADZAAAAAAAAAKEAAAAAAAAAqQAAAAAAAADdAAAAAAAAAKEAAAAAAAADwPwAAAAAAAAAAAAAAAAAAJkAAAAAAAAA2QAAAAAAAADJAAAAAAAAANUAAAAAAAAAmQAAAAAAAAPA/AAAAAAAAMUAAAAAAAAAiQAAAAAAAACRAAAAAAAAAN0AAAAAAAAAiQAAAAAAAABRAAAAAAAAAJkAAAAAAAADwPwAAAAAAACZAAAAAAAAANUAAAAAAAAAxQAAAAAAAADFAAAAAAAAAMEAAAAAAAAAkQAAAAAAAADRAAAAAAAAALkAAAAAAAAAUQAAAAAAAADFAAAAAAAAAHEAAAAAAAAA2QAAAAAAAACZAAAAAAAAAIkAAAAAAAAAyQAAAAAAAADRAAAAAAAAALEAAAAAAAAAqQAAAAAAAABBAAAAAAAAAKEAAAAAAAAAzQAAAAAAAADBAAAAAAAAAIkAAAAAAAAAzQAAAAAAAADJAAAAAAAAAMkAAAAAAAAA2QAAAAAAAADBAAAAAAAAAKEAAAAAAAAAuQAAAAAAAAPA/AAAAAAAA8D8AAAAAAAAkQAAAAAAAACZAAAAAAAAA8D8AAAAAAAA1QAAAAAAAACxAAAAAAAAANEAAAAAAAAA2QAAAAAAAADVAAAAAAAAANkAAAAAAAAAuQAAAAAAAACRAAAAAAAAANkAAAAAAAAAxQAAAAAAAADRAAAAAAAAAKkAAAAAAAAAxQAAAAAAAADVAAAAAAAAANUAAAAAAAADwPwAAAAAAABBAAAAAAAAANEAAAAAAAAAqQAAAAAAAAChAAAAAAAAAKEAAAAAAAAA2QAAAAAAAACRAAAAAAAAAJEAAAAAAAAAwQAAAAAAAAAAAAAAAAAAAKkAAAAAAAAA3QAAAAAAAACZAAAAAAAAAMkAAAAAAAAAzQAAAAAAAADdAAAAAAAAAN0AAAAAAAAAmQAAAAAAAACpAAAAAAAAANEAAAAAAAAAmQAAAAAAAADBAAAAAAAAAIEAAAAAAAAA1QAAAAAAAABxAAAAAAAAAIkAAAAAAAAAsQAAAAAAAADVAAAAAAAAANUAAAAAAAAAmQAAAAAAAAC5AAAAAAAAAAAAAAAAAAAA0QAAAAAAAACpAAAAAAAAANkAAAAAAAAAqQAAAAAAAACxAAAAAAAAAM0AAAAAAAAAAAAAAAAAAACxAAAAAAAAAGEAAAAAAAAAuQAAAAAAAACRAAAAAAAAANEAAAAAAAAA0QAAAAAAAADFAAAAAAAAAM0AAAAAAAAA3QAAAAAAAACRAAAAAAAAAM0AAAAAAAAAmQAAAAAAAACZAAAAAAAAANkAAAAAAAAAgQAAAAAAAAAhAAAAAAAAAMkAAAAAAAAAoQAAAAAAAACxAAAAAAAAANEAAAAAAAAAkQAAAAAAAADZAAAAAAAAAEEAAAAAAAAAoQAAAAAAAABBAAAAAAAAAMEAAAAAAAAAoQAAAAAAAADBAAAAAAAAAAEAAAAAAAAAkQAAAAAAAADZAAAAAAAAALEAAAAAAAAAkQAAAAAAAADJAAAAAAAAAMUAAAAAAAAAoQAAAAAAAAABAAAAAAAAALEAAAAAAAAA1QAAAAAAAADVAAAAAAAAAMEAAAAAAAAAxQAAAAAAAAAAAAAAAAAAAKkAAAAAAAAAuQAAAAAAAACpAAAAAAAAAAAAAAAAAAAA1QAAAAAAAABxAAAAAAAAAAAAAAAAAAAA0QAAAAAAAADVAAAAAAAAAKEAAAAAAAAAsQAAAAAAAADFAAAAAAAAAJkAAAAAAAAA1QAAAAAAAADNAAAAAAAAAIkAAAAAAAAAzQAAAAAAAADFAAAAAAAAANkAAAAAAAAA2QAAAAAAAADRAAAAAAAAAAAAAAAAAAAAuQAAAAAAAAC5AAAAAAAAAKkAAAAAAAAAoQAAAAAAAADVAAAAAAAAAMUAAAAAAAAA0QAAAAAAAAChAAAAAAAAAIkAAAAAAAAAwQAAAAAAAACxAAAAAAAAAMkAAAAAAAAAAAAAAAAAAACxAAAAAAAAANkAAAAAAAAA3QAAAAAAAADBAAAAAAAAAJkAAAAAAAAA2QAAAAAAAAAhAAAAAAAAAMUAAAAAAAAAsQAAAAAAAACpAAAAAAAAALkAAAAAAAAAyQAAAAAAAAC5AAAAAAAAAAEAAAAAAAAA1QAAAAAAAACpAAAAAAAAALkAAAAAAAAAmQAAAAAAAABhAAAAAAAAAM0AAAAAAAAAyQAAAAAAAACxAAAAAAAAAKEAAAAAAAAAyQAAAAAAAAChAAAAAAAAA8D8AAAAAAAAqQAAAAAAAAPA/AAAAAAAALkAAAAAAAAAwQAAAAAAAADVAAAAAAAAA8D8AAAAAAAAoQAAAAAAAADNAAAAAAAAAMUAAAAAAAAAQQAAAAAAAADZAAAAAAAAAMUAAAAAAAAAiQAAAAAAAABxAAAAAAAAAM0AAAAAAAAAxQAAAAAAAADFAAAAAAAAAKEAAAAAAAAAzQAAAAAAAACxAAAAAAAAAM0AAAAAAAAA1QAAAAAAAABhAAAAAAAAALkAAAAAAAAAgQAAAAAAAAChAAAAAAAAAJEAAAAAAAAAoQAAAAAAAACxAAAAAAAAAJkAAAAAAAAAoQAAAAAAAADVAAAAAAAAAJkAAAAAAAAA1QAAAAAAAAC5AAAAAAAAAIEAAAAAAAAAgQAAAAAAAAAAAAAAAAAAANkAAAAAAAAA2QAAAAAAAADdAAAAAAAAANkAAAAAAAAA0QAAAAAAAADBAAAAAAAAANUAAAAAAAAA3QAAAAAAAACJAAAAAAAAAKkAAAAAAAAAxQAAAAAAAACxAAAAAAAAAAAAAAAAAAAAQQAAAAAAAACpAAAAAAAAAKkAAAAAAAAAwQAAAAAAAADBAAAAAAAAAMEAAAAAAAAA0QAAAAAAAADdAAAAAAAAANUAAAAAAAAA3QAAAAAAAADFAAAAAAAAAIEAAAAAAAAAkQAAAAAAAAChAAAAAAAAANUAAAAAAAAAgQAAAAAAAACBAAAAAAAAAIkAAAAAAAAA0QAAAAAAAABxAAAAAAAAAJkAAAAAAAAAuQAAAAAAAADZAAAAAAAAALkAAAAAAAAAxQAAAAAAAACpAAAAAAAAANkAAAAAAAAAwQAAAAAAAADdAAAAAAAAAMEAAAAAAAAAsQAAAAAAAADFAAAAAAAAAJEAAAAAAAAAoQAAAAAAAADRAAAAAAAAAKEAAAAAAAAAwQAAAAAAAADNAAAAAAAAAMEAAAAAAAAAxQAAAAAAAACRAAAAAAAAANUAAAAAAAAAIQAAAAAAAADBAAAAAAAAAM0AAAAAAAAAmQAAAAAAAADRAAAAAAAAAN0AAAAAAAAA0QAAAAAAAACpAAAAAAAAAAAAAAAAAAAAyQAAAAAAAACxAAAAAAAAANUAAAAAAAAAuQAAAAAAAACRAAAAAAAAAJkAAAAAAAAAiQAAAAAAAADVAAAAAAAAAIkAAAAAAAAAuQAAAAAAAADZAAAAAAAAALEAAAAAAAADwPwAAAAAAADdAAAAAAAAANEAAAAAAAAAyQAAAAAAAADNAAAAAAAAAJEAAAAAAAAAcQAAAAAAAADFAAAAAAAAAGEAAAAAAAAAuQAAAAAAAABRAAAAAAAAANEAAAAAAAAAsQAAAAAAAADJAAAAAAAAAMUAAAAAAAAA0QAAAAAAAADVAAAAAAAAANEAAAAAAAAAsQAAAAAAAADJAAAAAAAAAKEAAAAAAAAAoQAAAAAAAACRAAAAAAAAANUAAAAAAAAAmQAAAAAAAABRAAAAAAAAAMUAAAAAAAAAmQAAAAAAAABhAAAAAAAAAJkAAAAAAAAAiQAAAAAAAAC5AAAAAAAAALEAAAAAAAAAqQAAAAAAAACRAAAAAAAAAM0AAAAAAAAA3QAAAAAAAADNAAAAAAAAAMkAAAAAAAAAkQAAAAAAAADZAAAAAAAAALEAAAAAAAAAAAAAAAAAAACJAAAAAAAAALkAAAAAAAAAiQAAAAAAAADdAAAAAAAAAKkAAAAAAAAA1QAAAAAAAACpAAAAAAAAANEAAAAAAAAA0QAAAAAAAADRAAAAAAAAAHEAAAAAAAAAgQAAAAAAAAABAAAAAAAAA8D8AAAAAAAAuQAAAAAAAACxAAAAAAAAAJkAAAAAAAAAoQAAAAAAAADdAAAAAAAAANEAAAAAAAADwPwAAAAAAACpAAAAAAAAALkAAAAAAAAAkQAAAAAAAADBAAAAAAAAAMEAAAAAAAAAuQAAAAAAAABxAAAAAAAAAM0AAAAAAAAA2QAAAAAAAAChAAAAAAAAAM0AAAAAAAAAyQAAAAAAAADVAAAAAAAAANEAAAAAAAAA3QAAAAAAAACxAAAAAAAAAKkAAAAAAAAA3QAAAAAAAAC5AAAAAAAAALEAAAAAAAAAxQAAAAAAAACJAAAAAAAAAM0AAAAAAAAAsQAAAAAAAADFAAAAAAAAAEEAAAAAAAAAAQAAAAAAAADdAAAAAAAAAM0AAAAAAAAAqQAAAAAAAADJAAAAAAAAALkAAAAAAAAAyQAAAAAAAADBAAAAAAAAAJkAAAAAAAAAzQAAAAAAAACBAAAAAAAAANEAAAAAAAAA2QAAAAAAAADFAAAAAAAAAMUAAAAAAAAAyQAAAAAAAACRAAAAAAAAANkAAAAAAAAAuQAAAAAAAADRAAAAAAAAANkAAAAAAAAA2QAAAAAAAACxAAAAAAAAALEAAAAAAAAAkQAAAAAAAACxAAAAAAAAAIEAAAAAAAAAyQAAAAAAAACZAAAAAAAAAM0AAAAAAAAAmQAAAAAAAADZAAAAAAAAAEEAAAAAAAAAuQAAAAAAAAC5AAAAAAAAALkAAAAAAAAAzQAAAAAAAADdAAAAAAAAAMkAAAAAAAAAxQAAAAAAAADNAAAAAAAAAJkAAAAAAAAAwQAAAAAAAADZAAAAAAAAANUAAAAAAAAAgQAAAAAAAADFAAAAAAAAAMUAAAAAAAAAAAAAAAAAAADRAAAAAAAAAIkAAAAAAAAA3QAAAAAAAADVAAAAAAAAAMkAAAAAAAAAxQAAAAAAAADBAAAAAAAAALkAAAAAAAAAyQAAAAAAAACRAAAAAAAAAMUAAAAAAAAAsQAAAAAAAADVAAAAAAAAAN0AAAAAAAAA3QAAAAAAAAChAAAAAAAAAMEAAAAAAAAA0QAAAAAAAADRAAAAAAAAAJkAAAAAAAAAwQAAAAAAAACRAAAAAAAAAMUAAAAAAAAAsQAAAAAAAAABAAAAAAAAAMUAAAAAAAAA2QAAAAAAAABxAAAAAAAAAAAAAAAAAAADwPwAAAAAAADBAAAAAAAAAMEAAAAAAAAAsQAAAAAAAAChAAAAAAAAAMkAAAAAAAAAsQAAAAAAAADNAAAAAAAAALkAAAAAAAAAuQAAAAAAAACJAAAAAAAAA8D8AAAAAAAA0QAAAAAAAAAAAAAAAAAAAN0AAAAAAAAA2QAAAAAAAADNAAAAAAAAANkAAAAAAAAAyQAAAAAAAADBAAAAAAAAAJEAAAAAAAAAyQAAAAAAAACJAAAAAAAAAN0AAAAAAAAAuQAAAAAAAAC5AAAAAAAAANkAAAAAAAAAzQAAAAAAAADBAAAAAAAAA8D8AAAAAAAAsQAAAAAAAADRAAAAAAAAAMUAAAAAAAAAiQAAAAAAAADFAAAAAAAAAMUAAAAAAAAA0QAAAAAAAADdAAAAAAAAAJkAAAAAAAAAYQAAAAAAAACZAAAAAAAAAN0AAAAAAAAAyQAAAAAAAADBAAAAAAAAAKEAAAAAAAAAsQAAAAAAAAAhAAAAAAAAALkAAAAAAAAAoQAAAAAAAABhAAAAAAAAAKEAAAAAAAAAqQAAAAAAAAC5AAAAAAAAAJEAAAAAAAAAqQAAAAAAAACZAAAAAAAAAJkAAAAAAAAAyQAAAAAAAAAAAAAAAAAAANUAAAAAAAAAsQAAAAAAAAChAAAAAAAAAM0AAAAAAAAAqQAAAAAAAADVAAAAAAAAAKkAAAAAAAAA2QAAAAAAAAC5AAAAAAAAAIkAAAAAAAAAxQAAAAAAAACJAAAAAAAAAJEAAAAAAAAAcQAAAAAAAAABAAAAAAAAAIkAAAAAAAAAsQAAAAAAAADRAAAAAAAAAJkAAAAAAAAAoQAAAAAAAAAhAAAAAAAAAKkAAAAAAAAAqQAAAAAAAACxAAAAAAAAAMEAAAAAAAAA3QAAAAAAAADZAAAAAAAAA8D8AAAAAAAAAAAAAAAAAAPA/AAAAAAAALEAAAAAAAAAiQAAAAAAAACJAAAAAAAAAMkAAAAAAAAAAQAAAAAAAADdAAAAAAAAAM0AAAAAAAAA1QAAAAAAAAC5AAAAAAAAAMkAAAAAAAAA1QAAAAAAAACRAAAAAAAAANkAAAAAAAAAAAAAAAAAAADBAAAAAAAAAMEAAAAAAAAA3QAAAAAAAADNAAAAAAAAAHEAAAAAAAAA0QAAAAAAAADBAAAAAAAAAKkAAAAAAAAAuQAAAAAAAACBAAAAAAAAAMEAAAAAAAAAzQAAAAAAAACJAAAAAAAAANEAAAAAAAAAAAAAAAAAAACRAAAAAAAAANUAAAAAAAAA2QAAAAAAAACBAAAAAAAAALkAAAAAAAAAwQAAAAAAAADRAAAAAAAAALEAAAAAAAAA1QAAAAAAAADdAAAAAAAAAKEAAAAAAAAAqQAAAAAAAABhAAAAAAAAAMkAAAAAAAAAsQAAAAAAAAC5AAAAAAAAAM0AAAAAAAAAiQAAAAAAAAAAAAAAAAAAAMEAAAAAAAAAoQAAAAAAAAABAAAAAAAAANUAAAAAAAAAuQAAAAAAAADBAAAAAAAAALEAAAAAAAAAAAAAAAAAAACxAAAAAAAAAJkAAAAAAAAAyQAAAAAAAADVAAAAAAAAALkAAAAAAAAA0QAAAAAAAAC5AAAAAAAAALkAAAAAAAAA2QAAAAAAAACpAAAAAAAAAJEAAAAAAAAAAAAAAAAAAACJAAAAAAAAANkAAAAAAAAAAQAAAAAAAAAAAAAAAAAAAJEAAAAAAAAAxQAAAAAAAADdAAAAAAAAAKkAAAAAAAAA0QAAAAAAAADRAAAAAAAAANkAAAAAAAAAsQAAAAAAAADRAAAAAAAAANUAAAAAAAAAoQAAAAAAAADRAAAAAAAAALkAAAAAAAAAyQAAAAAAAADdAAAAAAAAANkAAAAAAAAA1QAAAAAAAADFAAAAAAAAAJkAAAAAAAAAsQAAAAAAAADRAAAAAAAAAGEAAAAAAAAA2QAAAAAAAAChAAAAAAAAAMUAAAAAAAAAzQAAAAAAAADRAAAAAAAAANkAAAAAAAAAmQAAAAAAAAChAAAAAAAAALkAAAAAAAAAuQAAAAAAAAChAAAAAAAAAMkAAAAAAAAAAAAAAAAAAACBAAAAAAAAAIkAAAAAAAAA3QAAAAAAAACxAAAAAAAAAKEAAAAAAAAAUQAAAAAAAACZAAAAAAAAANUAAAAAAAAA2QAAAAAAAADFAAAAAAAAAIEAAAAAAAAAxQAAAAAAAADZAAAAAAAAAM0AAAAAAAAAzQAAAAAAAADNAAAAAAAAAKEAAAAAAAAA0QAAAAAAAACxAAAAAAAAANEAAAAAAAAAsQAAAAAAAAChAAAAAAAAANEAAAAAAAAAwQAAAAAAAADRAAAAAAAAAM0AAAAAAAAA0QAAAAAAAADdAAAAAAAAAMkAAAAAAAAAmQAAAAAAAADZAAAAAAAAALEAAAAAAAAA0QAAAAAAAACZAAAAAAAAANEAAAAAAAAAzQAAAAAAAADdAAAAAAAAAIkAAAAAAAAA3QAAAAAAAAAAAAAAAAAAACEAAAAAAAAAuQAAAAAAAADJAAAAAAAAALkAAAAAAAAA3QAAAAAAAABBAAAAAAAAALkAAAAAAAAAsQAAAAAAAAABAAAAAAAAALkAAAAAAAAA0QAAAAAAAACZAAAAAAAAAM0AAAAAAAAAcQAAAAAAAACpAAAAAAAAAMEAAAAAAAAAkQAAAAAAAADRAAAAAAAAAMEAAAAAAAAAwQAAAAAAAADZAAAAAAAAAIkAAAAAAAAAmQAAAAAAAAC5AAAAAAAAANkAAAAAAAAAqQAAAAAAAACpAAAAAAAAAKEAAAAAAAAA2QAAAAAAAADVAAAAAAAAAM0AAAAAAAAA0QAAAAAAAADRAAAAAAAAAJEAAAAAAAAA2QAAAAAAAADRAAAAAAAAAJEAAAAAAAAAkQAAAAAAAAABAAAAAAAAAFEAAAAAAAAAqQAAAAAAAADVAAAAAAAAAKkAAAAAAAAAkQAAAAAAAADdAAAAAAAAANkAAAAAAAAAUQAAAAAAAADFAAAAAAAAAKkAAAAAAAAAuQAAAAAAAACxAAAAAAAAAMUAAAAAAAAAkQAAAAAAAACxAAAAAAAAANUAAAAAAAAA3QAAAAAAAACBAAAAAAAAALEAAAAAAAAA2QAAAAAAAABhAAAAAAAAALEAAAAAAAAA3QAAAAAAAABxAAAAAAAAAFEAAAAAAAAA2QAAAAAAAADFAAAAAAAAALEAAAAAAAAA1QAAAAAAAADRAAAAAAAAAKkAAAAAAAAA0QAAAAAAAABxAAAAAAAAAMkAAAAAAAAAuQAAAAAAAAChAAAAAAAAANkAAAAAAAAA3QAAAAAAAADVAAAAAAAAAMEAAAAAAAAA1QAAAAAAAADNAAAAAAAAAKkAAAAAAAAAmQAAAAAAAADdAAAAAAAAAKkAAAAAAAAAyQAAAAAAAADJAAAAAAAAANEAAAAAAAAAzQAAAAAAAABxAAAAAAAAAAEAAAAAAAAAiQAAAAAAAABBAAAAAAAAAKEAAAAAAAAAxQAAAAAAAADRAAAAAAAAAJkAAAAAAAAAgQAAAAAAAADdAAAAAAAAANkAAAAAAAAAyQAAAAAAAACZAAAAAAAAALEAAAAAAAAAzQAAAAAAAADFAAAAAAAAAIkAAAAAAAAAwQAAAAAAAACZAAAAAAAAANUAAAAAAAAA0QAAAAAAAACZAAAAAAAAAKEAAAAAAAAA2QAAAAAAAADVAAAAAAAAANEAAAAAAAAAsQAAAAAAAADFAAAAAAAAAJEAAAAAAAADwPwAAAAAAACZAAAAAAAAAAEAAAAAAAAAuQAAAAAAAAChAAAAAAAAAJEAAAAAAAAAAAAAAAAAAACZAAAAAAAAANkAAAAAAAAAiQAAAAAAAAC5AAAAAAAAA8D8AAAAAAAAiQAAAAAAAAC5AAAAAAAAAFEAAAAAAAAAzQAAAAAAAADZAAAAAAAAANEAAAAAAAAAIQAAAAAAAADNAAAAAAAAAKEAAAAAAAAAzQAAAAAAAADJAAAAAAAAAJEAAAAAAAAAzQAAAAAAAACBAAAAAAAAAKkAAAAAAAAAwQAAAAAAAADdAAAAAAAAAMUAAAAAAAAAYQAAAAAAAACxAAAAAAAAAAAAAAAAAAAAqQAAAAAAAADVAAAAAAAAAM0AAAAAAAADwPwAAAAAAABRAAAAAAAAAFEAAAAAAAAAmQAAAAAAAACJAAAAAAAAANUAAAAAAAAAqQAAAAAAAADJAAAAAAAAAIkAAAAAAAAAgQAAAAAAAACxAAAAAAAAANkAAAAAAAAAIQAAAAAAAADBAAAAAAAAANEAAAAAAAAAuQAAAAAAAAPA/AAAAAAAA8D8AAAAAAAA2QAAAAAAAADJAAAAAAAAALkAAAAAAAAAsQAAAAAAAAChAAAAAAAAAIkAAAAAAAAA0QAAAAAAAACBAAAAAAAAALEAAAAAAAAAsQAAAAAAAAAAAAAAAAAAAKEAAAAAAAAAqQAAAAAAAACZAAAAAAAAALkAAAAAAAAAwQAAAAAAAACBAAAAAAAAAJEAAAAAAAAAgQAAAAAAAACJAAAAAAAAAEEAAAAAAAAAwQAAAAAAAADNAAAAAAAAAJkAAAAAAAAAxQAAAAAAAACpAAAAAAAAAKkAAAAAAAAA0QAAAAAAAADJAAAAAAAAANUAAAAAAAAAyQAAAAAAAADFAAAAAAAAANkAAAAAAAAAzQAAAAAAAADdAAAAAAAAAIEAAAAAAAAAwQAAAAAAAAAhAAAAAAAAANEAAAAAAAAAzQAAAAAAAADVAAAAAAAAAGEAAAAAAAAAwQAAAAAAAACBAAAAAAAAAMUAAAAAAAAAwQAAAAAAAACZAAAAAAAAALkAAAAAAAAA3QAAAAAAAADRAAAAAAAAAM0AAAAAAAAAwQAAAAAAAADNAAAAAAAAAGEAAAAAAAAAzQAAAAAAAAC5AAAAAAAAANUAAAAAAAAAkQAAAAAAAACZAAAAAAAAAAAAAAAAAAAA2QAAAAAAAADdAAAAAAAAANkAAAAAAAAA2QAAAAAAAADBAAAAAAAAAAAAAAAAAAAAiQAAAAAAAADdAAAAAAAAAKEAAAAAAAAAwQAAAAAAAADRAAAAAAAAAKkAAAAAAAAAuQAAAAAAAAChAAAAAAAAANEAAAAAAAAAzQAAAAAAAACxAAAAAAAAALEAAAAAAAAA2QAAAAAAAACZAAAAAAAAANEAAAAAAAAAoQAAAAAAAADBAAAAAAAAALkAAAAAAAAAzQAAAAAAAADNAAAAAAAAAAAAAAAAAAAAqQAAAAAAAABhAAAAAAAAAM0AAAAAAAAAkQAAAAAAAADFAAAAAAAAANEAAAAAAAAAkQAAAAAAAAChAAAAAAAAANEAAAAAAAAAQQAAAAAAAACxAAAAAAAAAM0AAAAAAAAAmQAAAAAAAACpAAAAAAAAAAAAAAAAAAAAqQAAAAAAAACZAAAAAAAAAKEAAAAAAAAA0QAAAAAAAACRAAAAAAAAALkAAAAAAAAAqQAAAAAAAAABAAAAAAAAANEAAAAAAAAAAAAAAAAAAAAAAAAAAAAAAM0AAAAAAAAA0QAAAAAAAADBAAAAAAAAAKkAAAAAAAAA3QAAAAAAAADZAAAAAAAAAN0AAAAAAAAAqQAAAAAAAADVAAAAAAAAAM0AAAAAAAAAuQAAAAAAAACRAAAAAAAAANEAAAAAAAAAuQAAAAAAAACpAAAAAAAAAIEAAAAAAAAAqQAAAAAAAACRAAAAAAAAAIEAAAAAAAAAsQAAAAAAAADZAAAAAAAAALkA=\",\"dtype\":\"float64\",\"shape\":[2848]},\"y\":{\"__ndarray__\":\"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\",\"dtype\":\"float64\",\"shape\":[2848]}},\"selected\":{\"id\":\"1058\",\"type\":\"Selection\"},\"selection_policy\":{\"id\":\"1059\",\"type\":\"UnionRenderers\"}},\"id\":\"1003\",\"type\":\"ColumnDataSource\"},{\"attributes\":{},\"id\":\"1060\",\"type\":\"Selection\"},{\"attributes\":{\"overlay\":{\"id\":\"1033\",\"type\":\"BoxAnnotation\"}},\"id\":\"1027\",\"type\":\"BoxZoomTool\"},{\"attributes\":{},\"id\":\"1061\",\"type\":\"UnionRenderers\"},{\"attributes\":{\"fill_alpha\":{\"value\":0.1},\"fill_color\":{\"value\":\"#80b1d3\"},\"line_color\":{\"value\":\"#80b1d3\"},\"x\":{\"field\":\"x\",\"transform\":{\"id\":\"1040\",\"type\":\"Jitter\"}},\"y\":{\"field\":\"y\"}},\"id\":\"1042\",\"type\":\"Circle\"},{\"attributes\":{},\"id\":\"1028\",\"type\":\"SaveTool\"},{\"attributes\":{\"range\":{\"id\":\"1007\",\"type\":\"DataRange1d\"},\"width\":0.9},\"id\":\"1040\",\"type\":\"Jitter\"},{\"attributes\":{\"align\":\"center\",\"plot\":null,\"text\":\"Transactions by Time and Amount\",\"text_font_size\":{\"value\":\"18px\"}},\"id\":\"1004\",\"type\":\"Title\"},{\"attributes\":{},\"id\":\"1029\",\"type\":\"ResetTool\"},{\"attributes\":{},\"id\":\"1030\",\"type\":\"HelpTool\"},{\"attributes\":{\"callback\":null},\"id\":\"1007\",\"type\":\"DataRange1d\"},{\"attributes\":{\"callback\":null},\"id\":\"1009\",\"type\":\"DataRange1d\"},{\"attributes\":{\"active_drag\":\"auto\",\"active_inspect\":\"auto\",\"active_multi\":null,\"active_scroll\":\"auto\",\"active_tap\":\"auto\",\"tools\":[{\"id\":\"1025\",\"type\":\"PanTool\"},{\"id\":\"1026\",\"type\":\"WheelZoomTool\"},{\"id\":\"1027\",\"type\":\"BoxZoomTool\"},{\"id\":\"1028\",\"type\":\"SaveTool\"},{\"id\":\"1029\",\"type\":\"ResetTool\"},{\"id\":\"1030\",\"type\":\"HelpTool\"}]},\"id\":\"1031\",\"type\":\"Toolbar\"},{\"attributes\":{\"bottom_units\":\"screen\",\"fill_alpha\":{\"value\":0.5},\"fill_color\":{\"value\":\"lightgrey\"},\"left_units\":\"screen\",\"level\":\"overlay\",\"line_alpha\":{\"value\":1.0},\"line_color\":{\"value\":\"black\"},\"line_dash\":[4,4],\"line_width\":{\"value\":2},\"plot\":null,\"render_mode\":\"css\",\"right_units\":\"screen\",\"top_units\":\"screen\"},\"id\":\"1033\",\"type\":\"BoxAnnotation\"},{\"attributes\":{},\"id\":\"1011\",\"type\":\"LinearScale\"},{\"attributes\":{\"fill_alpha\":{\"value\":0.1},\"fill_color\":{\"value\":\"#1f77b4\"},\"line_alpha\":{\"value\":0.1},\"line_color\":{\"value\":\"#1f77b4\"},\"x\":{\"field\":\"x\",\"transform\":{\"id\":\"1040\",\"type\":\"Jitter\"}},\"y\":{\"field\":\"y\"}},\"id\":\"1043\",\"type\":\"Circle\"},{\"attributes\":{},\"id\":\"1013\",\"type\":\"LinearScale\"},{\"attributes\":{\"data_source\":{\"id\":\"1003\",\"type\":\"ColumnDataSource\"},\"glyph\":{\"id\":\"1042\",\"type\":\"Circle\"},\"hover_glyph\":null,\"muted_glyph\":null,\"nonselection_glyph\":{\"id\":\"1043\",\"type\":\"Circle\"},\"selection_glyph\":null,\"view\":{\"id\":\"1045\",\"type\":\"CDSView\"}},\"id\":\"1044\",\"type\":\"GlyphRenderer\"},{\"attributes\":{\"axis_label\":\"Time\",\"axis_label_text_font_size\":{\"value\":\"14px\"},\"formatter\":{\"id\":\"1055\",\"type\":\"BasicTickFormatter\"},\"major_label_text_font_size\":{\"value\":\"12px\"},\"minor_tick_line_color\":{\"value\":null},\"plot\":{\"id\":\"1005\",\"subtype\":\"Figure\",\"type\":\"Plot\"},\"ticker\":{\"id\":\"1016\",\"type\":\"BasicTicker\"}},\"id\":\"1015\",\"type\":\"LinearAxis\"},{\"attributes\":{\"source\":{\"id\":\"1003\",\"type\":\"ColumnDataSource\"}},\"id\":\"1045\",\"type\":\"CDSView\"},{\"attributes\":{},\"id\":\"1016\",\"type\":\"BasicTicker\"},{\"attributes\":{\"grid_line_color\":{\"value\":null},\"plot\":{\"id\":\"1005\",\"subtype\":\"Figure\",\"type\":\"Plot\"},\"ticker\":{\"id\":\"1016\",\"type\":\"BasicTicker\"}},\"id\":\"1019\",\"type\":\"Grid\"},{\"attributes\":{},\"id\":\"1055\",\"type\":\"BasicTickFormatter\"},{\"attributes\":{},\"id\":\"1059\",\"type\":\"UnionRenderers\"},{\"attributes\":{\"axis_label\":\"Amount\",\"axis_label_text_font_size\":{\"value\":\"14px\"},\"axis_line_color\":{\"value\":null},\"formatter\":{\"id\":\"1052\",\"type\":\"NumeralTickFormatter\"},\"major_label_text_font_size\":{\"value\":\"12px\"},\"major_tick_line_color\":{\"value\":null},\"minor_tick_line_color\":{\"value\":null},\"plot\":{\"id\":\"1005\",\"subtype\":\"Figure\",\"type\":\"Plot\"},\"ticker\":{\"id\":\"1021\",\"type\":\"BasicTicker\"}},\"id\":\"1020\",\"type\":\"LinearAxis\"},{\"attributes\":{\"fill_alpha\":{\"value\":0.7},\"fill_color\":{\"value\":\"#fb8072\"},\"line_color\":{\"value\":\"#fb8072\"},\"x\":{\"field\":\"x\",\"transform\":{\"id\":\"1046\",\"type\":\"Jitter\"}},\"y\":{\"field\":\"y\"}},\"id\":\"1048\",\"type\":\"Circle\"},{\"attributes\":{},\"id\":\"1021\",\"type\":\"BasicTicker\"},{\"attributes\":{\"fill_alpha\":{\"value\":0.1},\"fill_color\":{\"value\":\"#1f77b4\"},\"line_alpha\":{\"value\":0.1},\"line_color\":{\"value\":\"#1f77b4\"},\"x\":{\"field\":\"x\",\"transform\":{\"id\":\"1046\",\"type\":\"Jitter\"}},\"y\":{\"field\":\"y\"}},\"id\":\"1049\",\"type\":\"Circle\"},{\"attributes\":{\"dimension\":1,\"grid_line_color\":{\"value\":null},\"plot\":{\"id\":\"1005\",\"subtype\":\"Figure\",\"type\":\"Plot\"},\"ticker\":{\"id\":\"1021\",\"type\":\"BasicTicker\"}},\"id\":\"1024\",\"type\":\"Grid\"},{\"attributes\":{\"data_source\":{\"id\":\"1002\",\"type\":\"ColumnDataSource\"},\"glyph\":{\"id\":\"1048\",\"type\":\"Circle\"},\"hover_glyph\":null,\"muted_glyph\":null,\"nonselection_glyph\":{\"id\":\"1049\",\"type\":\"Circle\"},\"selection_glyph\":null,\"view\":{\"id\":\"1051\",\"type\":\"CDSView\"}},\"id\":\"1050\",\"type\":\"GlyphRenderer\"},{\"attributes\":{\"callback\":null,\"data\":{\"x\":{\"__ndarray__\":\"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\",\"dtype\":\"float64\",\"shape\":[492]},\"y\":{\"__ndarray__\":\"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\",\"dtype\":\"float64\",\"shape\":[492]}},\"selected\":{\"id\":\"1060\",\"type\":\"Selection\"},\"selection_policy\":{\"id\":\"1061\",\"type\":\"UnionRenderers\"}},\"id\":\"1002\",\"type\":\"ColumnDataSource\"},{\"attributes\":{\"source\":{\"id\":\"1002\",\"type\":\"ColumnDataSource\"}},\"id\":\"1051\",\"type\":\"CDSView\"},{\"attributes\":{},\"id\":\"1058\",\"type\":\"Selection\"},{\"attributes\":{\"range\":{\"id\":\"1007\",\"type\":\"DataRange1d\"},\"width\":0.9},\"id\":\"1046\",\"type\":\"Jitter\"},{\"attributes\":{\"format\":\"$0,0\"},\"id\":\"1052\",\"type\":\"NumeralTickFormatter\"},{\"attributes\":{},\"id\":\"1025\",\"type\":\"PanTool\"}],\"root_ids\":[\"1005\"]},\"title\":\"Bokeh Application\",\"version\":\"1.0.4\"}};\n",
       "  var render_items = [{\"docid\":\"c0757d89-c147-4567-bbc4-1aa113f9b1b0\",\"roots\":{\"1005\":\"dc2bc572-3f28-476d-bd6e-9fef184b8dac\"}}];\n",
       "  root.Bokeh.embed.embed_items_notebook(docs_json, render_items);\n",
       "\n",
       "  }\n",
       "  if (root.Bokeh !== undefined) {\n",
       "    embed_document(root);\n",
       "  } else {\n",
       "    var attempts = 0;\n",
       "    var timer = setInterval(function(root) {\n",
       "      if (root.Bokeh !== undefined) {\n",
       "        embed_document(root);\n",
       "        clearInterval(timer);\n",
       "      }\n",
       "      attempts++;\n",
       "      if (attempts > 100) {\n",
       "        console.log(\"Bokeh: ERROR: Unable to run BokehJS code because BokehJS library is missing\");\n",
       "        clearInterval(timer);\n",
       "      }\n",
       "    }, 10, root)\n",
       "  }\n",
       "})(window);"
      ],
      "application/vnd.bokehjs_exec.v0+json": ""
     },
     "metadata": {
      "application/vnd.bokehjs_exec.v0+json": {
       "id": "1005"
      }
     },
     "output_type": "display_data"
    }
   ],
   "source": [
    "# Get only fraud transactions\n",
    "fraud_df = df[df['Class'] == 1]\n",
    "f_source = ColumnDataSource(data = dict(x = fraud_df['TimeNorm'].values,\n",
    "                                    y = fraud_df['Amount'].values))\n",
    "# get only normal transactions\n",
    "non_fraud_df = df[df['Class'] == 0]\n",
    "# Limit amount of data in plot\n",
    "sample_non_fraud = df.sample(frac=0.01, replace=False)\n",
    "norm_source = ColumnDataSource(data = dict(x = sample_non_fraud['TimeNorm'].values,\n",
    "                                    y = sample_non_fraud['Amount'].values))\n",
    "# create Bokeh figure\n",
    "p = figure(plot_width = 800, \n",
    "           toolbar_location = None, \n",
    "           title = 'Transactions by Time and Amount')\n",
    "\n",
    "# plot Normal Transactions\n",
    "p.circle(x=jitter('x', width=0.9, range=p.x_range), \n",
    "         y='y', color = Set3_12[4], \n",
    "         fill_alpha = 0.1, \n",
    "         source = norm_source)\n",
    "\n",
    "# plot fraud transactions\n",
    "p.circle(x=jitter('x', width=0.9,range=p.x_range), \n",
    "         y='y', color = Set3_12[3], \n",
    "         fill_alpha = 0.7, \n",
    "         source = f_source)\n",
    "\n",
    "#function to format plot\n",
    "p = format_plot(p, \"Time\", \"Amount\")\n",
    "\n",
    "p.yaxis[0].formatter = NumeralTickFormatter(format=\"$0,0\")\n",
    "\n",
    "show(p)"
   ]
  },
  {
   "cell_type": "code",
   "execution_count": 7,
   "metadata": {
    "_cell_guid": "d2307c8b-a4c1-4328-8b19-304764b7e415",
    "_uuid": "e5346ed796563d9f07f4fbc4052706db2309382e"
   },
   "outputs": [
    {
     "data": {
      "text/plain": [
       "2125.8699999999999"
      ]
     },
     "execution_count": 7,
     "metadata": {},
     "output_type": "execute_result"
    }
   ],
   "source": [
    "df.loc[df['Class'] == 1, 'Amount'].max()"
   ]
  },
  {
   "cell_type": "markdown",
   "metadata": {
    "_cell_guid": "ac5e0c55-73c9-4014-a590-3ad7b42d4f59",
    "_uuid": "c5dc91db655efe292b8f7b12088c1f839b8224f8"
   },
   "source": [
    "From the chart above, it appears that there is no clear time window when fraud occurs more frequently. You can also see that all fraudulent charges fall below $2,126. While there may not be a lot of information gained by a visual inspection of time, I decided to leave it in the dataset as there may be some interactions with other variables that help detect these charges.\n",
    "\n",
    "### Data Normalization\n",
    "\n",
    "Next I normalized the time and amount variables to ease with model learning,and split the data into a training and testing dataset. "
   ]
  },
  {
   "cell_type": "code",
   "execution_count": 8,
   "metadata": {
    "_cell_guid": "0d31507d-0973-46af-a1b2-3ceb344bbc79",
    "_uuid": "1ac110a0e822b3b0482c97d9a41307e919f92df2",
    "collapsed": true
   },
   "outputs": [],
   "source": [
    "scl = StandardScaler()\n",
    "df['TimeNorm'] = scl.fit_transform(df['TimeNorm'].values.reshape(-1,1))\n",
    "scl = StandardScaler()\n",
    "df['NormAmt'] = scl.fit_transform(df['Amount'].values.reshape(-1,1))"
   ]
  },
  {
   "cell_type": "code",
   "execution_count": 9,
   "metadata": {
    "_cell_guid": "d0479edc-5c36-414d-892f-3d3cade9d6c8",
    "_uuid": "0e1c390f964f0fe2c8e2d04d7eef87b94fcdf5a3",
    "collapsed": true
   },
   "outputs": [],
   "source": [
    "df = df.drop(['Time', 'Amount'], axis = 1)"
   ]
  },
  {
   "cell_type": "code",
   "execution_count": 10,
   "metadata": {
    "_cell_guid": "23d5e4e5-a5cd-47a1-b2de-bce97fb24b8c",
    "_uuid": "6218aab26141161c03eb9ded335f9f87c03d3fdf",
    "collapsed": true
   },
   "outputs": [],
   "source": [
    "x_train, x_test = train_test_split(df, test_size = 0.2, random_state = 42)"
   ]
  },
  {
   "cell_type": "code",
   "execution_count": 11,
   "metadata": {
    "_uuid": "b3fb0880213538f57ebea039d3f08986a31b4cff"
   },
   "outputs": [
    {
     "data": {
      "text/html": [
       "<div>\n",
       "<style scoped>\n",
       "    .dataframe tbody tr th:only-of-type {\n",
       "        vertical-align: middle;\n",
       "    }\n",
       "\n",
       "    .dataframe tbody tr th {\n",
       "        vertical-align: top;\n",
       "    }\n",
       "\n",
       "    .dataframe thead th {\n",
       "        text-align: right;\n",
       "    }\n",
       "</style>\n",
       "<table border=\"1\" class=\"dataframe\">\n",
       "  <thead>\n",
       "    <tr style=\"text-align: right;\">\n",
       "      <th></th>\n",
       "      <th>V1</th>\n",
       "      <th>V2</th>\n",
       "      <th>V3</th>\n",
       "      <th>V4</th>\n",
       "      <th>V5</th>\n",
       "      <th>V6</th>\n",
       "      <th>V7</th>\n",
       "      <th>V8</th>\n",
       "      <th>V9</th>\n",
       "      <th>V10</th>\n",
       "      <th>...</th>\n",
       "      <th>V22</th>\n",
       "      <th>V23</th>\n",
       "      <th>V24</th>\n",
       "      <th>V25</th>\n",
       "      <th>V26</th>\n",
       "      <th>V27</th>\n",
       "      <th>V28</th>\n",
       "      <th>Class</th>\n",
       "      <th>TimeNorm</th>\n",
       "      <th>NormAmt</th>\n",
       "    </tr>\n",
       "  </thead>\n",
       "  <tbody>\n",
       "    <tr>\n",
       "      <th>223361</th>\n",
       "      <td>1.955041</td>\n",
       "      <td>-0.380783</td>\n",
       "      <td>-0.315013</td>\n",
       "      <td>0.330155</td>\n",
       "      <td>-0.509374</td>\n",
       "      <td>-0.086197</td>\n",
       "      <td>-0.627978</td>\n",
       "      <td>0.035994</td>\n",
       "      <td>1.054560</td>\n",
       "      <td>-0.030441</td>\n",
       "      <td>...</td>\n",
       "      <td>0.968305</td>\n",
       "      <td>0.053208</td>\n",
       "      <td>-0.278602</td>\n",
       "      <td>-0.044999</td>\n",
       "      <td>-0.216780</td>\n",
       "      <td>0.045168</td>\n",
       "      <td>-0.047145</td>\n",
       "      <td>0</td>\n",
       "      <td>0.300989</td>\n",
       "      <td>-0.313289</td>\n",
       "    </tr>\n",
       "    <tr>\n",
       "      <th>165061</th>\n",
       "      <td>-0.400975</td>\n",
       "      <td>-0.626943</td>\n",
       "      <td>1.555339</td>\n",
       "      <td>-2.017772</td>\n",
       "      <td>-0.107769</td>\n",
       "      <td>0.168310</td>\n",
       "      <td>0.017959</td>\n",
       "      <td>-0.401619</td>\n",
       "      <td>0.040378</td>\n",
       "      <td>0.611115</td>\n",
       "      <td>...</td>\n",
       "      <td>0.421703</td>\n",
       "      <td>0.113442</td>\n",
       "      <td>-1.004095</td>\n",
       "      <td>-1.176695</td>\n",
       "      <td>0.361924</td>\n",
       "      <td>-0.370469</td>\n",
       "      <td>-0.144792</td>\n",
       "      <td>0</td>\n",
       "      <td>-0.822459</td>\n",
       "      <td>-0.169717</td>\n",
       "    </tr>\n",
       "    <tr>\n",
       "      <th>238186</th>\n",
       "      <td>0.072509</td>\n",
       "      <td>0.820566</td>\n",
       "      <td>-0.561351</td>\n",
       "      <td>-0.709897</td>\n",
       "      <td>1.080399</td>\n",
       "      <td>-0.359429</td>\n",
       "      <td>0.787858</td>\n",
       "      <td>0.117276</td>\n",
       "      <td>-0.131275</td>\n",
       "      <td>-0.638222</td>\n",
       "      <td>...</td>\n",
       "      <td>-0.872959</td>\n",
       "      <td>0.083391</td>\n",
       "      <td>0.148178</td>\n",
       "      <td>-0.431459</td>\n",
       "      <td>0.119690</td>\n",
       "      <td>0.206395</td>\n",
       "      <td>0.070288</td>\n",
       "      <td>0</td>\n",
       "      <td>0.621974</td>\n",
       "      <td>-0.305292</td>\n",
       "    </tr>\n",
       "    <tr>\n",
       "      <th>150562</th>\n",
       "      <td>-0.535045</td>\n",
       "      <td>1.014587</td>\n",
       "      <td>1.750679</td>\n",
       "      <td>2.769390</td>\n",
       "      <td>0.500089</td>\n",
       "      <td>1.002270</td>\n",
       "      <td>0.847902</td>\n",
       "      <td>-0.081323</td>\n",
       "      <td>0.371579</td>\n",
       "      <td>0.560595</td>\n",
       "      <td>...</td>\n",
       "      <td>0.443431</td>\n",
       "      <td>-0.072754</td>\n",
       "      <td>0.448192</td>\n",
       "      <td>-0.655203</td>\n",
       "      <td>-0.181038</td>\n",
       "      <td>-0.093013</td>\n",
       "      <td>-0.064931</td>\n",
       "      <td>0</td>\n",
       "      <td>-1.785414</td>\n",
       "      <td>0.116306</td>\n",
       "    </tr>\n",
       "    <tr>\n",
       "      <th>138452</th>\n",
       "      <td>-4.026938</td>\n",
       "      <td>1.897371</td>\n",
       "      <td>-0.429786</td>\n",
       "      <td>-0.029571</td>\n",
       "      <td>-0.855751</td>\n",
       "      <td>-0.480406</td>\n",
       "      <td>-0.435632</td>\n",
       "      <td>1.313760</td>\n",
       "      <td>0.536044</td>\n",
       "      <td>1.221746</td>\n",
       "      <td>...</td>\n",
       "      <td>-0.230369</td>\n",
       "      <td>0.250717</td>\n",
       "      <td>0.066399</td>\n",
       "      <td>0.470787</td>\n",
       "      <td>0.245335</td>\n",
       "      <td>0.286904</td>\n",
       "      <td>-0.322672</td>\n",
       "      <td>0</td>\n",
       "      <td>1.424436</td>\n",
       "      <td>-0.250239</td>\n",
       "    </tr>\n",
       "  </tbody>\n",
       "</table>\n",
       "<p>5 rows × 31 columns</p>\n",
       "</div>"
      ],
      "text/plain": [
       "              V1        V2        V3        V4        V5        V6        V7  \\\n",
       "223361  1.955041 -0.380783 -0.315013  0.330155 -0.509374 -0.086197 -0.627978   \n",
       "165061 -0.400975 -0.626943  1.555339 -2.017772 -0.107769  0.168310  0.017959   \n",
       "238186  0.072509  0.820566 -0.561351 -0.709897  1.080399 -0.359429  0.787858   \n",
       "150562 -0.535045  1.014587  1.750679  2.769390  0.500089  1.002270  0.847902   \n",
       "138452 -4.026938  1.897371 -0.429786 -0.029571 -0.855751 -0.480406 -0.435632   \n",
       "\n",
       "              V8        V9       V10    ...          V22       V23       V24  \\\n",
       "223361  0.035994  1.054560 -0.030441    ...     0.968305  0.053208 -0.278602   \n",
       "165061 -0.401619  0.040378  0.611115    ...     0.421703  0.113442 -1.004095   \n",
       "238186  0.117276 -0.131275 -0.638222    ...    -0.872959  0.083391  0.148178   \n",
       "150562 -0.081323  0.371579  0.560595    ...     0.443431 -0.072754  0.448192   \n",
       "138452  1.313760  0.536044  1.221746    ...    -0.230369  0.250717  0.066399   \n",
       "\n",
       "             V25       V26       V27       V28  Class  TimeNorm   NormAmt  \n",
       "223361 -0.044999 -0.216780  0.045168 -0.047145      0  0.300989 -0.313289  \n",
       "165061 -1.176695  0.361924 -0.370469 -0.144792      0 -0.822459 -0.169717  \n",
       "238186 -0.431459  0.119690  0.206395  0.070288      0  0.621974 -0.305292  \n",
       "150562 -0.655203 -0.181038 -0.093013 -0.064931      0 -1.785414  0.116306  \n",
       "138452  0.470787  0.245335  0.286904 -0.322672      0  1.424436 -0.250239  \n",
       "\n",
       "[5 rows x 31 columns]"
      ]
     },
     "execution_count": 11,
     "metadata": {},
     "output_type": "execute_result"
    }
   ],
   "source": [
    "x_train.head()"
   ]
  },
  {
   "cell_type": "markdown",
   "metadata": {
    "_cell_guid": "eb62e564-e12f-4f7d-a5d2-e1ae089a7e43",
    "_uuid": "afb216ac5cccf92c97e7dce310195bf1b258cbcb"
   },
   "source": [
    "Since we are training an autoencoder that will learn the features of a normal transaction, we filter the training set to remove all transactions that were fraudulent from the training set . We leave the test set as is, containing both types of transactions."
   ]
  },
  {
   "cell_type": "code",
   "execution_count": 12,
   "metadata": {
    "_cell_guid": "497a24fd-1022-4132-8011-71c95444b89e",
    "_uuid": "61778afec50e7a62f3fd1fdac3d0eedb354d3549",
    "scrolled": true
   },
   "outputs": [
    {
     "data": {
      "text/plain": [
       "((227451, 30), (56962, 30))"
      ]
     },
     "execution_count": 12,
     "metadata": {},
     "output_type": "execute_result"
    }
   ],
   "source": [
    "x_train = x_train[x_train['Class'] == 0]\n",
    "x_train = x_train.drop('Class', axis = 1)\n",
    "\n",
    "y_test = x_test['Class'].values\n",
    "x_test = x_test.drop('Class', axis = 1)\n",
    "x_test = x_test.values\n",
    "x_train = x_train.values\n",
    "\n",
    "x_train.shape, x_test.shape"
   ]
  },
  {
   "cell_type": "markdown",
   "metadata": {
    "_cell_guid": "0f73d302-0bb6-45cb-b06a-943ba5f76e21",
    "_uuid": "ed755801b10cfd63072e420f87ee8e0ac4a215b7"
   },
   "source": [
    "Next I transformed the numpy arrays as a PyTorch Float Tensor and loaded them into a DataLoader object. The dataloader is a generator that feeds the data to the training loop at the specified batch size."
   ]
  },
  {
   "cell_type": "code",
   "execution_count": 13,
   "metadata": {
    "_cell_guid": "438becd5-e3ce-42cc-96ce-c170be2f4989",
    "_uuid": "a80b55e87c252d8f86378b83892f7847a000419c",
    "collapsed": true
   },
   "outputs": [],
   "source": [
    "xt = torch.FloatTensor(x_train)\n",
    "xtr = torch.FloatTensor(x_test)\n",
    "xdl = DataLoader(xt,batch_size = 1000)\n",
    "tdl = DataLoader(xtr, batch_size = 1000)"
   ]
  },
  {
   "cell_type": "markdown",
   "metadata": {
    "_cell_guid": "aa2c90f4-a380-4602-a30b-3baa5c1d8cda",
    "_uuid": "f47c9985a7324ebd5eedc0ec865f14951d8b86e9"
   },
   "source": [
    "### Autoencoder Model\n",
    "\n",
    "The architecture of the autoencoder consist of 4 fully connected layers starting at an input size of 30 (30 variables) reducing down to 10 and then decoding back up to 30."
   ]
  },
  {
   "cell_type": "code",
   "execution_count": 14,
   "metadata": {
    "_cell_guid": "9536f662-9852-4681-acfe-2af6aef2d43e",
    "_uuid": "50a8dbbf90abe1ce4f5515946feee80dfdd569e0",
    "collapsed": true
   },
   "outputs": [],
   "source": [
    "class Net1(nn.Module):\n",
    "    def __init__(self):\n",
    "        super().__init__()\n",
    "        self.lin1 = nn.Linear(30,20)\n",
    "        self.lin2 = nn.Linear(20,10)\n",
    "        self.lin7 = nn.Linear(10,20)\n",
    "        self.lin8 = nn.Linear(20,30)\n",
    "        \n",
    "        self.drop2 = nn.Dropout(0.05)\n",
    "        \n",
    "        self.lin1.weight.data.uniform_(-2,2)\n",
    "        self.lin2.weight.data.uniform_(-2,2)\n",
    "        self.lin7.weight.data.uniform_(-2,2)\n",
    "        self.lin8.weight.data.uniform_(-2,2)\n",
    "\n",
    "    def forward(self, data):\n",
    "        x = torch.tanh(self.lin1(data))\n",
    "        x = self.drop2(torch.tanh(self.lin2(x)))\n",
    "        x = torch.tanh(self.lin7(x))\n",
    "        x = self.lin8(x)\n",
    "        \n",
    "        return (x)"
   ]
  },
  {
   "cell_type": "markdown",
   "metadata": {
    "_cell_guid": "13ff07ac-4e72-4dfc-a710-1fa7b9b60788",
    "_uuid": "72664dd371321fd34de43df53868e56a9785c094"
   },
   "source": [
    "This function utilizes the model's loss function to calculate the loss for the validation test set. In this instance of using an autoencoder for anomaly detection, the validation score doesn't mean much since it will have both fraud and non-fraud scores. What we really care about is having the model learn as much as it can about the features of a normal transaction."
   ]
  },
  {
   "cell_type": "code",
   "execution_count": 15,
   "metadata": {
    "_cell_guid": "1617ce50-2a19-47f4-b3c5-31e87a0d7970",
    "_uuid": "e702ad6f8272d4bf65c4586d2d0ad957a63587c9",
    "collapsed": true
   },
   "outputs": [],
   "source": [
    "def score(x):\n",
    "    y_pred = model(V(x))\n",
    "    x1 = V(x)\n",
    "    return loss(y_pred,x1).item()"
   ]
  },
  {
   "cell_type": "markdown",
   "metadata": {
    "_cell_guid": "28cac8a1-6e2f-48f7-8e67-2c3da30be4da",
    "_uuid": "019a008e24c350d95abc46490755a5cc5ea4e384"
   },
   "source": [
    "Next is the training loop. This function takes in the number of epochs you want to run as well as a model_loss variable that is used to keep the history (model and validation loss) at each epoch. \n",
    "This is a fairly standard PyTorch training loop, except that instead of taking in a X and a Y variable, it takes in X from the dataloader, gets the prediction from the model, and determines the loss between the original X and the model prediction. It then goes on to change the gradients through back propagation based on the determined loss."
   ]
  },
  {
   "cell_type": "code",
   "execution_count": 16,
   "metadata": {
    "_cell_guid": "1a3c8670-4020-48d9-bef4-2166c6537ad7",
    "_uuid": "744eb82af18167ee3c3f0febc8005410c770864b",
    "collapsed": true
   },
   "outputs": [],
   "source": [
    "# Utilize a named tuple to keep track of scores at each epoch\n",
    "model_hist = collections.namedtuple('Model','epoch loss val_loss')\n",
    "model_loss = model_hist(epoch = [], loss = [], val_loss = [])"
   ]
  },
  {
   "cell_type": "code",
   "execution_count": 17,
   "metadata": {
    "_cell_guid": "bae18a52-cd49-4a42-8bbf-4351b2425dfc",
    "_uuid": "81b56b9e98efb87c20fbf03f7b79b2ee77ffeb16",
    "collapsed": true
   },
   "outputs": [],
   "source": [
    "def train(epochs, model, model_loss):\n",
    "    try:c = model_loss.epoch[-1]\n",
    "    except: c = 0\n",
    "    for epoch in tqdm_notebook(range(epochs),position=0, total = epochs):\n",
    "        losses=[]\n",
    "        dl = iter(xdl)\n",
    "        for t in range(len(dl)):\n",
    "            # Forward pass: compute predicted y and loss by passing x to the model.\n",
    "            xt = next(dl)\n",
    "            y_pred = model(V(xt))\n",
    "            \n",
    "            l = loss(y_pred,V(xt))\n",
    "            losses.append(l)\n",
    "            optimizer.zero_grad()\n",
    "\n",
    "            # Backward pass: compute gradient of the loss with respect to model parameters\n",
    "            l.backward()\n",
    "\n",
    "            # Calling the step function on an Optimizer makes an update to its parameters\n",
    "            optimizer.step()\n",
    "    \n",
    "        val_dl = iter(tdl)\n",
    "        val_scores = [score(next(val_dl)) for i in range(len(val_dl))]\n",
    "        \n",
    "        model_loss.epoch.append(c+epoch)\n",
    "        model_loss.loss.append(l.item())\n",
    "        model_loss.val_loss.append(np.mean(val_scores))\n",
    "        print(f'Epoch: {epoch}   Loss: {l.item():.4f}    Val_Loss: {np.mean(val_scores):.4f}')"
   ]
  },
  {
   "cell_type": "markdown",
   "metadata": {
    "_cell_guid": "67505a1a-218b-46bc-a0ae-fe9257c96389",
    "_uuid": "7d92b4dd60ae82f3156b4fb957e7a4903d085ae8"
   },
   "source": [
    "### Model Training\n",
    "\n",
    "With the Pytorch structure set up we can now train the model."
   ]
  },
  {
   "cell_type": "code",
   "execution_count": 18,
   "metadata": {
    "_cell_guid": "f3332cfc-05a3-4994-b079-b0cd8db609a6",
    "_uuid": "e7948ba78ba83ac4187e2416657c2fc21484ebaa",
    "collapsed": true
   },
   "outputs": [],
   "source": [
    "model = Net1()\n",
    "loss=nn.MSELoss()\n",
    "learning_rate = 1e-2\n",
    "optimizer=torch.optim.Adam(model.parameters(), lr=learning_rate)"
   ]
  },
  {
   "cell_type": "code",
   "execution_count": 19,
   "metadata": {
    "_cell_guid": "ed4c9fc0-2886-41f4-a706-2b2145684999",
    "_uuid": "9ca4ee45a358cf042d15dce46648dec87a3efc6c"
   },
   "outputs": [
    {
     "data": {
      "application/vnd.jupyter.widget-view+json": {
       "model_id": "024fd971e41244158c1b37a580484587",
       "version_major": 2,
       "version_minor": 0
      },
      "text/plain": [
       "A Jupyter Widget"
      ]
     },
     "metadata": {},
     "output_type": "display_data"
    },
    {
     "name": "stdout",
     "output_type": "stream",
     "text": [
      "Epoch: 0   Loss: 0.9356    Val_Loss: 1.0663\n",
      "Epoch: 1   Loss: 0.8583    Val_Loss: 0.9721\n",
      "Epoch: 2   Loss: 0.8018    Val_Loss: 0.9127\n",
      "Epoch: 3   Loss: 0.7679    Val_Loss: 0.8671\n",
      "Epoch: 4   Loss: 0.7092    Val_Loss: 0.8105\n",
      "Epoch: 5   Loss: 0.6552    Val_Loss: 0.7569\n",
      "Epoch: 6   Loss: 0.6177    Val_Loss: 0.7215\n",
      "Epoch: 7   Loss: 0.5952    Val_Loss: 0.6963\n",
      "Epoch: 8   Loss: 0.5572    Val_Loss: 0.6741\n",
      "Epoch: 9   Loss: 0.5402    Val_Loss: 0.6528\n",
      "Epoch: 10   Loss: 0.5147    Val_Loss: 0.6260\n",
      "Epoch: 11   Loss: 0.4997    Val_Loss: 0.6007\n",
      "Epoch: 12   Loss: 0.4681    Val_Loss: 0.5765\n",
      "Epoch: 13   Loss: 0.4362    Val_Loss: 0.5550\n",
      "Epoch: 14   Loss: 0.4251    Val_Loss: 0.5383\n",
      "Epoch: 15   Loss: 0.4160    Val_Loss: 0.5238\n",
      "Epoch: 16   Loss: 0.4190    Val_Loss: 0.5126\n",
      "Epoch: 17   Loss: 0.3856    Val_Loss: 0.5009\n",
      "Epoch: 18   Loss: 0.3782    Val_Loss: 0.4847\n",
      "Epoch: 19   Loss: 0.3705    Val_Loss: 0.4679\n",
      "Epoch: 20   Loss: 0.3656    Val_Loss: 0.4581\n",
      "Epoch: 21   Loss: 0.3432    Val_Loss: 0.4470\n",
      "Epoch: 22   Loss: 0.3295    Val_Loss: 0.4374\n",
      "Epoch: 23   Loss: 0.3279    Val_Loss: 0.4254\n",
      "Epoch: 24   Loss: 0.3245    Val_Loss: 0.4200\n",
      "Epoch: 25   Loss: 0.3362    Val_Loss: 0.4246\n",
      "Epoch: 26   Loss: 0.3006    Val_Loss: 0.4057\n",
      "Epoch: 27   Loss: 0.2933    Val_Loss: 0.3940\n",
      "Epoch: 28   Loss: 0.2918    Val_Loss: 0.3917\n",
      "Epoch: 29   Loss: 0.3042    Val_Loss: 0.3870\n",
      "\n"
     ]
    }
   ],
   "source": [
    "train(model = model, epochs = 30,model_loss= model_loss)"
   ]
  },
  {
   "cell_type": "markdown",
   "metadata": {
    "_cell_guid": "e9d9cc50-820f-4575-83eb-28da3d0224cb",
    "_uuid": "e9bbc95a91e6d75e73ca9863cfeee70985f3490c"
   },
   "source": [
    "### Training Evaluation"
   ]
  },
  {
   "cell_type": "code",
   "execution_count": 20,
   "metadata": {
    "_cell_guid": "9781ea14-cb6e-4e45-a830-3112f50a913e",
    "_uuid": "8d2983865bdc541c5685384ab7702d38baf78621",
    "scrolled": true
   },
   "outputs": [
    {
     "data": {
      "text/html": [
       "\n",
       "\n",
       "\n",
       "\n",
       "\n",
       "\n",
       "  <div class=\"bk-root\" id=\"7db7411b-1fe4-4f69-98f7-db9466690119\" data-root-id=\"1119\"></div>\n"
      ]
     },
     "metadata": {},
     "output_type": "display_data"
    },
    {
     "data": {
      "application/javascript": [
       "(function(root) {\n",
       "  function embed_document(root) {\n",
       "    \n",
       "  var docs_json = {\"9298d803-3a54-4367-8628-73f4c9c0a0bd\":{\"roots\":{\"references\":[{\"attributes\":{\"background_fill_color\":{\"value\":\"whitesmoke\"},\"below\":[{\"id\":\"1129\",\"type\":\"LinearAxis\"}],\"left\":[{\"id\":\"1134\",\"type\":\"LinearAxis\"}],\"plot_height\":500,\"plot_width\":800,\"renderers\":[{\"id\":\"1129\",\"type\":\"LinearAxis\"},{\"id\":\"1133\",\"type\":\"Grid\"},{\"id\":\"1134\",\"type\":\"LinearAxis\"},{\"id\":\"1138\",\"type\":\"Grid\"},{\"id\":\"1147\",\"type\":\"BoxAnnotation\"},{\"id\":\"1165\",\"type\":\"Legend\"},{\"id\":\"1157\",\"type\":\"GlyphRenderer\"},{\"id\":\"1170\",\"type\":\"GlyphRenderer\"}],\"title\":{\"id\":\"1118\",\"type\":\"Title\"},\"toolbar\":{\"id\":\"1145\",\"type\":\"Toolbar\"},\"toolbar_location\":null,\"x_range\":{\"id\":\"1121\",\"type\":\"DataRange1d\"},\"x_scale\":{\"id\":\"1125\",\"type\":\"LinearScale\"},\"y_range\":{\"id\":\"1123\",\"type\":\"DataRange1d\"},\"y_scale\":{\"id\":\"1127\",\"type\":\"LinearScale\"}},\"id\":\"1119\",\"subtype\":\"Figure\",\"type\":\"Plot\"},{\"attributes\":{\"grid_line_color\":{\"value\":null},\"plot\":{\"id\":\"1119\",\"subtype\":\"Figure\",\"type\":\"Plot\"},\"ticker\":{\"id\":\"1130\",\"type\":\"BasicTicker\"}},\"id\":\"1133\",\"type\":\"Grid\"},{\"attributes\":{},\"id\":\"1177\",\"type\":\"Selection\"},{\"attributes\":{\"align\":\"center\",\"plot\":null,\"text\":\"Model L1 Loss\",\"text_font_size\":{\"value\":\"18px\"}},\"id\":\"1118\",\"type\":\"Title\"},{\"attributes\":{},\"id\":\"1178\",\"type\":\"UnionRenderers\"},{\"attributes\":{\"callback\":null},\"id\":\"1121\",\"type\":\"DataRange1d\"},{\"attributes\":{\"line_alpha\":0.1,\"line_color\":\"#1f77b4\",\"line_width\":2,\"x\":{\"field\":\"x\"},\"y\":{\"field\":\"loss\"}},\"id\":\"1156\",\"type\":\"Line\"},{\"attributes\":{\"label\":{\"value\":\"Validation Loss\"},\"renderers\":[{\"id\":\"1170\",\"type\":\"GlyphRenderer\"}]},\"id\":\"1180\",\"type\":\"LegendItem\"},{\"attributes\":{\"callback\":null},\"id\":\"1123\",\"type\":\"DataRange1d\"},{\"attributes\":{\"callback\":null,\"mode\":\"vline\",\"renderers\":[{\"id\":\"1157\",\"type\":\"GlyphRenderer\"}],\"tooltips\":[[\"Epoch\",\"@x\"],[\"Model Loss\",\"@loss{0.000}\"],[\"Val Loss\",\"@val_loss{0.000}\"]]},\"id\":\"1181\",\"type\":\"HoverTool\"},{\"attributes\":{},\"id\":\"1140\",\"type\":\"WheelZoomTool\"},{\"attributes\":{},\"id\":\"1162\",\"type\":\"BasicTickFormatter\"},{\"attributes\":{\"source\":{\"id\":\"1117\",\"type\":\"ColumnDataSource\"}},\"id\":\"1158\",\"type\":\"CDSView\"},{\"attributes\":{\"axis_label\":\"Loss\",\"axis_label_text_font_size\":{\"value\":\"14px\"},\"axis_line_color\":{\"value\":null},\"formatter\":{\"id\":\"1162\",\"type\":\"BasicTickFormatter\"},\"major_label_text_font_size\":{\"value\":\"12px\"},\"major_tick_line_color\":{\"value\":null},\"minor_tick_line_color\":{\"value\":null},\"plot\":{\"id\":\"1119\",\"subtype\":\"Figure\",\"type\":\"Plot\"},\"ticker\":{\"id\":\"1135\",\"type\":\"BasicTicker\"}},\"id\":\"1134\",\"type\":\"LinearAxis\"},{\"attributes\":{\"data_source\":{\"id\":\"1117\",\"type\":\"ColumnDataSource\"},\"glyph\":{\"id\":\"1155\",\"type\":\"Line\"},\"hover_glyph\":null,\"muted_glyph\":null,\"nonselection_glyph\":{\"id\":\"1156\",\"type\":\"Line\"},\"selection_glyph\":null,\"view\":{\"id\":\"1158\",\"type\":\"CDSView\"}},\"id\":\"1157\",\"type\":\"GlyphRenderer\"},{\"attributes\":{\"bottom_units\":\"screen\",\"fill_alpha\":{\"value\":0.5},\"fill_color\":{\"value\":\"lightgrey\"},\"left_units\":\"screen\",\"level\":\"overlay\",\"line_alpha\":{\"value\":1.0},\"line_color\":{\"value\":\"black\"},\"line_dash\":[4,4],\"line_width\":{\"value\":2},\"plot\":null,\"render_mode\":\"css\",\"right_units\":\"screen\",\"top_units\":\"screen\"},\"id\":\"1147\",\"type\":\"BoxAnnotation\"},{\"attributes\":{\"callback\":null,\"data\":{\"loss\":[0.9356030225753784,0.8582631349563599,0.8018044829368591,0.7678794860839844,0.7091809511184692,0.655166506767273,0.6176621317863464,0.5951758027076721,0.5572484731674194,0.540240466594696,0.5147430300712585,0.4996536076068878,0.468144953250885,0.43622252345085144,0.4250860810279846,0.4160129725933075,0.4190288484096527,0.38556432723999023,0.3781675100326538,0.3704637289047241,0.3656063973903656,0.34320247173309326,0.32948821783065796,0.32793930172920227,0.324522465467453,0.3362293839454651,0.30062028765678406,0.29333072900772095,0.29183077812194824,0.30417999625205994],\"val_loss\":[1.0662596759043241,0.9720877513550875,0.9127049665702017,0.8670774530946163,0.8104755983018038,0.756938334096942,0.7214862484680978,0.6962876978673433,0.6740676771130478,0.6528063761560541,0.6259848695052298,0.600725021278649,0.5765184116990942,0.555017737442987,0.5382771837083917,0.523758136912396,0.5126367169514037,0.5008693133529863,0.4846739774210411,0.4678721401775092,0.45811768529707925,0.44704425544069526,0.4373738237640314,0.4254131709274493,0.42003201183519867,0.42458915083031906,0.4056541161578998,0.39400760175889,0.39173199105681034,0.38701675701559635],\"x\":[0,1,2,3,4,5,6,7,8,9,10,11,12,13,14,15,16,17,18,19,20,21,22,23,24,25,26,27,28,29]},\"selected\":{\"id\":\"1177\",\"type\":\"Selection\"},\"selection_policy\":{\"id\":\"1178\",\"type\":\"UnionRenderers\"}},\"id\":\"1117\",\"type\":\"ColumnDataSource\"},{\"attributes\":{},\"id\":\"1139\",\"type\":\"PanTool\"},{\"attributes\":{},\"id\":\"1130\",\"type\":\"BasicTicker\"},{\"attributes\":{},\"id\":\"1160\",\"type\":\"BasicTickFormatter\"},{\"attributes\":{\"axis_label\":\"Epoch\",\"axis_label_text_font_size\":{\"value\":\"14px\"},\"formatter\":{\"id\":\"1160\",\"type\":\"BasicTickFormatter\"},\"major_label_text_font_size\":{\"value\":\"12px\"},\"minor_tick_line_color\":{\"value\":null},\"plot\":{\"id\":\"1119\",\"subtype\":\"Figure\",\"type\":\"Plot\"},\"ticker\":{\"id\":\"1130\",\"type\":\"BasicTicker\"}},\"id\":\"1129\",\"type\":\"LinearAxis\"},{\"attributes\":{\"items\":[{\"id\":\"1166\",\"type\":\"LegendItem\"},{\"id\":\"1180\",\"type\":\"LegendItem\"}],\"plot\":{\"id\":\"1119\",\"subtype\":\"Figure\",\"type\":\"Plot\"}},\"id\":\"1165\",\"type\":\"Legend\"},{\"attributes\":{\"dimension\":1,\"grid_line_color\":{\"value\":null},\"plot\":{\"id\":\"1119\",\"subtype\":\"Figure\",\"type\":\"Plot\"},\"ticker\":{\"id\":\"1135\",\"type\":\"BasicTicker\"}},\"id\":\"1138\",\"type\":\"Grid\"},{\"attributes\":{\"label\":{\"value\":\"Training Loss\"},\"renderers\":[{\"id\":\"1157\",\"type\":\"GlyphRenderer\"}]},\"id\":\"1166\",\"type\":\"LegendItem\"},{\"attributes\":{\"line_color\":\"#80b1d3\",\"line_width\":2,\"x\":{\"field\":\"x\"},\"y\":{\"field\":\"loss\"}},\"id\":\"1155\",\"type\":\"Line\"},{\"attributes\":{},\"id\":\"1125\",\"type\":\"LinearScale\"},{\"attributes\":{},\"id\":\"1143\",\"type\":\"ResetTool\"},{\"attributes\":{\"overlay\":{\"id\":\"1147\",\"type\":\"BoxAnnotation\"}},\"id\":\"1141\",\"type\":\"BoxZoomTool\"},{\"attributes\":{\"line_color\":\"#fdb462\",\"line_width\":2,\"x\":{\"field\":\"x\"},\"y\":{\"field\":\"val_loss\"}},\"id\":\"1168\",\"type\":\"Line\"},{\"attributes\":{},\"id\":\"1135\",\"type\":\"BasicTicker\"},{\"attributes\":{\"line_alpha\":0.1,\"line_color\":\"#1f77b4\",\"line_width\":2,\"x\":{\"field\":\"x\"},\"y\":{\"field\":\"val_loss\"}},\"id\":\"1169\",\"type\":\"Line\"},{\"attributes\":{},\"id\":\"1144\",\"type\":\"HelpTool\"},{\"attributes\":{\"data_source\":{\"id\":\"1117\",\"type\":\"ColumnDataSource\"},\"glyph\":{\"id\":\"1168\",\"type\":\"Line\"},\"hover_glyph\":null,\"muted_glyph\":null,\"nonselection_glyph\":{\"id\":\"1169\",\"type\":\"Line\"},\"selection_glyph\":null,\"view\":{\"id\":\"1171\",\"type\":\"CDSView\"}},\"id\":\"1170\",\"type\":\"GlyphRenderer\"},{\"attributes\":{},\"id\":\"1127\",\"type\":\"LinearScale\"},{\"attributes\":{\"active_drag\":\"auto\",\"active_inspect\":\"auto\",\"active_multi\":null,\"active_scroll\":\"auto\",\"active_tap\":\"auto\",\"tools\":[{\"id\":\"1139\",\"type\":\"PanTool\"},{\"id\":\"1140\",\"type\":\"WheelZoomTool\"},{\"id\":\"1141\",\"type\":\"BoxZoomTool\"},{\"id\":\"1142\",\"type\":\"SaveTool\"},{\"id\":\"1143\",\"type\":\"ResetTool\"},{\"id\":\"1144\",\"type\":\"HelpTool\"},{\"id\":\"1181\",\"type\":\"HoverTool\"}]},\"id\":\"1145\",\"type\":\"Toolbar\"},{\"attributes\":{},\"id\":\"1142\",\"type\":\"SaveTool\"},{\"attributes\":{\"source\":{\"id\":\"1117\",\"type\":\"ColumnDataSource\"}},\"id\":\"1171\",\"type\":\"CDSView\"}],\"root_ids\":[\"1119\"]},\"title\":\"Bokeh Application\",\"version\":\"1.0.4\"}};\n",
       "  var render_items = [{\"docid\":\"9298d803-3a54-4367-8628-73f4c9c0a0bd\",\"roots\":{\"1119\":\"7db7411b-1fe4-4f69-98f7-db9466690119\"}}];\n",
       "  root.Bokeh.embed.embed_items_notebook(docs_json, render_items);\n",
       "\n",
       "  }\n",
       "  if (root.Bokeh !== undefined) {\n",
       "    embed_document(root);\n",
       "  } else {\n",
       "    var attempts = 0;\n",
       "    var timer = setInterval(function(root) {\n",
       "      if (root.Bokeh !== undefined) {\n",
       "        embed_document(root);\n",
       "        clearInterval(timer);\n",
       "      }\n",
       "      attempts++;\n",
       "      if (attempts > 100) {\n",
       "        console.log(\"Bokeh: ERROR: Unable to run BokehJS code because BokehJS library is missing\");\n",
       "        clearInterval(timer);\n",
       "      }\n",
       "    }, 10, root)\n",
       "  }\n",
       "})(window);"
      ],
      "application/vnd.bokehjs_exec.v0+json": ""
     },
     "metadata": {
      "application/vnd.bokehjs_exec.v0+json": {
       "id": "1119"
      }
     },
     "output_type": "display_data"
    }
   ],
   "source": [
    "# Define a plot source\n",
    "source = ColumnDataSource(data=dict(\n",
    "    x=model_loss.epoch,\n",
    "    loss=model_loss.loss,\n",
    "    val_loss = model_loss.val_loss\n",
    "))\n",
    "\n",
    "p = figure(plot_height = 500, \n",
    "           plot_width = 800,\n",
    "           toolbar_location = None, \n",
    "           title = \"Model L1 Loss\")\n",
    "\n",
    "ml = p.line(x = \"x\", y = \"loss\", \n",
    "           color=Set3_12[4], \n",
    "           line_width = 2, \n",
    "           legend = \"Training Loss\", \n",
    "           source=source)\n",
    "\n",
    "p.line(x = \"x\", y = \"val_loss\", \n",
    "       color=Set3_12[5], \n",
    "       line_width = 2, \n",
    "       legend = \"Validation Loss\",\n",
    "       source=source)\n",
    "\n",
    "\n",
    "tips = [\n",
    "    (\"Epoch\",\"@x\"),\n",
    "    (\"Model Loss\",\"@loss{0.000}\"),\n",
    "    (\"Val Loss\",\"@val_loss{0.000}\")\n",
    "]\n",
    "p.add_tools(HoverTool(tooltips=tips, \n",
    "                      renderers= [ml], \n",
    "                      mode='vline'))\n",
    "\n",
    "\n",
    "p = format_plot(p, 'Epoch', 'Loss')\n",
    "\n",
    "show(p);"
   ]
  },
  {
   "cell_type": "markdown",
   "metadata": {},
   "source": [
    "From the chart above you can see that the the model loss is still going down. It is likely that there could have been additional performance gains from running a few more epochs to allow the loss to flatten out.\n",
    "\n",
    "Now it's time to calculate the reconstruction error on the test set to see how well it predicts normal transactions vs fraud.\n"
   ]
  },
  {
   "cell_type": "code",
   "execution_count": 21,
   "metadata": {},
   "outputs": [
    {
     "name": "stdout",
     "output_type": "stream",
     "text": [
      "Net1(\n",
      "  (lin1): Linear(in_features=30, out_features=20, bias=True)\n",
      "  (lin2): Linear(in_features=20, out_features=10, bias=True)\n",
      "  (lin7): Linear(in_features=10, out_features=20, bias=True)\n",
      "  (lin8): Linear(in_features=20, out_features=30, bias=True)\n",
      "  (drop2): Dropout(p=0.05)\n",
      ")\n"
     ]
    }
   ],
   "source": [
    "print(model)"
   ]
  },
  {
   "cell_type": "code",
   "execution_count": 22,
   "metadata": {},
   "outputs": [
    {
     "data": {
      "text/plain": [
       "OrderedDict([('lin1.weight',\n",
       "              tensor([[-0.0741, -0.0129, -0.0671, -0.1336,  0.3242,  0.2949, -0.2316,  0.2098,\n",
       "                       -0.0187, -0.1505,  0.1697, -0.1389, -0.0586, -0.1894, -0.0224, -0.2174,\n",
       "                       -0.2950, -0.0801,  0.0601,  0.0421,  0.0739,  0.0681,  0.0863, -0.0767,\n",
       "                       -0.1393, -0.0371, -0.0342, -0.1398, -0.0263,  0.1225],\n",
       "                      [ 0.8875, -0.3734, -0.0570, -0.0401, -0.8162,  0.2939,  0.8418,  1.5208,\n",
       "                       -0.7356, -0.8945,  0.6972, -0.4183,  0.3011, -0.7043,  0.2630, -0.5396,\n",
       "                       -0.9999, -0.4325,  0.2416,  0.2252,  0.5153, -0.2011, -0.7732,  0.0610,\n",
       "                       -0.2132, -0.0843, -0.2315,  1.0471,  0.3536, -0.9404],\n",
       "                      [ 0.2057,  0.0279,  0.3294, -0.0041,  0.2134,  0.0356, -0.0805, -0.1091,\n",
       "                        0.1482,  0.2946, -0.2156,  0.3313,  0.0311,  0.3141,  0.1307,  0.2477,\n",
       "                        0.6354,  0.1770,  0.1827, -0.2913, -0.0104,  0.0484,  0.1567, -0.0553,\n",
       "                        0.0234,  0.0047, -0.0892, -0.0705, -0.0733,  0.4505],\n",
       "                      [-0.7546,  0.1878, -0.4326,  0.9684,  0.3054, -0.0247,  0.3498, -0.3124,\n",
       "                        1.1301, -0.8426, -0.0867,  1.0986, -0.1990,  0.6018,  0.4875, -0.6008,\n",
       "                       -0.3643,  0.9795, -0.4983, -0.0613, -0.3526, -0.6265, -0.2622,  0.0435,\n",
       "                       -0.3000,  1.0755, -0.1698, -0.1919,  0.0675, -0.7102],\n",
       "                      [ 0.3671, -0.1453,  0.1257, -0.0963, -0.0435,  0.1513,  0.4300, -0.0613,\n",
       "                        0.1578,  0.1991, -0.2710,  0.1796, -0.1218,  0.3474, -0.0597,  0.3455,\n",
       "                        0.5919,  0.1774, -0.0704, -0.0652, -0.0239,  0.0076, -0.0034,  0.0023,\n",
       "                        0.0280, -0.0347,  0.0174, -0.0281, -0.0621,  0.1184],\n",
       "                      [ 0.0914,  0.5866, -0.0581, -0.0073,  0.2333, -0.3946, -0.8662, -0.0389,\n",
       "                       -0.2265, -0.5962,  0.0239, -0.3797, -0.2548, -0.5175, -0.1662, -0.4749,\n",
       "                       -0.8171, -0.3363,  0.1715, -0.6102,  0.0393,  0.0754,  0.3463, -0.0446,\n",
       "                        0.0825,  0.0552,  0.1479, -0.1296,  0.0071,  1.0377],\n",
       "                      [ 0.2399, -0.7159, -0.2172,  0.3954, -0.0405, -0.1237, -0.2382,  0.6199,\n",
       "                       -0.6481, -1.0845, -0.4294, -0.2945,  0.5578, -0.0055, -0.0460,  0.0170,\n",
       "                       -0.4149, -0.2534, -0.0837, -0.0728, -0.3464,  0.1915, -0.0722, -0.0299,\n",
       "                       -0.0155,  0.0961,  0.1289,  0.0159, -0.0201,  0.3912],\n",
       "                      [-0.3377,  0.7529, -0.2526,  0.5931,  0.0220, -0.1179,  0.1093,  0.6340,\n",
       "                       -0.0858, -0.3463, -0.5435,  1.7831, -1.2332, -1.2801,  0.7264,  1.0795,\n",
       "                       -1.1631, -1.3401,  0.7577,  0.3375,  0.0740,  0.6532,  0.3240, -0.0338,\n",
       "                        0.6105, -0.1233, -0.1854, -0.1486,  0.1160,  0.4796],\n",
       "                      [-0.1009,  0.2324, -0.2828,  0.1601, -0.2136, -0.0167, -0.4227,  0.0192,\n",
       "                       -0.2130, -0.5310,  0.2464, -0.6558,  0.1321, -0.7151, -0.0808, -0.5043,\n",
       "                       -1.2028, -0.4650, -0.0219,  0.1591,  0.0118, -0.0012, -0.0196,  0.0354,\n",
       "                        0.0425,  0.0424,  0.1685,  0.0265, -0.0201, -0.2524],\n",
       "                      [-0.1758,  0.4126, -0.2111,  0.6723,  0.1919, -0.0498, -0.0514,  0.1685,\n",
       "                        0.4545, -0.7542,  0.4238, -0.3212, -0.1985, -0.2164, -0.0236,  0.5581,\n",
       "                       -0.7774, -1.0327,  0.4804,  0.2392,  0.2207,  0.3538, -0.0538,  0.0176,\n",
       "                        0.0915,  0.0150,  0.0742,  0.0260, -0.0447, -0.0042],\n",
       "                      [ 0.2905, -0.1638,  0.3293, -0.1199,  0.3050, -0.1981,  0.4880,  0.4328,\n",
       "                        0.0823,  0.2987,  0.0327,  0.1541,  0.2019,  0.2281,  0.0220,  0.2717,\n",
       "                        0.4117,  0.1219, -0.0329, -0.2652,  0.4491, -0.1283,  0.0795,  0.0459,\n",
       "                        0.0867,  0.0129,  0.0414, -0.0460, -0.1829,  0.2177],\n",
       "                      [-0.0873,  0.1900, -0.3621,  0.1440, -0.1445, -0.0902, -0.3475,  0.0289,\n",
       "                       -0.1890, -0.3653,  0.2473, -0.4966,  0.0276, -0.5088,  0.0041, -0.4992,\n",
       "                       -0.8085, -0.2908,  0.1182,  0.0758,  0.0846,  0.0169, -0.0032, -0.0351,\n",
       "                       -0.0004,  0.0074,  0.0411,  0.0741, -0.0065, -0.0089],\n",
       "                      [ 0.7033, -1.1572,  1.9165,  0.1276, -2.0126, -1.3602,  1.3519,  0.1521,\n",
       "                        0.7708,  0.7530,  0.6403,  0.0834, -0.7138,  0.2374, -0.2163, -0.2032,\n",
       "                        0.0516,  0.3424, -0.8205, -0.1355, -0.1833, -0.5326, -0.4101, -0.4868,\n",
       "                        1.2222,  0.4371,  0.1311,  0.3541, -0.0731, -1.3631],\n",
       "                      [-0.0436,  1.3313,  0.8672, -1.0991, -0.5063,  0.9731,  0.4303,  0.4349,\n",
       "                       -1.6315, -1.4273, -0.0781,  0.3481,  0.6837, -0.2356,  0.6803, -0.3233,\n",
       "                        0.3362,  0.2055,  1.1203, -1.2452,  1.6545,  0.1789, -0.0596,  0.0279,\n",
       "                       -1.4255, -0.2504,  0.9882,  0.0955,  0.8463,  1.5502],\n",
       "                      [-2.6447,  2.1360,  1.5241, -1.6516,  2.1426,  1.3856,  0.4033, -0.6380,\n",
       "                       -0.6726,  0.3001, -1.1052,  0.2099, -0.4202,  0.6069, -0.3302,  0.4377,\n",
       "                        1.3945,  0.8646,  0.4512,  0.3896,  0.5088,  0.3358,  0.2790,  1.7632,\n",
       "                       -2.1761, -0.1459,  0.1421,  0.1540,  0.0447,  0.5104],\n",
       "                      [-1.9261,  0.7365,  1.2822, -0.6983,  0.2821,  0.4771,  1.6803, -0.7841,\n",
       "                       -1.0808, -0.8811, -0.6632, -0.0703, -0.2265,  0.4719, -0.2589,  0.4750,\n",
       "                        1.1708,  0.6467,  0.8604, -0.3339,  0.2700,  0.5926,  0.0563, -0.0154,\n",
       "                       -2.2593, -0.1725, -0.0103,  1.0468, -0.0560, -1.0392],\n",
       "                      [ 2.5452, -0.5589, -1.5009, -0.0368,  0.6024,  2.2893, -1.5243, -0.9506,\n",
       "                        0.4412,  0.1222, -0.5161,  1.1464,  0.0847,  1.1888,  0.5083,  1.4820,\n",
       "                        1.3028,  0.4501, -0.4092, -0.0665, -0.4492, -1.0177,  0.4997,  2.6254,\n",
       "                        2.0743,  0.0503, -0.5167, -1.1813,  0.0405,  1.4137],\n",
       "                      [ 0.5723, -0.0526,  0.0022, -0.1356, -0.0870,  0.1070, -0.3120,  0.3108,\n",
       "                       -0.0567,  0.1264,  0.0270,  0.3689,  0.0999,  0.2236,  0.1982,  0.0299,\n",
       "                        0.2613,  0.0741, -0.0222, -0.1245, -0.4193,  0.0162,  0.0692,  0.0267,\n",
       "                        0.3782,  0.0908, -0.1904, -0.0647,  0.1118,  0.4254],\n",
       "                      [-0.0719, -0.5891, -0.1234, -0.8857, -0.4596, -0.0502, -0.7163, -0.1388,\n",
       "                       -1.0811,  0.8757, -0.0009, -0.7124,  0.1865, -0.3447, -0.3133,  0.9686,\n",
       "                        0.6317, -1.0466,  0.5733,  0.0941,  0.0717,  0.6260, -0.1056, -0.1303,\n",
       "                        0.3105, -1.0796,  0.0693,  0.1288, -0.0033, -0.0140],\n",
       "                      [ 0.1652, -0.7681,  0.0463, -1.0110, -0.4516, -0.0279, -0.6688, -0.1527,\n",
       "                       -1.4992,  1.1239,  0.0133, -0.9139,  0.1153, -0.5947, -0.4742,  1.2313,\n",
       "                        0.7701, -1.3581,  0.7287,  0.2094,  0.1273,  0.9196, -0.1048, -0.0599,\n",
       "                        0.3460, -1.5304,  0.0647,  0.0564,  0.1403,  0.0180]])),\n",
       "             ('lin1.bias',\n",
       "              tensor([-0.1530, -0.9308,  0.0165, -0.3660, -0.5989, -0.0243, -0.6146,  1.4744,\n",
       "                      -0.1902, -0.9648, -0.3621,  0.9269,  1.5625,  0.3496,  4.9671,  2.0211,\n",
       "                      -1.4752,  2.5284, -1.6988,  2.0671])),\n",
       "             ('lin2.weight',\n",
       "              tensor([[ 0.0692,  0.4082,  0.0895, -0.1779, -0.3817, -0.0943, -0.0250,  0.0317,\n",
       "                        0.0021,  0.0520,  0.1106,  0.4292,  0.0163,  0.0654,  0.7678, -0.1331,\n",
       "                       -0.0118,  0.2870, -0.1587, -0.0100],\n",
       "                      [ 0.0659,  0.0121, -0.0229,  0.2074,  0.0047,  0.0404, -0.0155,  0.0215,\n",
       "                       -0.0289,  0.1751,  0.0696, -0.0025,  0.0085,  0.0239,  0.0096, -0.0417,\n",
       "                       -0.0092, -0.0994, -0.3208, -1.0303],\n",
       "                      [ 0.0352, -0.0142, -0.0269, -0.1873,  0.1285, -0.2090, -1.3822,  0.0475,\n",
       "                        0.0896, -0.0298, -0.0667,  0.3096,  0.0905, -0.0331, -1.1822, -0.1449,\n",
       "                       -0.0352, -0.0659, -0.1263,  0.0132],\n",
       "                      [-0.5546, -0.0160,  0.0505,  0.1281, -0.0920,  0.0658, -0.0395,  0.0408,\n",
       "                        0.2444, -0.0738, -0.2492, -0.0170,  0.0392,  0.0085, -0.2041,  0.3315,\n",
       "                       -0.2673, -0.1658,  0.1845, -0.1161],\n",
       "                      [-0.0647, -0.0705,  0.0198, -0.0639, -0.1472, -0.0618, -0.0059, -0.0460,\n",
       "                       -0.1167, -0.0043,  0.4350, -0.0101,  0.0210, -0.0352,  0.1085,  0.0172,\n",
       "                       -0.0575, -0.2233, -0.1028,  0.1056],\n",
       "                      [ 0.0322,  0.0246, -0.3794,  0.0331, -0.0253,  0.0383, -0.0172,  0.0611,\n",
       "                       -0.3180, -0.0501, -0.0030, -0.3834,  0.0089, -0.0046,  0.0331, -0.0062,\n",
       "                       -0.0375,  0.0195,  0.0676, -0.0928],\n",
       "                      [-0.0244, -0.0108, -0.0260,  0.2695, -1.5015,  0.0074,  0.0850, -0.0008,\n",
       "                        0.1437,  0.0294,  0.0051, -0.1657, -0.0124,  0.0082, -0.9702, -0.1623,\n",
       "                       -0.0609,  0.0508,  0.2746, -0.1663],\n",
       "                      [ 0.0372, -0.0535,  0.0852, -0.1055, -0.0172, -0.0119,  0.0211, -0.1912,\n",
       "                       -0.1019, -1.0680,  0.0774, -0.0258, -0.0051, -0.0253,  0.0817, -0.0303,\n",
       "                        0.0564,  0.0357, -0.1353,  0.1483],\n",
       "                      [ 0.0224, -0.0129,  0.0955, -0.0071, -0.0115, -0.0277, -0.0001,  0.0001,\n",
       "                        0.0172, -0.0252, -0.0320, -0.7944,  0.0101, -0.0050, -0.0034,  0.0058,\n",
       "                       -0.0137, -0.0010, -0.0188,  0.0139],\n",
       "                      [ 0.2646, -0.0493, -0.1529,  0.0607, -0.1433,  0.1506, -0.0542, -0.0473,\n",
       "                        0.6429,  0.0076, -0.0305, -0.4064,  0.0034, -0.0472,  0.5034, -0.0655,\n",
       "                       -0.0162,  0.0386,  0.1145, -0.0577]])),\n",
       "             ('lin2.bias',\n",
       "              tensor([-0.9160,  0.1043, -0.2530,  0.0917,  0.0690,  0.1999,  0.0380, -0.3267,\n",
       "                       0.5150,  0.1282])),\n",
       "             ('lin7.weight',\n",
       "              tensor([[ 0.0137, -0.0057,  0.1997, -0.2640, -0.4669, -1.3394,  0.2745, -0.0255,\n",
       "                       -0.1336, -1.1343],\n",
       "                      [ 0.0983,  0.0426,  0.3520,  0.3645, -0.1274, -1.1961,  0.4139, -0.3375,\n",
       "                       -1.0423,  1.1429],\n",
       "                      [-1.4268, -0.4737,  0.5286, -0.2156, -2.0842, -0.5551,  1.5105, -0.1708,\n",
       "                       -1.0896, -0.8617],\n",
       "                      [ 1.2216,  0.2176, -0.4216,  0.5719, -0.3138,  0.4490, -1.1711, -0.1670,\n",
       "                       -0.0990,  0.6711],\n",
       "                      [-0.0265,  0.0225, -0.0506, -0.1094,  0.1171, -0.2325, -0.0487, -2.7845,\n",
       "                        0.1236, -0.0499],\n",
       "                      [-1.8588,  0.1911,  0.8614, -0.3051, -0.8355, -1.3418,  0.7292,  0.4715,\n",
       "                       -0.4434, -0.7195],\n",
       "                      [-0.0822,  0.0276,  0.0105, -0.0754,  0.1044, -0.0528, -0.0962,  0.0901,\n",
       "                       -2.4340, -0.0337],\n",
       "                      [ 0.0271,  4.0532, -0.0495,  0.1086, -0.2253,  0.2841,  0.1373,  0.2078,\n",
       "                       -0.0696,  0.0322],\n",
       "                      [-0.9698, -0.0432,  2.0749, -0.4484, -0.4629, -0.3529,  0.9847,  0.0458,\n",
       "                       -0.6684, -0.6643],\n",
       "                      [ 1.1073, -0.3416, -0.3787,  0.3410,  0.9983, -0.1237, -1.3462,  0.1007,\n",
       "                        0.5328,  1.1726],\n",
       "                      [-0.0748, -0.2050, -0.2134,  0.2966, -0.3506, -1.2179, -0.1117,  0.2136,\n",
       "                       -0.2142,  0.0856],\n",
       "                      [-0.8240, -0.2164,  1.0851, -0.6285, -0.4383, -2.3675,  1.1782,  0.0985,\n",
       "                       -0.3657, -1.3014],\n",
       "                      [-0.2143,  0.2876, -0.0687,  0.0635, -0.6098,  0.0238, -0.2285,  0.4106,\n",
       "                        0.3751,  0.0089],\n",
       "                      [ 0.1582, -0.4355, -0.0213,  0.2155, -0.6558,  0.6658,  0.1266,  0.1120,\n",
       "                       -0.0857,  0.0012],\n",
       "                      [-1.6385, -0.3602,  1.0620, -0.6107, -1.0304, -0.2621,  0.8582,  0.1532,\n",
       "                        0.7960, -1.3812],\n",
       "                      [-1.9042, -0.5621,  1.1664, -2.1832, -0.5816, -1.0329,  2.5230, -0.0487,\n",
       "                        0.2990, -1.6678],\n",
       "                      [ 0.1194, -0.0293,  0.0478, -0.9530, -0.7402, -0.5668,  0.0869,  0.1195,\n",
       "                       -0.3833,  0.0627],\n",
       "                      [-0.2450, -0.1777,  0.0158, -0.1077, -0.1511,  0.2277, -0.2710, -0.5933,\n",
       "                        0.3231,  0.0387],\n",
       "                      [ 1.0501, -0.0466, -1.2078,  0.7348,  1.5910,  1.6797, -1.2321,  0.0929,\n",
       "                        0.8342,  1.2559],\n",
       "                      [-1.8727, -0.1015,  1.0374, -1.8967, -1.2808, -1.2324,  0.9950,  0.6447,\n",
       "                       -1.1816, -1.8727]])),\n",
       "             ('lin7.bias',\n",
       "              tensor([ 0.4469,  1.9607, -0.4042,  0.2072,  2.5584, -0.3999, -0.2948,  3.9748,\n",
       "                      -0.4246,  0.3345,  0.1369, -1.3157, -0.0589,  0.2916, -0.8588, -1.5323,\n",
       "                      -0.2477,  0.0323,  1.2448, -1.5611])),\n",
       "             ('lin8.weight',\n",
       "              tensor([[ 0.8806,  2.0965, -1.5547,  3.0581,  0.1898, -0.1743,  1.3792, -0.2053,\n",
       "                        0.7085,  3.1158,  0.1744,  0.6214,  0.5561,  0.1713, -0.5757, -0.6882,\n",
       "                        0.3982,  0.0809, -2.8291,  5.0454],\n",
       "                      [ 0.3913,  2.5553,  2.0090,  5.0069,  0.3716,  1.4968,  0.7924,  0.9312,\n",
       "                        3.2889, -1.7169,  0.3315,  2.0471, -1.1881, -0.0893, -4.7768, -3.8478,\n",
       "                       -0.6544,  0.0940, -0.8079,  1.7426],\n",
       "                      [ 0.2280,  1.7311, -0.5896,  0.9177, -0.6938,  0.5920, -4.4765, -0.1939,\n",
       "                        0.8482,  2.7773,  0.0453,  0.1702, -0.5323, -0.6631, -1.7036,  0.9325,\n",
       "                       -1.1799, -0.4596, -2.0354,  1.3404],\n",
       "                      [ 1.6736, -1.2621, -0.3671, -0.5926, -1.3287, -0.0367, -0.8067,  2.8344,\n",
       "                       -1.0251, -0.8117,  2.0053, -0.0532, -2.8416, -0.3379,  0.2279,  1.0790,\n",
       "                       -0.7488,  3.1544,  0.7815, -0.5208],\n",
       "                      [-0.5783,  2.0736, -1.4539, -3.9141,  0.6570, -0.6593,  1.8842,  1.1780,\n",
       "                       -0.5886,  2.2037,  0.2906,  0.0580, -0.7484,  0.3398, -2.2241,  3.9332,\n",
       "                        1.5854,  0.6331,  0.4000, -0.9437],\n",
       "                      [ 0.2844, -1.2728,  0.4969,  2.6688, -0.5983,  2.4722, -2.0689,  0.2636,\n",
       "                        0.4815,  0.1136,  0.2803,  0.2412, -0.3836, -0.3416,  2.1464, -2.6703,\n",
       "                        2.8760,  1.0176,  0.3036, -1.4852],\n",
       "                      [-0.4041, -3.6975, -2.5879,  2.1181,  0.8645, -0.2603,  1.5802,  1.1127,\n",
       "                        2.0167,  0.6329,  0.4567,  0.2163, -1.1083,  0.3325,  7.4108, -2.8610,\n",
       "                       -0.5384, -0.3501,  1.1036, -0.1392],\n",
       "                      [-0.0113,  0.6247, -2.0782,  0.6701, -0.5176, -6.1295, -0.7310, -0.0024,\n",
       "                        1.7762, -4.7477,  0.1100, -0.6087,  0.1331, -0.0884, -0.8267,  0.8352,\n",
       "                        0.6439,  0.6067, -0.9791,  1.7011],\n",
       "                      [-0.5897,  0.8238, -0.3311, -1.2159,  2.5912, -0.3988, -0.7602, -0.4139,\n",
       "                        2.8776,  0.1237, -0.4712, -0.2818,  2.9615, -1.4502, -0.0610, -0.1068,\n",
       "                        0.1722, -0.8830,  1.1385, -0.9662],\n",
       "                      [ 0.4490,  0.3166, -1.6017, -0.3945, -2.1463, -0.2611, -0.0551, -0.1127,\n",
       "                        5.0402, -1.3376,  0.9208, -0.1478, -1.4340,  0.2013, -0.6651, -0.3140,\n",
       "                        0.1117,  1.3122,  2.1195, -1.5332],\n",
       "                      [ 0.6727,  0.3378,  0.3533,  1.0718, -0.2982,  1.7379, -0.5042, -0.7055,\n",
       "                        0.0760,  1.4846, -2.9946, -1.1799, -1.6383, -0.5853,  0.8048,  0.0557,\n",
       "                        0.3827, -0.9182, -0.7609, -0.7293],\n",
       "                      [ 0.1005, -0.1974,  0.3893, -0.2597,  0.7071,  0.6847, -0.5524,  1.6523,\n",
       "                       -1.0515, -0.5759, -0.4105,  0.8562, -0.7818,  2.3344, -0.8585, -0.0819,\n",
       "                        0.4918, -1.1077,  1.2353,  0.5040],\n",
       "                      [-0.7479, -1.5753, -0.0361,  0.1968,  1.3117, -1.3625, -0.4101, -0.3511,\n",
       "                       -0.3671, -1.7910,  1.9729, -0.5418, -1.7573, -1.6000,  1.2508, -0.2379,\n",
       "                        0.5700, -3.2300,  0.0582,  0.0373],\n",
       "                      [ 0.2530,  0.1221,  1.9333,  0.6268, -0.3032, -0.1572,  0.1672, -0.4116,\n",
       "                       -2.1457, -0.5856, -1.1608,  1.4107,  0.0561, -1.4266, -1.3171,  0.0995,\n",
       "                       -0.1977,  0.0798,  1.5843,  1.5758],\n",
       "                      [ 1.2821, -0.2075, -0.2792, -0.4587,  1.2731, -0.7640, -0.0876,  0.0369,\n",
       "                        0.3143,  0.1328, -0.1236, -1.4270,  0.3717,  0.5939,  1.1297,  0.3692,\n",
       "                        0.0579, -1.9617, -0.5836, -0.9156],\n",
       "                      [-0.9640, -0.4251,  0.4695,  0.4903,  1.8989,  0.4907, -0.2639, -0.7255,\n",
       "                       -0.9623, -0.7698,  0.5406,  1.1720, -0.7120,  0.1186,  0.7294, -0.4003,\n",
       "                        0.2247,  0.0324,  0.8971, -0.3573],\n",
       "                      [ 0.9959,  0.4834,  0.7728, -0.1193, -0.3643, -0.4855,  0.4391, -0.9025,\n",
       "                       -0.8846, -0.4811, -0.5500, -0.4591,  0.5155, -0.4853, -1.0856,  0.0149,\n",
       "                       -0.4528,  0.2747, -0.1882,  0.8765],\n",
       "                      [ 0.3878,  0.3254,  0.4713, -0.0969, -1.8640, -0.5894,  0.3151,  0.8286,\n",
       "                       -0.2152,  0.0900, -0.4296,  0.8258,  0.3914, -0.3245, -0.3894, -0.1632,\n",
       "                       -0.1591,  0.3048,  0.8955,  0.6248],\n",
       "                      [ 2.0531,  0.8605, -0.4931, -0.9391,  1.3670, -0.8360,  0.5177, -1.2556,\n",
       "                       -0.2697,  0.7824, -0.9777, -1.0878,  1.4243,  0.3126,  0.8289,  0.1813,\n",
       "                       -0.4439, -0.6769, -1.1301, -0.7662],\n",
       "                      [ 0.0491, -2.3264,  1.1726,  0.3752,  0.7128,  0.0337, -0.1892, -0.0273,\n",
       "                        2.3483,  0.8789,  0.2092, -1.0257, -0.3928,  0.0070, -4.8209,  1.0457,\n",
       "                        0.1555, -0.3563,  1.9607,  4.3095],\n",
       "                      [ 0.0624, -0.3994, -3.3684,  0.1778,  0.3887,  3.2514,  0.0863, -0.3001,\n",
       "                       -1.2501, -2.0644, -0.0289, -0.0856, -0.1092,  0.1370, -2.1417,  0.6531,\n",
       "                        0.0126,  0.0628,  0.1157,  1.1185],\n",
       "                      [ 0.3105,  0.1128,  0.8668, -0.5977,  0.5711, -1.2946,  0.1652, -0.5531,\n",
       "                        0.2154,  0.8613, -0.1325,  0.1174,  0.3815,  0.0064,  0.3115, -0.7676,\n",
       "                       -0.1477,  0.0687, -0.7923, -0.1215],\n",
       "                      [-0.0488, -0.4465, -0.4570, -0.7513,  0.0311, -0.1643,  0.0100, -0.0033,\n",
       "                       -0.2348, -0.2009, -0.0671,  0.7225,  0.0894,  0.0287, -0.5357, -0.8993,\n",
       "                       -0.0051, -0.0348, -1.7795, -1.0979],\n",
       "                      [ 0.1111,  0.0264,  0.0226,  0.1348,  0.0513, -0.1170,  0.0592, -0.0033,\n",
       "                        0.0480, -0.0061,  0.0264,  0.3531,  0.0479, -0.0161,  0.2393,  0.1529,\n",
       "                        0.0521, -0.0165,  0.7188,  0.0168],\n",
       "                      [-0.3213, -0.1497,  0.0077,  0.0674,  0.0699,  0.1849, -0.1734,  0.0325,\n",
       "                        0.1462, -0.3684,  0.1176,  0.8753, -0.2700, -0.0349,  0.0235, -0.2563,\n",
       "                        0.1335, -0.0109,  0.6077, -0.3272],\n",
       "                      [-0.0030, -0.0365,  0.0644, -0.0233, -0.0031, -0.0133, -0.0242,  0.2519,\n",
       "                       -0.0097,  0.0762, -0.0575,  0.3007,  0.0830,  0.0120, -0.0352,  0.0769,\n",
       "                       -0.0175, -0.0539,  0.2978, -0.0276],\n",
       "                      [-0.0352, -0.1279, -0.1213,  0.1213,  0.0185,  0.2291, -0.0154, -0.0203,\n",
       "                        0.0071,  0.0769, -0.0096, -0.3495, -0.0121, -0.0138, -0.0414,  0.4517,\n",
       "                        0.0191,  0.0173, -0.7516, -0.7268],\n",
       "                      [-0.0257,  0.0644,  0.2100,  0.3521, -0.0290,  0.0172,  0.0391,  0.0145,\n",
       "                        0.0096,  0.1002, -0.0005,  0.2127, -0.0489, -0.0366,  0.4831,  0.1675,\n",
       "                       -0.0093, -0.0034,  0.7179,  0.0525],\n",
       "                      [ 0.4264, -0.1102, -0.6602, -0.4781, -0.1040,  0.3653, -0.0284,  1.4299,\n",
       "                       -0.0756,  0.1291,  0.2866, -0.4592, -0.2306,  3.3843, -0.2728,  0.0840,\n",
       "                        0.0796,  0.2994, -0.9157, -0.3566],\n",
       "                      [-0.1398, -4.7928, -0.3670,  0.4969,  0.0960,  1.3009, -0.2289,  0.1109,\n",
       "                       -0.3893, -0.3145,  0.1824, -1.7685, -0.3261, -0.0389,  2.1745, -0.3459,\n",
       "                        0.1423, -0.0728,  2.1397,  1.7314]])),\n",
       "             ('lin8.bias',\n",
       "              tensor([-1.2071, -3.4363, -1.8483, -1.4391, -2.9080,  1.2315,  2.1157, -0.1371,\n",
       "                      -2.0718,  1.0538,  0.8449, -2.7717,  0.9015,  1.1387, -1.7082, -0.4792,\n",
       "                       0.6112,  0.7558, -1.5098,  1.3565,  0.2414, -0.1754,  0.3990, -0.0424,\n",
       "                       0.0995, -0.1576,  0.1496, -0.0274, -2.3911,  4.1203]))])"
      ]
     },
     "execution_count": 22,
     "metadata": {},
     "output_type": "execute_result"
    }
   ],
   "source": [
    "model.state_dict()"
   ]
  },
  {
   "cell_type": "code",
   "execution_count": 23,
   "metadata": {},
   "outputs": [
    {
     "data": {
      "text/plain": [
       "tensor([[-0.0741, -0.0129, -0.0671, -0.1336,  0.3242,  0.2949, -0.2316,  0.2098,\n",
       "         -0.0187, -0.1505,  0.1697, -0.1389, -0.0586, -0.1894, -0.0224, -0.2174,\n",
       "         -0.2950, -0.0801,  0.0601,  0.0421,  0.0739,  0.0681,  0.0863, -0.0767,\n",
       "         -0.1393, -0.0371, -0.0342, -0.1398, -0.0263,  0.1225],\n",
       "        [ 0.8875, -0.3734, -0.0570, -0.0401, -0.8162,  0.2939,  0.8418,  1.5208,\n",
       "         -0.7356, -0.8945,  0.6972, -0.4183,  0.3011, -0.7043,  0.2630, -0.5396,\n",
       "         -0.9999, -0.4325,  0.2416,  0.2252,  0.5153, -0.2011, -0.7732,  0.0610,\n",
       "         -0.2132, -0.0843, -0.2315,  1.0471,  0.3536, -0.9404],\n",
       "        [ 0.2057,  0.0279,  0.3294, -0.0041,  0.2134,  0.0356, -0.0805, -0.1091,\n",
       "          0.1482,  0.2946, -0.2156,  0.3313,  0.0311,  0.3141,  0.1307,  0.2477,\n",
       "          0.6354,  0.1770,  0.1827, -0.2913, -0.0104,  0.0484,  0.1567, -0.0553,\n",
       "          0.0234,  0.0047, -0.0892, -0.0705, -0.0733,  0.4505],\n",
       "        [-0.7546,  0.1878, -0.4326,  0.9684,  0.3054, -0.0247,  0.3498, -0.3124,\n",
       "          1.1301, -0.8426, -0.0867,  1.0986, -0.1990,  0.6018,  0.4875, -0.6008,\n",
       "         -0.3643,  0.9795, -0.4983, -0.0613, -0.3526, -0.6265, -0.2622,  0.0435,\n",
       "         -0.3000,  1.0755, -0.1698, -0.1919,  0.0675, -0.7102],\n",
       "        [ 0.3671, -0.1453,  0.1257, -0.0963, -0.0435,  0.1513,  0.4300, -0.0613,\n",
       "          0.1578,  0.1991, -0.2710,  0.1796, -0.1218,  0.3474, -0.0597,  0.3455,\n",
       "          0.5919,  0.1774, -0.0704, -0.0652, -0.0239,  0.0076, -0.0034,  0.0023,\n",
       "          0.0280, -0.0347,  0.0174, -0.0281, -0.0621,  0.1184],\n",
       "        [ 0.0914,  0.5866, -0.0581, -0.0073,  0.2333, -0.3946, -0.8662, -0.0389,\n",
       "         -0.2265, -0.5962,  0.0239, -0.3797, -0.2548, -0.5175, -0.1662, -0.4749,\n",
       "         -0.8171, -0.3363,  0.1715, -0.6102,  0.0393,  0.0754,  0.3463, -0.0446,\n",
       "          0.0825,  0.0552,  0.1479, -0.1296,  0.0071,  1.0377],\n",
       "        [ 0.2399, -0.7159, -0.2172,  0.3954, -0.0405, -0.1237, -0.2382,  0.6199,\n",
       "         -0.6481, -1.0845, -0.4294, -0.2945,  0.5578, -0.0055, -0.0460,  0.0170,\n",
       "         -0.4149, -0.2534, -0.0837, -0.0728, -0.3464,  0.1915, -0.0722, -0.0299,\n",
       "         -0.0155,  0.0961,  0.1289,  0.0159, -0.0201,  0.3912],\n",
       "        [-0.3377,  0.7529, -0.2526,  0.5931,  0.0220, -0.1179,  0.1093,  0.6340,\n",
       "         -0.0858, -0.3463, -0.5435,  1.7831, -1.2332, -1.2801,  0.7264,  1.0795,\n",
       "         -1.1631, -1.3401,  0.7577,  0.3375,  0.0740,  0.6532,  0.3240, -0.0338,\n",
       "          0.6105, -0.1233, -0.1854, -0.1486,  0.1160,  0.4796],\n",
       "        [-0.1009,  0.2324, -0.2828,  0.1601, -0.2136, -0.0167, -0.4227,  0.0192,\n",
       "         -0.2130, -0.5310,  0.2464, -0.6558,  0.1321, -0.7151, -0.0808, -0.5043,\n",
       "         -1.2028, -0.4650, -0.0219,  0.1591,  0.0118, -0.0012, -0.0196,  0.0354,\n",
       "          0.0425,  0.0424,  0.1685,  0.0265, -0.0201, -0.2524],\n",
       "        [-0.1758,  0.4126, -0.2111,  0.6723,  0.1919, -0.0498, -0.0514,  0.1685,\n",
       "          0.4545, -0.7542,  0.4238, -0.3212, -0.1985, -0.2164, -0.0236,  0.5581,\n",
       "         -0.7774, -1.0327,  0.4804,  0.2392,  0.2207,  0.3538, -0.0538,  0.0176,\n",
       "          0.0915,  0.0150,  0.0742,  0.0260, -0.0447, -0.0042],\n",
       "        [ 0.2905, -0.1638,  0.3293, -0.1199,  0.3050, -0.1981,  0.4880,  0.4328,\n",
       "          0.0823,  0.2987,  0.0327,  0.1541,  0.2019,  0.2281,  0.0220,  0.2717,\n",
       "          0.4117,  0.1219, -0.0329, -0.2652,  0.4491, -0.1283,  0.0795,  0.0459,\n",
       "          0.0867,  0.0129,  0.0414, -0.0460, -0.1829,  0.2177],\n",
       "        [-0.0873,  0.1900, -0.3621,  0.1440, -0.1445, -0.0902, -0.3475,  0.0289,\n",
       "         -0.1890, -0.3653,  0.2473, -0.4966,  0.0276, -0.5088,  0.0041, -0.4992,\n",
       "         -0.8085, -0.2908,  0.1182,  0.0758,  0.0846,  0.0169, -0.0032, -0.0351,\n",
       "         -0.0004,  0.0074,  0.0411,  0.0741, -0.0065, -0.0089],\n",
       "        [ 0.7033, -1.1572,  1.9165,  0.1276, -2.0126, -1.3602,  1.3519,  0.1521,\n",
       "          0.7708,  0.7530,  0.6403,  0.0834, -0.7138,  0.2374, -0.2163, -0.2032,\n",
       "          0.0516,  0.3424, -0.8205, -0.1355, -0.1833, -0.5326, -0.4101, -0.4868,\n",
       "          1.2222,  0.4371,  0.1311,  0.3541, -0.0731, -1.3631],\n",
       "        [-0.0436,  1.3313,  0.8672, -1.0991, -0.5063,  0.9731,  0.4303,  0.4349,\n",
       "         -1.6315, -1.4273, -0.0781,  0.3481,  0.6837, -0.2356,  0.6803, -0.3233,\n",
       "          0.3362,  0.2055,  1.1203, -1.2452,  1.6545,  0.1789, -0.0596,  0.0279,\n",
       "         -1.4255, -0.2504,  0.9882,  0.0955,  0.8463,  1.5502],\n",
       "        [-2.6447,  2.1360,  1.5241, -1.6516,  2.1426,  1.3856,  0.4033, -0.6380,\n",
       "         -0.6726,  0.3001, -1.1052,  0.2099, -0.4202,  0.6069, -0.3302,  0.4377,\n",
       "          1.3945,  0.8646,  0.4512,  0.3896,  0.5088,  0.3358,  0.2790,  1.7632,\n",
       "         -2.1761, -0.1459,  0.1421,  0.1540,  0.0447,  0.5104],\n",
       "        [-1.9261,  0.7365,  1.2822, -0.6983,  0.2821,  0.4771,  1.6803, -0.7841,\n",
       "         -1.0808, -0.8811, -0.6632, -0.0703, -0.2265,  0.4719, -0.2589,  0.4750,\n",
       "          1.1708,  0.6467,  0.8604, -0.3339,  0.2700,  0.5926,  0.0563, -0.0154,\n",
       "         -2.2593, -0.1725, -0.0103,  1.0468, -0.0560, -1.0392],\n",
       "        [ 2.5452, -0.5589, -1.5009, -0.0368,  0.6024,  2.2893, -1.5243, -0.9506,\n",
       "          0.4412,  0.1222, -0.5161,  1.1464,  0.0847,  1.1888,  0.5083,  1.4820,\n",
       "          1.3028,  0.4501, -0.4092, -0.0665, -0.4492, -1.0177,  0.4997,  2.6254,\n",
       "          2.0743,  0.0503, -0.5167, -1.1813,  0.0405,  1.4137],\n",
       "        [ 0.5723, -0.0526,  0.0022, -0.1356, -0.0870,  0.1070, -0.3120,  0.3108,\n",
       "         -0.0567,  0.1264,  0.0270,  0.3689,  0.0999,  0.2236,  0.1982,  0.0299,\n",
       "          0.2613,  0.0741, -0.0222, -0.1245, -0.4193,  0.0162,  0.0692,  0.0267,\n",
       "          0.3782,  0.0908, -0.1904, -0.0647,  0.1118,  0.4254],\n",
       "        [-0.0719, -0.5891, -0.1234, -0.8857, -0.4596, -0.0502, -0.7163, -0.1388,\n",
       "         -1.0811,  0.8757, -0.0009, -0.7124,  0.1865, -0.3447, -0.3133,  0.9686,\n",
       "          0.6317, -1.0466,  0.5733,  0.0941,  0.0717,  0.6260, -0.1056, -0.1303,\n",
       "          0.3105, -1.0796,  0.0693,  0.1288, -0.0033, -0.0140],\n",
       "        [ 0.1652, -0.7681,  0.0463, -1.0110, -0.4516, -0.0279, -0.6688, -0.1527,\n",
       "         -1.4992,  1.1239,  0.0133, -0.9139,  0.1153, -0.5947, -0.4742,  1.2313,\n",
       "          0.7701, -1.3581,  0.7287,  0.2094,  0.1273,  0.9196, -0.1048, -0.0599,\n",
       "          0.3460, -1.5304,  0.0647,  0.0564,  0.1403,  0.0180]])"
      ]
     },
     "execution_count": 23,
     "metadata": {},
     "output_type": "execute_result"
    }
   ],
   "source": [
    "model.state_dict()['lin1.weight']"
   ]
  },
  {
   "cell_type": "markdown",
   "metadata": {
    "_cell_guid": "e06a2951-b2ca-4fd0-b9f5-7babc05ba2e6",
    "_uuid": "11c95fb3b0a822e00768e5e05056b8b275d6e348"
   },
   "source": [
    "### Predictions\n",
    "\n",
    "Next I utilized the trained model to make predictions on the test set which. unlike the training set, has fraudulent transactions. I fed in the test dataloader to the model to get predictions,and then calculated the reconstruction error, which is the amount of error between the original input and the model predictions against the test set. The error for each row will be used to determine if each transaction is normal or fraud."
   ]
  },
  {
   "cell_type": "code",
   "execution_count": 24,
   "metadata": {
    "_cell_guid": "371d240a-a390-4e76-bddd-1bcef7dbda49",
    "_uuid": "c961bc95735d740d6f15705ba167d6b254d26395"
   },
   "outputs": [
    {
     "data": {
      "text/html": [
       "<div>\n",
       "<style scoped>\n",
       "    .dataframe tbody tr th:only-of-type {\n",
       "        vertical-align: middle;\n",
       "    }\n",
       "\n",
       "    .dataframe tbody tr th {\n",
       "        vertical-align: top;\n",
       "    }\n",
       "\n",
       "    .dataframe thead th {\n",
       "        text-align: right;\n",
       "    }\n",
       "</style>\n",
       "<table border=\"1\" class=\"dataframe\">\n",
       "  <thead>\n",
       "    <tr style=\"text-align: right;\">\n",
       "      <th></th>\n",
       "      <th>true</th>\n",
       "      <th>count</th>\n",
       "      <th>mean</th>\n",
       "      <th>std</th>\n",
       "      <th>min</th>\n",
       "      <th>25%</th>\n",
       "      <th>50%</th>\n",
       "      <th>75%</th>\n",
       "      <th>max</th>\n",
       "    </tr>\n",
       "  </thead>\n",
       "  <tbody>\n",
       "    <tr>\n",
       "      <th>0</th>\n",
       "      <td>0</td>\n",
       "      <td>56864.0</td>\n",
       "      <td>0.344839</td>\n",
       "      <td>1.400083</td>\n",
       "      <td>0.009767</td>\n",
       "      <td>0.128839</td>\n",
       "      <td>0.201438</td>\n",
       "      <td>0.327531</td>\n",
       "      <td>111.530727</td>\n",
       "    </tr>\n",
       "    <tr>\n",
       "      <th>1</th>\n",
       "      <td>1</td>\n",
       "      <td>98.0</td>\n",
       "      <td>25.845565</td>\n",
       "      <td>36.642453</td>\n",
       "      <td>0.144094</td>\n",
       "      <td>4.645122</td>\n",
       "      <td>9.806507</td>\n",
       "      <td>44.367290</td>\n",
       "      <td>203.054190</td>\n",
       "    </tr>\n",
       "  </tbody>\n",
       "</table>\n",
       "</div>"
      ],
      "text/plain": [
       "   true    count       mean        std       min       25%       50%  \\\n",
       "0     0  56864.0   0.344839   1.400083  0.009767  0.128839  0.201438   \n",
       "1     1     98.0  25.845565  36.642453  0.144094  4.645122  9.806507   \n",
       "\n",
       "         75%         max  \n",
       "0   0.327531  111.530727  \n",
       "1  44.367290  203.054190  "
      ]
     },
     "execution_count": 24,
     "metadata": {},
     "output_type": "execute_result"
    }
   ],
   "source": [
    "# Iterate through the dataloader and get predictions for each batch of the test set.\n",
    "p = iter(tdl)\n",
    "preds = np.vstack([model(V(next(p))).cpu().data.numpy() for i in range(len(p))])\n",
    "\n",
    "# Create a pandas DF that shows the Autoencoder MSE vs True Labels\n",
    "error = np.mean(np.power((x_test - preds),2), axis = 1)\n",
    "error_df = pd.DataFrame(data = {'error':error,'true':y_test})\n",
    "\n",
    "error_df.groupby('true')['error'].describe().reset_index()"
   ]
  },
  {
   "cell_type": "markdown",
   "metadata": {
    "_cell_guid": "1fda77cc-801c-430d-a285-41cd5d26e82f",
    "_uuid": "084800e79faeba25c1ef98b983b157e058040909"
   },
   "source": [
    "By stacking the error on the test set next to the actual target value (1,0) for ease of use I created a pandas DataFrame and grouped the data by the two types of transactions. From the summary table above we can see that the statistics for the two groups look quite different. However we have to evaluate further to see if they are in fact different enough for accurate final predictions. I started by looking at the ROC AUC."
   ]
  },
  {
   "cell_type": "code",
   "execution_count": 25,
   "metadata": {
    "_cell_guid": "00fe9763-4f5c-4047-8770-f1a4d1eaccbb",
    "_uuid": "f229f3b31d498a8dabddc88ea13591f50d72b7f9"
   },
   "outputs": [
    {
     "data": {
      "text/html": [
       "\n",
       "\n",
       "\n",
       "\n",
       "\n",
       "\n",
       "  <div class=\"bk-root\" id=\"6fc2bab8-21a4-413f-9271-3a98f45bef89\" data-root-id=\"1250\"></div>\n"
      ]
     },
     "metadata": {},
     "output_type": "display_data"
    },
    {
     "data": {
      "application/javascript": [
       "(function(root) {\n",
       "  function embed_document(root) {\n",
       "    \n",
       "  var docs_json = {\"7cad6dd2-72f9-4b43-a914-1e673959ad90\":{\"roots\":{\"references\":[{\"attributes\":{\"background_fill_color\":{\"value\":\"whitesmoke\"},\"below\":[{\"id\":\"1260\",\"type\":\"LinearAxis\"}],\"left\":[{\"id\":\"1265\",\"type\":\"LinearAxis\"}],\"plot_height\":500,\"plot_width\":500,\"renderers\":[{\"id\":\"1260\",\"type\":\"LinearAxis\"},{\"id\":\"1264\",\"type\":\"Grid\"},{\"id\":\"1265\",\"type\":\"LinearAxis\"},{\"id\":\"1269\",\"type\":\"Grid\"},{\"id\":\"1278\",\"type\":\"BoxAnnotation\"},{\"id\":\"1288\",\"type\":\"GlyphRenderer\"},{\"id\":\"1303\",\"type\":\"Legend\"},{\"id\":\"1293\",\"type\":\"GlyphRenderer\"}],\"title\":{\"id\":\"1249\",\"type\":\"Title\"},\"toolbar\":{\"id\":\"1276\",\"type\":\"Toolbar\"},\"toolbar_location\":null,\"x_range\":{\"id\":\"1252\",\"type\":\"DataRange1d\"},\"x_scale\":{\"id\":\"1256\",\"type\":\"LinearScale\"},\"y_range\":{\"id\":\"1254\",\"type\":\"DataRange1d\"},\"y_scale\":{\"id\":\"1258\",\"type\":\"LinearScale\"}},\"id\":\"1250\",\"subtype\":\"Figure\",\"type\":\"Plot\"},{\"attributes\":{\"grid_line_color\":{\"value\":null},\"plot\":{\"id\":\"1250\",\"subtype\":\"Figure\",\"type\":\"Plot\"},\"ticker\":{\"id\":\"1261\",\"type\":\"BasicTicker\"}},\"id\":\"1264\",\"type\":\"Grid\"},{\"attributes\":{\"source\":{\"id\":\"1248\",\"type\":\"ColumnDataSource\"}},\"id\":\"1294\",\"type\":\"CDSView\"},{\"attributes\":{\"axis_label\":\"True Positive Rate\",\"axis_label_text_font_size\":{\"value\":\"14px\"},\"axis_line_color\":{\"value\":null},\"formatter\":{\"id\":\"1298\",\"type\":\"BasicTickFormatter\"},\"major_label_text_font_size\":{\"value\":\"12px\"},\"major_tick_line_color\":{\"value\":null},\"minor_tick_line_color\":{\"value\":null},\"plot\":{\"id\":\"1250\",\"subtype\":\"Figure\",\"type\":\"Plot\"},\"ticker\":{\"id\":\"1266\",\"type\":\"BasicTicker\"}},\"id\":\"1265\",\"type\":\"LinearAxis\"},{\"attributes\":{},\"id\":\"1296\",\"type\":\"BasicTickFormatter\"},{\"attributes\":{},\"id\":\"1266\",\"type\":\"BasicTicker\"},{\"attributes\":{},\"id\":\"1298\",\"type\":\"BasicTickFormatter\"},{\"attributes\":{\"dimension\":1,\"grid_line_color\":{\"value\":null},\"plot\":{\"id\":\"1250\",\"subtype\":\"Figure\",\"type\":\"Plot\"},\"ticker\":{\"id\":\"1266\",\"type\":\"BasicTicker\"}},\"id\":\"1269\",\"type\":\"Grid\"},{\"attributes\":{},\"id\":\"1300\",\"type\":\"Selection\"},{\"attributes\":{\"source\":{\"id\":\"1248\",\"type\":\"ColumnDataSource\"}},\"id\":\"1289\",\"type\":\"CDSView\"},{\"attributes\":{},\"id\":\"1301\",\"type\":\"UnionRenderers\"},{\"attributes\":{\"data_source\":{\"id\":\"1248\",\"type\":\"ColumnDataSource\"},\"glyph\":{\"id\":\"1286\",\"type\":\"Line\"},\"hover_glyph\":null,\"muted_glyph\":null,\"nonselection_glyph\":{\"id\":\"1287\",\"type\":\"Line\"},\"selection_glyph\":null,\"view\":{\"id\":\"1289\",\"type\":\"CDSView\"}},\"id\":\"1288\",\"type\":\"GlyphRenderer\"},{\"attributes\":{\"items\":[{\"id\":\"1304\",\"type\":\"LegendItem\"}],\"location\":\"bottom_right\",\"plot\":{\"id\":\"1250\",\"subtype\":\"Figure\",\"type\":\"Plot\"}},\"id\":\"1303\",\"type\":\"Legend\"},{\"attributes\":{\"active_drag\":\"auto\",\"active_inspect\":\"auto\",\"active_multi\":null,\"active_scroll\":\"auto\",\"active_tap\":\"auto\",\"tools\":[{\"id\":\"1270\",\"type\":\"PanTool\"},{\"id\":\"1271\",\"type\":\"WheelZoomTool\"},{\"id\":\"1272\",\"type\":\"BoxZoomTool\"},{\"id\":\"1273\",\"type\":\"SaveTool\"},{\"id\":\"1274\",\"type\":\"ResetTool\"},{\"id\":\"1275\",\"type\":\"HelpTool\"},{\"id\":\"1305\",\"type\":\"HoverTool\"}]},\"id\":\"1276\",\"type\":\"Toolbar\"},{\"attributes\":{\"label\":{\"value\":\"AUC = 0.9756\"},\"renderers\":[{\"id\":\"1293\",\"type\":\"GlyphRenderer\"}]},\"id\":\"1304\",\"type\":\"LegendItem\"},{\"attributes\":{},\"id\":\"1270\",\"type\":\"PanTool\"},{\"attributes\":{\"callback\":null,\"mode\":\"vline\",\"renderers\":[{\"id\":\"1293\",\"type\":\"GlyphRenderer\"}],\"tooltips\":[[\"False-Pos\",\"@fpr{00.0%}\"],[\"True-Pos\",\"@tpr{00.0%}\"]]},\"id\":\"1305\",\"type\":\"HoverTool\"},{\"attributes\":{},\"id\":\"1271\",\"type\":\"WheelZoomTool\"},{\"attributes\":{\"callback\":null,\"data\":{\"fpr\":{\"__ndarray__\":\"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\",\"dtype\":\"float64\",\"shape\":[302]},\"tpr\":{\"__ndarray__\":\"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\",\"dtype\":\"float64\",\"shape\":[302]},\"x\":{\"__ndarray__\":\"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\",\"dtype\":\"float64\",\"shape\":[302]},\"y\":{\"__ndarray__\":\"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\",\"dtype\":\"float64\",\"shape\":[302]}},\"selected\":{\"id\":\"1300\",\"type\":\"Selection\"},\"selection_policy\":{\"id\":\"1301\",\"type\":\"UnionRenderers\"}},\"id\":\"1248\",\"type\":\"ColumnDataSource\"},{\"attributes\":{\"overlay\":{\"id\":\"1278\",\"type\":\"BoxAnnotation\"}},\"id\":\"1272\",\"type\":\"BoxZoomTool\"},{\"attributes\":{\"line_alpha\":0.1,\"line_color\":\"#1f77b4\",\"line_dash\":[6],\"line_width\":2,\"x\":{\"field\":\"x\"},\"y\":{\"field\":\"y\"}},\"id\":\"1287\",\"type\":\"Line\"},{\"attributes\":{},\"id\":\"1273\",\"type\":\"SaveTool\"},{\"attributes\":{\"line_color\":\"#fb8072\",\"line_dash\":[6],\"line_width\":2,\"x\":{\"field\":\"x\"},\"y\":{\"field\":\"y\"}},\"id\":\"1286\",\"type\":\"Line\"},{\"attributes\":{\"align\":\"center\",\"plot\":null,\"text\":\"Receiver Operating Characteristic\",\"text_font_size\":{\"value\":\"18px\"}},\"id\":\"1249\",\"type\":\"Title\"},{\"attributes\":{},\"id\":\"1274\",\"type\":\"ResetTool\"},{\"attributes\":{},\"id\":\"1275\",\"type\":\"HelpTool\"},{\"attributes\":{\"callback\":null},\"id\":\"1252\",\"type\":\"DataRange1d\"},{\"attributes\":{\"callback\":null},\"id\":\"1254\",\"type\":\"DataRange1d\"},{\"attributes\":{\"bottom_units\":\"screen\",\"fill_alpha\":{\"value\":0.5},\"fill_color\":{\"value\":\"lightgrey\"},\"left_units\":\"screen\",\"level\":\"overlay\",\"line_alpha\":{\"value\":1.0},\"line_color\":{\"value\":\"black\"},\"line_dash\":[4,4],\"line_width\":{\"value\":2},\"plot\":null,\"render_mode\":\"css\",\"right_units\":\"screen\",\"top_units\":\"screen\"},\"id\":\"1278\",\"type\":\"BoxAnnotation\"},{\"attributes\":{},\"id\":\"1256\",\"type\":\"LinearScale\"},{\"attributes\":{},\"id\":\"1258\",\"type\":\"LinearScale\"},{\"attributes\":{\"line_color\":\"#80b1d3\",\"line_width\":2,\"x\":{\"field\":\"fpr\"},\"y\":{\"field\":\"tpr\"}},\"id\":\"1291\",\"type\":\"Line\"},{\"attributes\":{\"axis_label\":\"False Positive Rate\",\"axis_label_text_font_size\":{\"value\":\"14px\"},\"formatter\":{\"id\":\"1296\",\"type\":\"BasicTickFormatter\"},\"major_label_text_font_size\":{\"value\":\"12px\"},\"minor_tick_line_color\":{\"value\":null},\"plot\":{\"id\":\"1250\",\"subtype\":\"Figure\",\"type\":\"Plot\"},\"ticker\":{\"id\":\"1261\",\"type\":\"BasicTicker\"}},\"id\":\"1260\",\"type\":\"LinearAxis\"},{\"attributes\":{\"line_alpha\":0.1,\"line_color\":\"#1f77b4\",\"line_width\":2,\"x\":{\"field\":\"fpr\"},\"y\":{\"field\":\"tpr\"}},\"id\":\"1292\",\"type\":\"Line\"},{\"attributes\":{},\"id\":\"1261\",\"type\":\"BasicTicker\"},{\"attributes\":{\"data_source\":{\"id\":\"1248\",\"type\":\"ColumnDataSource\"},\"glyph\":{\"id\":\"1291\",\"type\":\"Line\"},\"hover_glyph\":null,\"muted_glyph\":null,\"nonselection_glyph\":{\"id\":\"1292\",\"type\":\"Line\"},\"selection_glyph\":null,\"view\":{\"id\":\"1294\",\"type\":\"CDSView\"}},\"id\":\"1293\",\"type\":\"GlyphRenderer\"}],\"root_ids\":[\"1250\"]},\"title\":\"Bokeh Application\",\"version\":\"1.0.4\"}};\n",
       "  var render_items = [{\"docid\":\"7cad6dd2-72f9-4b43-a914-1e673959ad90\",\"roots\":{\"1250\":\"6fc2bab8-21a4-413f-9271-3a98f45bef89\"}}];\n",
       "  root.Bokeh.embed.embed_items_notebook(docs_json, render_items);\n",
       "\n",
       "  }\n",
       "  if (root.Bokeh !== undefined) {\n",
       "    embed_document(root);\n",
       "  } else {\n",
       "    var attempts = 0;\n",
       "    var timer = setInterval(function(root) {\n",
       "      if (root.Bokeh !== undefined) {\n",
       "        embed_document(root);\n",
       "        clearInterval(timer);\n",
       "      }\n",
       "      attempts++;\n",
       "      if (attempts > 100) {\n",
       "        console.log(\"Bokeh: ERROR: Unable to run BokehJS code because BokehJS library is missing\");\n",
       "        clearInterval(timer);\n",
       "      }\n",
       "    }, 10, root)\n",
       "  }\n",
       "})(window);"
      ],
      "application/vnd.bokehjs_exec.v0+json": ""
     },
     "metadata": {
      "application/vnd.bokehjs_exec.v0+json": {
       "id": "1250"
      }
     },
     "output_type": "display_data"
    }
   ],
   "source": [
    "fpr, tpr, thresholds = roc_curve(error_df.true, error_df.error)\n",
    "roc_auc = auc(fpr, tpr)\n",
    "\n",
    "source = ColumnDataSource(data=dict(\n",
    "    fpr = fpr,\n",
    "    tpr = tpr,\n",
    "    x = np.linspace(0,1,len(fpr)),\n",
    "    y = np.linspace(0,1,len(fpr))\n",
    "))\n",
    "\n",
    "p = figure(plot_height = 500, plot_width = 500,\n",
    "           toolbar_location = None, \n",
    "           title = \"Receiver Operating Characteristic\")\n",
    "\n",
    "j = p.line(x = \"x\", y = \"y\", \n",
    "           color=Set3_12[3], \n",
    "           line_width = 2, \n",
    "           line_dash = 'dashed', \n",
    "           source=source)\n",
    "\n",
    "k = p.line(x = \"fpr\", y = \"tpr\", \n",
    "           color=Set3_12[4], \n",
    "           line_width = 2, \n",
    "           legend = f'AUC = {roc_auc:0.4f}',\n",
    "           source=source)\n",
    "\n",
    "tips= [\n",
    "    (\"False-Pos\", \"@fpr{00.0%}\"),\n",
    "    (\"True-Pos\", \"@tpr{00.0%}\"),\n",
    "    ]\n",
    "p.add_tools(HoverTool(tooltips=tips, renderers=[k], mode='vline'))\n",
    "\n",
    "p = format_plot(p, 'False Positive Rate', 'True Positive Rate')\n",
    "p.legend.location = 'bottom_right'\n",
    "\n",
    "show(p);"
   ]
  },
  {
   "cell_type": "markdown",
   "metadata": {
    "_cell_guid": "6ec156e2-540b-4538-8176-ab08730a739c",
    "_uuid": "cb9083c1461c7f66ff87cfba48bc589f79ded88d"
   },
   "source": [
    "### Model Perfomance\n",
    "\n",
    "ROC AUC plots the False Positive Rate against the True Positive rate. The dashed red line represents a random guess of a 50/50 chance of predicting the correct outcome. Ideally the ROC line would fit perfectly in the upper left hand corner which would represent a perfect model. While the ROC AUC is generally a good thing to use to check model performance, it only looks at 2 of the possible 4 outcomes of binary classification. False Negatives and True negatives are not directly observed in this plot. To get the rest of the story it is necessary to look at the confusion matrix. \n",
    "\n",
    "When performing binary classification there are 4 types of outcomes:\n",
    "\n",
    "![confusion_matrix_1.png](https://rasbt.github.io/mlxtend/user_guide/evaluate/confusion_matrix_files/confusion_matrix_1.png)\n",
    "\n",
    "In the case of this dataset:\n",
    "* ***True Positive:*** The number of normal transactions did we correctly predict as normal\n",
    "* ***False Negatives:*** The number of normal transactions that the model incorrectly classifies as fraud\n",
    "* ***False Positives:*** The number of fraudulent transactions the model incorrectly classifies as normal\n",
    "* ***True Negatives:*** The number of fraudlent transactions the model accurately classifies as fraud\n",
    "\n",
    "Since our predictions are based on the error between the original and predicted values of the input, it is necessary to find a cut-off point in the error where anything above the threshold is considered fraud, and anything below is considered to be a normal transaction. To start I decided to set the threshold as the sum of the mean and standard deviation of the error of the normal transactions."
   ]
  },
  {
   "cell_type": "code",
   "execution_count": 26,
   "metadata": {
    "_cell_guid": "29e00b5b-435a-455a-9881-77f73e81c8ee",
    "_uuid": "3b6fd60fa1b4d9209853cec5853c2154203ecc21"
   },
   "outputs": [
    {
     "name": "stdout",
     "output_type": "stream",
     "text": [
      "Threshold: 1.745\n"
     ]
    }
   ],
   "source": [
    "temp_df = error_df[error_df['true'] == 0]\n",
    "threshold = temp_df['error'].mean() + temp_df['error'].std()\n",
    "print(f'Threshold: {threshold:.3f}')"
   ]
  },
  {
   "cell_type": "code",
   "execution_count": 27,
   "metadata": {
    "_cell_guid": "dbcb7fce-ebee-46ab-8a18-1d7a054f20e7",
    "_uuid": "3759f05c62db00f80ff771c40ab15f498e3f2ef0"
   },
   "outputs": [
    {
     "name": "stdout",
     "output_type": "stream",
     "text": [
      "              precision    recall  f1-score   support\n",
      "\n",
      "           0       1.00      0.99      0.99     56864\n",
      "           1       0.10      0.88      0.18        98\n",
      "\n",
      "   micro avg       0.99      0.99      0.99     56962\n",
      "   macro avg       0.55      0.93      0.59     56962\n",
      "weighted avg       1.00      0.99      0.99     56962\n",
      "\n"
     ]
    }
   ],
   "source": [
    "y_pred = [1 if e > threshold else 0 for e in error_df.error.values]\n",
    "print(classification_report(error_df.true.values,y_pred))"
   ]
  },
  {
   "cell_type": "markdown",
   "metadata": {
    "_cell_guid": "9acbc23c-0f97-490d-92b4-a6ce269689d9",
    "_uuid": "2f19cf111af255816b9ea4a4fe45ed61ab60f5c1"
   },
   "source": [
    "Above is the classification report, but I found these metrics to be a bit deceiving and hard to conceptualize. I found that in the case of this unbalanced dataset it is easier to understand by looking at the actual values for number of fraudulent transactions missed as well as the number of normal transactions that were misclassified in the confusion matrix."
   ]
  },
  {
   "cell_type": "code",
   "execution_count": 28,
   "metadata": {
    "_cell_guid": "f614343d-d849-48e9-b12c-8065904e1689",
    "_uuid": "3a2f46d046a4a5b6960269a54270ec7c58c2fbf8"
   },
   "outputs": [
    {
     "data": {
      "image/png": "[encoded data removed]",
      "text/plain": [
       "<matplotlib.figure.Figure at 0x1a21188550>"
      ]
     },
     "metadata": {},
     "output_type": "display_data"
    }
   ],
   "source": [
    "conf_matrix = confusion_matrix(error_df.true, y_pred)\n",
    "\n",
    "sns.set(font_scale = 1.2)\n",
    "plt.figure(figsize=(10, 10))\n",
    "sns.heatmap(conf_matrix, xticklabels=['Not Fraud','Fraud'], yticklabels=['Not Fraud','Fraud'], annot=True, fmt=\"d\");\n",
    "plt.title(\"Confusion matrix\")\n",
    "plt.ylabel('True class')\n",
    "plt.xlabel('Predicted class')\n",
    "plt.show()"
   ]
  },
  {
   "cell_type": "markdown",
   "metadata": {
    "_cell_guid": "f8d28062-7024-43f3-86ca-acd434a41492",
    "_uuid": "205e3ae4b10ab8e0266cc0d4c453a3a312be9270"
   },
   "source": [
    "At first look, the model seems to catch all but about 15% of the fraudulent transactions, but at that threshold the model incorrectly identifies around\n",
    "4000 normal transactions as fraud (False Negatives).\n",
    "\n",
    "This is where the benefit of having a threshold pays off. It allows the flexibility of determining the amount of normal transactions you are willing to accept in order to catch the targeted amount of Fraud. The False Negatives and False Positives exhibit inverse behavior; as the amount of missed fraudulent transactions decreases, the normal transactions that are incorrectly predicted as fraud increases.\n",
    "\n",
    "Next I iterated through a range of thresholds and plotted the confusion matrix at each threshold to get a better idea of what the decision space looks like."
   ]
  },
  {
   "cell_type": "code",
   "execution_count": 29,
   "metadata": {
    "_cell_guid": "67a2b98a-0f1f-4992-a2e7-20e568caf58c",
    "_uuid": "371c9dc7e22d39c8c842d0eed5569a550e65f518"
   },
   "outputs": [
    {
     "data": {
      "image/png": "[encoded data removed]",
      "text/plain": [
       "<matplotlib.figure.Figure at 0x1a21188940>"
      ]
     },
     "metadata": {},
     "output_type": "display_data"
    }
   ],
   "source": [
    "plt.figure(figsize=(12, 12))\n",
    "m = []\n",
    "for thresh in np.linspace(0.2,2,9):\n",
    "    y_pred = [1 if e > thresh else 0 for e in error_df.error.values]\n",
    "    conf_matrix = confusion_matrix(error_df.true, y_pred)\n",
    "    m.append((conf_matrix,thresh))\n",
    "    \n",
    "count = 0\n",
    "for i in range(3):\n",
    "    for j in range(3):\n",
    "        plt.subplot2grid((3, 3), (i, j))\n",
    "        sns.heatmap(m[count][0], xticklabels=['Not Fraud','Fraud'], yticklabels=['Not Fraud','Fraud'], annot=True, fmt=\"d\");\n",
    "        plt.title(f\"Threshold - {m[count][1]:.3f}\")\n",
    "        plt.ylabel('True class')\n",
    "        plt.xlabel('Predicted class')\n",
    "        plt.tight_layout()\n",
    "        count += 1\n",
    "plt.show()"
   ]
  },
  {
   "cell_type": "code",
   "execution_count": 30,
   "metadata": {
    "_cell_guid": "28480e3a-9a00-4433-b239-8b883e5c80c5",
    "_uuid": "22563eef9e189a8db4f846a1d1001be47fb62c3e"
   },
   "outputs": [
    {
     "name": "stdout",
     "output_type": "stream",
     "text": [
      "        fp  fn  threshold\n",
      "8    15335   1   0.312563\n",
      "9    14274   3   0.326633\n",
      "17    8677   4   0.439196\n",
      "20    7381   5   0.481407\n",
      "21    7018   6   0.495477\n",
      "25    5690   7   0.551759\n",
      "27    5125   8   0.579899\n",
      "30    4464   9   0.622111\n",
      "32    4080  10   0.650251\n",
      "102    851  11   1.635176\n",
      "116    734  12   1.832161\n",
      "117    723  14   1.846231\n",
      "136    611  15   2.113568\n",
      "138    600  16   2.141709\n",
      "188    437  17   2.845226\n",
      "196    409  18   2.957789\n",
      "199    400  19   3.000000\n"
     ]
    }
   ],
   "source": [
    "thr = []\n",
    "tp = []\n",
    "fn = []\n",
    "fp = []\n",
    "tn = []\n",
    "for thresh in np.linspace(0.2,3,200):\n",
    "    y_pred = [1 if e > thresh else 0 for e in error_df.error.values]\n",
    "    conf = confusion_matrix(error_df.true, y_pred)\n",
    "    tp.append(conf[0][0])\n",
    "    fp.append(conf[0][1])\n",
    "    fn.append(conf[1][0])\n",
    "    tn.append(conf[1][1])\n",
    "    thr.append(thresh)\n",
    "\n",
    "conf_df = pd.DataFrame(data = {'fp':fp,'fn':fn,'threshold':thr})\n",
    "cdf = conf_df.drop_duplicates(subset='fn',keep='last')\n",
    "print(cdf)"
   ]
  },
  {
   "cell_type": "code",
   "execution_count": 31,
   "metadata": {
    "_cell_guid": "67c11b8b-b30b-46d3-b624-b90471e10d3b",
    "_uuid": "c1d303ebf1a7aa714f8b8272d00a9ab4df6bc3f1"
   },
   "outputs": [
    {
     "data": {
      "text/html": [
       "\n",
       "\n",
       "\n",
       "\n",
       "\n",
       "\n",
       "  <div class=\"bk-root\" id=\"5df4bce6-d040-4363-9e87-65487dc330f8\" data-root-id=\"1382\"></div>\n"
      ]
     },
     "metadata": {},
     "output_type": "display_data"
    },
    {
     "data": {
      "application/javascript": [
       "(function(root) {\n",
       "  function embed_document(root) {\n",
       "    \n",
       "  var docs_json = {\"1567a61a-3f1d-4e12-b14d-1370c79b7dc4\":{\"roots\":{\"references\":[{\"attributes\":{\"background_fill_color\":{\"value\":\"whitesmoke\"},\"below\":[{\"id\":\"1392\",\"type\":\"CategoricalAxis\"}],\"left\":[{\"id\":\"1396\",\"type\":\"LinearAxis\"}],\"plot_width\":800,\"renderers\":[{\"id\":\"1392\",\"type\":\"CategoricalAxis\"},{\"id\":\"1395\",\"type\":\"Grid\"},{\"id\":\"1396\",\"type\":\"LinearAxis\"},{\"id\":\"1400\",\"type\":\"Grid\"},{\"id\":\"1409\",\"type\":\"BoxAnnotation\"},{\"id\":\"1419\",\"type\":\"GlyphRenderer\"}],\"title\":{\"id\":\"1381\",\"type\":\"Title\"},\"toolbar\":{\"id\":\"1407\",\"type\":\"Toolbar\"},\"toolbar_location\":null,\"x_range\":{\"id\":\"1384\",\"type\":\"FactorRange\"},\"x_scale\":{\"id\":\"1388\",\"type\":\"CategoricalScale\"},\"y_range\":{\"id\":\"1386\",\"type\":\"DataRange1d\"},\"y_scale\":{\"id\":\"1390\",\"type\":\"LinearScale\"}},\"id\":\"1382\",\"subtype\":\"Figure\",\"type\":\"Plot\"},{\"attributes\":{},\"id\":\"1447\",\"type\":\"CategoricalTickFormatter\"},{\"attributes\":{},\"id\":\"1449\",\"type\":\"BasicTickFormatter\"},{\"attributes\":{},\"id\":\"1451\",\"type\":\"Selection\"},{\"attributes\":{},\"id\":\"1390\",\"type\":\"LinearScale\"},{\"attributes\":{\"align\":\"center\",\"plot\":null,\"text\":\"False Negative vs False Positive\",\"text_font_size\":{\"value\":\"18px\"}},\"id\":\"1381\",\"type\":\"Title\"},{\"attributes\":{\"axis_label\":\"False Positive\",\"axis_label_text_font_size\":{\"value\":\"14px\"},\"axis_line_color\":{\"value\":null},\"formatter\":{\"id\":\"1449\",\"type\":\"BasicTickFormatter\"},\"major_label_text_font_size\":{\"value\":\"12px\"},\"major_tick_line_color\":{\"value\":null},\"minor_tick_line_color\":{\"value\":null},\"plot\":{\"id\":\"1382\",\"subtype\":\"Figure\",\"type\":\"Plot\"},\"ticker\":{\"id\":\"1397\",\"type\":\"BasicTicker\"}},\"id\":\"1396\",\"type\":\"LinearAxis\"},{\"attributes\":{},\"id\":\"1393\",\"type\":\"CategoricalTicker\"},{\"attributes\":{\"grid_line_color\":{\"value\":null},\"plot\":{\"id\":\"1382\",\"subtype\":\"Figure\",\"type\":\"Plot\"},\"ticker\":{\"id\":\"1393\",\"type\":\"CategoricalTicker\"}},\"id\":\"1395\",\"type\":\"Grid\"},{\"attributes\":{},\"id\":\"1404\",\"type\":\"SaveTool\"},{\"attributes\":{\"active_drag\":\"auto\",\"active_inspect\":\"auto\",\"active_multi\":null,\"active_scroll\":\"auto\",\"active_tap\":\"auto\",\"tools\":[{\"id\":\"1401\",\"type\":\"PanTool\"},{\"id\":\"1402\",\"type\":\"WheelZoomTool\"},{\"id\":\"1403\",\"type\":\"BoxZoomTool\"},{\"id\":\"1404\",\"type\":\"SaveTool\"},{\"id\":\"1405\",\"type\":\"ResetTool\"},{\"id\":\"1406\",\"type\":\"HelpTool\"}]},\"id\":\"1407\",\"type\":\"Toolbar\"},{\"attributes\":{\"bottom_units\":\"screen\",\"fill_alpha\":{\"value\":0.5},\"fill_color\":{\"value\":\"lightgrey\"},\"left_units\":\"screen\",\"level\":\"overlay\",\"line_alpha\":{\"value\":1.0},\"line_color\":{\"value\":\"black\"},\"line_dash\":[4,4],\"line_width\":{\"value\":2},\"plot\":null,\"render_mode\":\"css\",\"right_units\":\"screen\",\"top_units\":\"screen\"},\"id\":\"1409\",\"type\":\"BoxAnnotation\"},{\"attributes\":{},\"id\":\"1406\",\"type\":\"HelpTool\"},{\"attributes\":{},\"id\":\"1397\",\"type\":\"BasicTicker\"},{\"attributes\":{\"fill_alpha\":{\"value\":0.1},\"fill_color\":{\"value\":\"#1f77b4\"},\"line_alpha\":{\"value\":0.1},\"line_color\":{\"value\":\"#1f77b4\"},\"top\":{\"field\":\"fp\"},\"width\":{\"value\":0.9},\"x\":{\"field\":\"fn\"}},\"id\":\"1418\",\"type\":\"VBar\"},{\"attributes\":{\"axis_label\":\"False Negatives\",\"axis_label_text_font_size\":{\"value\":\"14px\"},\"formatter\":{\"id\":\"1447\",\"type\":\"CategoricalTickFormatter\"},\"major_label_text_font_size\":{\"value\":\"12px\"},\"minor_tick_line_color\":{\"value\":null},\"plot\":{\"id\":\"1382\",\"subtype\":\"Figure\",\"type\":\"Plot\"},\"ticker\":{\"id\":\"1393\",\"type\":\"CategoricalTicker\"}},\"id\":\"1392\",\"type\":\"CategoricalAxis\"},{\"attributes\":{\"callback\":null,\"factors\":[\"1\",\"3\",\"4\",\"5\",\"6\",\"7\",\"8\",\"9\",\"10\",\"11\",\"12\",\"14\",\"15\",\"16\",\"17\",\"18\",\"19\"]},\"id\":\"1384\",\"type\":\"FactorRange\"},{\"attributes\":{},\"id\":\"1388\",\"type\":\"CategoricalScale\"},{\"attributes\":{\"callback\":null,\"data\":{\"fn\":[\"1\",\"3\",\"4\",\"5\",\"6\",\"7\",\"8\",\"9\",\"10\",\"11\",\"12\",\"14\",\"15\",\"16\",\"17\",\"18\",\"19\"],\"fp\":[15335,14274,8677,7381,7018,5690,5125,4464,4080,851,734,723,611,600,437,409,400]},\"selected\":{\"id\":\"1451\",\"type\":\"Selection\"},\"selection_policy\":{\"id\":\"1452\",\"type\":\"UnionRenderers\"}},\"id\":\"1380\",\"type\":\"ColumnDataSource\"},{\"attributes\":{},\"id\":\"1452\",\"type\":\"UnionRenderers\"},{\"attributes\":{},\"id\":\"1402\",\"type\":\"WheelZoomTool\"},{\"attributes\":{\"callback\":null},\"id\":\"1386\",\"type\":\"DataRange1d\"},{\"attributes\":{\"fill_color\":{\"value\":\"#fb8072\"},\"line_color\":{\"value\":\"#fb8072\"},\"top\":{\"field\":\"fp\"},\"width\":{\"value\":0.9},\"x\":{\"field\":\"fn\"}},\"id\":\"1417\",\"type\":\"VBar\"},{\"attributes\":{\"source\":{\"id\":\"1380\",\"type\":\"ColumnDataSource\"}},\"id\":\"1420\",\"type\":\"CDSView\"},{\"attributes\":{},\"id\":\"1405\",\"type\":\"ResetTool\"},{\"attributes\":{},\"id\":\"1401\",\"type\":\"PanTool\"},{\"attributes\":{\"overlay\":{\"id\":\"1409\",\"type\":\"BoxAnnotation\"}},\"id\":\"1403\",\"type\":\"BoxZoomTool\"},{\"attributes\":{\"dimension\":1,\"grid_line_color\":{\"value\":null},\"plot\":{\"id\":\"1382\",\"subtype\":\"Figure\",\"type\":\"Plot\"},\"ticker\":{\"id\":\"1397\",\"type\":\"BasicTicker\"}},\"id\":\"1400\",\"type\":\"Grid\"},{\"attributes\":{\"data_source\":{\"id\":\"1380\",\"type\":\"ColumnDataSource\"},\"glyph\":{\"id\":\"1417\",\"type\":\"VBar\"},\"hover_glyph\":null,\"muted_glyph\":null,\"nonselection_glyph\":{\"id\":\"1418\",\"type\":\"VBar\"},\"selection_glyph\":null,\"view\":{\"id\":\"1420\",\"type\":\"CDSView\"}},\"id\":\"1419\",\"type\":\"GlyphRenderer\"}],\"root_ids\":[\"1382\"]},\"title\":\"Bokeh Application\",\"version\":\"1.0.4\"}};\n",
       "  var render_items = [{\"docid\":\"1567a61a-3f1d-4e12-b14d-1370c79b7dc4\",\"roots\":{\"1382\":\"5df4bce6-d040-4363-9e87-65487dc330f8\"}}];\n",
       "  root.Bokeh.embed.embed_items_notebook(docs_json, render_items);\n",
       "\n",
       "  }\n",
       "  if (root.Bokeh !== undefined) {\n",
       "    embed_document(root);\n",
       "  } else {\n",
       "    var attempts = 0;\n",
       "    var timer = setInterval(function(root) {\n",
       "      if (root.Bokeh !== undefined) {\n",
       "        embed_document(root);\n",
       "        clearInterval(timer);\n",
       "      }\n",
       "      attempts++;\n",
       "      if (attempts > 100) {\n",
       "        console.log(\"Bokeh: ERROR: Unable to run BokehJS code because BokehJS library is missing\");\n",
       "        clearInterval(timer);\n",
       "      }\n",
       "    }, 10, root)\n",
       "  }\n",
       "})(window);"
      ],
      "application/vnd.bokehjs_exec.v0+json": ""
     },
     "metadata": {
      "application/vnd.bokehjs_exec.v0+json": {
       "id": "1382"
      }
     },
     "output_type": "display_data"
    }
   ],
   "source": [
    "xx = [str(x) for x in cdf['fn'].values]\n",
    "source = ColumnDataSource(data=dict(\n",
    "    fn = xx,\n",
    "    fp = cdf['fp'].values,\n",
    "))\n",
    "\n",
    "p = figure(plot_width = 800,\n",
    "           toolbar_location = None, x_range = xx,\n",
    "           title = \"False Negative vs False Positive\")\n",
    "\n",
    "p.vbar(x = \"fn\", top = \"fp\", width = 0.9,\n",
    "           color=Set3_12[3],  \n",
    "           source=source)\n",
    "\n",
    "p = format_plot(p, 'False Negatives', 'False Positive')\n",
    "\n",
    "show(p);"
   ]
  },
  {
   "cell_type": "markdown",
   "metadata": {
    "_cell_guid": "2ff84a71-a7f8-447b-8918-a878ec753199",
    "_uuid": "f005b1240ab6c001abb4613f74224b0c47337794"
   },
   "source": [
    "In the plot above you can see the trade-space for a given reconstruction error threshold. There is a large dropoff after 2 False Negatives. Ideally this plot would be in percentages to show overall model performance, since these numbers would change depending on your test set size. However actual number of fraudulent transactions is a bit more intuitive.\n",
    "\n",
    "### Conclusion and Further Work\n",
    "\n",
    "Since the data we were given represents the principal components, it is difficult to fully understand the value of each of the model inputs. In this notebook I did not attempt to do any feature engineering or general dimensional reduction (although the autoencoder does) to try to improve the model.\n",
    "\n",
    "In general the model performs well, but there is still a small number of fraudulent transactions that can't be cleanly separated from normal transactions. The model provides a decision space to do tradeoff analysis and determine the best threshold given how much a fraudulent transaction costs the business vs how much it costs to incorrectly label normal transactions (which is difficult to quantify).\n",
    "\n",
    "Next, I would like to look into ensembling this with other models as well as taking the weights of the pre-trained autoencoder and using additonal layers to perform the final binary classification.\n",
    "\n",
    "Thanks for reading."
   ]
  },
  {
   "cell_type": "code",
   "execution_count": null,
   "metadata": {
    "_uuid": "48fa871da72ce9c36bf88c7d85cc6adf748aa9c0",
    "collapsed": true
   },
   "outputs": [],
   "source": []
  }
 ],
 "metadata": {
  "kernelspec": {
   "display_name": "Python 3",
   "language": "python",
   "name": "python3"
  },
  "language_info": {
   "codemirror_mode": {
    "name": "ipython",
    "version": 3
   },
   "file_extension": ".py",
   "mimetype": "text/x-python",
   "name": "python",
   "nbconvert_exporter": "python",
   "pygments_lexer": "ipython3",
   "version": "3.6.8"
  }
 },
 "nbformat": 4,
 "nbformat_minor": 1
}
