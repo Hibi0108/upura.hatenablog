{
 "cells": [
  {
   "cell_type": "markdown",
   "metadata": {},
   "source": [
    "https://leisurelab.hatenablog.com/entry/latent-semantic-analysis"
   ]
  },
  {
   "cell_type": "code",
   "execution_count": 1,
   "metadata": {
    "collapsed": true
   },
   "outputs": [],
   "source": [
    "import numpy as np\n",
    "import pandas as pd\n",
    "\n",
    "\n",
    "arr = np.array([[2, 3, 0, 0, 0],\n",
    "                [2, 0, 2, 0, 0],\n",
    "                [0, 0, 0, 2, 2],\n",
    "                [0, 0, 0, 3, 1]])"
   ]
  },
  {
   "cell_type": "code",
   "execution_count": 2,
   "metadata": {
    "collapsed": true
   },
   "outputs": [],
   "source": [
    "u, sigma, v = np.linalg.svd(arr, full_matrices=True)"
   ]
  },
  {
   "cell_type": "code",
   "execution_count": 3,
   "metadata": {},
   "outputs": [
    {
     "data": {
      "text/plain": [
       "array([[ 0.        ,  0.87464248, -0.48476853,  0.        ],\n",
       "       [ 0.        ,  0.48476853,  0.87464248,  0.        ],\n",
       "       [ 0.66180256,  0.        ,  0.        , -0.74967818],\n",
       "       [ 0.74967818,  0.        ,  0.        ,  0.66180256]])"
      ]
     },
     "execution_count": 3,
     "metadata": {},
     "output_type": "execute_result"
    }
   ],
   "source": [
    "u"
   ]
  },
  {
   "cell_type": "code",
   "execution_count": 4,
   "metadata": {},
   "outputs": [
    {
     "data": {
      "text/plain": [
       "array([ 4.13064859,  3.90089612,  2.40478885,  0.96837093])"
      ]
     },
     "execution_count": 4,
     "metadata": {},
     "output_type": "execute_result"
    }
   ],
   "source": [
    "sigma"
   ]
  },
  {
   "cell_type": "code",
   "execution_count": 5,
   "metadata": {},
   "outputs": [
    {
     "data": {
      "text/plain": [
       "array([[  7.10101032e-17,  -4.73400688e-17,  -7.10101032e-17,\n",
       "          8.64910093e-01,   5.01926818e-01],\n",
       "       [  6.96973706e-01,   6.72647351e-01,   2.48542139e-01,\n",
       "          0.00000000e+00,   0.00000000e+00],\n",
       "       [  3.24247967e-01,  -6.04753966e-01,   7.27417278e-01,\n",
       "          0.00000000e+00,   0.00000000e+00],\n",
       "       [  3.19545465e-16,  -2.13030310e-16,  -3.19545465e-16,\n",
       "          5.01926818e-01,  -8.64910093e-01],\n",
       "       [  6.39602149e-01,  -4.26401433e-01,  -6.39602149e-01,\n",
       "         -1.43539982e-16,   4.11571530e-16]])"
      ]
     },
     "execution_count": 5,
     "metadata": {},
     "output_type": "execute_result"
    }
   ],
   "source": [
    "v"
   ]
  },
  {
   "cell_type": "code",
   "execution_count": 6,
   "metadata": {
    "collapsed": true
   },
   "outputs": [],
   "source": [
    "k = 2"
   ]
  },
  {
   "cell_type": "code",
   "execution_count": 8,
   "metadata": {},
   "outputs": [],
   "source": [
    "u2 = u[:, :k]\n",
    "sigma2 = sigma[:k]\n",
    "v2 = v[:k, :]"
   ]
  },
  {
   "cell_type": "code",
   "execution_count": 9,
   "metadata": {},
   "outputs": [
    {
     "data": {
      "text/plain": [
       "array([[ 2.38,  2.29,  0.85,  0.  ,  0.  ],\n",
       "       [ 1.32,  1.27,  0.47,  0.  ,  0.  ],\n",
       "       [ 0.  , -0.  , -0.  ,  2.36,  1.37],\n",
       "       [ 0.  , -0.  , -0.  ,  2.68,  1.55]])"
      ]
     },
     "execution_count": 9,
     "metadata": {},
     "output_type": "execute_result"
    }
   ],
   "source": [
    "arr2 = np.round(np.dot(np.dot(u2, np.diag(sigma2)), v2), 2)\n",
    "arr2"
   ]
  },
  {
   "cell_type": "code",
   "execution_count": null,
   "metadata": {
    "collapsed": true
   },
   "outputs": [],
   "source": []
  }
 ],
 "metadata": {
  "kernelspec": {
   "display_name": "Python 3",
   "language": "python",
   "name": "python3"
  },
  "language_info": {
   "codemirror_mode": {
    "name": "ipython",
    "version": 3
   },
   "file_extension": ".py",
   "mimetype": "text/x-python",
   "name": "python",
   "nbconvert_exporter": "python",
   "pygments_lexer": "ipython3",
   "version": "3.6.8"
  }
 },
 "nbformat": 4,
 "nbformat_minor": 2
}
