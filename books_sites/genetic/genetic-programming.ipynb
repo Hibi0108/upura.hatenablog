{
 "cells": [
  {
   "cell_type": "markdown",
   "metadata": {},
   "source": [
    "https://qiita.com/overlap/items/e7f1077ef8239f454602"
   ]
  },
  {
   "cell_type": "code",
   "execution_count": 1,
   "metadata": {
    "collapsed": true
   },
   "outputs": [],
   "source": [
    "import operator, math, random, time\n",
    "import numpy as np\n",
    "\n",
    "from deap import algorithms, base, creator, tools, gp\n",
    "\n",
    "from sklearn.datasets import make_classification\n",
    "from sklearn.model_selection import train_test_split, cross_val_score\n",
    "from sklearn.linear_model import LogisticRegression\n",
    "from sklearn.metrics import roc_auc_score, log_loss\n",
    "\n",
    "import matplotlib.pyplot as plt\n",
    "from tqdm import tqdm"
   ]
  },
  {
   "cell_type": "code",
   "execution_count": 2,
   "metadata": {
    "collapsed": true
   },
   "outputs": [],
   "source": [
    "# サンプルデータの生成\n",
    "X, y = make_classification(n_samples=10000, n_features=10, n_informative=5, n_redundant=0, n_repeated=0,\n",
    "                           n_clusters_per_class=8, random_state=123)\n",
    "X_train, X_test, y_train, y_test = train_test_split(X, y, test_size=0.2, random_state=123)"
   ]
  },
  {
   "cell_type": "markdown",
   "metadata": {},
   "source": [
    "## lightGBM"
   ]
  },
  {
   "cell_type": "code",
   "execution_count": 3,
   "metadata": {
    "collapsed": true
   },
   "outputs": [],
   "source": [
    "import lightgbm as lgb\n",
    "X_train, X_valid, y_train, y_valid = train_test_split(X_train, y_train, test_size=0.2, random_state=123)"
   ]
  },
  {
   "cell_type": "code",
   "execution_count": 4,
   "metadata": {
    "scrolled": false
   },
   "outputs": [
    {
     "name": "stdout",
     "output_type": "stream",
     "text": [
      "[1]\tvalid_0's auc: 0.743222\n",
      "Training until validation scores don't improve for 10 rounds.\n",
      "[2]\tvalid_0's auc: 0.774293\n",
      "[3]\tvalid_0's auc: 0.786269\n",
      "[4]\tvalid_0's auc: 0.796968\n",
      "[5]\tvalid_0's auc: 0.798784\n",
      "[6]\tvalid_0's auc: 0.802183\n",
      "[7]\tvalid_0's auc: 0.802674\n",
      "[8]\tvalid_0's auc: 0.805887\n",
      "[9]\tvalid_0's auc: 0.810216\n",
      "[10]\tvalid_0's auc: 0.808829\n",
      "[11]\tvalid_0's auc: 0.812117\n",
      "[12]\tvalid_0's auc: 0.812388\n",
      "[13]\tvalid_0's auc: 0.813328\n",
      "[14]\tvalid_0's auc: 0.815966\n",
      "[15]\tvalid_0's auc: 0.815584\n",
      "[16]\tvalid_0's auc: 0.816796\n",
      "[17]\tvalid_0's auc: 0.819553\n",
      "[18]\tvalid_0's auc: 0.819432\n",
      "[19]\tvalid_0's auc: 0.820362\n",
      "[20]\tvalid_0's auc: 0.822502\n",
      "[21]\tvalid_0's auc: 0.823933\n",
      "[22]\tvalid_0's auc: 0.825941\n",
      "[23]\tvalid_0's auc: 0.826346\n",
      "[24]\tvalid_0's auc: 0.828636\n",
      "[25]\tvalid_0's auc: 0.829256\n",
      "[26]\tvalid_0's auc: 0.829943\n",
      "[27]\tvalid_0's auc: 0.830962\n",
      "[28]\tvalid_0's auc: 0.831575\n",
      "[29]\tvalid_0's auc: 0.83256\n",
      "[30]\tvalid_0's auc: 0.834183\n",
      "[31]\tvalid_0's auc: 0.835503\n",
      "[32]\tvalid_0's auc: 0.836211\n",
      "[33]\tvalid_0's auc: 0.836906\n",
      "[34]\tvalid_0's auc: 0.837768\n",
      "[35]\tvalid_0's auc: 0.838464\n",
      "[36]\tvalid_0's auc: 0.8391\n",
      "[37]\tvalid_0's auc: 0.839569\n",
      "[38]\tvalid_0's auc: 0.840365\n",
      "[39]\tvalid_0's auc: 0.840882\n",
      "[40]\tvalid_0's auc: 0.841443\n",
      "[41]\tvalid_0's auc: 0.841642\n",
      "[42]\tvalid_0's auc: 0.842293\n",
      "[43]\tvalid_0's auc: 0.842808\n",
      "[44]\tvalid_0's auc: 0.844074\n",
      "[45]\tvalid_0's auc: 0.844198\n",
      "[46]\tvalid_0's auc: 0.844253\n",
      "[47]\tvalid_0's auc: 0.844709\n",
      "[48]\tvalid_0's auc: 0.845056\n",
      "[49]\tvalid_0's auc: 0.845164\n",
      "[50]\tvalid_0's auc: 0.846189\n",
      "[51]\tvalid_0's auc: 0.846457\n",
      "[52]\tvalid_0's auc: 0.847409\n",
      "[53]\tvalid_0's auc: 0.847525\n",
      "[54]\tvalid_0's auc: 0.847345\n",
      "[55]\tvalid_0's auc: 0.847442\n",
      "[56]\tvalid_0's auc: 0.848219\n",
      "[57]\tvalid_0's auc: 0.848075\n",
      "[58]\tvalid_0's auc: 0.84803\n",
      "[59]\tvalid_0's auc: 0.848765\n",
      "[60]\tvalid_0's auc: 0.84845\n",
      "[61]\tvalid_0's auc: 0.848434\n",
      "[62]\tvalid_0's auc: 0.8484\n",
      "[63]\tvalid_0's auc: 0.848242\n",
      "[64]\tvalid_0's auc: 0.848037\n",
      "[65]\tvalid_0's auc: 0.848256\n",
      "[66]\tvalid_0's auc: 0.848176\n",
      "[67]\tvalid_0's auc: 0.848564\n",
      "[68]\tvalid_0's auc: 0.848878\n",
      "[69]\tvalid_0's auc: 0.848643\n",
      "[70]\tvalid_0's auc: 0.848679\n",
      "[71]\tvalid_0's auc: 0.848851\n",
      "[72]\tvalid_0's auc: 0.848966\n",
      "[73]\tvalid_0's auc: 0.849241\n",
      "[74]\tvalid_0's auc: 0.849333\n",
      "[75]\tvalid_0's auc: 0.849436\n",
      "[76]\tvalid_0's auc: 0.849368\n",
      "[77]\tvalid_0's auc: 0.849582\n",
      "[78]\tvalid_0's auc: 0.849322\n",
      "[79]\tvalid_0's auc: 0.849762\n",
      "[80]\tvalid_0's auc: 0.849981\n",
      "[81]\tvalid_0's auc: 0.85013\n",
      "[82]\tvalid_0's auc: 0.850722\n",
      "[83]\tvalid_0's auc: 0.850761\n",
      "[84]\tvalid_0's auc: 0.851262\n",
      "[85]\tvalid_0's auc: 0.851254\n",
      "[86]\tvalid_0's auc: 0.851026\n",
      "[87]\tvalid_0's auc: 0.851601\n",
      "[88]\tvalid_0's auc: 0.851721\n",
      "[89]\tvalid_0's auc: 0.851679\n",
      "[90]\tvalid_0's auc: 0.851578\n",
      "[91]\tvalid_0's auc: 0.851559\n",
      "[92]\tvalid_0's auc: 0.851467\n",
      "[93]\tvalid_0's auc: 0.851796\n",
      "[94]\tvalid_0's auc: 0.852392\n",
      "[95]\tvalid_0's auc: 0.852139\n",
      "[96]\tvalid_0's auc: 0.852058\n",
      "[97]\tvalid_0's auc: 0.852125\n",
      "[98]\tvalid_0's auc: 0.851956\n",
      "[99]\tvalid_0's auc: 0.852342\n",
      "[100]\tvalid_0's auc: 0.852528\n",
      "[101]\tvalid_0's auc: 0.852466\n",
      "[102]\tvalid_0's auc: 0.852484\n",
      "[103]\tvalid_0's auc: 0.852339\n",
      "[104]\tvalid_0's auc: 0.852326\n",
      "[105]\tvalid_0's auc: 0.852475\n",
      "[106]\tvalid_0's auc: 0.852994\n",
      "[107]\tvalid_0's auc: 0.853011\n",
      "[108]\tvalid_0's auc: 0.852883\n",
      "[109]\tvalid_0's auc: 0.852735\n",
      "[110]\tvalid_0's auc: 0.852658\n",
      "[111]\tvalid_0's auc: 0.85311\n",
      "[112]\tvalid_0's auc: 0.853057\n",
      "[113]\tvalid_0's auc: 0.853504\n",
      "[114]\tvalid_0's auc: 0.85382\n",
      "[115]\tvalid_0's auc: 0.854024\n",
      "[116]\tvalid_0's auc: 0.854267\n",
      "[117]\tvalid_0's auc: 0.854013\n",
      "[118]\tvalid_0's auc: 0.853917\n",
      "[119]\tvalid_0's auc: 0.853754\n",
      "[120]\tvalid_0's auc: 0.853771\n",
      "[121]\tvalid_0's auc: 0.854457\n",
      "[122]\tvalid_0's auc: 0.854589\n",
      "[123]\tvalid_0's auc: 0.854478\n",
      "[124]\tvalid_0's auc: 0.854692\n",
      "[125]\tvalid_0's auc: 0.854698\n",
      "[126]\tvalid_0's auc: 0.854916\n",
      "[127]\tvalid_0's auc: 0.854981\n",
      "[128]\tvalid_0's auc: 0.855031\n",
      "[129]\tvalid_0's auc: 0.855083\n",
      "[130]\tvalid_0's auc: 0.855041\n",
      "[131]\tvalid_0's auc: 0.855119\n",
      "[132]\tvalid_0's auc: 0.855067\n",
      "[133]\tvalid_0's auc: 0.854903\n",
      "[134]\tvalid_0's auc: 0.854909\n",
      "[135]\tvalid_0's auc: 0.854748\n",
      "[136]\tvalid_0's auc: 0.855022\n",
      "[137]\tvalid_0's auc: 0.855066\n",
      "[138]\tvalid_0's auc: 0.855031\n",
      "[139]\tvalid_0's auc: 0.855328\n",
      "[140]\tvalid_0's auc: 0.855428\n",
      "[141]\tvalid_0's auc: 0.855247\n",
      "[142]\tvalid_0's auc: 0.855222\n",
      "[143]\tvalid_0's auc: 0.855355\n",
      "[144]\tvalid_0's auc: 0.855255\n",
      "[145]\tvalid_0's auc: 0.855694\n",
      "[146]\tvalid_0's auc: 0.855657\n",
      "[147]\tvalid_0's auc: 0.855611\n",
      "[148]\tvalid_0's auc: 0.855525\n",
      "[149]\tvalid_0's auc: 0.855352\n",
      "[150]\tvalid_0's auc: 0.855711\n",
      "[151]\tvalid_0's auc: 0.855816\n",
      "[152]\tvalid_0's auc: 0.855815\n",
      "[153]\tvalid_0's auc: 0.855794\n",
      "[154]\tvalid_0's auc: 0.856196\n",
      "[155]\tvalid_0's auc: 0.856029\n",
      "[156]\tvalid_0's auc: 0.856019\n",
      "[157]\tvalid_0's auc: 0.856037\n",
      "[158]\tvalid_0's auc: 0.85599\n",
      "[159]\tvalid_0's auc: 0.85603\n",
      "[160]\tvalid_0's auc: 0.85606\n",
      "[161]\tvalid_0's auc: 0.855872\n",
      "[162]\tvalid_0's auc: 0.856004\n",
      "[163]\tvalid_0's auc: 0.856154\n",
      "[164]\tvalid_0's auc: 0.856409\n",
      "[165]\tvalid_0's auc: 0.856288\n",
      "[166]\tvalid_0's auc: 0.856066\n",
      "[167]\tvalid_0's auc: 0.855908\n",
      "[168]\tvalid_0's auc: 0.855897\n",
      "[169]\tvalid_0's auc: 0.85576\n",
      "[170]\tvalid_0's auc: 0.855807\n",
      "[171]\tvalid_0's auc: 0.855688\n",
      "[172]\tvalid_0's auc: 0.855702\n",
      "[173]\tvalid_0's auc: 0.855937\n",
      "[174]\tvalid_0's auc: 0.85584\n",
      "Early stopping, best iteration is:\n",
      "[164]\tvalid_0's auc: 0.856409\n"
     ]
    },
    {
     "data": {
      "image/png": "[encoded data removed]",
      "text/plain": [
       "<matplotlib.figure.Figure at 0x11a118630>"
      ]
     },
     "metadata": {},
     "output_type": "display_data"
    }
   ],
   "source": [
    "# データセットを生成する\n",
    "lgb_train = lgb.Dataset(X_train, y_train)\n",
    "lgb_eval = lgb.Dataset(X_valid, y_valid, reference=lgb_train)\n",
    "\n",
    "lgbm_params = {\n",
    "    'learning_rate': 0.1,\n",
    "    'num_leaves': 8,\n",
    "    'boosting_type' : 'gbdt',\n",
    "    'subsample' : 0.8,\n",
    "    'reg_alpha' : 1,\n",
    "    'reg_lambda' : 1,\n",
    "    'objective': 'regression',\n",
    "    'metric': 'auc',\n",
    "    }\n",
    "\n",
    "# 上記のパラメータでモデルを学習する\n",
    "model = lgb.train(lgbm_params, lgb_train,\n",
    "                  # モデルの評価用データを渡す\n",
    "                  valid_sets=lgb_eval,\n",
    "                  # 最大で 1000 ラウンドまで学習する\n",
    "                  num_boost_round=1000,\n",
    "                  # 10 ラウンド経過しても性能が向上しないときは学習を打ち切る\n",
    "                  early_stopping_rounds=10)\n",
    "\n",
    "# 特徴量の重要度をプロットする\n",
    "lgb.plot_importance(model, figsize=(20, 10))\n",
    "plt.show()"
   ]
  },
  {
   "cell_type": "markdown",
   "metadata": {},
   "source": [
    "### testでの精度"
   ]
  },
  {
   "cell_type": "code",
   "execution_count": 5,
   "metadata": {},
   "outputs": [
    {
     "name": "stdout",
     "output_type": "stream",
     "text": [
      "0.854653164841\n"
     ]
    }
   ],
   "source": [
    "from sklearn.metrics import roc_auc_score\n",
    "\n",
    "# テストデータを予測する\n",
    "y_pred = model.predict(X_test, num_iteration=model.best_iteration)\n",
    "\n",
    "# auc を計算する\n",
    "auc = roc_auc_score(y_test, y_pred)\n",
    "print(auc)"
   ]
  },
  {
   "cell_type": "code",
   "execution_count": null,
   "metadata": {
    "collapsed": true
   },
   "outputs": [],
   "source": []
  },
  {
   "cell_type": "markdown",
   "metadata": {},
   "source": [
    "## Feature Generation by Genetic Programming"
   ]
  },
  {
   "cell_type": "code",
   "execution_count": 6,
   "metadata": {},
   "outputs": [],
   "source": [
    "# ベースラインスコアの算出\n",
    "clf = LogisticRegression(penalty=\"l2\", C=1.0)\n",
    "base_train_auc = np.mean(cross_val_score(clf, X_train, y_train, scoring=\"roc_auc\", cv=5))\n",
    "clf.fit(X_train, y_train)\n",
    "base_valid_auc = roc_auc_score(y_valid, clf.predict_proba(X_valid)[:,1])"
   ]
  },
  {
   "cell_type": "code",
   "execution_count": 7,
   "metadata": {
    "collapsed": true
   },
   "outputs": [],
   "source": [
    "# 除算関数の定義\n",
    "# 左項 / 右項で右項が0の場合1を代入する\n",
    "def protectedDiv(left, right):\n",
    "    eps = 1.0e-7\n",
    "    tmp = np.zeros(len(left))\n",
    "    tmp[np.abs(right) >= eps] = left[np.abs(right) >= eps] / right[np.abs(right) >= eps]\n",
    "    tmp[np.abs(right) < eps] = 1.0\n",
    "    return tmp"
   ]
  },
  {
   "cell_type": "code",
   "execution_count": 8,
   "metadata": {
    "collapsed": true
   },
   "outputs": [],
   "source": [
    "# 乱数シード\n",
    "random.seed(123)\n",
    "\n",
    "# 適合度を最大化するような木構造を個体として定義\n",
    "creator.create(\"FitnessMax\", base.Fitness, weights=(1.0,))\n",
    "creator.create(\"Individual\", gp.PrimitiveTree, fitness=creator.FitnessMax)"
   ]
  },
  {
   "cell_type": "code",
   "execution_count": 9,
   "metadata": {
    "collapsed": true
   },
   "outputs": [],
   "source": [
    "# 初期値の計算\n",
    "# 学習データの5-fold CVのAUCスコアを評価指標の初期値とする\n",
    "n_features = X_train.shape[1]\n",
    "clf = LogisticRegression(penalty=\"l2\", C=1.0)\n",
    "prev_auc = np.mean(cross_val_score(clf, X_train, y_train, scoring=\"roc_auc\", cv=5))"
   ]
  },
  {
   "cell_type": "code",
   "execution_count": 10,
   "metadata": {
    "collapsed": true
   },
   "outputs": [],
   "source": [
    "# メインループ\n",
    "# resultsに特徴量数、学習データのAUCスコア（5-fold CV）、テストデータのAUCスコアを保持する\n",
    "# exprsに生成された特徴量の表記を保持する\n",
    "results = []\n",
    "exprs = []"
   ]
  },
  {
   "cell_type": "code",
   "execution_count": 11,
   "metadata": {
    "scrolled": false
   },
   "outputs": [
    {
     "name": "stderr",
     "output_type": "stream",
     "text": [
      "\r",
      "  0%|          | 0/100 [00:00<?, ?it/s]"
     ]
    },
    {
     "name": "stdout",
     "output_type": "stream",
     "text": [
      "   \t      \t                         fitness                          \t              size             \n",
      "   \t      \t----------------------------------------------------------\t-------------------------------\n",
      "gen\tnevals\tavg     \tmax     \tmin     \tstd       \tavg    \tmax\tmin\tstd    \n",
      "0  \t300   \t0.741035\t0.753865\t0.739936\t0.00101532\t4.52667\t14 \t2  \t2.84182\n",
      "1  \t149   \t0.742167\t0.767195\t0.740082\t0.00267789\t4.51333\t15 \t1  \t2.75617\n",
      "2  \t181   \t0.744845\t0.780131\t0.738728\t0.00552439\t4.97333\t16 \t1  \t2.9039 \n",
      "3  \t164   \t0.751044\t0.781731\t0.740025\t0.00967249\t6.47   \t16 \t1  \t3.36191\n",
      "4  \t165   \t0.759953\t0.783359\t0.739429\t0.0143909 \t7.82333\t16 \t1  \t3.31041\n",
      "5  \t166   \t0.768034\t0.791845\t0.739429\t0.0168249 \t9.43   \t19 \t3  \t2.35763\n",
      "6  \t141   \t0.771986\t0.791845\t0.740254\t0.0167702 \t9.45   \t15 \t3  \t2.58086\n",
      "7  \t155   \t0.7737  \t0.791845\t0.740319\t0.0176898 \t9.43667\t18 \t1  \t2.67569\n",
      "8  \t132   \t0.777558\t0.791845\t0.739765\t0.0178575 \t10.1433\t18 \t4  \t2.27071\n",
      "9  \t157   \t0.780477\t0.791845\t0.740514\t0.017478  \t10.0333\t16 \t1  \t1.90409\n"
     ]
    },
    {
     "name": "stderr",
     "output_type": "stream",
     "text": [
      "\r",
      "  1%|          | 1/100 [01:10<1:56:34, 70.65s/it]"
     ]
    },
    {
     "name": "stdout",
     "output_type": "stream",
     "text": [
      "10 \t161   \t0.77832 \t0.791845\t0.74075 \t0.0191025 \t9.93   \t14 \t2  \t1.66286\n",
      "11 0.79184528832 0.793625714064 0.791810506567 70.63050508499146\n",
      "   \t      \t                         fitness                          \t              size             \n",
      "   \t      \t----------------------------------------------------------\t-------------------------------\n",
      "gen\tnevals\tavg     \tmax     \tmin     \tstd       \tavg    \tmax\tmin\tstd    \n",
      "0  \t300   \t0.791561\t0.803182\t0.762436\t0.00283412\t4.21333\t14 \t2  \t2.59894\n",
      "1  \t175   \t0.792822\t0.803182\t0.7645  \t0.00279217\t4.53333\t16 \t2  \t3.24688\n",
      "2  \t173   \t0.795679\t0.806216\t0.790983\t0.0039256 \t5.15333\t20 \t1  \t3.44816\n",
      "3  \t161   \t0.79897 \t0.806216\t0.791123\t0.00523332\t4.34667\t18 \t1  \t2.81895\n",
      "4  \t162   \t0.800367\t0.806216\t0.79118 \t0.00532885\t4.12333\t14 \t1  \t1.82431\n",
      "5  \t171   \t0.800847\t0.809842\t0.791166\t0.00610896\t5.52333\t11 \t1  \t2.10621\n",
      "6  \t184   \t0.801158\t0.815129\t0.744754\t0.00745981\t7.03333\t15 \t1  \t1.97962\n",
      "7  \t165   \t0.803813\t0.815129\t0.7902  \t0.00782564\t7.84   \t17 \t1  \t2.62572\n",
      "8  \t159   \t0.806724\t0.815129\t0.791166\t0.00877857\t8.4    \t17 \t1  \t2.41937\n",
      "9  \t169   \t0.809327\t0.815129\t0.791047\t0.00817269\t8.64   \t15 \t1  \t2.16265\n"
     ]
    },
    {
     "name": "stderr",
     "output_type": "stream",
     "text": [
      "\r",
      "  2%|▏         | 2/100 [02:24<1:57:04, 71.68s/it]"
     ]
    },
    {
     "name": "stdout",
     "output_type": "stream",
     "text": [
      "10 \t169   \t0.808742\t0.815129\t0.79154 \t0.00869601\t8.61   \t15 \t1  \t2.29301\n",
      "12 0.81512911917 0.817167102108 0.809346466542 74.08298707008362\n",
      "   \t      \t                         fitness                          \t              size             \n",
      "   \t      \t----------------------------------------------------------\t-------------------------------\n",
      "gen\tnevals\tavg     \tmax     \tmin     \tstd       \tavg    \tmax\tmin\tstd    \n",
      "0  \t300   \t0.814339\t0.820599\t0.756098\t0.00619905\t4.27667\t14 \t2  \t2.45902\n",
      "1  \t159   \t0.815264\t0.820599\t0.75943 \t0.00403674\t3.96333\t11 \t1  \t2.01213\n",
      "2  \t162   \t0.816465\t0.821354\t0.814607\t0.00169043\t3.89667\t10 \t1  \t1.70078\n",
      "3  \t144   \t0.818111\t0.821354\t0.814666\t0.00218709\t4.55   \t11 \t1  \t1.40979\n",
      "4  \t156   \t0.818658\t0.821354\t0.814877\t0.00263825\t3.38   \t10 \t1  \t0.984344\n",
      "5  \t140   \t0.819979\t0.821354\t0.814292\t0.00238328\t3.05333\t9  \t1  \t0.651016\n",
      "6  \t152   \t0.819747\t0.821354\t0.814635\t0.00248942\t3.12667\t9  \t1  \t0.728438\n",
      "7  \t155   \t0.819709\t0.821354\t0.814181\t0.00252246\t3.14667\t9  \t1  \t0.760585\n",
      "8  \t161   \t0.819597\t0.821354\t0.780715\t0.00336296\t3.06667\t9  \t1  \t0.649786\n",
      "9  \t170   \t0.819657\t0.821354\t0.814825\t0.00253998\t3.05667\t6  \t1  \t0.462013\n"
     ]
    },
    {
     "name": "stderr",
     "output_type": "stream",
     "text": [
      "\r",
      "  3%|▎         | 3/100 [03:45<2:00:19, 74.42s/it]"
     ]
    },
    {
     "name": "stdout",
     "output_type": "stream",
     "text": [
      "10 \t199   \t0.819664\t0.826639\t0.814803\t0.00257315\t3.07   \t9  \t1  \t0.604235\n",
      "13 0.8266385471 0.828813356354 0.817717323327 80.79942798614502\n",
      "   \t      \t                        fitness                         \t              size             \n",
      "   \t      \t--------------------------------------------------------\t-------------------------------\n",
      "gen\tnevals\tavg     \tmax     \tmin     \tstd     \tavg    \tmax\tmin\tstd    \n",
      "0  \t300   \t0.826138\t0.829364\t0.755583\t0.005752\t4.01667\t15 \t2  \t2.60315\n",
      "1  \t161   \t0.826368\t0.829364\t0.747299\t0.00611097\t3.48   \t11 \t1  \t1.9034 \n",
      "2  \t190   \t0.827291\t0.830489\t0.812819\t0.00136259\t3.21333\t15 \t1  \t1.49927\n",
      "3  \t159   \t0.828235\t0.830489\t0.826194\t0.00130645\t3.43   \t7  \t1  \t0.961821\n",
      "4  \t155   \t0.828602\t0.830489\t0.826194\t0.00152999\t3.88333\t11 \t1  \t1.20404 \n",
      "5  \t148   \t0.829151\t0.830489\t0.826191\t0.00160625\t4.89333\t11 \t1  \t1.11742 \n",
      "6  \t165   \t0.82909 \t0.833149\t0.826191\t0.00174577\t5.13333\t11 \t1  \t1.31993 \n",
      "7  \t165   \t0.829067\t0.833149\t0.826085\t0.00182531\t5.28333\t12 \t2  \t1.31519 \n",
      "8  \t187   \t0.829083\t0.833149\t0.826191\t0.0021757 \t5.77333\t13 \t1  \t1.76691 \n",
      "9  \t157   \t0.830152\t0.833149\t0.826194\t0.00264258\t6.53667\t15 \t1  \t1.65388 \n"
     ]
    },
    {
     "name": "stderr",
     "output_type": "stream",
     "text": [
      "\r",
      "  4%|▍         | 4/100 [05:21<2:09:22, 80.86s/it]"
     ]
    },
    {
     "name": "stdout",
     "output_type": "stream",
     "text": [
      "10 \t166   \t0.83054 \t0.833149\t0.746535\t0.00568086\t6.73333\t12 \t1  \t1.65395 \n",
      "14 0.833148575183 0.835146696329 0.826150719199 95.84841203689575\n",
      "   \t      \t                         fitness                          \t             size             \n",
      "   \t      \t----------------------------------------------------------\t------------------------------\n",
      "gen\tnevals\tavg     \tmax     \tmin     \tstd       \tavg\tmax\tmin\tstd   \n",
      "0  \t300   \t0.832787\t0.836943\t0.788491\t0.00318237\t4  \t15 \t2  \t2.3622\n",
      "1  \t159   \t0.833528\t0.836943\t0.822726\t0.001101  \t4.10333\t12 \t1  \t2.41923\n",
      "2  \t162   \t0.834557\t0.836944\t0.83258 \t0.00148132\t6.18333\t18 \t1  \t3.61797\n",
      "3  \t161   \t0.835787\t0.841238\t0.832309\t0.00174121\t9.38667\t16 \t1  \t2.66905\n",
      "4  \t176   \t0.836012\t0.841238\t0.83231 \t0.00211897\t10.4633\t18 \t1  \t2.56424\n",
      "5  \t191   \t0.836761\t0.841238\t0.832488\t0.00282141\t10.7533\t19 \t1  \t2.91533\n",
      "6  \t172   \t0.837605\t0.841238\t0.820097\t0.00383226\t9.36   \t19 \t1  \t2.35168\n",
      "7  \t174   \t0.837863\t0.841238\t0.832643\t0.00366164\t8.97333\t15 \t1  \t1.82555\n",
      "8  \t169   \t0.837614\t0.841238\t0.782887\t0.00486331\t9.03333\t15 \t2  \t1.79969\n",
      "9  \t159   \t0.838016\t0.841238\t0.832669\t0.00365152\t8.91   \t14 \t1  \t1.68579\n"
     ]
    },
    {
     "name": "stderr",
     "output_type": "stream",
     "text": [
      "\r",
      "  5%|▌         | 5/100 [07:03<2:18:10, 87.27s/it]"
     ]
    },
    {
     "name": "stdout",
     "output_type": "stream",
     "text": [
      "10 \t162   \t0.837903\t0.841238\t0.832669\t0.00360367\t8.98667\t15 \t1  \t2.02151\n",
      "15 0.841238425063 0.843386875647 0.836139774859 102.21584105491638\n",
      "   \t      \t                         fitness                          \t              size             \n",
      "   \t      \t----------------------------------------------------------\t-------------------------------\n",
      "gen\tnevals\tavg     \tmax     \tmin     \tstd       \tavg    \tmax\tmin\tstd    \n",
      "0  \t300   \t0.841102\t0.845365\t0.799799\t0.00243167\t4.14667\t14 \t2  \t2.39551\n",
      "1  \t161   \t0.841562\t0.845365\t0.840714\t0.000928811\t4.71667\t17 \t1  \t3.23363\n",
      "2  \t149   \t0.842475\t0.845555\t0.840353\t0.00163013 \t4.46   \t14 \t1  \t2.41421\n",
      "3  \t166   \t0.843543\t0.845555\t0.840806\t0.00190219 \t3.32333\t8  \t1  \t0.901178\n",
      "4  \t165   \t0.843769\t0.845555\t0.840814\t0.00192822 \t3.51333\t9  \t1  \t1.03109 \n",
      "5  \t141   \t0.844194\t0.845555\t0.840408\t0.00183671 \t4.48333\t9  \t1  \t1.19849 \n",
      "6  \t177   \t0.843837\t0.845555\t0.840845\t0.00189901 \t5.02667\t12 \t1  \t1.28813 \n",
      "7  \t179   \t0.84396 \t0.845555\t0.841056\t0.00184909 \t5.11333\t12 \t1  \t1.31421 \n",
      "8  \t183   \t0.843924\t0.845555\t0.815512\t0.00246228 \t5.07667\t11 \t1  \t1.25862 \n",
      "9  \t141   \t0.844194\t0.845555\t0.840819\t0.00181692 \t5.07333\t11 \t2  \t1.03664 \n"
     ]
    },
    {
     "name": "stderr",
     "output_type": "stream",
     "text": [
      "\r",
      "  6%|▌         | 6/100 [08:48<2:24:54, 92.50s/it]"
     ]
    },
    {
     "name": "stdout",
     "output_type": "stream",
     "text": [
      "10 \t158   \t0.844296\t0.845555\t0.840677\t0.00178428 \t5.04333\t11 \t1  \t1.00737 \n",
      "16 0.845555051024 0.847533630973 0.843156660413 104.67096710205078\n",
      "   \t      \t                         fitness                          \t              size             \n",
      "   \t      \t----------------------------------------------------------\t-------------------------------\n",
      "gen\tnevals\tavg     \tmax     \tmin     \tstd       \tavg \tmax\tmin\tstd    \n",
      "0  \t300   \t0.844738\t0.847241\t0.794312\t0.00511208\t4.25\t14 \t2  \t2.50882\n",
      "1  \t164   \t0.845119\t0.847295\t0.765798\t0.00636476\t4.50667\t15 \t1  \t2.47587\n",
      "2  \t147   \t0.845502\t0.847517\t0.789622\t0.00469605\t4.48333\t13 \t1  \t2.16712\n",
      "3  \t167   \t0.846494\t0.847743\t0.844995\t0.000811194\t4.66667\t13 \t1  \t2.10924\n",
      "4  \t176   \t0.846659\t0.850015\t0.844957\t0.000918664\t6.44667\t15 \t1  \t2.16498\n",
      "5  \t161   \t0.846878\t0.850015\t0.844887\t0.0010291  \t7.54667\t15 \t3  \t1.79661\n",
      "6  \t160   \t0.847235\t0.850015\t0.844954\t0.0012554  \t8.29333\t16 \t1  \t2.22874\n",
      "7  \t159   \t0.847869\t0.850776\t0.844862\t0.00178622 \t7.87667\t15 \t2  \t2.12009\n",
      "8  \t161   \t0.848355\t0.850776\t0.845037\t0.00203563 \t7.19667\t14 \t1  \t1.88626\n",
      "9  \t177   \t0.848587\t0.850776\t0.845044\t0.00218432 \t7.89667\t15 \t1  \t2.27581\n"
     ]
    },
    {
     "name": "stderr",
     "output_type": "stream",
     "text": [
      "\r",
      "  7%|▋         | 7/100 [11:03<2:43:19, 105.37s/it]"
     ]
    },
    {
     "name": "stdout",
     "output_type": "stream",
     "text": [
      "10 \t136   \t0.849427\t0.850776\t0.845151\t0.00205813 \t8.72333\t15 \t1  \t1.85655\n",
      "17 0.850775567194 0.852981436398 0.84521575985 135.36774563789368\n",
      "   \t      \t                     fitness                     \t              size             \n",
      "   \t      \t-------------------------------------------------\t-------------------------------\n",
      "gen\tnevals\tavg    \tmax     \tmin     \tstd      \tavg    \tmax\tmin\tstd    \n",
      "0  \t300   \t0.84942\t0.855161\t0.521612\t0.0192119\t4.09333\t14 \t2  \t2.50159\n",
      "1  \t157   \t0.850694\t0.855161\t0.813759\t0.0027707\t4.58   \t16 \t1  \t2.84902\n",
      "2  \t188   \t0.851232\t0.855161\t0.811781\t0.00340134\t4.65333\t16 \t1  \t2.4819 \n",
      "3  \t157   \t0.85321 \t0.855161\t0.850078\t0.00213743\t3.59   \t11 \t1  \t1.41017\n",
      "4  \t166   \t0.853599\t0.855161\t0.850284\t0.0021519 \t3.11333\t9  \t1  \t0.721449\n",
      "5  \t153   \t0.853584\t0.855161\t0.850118\t0.00214579\t3.12333\t8  \t1  \t0.590019\n",
      "6  \t164   \t0.853561\t0.855161\t0.85037 \t0.00217084\t3.09   \t9  \t1  \t0.659722\n",
      "7  \t176   \t0.853347\t0.855161\t0.850045\t0.00221602\t3.18333\t8  \t1  \t0.745915\n",
      "8  \t170   \t0.85356 \t0.855161\t0.817197\t0.00298645\t3.07   \t9  \t1  \t0.677077\n",
      "9  \t169   \t0.853998\t0.855161\t0.850015\t0.0019871 \t3.09667\t8  \t1  \t0.64858 \n"
     ]
    },
    {
     "name": "stderr",
     "output_type": "stream",
     "text": [
      "\r",
      "  8%|▊         | 8/100 [13:30<3:00:43, 117.87s/it]"
     ]
    },
    {
     "name": "stdout",
     "output_type": "stream",
     "text": [
      "10 \t166   \t0.853684\t0.855161\t0.850339\t0.00212695\t3.05667\t8  \t1  \t0.571655\n",
      "18 0.855160788248 0.85742083032 0.848688242652 147.0050950050354\n",
      "   \t      \t                         fitness                         \t              size             \n",
      "   \t      \t---------------------------------------------------------\t-------------------------------\n",
      "gen\tnevals\tavg     \tmax     \tmin     \tstd      \tavg \tmax\tmin\tstd    \n",
      "0  \t300   \t0.854166\t0.856917\t0.597364\t0.0149016\t4.06\t15 \t2  \t2.52383\n",
      "1  \t146   \t0.85474 \t0.856917\t0.810738\t0.00471712\t4.50667\t15 \t2  \t2.52123\n",
      "2  \t165   \t0.855129\t0.856917\t0.769226\t0.00534256\t4.30667\t12 \t1  \t2.10854\n",
      "3  \t162   \t0.855843\t0.857574\t0.834386\t0.00150852\t3.67333\t11 \t1  \t1.32412\n",
      "4  \t148   \t0.856297\t0.857576\t0.854622\t0.00088821\t3.21667\t9  \t1  \t0.806053\n",
      "5  \t140   \t0.856375\t0.857576\t0.833555\t0.00161625\t3.61   \t9  \t1  \t1.06046 \n",
      "6  \t165   \t0.856382\t0.857576\t0.831276\t0.00186255\t4.72667\t11 \t1  \t1.30331 \n",
      "7  \t176   \t0.856541\t0.857576\t0.854737\t0.00122043\t5.02333\t9  \t1  \t1.19838 \n",
      "8  \t168   \t0.856487\t0.857576\t0.854737\t0.00122111\t5.06667\t10 \t1  \t1.16428 \n",
      "9  \t179   \t0.85638 \t0.857576\t0.854724\t0.0012265 \t5.03667\t13 \t1  \t1.31225 \n"
     ]
    },
    {
     "name": "stderr",
     "output_type": "stream",
     "text": [
      "\r",
      "  9%|▉         | 9/100 [16:17<3:21:09, 132.63s/it]"
     ]
    },
    {
     "name": "stdout",
     "output_type": "stream",
     "text": [
      "10 \t138   \t0.85669 \t0.857576\t0.854737\t0.00118893\t5.05667\t10 \t3  \t0.868018\n",
      "19 0.857576499147 0.859767213616 0.851837085679 167.0345311164856\n",
      "   \t      \t                    fitness                     \t              size             \n",
      "   \t      \t------------------------------------------------\t-------------------------------\n",
      "gen\tnevals\tavg    \tmax     \tmin     \tstd     \tavg \tmax\tmin\tstd    \n",
      "0  \t300   \t0.85672\t0.861258\t0.794858\t0.005975\t4.07\t14 \t2  \t2.59842\n",
      "1  \t166   \t0.857556\t0.861258\t0.821563\t0.00223024\t4.61333\t13 \t1  \t2.76475\n",
      "2  \t171   \t0.857908\t0.861285\t0.811369\t0.00299574\t5.56   \t13 \t1  \t2.51788\n",
      "3  \t152   \t0.859052\t0.861285\t0.853051\t0.00171277\t4.66667\t9  \t1  \t1.89444\n",
      "4  \t174   \t0.859947\t0.861308\t0.85717 \t0.00175644\t4.07   \t11 \t1  \t1.65884\n",
      "5  \t173   \t0.859912\t0.861356\t0.856893\t0.00179203\t5.62   \t11 \t2  \t1.34497\n",
      "6  \t147   \t0.860312\t0.861486\t0.857242\t0.00163679\t6.4    \t12 \t1  \t1.249  \n",
      "7  \t161   \t0.86039 \t0.861709\t0.857063\t0.00160424\t7.35333\t13 \t1  \t1.76309\n",
      "8  \t149   \t0.860387\t0.861709\t0.857063\t0.00169618\t7.41   \t13 \t1  \t1.84984\n",
      "9  \t157   \t0.860785\t0.861921\t0.857235\t0.00147921\t8.52   \t16 \t3  \t1.69202\n"
     ]
    },
    {
     "name": "stderr",
     "output_type": "stream",
     "text": [
      "\r",
      " 10%|█         | 10/100 [19:38<3:49:44, 153.16s/it]"
     ]
    },
    {
     "name": "stdout",
     "output_type": "stream",
     "text": [
      "10 \t156   \t0.860692\t0.861921\t0.857078\t0.00165647\t8.74667\t17 \t1  \t1.79327\n",
      "20 0.861920979102 0.864102289106 0.85457942464 201.02500772476196\n",
      "   \t      \t                         fitness                         \t              size             \n",
      "   \t      \t---------------------------------------------------------\t-------------------------------\n",
      "gen\tnevals\tavg     \tmax     \tmin     \tstd      \tavg    \tmax\tmin\tstd    \n",
      "0  \t300   \t0.860666\t0.862415\t0.588644\t0.0158977\t4.02667\t14 \t2  \t2.52704\n",
      "1  \t172   \t0.861988\t0.862716\t0.85998 \t0.000254715\t4.72333\t14 \t1  \t3.05398\n",
      "2  \t173   \t0.862053\t0.862716\t0.853421\t0.000882117\t5.96667\t17 \t1  \t3.44754\n",
      "3  \t167   \t0.862017\t0.863144\t0.850729\t0.00141923 \t4.56667\t14 \t1  \t2.51639\n",
      "4  \t163   \t0.862336\t0.863185\t0.857151\t0.000471916\t4.30667\t14 \t2  \t1.85633\n",
      "5  \t161   \t0.862563\t0.863716\t0.861533\t0.000378064\t5.12333\t10 \t1  \t1.81699\n",
      "6  \t166   \t0.862603\t0.863717\t0.812007\t0.00295969 \t6.98   \t15 \t2  \t1.6989 \n",
      "7  \t143   \t0.862903\t0.863717\t0.861586\t0.000506719\t7.89   \t13 \t1  \t1.62826\n",
      "8  \t161   \t0.862948\t0.863717\t0.815641\t0.00279538 \t7.77333\t14 \t1  \t1.58807\n",
      "9  \t164   \t0.863138\t0.863717\t0.861443\t0.000659371\t6.98667\t11 \t3  \t1.40232\n"
     ]
    },
    {
     "name": "stderr",
     "output_type": "stream",
     "text": [
      "\r",
      " 11%|█         | 11/100 [23:51<4:31:35, 183.10s/it]"
     ]
    },
    {
     "name": "stdout",
     "output_type": "stream",
     "text": [
      "10 \t189   \t0.863084\t0.863717\t0.861658\t0.000646884\t6.99333\t12 \t2  \t1.26226\n",
      "21 0.863717429204 0.865742569461 0.854482489056 252.90776300430298\n",
      "   \t      \t                         fitness                          \t              size             \n",
      "   \t      \t----------------------------------------------------------\t-------------------------------\n",
      "gen\tnevals\tavg     \tmax     \tmin     \tstd       \tavg \tmax\tmin\tstd    \n",
      "0  \t300   \t0.863453\t0.864314\t0.830233\t0.00207192\t3.96\t14 \t2  \t2.59199\n",
      "1  \t162   \t0.863645\t0.864315\t0.843908\t0.00147481\t3.86667\t12 \t1  \t1.82817\n",
      "2  \t150   \t0.863722\t0.864584\t0.816947\t0.00277694\t4.29   \t16 \t1  \t2.19528\n",
      "3  \t165   \t0.86357 \t0.864584\t0.782969\t0.00575154\t3.52   \t12 \t1  \t1.42931\n",
      "4  \t161   \t0.864131\t0.865227\t0.863357\t0.000399407\t3.49333\t9  \t1  \t1.07236\n",
      "5  \t169   \t0.86418 \t0.865227\t0.863387\t0.000476972\t3.98333\t9  \t1  \t1.11492\n",
      "6  \t153   \t0.86427 \t0.865227\t0.863362\t0.000506116\t4.17   \t11 \t1  \t1.30682\n",
      "7  \t152   \t0.86445 \t0.865841\t0.863175\t0.000680597\t4.61667\t11 \t1  \t1.20957\n",
      "8  \t166   \t0.864764\t0.865922\t0.861688\t0.000867733\t5.13333\t11 \t1  \t1.4453 \n",
      "9  \t154   \t0.864895\t0.865923\t0.853359\t0.00129309 \t5.93333\t13 \t1  \t2.14528\n"
     ]
    },
    {
     "name": "stderr",
     "output_type": "stream",
     "text": [
      "\r",
      " 12%|█▏        | 12/100 [27:43<4:49:54, 197.66s/it]"
     ]
    },
    {
     "name": "stdout",
     "output_type": "stream",
     "text": [
      "10 \t165   \t0.865243\t0.865929\t0.863225\t0.00085284 \t7.3    \t15 \t1  \t2.57099\n",
      "22 0.86592883019 0.868255588753 0.855612883052 231.59488105773926\n",
      "   \t      \t                         fitness                          \t             size             \n",
      "   \t      \t----------------------------------------------------------\t------------------------------\n",
      "gen\tnevals\tavg     \tmax     \tmin     \tstd       \tavg \tmax\tmin\tstd   \n",
      "0  \t300   \t0.865458\t0.866234\t0.827447\t0.00306342\t4.05\t13 \t2  \t2.2644\n",
      "1  \t159   \t0.865405\t0.867257\t0.812215\t0.00477508\t4.25333\t11 \t1  \t2.12505\n",
      "2  \t162   \t0.866008\t0.867257\t0.845565\t0.00122132\t5.00667\t14 \t1  \t2.4752 \n",
      "3  \t148   \t0.86629 \t0.867257\t0.865404\t0.000489688\t5.18   \t14 \t1  \t2.20475\n",
      "4  \t150   \t0.866575\t0.867258\t0.865546\t0.000647741\t3.82667\t11 \t1  \t1.51326\n",
      "5  \t143   \t0.86692 \t0.867259\t0.865408\t0.000604444\t3.12333\t8  \t1  \t0.740353\n",
      "6  \t133   \t0.86687 \t0.867259\t0.8656  \t0.000630673\t3.11667\t9  \t1  \t0.754799\n",
      "7  \t160   \t0.866834\t0.867259\t0.865502\t0.000643901\t3.11333\t8  \t1  \t0.707452\n",
      "8  \t171   \t0.86676 \t0.867366\t0.86568 \t0.000668894\t3.23667\t9  \t1  \t1.03311 \n",
      "9  \t159   \t0.866815\t0.867366\t0.865595\t0.000657352\t3.15   \t8  \t1  \t0.726292\n"
     ]
    },
    {
     "name": "stderr",
     "output_type": "stream",
     "text": [
      "\r",
      " 13%|█▎        | 13/100 [31:40<5:03:39, 209.42s/it]"
     ]
    },
    {
     "name": "stdout",
     "output_type": "stream",
     "text": [
      "10 \t145   \t0.866809\t0.867366\t0.865616\t0.000677516\t3.59667\t10 \t1  \t1.14046 \n",
      "23 0.867366084195 0.870120231876 0.85794246404 236.79054307937622\n",
      "   \t      \t                         fitness                         \t             size             \n",
      "   \t      \t---------------------------------------------------------\t------------------------------\n",
      "gen\tnevals\tavg     \tmax     \tmin     \tstd      \tavg    \tmax\tmin\tstd   \n",
      "0  \t300   \t0.866106\t0.868106\t0.604372\t0.0155844\t4.09333\t14 \t2  \t2.6124\n",
      "1  \t172   \t0.867151\t0.868106\t0.823046\t0.00298756\t4.13667\t12 \t1  \t2.4368\n",
      "2  \t144   \t0.867235\t0.868127\t0.834431\t0.00315744\t4.46667\t12 \t1  \t2.14683\n",
      "3  \t162   \t0.867481\t0.868922\t0.834432\t0.00228567\t5.56667\t14 \t1  \t1.9897 \n",
      "4  \t160   \t0.867855\t0.868922\t0.856402\t0.000770902\t7.13   \t17 \t1  \t1.97816\n",
      "5  \t187   \t0.867965\t0.868922\t0.860334\t0.000729516\t7.61   \t13 \t1  \t2.32477\n",
      "6  \t189   \t0.867448\t0.868922\t0.834737\t0.00364783 \t7.69333\t14 \t3  \t2.46156\n",
      "7  \t173   \t0.868066\t0.868924\t0.853314\t0.00123897 \t5.88333\t16 \t1  \t2.12675\n",
      "8  \t171   \t0.868259\t0.868925\t0.860848\t0.000854599\t5.15333\t11 \t1  \t1.27403\n",
      "9  \t171   \t0.868142\t0.868926\t0.835815\t0.00201465 \t5.10667\t10 \t1  \t1.19804\n"
     ]
    },
    {
     "name": "stderr",
     "output_type": "stream",
     "text": [
      "\r",
      " 14%|█▍        | 14/100 [37:04<5:49:17, 243.70s/it]"
     ]
    },
    {
     "name": "stdout",
     "output_type": "stream",
     "text": [
      "10 \t173   \t0.868122\t0.868926\t0.832386\t0.00266125 \t5.05   \t10 \t1  \t1.19478\n",
      "24 0.868926013881 0.871392467428 0.859599749844 323.6360671520233\n",
      "   \t      \t                         fitness                          \t              size             \n",
      "   \t      \t----------------------------------------------------------\t-------------------------------\n",
      "gen\tnevals\tavg     \tmax     \tmin     \tstd       \tavg    \tmax\tmin\tstd    \n",
      "0  \t300   \t0.868403\t0.869513\t0.811936\t0.00394111\t4.03333\t14 \t2  \t2.38723\n",
      "1  \t163   \t0.868854\t0.86959 \t0.850248\t0.00145463\t3.85667\t13 \t1  \t2.18696\n",
      "2  \t177   \t0.868998\t0.869599\t0.852908\t0.00106082\t3.67333\t13 \t1  \t1.79256\n",
      "3  \t177   \t0.86924 \t0.869622\t0.86834 \t0.000329132\t4.86667\t10 \t1  \t1.73461\n",
      "4  \t155   \t0.869316\t0.869622\t0.868279\t0.00035364 \t6.22667\t13 \t1  \t1.79312\n",
      "5  \t171   \t0.869327\t0.870181\t0.868161\t0.000371472\t6.17   \t12 \t1  \t2.05291\n",
      "6  \t188   \t0.869294\t0.870181\t0.868586\t0.000368044\t6.49667\t12 \t1  \t2.31876\n",
      "7  \t153   \t0.869416\t0.870181\t0.8656  \t0.000461314\t7.46667\t16 \t1  \t2.83706\n",
      "8  \t149   \t0.869665\t0.870571\t0.868248\t0.000478385\t9.28   \t17 \t1  \t2.11067\n",
      "9  \t161   \t0.869722\t0.870572\t0.868292\t0.000589356\t8.85667\t13 \t1  \t1.6821 \n"
     ]
    },
    {
     "name": "stderr",
     "output_type": "stream",
     "text": [
      "\r",
      " 15%|█▌        | 15/100 [41:41<5:59:27, 253.74s/it]"
     ]
    },
    {
     "name": "stdout",
     "output_type": "stream",
     "text": [
      "10 \t170   \t0.869702\t0.870572\t0.86827 \t0.000634923\t8.44   \t12 \t2  \t1.46278\n",
      "25 0.87057174944 0.873237184559 0.860678549093 277.1196868419647\n",
      "   \t      \t                         fitness                         \t              size             \n",
      "   \t      \t---------------------------------------------------------\t-------------------------------\n",
      "gen\tnevals\tavg     \tmax     \tmin     \tstd      \tavg \tmax\tmin\tstd    \n",
      "0  \t300   \t0.868916\t0.870922\t0.612064\t0.0158522\t3.97\t14 \t2  \t2.46896\n",
      "1  \t162   \t0.870144\t0.87102 \t0.818626\t0.00439562\t3.89\t13 \t1  \t2.37723\n",
      "2  \t150   \t0.870566\t0.87235 \t0.847718\t0.00137998\t3.6 \t13 \t1  \t1.89737\n",
      "3  \t179   \t0.870684\t0.87235 \t0.84036 \t0.00177515\t3.10333\t8  \t1  \t0.547103\n",
      "4  \t171   \t0.870807\t0.87235 \t0.853298\t0.00112405\t3.23333\t9  \t1  \t0.765216\n",
      "5  \t173   \t0.871146\t0.872354\t0.862926\t0.000917973\t3.64667\t8  \t1  \t0.89916 \n",
      "6  \t184   \t0.87158 \t0.872355\t0.870064\t0.000883287\t3.99667\t10 \t1  \t0.838643\n",
      "7  \t153   \t0.871672\t0.872355\t0.848428\t0.00158735 \t4.09333\t9  \t1  \t0.823381\n",
      "8  \t141   \t0.871748\t0.872355\t0.870123\t0.000850356\t4.00667\t9  \t1  \t0.716442\n",
      "9  \t159   \t0.87168 \t0.872355\t0.870271\t0.000868464\t3.97   \t10 \t1  \t0.767529\n"
     ]
    },
    {
     "name": "stderr",
     "output_type": "stream",
     "text": [
      "\r",
      " 16%|█▌        | 16/100 [46:28<6:09:27, 263.90s/it]"
     ]
    },
    {
     "name": "stdout",
     "output_type": "stream",
     "text": [
      "10 \t153   \t0.87168 \t0.872355\t0.870109\t0.000868025\t4.03   \t10 \t1  \t0.767529\n",
      "26 0.872354628029 0.875044198586 0.86259380863 287.5825619697571\n",
      "   \t      \t                         fitness                         \t              size             \n",
      "   \t      \t---------------------------------------------------------\t-------------------------------\n",
      "gen\tnevals\tavg     \tmax     \tmin     \tstd      \tavg    \tmax\tmin\tstd    \n",
      "0  \t300   \t0.871137\t0.872674\t0.564218\t0.0178399\t4.15667\t14 \t2  \t2.72986\n",
      "1  \t169   \t0.871218\t0.873087\t0.586139\t0.0166831\t4.43333\t14 \t1  \t2.83176\n",
      "2  \t167   \t0.872318\t0.873087\t0.838925\t0.00198822\t3.72333\t14 \t1  \t2.15409\n",
      "3  \t164   \t0.872407\t0.873109\t0.831619\t0.00237337\t3.26333\t11 \t1  \t1.48571\n",
      "4  \t153   \t0.872518\t0.873149\t0.812742\t0.0034745 \t4.48333\t11 \t1  \t1.41058\n",
      "5  \t173   \t0.872823\t0.87315 \t0.871837\t0.000379421\t5.16667\t11 \t1  \t1.26973\n",
      "6  \t173   \t0.872868\t0.873188\t0.871303\t0.000368991\t5.80667\t13 \t1  \t1.66011\n",
      "7  \t159   \t0.872936\t0.873233\t0.871874\t0.000345812\t6.46   \t13 \t1  \t1.75168\n",
      "8  \t164   \t0.872906\t0.873523\t0.86735 \t0.00048462 \t6.17   \t11 \t1  \t1.14066\n",
      "9  \t181   \t0.872917\t0.873523\t0.871574\t0.000396379\t6.31333\t12 \t3  \t1.22277\n"
     ]
    },
    {
     "name": "stderr",
     "output_type": "stream",
     "text": [
      "\r",
      " 17%|█▋        | 17/100 [51:40<6:25:01, 278.33s/it]"
     ]
    },
    {
     "name": "stdout",
     "output_type": "stream",
     "text": [
      "10 \t174   \t0.872955\t0.873525\t0.872012\t0.00043596 \t6.53333\t12 \t1  \t1.42439\n",
      "27 0.873524912769 0.876190919921 0.865775484678 311.92379808425903\n",
      "   \t      \t                    fitness                     \t              size             \n",
      "   \t      \t------------------------------------------------\t-------------------------------\n",
      "gen\tnevals\tavg    \tmax     \tmin     \tstd     \tavg    \tmax\tmin\tstd    \n",
      "0  \t300   \t0.87186\t0.873941\t0.486037\t0.022445\t4.00333\t14 \t2  \t2.55408\n",
      "1  \t185   \t0.873421\t0.874106\t0.861339\t0.000895636\t4.58667\t15 \t1  \t2.65377\n",
      "2  \t160   \t0.873331\t0.874106\t0.81172 \t0.00369464 \t5.06667\t15 \t1  \t2.78248\n",
      "3  \t150   \t0.873755\t0.874236\t0.869078\t0.000434167\t5.66   \t15 \t1  \t2.52937\n",
      "4  \t165   \t0.873589\t0.874237\t0.811657\t0.00361141 \t6.1    \t16 \t1  \t3.0282 \n",
      "5  \t159   \t0.873832\t0.874237\t0.838714\t0.00212143 \t3.88333\t11 \t1  \t1.86808\n",
      "6  \t189   \t0.873843\t0.874749\t0.872551\t0.000430482\t5.49667\t13 \t1  \t2.48395\n",
      "7  \t168   \t0.873664\t0.874749\t0.8125  \t0.00361253 \t7.48333\t14 \t1  \t2.00742\n",
      "8  \t168   \t0.87389 \t0.874979\t0.845196\t0.0018974  \t8      \t13 \t2  \t1.40712\n",
      "9  \t186   \t0.874194\t0.874979\t0.868061\t0.000796658\t7.87333\t12 \t1  \t1.48682\n"
     ]
    },
    {
     "name": "stderr",
     "output_type": "stream",
     "text": [
      "\r",
      " 18%|█▊        | 18/100 [57:51<6:58:03, 305.90s/it]"
     ]
    },
    {
     "name": "stdout",
     "output_type": "stream",
     "text": [
      "10 \t168   \t0.873914\t0.874982\t0.819491\t0.00445612 \t7.80667\t13 \t2  \t1.40569\n",
      "28 0.874981646633 0.877929853474 0.866835522201 370.1899662017822\n",
      "   \t      \t                         fitness                          \t              size             \n",
      "   \t      \t----------------------------------------------------------\t-------------------------------\n",
      "gen\tnevals\tavg     \tmax     \tmin     \tstd       \tavg \tmax\tmin\tstd    \n",
      "0  \t300   \t0.874651\t0.875437\t0.799905\t0.00432628\t4.03\t13 \t2  \t2.41849\n",
      "1  \t167   \t0.874972\t0.875437\t0.865179\t0.000593967\t4.57\t13 \t1  \t2.8021 \n",
      "2  \t151   \t0.874969\t0.875442\t0.841936\t0.00193202 \t4.48333\t18 \t1  \t2.7282 \n",
      "3  \t177   \t0.875107\t0.876167\t0.862269\t0.000792077\t4.09667\t12 \t1  \t1.76087\n",
      "4  \t146   \t0.875279\t0.876167\t0.874659\t0.000253687\t3.74   \t6  \t1  \t0.905023\n",
      "5  \t163   \t0.875303\t0.876167\t0.874669\t0.000332396\t3.82667\t7  \t1  \t1.05985 \n",
      "6  \t137   \t0.87542 \t0.876168\t0.86388 \t0.000840969\t3.63   \t10 \t1  \t1.0676  \n",
      "7  \t163   \t0.874697\t0.876168\t0.572623\t0.0174811  \t3.20667\t9  \t1  \t0.842984\n",
      "8  \t140   \t0.87571 \t0.876168\t0.855558\t0.00133942 \t3.05   \t8  \t1  \t0.578072\n",
      "9  \t164   \t0.875778\t0.876168\t0.873949\t0.000620225\t3.12333\t9  \t1  \t0.72672 \n"
     ]
    },
    {
     "name": "stderr",
     "output_type": "stream",
     "text": [
      "\r",
      " 19%|█▉        | 19/100 [1:03:44<7:12:02, 320.03s/it]"
     ]
    },
    {
     "name": "stdout",
     "output_type": "stream",
     "text": [
      "10 \t168   \t0.875715\t0.876169\t0.874532\t0.000638481\t3.16   \t9  \t1  \t0.800666\n",
      "29 0.876168671224 0.879030178502 0.866885553471 352.95228123664856\n",
      "   \t      \t                 fitness                 \t              size             \n",
      "   \t      \t-----------------------------------------\t-------------------------------\n",
      "gen\tnevals\tavg    \tmax     \tmin    \tstd      \tavg \tmax\tmin\tstd    \n",
      "0  \t300   \t0.87441\t0.877354\t0.48887\t0.0225668\t3.74\t15 \t2  \t2.29762\n",
      "1  \t163   \t0.876231\t0.877354\t0.875729\t0.000196869\t3.85\t13 \t1  \t2.03818\n",
      "2  \t175   \t0.876349\t0.878068\t0.873828\t0.000375209\t3.63333\t8  \t1  \t1.49629\n",
      "3  \t155   \t0.876614\t0.878069\t0.875719\t0.000573021\t4.00333\t8  \t1  \t1.27932\n",
      "4  \t173   \t0.876803\t0.878071\t0.864255\t0.00114235 \t4.30667\t11 \t1  \t1.23259\n",
      "5  \t164   \t0.876606\t0.878071\t0.799118\t0.00650161 \t4.39   \t9  \t3  \t0.971888\n",
      "6  \t158   \t0.877225\t0.878071\t0.860679\t0.00137962 \t4.06667\t10 \t1  \t0.914087\n",
      "7  \t156   \t0.877319\t0.878071\t0.875682\t0.000969184\t4.13   \t10 \t1  \t1.03591 \n",
      "8  \t173   \t0.877216\t0.878071\t0.873518\t0.00100866 \t4.18333\t10 \t1  \t0.981354\n",
      "9  \t159   \t0.87731 \t0.878071\t0.875624\t0.000960072\t4.07333\t10 \t1  \t0.853203\n",
      "10 \t187   \t0.877079\t0.878071\t0.875714\t0.00100229 \t4.18   \t10 \t1  \t1.05559 \n",
      "30 0.878070528622 0.881002851761 0.870236085053 377.14581871032715\n"
     ]
    }
   ],
   "source": [
    "for i in tqdm(range(100)):\n",
    "    # 構文木として利用可能な演算の定義\n",
    "    pset = gp.PrimitiveSet(\"MAIN\", n_features)\n",
    "    pset.addPrimitive(operator.add, 2)\n",
    "    pset.addPrimitive(operator.sub, 2)\n",
    "    pset.addPrimitive(operator.mul, 2)\n",
    "    pset.addPrimitive(protectedDiv, 2)\n",
    "    pset.addPrimitive(operator.neg, 1)\n",
    "    pset.addPrimitive(np.cos, 1)\n",
    "    pset.addPrimitive(np.sin, 1)\n",
    "    pset.addPrimitive(np.tan, 1)\n",
    "\n",
    "    # 関数のデフォルト値の設定\n",
    "    toolbox = base.Toolbox()\n",
    "    toolbox.register(\"expr\", gp.genHalfAndHalf, pset=pset, min_=1, max_=3)\n",
    "    toolbox.register(\"individual\", tools.initIterate, creator.Individual, toolbox.expr)\n",
    "    toolbox.register(\"population\", tools.initRepeat, list, toolbox.individual)\n",
    "    toolbox.register(\"compile\", gp.compile, pset=pset)\n",
    "\n",
    "    # 評価関数の設定\n",
    "    # 新しく生成した変数を元の変数に加えて5-fold CVを求める\n",
    "    def eval_genfeat(individual):\n",
    "        func = toolbox.compile(expr=individual)\n",
    "        features_train = [X_train[:,i] for i in range(n_features)]\n",
    "        new_feat_train = func(*features_train)\n",
    "        X_train_tmp = np.c_[X_train, new_feat_train]\n",
    "        return np.mean(cross_val_score(clf, X_train_tmp, y_train, scoring=\"roc_auc\", cv=5)),\n",
    "\n",
    "    # 評価、選択、交叉、突然変異の設定\n",
    "    # 選択はサイズ10のトーナメント方式、交叉は1点交叉、突然変異は深さ2のランダム構文木生成と定義\n",
    "    toolbox.register(\"evaluate\", eval_genfeat)\n",
    "    toolbox.register(\"select\", tools.selTournament, tournsize=10)\n",
    "    toolbox.register(\"mate\", gp.cxOnePoint)\n",
    "    toolbox.register(\"expr_mut\", gp.genFull, min_=0, max_=2)\n",
    "    toolbox.register(\"mutate\", gp.mutUniform, expr=toolbox.expr_mut, pset=pset)\n",
    "\n",
    "    # 構文木の制約の設定\n",
    "    # 交叉や突然変異で深さ5以上の木ができないようにする\n",
    "    toolbox.decorate(\"mate\", gp.staticLimit(key=operator.attrgetter(\"height\"), max_value=5))\n",
    "    toolbox.decorate(\"mutate\", gp.staticLimit(key=operator.attrgetter(\"height\"), max_value=5)) \n",
    "\n",
    "    # 世代ごとの個体とベスト解を保持するクラスの生成\n",
    "    pop = toolbox.population(n=300)\n",
    "    hof = tools.HallOfFame(1)\n",
    "\n",
    "    # 統計量の表示設定\n",
    "    stats_fit = tools.Statistics(lambda ind: ind.fitness.values)\n",
    "    stats_size = tools.Statistics(len)\n",
    "    mstats = tools.MultiStatistics(fitness=stats_fit, size=stats_size)\n",
    "    mstats.register(\"avg\", np.mean)\n",
    "    mstats.register(\"std\", np.std)\n",
    "    mstats.register(\"min\", np.min)\n",
    "    mstats.register(\"max\", np.max)\n",
    "\n",
    "    # 進化の実行\n",
    "    # 交叉確率50%、突然変異確率10%、10世代まで進化\n",
    "    start_time = time.time()\n",
    "    pop, log = algorithms.eaSimple(pop, toolbox, 0.5, 0.1, 10, stats=mstats, halloffame=hof, verbose=True)\n",
    "    end_time = time.time()\n",
    "\n",
    "    # ベスト解とAUCの保持\n",
    "    best_expr = hof[0]\n",
    "    best_auc = mstats.compile(pop)[\"fitness\"][\"max\"]\n",
    "\n",
    "    # 5-fold CVのAUCスコアが前ステップのAUCを超えていた場合\n",
    "    # 生成変数を学習、テストデータに追加し、ベストAUCを更新する\n",
    "    if prev_auc < best_auc:\n",
    "        # 生成変数の追加\n",
    "        func = toolbox.compile(expr=best_expr)\n",
    "        features_train = [X_train[:,i] for i in range(n_features)]\n",
    "        features_valid = [X_valid[:,i] for i in range(n_features)]\n",
    "        features_test = [X_test[:,i] for i in range(n_features)]\n",
    "        new_feat_train = func(*features_train)\n",
    "        new_feat_valid = func(*features_valid)\n",
    "        new_feat_test = func(*features_test)\n",
    "        X_train = np.c_[X_train, new_feat_train]\n",
    "        X_valid = np.c_[X_valid, new_feat_valid]\n",
    "        X_test = np.c_[X_test, new_feat_test]\n",
    "\n",
    "        ### テストAUCの計算（プロット用）\n",
    "        clf.fit(X_train, y_train)\n",
    "        train_auc = roc_auc_score(y_train, clf.predict_proba(X_train)[:,1])\n",
    "        valid_auc = roc_auc_score(y_valid, clf.predict_proba(X_valid)[:,1])\n",
    "\n",
    "        # ベストAUCの更新と特徴量数の加算\n",
    "        prev_auc = best_auc\n",
    "        n_features += 1\n",
    "\n",
    "        # 表示と出力用データの保持\n",
    "        print(n_features, best_auc, train_auc, valid_auc, end_time - start_time)\n",
    "        results.append([n_features, best_auc, train_auc, valid_auc])\n",
    "        exprs.append(best_expr)\n",
    "\n",
    "        # 変数追加後の特徴量数が30を超えた場合break\n",
    "        if n_features >= 30:\n",
    "            break"
   ]
  },
  {
   "cell_type": "code",
   "execution_count": 12,
   "metadata": {},
   "outputs": [
    {
     "name": "stdout",
     "output_type": "stream",
     "text": [
      "\n",
      "### Results\n",
      "Baseline AUC train : 0.740923108671\n",
      "Baseline AUC valid : 0.741797998749\n",
      "Best AUC train : 0.878070528622\n",
      "Best AUC valid : 0.870236085053\n"
     ]
    }
   ],
   "source": [
    "# 結果の出力\n",
    "print()\n",
    "print(\"### Results\")\n",
    "print(\"Baseline AUC train :\", base_train_auc)\n",
    "print(\"Baseline AUC valid :\", base_valid_auc)\n",
    "print(\"Best AUC train :\", results[-1][1])\n",
    "print(\"Best AUC valid :\", results[-1][3])"
   ]
  },
  {
   "cell_type": "code",
   "execution_count": 13,
   "metadata": {
    "collapsed": true
   },
   "outputs": [],
   "source": [
    "# 結果のプロット\n",
    "res = np.array(results)\n",
    "plt.plot(res[:,0], res[:,1],\"o-\", color=\"b\", label=\"train(5-fold CV)\")\n",
    "plt.plot(res[:,0], res[:,3],\"o-\", color=\"r\", label=\"test\")\n",
    "plt.plot(10, base_train_auc, \"d\", color=\"b\", label = \"train baseline(5-fold CV)\")\n",
    "plt.plot(10, base_valid_auc, \"d\", color=\"r\", label = \"valid baseline\")\n",
    "plt.xlim(9,31)\n",
    "plt.grid(which=\"both\")\n",
    "plt.xlabel('n_features')\n",
    "plt.ylabel('AUC')\n",
    "plt.legend(loc=\"lower right\")\n",
    "plt.savefig(\"gp_featgen.png\")"
   ]
  },
  {
   "cell_type": "code",
   "execution_count": 14,
   "metadata": {
    "scrolled": false
   },
   "outputs": [
    {
     "name": "stdout",
     "output_type": "stream",
     "text": [
      "\n",
      "### Generated feature expression\n",
      "sub(cos(add(ARG2, ARG8)), mul(add(ARG8, ARG7), ARG6))\n",
      "mul(ARG8, sub(sub(sub(ARG9, ARG7), ARG2), ARG2))\n",
      "mul(ARG2, mul(ARG7, ARG9))\n",
      "mul(ARG2, mul(neg(neg(ARG8)), ARG7))\n",
      "mul(sub(protectedDiv(ARG13, ARG8), neg(ARG8)), neg(ARG6))\n",
      "mul(sub(ARG9, ARG8), ARG14)\n",
      "mul(ARG2, mul(ARG6, sub(sub(ARG10, ARG6), ARG6)))\n",
      "mul(ARG9, ARG2)\n",
      "mul(ARG2, mul(ARG6, ARG13))\n",
      "sub(mul(ARG17, ARG9), sin(cos(mul(add(ARG1, ARG14), ARG0))))\n",
      "add(cos(ARG6), cos(sub(ARG13, ARG17)))\n",
      "mul(ARG8, sub(sub(sub(ARG8, ARG17), ARG17), ARG17))\n",
      "mul(sub(ARG9, ARG7), ARG11)\n",
      "mul(ARG7, protectedDiv(ARG16, ARG2))\n",
      "mul(protectedDiv(ARG12, ARG9), add(ARG17, ARG20))\n",
      "mul(cos(ARG8), ARG7)\n",
      "add(mul(ARG11, ARG2), mul(ARG2, ARG6))\n",
      "add(mul(ARG23, cos(ARG9)), protectedDiv(ARG12, ARG9))\n",
      "mul(ARG2, ARG7)\n",
      "mul(ARG28, cos(ARG6))\n"
     ]
    }
   ],
   "source": [
    "# 生成した構文木の出力\n",
    "print()\n",
    "print(\"### Generated feature expression\")\n",
    "for expr in exprs:\n",
    "    print(expr)"
   ]
  },
  {
   "cell_type": "markdown",
   "metadata": {},
   "source": [
    "## lightGBM(2)"
   ]
  },
  {
   "cell_type": "code",
   "execution_count": 15,
   "metadata": {},
   "outputs": [
    {
     "name": "stdout",
     "output_type": "stream",
     "text": [
      "[1]\tvalid_0's auc: 0.747805\n",
      "Training until validation scores don't improve for 10 rounds.\n",
      "[2]\tvalid_0's auc: 0.769118\n",
      "[3]\tvalid_0's auc: 0.782325\n",
      "[4]\tvalid_0's auc: 0.790518\n",
      "[5]\tvalid_0's auc: 0.796977\n",
      "[6]\tvalid_0's auc: 0.806627\n",
      "[7]\tvalid_0's auc: 0.808422\n",
      "[8]\tvalid_0's auc: 0.814808\n",
      "[9]\tvalid_0's auc: 0.815347\n",
      "[10]\tvalid_0's auc: 0.815113\n",
      "[11]\tvalid_0's auc: 0.818578\n",
      "[12]\tvalid_0's auc: 0.820238\n",
      "[13]\tvalid_0's auc: 0.823135\n",
      "[14]\tvalid_0's auc: 0.826427\n",
      "[15]\tvalid_0's auc: 0.829665\n",
      "[16]\tvalid_0's auc: 0.831796\n",
      "[17]\tvalid_0's auc: 0.83367\n",
      "[18]\tvalid_0's auc: 0.835962\n",
      "[19]\tvalid_0's auc: 0.837737\n",
      "[20]\tvalid_0's auc: 0.839872\n",
      "[21]\tvalid_0's auc: 0.84094\n",
      "[22]\tvalid_0's auc: 0.841965\n",
      "[23]\tvalid_0's auc: 0.84312\n",
      "[24]\tvalid_0's auc: 0.84373\n",
      "[25]\tvalid_0's auc: 0.845952\n",
      "[26]\tvalid_0's auc: 0.846947\n",
      "[27]\tvalid_0's auc: 0.847722\n",
      "[28]\tvalid_0's auc: 0.849337\n",
      "[29]\tvalid_0's auc: 0.849828\n",
      "[30]\tvalid_0's auc: 0.850644\n",
      "[31]\tvalid_0's auc: 0.850752\n",
      "[32]\tvalid_0's auc: 0.851308\n",
      "[33]\tvalid_0's auc: 0.851969\n",
      "[34]\tvalid_0's auc: 0.852291\n",
      "[35]\tvalid_0's auc: 0.853295\n",
      "[36]\tvalid_0's auc: 0.853648\n",
      "[37]\tvalid_0's auc: 0.854359\n",
      "[38]\tvalid_0's auc: 0.855119\n",
      "[39]\tvalid_0's auc: 0.855697\n",
      "[40]\tvalid_0's auc: 0.856251\n",
      "[41]\tvalid_0's auc: 0.857213\n",
      "[42]\tvalid_0's auc: 0.858001\n",
      "[43]\tvalid_0's auc: 0.858669\n",
      "[44]\tvalid_0's auc: 0.85949\n",
      "[45]\tvalid_0's auc: 0.860439\n",
      "[46]\tvalid_0's auc: 0.861076\n",
      "[47]\tvalid_0's auc: 0.86128\n",
      "[48]\tvalid_0's auc: 0.861793\n",
      "[49]\tvalid_0's auc: 0.86206\n",
      "[50]\tvalid_0's auc: 0.862668\n",
      "[51]\tvalid_0's auc: 0.862853\n",
      "[52]\tvalid_0's auc: 0.862754\n",
      "[53]\tvalid_0's auc: 0.86312\n",
      "[54]\tvalid_0's auc: 0.863476\n",
      "[55]\tvalid_0's auc: 0.864053\n",
      "[56]\tvalid_0's auc: 0.864536\n",
      "[57]\tvalid_0's auc: 0.864388\n",
      "[58]\tvalid_0's auc: 0.864819\n",
      "[59]\tvalid_0's auc: 0.865206\n",
      "[60]\tvalid_0's auc: 0.865583\n",
      "[61]\tvalid_0's auc: 0.865969\n",
      "[62]\tvalid_0's auc: 0.866356\n",
      "[63]\tvalid_0's auc: 0.866656\n",
      "[64]\tvalid_0's auc: 0.866892\n",
      "[65]\tvalid_0's auc: 0.867114\n",
      "[66]\tvalid_0's auc: 0.867189\n",
      "[67]\tvalid_0's auc: 0.86724\n",
      "[68]\tvalid_0's auc: 0.867517\n",
      "[69]\tvalid_0's auc: 0.867774\n",
      "[70]\tvalid_0's auc: 0.868027\n",
      "[71]\tvalid_0's auc: 0.867988\n",
      "[72]\tvalid_0's auc: 0.868437\n",
      "[73]\tvalid_0's auc: 0.868541\n",
      "[74]\tvalid_0's auc: 0.868879\n",
      "[75]\tvalid_0's auc: 0.868918\n",
      "[76]\tvalid_0's auc: 0.86879\n",
      "[77]\tvalid_0's auc: 0.868809\n",
      "[78]\tvalid_0's auc: 0.868701\n",
      "[79]\tvalid_0's auc: 0.86876\n",
      "[80]\tvalid_0's auc: 0.86902\n",
      "[81]\tvalid_0's auc: 0.869012\n",
      "[82]\tvalid_0's auc: 0.869336\n",
      "[83]\tvalid_0's auc: 0.869312\n",
      "[84]\tvalid_0's auc: 0.869256\n",
      "[85]\tvalid_0's auc: 0.869395\n",
      "[86]\tvalid_0's auc: 0.869717\n",
      "[87]\tvalid_0's auc: 0.8701\n",
      "[88]\tvalid_0's auc: 0.870383\n",
      "[89]\tvalid_0's auc: 0.870263\n",
      "[90]\tvalid_0's auc: 0.869948\n",
      "[91]\tvalid_0's auc: 0.870108\n",
      "[92]\tvalid_0's auc: 0.870286\n",
      "[93]\tvalid_0's auc: 0.870461\n",
      "[94]\tvalid_0's auc: 0.870666\n",
      "[95]\tvalid_0's auc: 0.870578\n",
      "[96]\tvalid_0's auc: 0.870524\n",
      "[97]\tvalid_0's auc: 0.870577\n",
      "[98]\tvalid_0's auc: 0.870821\n",
      "[99]\tvalid_0's auc: 0.870691\n",
      "[100]\tvalid_0's auc: 0.870804\n",
      "[101]\tvalid_0's auc: 0.870819\n",
      "[102]\tvalid_0's auc: 0.870876\n",
      "[103]\tvalid_0's auc: 0.871083\n",
      "[104]\tvalid_0's auc: 0.871682\n",
      "[105]\tvalid_0's auc: 0.87185\n",
      "[106]\tvalid_0's auc: 0.871907\n",
      "[107]\tvalid_0's auc: 0.872097\n",
      "[108]\tvalid_0's auc: 0.872108\n",
      "[109]\tvalid_0's auc: 0.872164\n",
      "[110]\tvalid_0's auc: 0.872264\n",
      "[111]\tvalid_0's auc: 0.872306\n",
      "[112]\tvalid_0's auc: 0.872453\n",
      "[113]\tvalid_0's auc: 0.872559\n",
      "[114]\tvalid_0's auc: 0.872603\n",
      "[115]\tvalid_0's auc: 0.872609\n",
      "[116]\tvalid_0's auc: 0.872464\n",
      "[117]\tvalid_0's auc: 0.872681\n",
      "[118]\tvalid_0's auc: 0.872874\n",
      "[119]\tvalid_0's auc: 0.872831\n",
      "[120]\tvalid_0's auc: 0.872755\n",
      "[121]\tvalid_0's auc: 0.872936\n",
      "[122]\tvalid_0's auc: 0.872872\n",
      "[123]\tvalid_0's auc: 0.87286\n",
      "[124]\tvalid_0's auc: 0.873013\n",
      "[125]\tvalid_0's auc: 0.873779\n",
      "[126]\tvalid_0's auc: 0.873942\n",
      "[127]\tvalid_0's auc: 0.874284\n",
      "[128]\tvalid_0's auc: 0.874461\n",
      "[129]\tvalid_0's auc: 0.874551\n",
      "[130]\tvalid_0's auc: 0.874514\n",
      "[131]\tvalid_0's auc: 0.874601\n",
      "[132]\tvalid_0's auc: 0.874686\n",
      "[133]\tvalid_0's auc: 0.874698\n",
      "[134]\tvalid_0's auc: 0.874886\n",
      "[135]\tvalid_0's auc: 0.874925\n",
      "[136]\tvalid_0's auc: 0.875016\n",
      "[137]\tvalid_0's auc: 0.875066\n",
      "[138]\tvalid_0's auc: 0.875089\n",
      "[139]\tvalid_0's auc: 0.875169\n",
      "[140]\tvalid_0's auc: 0.875056\n",
      "[141]\tvalid_0's auc: 0.875109\n",
      "[142]\tvalid_0's auc: 0.875238\n",
      "[143]\tvalid_0's auc: 0.87541\n",
      "[144]\tvalid_0's auc: 0.875467\n",
      "[145]\tvalid_0's auc: 0.875396\n",
      "[146]\tvalid_0's auc: 0.875446\n",
      "[147]\tvalid_0's auc: 0.875774\n",
      "[148]\tvalid_0's auc: 0.876224\n",
      "[149]\tvalid_0's auc: 0.876381\n",
      "[150]\tvalid_0's auc: 0.876327\n",
      "[151]\tvalid_0's auc: 0.876293\n",
      "[152]\tvalid_0's auc: 0.876351\n",
      "[153]\tvalid_0's auc: 0.87651\n",
      "[154]\tvalid_0's auc: 0.876882\n",
      "[155]\tvalid_0's auc: 0.877008\n",
      "[156]\tvalid_0's auc: 0.877298\n",
      "[157]\tvalid_0's auc: 0.877367\n",
      "[158]\tvalid_0's auc: 0.877431\n",
      "[159]\tvalid_0's auc: 0.877497\n",
      "[160]\tvalid_0's auc: 0.87758\n",
      "[161]\tvalid_0's auc: 0.877719\n",
      "[162]\tvalid_0's auc: 0.877764\n",
      "[163]\tvalid_0's auc: 0.877927\n",
      "[164]\tvalid_0's auc: 0.878269\n",
      "[165]\tvalid_0's auc: 0.878357\n",
      "[166]\tvalid_0's auc: 0.878694\n",
      "[167]\tvalid_0's auc: 0.87891\n",
      "[168]\tvalid_0's auc: 0.878967\n",
      "[169]\tvalid_0's auc: 0.879085\n",
      "[170]\tvalid_0's auc: 0.879192\n",
      "[171]\tvalid_0's auc: 0.87937\n",
      "[172]\tvalid_0's auc: 0.87959\n",
      "[173]\tvalid_0's auc: 0.879611\n",
      "[174]\tvalid_0's auc: 0.879737\n",
      "[175]\tvalid_0's auc: 0.879786\n",
      "[176]\tvalid_0's auc: 0.879842\n",
      "[177]\tvalid_0's auc: 0.879903\n",
      "[178]\tvalid_0's auc: 0.87995\n",
      "[179]\tvalid_0's auc: 0.879955\n",
      "[180]\tvalid_0's auc: 0.879955\n",
      "[181]\tvalid_0's auc: 0.879887\n",
      "[182]\tvalid_0's auc: 0.879969\n",
      "[183]\tvalid_0's auc: 0.879808\n",
      "[184]\tvalid_0's auc: 0.879731\n",
      "[185]\tvalid_0's auc: 0.879812\n",
      "[186]\tvalid_0's auc: 0.879873\n",
      "[187]\tvalid_0's auc: 0.879873\n",
      "[188]\tvalid_0's auc: 0.879906\n",
      "[189]\tvalid_0's auc: 0.879928\n",
      "[190]\tvalid_0's auc: 0.879905\n",
      "[191]\tvalid_0's auc: 0.879866\n",
      "[192]\tvalid_0's auc: 0.880396\n",
      "[193]\tvalid_0's auc: 0.880488\n",
      "[194]\tvalid_0's auc: 0.88048\n",
      "[195]\tvalid_0's auc: 0.880582\n",
      "[196]\tvalid_0's auc: 0.880442\n",
      "[197]\tvalid_0's auc: 0.88041\n",
      "[198]\tvalid_0's auc: 0.880463\n",
      "[199]\tvalid_0's auc: 0.880528\n",
      "[200]\tvalid_0's auc: 0.880705\n",
      "[201]\tvalid_0's auc: 0.880838\n",
      "[202]\tvalid_0's auc: 0.880927\n",
      "[203]\tvalid_0's auc: 0.880954\n",
      "[204]\tvalid_0's auc: 0.88111\n",
      "[205]\tvalid_0's auc: 0.881124\n",
      "[206]\tvalid_0's auc: 0.88109\n",
      "[207]\tvalid_0's auc: 0.881368\n",
      "[208]\tvalid_0's auc: 0.881442\n",
      "[209]\tvalid_0's auc: 0.881474\n",
      "[210]\tvalid_0's auc: 0.881499\n",
      "[211]\tvalid_0's auc: 0.881609\n",
      "[212]\tvalid_0's auc: 0.881748\n",
      "[213]\tvalid_0's auc: 0.881976\n",
      "[214]\tvalid_0's auc: 0.88171\n",
      "[215]\tvalid_0's auc: 0.88157\n",
      "[216]\tvalid_0's auc: 0.881615\n",
      "[217]\tvalid_0's auc: 0.881674\n",
      "[218]\tvalid_0's auc: 0.881673\n",
      "[219]\tvalid_0's auc: 0.881804\n",
      "[220]\tvalid_0's auc: 0.882042\n",
      "[221]\tvalid_0's auc: 0.882256\n",
      "[222]\tvalid_0's auc: 0.882309\n",
      "[223]\tvalid_0's auc: 0.882267\n",
      "[224]\tvalid_0's auc: 0.882311\n",
      "[225]\tvalid_0's auc: 0.88232\n",
      "[226]\tvalid_0's auc: 0.882447\n",
      "[227]\tvalid_0's auc: 0.882561\n",
      "[228]\tvalid_0's auc: 0.88285\n",
      "[229]\tvalid_0's auc: 0.882936\n",
      "[230]\tvalid_0's auc: 0.883007\n",
      "[231]\tvalid_0's auc: 0.883182\n",
      "[232]\tvalid_0's auc: 0.883169\n",
      "[233]\tvalid_0's auc: 0.883213\n",
      "[234]\tvalid_0's auc: 0.883419\n",
      "[235]\tvalid_0's auc: 0.883457\n",
      "[236]\tvalid_0's auc: 0.883796\n",
      "[237]\tvalid_0's auc: 0.883815\n",
      "[238]\tvalid_0's auc: 0.884115\n",
      "[239]\tvalid_0's auc: 0.88421\n",
      "[240]\tvalid_0's auc: 0.884087\n",
      "[241]\tvalid_0's auc: 0.884095\n",
      "[242]\tvalid_0's auc: 0.884139\n",
      "[243]\tvalid_0's auc: 0.884062\n",
      "[244]\tvalid_0's auc: 0.884185\n",
      "[245]\tvalid_0's auc: 0.88435\n",
      "[246]\tvalid_0's auc: 0.884432\n",
      "[247]\tvalid_0's auc: 0.884511\n",
      "[248]\tvalid_0's auc: 0.884362\n",
      "[249]\tvalid_0's auc: 0.884404\n",
      "[250]\tvalid_0's auc: 0.884207\n",
      "[251]\tvalid_0's auc: 0.884536\n",
      "[252]\tvalid_0's auc: 0.884504\n",
      "[253]\tvalid_0's auc: 0.884626\n",
      "[254]\tvalid_0's auc: 0.884661\n",
      "[255]\tvalid_0's auc: 0.884636\n",
      "[256]\tvalid_0's auc: 0.88464\n",
      "[257]\tvalid_0's auc: 0.884636\n",
      "[258]\tvalid_0's auc: 0.884662\n",
      "[259]\tvalid_0's auc: 0.884703\n",
      "[260]\tvalid_0's auc: 0.884995\n",
      "[261]\tvalid_0's auc: 0.885114\n",
      "[262]\tvalid_0's auc: 0.885217\n",
      "[263]\tvalid_0's auc: 0.885352\n",
      "[264]\tvalid_0's auc: 0.885274\n",
      "[265]\tvalid_0's auc: 0.885316\n",
      "[266]\tvalid_0's auc: 0.885428\n",
      "[267]\tvalid_0's auc: 0.885375\n",
      "[268]\tvalid_0's auc: 0.885472\n",
      "[269]\tvalid_0's auc: 0.885632\n",
      "[270]\tvalid_0's auc: 0.885829\n",
      "[271]\tvalid_0's auc: 0.885833\n",
      "[272]\tvalid_0's auc: 0.885775\n",
      "[273]\tvalid_0's auc: 0.885725\n",
      "[274]\tvalid_0's auc: 0.885833\n",
      "[275]\tvalid_0's auc: 0.885915\n",
      "[276]\tvalid_0's auc: 0.886249\n",
      "[277]\tvalid_0's auc: 0.88624\n",
      "[278]\tvalid_0's auc: 0.886149\n",
      "[279]\tvalid_0's auc: 0.886155\n",
      "[280]\tvalid_0's auc: 0.886201\n"
     ]
    },
    {
     "name": "stdout",
     "output_type": "stream",
     "text": [
      "[281]\tvalid_0's auc: 0.886184\n",
      "[282]\tvalid_0's auc: 0.886243\n",
      "[283]\tvalid_0's auc: 0.886266\n",
      "[284]\tvalid_0's auc: 0.886309\n",
      "[285]\tvalid_0's auc: 0.886237\n",
      "[286]\tvalid_0's auc: 0.886449\n",
      "[287]\tvalid_0's auc: 0.88627\n",
      "[288]\tvalid_0's auc: 0.886299\n",
      "[289]\tvalid_0's auc: 0.886226\n",
      "[290]\tvalid_0's auc: 0.886291\n",
      "[291]\tvalid_0's auc: 0.886396\n",
      "[292]\tvalid_0's auc: 0.886451\n",
      "[293]\tvalid_0's auc: 0.886399\n",
      "[294]\tvalid_0's auc: 0.886679\n",
      "[295]\tvalid_0's auc: 0.886656\n",
      "[296]\tvalid_0's auc: 0.886729\n",
      "[297]\tvalid_0's auc: 0.886789\n",
      "[298]\tvalid_0's auc: 0.886901\n",
      "[299]\tvalid_0's auc: 0.887179\n",
      "[300]\tvalid_0's auc: 0.887261\n",
      "[301]\tvalid_0's auc: 0.887394\n",
      "[302]\tvalid_0's auc: 0.88742\n",
      "[303]\tvalid_0's auc: 0.887495\n",
      "[304]\tvalid_0's auc: 0.88753\n",
      "[305]\tvalid_0's auc: 0.887487\n",
      "[306]\tvalid_0's auc: 0.887486\n",
      "[307]\tvalid_0's auc: 0.887477\n",
      "[308]\tvalid_0's auc: 0.887617\n",
      "[309]\tvalid_0's auc: 0.887633\n",
      "[310]\tvalid_0's auc: 0.88776\n",
      "[311]\tvalid_0's auc: 0.887856\n",
      "[312]\tvalid_0's auc: 0.887953\n",
      "[313]\tvalid_0's auc: 0.887938\n",
      "[314]\tvalid_0's auc: 0.887869\n",
      "[315]\tvalid_0's auc: 0.887761\n",
      "[316]\tvalid_0's auc: 0.887896\n",
      "[317]\tvalid_0's auc: 0.887946\n",
      "[318]\tvalid_0's auc: 0.887961\n",
      "[319]\tvalid_0's auc: 0.887985\n",
      "[320]\tvalid_0's auc: 0.887874\n",
      "[321]\tvalid_0's auc: 0.887855\n",
      "[322]\tvalid_0's auc: 0.887925\n",
      "[323]\tvalid_0's auc: 0.887706\n",
      "[324]\tvalid_0's auc: 0.887628\n",
      "[325]\tvalid_0's auc: 0.887558\n",
      "[326]\tvalid_0's auc: 0.887649\n",
      "[327]\tvalid_0's auc: 0.887598\n",
      "[328]\tvalid_0's auc: 0.887641\n",
      "[329]\tvalid_0's auc: 0.887739\n",
      "Early stopping, best iteration is:\n",
      "[319]\tvalid_0's auc: 0.887985\n"
     ]
    },
    {
     "data": {
      "image/png": "[encoded data removed]",
      "text/plain": [
       "<matplotlib.figure.Figure at 0x11a2145c0>"
      ]
     },
     "metadata": {},
     "output_type": "display_data"
    },
    {
     "data": {
      "image/png": "[encoded data removed]",
      "text/plain": [
       "<matplotlib.figure.Figure at 0x11a214be0>"
      ]
     },
     "metadata": {},
     "output_type": "display_data"
    }
   ],
   "source": [
    "# データセットを生成する\n",
    "lgb_train = lgb.Dataset(X_train, y_train)\n",
    "lgb_eval = lgb.Dataset(X_valid, y_valid, reference=lgb_train)\n",
    "\n",
    "lgbm_params = {\n",
    "    'learning_rate': 0.1,\n",
    "    'num_leaves': 8,\n",
    "    'boosting_type' : 'gbdt',\n",
    "    'subsample' : 0.8,\n",
    "    'reg_alpha' : 1,\n",
    "    'reg_lambda' : 1,\n",
    "    'objective': 'regression',\n",
    "    'metric': 'auc',\n",
    "    }\n",
    "\n",
    "# 上記のパラメータでモデルを学習する\n",
    "model2 = lgb.train(lgbm_params, lgb_train,\n",
    "                  # モデルの評価用データを渡す\n",
    "                  valid_sets=lgb_eval,\n",
    "                  # 最大で 1000 ラウンドまで学習する\n",
    "                  num_boost_round=1000,\n",
    "                  # 10 ラウンド経過しても性能が向上しないときは学習を打ち切る\n",
    "                  early_stopping_rounds=10)\n",
    "\n",
    "# 特徴量の重要度をプロットする\n",
    "lgb.plot_importance(model2, figsize=(20, 10))\n",
    "plt.show()"
   ]
  },
  {
   "cell_type": "markdown",
   "metadata": {},
   "source": [
    "### testでの検証"
   ]
  },
  {
   "cell_type": "code",
   "execution_count": 16,
   "metadata": {},
   "outputs": [
    {
     "name": "stdout",
     "output_type": "stream",
     "text": [
      "0.882793981037\n"
     ]
    }
   ],
   "source": [
    "# テストデータを予測する\n",
    "y_pred = model2.predict(X_test, num_iteration=model2.best_iteration)\n",
    "\n",
    "# auc を計算する\n",
    "auc = roc_auc_score(y_test, y_pred)\n",
    "print(auc)"
   ]
  },
  {
   "cell_type": "code",
   "execution_count": null,
   "metadata": {
    "collapsed": true
   },
   "outputs": [],
   "source": []
  }
 ],
 "metadata": {
  "kernelspec": {
   "display_name": "Python 3",
   "language": "python",
   "name": "python3"
  },
  "language_info": {
   "codemirror_mode": {
    "name": "ipython",
    "version": 3
   },
   "file_extension": ".py",
   "mimetype": "text/x-python",
   "name": "python",
   "nbconvert_exporter": "python",
   "pygments_lexer": "ipython3",
   "version": "3.6.2"
  }
 },
 "nbformat": 4,
 "nbformat_minor": 2
}
