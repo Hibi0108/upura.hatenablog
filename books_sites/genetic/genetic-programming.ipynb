{
 "cells": [
  {
   "cell_type": "markdown",
   "metadata": {},
   "source": [
    "https://qiita.com/overlap/items/e7f1077ef8239f454602"
   ]
  },
  {
   "cell_type": "code",
   "execution_count": 1,
   "metadata": {
    "collapsed": true
   },
   "outputs": [],
   "source": [
    "import operator, math, random, time\n",
    "import numpy as np\n",
    "\n",
    "from deap import algorithms, base, creator, tools, gp\n",
    "\n",
    "from sklearn.datasets import make_classification\n",
    "from sklearn.model_selection import train_test_split, cross_val_score\n",
    "from sklearn.linear_model import LogisticRegression\n",
    "from sklearn.metrics import roc_auc_score, log_loss\n",
    "\n",
    "import matplotlib.pyplot as plt\n",
    "from tqdm import tqdm"
   ]
  },
  {
   "cell_type": "code",
   "execution_count": 2,
   "metadata": {
    "collapsed": true
   },
   "outputs": [],
   "source": [
    "# サンプルデータの生成\n",
    "X, y = make_classification(n_samples=10000, n_features=10, n_informative=5, n_redundant=0, n_repeated=0,\n",
    "                           n_clusters_per_class=8, random_state=123)\n",
    "X_train, X_test, y_train, y_test = train_test_split(X, y, test_size=0.2, random_state=123)"
   ]
  },
  {
   "cell_type": "markdown",
   "metadata": {},
   "source": [
    "## lightGBM"
   ]
  },
  {
   "cell_type": "code",
   "execution_count": 3,
   "metadata": {
    "collapsed": true
   },
   "outputs": [],
   "source": [
    "import lightgbm as lgb\n",
    "X_train, X_valid, y_train, y_valid = train_test_split(X_train, y_train, test_size=0.2, random_state=123)"
   ]
  },
  {
   "cell_type": "code",
   "execution_count": 4,
   "metadata": {
    "scrolled": false
   },
   "outputs": [
    {
     "name": "stdout",
     "output_type": "stream",
     "text": [
      "[1]\tvalid_0's auc: 0.743222\n",
      "Training until validation scores don't improve for 10 rounds.\n",
      "[2]\tvalid_0's auc: 0.774293\n",
      "[3]\tvalid_0's auc: 0.786269\n",
      "[4]\tvalid_0's auc: 0.796968\n",
      "[5]\tvalid_0's auc: 0.798784\n",
      "[6]\tvalid_0's auc: 0.802183\n",
      "[7]\tvalid_0's auc: 0.802674\n",
      "[8]\tvalid_0's auc: 0.805887\n",
      "[9]\tvalid_0's auc: 0.810216\n",
      "[10]\tvalid_0's auc: 0.808829\n",
      "[11]\tvalid_0's auc: 0.812117\n",
      "[12]\tvalid_0's auc: 0.812388\n",
      "[13]\tvalid_0's auc: 0.813328\n",
      "[14]\tvalid_0's auc: 0.815966\n",
      "[15]\tvalid_0's auc: 0.815584\n",
      "[16]\tvalid_0's auc: 0.816796\n",
      "[17]\tvalid_0's auc: 0.819553\n",
      "[18]\tvalid_0's auc: 0.819432\n",
      "[19]\tvalid_0's auc: 0.820362\n",
      "[20]\tvalid_0's auc: 0.822502\n",
      "[21]\tvalid_0's auc: 0.823933\n",
      "[22]\tvalid_0's auc: 0.825941\n",
      "[23]\tvalid_0's auc: 0.826346\n",
      "[24]\tvalid_0's auc: 0.828636\n",
      "[25]\tvalid_0's auc: 0.829256\n",
      "[26]\tvalid_0's auc: 0.829943\n",
      "[27]\tvalid_0's auc: 0.830962\n",
      "[28]\tvalid_0's auc: 0.831575\n",
      "[29]\tvalid_0's auc: 0.83256\n",
      "[30]\tvalid_0's auc: 0.834183\n",
      "[31]\tvalid_0's auc: 0.835503\n",
      "[32]\tvalid_0's auc: 0.836211\n",
      "[33]\tvalid_0's auc: 0.836906\n",
      "[34]\tvalid_0's auc: 0.837768\n",
      "[35]\tvalid_0's auc: 0.838464\n",
      "[36]\tvalid_0's auc: 0.8391\n",
      "[37]\tvalid_0's auc: 0.839569\n",
      "[38]\tvalid_0's auc: 0.840365\n",
      "[39]\tvalid_0's auc: 0.840882\n",
      "[40]\tvalid_0's auc: 0.841443\n",
      "[41]\tvalid_0's auc: 0.841642\n",
      "[42]\tvalid_0's auc: 0.842293\n",
      "[43]\tvalid_0's auc: 0.842808\n",
      "[44]\tvalid_0's auc: 0.844074\n",
      "[45]\tvalid_0's auc: 0.844198\n",
      "[46]\tvalid_0's auc: 0.844253\n",
      "[47]\tvalid_0's auc: 0.844709\n",
      "[48]\tvalid_0's auc: 0.845056\n",
      "[49]\tvalid_0's auc: 0.845164\n",
      "[50]\tvalid_0's auc: 0.846189\n",
      "[51]\tvalid_0's auc: 0.846457\n",
      "[52]\tvalid_0's auc: 0.847409\n",
      "[53]\tvalid_0's auc: 0.847525\n",
      "[54]\tvalid_0's auc: 0.847345\n",
      "[55]\tvalid_0's auc: 0.847442\n",
      "[56]\tvalid_0's auc: 0.848219\n",
      "[57]\tvalid_0's auc: 0.848075\n",
      "[58]\tvalid_0's auc: 0.84803\n",
      "[59]\tvalid_0's auc: 0.848765\n",
      "[60]\tvalid_0's auc: 0.84845\n",
      "[61]\tvalid_0's auc: 0.848434\n",
      "[62]\tvalid_0's auc: 0.8484\n",
      "[63]\tvalid_0's auc: 0.848242\n",
      "[64]\tvalid_0's auc: 0.848037\n",
      "[65]\tvalid_0's auc: 0.848256\n",
      "[66]\tvalid_0's auc: 0.848176\n",
      "[67]\tvalid_0's auc: 0.848564\n",
      "[68]\tvalid_0's auc: 0.848878\n",
      "[69]\tvalid_0's auc: 0.848643\n",
      "[70]\tvalid_0's auc: 0.848679\n",
      "[71]\tvalid_0's auc: 0.848851\n",
      "[72]\tvalid_0's auc: 0.848966\n",
      "[73]\tvalid_0's auc: 0.849241\n",
      "[74]\tvalid_0's auc: 0.849333\n",
      "[75]\tvalid_0's auc: 0.849436\n",
      "[76]\tvalid_0's auc: 0.849368\n",
      "[77]\tvalid_0's auc: 0.849582\n",
      "[78]\tvalid_0's auc: 0.849322\n",
      "[79]\tvalid_0's auc: 0.849762\n",
      "[80]\tvalid_0's auc: 0.849981\n",
      "[81]\tvalid_0's auc: 0.85013\n",
      "[82]\tvalid_0's auc: 0.850722\n",
      "[83]\tvalid_0's auc: 0.850761\n",
      "[84]\tvalid_0's auc: 0.851262\n",
      "[85]\tvalid_0's auc: 0.851254\n",
      "[86]\tvalid_0's auc: 0.851026\n",
      "[87]\tvalid_0's auc: 0.851601\n",
      "[88]\tvalid_0's auc: 0.851721\n",
      "[89]\tvalid_0's auc: 0.851679\n",
      "[90]\tvalid_0's auc: 0.851578\n",
      "[91]\tvalid_0's auc: 0.851559\n",
      "[92]\tvalid_0's auc: 0.851467\n",
      "[93]\tvalid_0's auc: 0.851796\n",
      "[94]\tvalid_0's auc: 0.852392\n",
      "[95]\tvalid_0's auc: 0.852139\n",
      "[96]\tvalid_0's auc: 0.852058\n",
      "[97]\tvalid_0's auc: 0.852125\n",
      "[98]\tvalid_0's auc: 0.851956\n",
      "[99]\tvalid_0's auc: 0.852342\n",
      "[100]\tvalid_0's auc: 0.852528\n",
      "[101]\tvalid_0's auc: 0.852466\n",
      "[102]\tvalid_0's auc: 0.852484\n",
      "[103]\tvalid_0's auc: 0.852339\n",
      "[104]\tvalid_0's auc: 0.852326\n",
      "[105]\tvalid_0's auc: 0.852475\n",
      "[106]\tvalid_0's auc: 0.852994\n",
      "[107]\tvalid_0's auc: 0.853011\n",
      "[108]\tvalid_0's auc: 0.852883\n",
      "[109]\tvalid_0's auc: 0.852735\n",
      "[110]\tvalid_0's auc: 0.852658\n",
      "[111]\tvalid_0's auc: 0.85311\n",
      "[112]\tvalid_0's auc: 0.853057\n",
      "[113]\tvalid_0's auc: 0.853504\n",
      "[114]\tvalid_0's auc: 0.85382\n",
      "[115]\tvalid_0's auc: 0.854024\n",
      "[116]\tvalid_0's auc: 0.854267\n",
      "[117]\tvalid_0's auc: 0.854013\n",
      "[118]\tvalid_0's auc: 0.853917\n",
      "[119]\tvalid_0's auc: 0.853754\n",
      "[120]\tvalid_0's auc: 0.853771\n",
      "[121]\tvalid_0's auc: 0.854457\n",
      "[122]\tvalid_0's auc: 0.854589\n",
      "[123]\tvalid_0's auc: 0.854478\n",
      "[124]\tvalid_0's auc: 0.854692\n",
      "[125]\tvalid_0's auc: 0.854698\n",
      "[126]\tvalid_0's auc: 0.854916\n",
      "[127]\tvalid_0's auc: 0.854981\n",
      "[128]\tvalid_0's auc: 0.855031\n",
      "[129]\tvalid_0's auc: 0.855083\n",
      "[130]\tvalid_0's auc: 0.855041\n",
      "[131]\tvalid_0's auc: 0.855119\n",
      "[132]\tvalid_0's auc: 0.855067\n",
      "[133]\tvalid_0's auc: 0.854903\n",
      "[134]\tvalid_0's auc: 0.854909\n",
      "[135]\tvalid_0's auc: 0.854748\n",
      "[136]\tvalid_0's auc: 0.855022\n",
      "[137]\tvalid_0's auc: 0.855066\n",
      "[138]\tvalid_0's auc: 0.855031\n",
      "[139]\tvalid_0's auc: 0.855328\n",
      "[140]\tvalid_0's auc: 0.855428\n",
      "[141]\tvalid_0's auc: 0.855247\n",
      "[142]\tvalid_0's auc: 0.855222\n",
      "[143]\tvalid_0's auc: 0.855355\n",
      "[144]\tvalid_0's auc: 0.855255\n",
      "[145]\tvalid_0's auc: 0.855694\n",
      "[146]\tvalid_0's auc: 0.855657\n",
      "[147]\tvalid_0's auc: 0.855611\n",
      "[148]\tvalid_0's auc: 0.855525\n",
      "[149]\tvalid_0's auc: 0.855352\n",
      "[150]\tvalid_0's auc: 0.855711\n",
      "[151]\tvalid_0's auc: 0.855816\n",
      "[152]\tvalid_0's auc: 0.855815\n",
      "[153]\tvalid_0's auc: 0.855794\n",
      "[154]\tvalid_0's auc: 0.856196\n",
      "[155]\tvalid_0's auc: 0.856029\n",
      "[156]\tvalid_0's auc: 0.856019\n",
      "[157]\tvalid_0's auc: 0.856037\n",
      "[158]\tvalid_0's auc: 0.85599\n",
      "[159]\tvalid_0's auc: 0.85603\n",
      "[160]\tvalid_0's auc: 0.85606\n",
      "[161]\tvalid_0's auc: 0.855872\n",
      "[162]\tvalid_0's auc: 0.856004\n",
      "[163]\tvalid_0's auc: 0.856154\n",
      "[164]\tvalid_0's auc: 0.856409\n",
      "[165]\tvalid_0's auc: 0.856288\n",
      "[166]\tvalid_0's auc: 0.856066\n",
      "[167]\tvalid_0's auc: 0.855908\n",
      "[168]\tvalid_0's auc: 0.855897\n",
      "[169]\tvalid_0's auc: 0.85576\n",
      "[170]\tvalid_0's auc: 0.855807\n",
      "[171]\tvalid_0's auc: 0.855688\n",
      "[172]\tvalid_0's auc: 0.855702\n",
      "[173]\tvalid_0's auc: 0.855937\n",
      "[174]\tvalid_0's auc: 0.85584\n",
      "Early stopping, best iteration is:\n",
      "[164]\tvalid_0's auc: 0.856409\n"
     ]
    },
    {
     "data": {
      "image/png": "[encoded data removed]",
      "text/plain": [
       "<matplotlib.figure.Figure at 0x11cb6b748>"
      ]
     },
     "metadata": {},
     "output_type": "display_data"
    }
   ],
   "source": [
    "# データセットを生成する\n",
    "lgb_train = lgb.Dataset(X_train, y_train)\n",
    "lgb_eval = lgb.Dataset(X_valid, y_valid, reference=lgb_train)\n",
    "\n",
    "lgbm_params = {\n",
    "    'learning_rate': 0.1,\n",
    "    'num_leaves': 8,\n",
    "    'boosting_type' : 'gbdt',\n",
    "    'subsample' : 0.8,\n",
    "    'reg_alpha' : 1,\n",
    "    'reg_lambda' : 1,\n",
    "    'objective': 'regression',\n",
    "    'metric': 'auc',\n",
    "    }\n",
    "\n",
    "# 上記のパラメータでモデルを学習する\n",
    "model = lgb.train(lgbm_params, lgb_train,\n",
    "                  # モデルの評価用データを渡す\n",
    "                  valid_sets=lgb_eval,\n",
    "                  # 最大で 1000 ラウンドまで学習する\n",
    "                  num_boost_round=1000,\n",
    "                  # 10 ラウンド経過しても性能が向上しないときは学習を打ち切る\n",
    "                  early_stopping_rounds=10)\n",
    "\n",
    "# 特徴量の重要度をプロットする\n",
    "lgb.plot_importance(model, figsize=(20, 10))\n",
    "plt.show()"
   ]
  },
  {
   "cell_type": "markdown",
   "metadata": {},
   "source": [
    "### testでの精度"
   ]
  },
  {
   "cell_type": "code",
   "execution_count": 5,
   "metadata": {},
   "outputs": [
    {
     "name": "stdout",
     "output_type": "stream",
     "text": [
      "0.854653164841\n"
     ]
    }
   ],
   "source": [
    "from sklearn.metrics import roc_auc_score\n",
    "\n",
    "# テストデータを予測する\n",
    "y_pred = model.predict(X_test, num_iteration=model.best_iteration)\n",
    "\n",
    "# auc を計算する\n",
    "auc = roc_auc_score(y_test, y_pred)\n",
    "print(auc)"
   ]
  },
  {
   "cell_type": "code",
   "execution_count": null,
   "metadata": {
    "collapsed": true
   },
   "outputs": [],
   "source": []
  },
  {
   "cell_type": "markdown",
   "metadata": {},
   "source": [
    "## Feature Generation by Genetic Programming"
   ]
  },
  {
   "cell_type": "code",
   "execution_count": 6,
   "metadata": {},
   "outputs": [],
   "source": [
    "# ベースラインスコアの算出\n",
    "clf = LogisticRegression(penalty=\"l2\", C=1.0)\n",
    "base_train_auc = np.mean(cross_val_score(clf, X_train, y_train, scoring=\"roc_auc\", cv=5))\n",
    "clf.fit(X_train, y_train)\n",
    "base_valid_auc = roc_auc_score(y_valid, clf.predict_proba(X_valid)[:,1])"
   ]
  },
  {
   "cell_type": "code",
   "execution_count": 7,
   "metadata": {
    "collapsed": true
   },
   "outputs": [],
   "source": [
    "# 除算関数の定義\n",
    "# 左項 / 右項で右項が0の場合1を代入する\n",
    "def protectedDiv(left, right):\n",
    "    eps = 1.0e-7\n",
    "    tmp = np.zeros(len(left))\n",
    "    tmp[np.abs(right) >= eps] = left[np.abs(right) >= eps] / right[np.abs(right) >= eps]\n",
    "    tmp[np.abs(right) < eps] = 1.0\n",
    "    return tmp"
   ]
  },
  {
   "cell_type": "code",
   "execution_count": 8,
   "metadata": {
    "collapsed": true
   },
   "outputs": [],
   "source": [
    "# 乱数シード\n",
    "random.seed(123)\n",
    "\n",
    "# 適合度を最大化するような木構造を個体として定義\n",
    "creator.create(\"FitnessMax\", base.Fitness, weights=(1.0,))\n",
    "creator.create(\"Individual\", gp.PrimitiveTree, fitness=creator.FitnessMax)"
   ]
  },
  {
   "cell_type": "code",
   "execution_count": 9,
   "metadata": {
    "collapsed": true
   },
   "outputs": [],
   "source": [
    "# 初期値の計算\n",
    "# 学習データの5-fold CVのAUCスコアを評価指標の初期値とする\n",
    "n_features = X_train.shape[1]\n",
    "clf = LogisticRegression(penalty=\"l2\", C=1.0)\n",
    "prev_auc = np.mean(cross_val_score(clf, X_train, y_train, scoring=\"roc_auc\", cv=5))"
   ]
  },
  {
   "cell_type": "code",
   "execution_count": 10,
   "metadata": {
    "collapsed": true
   },
   "outputs": [],
   "source": [
    "# メインループ\n",
    "# resultsに特徴量数、学習データのAUCスコア（5-fold CV）、テストデータのAUCスコアを保持する\n",
    "# exprsに生成された特徴量の表記を保持する\n",
    "results = []\n",
    "exprs = []"
   ]
  },
  {
   "cell_type": "code",
   "execution_count": 11,
   "metadata": {
    "scrolled": false
   },
   "outputs": [
    {
     "name": "stderr",
     "output_type": "stream",
     "text": [
      "\r",
      "  0%|          | 0/10 [00:00<?, ?it/s]"
     ]
    },
    {
     "name": "stdout",
     "output_type": "stream",
     "text": [
      "   \t      \t                         fitness                          \t              size             \n",
      "   \t      \t----------------------------------------------------------\t-------------------------------\n",
      "gen\tnevals\tavg     \tmax     \tmin     \tstd       \tavg    \tmax\tmin\tstd    \n",
      "0  \t300   \t0.741038\t0.753865\t0.739936\t0.00101323\t4.52667\t14 \t2  \t2.84182\n",
      "1  \t149   \t0.742167\t0.767195\t0.740082\t0.00267789\t4.51333\t15 \t1  \t2.75617\n",
      "2  \t181   \t0.744845\t0.780131\t0.738728\t0.00552439\t4.97333\t16 \t1  \t2.9039 \n",
      "3  \t164   \t0.751044\t0.781731\t0.740025\t0.00967249\t6.47   \t16 \t1  \t3.36191\n",
      "4  \t165   \t0.759953\t0.783359\t0.739429\t0.0143909 \t7.82333\t16 \t1  \t3.31041\n",
      "5  \t166   \t0.768034\t0.791845\t0.739429\t0.0168249 \t9.43   \t19 \t3  \t2.35763\n",
      "6  \t141   \t0.771986\t0.791845\t0.740254\t0.0167702 \t9.45   \t15 \t3  \t2.58086\n",
      "7  \t155   \t0.7737  \t0.791845\t0.740319\t0.0176898 \t9.43667\t18 \t1  \t2.67569\n",
      "8  \t132   \t0.777558\t0.791845\t0.739765\t0.0178575 \t10.1433\t18 \t4  \t2.27071\n",
      "9  \t157   \t0.780477\t0.791845\t0.740514\t0.017478  \t10.0333\t16 \t1  \t1.90409\n"
     ]
    },
    {
     "name": "stderr",
     "output_type": "stream",
     "text": [
      "\r",
      " 10%|█         | 1/10 [01:16<11:24, 76.01s/it]"
     ]
    },
    {
     "name": "stdout",
     "output_type": "stream",
     "text": [
      "10 \t161   \t0.77832 \t0.791845\t0.74075 \t0.0191025 \t9.93   \t14 \t2  \t1.66286\n",
      "11 0.79184528832 0.793625714064 0.791810506567 75.99736189842224\n",
      "   \t      \t                         fitness                          \t              size             \n",
      "   \t      \t----------------------------------------------------------\t-------------------------------\n",
      "gen\tnevals\tavg     \tmax     \tmin     \tstd       \tavg    \tmax\tmin\tstd    \n",
      "0  \t300   \t0.791599\t0.803182\t0.763602\t0.00269303\t4.21333\t14 \t2  \t2.59894\n",
      "1  \t175   \t0.792828\t0.803182\t0.766204\t0.00273573\t4.53333\t16 \t2  \t3.24688\n",
      "2  \t173   \t0.795679\t0.806216\t0.790983\t0.0039256 \t5.15333\t20 \t1  \t3.44816\n",
      "3  \t161   \t0.79897 \t0.806216\t0.791123\t0.00523332\t4.34667\t18 \t1  \t2.81895\n",
      "4  \t162   \t0.800367\t0.806216\t0.791216\t0.00532864\t4.12333\t14 \t1  \t1.82431\n",
      "5  \t171   \t0.800847\t0.809842\t0.791166\t0.00610896\t5.52333\t11 \t1  \t2.10621\n",
      "6  \t184   \t0.801166\t0.815129\t0.746962\t0.00740503\t7.03333\t15 \t1  \t1.97962\n",
      "7  \t165   \t0.803799\t0.815129\t0.785897\t0.00785447\t7.84   \t17 \t1  \t2.62572\n",
      "8  \t159   \t0.806724\t0.815129\t0.791166\t0.00877857\t8.4    \t17 \t1  \t2.41937\n",
      "9  \t169   \t0.809327\t0.815129\t0.791047\t0.00817267\t8.64   \t15 \t1  \t2.16265\n"
     ]
    },
    {
     "name": "stderr",
     "output_type": "stream",
     "text": [
      "\r",
      " 20%|██        | 2/10 [02:41<10:30, 78.77s/it]"
     ]
    },
    {
     "name": "stdout",
     "output_type": "stream",
     "text": [
      "10 \t169   \t0.808742\t0.815129\t0.79154 \t0.00869596\t8.61   \t15 \t1  \t2.29301\n",
      "12 0.81512911917 0.817167102108 0.809346466542 85.17557191848755\n",
      "   \t      \t                         fitness                          \t              size             \n",
      "   \t      \t----------------------------------------------------------\t-------------------------------\n",
      "gen\tnevals\tavg     \tmax     \tmin     \tstd       \tavg    \tmax\tmin\tstd    \n",
      "0  \t300   \t0.814306\t0.820599\t0.759642\t0.00596334\t4.27667\t14 \t2  \t2.45902\n",
      "1  \t159   \t0.815264\t0.820599\t0.758146\t0.00405547\t3.96   \t11 \t1  \t2.00293\n",
      "2  \t162   \t0.816465\t0.821354\t0.814607\t0.00169043\t3.89667\t10 \t1  \t1.70078\n",
      "3  \t144   \t0.818111\t0.821354\t0.814666\t0.00218709\t4.55   \t11 \t1  \t1.40979\n",
      "4  \t156   \t0.818658\t0.821354\t0.814877\t0.00263825\t3.38   \t10 \t1  \t0.984344\n",
      "5  \t140   \t0.819979\t0.821354\t0.814292\t0.00238327\t3.05333\t9  \t1  \t0.651016\n",
      "6  \t152   \t0.819747\t0.821354\t0.814635\t0.00248943\t3.12667\t9  \t1  \t0.728438\n",
      "7  \t155   \t0.819709\t0.821354\t0.814181\t0.00252246\t3.14667\t9  \t1  \t0.760585\n",
      "8  \t161   \t0.819598\t0.821354\t0.78084 \t0.00335816\t3.06667\t9  \t1  \t0.649786\n",
      "9  \t170   \t0.819657\t0.821354\t0.814825\t0.00253998\t3.05667\t6  \t1  \t0.462013\n"
     ]
    },
    {
     "name": "stderr",
     "output_type": "stream",
     "text": [
      "\r",
      " 30%|███       | 3/10 [04:08<09:28, 81.28s/it]"
     ]
    },
    {
     "name": "stdout",
     "output_type": "stream",
     "text": [
      "10 \t199   \t0.819664\t0.826639\t0.814804\t0.0025731 \t3.07   \t9  \t1  \t0.604235\n",
      "13 0.8266385471 0.828813356354 0.817717323327 87.1389639377594\n",
      "   \t      \t                         fitness                          \t              size             \n",
      "   \t      \t----------------------------------------------------------\t-------------------------------\n",
      "gen\tnevals\tavg     \tmax     \tmin     \tstd       \tavg    \tmax\tmin\tstd    \n",
      "0  \t300   \t0.826125\t0.829364\t0.753852\t0.00590983\t4.01667\t15 \t2  \t2.60315\n",
      "1  \t161   \t0.826557\t0.829364\t0.77703 \t0.00396276\t3.48   \t11 \t1  \t1.9034 \n",
      "2  \t190   \t0.827298\t0.830489\t0.810117\t0.00142803\t3.21333\t15 \t1  \t1.49927\n",
      "3  \t159   \t0.828235\t0.830489\t0.826194\t0.00130645\t3.43   \t7  \t1  \t0.961821\n",
      "4  \t155   \t0.828602\t0.830489\t0.826194\t0.00152998\t3.88333\t11 \t1  \t1.20404 \n",
      "5  \t148   \t0.829151\t0.830489\t0.826191\t0.00160623\t4.89333\t11 \t1  \t1.11742 \n",
      "6  \t165   \t0.82909 \t0.833149\t0.826191\t0.00174577\t5.13333\t11 \t1  \t1.31993 \n",
      "7  \t165   \t0.829067\t0.833149\t0.826091\t0.00182528\t5.28333\t12 \t2  \t1.31519 \n",
      "8  \t187   \t0.829083\t0.833149\t0.826191\t0.0021757 \t5.77333\t13 \t1  \t1.76691 \n",
      "9  \t157   \t0.830152\t0.833149\t0.826194\t0.00264258\t6.53667\t15 \t1  \t1.65388 \n"
     ]
    },
    {
     "name": "stderr",
     "output_type": "stream",
     "text": [
      "\r",
      " 40%|████      | 4/10 [05:43<08:32, 85.49s/it]"
     ]
    },
    {
     "name": "stdout",
     "output_type": "stream",
     "text": [
      "10 \t166   \t0.83054 \t0.833149\t0.746564\t0.00567941\t6.73333\t12 \t1  \t1.65395 \n",
      "14 0.833148575183 0.835146696329 0.826150719199 95.29870510101318\n",
      "   \t      \t                         fitness                          \t             size             \n",
      "   \t      \t----------------------------------------------------------\t------------------------------\n",
      "gen\tnevals\tavg     \tmax     \tmin     \tstd       \tavg\tmax\tmin\tstd   \n",
      "0  \t300   \t0.832781\t0.836943\t0.786657\t0.00325497\t4  \t15 \t2  \t2.3622\n",
      "1  \t159   \t0.833563\t0.836943\t0.832578\t0.000906868\t4.10333\t12 \t1  \t2.41923\n",
      "2  \t162   \t0.834557\t0.836944\t0.832576\t0.00148135 \t6.18333\t18 \t1  \t3.61797\n",
      "3  \t161   \t0.835787\t0.841238\t0.832309\t0.00174121 \t9.38667\t16 \t1  \t2.66905\n",
      "4  \t176   \t0.836013\t0.841238\t0.83231 \t0.00211894 \t10.4633\t18 \t1  \t2.56424\n",
      "5  \t191   \t0.836761\t0.841238\t0.832489\t0.0028214  \t10.7533\t19 \t1  \t2.91533\n",
      "6  \t172   \t0.837602\t0.841238\t0.819145\t0.00384713 \t9.36   \t19 \t1  \t2.35168\n",
      "7  \t174   \t0.837863\t0.841238\t0.832643\t0.00366168 \t8.97333\t15 \t1  \t1.82555\n",
      "8  \t169   \t0.837603\t0.841238\t0.779673\t0.00498586 \t9.03333\t15 \t2  \t1.79969\n",
      "9  \t159   \t0.838016\t0.841238\t0.832668\t0.00365149 \t8.91   \t14 \t1  \t1.68579\n"
     ]
    },
    {
     "name": "stderr",
     "output_type": "stream",
     "text": [
      "\r",
      " 50%|█████     | 5/10 [07:29<07:38, 91.64s/it]"
     ]
    },
    {
     "name": "stdout",
     "output_type": "stream",
     "text": [
      "10 \t162   \t0.837903\t0.841238\t0.832664\t0.00360366 \t8.98667\t15 \t1  \t2.02151\n",
      "15 0.841238425063 0.843386875647 0.836139774859 105.97414302825928\n",
      "   \t      \t                     fitness                      \t              size             \n",
      "   \t      \t--------------------------------------------------\t-------------------------------\n",
      "gen\tnevals\tavg    \tmax     \tmin     \tstd       \tavg    \tmax\tmin\tstd    \n",
      "0  \t300   \t0.84114\t0.845365\t0.811726\t0.00176131\t4.14667\t14 \t2  \t2.39551\n",
      "1  \t161   \t0.841562\t0.845365\t0.840714\t0.00092882\t4.71667\t17 \t1  \t3.23363\n",
      "2  \t149   \t0.842433\t0.845555\t0.828483\t0.00181765\t4.46   \t14 \t1  \t2.41421\n",
      "3  \t166   \t0.843543\t0.845555\t0.840806\t0.00190227\t3.32333\t8  \t1  \t0.901178\n",
      "4  \t165   \t0.843769\t0.845555\t0.840814\t0.00192824\t3.51333\t9  \t1  \t1.03109 \n",
      "5  \t141   \t0.844194\t0.845555\t0.840408\t0.00183673\t4.48333\t9  \t1  \t1.19849 \n",
      "6  \t177   \t0.843837\t0.845555\t0.840846\t0.00189899\t5.02667\t12 \t1  \t1.28813 \n",
      "7  \t179   \t0.84396 \t0.845555\t0.841056\t0.00184913\t5.11333\t12 \t1  \t1.31421 \n",
      "8  \t183   \t0.843905\t0.845555\t0.809693\t0.00269771\t5.07667\t11 \t1  \t1.25862 \n",
      "9  \t141   \t0.844194\t0.845555\t0.840819\t0.00181689\t5.07333\t11 \t2  \t1.03664 \n"
     ]
    },
    {
     "name": "stderr",
     "output_type": "stream",
     "text": [
      "\r",
      " 60%|██████    | 6/10 [09:27<06:37, 99.49s/it]"
     ]
    },
    {
     "name": "stdout",
     "output_type": "stream",
     "text": [
      "10 \t158   \t0.844296\t0.845555\t0.840679\t0.00178422\t5.04333\t11 \t1  \t1.00737 \n",
      "16 0.845555051024 0.847533630973 0.843156660413 117.762127161026\n",
      "   \t      \t                         fitness                         \t              size             \n",
      "   \t      \t---------------------------------------------------------\t-------------------------------\n",
      "gen\tnevals\tavg     \tmax     \tmin     \tstd      \tavg \tmax\tmin\tstd    \n",
      "0  \t300   \t0.844704\t0.847241\t0.798406\t0.0052549\t4.25\t14 \t2  \t2.50882\n",
      "1  \t164   \t0.84507 \t0.847295\t0.759871\t0.00697733\t4.50667\t15 \t1  \t2.47587\n",
      "2  \t147   \t0.845538\t0.847517\t0.798105\t0.00429495\t4.46333\t13 \t1  \t2.15453\n",
      "3  \t167   \t0.846494\t0.847743\t0.844995\t0.000810909\t4.67333\t13 \t1  \t2.11659\n",
      "4  \t176   \t0.846659\t0.850015\t0.844957\t0.000918689\t6.44667\t15 \t1  \t2.16498\n",
      "5  \t161   \t0.846878\t0.850015\t0.844887\t0.00102902 \t7.54667\t15 \t3  \t1.79661\n",
      "6  \t160   \t0.847235\t0.850015\t0.844954\t0.00125544 \t8.29333\t16 \t1  \t2.22874\n",
      "7  \t159   \t0.847869\t0.850776\t0.844864\t0.00178624 \t7.87667\t15 \t2  \t2.12009\n",
      "8  \t161   \t0.848355\t0.850776\t0.845146\t0.00203493 \t7.19667\t14 \t1  \t1.88626\n",
      "9  \t177   \t0.848587\t0.850776\t0.845044\t0.00218429 \t7.89667\t15 \t1  \t2.27581\n"
     ]
    },
    {
     "name": "stderr",
     "output_type": "stream",
     "text": [
      "\r",
      " 70%|███████   | 7/10 [11:45<05:33, 111.05s/it]"
     ]
    },
    {
     "name": "stdout",
     "output_type": "stream",
     "text": [
      "10 \t136   \t0.849426\t0.850776\t0.845151\t0.00205821 \t8.72333\t15 \t1  \t1.85655\n",
      "17 0.850775567194 0.852981436398 0.84521575985 138.00916600227356\n",
      "   \t      \t                         fitness                         \t              size             \n",
      "   \t      \t---------------------------------------------------------\t-------------------------------\n",
      "gen\tnevals\tavg     \tmax     \tmin     \tstd      \tavg    \tmax\tmin\tstd    \n",
      "0  \t300   \t0.849419\t0.855161\t0.521612\t0.0192211\t4.09333\t14 \t2  \t2.50159\n",
      "1  \t157   \t0.850606\t0.855161\t0.807344\t0.0033857\t4.61333\t16 \t1  \t2.87585\n",
      "2  \t190   \t0.851306\t0.855161\t0.80996 \t0.0028041\t4.64667\t16 \t1  \t2.48633\n",
      "3  \t157   \t0.853151\t0.855161\t0.850079\t0.00212296\t3.63   \t11 \t1  \t1.44675\n",
      "4  \t166   \t0.853553\t0.855161\t0.836873\t0.00235184\t3.11333\t9  \t1  \t0.721449\n",
      "5  \t153   \t0.853584\t0.855161\t0.850117\t0.0021458 \t3.12333\t8  \t1  \t0.590019\n",
      "6  \t164   \t0.853561\t0.855161\t0.85037 \t0.00217088\t3.09   \t9  \t1  \t0.659722\n",
      "7  \t176   \t0.853349\t0.855161\t0.850264\t0.00221315\t3.18333\t8  \t1  \t0.745915\n",
      "8  \t170   \t0.853565\t0.855161\t0.818842\t0.00292045\t3.07   \t9  \t1  \t0.677077\n",
      "9  \t169   \t0.853998\t0.855161\t0.850014\t0.00198709\t3.09667\t8  \t1  \t0.64858 \n"
     ]
    },
    {
     "name": "stderr",
     "output_type": "stream",
     "text": [
      "\r",
      " 80%|████████  | 8/10 [14:22<04:09, 124.95s/it]"
     ]
    },
    {
     "name": "stdout",
     "output_type": "stream",
     "text": [
      "10 \t166   \t0.853684\t0.855161\t0.850345\t0.00212691\t3.05667\t8  \t1  \t0.571655\n",
      "18 0.855160788248 0.85742083032 0.848688242652 157.35863208770752\n",
      "   \t      \t                         fitness                         \t              size             \n",
      "   \t      \t---------------------------------------------------------\t-------------------------------\n",
      "gen\tnevals\tavg     \tmax     \tmin     \tstd      \tavg \tmax\tmin\tstd    \n",
      "0  \t300   \t0.854152\t0.856917\t0.598547\t0.0148342\t4.06\t15 \t2  \t2.52383\n",
      "1  \t153   \t0.854853\t0.857883\t0.811102\t0.0037851\t4.63\t14 \t2  \t2.54816\n",
      "2  \t169   \t0.855569\t0.857883\t0.854515\t0.000657887\t4.44667\t13 \t1  \t2.22122\n",
      "3  \t168   \t0.855975\t0.857883\t0.840556\t0.0013579  \t4.15   \t13 \t1  \t1.55161\n",
      "4  \t156   \t0.856744\t0.857907\t0.854515\t0.00126659 \t4.62333\t11 \t1  \t1.14373\n",
      "5  \t138   \t0.857148\t0.857907\t0.854826\t0.00119161 \t5.14333\t9  \t1  \t0.967534\n",
      "6  \t159   \t0.857114\t0.857913\t0.854774\t0.00125433 \t5.74667\t10 \t1  \t1.16153 \n",
      "7  \t155   \t0.85726 \t0.857913\t0.854711\t0.0011527  \t5.97333\t10 \t1  \t1.22173 \n",
      "8  \t188   \t0.857189\t0.857913\t0.854814\t0.00119016 \t6.47   \t11 \t1  \t1.51957 \n",
      "9  \t176   \t0.857071\t0.857913\t0.854814\t0.00126628 \t6.66333\t13 \t2  \t1.35769 \n"
     ]
    },
    {
     "name": "stderr",
     "output_type": "stream",
     "text": [
      "\r",
      " 90%|█████████ | 9/10 [17:02<02:15, 135.41s/it]"
     ]
    },
    {
     "name": "stdout",
     "output_type": "stream",
     "text": [
      "10 \t153   \t0.857201\t0.857913\t0.85467 \t0.0011912  \t6.75   \t11 \t3  \t1.39314 \n",
      "19 0.857912726137 0.860255400432 0.852923702314 159.79599785804749\n",
      "   \t      \t                     fitness                      \t             size             \n",
      "   \t      \t--------------------------------------------------\t------------------------------\n",
      "gen\tnevals\tavg     \tmax    \tmin     \tstd       \tavg \tmax\tmin\tstd   \n",
      "0  \t300   \t0.857177\t0.86182\t0.796577\t0.00528479\t4.07\t14 \t2  \t2.5997\n",
      "1  \t176   \t0.858087\t0.86182\t0.836411\t0.00148899\t3.95333\t13 \t1  \t2.44223\n",
      "2  \t165   \t0.858764\t0.86182\t0.826799\t0.00255701\t3.81   \t12 \t1  \t2.11988\n",
      "3  \t161   \t0.860327\t0.861965\t0.857465\t0.00182737\t3.04   \t7  \t1  \t0.71068\n",
      "4  \t167   \t0.860498\t0.861965\t0.857565\t0.00183497\t3.21   \t8  \t1  \t0.88651\n",
      "5  \t162   \t0.860551\t0.861965\t0.857469\t0.00181968\t3.36333\t10 \t2  \t1.03182\n",
      "6  \t160   \t0.860739\t0.861968\t0.857528\t0.00176983\t3.96667\t9  \t1  \t1.25919\n",
      "7  \t165   \t0.860778\t0.862112\t0.857519\t0.00177285\t5.02667\t11 \t1  \t1.28295\n",
      "8  \t149   \t0.861279\t0.862232\t0.857383\t0.00148947\t5.66   \t13 \t1  \t1.60553\n",
      "9  \t165   \t0.861231\t0.863594\t0.857634\t0.00160691\t7.14   \t15 \t3  \t2.04297\n"
     ]
    },
    {
     "name": "stderr",
     "output_type": "stream",
     "text": [
      "\r",
      "100%|██████████| 10/10 [20:15<00:00, 152.60s/it]"
     ]
    },
    {
     "name": "stdout",
     "output_type": "stream",
     "text": [
      "10 \t168   \t0.86124 \t0.863594\t0.857549\t0.00169976\t8.23333\t16 \t1  \t2.50178\n",
      "20 0.863594219635 0.865958727409 0.857048155097 192.67965579032898\n"
     ]
    },
    {
     "name": "stderr",
     "output_type": "stream",
     "text": [
      "\n"
     ]
    }
   ],
   "source": [
    "for i in tqdm(range(10)):\n",
    "    # 構文木として利用可能な演算の定義\n",
    "    pset = gp.PrimitiveSet(\"MAIN\", n_features)\n",
    "    pset.addPrimitive(operator.add, 2)\n",
    "    pset.addPrimitive(operator.sub, 2)\n",
    "    pset.addPrimitive(operator.mul, 2)\n",
    "    pset.addPrimitive(protectedDiv, 2)\n",
    "    pset.addPrimitive(operator.neg, 1)\n",
    "    pset.addPrimitive(np.cos, 1)\n",
    "    pset.addPrimitive(np.sin, 1)\n",
    "    pset.addPrimitive(np.tan, 1)\n",
    "\n",
    "    # 関数のデフォルト値の設定\n",
    "    toolbox = base.Toolbox()\n",
    "    toolbox.register(\"expr\", gp.genHalfAndHalf, pset=pset, min_=1, max_=3)\n",
    "    toolbox.register(\"individual\", tools.initIterate, creator.Individual, toolbox.expr)\n",
    "    toolbox.register(\"population\", tools.initRepeat, list, toolbox.individual)\n",
    "    toolbox.register(\"compile\", gp.compile, pset=pset)\n",
    "\n",
    "    # 評価関数の設定\n",
    "    # 新しく生成した変数を元の変数に加えて5-fold CVを求める\n",
    "    def eval_genfeat(individual):\n",
    "        func = toolbox.compile(expr=individual)\n",
    "        features_train = [X_train[:,i] for i in range(n_features)]\n",
    "        new_feat_train = func(*features_train)\n",
    "        X_train_tmp = np.c_[X_train, new_feat_train]\n",
    "        return np.mean(cross_val_score(clf, X_train_tmp, y_train, scoring=\"roc_auc\", cv=5)),\n",
    "\n",
    "    # 評価、選択、交叉、突然変異の設定\n",
    "    # 選択はサイズ10のトーナメント方式、交叉は1点交叉、突然変異は深さ2のランダム構文木生成と定義\n",
    "    toolbox.register(\"evaluate\", eval_genfeat)\n",
    "    toolbox.register(\"select\", tools.selTournament, tournsize=10)\n",
    "    toolbox.register(\"mate\", gp.cxOnePoint)\n",
    "    toolbox.register(\"expr_mut\", gp.genFull, min_=0, max_=2)\n",
    "    toolbox.register(\"mutate\", gp.mutUniform, expr=toolbox.expr_mut, pset=pset)\n",
    "\n",
    "    # 構文木の制約の設定\n",
    "    # 交叉や突然変異で深さ5以上の木ができないようにする\n",
    "    toolbox.decorate(\"mate\", gp.staticLimit(key=operator.attrgetter(\"height\"), max_value=5))\n",
    "    toolbox.decorate(\"mutate\", gp.staticLimit(key=operator.attrgetter(\"height\"), max_value=5)) \n",
    "\n",
    "    # 世代ごとの個体とベスト解を保持するクラスの生成\n",
    "    pop = toolbox.population(n=300)\n",
    "    hof = tools.HallOfFame(1)\n",
    "\n",
    "    # 統計量の表示設定\n",
    "    stats_fit = tools.Statistics(lambda ind: ind.fitness.values)\n",
    "    stats_size = tools.Statistics(len)\n",
    "    mstats = tools.MultiStatistics(fitness=stats_fit, size=stats_size)\n",
    "    mstats.register(\"avg\", np.mean)\n",
    "    mstats.register(\"std\", np.std)\n",
    "    mstats.register(\"min\", np.min)\n",
    "    mstats.register(\"max\", np.max)\n",
    "\n",
    "    # 進化の実行\n",
    "    # 交叉確率50%、突然変異確率10%、10世代まで進化\n",
    "    start_time = time.time()\n",
    "    pop, log = algorithms.eaSimple(pop, toolbox, 0.5, 0.1, 10, stats=mstats, halloffame=hof, verbose=True)\n",
    "    end_time = time.time()\n",
    "\n",
    "    # ベスト解とAUCの保持\n",
    "    best_expr = hof[0]\n",
    "    best_auc = mstats.compile(pop)[\"fitness\"][\"max\"]\n",
    "\n",
    "    # 5-fold CVのAUCスコアが前ステップのAUCを超えていた場合\n",
    "    # 生成変数を学習、テストデータに追加し、ベストAUCを更新する\n",
    "    if prev_auc < best_auc:\n",
    "        # 生成変数の追加\n",
    "        func = toolbox.compile(expr=best_expr)\n",
    "        features_train = [X_train[:,i] for i in range(n_features)]\n",
    "        features_valid = [X_valid[:,i] for i in range(n_features)]\n",
    "        new_feat_train = func(*features_train)\n",
    "        new_feat_valid = func(*features_valid)\n",
    "        X_train = np.c_[X_train, new_feat_train]\n",
    "        X_valid = np.c_[X_valid, new_feat_valid]\n",
    "\n",
    "        ### テストAUCの計算（プロット用）\n",
    "        clf.fit(X_train, y_train)\n",
    "        train_auc = roc_auc_score(y_train, clf.predict_proba(X_train)[:,1])\n",
    "        valid_auc = roc_auc_score(y_valid, clf.predict_proba(X_valid)[:,1])\n",
    "\n",
    "        # ベストAUCの更新と特徴量数の加算\n",
    "        prev_auc = best_auc\n",
    "        n_features += 1\n",
    "\n",
    "        # 表示と出力用データの保持\n",
    "        print(n_features, best_auc, train_auc, valid_auc, end_time - start_time)\n",
    "        results.append([n_features, best_auc, train_auc, valid_auc])\n",
    "        exprs.append(best_expr)\n",
    "\n",
    "        # 変数追加後の特徴量数が30を超えた場合break\n",
    "        if n_features >= 30:\n",
    "            break"
   ]
  },
  {
   "cell_type": "code",
   "execution_count": 12,
   "metadata": {},
   "outputs": [
    {
     "name": "stdout",
     "output_type": "stream",
     "text": [
      "\n",
      "### Results\n",
      "Baseline AUC train : 0.740923108671\n",
      "Baseline AUC valid : 0.741797998749\n",
      "Best AUC train : 0.863594219635\n",
      "Best AUC valid : 0.857048155097\n"
     ]
    }
   ],
   "source": [
    "# 結果の出力\n",
    "print()\n",
    "print(\"### Results\")\n",
    "print(\"Baseline AUC train :\", base_train_auc)\n",
    "print(\"Baseline AUC valid :\", base_valid_auc)\n",
    "print(\"Best AUC train :\", results[-1][1])\n",
    "print(\"Best AUC valid :\", results[-1][3])"
   ]
  },
  {
   "cell_type": "code",
   "execution_count": 13,
   "metadata": {
    "collapsed": true
   },
   "outputs": [],
   "source": [
    "# 結果のプロット\n",
    "res = np.array(results)\n",
    "plt.plot(res[:,0], res[:,1],\"o-\", color=\"b\", label=\"train(5-fold CV)\")\n",
    "plt.plot(res[:,0], res[:,3],\"o-\", color=\"r\", label=\"test\")\n",
    "plt.plot(10, base_train_auc, \"d\", color=\"b\", label = \"train baseline(5-fold CV)\")\n",
    "plt.plot(10, base_valid_auc, \"d\", color=\"r\", label = \"valid baseline\")\n",
    "plt.xlim(9,31)\n",
    "plt.grid(which=\"both\")\n",
    "plt.xlabel('n_features')\n",
    "plt.ylabel('AUC')\n",
    "plt.legend(loc=\"lower right\")\n",
    "plt.savefig(\"gp_featgen.png\")"
   ]
  },
  {
   "cell_type": "code",
   "execution_count": 14,
   "metadata": {
    "scrolled": false
   },
   "outputs": [
    {
     "name": "stdout",
     "output_type": "stream",
     "text": [
      "\n",
      "### Generated feature expression\n",
      "sub(cos(add(ARG2, ARG8)), mul(add(ARG8, ARG7), ARG6))\n",
      "mul(ARG8, sub(sub(sub(ARG9, ARG7), ARG2), ARG2))\n",
      "mul(ARG2, mul(ARG7, ARG9))\n",
      "mul(ARG2, mul(neg(neg(ARG8)), ARG7))\n",
      "mul(sub(protectedDiv(ARG13, ARG8), neg(ARG8)), neg(ARG6))\n",
      "mul(sub(ARG9, ARG8), ARG14)\n",
      "mul(ARG2, mul(ARG6, sub(sub(ARG10, ARG6), ARG6)))\n",
      "mul(ARG9, ARG2)\n",
      "mul(sin(sin(sin(cos(ARG6)))), ARG7)\n",
      "mul(ARG17, add(add(ARG8, ARG9), ARG9))\n"
     ]
    }
   ],
   "source": [
    "# 生成した構文木の出力\n",
    "print()\n",
    "print(\"### Generated feature expression\")\n",
    "for expr in exprs:\n",
    "    print(expr)"
   ]
  },
  {
   "cell_type": "markdown",
   "metadata": {},
   "source": [
    "## lightGBM(2)"
   ]
  },
  {
   "cell_type": "code",
   "execution_count": 20,
   "metadata": {},
   "outputs": [
    {
     "name": "stdout",
     "output_type": "stream",
     "text": [
      "[1]\tvalid_0's auc: 0.735962\n",
      "Training until validation scores don't improve for 10 rounds.\n",
      "[2]\tvalid_0's auc: 0.768954\n",
      "[3]\tvalid_0's auc: 0.782971\n",
      "[4]\tvalid_0's auc: 0.791694\n",
      "[5]\tvalid_0's auc: 0.792907\n",
      "[6]\tvalid_0's auc: 0.800538\n",
      "[7]\tvalid_0's auc: 0.804382\n",
      "[8]\tvalid_0's auc: 0.809861\n",
      "[9]\tvalid_0's auc: 0.814734\n",
      "[10]\tvalid_0's auc: 0.81677\n",
      "[11]\tvalid_0's auc: 0.820437\n",
      "[12]\tvalid_0's auc: 0.821808\n",
      "[13]\tvalid_0's auc: 0.824414\n",
      "[14]\tvalid_0's auc: 0.827387\n",
      "[15]\tvalid_0's auc: 0.829355\n",
      "[16]\tvalid_0's auc: 0.831069\n",
      "[17]\tvalid_0's auc: 0.832733\n",
      "[18]\tvalid_0's auc: 0.834359\n",
      "[19]\tvalid_0's auc: 0.836285\n",
      "[20]\tvalid_0's auc: 0.838337\n",
      "[21]\tvalid_0's auc: 0.840295\n",
      "[22]\tvalid_0's auc: 0.841882\n",
      "[23]\tvalid_0's auc: 0.841942\n",
      "[24]\tvalid_0's auc: 0.842822\n",
      "[25]\tvalid_0's auc: 0.843656\n",
      "[26]\tvalid_0's auc: 0.843754\n",
      "[27]\tvalid_0's auc: 0.844991\n",
      "[28]\tvalid_0's auc: 0.84553\n",
      "[29]\tvalid_0's auc: 0.846289\n",
      "[30]\tvalid_0's auc: 0.848094\n",
      "[31]\tvalid_0's auc: 0.849114\n",
      "[32]\tvalid_0's auc: 0.850293\n",
      "[33]\tvalid_0's auc: 0.851458\n",
      "[34]\tvalid_0's auc: 0.852104\n",
      "[35]\tvalid_0's auc: 0.853169\n",
      "[36]\tvalid_0's auc: 0.853691\n",
      "[37]\tvalid_0's auc: 0.854586\n",
      "[38]\tvalid_0's auc: 0.855051\n",
      "[39]\tvalid_0's auc: 0.855714\n",
      "[40]\tvalid_0's auc: 0.856112\n",
      "[41]\tvalid_0's auc: 0.857386\n",
      "[42]\tvalid_0's auc: 0.857819\n",
      "[43]\tvalid_0's auc: 0.858366\n",
      "[44]\tvalid_0's auc: 0.85897\n",
      "[45]\tvalid_0's auc: 0.859293\n",
      "[46]\tvalid_0's auc: 0.85984\n",
      "[47]\tvalid_0's auc: 0.860279\n",
      "[48]\tvalid_0's auc: 0.860654\n",
      "[49]\tvalid_0's auc: 0.861075\n",
      "[50]\tvalid_0's auc: 0.861589\n",
      "[51]\tvalid_0's auc: 0.862162\n",
      "[52]\tvalid_0's auc: 0.862591\n",
      "[53]\tvalid_0's auc: 0.863172\n",
      "[54]\tvalid_0's auc: 0.863379\n",
      "[55]\tvalid_0's auc: 0.863445\n",
      "[56]\tvalid_0's auc: 0.863874\n",
      "[57]\tvalid_0's auc: 0.863909\n",
      "[58]\tvalid_0's auc: 0.864208\n",
      "[59]\tvalid_0's auc: 0.864668\n",
      "[60]\tvalid_0's auc: 0.864372\n",
      "[61]\tvalid_0's auc: 0.864488\n",
      "[62]\tvalid_0's auc: 0.864843\n",
      "[63]\tvalid_0's auc: 0.865356\n",
      "[64]\tvalid_0's auc: 0.86536\n",
      "[65]\tvalid_0's auc: 0.86577\n",
      "[66]\tvalid_0's auc: 0.865628\n",
      "[67]\tvalid_0's auc: 0.865517\n",
      "[68]\tvalid_0's auc: 0.865179\n",
      "[69]\tvalid_0's auc: 0.865432\n",
      "[70]\tvalid_0's auc: 0.866015\n",
      "[71]\tvalid_0's auc: 0.866241\n",
      "[72]\tvalid_0's auc: 0.866672\n",
      "[73]\tvalid_0's auc: 0.866889\n",
      "[74]\tvalid_0's auc: 0.866941\n",
      "[75]\tvalid_0's auc: 0.867305\n",
      "[76]\tvalid_0's auc: 0.867824\n",
      "[77]\tvalid_0's auc: 0.868087\n",
      "[78]\tvalid_0's auc: 0.868489\n",
      "[79]\tvalid_0's auc: 0.868779\n",
      "[80]\tvalid_0's auc: 0.868949\n",
      "[81]\tvalid_0's auc: 0.869024\n",
      "[82]\tvalid_0's auc: 0.869054\n",
      "[83]\tvalid_0's auc: 0.868838\n",
      "[84]\tvalid_0's auc: 0.868802\n",
      "[85]\tvalid_0's auc: 0.869192\n",
      "[86]\tvalid_0's auc: 0.86917\n",
      "[87]\tvalid_0's auc: 0.869384\n",
      "[88]\tvalid_0's auc: 0.869614\n",
      "[89]\tvalid_0's auc: 0.869873\n",
      "[90]\tvalid_0's auc: 0.869892\n",
      "[91]\tvalid_0's auc: 0.870077\n",
      "[92]\tvalid_0's auc: 0.870181\n",
      "[93]\tvalid_0's auc: 0.870252\n",
      "[94]\tvalid_0's auc: 0.870153\n",
      "[95]\tvalid_0's auc: 0.870475\n",
      "[96]\tvalid_0's auc: 0.870388\n",
      "[97]\tvalid_0's auc: 0.870488\n",
      "[98]\tvalid_0's auc: 0.870716\n",
      "[99]\tvalid_0's auc: 0.870722\n",
      "[100]\tvalid_0's auc: 0.870871\n",
      "[101]\tvalid_0's auc: 0.87116\n",
      "[102]\tvalid_0's auc: 0.871221\n",
      "[103]\tvalid_0's auc: 0.871417\n",
      "[104]\tvalid_0's auc: 0.872114\n",
      "[105]\tvalid_0's auc: 0.872387\n",
      "[106]\tvalid_0's auc: 0.872567\n",
      "[107]\tvalid_0's auc: 0.873238\n",
      "[108]\tvalid_0's auc: 0.87343\n",
      "[109]\tvalid_0's auc: 0.873888\n",
      "[110]\tvalid_0's auc: 0.873959\n",
      "[111]\tvalid_0's auc: 0.874253\n",
      "[112]\tvalid_0's auc: 0.87427\n",
      "[113]\tvalid_0's auc: 0.874265\n",
      "[114]\tvalid_0's auc: 0.874445\n",
      "[115]\tvalid_0's auc: 0.874737\n",
      "[116]\tvalid_0's auc: 0.875083\n",
      "[117]\tvalid_0's auc: 0.874937\n",
      "[118]\tvalid_0's auc: 0.874847\n",
      "[119]\tvalid_0's auc: 0.874819\n",
      "[120]\tvalid_0's auc: 0.874798\n",
      "[121]\tvalid_0's auc: 0.874851\n",
      "[122]\tvalid_0's auc: 0.875014\n",
      "[123]\tvalid_0's auc: 0.875167\n",
      "[124]\tvalid_0's auc: 0.875553\n",
      "[125]\tvalid_0's auc: 0.875769\n",
      "[126]\tvalid_0's auc: 0.876019\n",
      "[127]\tvalid_0's auc: 0.875958\n",
      "[128]\tvalid_0's auc: 0.876329\n",
      "[129]\tvalid_0's auc: 0.876391\n",
      "[130]\tvalid_0's auc: 0.876359\n",
      "[131]\tvalid_0's auc: 0.876632\n",
      "[132]\tvalid_0's auc: 0.876843\n",
      "[133]\tvalid_0's auc: 0.876798\n",
      "[134]\tvalid_0's auc: 0.876886\n",
      "[135]\tvalid_0's auc: 0.876906\n",
      "[136]\tvalid_0's auc: 0.877036\n",
      "[137]\tvalid_0's auc: 0.877278\n",
      "[138]\tvalid_0's auc: 0.877309\n",
      "[139]\tvalid_0's auc: 0.87738\n",
      "[140]\tvalid_0's auc: 0.877498\n",
      "[141]\tvalid_0's auc: 0.877419\n",
      "[142]\tvalid_0's auc: 0.877711\n",
      "[143]\tvalid_0's auc: 0.878049\n",
      "[144]\tvalid_0's auc: 0.878311\n",
      "[145]\tvalid_0's auc: 0.878435\n",
      "[146]\tvalid_0's auc: 0.878491\n",
      "[147]\tvalid_0's auc: 0.878704\n",
      "[148]\tvalid_0's auc: 0.878857\n",
      "[149]\tvalid_0's auc: 0.879087\n",
      "[150]\tvalid_0's auc: 0.879285\n",
      "[151]\tvalid_0's auc: 0.879364\n",
      "[152]\tvalid_0's auc: 0.879991\n",
      "[153]\tvalid_0's auc: 0.88015\n",
      "[154]\tvalid_0's auc: 0.880266\n",
      "[155]\tvalid_0's auc: 0.880338\n",
      "[156]\tvalid_0's auc: 0.880127\n",
      "[157]\tvalid_0's auc: 0.879911\n",
      "[158]\tvalid_0's auc: 0.880019\n",
      "[159]\tvalid_0's auc: 0.880028\n",
      "[160]\tvalid_0's auc: 0.880125\n",
      "[161]\tvalid_0's auc: 0.880161\n",
      "[162]\tvalid_0's auc: 0.880028\n",
      "[163]\tvalid_0's auc: 0.880274\n",
      "[164]\tvalid_0's auc: 0.88023\n",
      "[165]\tvalid_0's auc: 0.880467\n",
      "[166]\tvalid_0's auc: 0.880311\n",
      "[167]\tvalid_0's auc: 0.880283\n",
      "[168]\tvalid_0's auc: 0.880391\n",
      "[169]\tvalid_0's auc: 0.880578\n",
      "[170]\tvalid_0's auc: 0.880822\n",
      "[171]\tvalid_0's auc: 0.880754\n",
      "[172]\tvalid_0's auc: 0.880719\n",
      "[173]\tvalid_0's auc: 0.880927\n",
      "[174]\tvalid_0's auc: 0.880941\n",
      "[175]\tvalid_0's auc: 0.881069\n",
      "[176]\tvalid_0's auc: 0.880994\n",
      "[177]\tvalid_0's auc: 0.881027\n",
      "[178]\tvalid_0's auc: 0.88113\n",
      "[179]\tvalid_0's auc: 0.881109\n",
      "[180]\tvalid_0's auc: 0.881098\n",
      "[181]\tvalid_0's auc: 0.880974\n",
      "[182]\tvalid_0's auc: 0.880847\n",
      "[183]\tvalid_0's auc: 0.880755\n",
      "[184]\tvalid_0's auc: 0.880736\n",
      "[185]\tvalid_0's auc: 0.880705\n",
      "[186]\tvalid_0's auc: 0.880788\n",
      "[187]\tvalid_0's auc: 0.880818\n",
      "[188]\tvalid_0's auc: 0.880879\n",
      "Early stopping, best iteration is:\n",
      "[178]\tvalid_0's auc: 0.88113\n"
     ]
    },
    {
     "data": {
      "image/png": "[encoded data removed]",
      "text/plain": [
       "<matplotlib.figure.Figure at 0x11cc4dc18>"
      ]
     },
     "metadata": {},
     "output_type": "display_data"
    }
   ],
   "source": [
    "# データセットを生成する\n",
    "lgb_train = lgb.Dataset(X_train, y_train)\n",
    "lgb_eval = lgb.Dataset(X_valid, y_valid, reference=lgb_train)\n",
    "\n",
    "lgbm_params = {\n",
    "    'learning_rate': 0.1,\n",
    "    'num_leaves': 8,\n",
    "    'boosting_type' : 'gbdt',\n",
    "    'subsample' : 0.8,\n",
    "    'reg_alpha' : 1,\n",
    "    'reg_lambda' : 1,\n",
    "    'objective': 'regression',\n",
    "    'metric': 'auc',\n",
    "    }\n",
    "\n",
    "# 上記のパラメータでモデルを学習する\n",
    "model2 = lgb.train(lgbm_params, lgb_train,\n",
    "                  # モデルの評価用データを渡す\n",
    "                  valid_sets=lgb_eval,\n",
    "                  # 最大で 1000 ラウンドまで学習する\n",
    "                  num_boost_round=1000,\n",
    "                  # 10 ラウンド経過しても性能が向上しないときは学習を打ち切る\n",
    "                  early_stopping_rounds=10)\n",
    "\n",
    "# 特徴量の重要度をプロットする\n",
    "lgb.plot_importance(model2, figsize=(20, 10))\n",
    "plt.show()"
   ]
  },
  {
   "cell_type": "markdown",
   "metadata": {},
   "source": [
    "### testでの検証"
   ]
  },
  {
   "cell_type": "code",
   "execution_count": 21,
   "metadata": {},
   "outputs": [
    {
     "name": "stdout",
     "output_type": "stream",
     "text": [
      "0.770025005606\n"
     ]
    }
   ],
   "source": [
    "# テストデータを予測する\n",
    "y_pred = model.predict(X_test, num_iteration=model2.best_iteration)\n",
    "\n",
    "# auc を計算する\n",
    "auc = roc_auc_score(y_test, y_pred)\n",
    "print(auc)"
   ]
  },
  {
   "cell_type": "code",
   "execution_count": null,
   "metadata": {
    "collapsed": true
   },
   "outputs": [],
   "source": []
  }
 ],
 "metadata": {
  "kernelspec": {
   "display_name": "Python 3",
   "language": "python",
   "name": "python3"
  },
  "language_info": {
   "codemirror_mode": {
    "name": "ipython",
    "version": 3
   },
   "file_extension": ".py",
   "mimetype": "text/x-python",
   "name": "python",
   "nbconvert_exporter": "python",
   "pygments_lexer": "ipython3",
   "version": "3.6.2"
  }
 },
 "nbformat": 4,
 "nbformat_minor": 2
}
