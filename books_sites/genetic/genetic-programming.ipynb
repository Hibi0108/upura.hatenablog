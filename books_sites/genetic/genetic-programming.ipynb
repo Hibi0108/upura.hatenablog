{
 "cells": [
  {
   "cell_type": "markdown",
   "metadata": {},
   "source": [
    "https://qiita.com/overlap/items/e7f1077ef8239f454602"
   ]
  },
  {
   "cell_type": "code",
   "execution_count": 1,
   "metadata": {
    "collapsed": true
   },
   "outputs": [],
   "source": [
    "import operator, math, random, time\n",
    "import numpy as np\n",
    "\n",
    "from deap import algorithms, base, creator, tools, gp\n",
    "\n",
    "from sklearn.datasets import make_classification\n",
    "from sklearn.model_selection import train_test_split, cross_val_score\n",
    "from sklearn.linear_model import LogisticRegression\n",
    "from sklearn.metrics import roc_auc_score, log_loss\n",
    "\n",
    "import matplotlib.pyplot as plt\n",
    "from tqdm import tqdm"
   ]
  },
  {
   "cell_type": "code",
   "execution_count": 2,
   "metadata": {
    "collapsed": true
   },
   "outputs": [],
   "source": [
    "# サンプルデータの生成\n",
    "X, y = make_classification(n_samples=10000, n_features=10, n_informative=5, n_redundant=0, n_repeated=0,\n",
    "                           n_clusters_per_class=8, random_state=123)\n",
    "X_train, X_test, y_train, y_test = train_test_split(X, y, test_size=0.2, random_state=123)"
   ]
  },
  {
   "cell_type": "markdown",
   "metadata": {},
   "source": [
    "## lightGBM"
   ]
  },
  {
   "cell_type": "code",
   "execution_count": 3,
   "metadata": {
    "collapsed": true
   },
   "outputs": [],
   "source": [
    "import lightgbm as lgb\n",
    "X_train, X_valid, y_train, y_valid = train_test_split(X_train, y_train, test_size=0.2, random_state=123)"
   ]
  },
  {
   "cell_type": "code",
   "execution_count": 4,
   "metadata": {
    "scrolled": false
   },
   "outputs": [
    {
     "name": "stdout",
     "output_type": "stream",
     "text": [
      "[1]\tvalid_0's auc: 0.743222\n",
      "Training until validation scores don't improve for 10 rounds.\n",
      "[2]\tvalid_0's auc: 0.774293\n",
      "[3]\tvalid_0's auc: 0.786269\n",
      "[4]\tvalid_0's auc: 0.796968\n",
      "[5]\tvalid_0's auc: 0.798784\n",
      "[6]\tvalid_0's auc: 0.802183\n",
      "[7]\tvalid_0's auc: 0.802674\n",
      "[8]\tvalid_0's auc: 0.805887\n",
      "[9]\tvalid_0's auc: 0.810216\n",
      "[10]\tvalid_0's auc: 0.808829\n",
      "[11]\tvalid_0's auc: 0.812117\n",
      "[12]\tvalid_0's auc: 0.812388\n",
      "[13]\tvalid_0's auc: 0.813328\n",
      "[14]\tvalid_0's auc: 0.815966\n",
      "[15]\tvalid_0's auc: 0.815584\n",
      "[16]\tvalid_0's auc: 0.816796\n",
      "[17]\tvalid_0's auc: 0.819553\n",
      "[18]\tvalid_0's auc: 0.819432\n",
      "[19]\tvalid_0's auc: 0.820362\n",
      "[20]\tvalid_0's auc: 0.822502\n",
      "[21]\tvalid_0's auc: 0.823933\n",
      "[22]\tvalid_0's auc: 0.825941\n",
      "[23]\tvalid_0's auc: 0.826346\n",
      "[24]\tvalid_0's auc: 0.828636\n",
      "[25]\tvalid_0's auc: 0.829256\n",
      "[26]\tvalid_0's auc: 0.829943\n",
      "[27]\tvalid_0's auc: 0.830962\n",
      "[28]\tvalid_0's auc: 0.831575\n",
      "[29]\tvalid_0's auc: 0.83256\n",
      "[30]\tvalid_0's auc: 0.834183\n",
      "[31]\tvalid_0's auc: 0.835503\n",
      "[32]\tvalid_0's auc: 0.836211\n",
      "[33]\tvalid_0's auc: 0.836906\n",
      "[34]\tvalid_0's auc: 0.837768\n",
      "[35]\tvalid_0's auc: 0.838464\n",
      "[36]\tvalid_0's auc: 0.8391\n",
      "[37]\tvalid_0's auc: 0.839569\n",
      "[38]\tvalid_0's auc: 0.840365\n",
      "[39]\tvalid_0's auc: 0.840882\n",
      "[40]\tvalid_0's auc: 0.841443\n",
      "[41]\tvalid_0's auc: 0.841642\n",
      "[42]\tvalid_0's auc: 0.842293\n",
      "[43]\tvalid_0's auc: 0.842808\n",
      "[44]\tvalid_0's auc: 0.844074\n",
      "[45]\tvalid_0's auc: 0.844198\n",
      "[46]\tvalid_0's auc: 0.844253\n",
      "[47]\tvalid_0's auc: 0.844709\n",
      "[48]\tvalid_0's auc: 0.845056\n",
      "[49]\tvalid_0's auc: 0.845164\n",
      "[50]\tvalid_0's auc: 0.846189\n",
      "[51]\tvalid_0's auc: 0.846457\n",
      "[52]\tvalid_0's auc: 0.847409\n",
      "[53]\tvalid_0's auc: 0.847525\n",
      "[54]\tvalid_0's auc: 0.847345\n",
      "[55]\tvalid_0's auc: 0.847442\n",
      "[56]\tvalid_0's auc: 0.848219\n",
      "[57]\tvalid_0's auc: 0.848075\n",
      "[58]\tvalid_0's auc: 0.84803\n",
      "[59]\tvalid_0's auc: 0.848765\n",
      "[60]\tvalid_0's auc: 0.84845\n",
      "[61]\tvalid_0's auc: 0.848434\n",
      "[62]\tvalid_0's auc: 0.8484\n",
      "[63]\tvalid_0's auc: 0.848242\n",
      "[64]\tvalid_0's auc: 0.848037\n",
      "[65]\tvalid_0's auc: 0.848256\n",
      "[66]\tvalid_0's auc: 0.848176\n",
      "[67]\tvalid_0's auc: 0.848564\n",
      "[68]\tvalid_0's auc: 0.848878\n",
      "[69]\tvalid_0's auc: 0.848643\n",
      "[70]\tvalid_0's auc: 0.848679\n",
      "[71]\tvalid_0's auc: 0.848851\n",
      "[72]\tvalid_0's auc: 0.848966\n",
      "[73]\tvalid_0's auc: 0.849241\n",
      "[74]\tvalid_0's auc: 0.849333\n",
      "[75]\tvalid_0's auc: 0.849436\n",
      "[76]\tvalid_0's auc: 0.849368\n",
      "[77]\tvalid_0's auc: 0.849582\n",
      "[78]\tvalid_0's auc: 0.849322\n",
      "[79]\tvalid_0's auc: 0.849762\n",
      "[80]\tvalid_0's auc: 0.849981\n",
      "[81]\tvalid_0's auc: 0.85013\n",
      "[82]\tvalid_0's auc: 0.850722\n",
      "[83]\tvalid_0's auc: 0.850761\n",
      "[84]\tvalid_0's auc: 0.851262\n",
      "[85]\tvalid_0's auc: 0.851254\n",
      "[86]\tvalid_0's auc: 0.851026\n",
      "[87]\tvalid_0's auc: 0.851601\n",
      "[88]\tvalid_0's auc: 0.851721\n",
      "[89]\tvalid_0's auc: 0.851679\n",
      "[90]\tvalid_0's auc: 0.851578\n",
      "[91]\tvalid_0's auc: 0.851559\n",
      "[92]\tvalid_0's auc: 0.851467\n",
      "[93]\tvalid_0's auc: 0.851796\n",
      "[94]\tvalid_0's auc: 0.852392\n",
      "[95]\tvalid_0's auc: 0.852139\n",
      "[96]\tvalid_0's auc: 0.852058\n",
      "[97]\tvalid_0's auc: 0.852125\n",
      "[98]\tvalid_0's auc: 0.851956\n",
      "[99]\tvalid_0's auc: 0.852342\n",
      "[100]\tvalid_0's auc: 0.852528\n",
      "[101]\tvalid_0's auc: 0.852466\n",
      "[102]\tvalid_0's auc: 0.852484\n",
      "[103]\tvalid_0's auc: 0.852339\n",
      "[104]\tvalid_0's auc: 0.852326\n",
      "[105]\tvalid_0's auc: 0.852475\n",
      "[106]\tvalid_0's auc: 0.852994\n",
      "[107]\tvalid_0's auc: 0.853011\n",
      "[108]\tvalid_0's auc: 0.852883\n",
      "[109]\tvalid_0's auc: 0.852735\n",
      "[110]\tvalid_0's auc: 0.852658\n",
      "[111]\tvalid_0's auc: 0.85311\n",
      "[112]\tvalid_0's auc: 0.853057\n",
      "[113]\tvalid_0's auc: 0.853504\n",
      "[114]\tvalid_0's auc: 0.85382\n",
      "[115]\tvalid_0's auc: 0.854024\n",
      "[116]\tvalid_0's auc: 0.854267\n",
      "[117]\tvalid_0's auc: 0.854013\n",
      "[118]\tvalid_0's auc: 0.853917\n",
      "[119]\tvalid_0's auc: 0.853754\n",
      "[120]\tvalid_0's auc: 0.853771\n",
      "[121]\tvalid_0's auc: 0.854457\n",
      "[122]\tvalid_0's auc: 0.854589\n",
      "[123]\tvalid_0's auc: 0.854478\n",
      "[124]\tvalid_0's auc: 0.854692\n",
      "[125]\tvalid_0's auc: 0.854698\n",
      "[126]\tvalid_0's auc: 0.854916\n",
      "[127]\tvalid_0's auc: 0.854981\n",
      "[128]\tvalid_0's auc: 0.855031\n",
      "[129]\tvalid_0's auc: 0.855083\n",
      "[130]\tvalid_0's auc: 0.855041\n",
      "[131]\tvalid_0's auc: 0.855119\n",
      "[132]\tvalid_0's auc: 0.855067\n",
      "[133]\tvalid_0's auc: 0.854903\n",
      "[134]\tvalid_0's auc: 0.854909\n",
      "[135]\tvalid_0's auc: 0.854748\n",
      "[136]\tvalid_0's auc: 0.855022\n",
      "[137]\tvalid_0's auc: 0.855066\n",
      "[138]\tvalid_0's auc: 0.855031\n",
      "[139]\tvalid_0's auc: 0.855328\n",
      "[140]\tvalid_0's auc: 0.855428\n",
      "[141]\tvalid_0's auc: 0.855247\n",
      "[142]\tvalid_0's auc: 0.855222\n",
      "[143]\tvalid_0's auc: 0.855355\n",
      "[144]\tvalid_0's auc: 0.855255\n",
      "[145]\tvalid_0's auc: 0.855694\n",
      "[146]\tvalid_0's auc: 0.855657\n",
      "[147]\tvalid_0's auc: 0.855611\n",
      "[148]\tvalid_0's auc: 0.855525\n",
      "[149]\tvalid_0's auc: 0.855352\n",
      "[150]\tvalid_0's auc: 0.855711\n",
      "[151]\tvalid_0's auc: 0.855816\n",
      "[152]\tvalid_0's auc: 0.855815\n",
      "[153]\tvalid_0's auc: 0.855794\n",
      "[154]\tvalid_0's auc: 0.856196\n",
      "[155]\tvalid_0's auc: 0.856029\n",
      "[156]\tvalid_0's auc: 0.856019\n",
      "[157]\tvalid_0's auc: 0.856037\n",
      "[158]\tvalid_0's auc: 0.85599\n",
      "[159]\tvalid_0's auc: 0.85603\n",
      "[160]\tvalid_0's auc: 0.85606\n",
      "[161]\tvalid_0's auc: 0.855872\n",
      "[162]\tvalid_0's auc: 0.856004\n",
      "[163]\tvalid_0's auc: 0.856154\n",
      "[164]\tvalid_0's auc: 0.856409\n",
      "[165]\tvalid_0's auc: 0.856288\n",
      "[166]\tvalid_0's auc: 0.856066\n",
      "[167]\tvalid_0's auc: 0.855908\n",
      "[168]\tvalid_0's auc: 0.855897\n",
      "[169]\tvalid_0's auc: 0.85576\n",
      "[170]\tvalid_0's auc: 0.855807\n",
      "[171]\tvalid_0's auc: 0.855688\n",
      "[172]\tvalid_0's auc: 0.855702\n",
      "[173]\tvalid_0's auc: 0.855937\n",
      "[174]\tvalid_0's auc: 0.85584\n",
      "Early stopping, best iteration is:\n",
      "[164]\tvalid_0's auc: 0.856409\n"
     ]
    },
    {
     "data": {
      "image/png": "[encoded data removed]",
      "text/plain": [
       "<matplotlib.figure.Figure at 0x1a10e6c748>"
      ]
     },
     "metadata": {},
     "output_type": "display_data"
    }
   ],
   "source": [
    "# データセットを生成する\n",
    "lgb_train = lgb.Dataset(X_train, y_train)\n",
    "lgb_eval = lgb.Dataset(X_valid, y_valid, reference=lgb_train)\n",
    "\n",
    "lgbm_params = {\n",
    "    'learning_rate': 0.1,\n",
    "    'num_leaves': 8,\n",
    "    'boosting_type' : 'gbdt',\n",
    "    'subsample' : 0.8,\n",
    "    'reg_alpha' : 1,\n",
    "    'reg_lambda' : 1,\n",
    "    'objective': 'regression',\n",
    "    'metric': 'auc',\n",
    "    }\n",
    "\n",
    "# 上記のパラメータでモデルを学習する\n",
    "model = lgb.train(lgbm_params, lgb_train,\n",
    "                  # モデルの評価用データを渡す\n",
    "                  valid_sets=lgb_eval,\n",
    "                  # 最大で 1000 ラウンドまで学習する\n",
    "                  num_boost_round=1000,\n",
    "                  # 10 ラウンド経過しても性能が向上しないときは学習を打ち切る\n",
    "                  early_stopping_rounds=10)\n",
    "\n",
    "# 特徴量の重要度をプロットする\n",
    "lgb.plot_importance(model, figsize=(20, 10))\n",
    "plt.show()"
   ]
  },
  {
   "cell_type": "markdown",
   "metadata": {},
   "source": [
    "### testでの精度"
   ]
  },
  {
   "cell_type": "code",
   "execution_count": 5,
   "metadata": {},
   "outputs": [
    {
     "name": "stdout",
     "output_type": "stream",
     "text": [
      "0.854653164841\n"
     ]
    }
   ],
   "source": [
    "from sklearn.metrics import roc_auc_score\n",
    "\n",
    "# テストデータを予測する\n",
    "y_pred = model.predict(X_test, num_iteration=model.best_iteration)\n",
    "\n",
    "# auc を計算する\n",
    "auc = roc_auc_score(y_test, y_pred)\n",
    "print(auc)"
   ]
  },
  {
   "cell_type": "code",
   "execution_count": null,
   "metadata": {
    "collapsed": true
   },
   "outputs": [],
   "source": []
  },
  {
   "cell_type": "markdown",
   "metadata": {},
   "source": [
    "## Feature Generation by Genetic Programming"
   ]
  },
  {
   "cell_type": "code",
   "execution_count": 6,
   "metadata": {},
   "outputs": [],
   "source": [
    "# ベースラインスコアの算出\n",
    "clf = LogisticRegression(penalty=\"l2\", C=1.0)\n",
    "base_train_auc = np.mean(cross_val_score(clf, X_train, y_train, scoring=\"roc_auc\", cv=5))\n",
    "clf.fit(X_train, y_train)\n",
    "base_valid_auc = roc_auc_score(y_valid, clf.predict_proba(X_valid)[:,1])"
   ]
  },
  {
   "cell_type": "code",
   "execution_count": 7,
   "metadata": {
    "collapsed": true
   },
   "outputs": [],
   "source": [
    "# 除算関数の定義\n",
    "# 左項 / 右項で右項が0の場合1を代入する\n",
    "def protectedDiv(left, right):\n",
    "    eps = 1.0e-7\n",
    "    tmp = np.zeros(len(left))\n",
    "    tmp[np.abs(right) >= eps] = left[np.abs(right) >= eps] / right[np.abs(right) >= eps]\n",
    "    tmp[np.abs(right) < eps] = 1.0\n",
    "    return tmp"
   ]
  },
  {
   "cell_type": "code",
   "execution_count": 8,
   "metadata": {
    "collapsed": true
   },
   "outputs": [],
   "source": [
    "# 乱数シード\n",
    "random.seed(123)\n",
    "\n",
    "# 適合度を最大化するような木構造を個体として定義\n",
    "creator.create(\"FitnessMax\", base.Fitness, weights=(1.0,))\n",
    "creator.create(\"Individual\", gp.PrimitiveTree, fitness=creator.FitnessMax)"
   ]
  },
  {
   "cell_type": "code",
   "execution_count": 9,
   "metadata": {
    "collapsed": true
   },
   "outputs": [],
   "source": [
    "# 初期値の計算\n",
    "# 学習データの5-fold CVのAUCスコアを評価指標の初期値とする\n",
    "n_features = X_train.shape[1]\n",
    "clf = LogisticRegression(penalty=\"l2\", C=1.0)\n",
    "prev_auc = np.mean(cross_val_score(clf, X_train, y_train, scoring=\"roc_auc\", cv=5))"
   ]
  },
  {
   "cell_type": "code",
   "execution_count": 10,
   "metadata": {
    "collapsed": true
   },
   "outputs": [],
   "source": [
    "# メインループ\n",
    "# resultsに特徴量数、学習データのAUCスコア（5-fold CV）、テストデータのAUCスコアを保持する\n",
    "# exprsに生成された特徴量の表記を保持する\n",
    "results = []\n",
    "exprs = []"
   ]
  },
  {
   "cell_type": "code",
   "execution_count": 11,
   "metadata": {
    "scrolled": false
   },
   "outputs": [
    {
     "name": "stderr",
     "output_type": "stream",
     "text": [
      "\r",
      "  0%|          | 0/10 [00:00<?, ?it/s]"
     ]
    },
    {
     "name": "stdout",
     "output_type": "stream",
     "text": [
      "   \t      \t                         fitness                          \t              size             \n",
      "   \t      \t----------------------------------------------------------\t-------------------------------\n",
      "gen\tnevals\tavg     \tmax     \tmin     \tstd       \tavg    \tmax\tmin\tstd    \n",
      "0  \t300   \t0.741035\t0.753865\t0.739936\t0.00101491\t4.52667\t14 \t2  \t2.84182\n",
      "1  \t149   \t0.742167\t0.767195\t0.740082\t0.00267789\t4.51333\t15 \t1  \t2.75617\n",
      "2  \t181   \t0.744845\t0.780131\t0.738728\t0.00552439\t4.97333\t16 \t1  \t2.9039 \n",
      "3  \t164   \t0.751044\t0.781731\t0.740025\t0.00967249\t6.47   \t16 \t1  \t3.36191\n",
      "4  \t165   \t0.759953\t0.783359\t0.739429\t0.0143909 \t7.82333\t16 \t1  \t3.31041\n",
      "5  \t166   \t0.768034\t0.791845\t0.739429\t0.0168249 \t9.43   \t19 \t3  \t2.35763\n",
      "6  \t141   \t0.771986\t0.791845\t0.740254\t0.0167702 \t9.45   \t15 \t3  \t2.58086\n",
      "7  \t155   \t0.7737  \t0.791845\t0.740319\t0.0176898 \t9.43667\t18 \t1  \t2.67569\n",
      "8  \t132   \t0.777558\t0.791845\t0.739765\t0.0178575 \t10.1433\t18 \t4  \t2.27071\n",
      "9  \t157   \t0.780477\t0.791845\t0.740514\t0.017478  \t10.0333\t16 \t1  \t1.90409\n"
     ]
    },
    {
     "name": "stderr",
     "output_type": "stream",
     "text": [
      "\r",
      " 10%|█         | 1/10 [01:02<09:24, 62.76s/it]"
     ]
    },
    {
     "name": "stdout",
     "output_type": "stream",
     "text": [
      "10 \t161   \t0.77832 \t0.791845\t0.74075 \t0.0191025 \t9.93   \t14 \t2  \t1.66286\n",
      "11 0.79184528832 0.793625714064 0.791810506567 62.746809244155884\n",
      "   \t      \t                         fitness                          \t              size             \n",
      "   \t      \t----------------------------------------------------------\t-------------------------------\n",
      "gen\tnevals\tavg     \tmax     \tmin     \tstd       \tavg    \tmax\tmin\tstd    \n",
      "0  \t300   \t0.791547\t0.803182\t0.750897\t0.00326508\t4.21333\t14 \t2  \t2.59894\n",
      "1  \t175   \t0.792821\t0.803182\t0.76435 \t0.00279728\t4.53333\t16 \t2  \t3.24688\n",
      "2  \t173   \t0.795679\t0.806216\t0.790983\t0.0039256 \t5.15333\t20 \t1  \t3.44816\n",
      "3  \t161   \t0.79897 \t0.806216\t0.791123\t0.00523332\t4.34667\t18 \t1  \t2.81895\n",
      "4  \t162   \t0.800367\t0.806216\t0.79118 \t0.00532885\t4.12333\t14 \t1  \t1.82431\n",
      "5  \t171   \t0.800847\t0.809842\t0.791166\t0.00610896\t5.52333\t11 \t1  \t2.10621\n",
      "6  \t184   \t0.801168\t0.815129\t0.747563\t0.00739047\t7.03333\t15 \t1  \t1.97962\n",
      "7  \t165   \t0.803795\t0.815129\t0.784586\t0.00786479\t7.84   \t17 \t1  \t2.62572\n",
      "8  \t159   \t0.806724\t0.815129\t0.791166\t0.00877857\t8.4    \t17 \t1  \t2.41937\n",
      "9  \t169   \t0.809327\t0.815129\t0.791047\t0.00817267\t8.64   \t15 \t1  \t2.16265\n"
     ]
    },
    {
     "name": "stderr",
     "output_type": "stream",
     "text": [
      "\r",
      " 20%|██        | 2/10 [02:16<08:48, 66.02s/it]"
     ]
    },
    {
     "name": "stdout",
     "output_type": "stream",
     "text": [
      "10 \t169   \t0.808742\t0.815129\t0.79154 \t0.00869599\t8.61   \t15 \t1  \t2.29301\n",
      "12 0.81512911917 0.817167102108 0.809346466542 73.60787415504456\n",
      "   \t      \t                         fitness                          \t              size             \n",
      "   \t      \t----------------------------------------------------------\t-------------------------------\n",
      "gen\tnevals\tavg     \tmax     \tmin     \tstd       \tavg    \tmax\tmin\tstd    \n",
      "0  \t300   \t0.814497\t0.820599\t0.761714\t0.00474594\t4.27667\t14 \t2  \t2.45902\n",
      "1  \t159   \t0.81538 \t0.820599\t0.781481\t0.00264767\t3.96   \t11 \t1  \t2.00293\n",
      "2  \t162   \t0.816465\t0.821354\t0.814607\t0.00169041\t3.89667\t10 \t1  \t1.70078\n",
      "3  \t144   \t0.818111\t0.821354\t0.814666\t0.00218709\t4.55   \t11 \t1  \t1.40979\n",
      "4  \t156   \t0.818658\t0.821354\t0.814877\t0.00263825\t3.38   \t10 \t1  \t0.984344\n",
      "5  \t140   \t0.819979\t0.821354\t0.814292\t0.00238328\t3.05333\t9  \t1  \t0.651016\n",
      "6  \t152   \t0.819747\t0.821354\t0.814635\t0.00248942\t3.12667\t9  \t1  \t0.728438\n",
      "7  \t155   \t0.819709\t0.821354\t0.814181\t0.00252246\t3.14667\t9  \t1  \t0.760585\n",
      "8  \t161   \t0.819589\t0.821354\t0.778355\t0.0034554 \t3.06667\t9  \t1  \t0.649786\n",
      "9  \t170   \t0.819657\t0.821354\t0.814825\t0.00253998\t3.05667\t6  \t1  \t0.462013\n"
     ]
    },
    {
     "name": "stderr",
     "output_type": "stream",
     "text": [
      "\r",
      " 30%|███       | 3/10 [03:35<08:10, 70.03s/it]"
     ]
    },
    {
     "name": "stdout",
     "output_type": "stream",
     "text": [
      "10 \t199   \t0.819664\t0.826639\t0.814804\t0.00257314\t3.07   \t9  \t1  \t0.604235\n",
      "13 0.8266385471 0.828813356354 0.817717323327 79.36764073371887\n",
      "   \t      \t                     fitness                      \t              size             \n",
      "   \t      \t--------------------------------------------------\t-------------------------------\n",
      "gen\tnevals\tavg     \tmax     \tmin    \tstd       \tavg    \tmax\tmin\tstd    \n",
      "0  \t300   \t0.826188\t0.829364\t0.75354\t0.00521388\t4.01667\t15 \t2  \t2.60315\n",
      "1  \t161   \t0.826409\t0.829364\t0.757925\t0.00546275\t3.48   \t11 \t1  \t1.9034 \n",
      "2  \t190   \t0.827225\t0.830489\t0.788119\t0.00248301\t3.21333\t15 \t1  \t1.49927\n",
      "3  \t159   \t0.828235\t0.830489\t0.826194\t0.00130645\t3.43   \t7  \t1  \t0.961821\n",
      "4  \t155   \t0.828602\t0.830489\t0.826194\t0.00152998\t3.88333\t11 \t1  \t1.20404 \n",
      "5  \t148   \t0.829151\t0.830489\t0.826191\t0.00160619\t4.89333\t11 \t1  \t1.11742 \n",
      "6  \t165   \t0.82909 \t0.833149\t0.826191\t0.00174577\t5.13333\t11 \t1  \t1.31993 \n",
      "7  \t165   \t0.829067\t0.833149\t0.826085\t0.00182533\t5.28333\t12 \t2  \t1.31519 \n",
      "8  \t187   \t0.829083\t0.833149\t0.826191\t0.0021757 \t5.77333\t13 \t1  \t1.76691 \n",
      "9  \t157   \t0.830152\t0.833149\t0.826194\t0.00264259\t6.53667\t15 \t1  \t1.65388 \n"
     ]
    },
    {
     "name": "stderr",
     "output_type": "stream",
     "text": [
      "\r",
      " 40%|████      | 4/10 [05:07<07:38, 76.46s/it]"
     ]
    },
    {
     "name": "stdout",
     "output_type": "stream",
     "text": [
      "10 \t166   \t0.830539\t0.833149\t0.746396\t0.00568773\t6.73333\t12 \t1  \t1.65395 \n",
      "14 0.833148575183 0.835146696329 0.826150719199 91.43969511985779\n",
      "   \t      \t                         fitness                          \t             size             \n",
      "   \t      \t----------------------------------------------------------\t------------------------------\n",
      "gen\tnevals\tavg     \tmax     \tmin     \tstd       \tavg\tmax\tmin\tstd   \n",
      "0  \t300   \t0.832818\t0.836943\t0.792398\t0.00290978\t4  \t15 \t2  \t2.3622\n",
      "1  \t159   \t0.833563\t0.836943\t0.832576\t0.00090686\t4.10333\t12 \t1  \t2.41923\n",
      "2  \t162   \t0.834557\t0.836944\t0.832576\t0.00148133\t6.17   \t18 \t1  \t3.62231\n",
      "3  \t161   \t0.835787\t0.841238\t0.83231 \t0.00174121\t9.38667\t16 \t1  \t2.66905\n",
      "4  \t176   \t0.836012\t0.841238\t0.83231 \t0.00211899\t10.4633\t18 \t1  \t2.56424\n",
      "5  \t191   \t0.836761\t0.841238\t0.832488\t0.00282142\t10.7533\t19 \t1  \t2.91533\n",
      "6  \t172   \t0.837604\t0.841238\t0.819815\t0.00383658\t9.36   \t19 \t1  \t2.35168\n",
      "7  \t174   \t0.837863\t0.841238\t0.832643\t0.00366166\t8.97333\t15 \t1  \t1.82555\n",
      "8  \t169   \t0.837608\t0.841238\t0.781171\t0.00492828\t9.03333\t15 \t2  \t1.79969\n",
      "9  \t159   \t0.838016\t0.841238\t0.832666\t0.00365146\t8.91   \t14 \t1  \t1.68579\n"
     ]
    },
    {
     "name": "stderr",
     "output_type": "stream",
     "text": [
      "\r",
      " 50%|█████     | 5/10 [06:48<06:59, 83.97s/it]"
     ]
    },
    {
     "name": "stdout",
     "output_type": "stream",
     "text": [
      "10 \t162   \t0.837903\t0.841238\t0.832665\t0.00360368\t8.98667\t15 \t1  \t2.02151\n",
      "15 0.841238425063 0.843386875647 0.836139774859 101.4787209033966\n",
      "   \t      \t                     fitness                      \t              size             \n",
      "   \t      \t--------------------------------------------------\t-------------------------------\n",
      "gen\tnevals\tavg    \tmax     \tmin     \tstd       \tavg    \tmax\tmin\tstd    \n",
      "0  \t300   \t0.84111\t0.845365\t0.802211\t0.00229528\t4.14667\t14 \t2  \t2.39551\n",
      "1  \t161   \t0.841562\t0.845365\t0.840714\t0.000928814\t4.71667\t17 \t1  \t3.23363\n",
      "2  \t149   \t0.842475\t0.845555\t0.840353\t0.00163018 \t4.46   \t14 \t1  \t2.41421\n",
      "3  \t166   \t0.843543\t0.845555\t0.840806\t0.00190219 \t3.32333\t8  \t1  \t0.901178\n",
      "4  \t165   \t0.843769\t0.845555\t0.840814\t0.00192825 \t3.51333\t9  \t1  \t1.03109 \n",
      "5  \t141   \t0.844194\t0.845555\t0.840408\t0.00183671 \t4.48333\t9  \t1  \t1.19849 \n",
      "6  \t177   \t0.843837\t0.845555\t0.840846\t0.001899   \t5.02667\t12 \t1  \t1.28813 \n",
      "7  \t179   \t0.84396 \t0.845555\t0.841056\t0.00184914 \t5.11333\t12 \t1  \t1.31421 \n",
      "8  \t183   \t0.843924\t0.845555\t0.815602\t0.00245886 \t5.07667\t11 \t1  \t1.25862 \n",
      "9  \t141   \t0.844194\t0.845555\t0.840819\t0.00181694 \t5.07333\t11 \t2  \t1.03664 \n"
     ]
    },
    {
     "name": "stderr",
     "output_type": "stream",
     "text": [
      "\r",
      " 60%|██████    | 6/10 [08:45<06:15, 93.79s/it]"
     ]
    },
    {
     "name": "stdout",
     "output_type": "stream",
     "text": [
      "10 \t158   \t0.844296\t0.845555\t0.840679\t0.00178421 \t5.04333\t11 \t1  \t1.00737 \n",
      "16 0.845555051024 0.847533630973 0.843156660413 116.65608072280884\n",
      "   \t      \t                     fitness                      \t              size             \n",
      "   \t      \t--------------------------------------------------\t-------------------------------\n",
      "gen\tnevals\tavg    \tmax     \tmin     \tstd       \tavg \tmax\tmin\tstd    \n",
      "0  \t300   \t0.84476\t0.847241\t0.790206\t0.00507215\t4.25\t14 \t2  \t2.50882\n",
      "1  \t164   \t0.845068\t0.847295\t0.759408\t0.00700985\t4.51\t15 \t1  \t2.50265\n",
      "2  \t147   \t0.845501\t0.847517\t0.79624 \t0.00466923\t4.45667\t13 \t1  \t2.15595\n",
      "3  \t167   \t0.846494\t0.847743\t0.844995\t0.000811101\t4.67333\t13 \t1  \t2.11659\n",
      "4  \t176   \t0.846655\t0.850015\t0.844645\t0.000924633\t6.44667\t15 \t1  \t2.16498\n",
      "5  \t161   \t0.846878\t0.850015\t0.844887\t0.00102908 \t7.54667\t15 \t3  \t1.79661\n",
      "6  \t160   \t0.847235\t0.850015\t0.844954\t0.00125541 \t8.29333\t16 \t1  \t2.22874\n",
      "7  \t159   \t0.847869\t0.850776\t0.844862\t0.00178624 \t7.87667\t15 \t2  \t2.12009\n",
      "8  \t161   \t0.848298\t0.850776\t0.827889\t0.00234505 \t7.19667\t14 \t1  \t1.88626\n",
      "9  \t177   \t0.848587\t0.850776\t0.845042\t0.00218431 \t7.89667\t15 \t1  \t2.27581\n"
     ]
    },
    {
     "name": "stderr",
     "output_type": "stream",
     "text": [
      "\r",
      " 70%|███████   | 7/10 [11:03<05:21, 107.19s/it]"
     ]
    },
    {
     "name": "stdout",
     "output_type": "stream",
     "text": [
      "10 \t136   \t0.849427\t0.850776\t0.845151\t0.00205814 \t8.72333\t15 \t1  \t1.85655\n",
      "17 0.850775567194 0.852981436398 0.84521575985 138.4323480129242\n",
      "   \t      \t                         fitness                         \t              size             \n",
      "   \t      \t---------------------------------------------------------\t-------------------------------\n",
      "gen\tnevals\tavg     \tmax     \tmin     \tstd      \tavg    \tmax\tmin\tstd    \n",
      "0  \t300   \t0.849468\t0.855161\t0.521612\t0.0191064\t4.09333\t14 \t2  \t2.50159\n",
      "1  \t157   \t0.850648\t0.855161\t0.817517\t0.00290287\t4.66667\t16 \t1  \t2.94317\n",
      "2  \t190   \t0.851344\t0.855161\t0.821677\t0.0022561 \t4.7    \t16 \t1  \t2.52521\n",
      "3  \t157   \t0.85315 \t0.855161\t0.850078\t0.00212362\t3.63   \t11 \t1  \t1.44675\n",
      "4  \t166   \t0.853598\t0.855161\t0.850282\t0.00215249\t3.11333\t9  \t1  \t0.721449\n",
      "5  \t153   \t0.853584\t0.855161\t0.850118\t0.0021458 \t3.12333\t8  \t1  \t0.590019\n",
      "6  \t164   \t0.853561\t0.855161\t0.85037 \t0.00217087\t3.09   \t9  \t1  \t0.659722\n",
      "7  \t176   \t0.853349\t0.855161\t0.850264\t0.00221312\t3.18333\t8  \t1  \t0.745915\n",
      "8  \t170   \t0.853671\t0.855161\t0.850333\t0.00212833\t3.07   \t9  \t1  \t0.677077\n",
      "9  \t169   \t0.853998\t0.855161\t0.850014\t0.00198708\t3.09667\t8  \t1  \t0.64858 \n"
     ]
    },
    {
     "name": "stderr",
     "output_type": "stream",
     "text": [
      "\r",
      " 80%|████████  | 8/10 [13:28<03:57, 118.55s/it]"
     ]
    },
    {
     "name": "stdout",
     "output_type": "stream",
     "text": [
      "10 \t166   \t0.853684\t0.855161\t0.850339\t0.00212695\t3.05667\t8  \t1  \t0.571655\n",
      "18 0.855160788248 0.85742083032 0.848688242652 145.0230360031128\n",
      "   \t      \t                        fitness                         \t              size             \n",
      "   \t      \t--------------------------------------------------------\t-------------------------------\n",
      "gen\tnevals\tavg     \tmax     \tmin     \tstd     \tavg \tmax\tmin\tstd    \n",
      "0  \t300   \t0.854158\t0.856917\t0.598749\t0.014822\t4.06\t15 \t2  \t2.52383\n",
      "1  \t153   \t0.854734\t0.857883\t0.811102\t0.0041888\t4.64333\t14 \t2  \t2.56049\n",
      "2  \t169   \t0.855553\t0.857883\t0.854515\t0.000659972\t4.52333\t13 \t1  \t2.37966\n",
      "3  \t168   \t0.855859\t0.857883\t0.823174\t0.00232504 \t4.17333\t13 \t1  \t1.59058\n",
      "4  \t156   \t0.85668 \t0.857907\t0.835788\t0.00174756 \t4.62333\t11 \t1  \t1.14373\n",
      "5  \t138   \t0.857148\t0.857907\t0.854826\t0.00119158 \t5.14333\t9  \t1  \t0.967534\n",
      "6  \t159   \t0.857114\t0.857913\t0.854772\t0.00125438 \t5.74667\t10 \t1  \t1.16153 \n",
      "7  \t155   \t0.85726 \t0.857913\t0.854706\t0.00115275 \t5.97333\t10 \t1  \t1.22173 \n",
      "8  \t188   \t0.857189\t0.857913\t0.854814\t0.00119026 \t6.47   \t11 \t1  \t1.51957 \n",
      "9  \t176   \t0.857071\t0.857913\t0.854814\t0.00126637 \t6.66333\t13 \t2  \t1.35769 \n"
     ]
    },
    {
     "name": "stderr",
     "output_type": "stream",
     "text": [
      "\r",
      " 90%|█████████ | 9/10 [15:58<02:07, 127.96s/it]"
     ]
    },
    {
     "name": "stdout",
     "output_type": "stream",
     "text": [
      "10 \t153   \t0.857201\t0.857913\t0.854672\t0.00119114 \t6.75   \t11 \t3  \t1.39314 \n",
      "19 0.857912726137 0.860254325992 0.852925265791 149.8909990787506\n",
      "   \t      \t                     fitness                      \t             size             \n",
      "   \t      \t--------------------------------------------------\t------------------------------\n",
      "gen\tnevals\tavg     \tmax    \tmin     \tstd       \tavg \tmax\tmin\tstd   \n",
      "0  \t300   \t0.857141\t0.86182\t0.780958\t0.00611514\t4.07\t14 \t2  \t2.5997\n",
      "1  \t175   \t0.858063\t0.86182\t0.826113\t0.00202634\t3.97\t13 \t1  \t2.45406\n",
      "2  \t157   \t0.859008\t0.86182\t0.853396\t0.0016019 \t3.68333\t13 \t1  \t2.12518\n",
      "3  \t162   \t0.860417\t0.861821\t0.857242\t0.00183967\t3.04   \t9  \t1  \t0.733757\n",
      "4  \t161   \t0.860559\t0.861821\t0.857564\t0.00181291\t3.14   \t8  \t1  \t0.824864\n",
      "5  \t165   \t0.860518\t0.861821\t0.857469\t0.00181771\t3.08667\t9  \t1  \t0.610319\n",
      "6  \t165   \t0.860592\t0.861821\t0.857383\t0.00180706\t3.06333\t9  \t1  \t0.697129\n",
      "7  \t177   \t0.860598\t0.861821\t0.857614\t0.00179804\t3.15333\t9  \t1  \t0.834559\n",
      "8  \t164   \t0.860592\t0.861821\t0.857397\t0.00179944\t3.07   \t6  \t1  \t0.481422\n",
      "9  \t159   \t0.860657\t0.861821\t0.857308\t0.00176767\t3.06333\t6  \t1  \t0.399152\n"
     ]
    },
    {
     "name": "stderr",
     "output_type": "stream",
     "text": [
      "\r",
      "100%|██████████| 10/10 [18:45<00:00, 139.67s/it]"
     ]
    },
    {
     "name": "stdout",
     "output_type": "stream",
     "text": [
      "10 \t169   \t0.86038 \t0.861821\t0.84866 \t0.0019821 \t3.12333\t8  \t1  \t0.744842\n",
      "20 0.861820957498 0.86415366691 0.855623827392 166.96869921684265\n"
     ]
    },
    {
     "name": "stderr",
     "output_type": "stream",
     "text": [
      "\n"
     ]
    }
   ],
   "source": [
    "for i in tqdm(range(10)):\n",
    "    # 構文木として利用可能な演算の定義\n",
    "    pset = gp.PrimitiveSet(\"MAIN\", n_features)\n",
    "    pset.addPrimitive(operator.add, 2)\n",
    "    pset.addPrimitive(operator.sub, 2)\n",
    "    pset.addPrimitive(operator.mul, 2)\n",
    "    pset.addPrimitive(protectedDiv, 2)\n",
    "    pset.addPrimitive(operator.neg, 1)\n",
    "    pset.addPrimitive(np.cos, 1)\n",
    "    pset.addPrimitive(np.sin, 1)\n",
    "    pset.addPrimitive(np.tan, 1)\n",
    "\n",
    "    # 関数のデフォルト値の設定\n",
    "    toolbox = base.Toolbox()\n",
    "    toolbox.register(\"expr\", gp.genHalfAndHalf, pset=pset, min_=1, max_=3)\n",
    "    toolbox.register(\"individual\", tools.initIterate, creator.Individual, toolbox.expr)\n",
    "    toolbox.register(\"population\", tools.initRepeat, list, toolbox.individual)\n",
    "    toolbox.register(\"compile\", gp.compile, pset=pset)\n",
    "\n",
    "    # 評価関数の設定\n",
    "    # 新しく生成した変数を元の変数に加えて5-fold CVを求める\n",
    "    def eval_genfeat(individual):\n",
    "        func = toolbox.compile(expr=individual)\n",
    "        features_train = [X_train[:,i] for i in range(n_features)]\n",
    "        new_feat_train = func(*features_train)\n",
    "        X_train_tmp = np.c_[X_train, new_feat_train]\n",
    "        return np.mean(cross_val_score(clf, X_train_tmp, y_train, scoring=\"roc_auc\", cv=5)),\n",
    "\n",
    "    # 評価、選択、交叉、突然変異の設定\n",
    "    # 選択はサイズ10のトーナメント方式、交叉は1点交叉、突然変異は深さ2のランダム構文木生成と定義\n",
    "    toolbox.register(\"evaluate\", eval_genfeat)\n",
    "    toolbox.register(\"select\", tools.selTournament, tournsize=10)\n",
    "    toolbox.register(\"mate\", gp.cxOnePoint)\n",
    "    toolbox.register(\"expr_mut\", gp.genFull, min_=0, max_=2)\n",
    "    toolbox.register(\"mutate\", gp.mutUniform, expr=toolbox.expr_mut, pset=pset)\n",
    "\n",
    "    # 構文木の制約の設定\n",
    "    # 交叉や突然変異で深さ5以上の木ができないようにする\n",
    "    toolbox.decorate(\"mate\", gp.staticLimit(key=operator.attrgetter(\"height\"), max_value=5))\n",
    "    toolbox.decorate(\"mutate\", gp.staticLimit(key=operator.attrgetter(\"height\"), max_value=5)) \n",
    "\n",
    "    # 世代ごとの個体とベスト解を保持するクラスの生成\n",
    "    pop = toolbox.population(n=300)\n",
    "    hof = tools.HallOfFame(1)\n",
    "\n",
    "    # 統計量の表示設定\n",
    "    stats_fit = tools.Statistics(lambda ind: ind.fitness.values)\n",
    "    stats_size = tools.Statistics(len)\n",
    "    mstats = tools.MultiStatistics(fitness=stats_fit, size=stats_size)\n",
    "    mstats.register(\"avg\", np.mean)\n",
    "    mstats.register(\"std\", np.std)\n",
    "    mstats.register(\"min\", np.min)\n",
    "    mstats.register(\"max\", np.max)\n",
    "\n",
    "    # 進化の実行\n",
    "    # 交叉確率50%、突然変異確率10%、10世代まで進化\n",
    "    start_time = time.time()\n",
    "    pop, log = algorithms.eaSimple(pop, toolbox, 0.5, 0.1, 10, stats=mstats, halloffame=hof, verbose=True)\n",
    "    end_time = time.time()\n",
    "\n",
    "    # ベスト解とAUCの保持\n",
    "    best_expr = hof[0]\n",
    "    best_auc = mstats.compile(pop)[\"fitness\"][\"max\"]\n",
    "\n",
    "    # 5-fold CVのAUCスコアが前ステップのAUCを超えていた場合\n",
    "    # 生成変数を学習、テストデータに追加し、ベストAUCを更新する\n",
    "    if prev_auc < best_auc:\n",
    "        # 生成変数の追加\n",
    "        func = toolbox.compile(expr=best_expr)\n",
    "        features_train = [X_train[:,i] for i in range(n_features)]\n",
    "        features_valid = [X_valid[:,i] for i in range(n_features)]\n",
    "        features_test = [X_test[:,i] for i in range(n_features)]\n",
    "        new_feat_train = func(*features_train)\n",
    "        new_feat_valid = func(*features_valid)\n",
    "        new_feat_test = func(*features_test)\n",
    "        X_train = np.c_[X_train, new_feat_train]\n",
    "        X_valid = np.c_[X_valid, new_feat_valid]\n",
    "        X_test = np.c_[X_test, new_feat_test]\n",
    "\n",
    "        ### テストAUCの計算（プロット用）\n",
    "        clf.fit(X_train, y_train)\n",
    "        train_auc = roc_auc_score(y_train, clf.predict_proba(X_train)[:,1])\n",
    "        valid_auc = roc_auc_score(y_valid, clf.predict_proba(X_valid)[:,1])\n",
    "\n",
    "        # ベストAUCの更新と特徴量数の加算\n",
    "        prev_auc = best_auc\n",
    "        n_features += 1\n",
    "\n",
    "        # 表示と出力用データの保持\n",
    "        print(n_features, best_auc, train_auc, valid_auc, end_time - start_time)\n",
    "        results.append([n_features, best_auc, train_auc, valid_auc])\n",
    "        exprs.append(best_expr)\n",
    "\n",
    "        # 変数追加後の特徴量数が30を超えた場合break\n",
    "        if n_features >= 30:\n",
    "            break"
   ]
  },
  {
   "cell_type": "code",
   "execution_count": 12,
   "metadata": {},
   "outputs": [
    {
     "name": "stdout",
     "output_type": "stream",
     "text": [
      "\n",
      "### Results\n",
      "Baseline AUC train : 0.740923108671\n",
      "Baseline AUC valid : 0.741797998749\n",
      "Best AUC train : 0.861820957498\n",
      "Best AUC valid : 0.855623827392\n"
     ]
    }
   ],
   "source": [
    "# 結果の出力\n",
    "print()\n",
    "print(\"### Results\")\n",
    "print(\"Baseline AUC train :\", base_train_auc)\n",
    "print(\"Baseline AUC valid :\", base_valid_auc)\n",
    "print(\"Best AUC train :\", results[-1][1])\n",
    "print(\"Best AUC valid :\", results[-1][3])"
   ]
  },
  {
   "cell_type": "code",
   "execution_count": 13,
   "metadata": {
    "collapsed": true
   },
   "outputs": [],
   "source": [
    "# 結果のプロット\n",
    "res = np.array(results)\n",
    "plt.plot(res[:,0], res[:,1],\"o-\", color=\"b\", label=\"train(5-fold CV)\")\n",
    "plt.plot(res[:,0], res[:,3],\"o-\", color=\"r\", label=\"test\")\n",
    "plt.plot(10, base_train_auc, \"d\", color=\"b\", label = \"train baseline(5-fold CV)\")\n",
    "plt.plot(10, base_valid_auc, \"d\", color=\"r\", label = \"valid baseline\")\n",
    "plt.xlim(9,31)\n",
    "plt.grid(which=\"both\")\n",
    "plt.xlabel('n_features')\n",
    "plt.ylabel('AUC')\n",
    "plt.legend(loc=\"lower right\")\n",
    "plt.savefig(\"gp_featgen.png\")"
   ]
  },
  {
   "cell_type": "code",
   "execution_count": 14,
   "metadata": {
    "scrolled": false
   },
   "outputs": [
    {
     "name": "stdout",
     "output_type": "stream",
     "text": [
      "\n",
      "### Generated feature expression\n",
      "sub(cos(add(ARG2, ARG8)), mul(add(ARG8, ARG7), ARG6))\n",
      "mul(ARG8, sub(sub(sub(ARG9, ARG7), ARG2), ARG2))\n",
      "mul(ARG2, mul(ARG7, ARG9))\n",
      "mul(ARG2, mul(neg(neg(ARG8)), ARG7))\n",
      "mul(sub(protectedDiv(ARG13, ARG8), neg(ARG8)), neg(ARG6))\n",
      "mul(sub(ARG9, ARG8), ARG14)\n",
      "mul(ARG2, mul(ARG6, sub(sub(ARG10, ARG6), ARG6)))\n",
      "mul(ARG9, ARG2)\n",
      "mul(sin(sin(sin(cos(ARG6)))), ARG7)\n",
      "mul(ARG17, ARG9)\n"
     ]
    }
   ],
   "source": [
    "# 生成した構文木の出力\n",
    "print()\n",
    "print(\"### Generated feature expression\")\n",
    "for expr in exprs:\n",
    "    print(expr)"
   ]
  },
  {
   "cell_type": "markdown",
   "metadata": {},
   "source": [
    "## lightGBM(2)"
   ]
  },
  {
   "cell_type": "code",
   "execution_count": 15,
   "metadata": {},
   "outputs": [
    {
     "name": "stdout",
     "output_type": "stream",
     "text": [
      "[1]\tvalid_0's auc: 0.73483\n",
      "Training until validation scores don't improve for 10 rounds.\n",
      "[2]\tvalid_0's auc: 0.768259\n",
      "[3]\tvalid_0's auc: 0.782229\n",
      "[4]\tvalid_0's auc: 0.790213\n",
      "[5]\tvalid_0's auc: 0.790847\n",
      "[6]\tvalid_0's auc: 0.798422\n",
      "[7]\tvalid_0's auc: 0.804781\n",
      "[8]\tvalid_0's auc: 0.810563\n",
      "[9]\tvalid_0's auc: 0.811961\n",
      "[10]\tvalid_0's auc: 0.81628\n",
      "[11]\tvalid_0's auc: 0.817469\n",
      "[12]\tvalid_0's auc: 0.820366\n",
      "[13]\tvalid_0's auc: 0.82299\n",
      "[14]\tvalid_0's auc: 0.825577\n",
      "[15]\tvalid_0's auc: 0.828225\n",
      "[16]\tvalid_0's auc: 0.830192\n",
      "[17]\tvalid_0's auc: 0.833227\n",
      "[18]\tvalid_0's auc: 0.834441\n",
      "[19]\tvalid_0's auc: 0.83521\n",
      "[20]\tvalid_0's auc: 0.836793\n",
      "[21]\tvalid_0's auc: 0.837385\n",
      "[22]\tvalid_0's auc: 0.838903\n",
      "[23]\tvalid_0's auc: 0.840112\n",
      "[24]\tvalid_0's auc: 0.841799\n",
      "[25]\tvalid_0's auc: 0.843046\n",
      "[26]\tvalid_0's auc: 0.844179\n",
      "[27]\tvalid_0's auc: 0.844971\n",
      "[28]\tvalid_0's auc: 0.846117\n",
      "[29]\tvalid_0's auc: 0.846957\n",
      "[30]\tvalid_0's auc: 0.84824\n",
      "[31]\tvalid_0's auc: 0.848208\n",
      "[32]\tvalid_0's auc: 0.84894\n",
      "[33]\tvalid_0's auc: 0.849717\n",
      "[34]\tvalid_0's auc: 0.850592\n",
      "[35]\tvalid_0's auc: 0.851694\n",
      "[36]\tvalid_0's auc: 0.852869\n",
      "[37]\tvalid_0's auc: 0.853782\n",
      "[38]\tvalid_0's auc: 0.854233\n",
      "[39]\tvalid_0's auc: 0.854368\n",
      "[40]\tvalid_0's auc: 0.854973\n",
      "[41]\tvalid_0's auc: 0.855089\n",
      "[42]\tvalid_0's auc: 0.855916\n",
      "[43]\tvalid_0's auc: 0.856396\n",
      "[44]\tvalid_0's auc: 0.8573\n",
      "[45]\tvalid_0's auc: 0.857706\n",
      "[46]\tvalid_0's auc: 0.85826\n",
      "[47]\tvalid_0's auc: 0.858628\n",
      "[48]\tvalid_0's auc: 0.859212\n",
      "[49]\tvalid_0's auc: 0.8596\n",
      "[50]\tvalid_0's auc: 0.859977\n",
      "[51]\tvalid_0's auc: 0.860342\n",
      "[52]\tvalid_0's auc: 0.860933\n",
      "[53]\tvalid_0's auc: 0.861439\n",
      "[54]\tvalid_0's auc: 0.862251\n",
      "[55]\tvalid_0's auc: 0.863161\n",
      "[56]\tvalid_0's auc: 0.863179\n",
      "[57]\tvalid_0's auc: 0.86362\n",
      "[58]\tvalid_0's auc: 0.864283\n",
      "[59]\tvalid_0's auc: 0.864435\n",
      "[60]\tvalid_0's auc: 0.864638\n",
      "[61]\tvalid_0's auc: 0.865256\n",
      "[62]\tvalid_0's auc: 0.865718\n",
      "[63]\tvalid_0's auc: 0.865976\n",
      "[64]\tvalid_0's auc: 0.865812\n",
      "[65]\tvalid_0's auc: 0.866402\n",
      "[66]\tvalid_0's auc: 0.866332\n",
      "[67]\tvalid_0's auc: 0.866595\n",
      "[68]\tvalid_0's auc: 0.866685\n",
      "[69]\tvalid_0's auc: 0.866717\n",
      "[70]\tvalid_0's auc: 0.867197\n",
      "[71]\tvalid_0's auc: 0.866998\n",
      "[72]\tvalid_0's auc: 0.866768\n",
      "[73]\tvalid_0's auc: 0.866909\n",
      "[74]\tvalid_0's auc: 0.86723\n",
      "[75]\tvalid_0's auc: 0.867542\n",
      "[76]\tvalid_0's auc: 0.867752\n",
      "[77]\tvalid_0's auc: 0.867606\n",
      "[78]\tvalid_0's auc: 0.867883\n",
      "[79]\tvalid_0's auc: 0.86803\n",
      "[80]\tvalid_0's auc: 0.868033\n",
      "[81]\tvalid_0's auc: 0.868313\n",
      "[82]\tvalid_0's auc: 0.868632\n",
      "[83]\tvalid_0's auc: 0.868713\n",
      "[84]\tvalid_0's auc: 0.868954\n",
      "[85]\tvalid_0's auc: 0.869345\n",
      "[86]\tvalid_0's auc: 0.869511\n",
      "[87]\tvalid_0's auc: 0.869867\n",
      "[88]\tvalid_0's auc: 0.869962\n",
      "[89]\tvalid_0's auc: 0.869689\n",
      "[90]\tvalid_0's auc: 0.870045\n",
      "[91]\tvalid_0's auc: 0.87013\n",
      "[92]\tvalid_0's auc: 0.870736\n",
      "[93]\tvalid_0's auc: 0.871037\n",
      "[94]\tvalid_0's auc: 0.870838\n",
      "[95]\tvalid_0's auc: 0.870902\n",
      "[96]\tvalid_0's auc: 0.871166\n",
      "[97]\tvalid_0's auc: 0.871293\n",
      "[98]\tvalid_0's auc: 0.871438\n",
      "[99]\tvalid_0's auc: 0.87141\n",
      "[100]\tvalid_0's auc: 0.871498\n",
      "[101]\tvalid_0's auc: 0.871671\n",
      "[102]\tvalid_0's auc: 0.872009\n",
      "[103]\tvalid_0's auc: 0.872109\n",
      "[104]\tvalid_0's auc: 0.872068\n",
      "[105]\tvalid_0's auc: 0.87215\n",
      "[106]\tvalid_0's auc: 0.872261\n",
      "[107]\tvalid_0's auc: 0.872258\n",
      "[108]\tvalid_0's auc: 0.872054\n",
      "[109]\tvalid_0's auc: 0.872169\n",
      "[110]\tvalid_0's auc: 0.87232\n",
      "[111]\tvalid_0's auc: 0.872348\n",
      "[112]\tvalid_0's auc: 0.872486\n",
      "[113]\tvalid_0's auc: 0.872932\n",
      "[114]\tvalid_0's auc: 0.873011\n",
      "[115]\tvalid_0's auc: 0.873018\n",
      "[116]\tvalid_0's auc: 0.873224\n",
      "[117]\tvalid_0's auc: 0.873168\n",
      "[118]\tvalid_0's auc: 0.873225\n",
      "[119]\tvalid_0's auc: 0.873321\n",
      "[120]\tvalid_0's auc: 0.873301\n",
      "[121]\tvalid_0's auc: 0.873462\n",
      "[122]\tvalid_0's auc: 0.87356\n",
      "[123]\tvalid_0's auc: 0.874273\n",
      "[124]\tvalid_0's auc: 0.874174\n",
      "[125]\tvalid_0's auc: 0.874212\n",
      "[126]\tvalid_0's auc: 0.874437\n",
      "[127]\tvalid_0's auc: 0.874622\n",
      "[128]\tvalid_0's auc: 0.874998\n",
      "[129]\tvalid_0's auc: 0.875119\n",
      "[130]\tvalid_0's auc: 0.875463\n",
      "[131]\tvalid_0's auc: 0.875458\n",
      "[132]\tvalid_0's auc: 0.875477\n",
      "[133]\tvalid_0's auc: 0.876016\n",
      "[134]\tvalid_0's auc: 0.876016\n",
      "[135]\tvalid_0's auc: 0.876212\n",
      "[136]\tvalid_0's auc: 0.876079\n",
      "[137]\tvalid_0's auc: 0.876332\n",
      "[138]\tvalid_0's auc: 0.876315\n",
      "[139]\tvalid_0's auc: 0.87662\n",
      "[140]\tvalid_0's auc: 0.876649\n",
      "[141]\tvalid_0's auc: 0.877062\n",
      "[142]\tvalid_0's auc: 0.877109\n",
      "[143]\tvalid_0's auc: 0.877075\n",
      "[144]\tvalid_0's auc: 0.876889\n",
      "[145]\tvalid_0's auc: 0.876934\n",
      "[146]\tvalid_0's auc: 0.876704\n",
      "[147]\tvalid_0's auc: 0.876632\n",
      "[148]\tvalid_0's auc: 0.876632\n",
      "[149]\tvalid_0's auc: 0.876562\n",
      "[150]\tvalid_0's auc: 0.876623\n",
      "[151]\tvalid_0's auc: 0.876771\n",
      "[152]\tvalid_0's auc: 0.876984\n",
      "Early stopping, best iteration is:\n",
      "[142]\tvalid_0's auc: 0.877109\n"
     ]
    },
    {
     "data": {
      "image/png": "[encoded data removed]",
      "text/plain": [
       "<matplotlib.figure.Figure at 0x1a10f5c6a0>"
      ]
     },
     "metadata": {},
     "output_type": "display_data"
    },
    {
     "data": {
      "image/png": "[encoded data removed]",
      "text/plain": [
       "<matplotlib.figure.Figure at 0x1a10f5c198>"
      ]
     },
     "metadata": {},
     "output_type": "display_data"
    }
   ],
   "source": [
    "# データセットを生成する\n",
    "lgb_train = lgb.Dataset(X_train, y_train)\n",
    "lgb_eval = lgb.Dataset(X_valid, y_valid, reference=lgb_train)\n",
    "\n",
    "lgbm_params = {\n",
    "    'learning_rate': 0.1,\n",
    "    'num_leaves': 8,\n",
    "    'boosting_type' : 'gbdt',\n",
    "    'subsample' : 0.8,\n",
    "    'reg_alpha' : 1,\n",
    "    'reg_lambda' : 1,\n",
    "    'objective': 'regression',\n",
    "    'metric': 'auc',\n",
    "    }\n",
    "\n",
    "# 上記のパラメータでモデルを学習する\n",
    "model2 = lgb.train(lgbm_params, lgb_train,\n",
    "                  # モデルの評価用データを渡す\n",
    "                  valid_sets=lgb_eval,\n",
    "                  # 最大で 1000 ラウンドまで学習する\n",
    "                  num_boost_round=1000,\n",
    "                  # 10 ラウンド経過しても性能が向上しないときは学習を打ち切る\n",
    "                  early_stopping_rounds=10)\n",
    "\n",
    "# 特徴量の重要度をプロットする\n",
    "lgb.plot_importance(model2, figsize=(20, 10))\n",
    "plt.show()"
   ]
  },
  {
   "cell_type": "markdown",
   "metadata": {},
   "source": [
    "### testでの検証"
   ]
  },
  {
   "cell_type": "code",
   "execution_count": 16,
   "metadata": {},
   "outputs": [
    {
     "name": "stdout",
     "output_type": "stream",
     "text": [
      "0.873001954001\n"
     ]
    }
   ],
   "source": [
    "# テストデータを予測する\n",
    "y_pred = model2.predict(X_test, num_iteration=model2.best_iteration)\n",
    "\n",
    "# auc を計算する\n",
    "auc = roc_auc_score(y_test, y_pred)\n",
    "print(auc)"
   ]
  },
  {
   "cell_type": "code",
   "execution_count": null,
   "metadata": {
    "collapsed": true
   },
   "outputs": [],
   "source": []
  }
 ],
 "metadata": {
  "kernelspec": {
   "display_name": "Python 3",
   "language": "python",
   "name": "python3"
  },
  "language_info": {
   "codemirror_mode": {
    "name": "ipython",
    "version": 3
   },
   "file_extension": ".py",
   "mimetype": "text/x-python",
   "name": "python",
   "nbconvert_exporter": "python",
   "pygments_lexer": "ipython3",
   "version": "3.6.2"
  }
 },
 "nbformat": 4,
 "nbformat_minor": 2
}
