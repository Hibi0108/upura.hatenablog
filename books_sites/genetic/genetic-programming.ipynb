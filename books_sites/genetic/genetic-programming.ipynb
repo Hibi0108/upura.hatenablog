{
 "cells": [
  {
   "cell_type": "markdown",
   "metadata": {},
   "source": [
    "https://qiita.com/overlap/items/e7f1077ef8239f454602"
   ]
  },
  {
   "cell_type": "code",
   "execution_count": 1,
   "metadata": {
    "collapsed": true
   },
   "outputs": [],
   "source": [
    "import operator, math, random, time\n",
    "import numpy as np\n",
    "\n",
    "from deap import algorithms, base, creator, tools, gp\n",
    "\n",
    "from sklearn.datasets import make_classification\n",
    "from sklearn.model_selection import train_test_split, cross_val_score\n",
    "from sklearn.linear_model import LogisticRegression\n",
    "from sklearn.metrics import roc_auc_score, log_loss\n",
    "\n",
    "import matplotlib.pyplot as plt\n",
    "from tqdm import tqdm"
   ]
  },
  {
   "cell_type": "code",
   "execution_count": 2,
   "metadata": {
    "collapsed": true
   },
   "outputs": [],
   "source": [
    "# サンプルデータの生成\n",
    "X, y = make_classification(n_samples=10000, n_features=10, n_informative=5, n_redundant=0, n_repeated=0,\n",
    "                           n_clusters_per_class=8, random_state=123)\n",
    "X_train, X_test, y_train, y_test = train_test_split(X, y, test_size=0.2, random_state=123)"
   ]
  },
  {
   "cell_type": "markdown",
   "metadata": {},
   "source": [
    "## lightGBM"
   ]
  },
  {
   "cell_type": "code",
   "execution_count": 3,
   "metadata": {
    "collapsed": true
   },
   "outputs": [],
   "source": [
    "import lightgbm as lgb\n",
    "X_train2, X_valid, y_train2, y_valid = train_test_split(X_train, y_train, test_size=0.2, random_state=123)"
   ]
  },
  {
   "cell_type": "code",
   "execution_count": 4,
   "metadata": {
    "scrolled": false
   },
   "outputs": [
    {
     "name": "stdout",
     "output_type": "stream",
     "text": [
      "[1]\tvalid_0's auc: 0.743222\n",
      "Training until validation scores don't improve for 10 rounds.\n",
      "[2]\tvalid_0's auc: 0.774293\n",
      "[3]\tvalid_0's auc: 0.786269\n",
      "[4]\tvalid_0's auc: 0.796968\n",
      "[5]\tvalid_0's auc: 0.798784\n",
      "[6]\tvalid_0's auc: 0.802183\n",
      "[7]\tvalid_0's auc: 0.802674\n",
      "[8]\tvalid_0's auc: 0.805887\n",
      "[9]\tvalid_0's auc: 0.810216\n",
      "[10]\tvalid_0's auc: 0.808829\n",
      "[11]\tvalid_0's auc: 0.812117\n",
      "[12]\tvalid_0's auc: 0.812388\n",
      "[13]\tvalid_0's auc: 0.813328\n",
      "[14]\tvalid_0's auc: 0.815966\n",
      "[15]\tvalid_0's auc: 0.815584\n",
      "[16]\tvalid_0's auc: 0.816796\n",
      "[17]\tvalid_0's auc: 0.819553\n",
      "[18]\tvalid_0's auc: 0.819432\n",
      "[19]\tvalid_0's auc: 0.820362\n",
      "[20]\tvalid_0's auc: 0.822502\n",
      "[21]\tvalid_0's auc: 0.823933\n",
      "[22]\tvalid_0's auc: 0.825941\n",
      "[23]\tvalid_0's auc: 0.826346\n",
      "[24]\tvalid_0's auc: 0.828636\n",
      "[25]\tvalid_0's auc: 0.829256\n",
      "[26]\tvalid_0's auc: 0.829943\n",
      "[27]\tvalid_0's auc: 0.830962\n",
      "[28]\tvalid_0's auc: 0.831575\n",
      "[29]\tvalid_0's auc: 0.83256\n",
      "[30]\tvalid_0's auc: 0.834183\n",
      "[31]\tvalid_0's auc: 0.835503\n",
      "[32]\tvalid_0's auc: 0.836211\n",
      "[33]\tvalid_0's auc: 0.836906\n",
      "[34]\tvalid_0's auc: 0.837768\n",
      "[35]\tvalid_0's auc: 0.838464\n",
      "[36]\tvalid_0's auc: 0.8391\n",
      "[37]\tvalid_0's auc: 0.839569\n",
      "[38]\tvalid_0's auc: 0.840365\n",
      "[39]\tvalid_0's auc: 0.840882\n",
      "[40]\tvalid_0's auc: 0.841443\n",
      "[41]\tvalid_0's auc: 0.841642\n",
      "[42]\tvalid_0's auc: 0.842293\n",
      "[43]\tvalid_0's auc: 0.842808\n",
      "[44]\tvalid_0's auc: 0.844074\n",
      "[45]\tvalid_0's auc: 0.844198\n",
      "[46]\tvalid_0's auc: 0.844253\n",
      "[47]\tvalid_0's auc: 0.844709\n",
      "[48]\tvalid_0's auc: 0.845056\n",
      "[49]\tvalid_0's auc: 0.845164\n",
      "[50]\tvalid_0's auc: 0.846189\n",
      "[51]\tvalid_0's auc: 0.846457\n",
      "[52]\tvalid_0's auc: 0.847409\n",
      "[53]\tvalid_0's auc: 0.847525\n",
      "[54]\tvalid_0's auc: 0.847345\n",
      "[55]\tvalid_0's auc: 0.847442\n",
      "[56]\tvalid_0's auc: 0.848219\n",
      "[57]\tvalid_0's auc: 0.848075\n",
      "[58]\tvalid_0's auc: 0.84803\n",
      "[59]\tvalid_0's auc: 0.848765\n",
      "[60]\tvalid_0's auc: 0.84845\n",
      "[61]\tvalid_0's auc: 0.848434\n",
      "[62]\tvalid_0's auc: 0.8484\n",
      "[63]\tvalid_0's auc: 0.848242\n",
      "[64]\tvalid_0's auc: 0.848037\n",
      "[65]\tvalid_0's auc: 0.848256\n",
      "[66]\tvalid_0's auc: 0.848176\n",
      "[67]\tvalid_0's auc: 0.848564\n",
      "[68]\tvalid_0's auc: 0.848878\n",
      "[69]\tvalid_0's auc: 0.848643\n",
      "[70]\tvalid_0's auc: 0.848679\n",
      "[71]\tvalid_0's auc: 0.848851\n",
      "[72]\tvalid_0's auc: 0.848966\n",
      "[73]\tvalid_0's auc: 0.849241\n",
      "[74]\tvalid_0's auc: 0.849333\n",
      "[75]\tvalid_0's auc: 0.849436\n",
      "[76]\tvalid_0's auc: 0.849368\n",
      "[77]\tvalid_0's auc: 0.849582\n",
      "[78]\tvalid_0's auc: 0.849322\n",
      "[79]\tvalid_0's auc: 0.849762\n",
      "[80]\tvalid_0's auc: 0.849981\n",
      "[81]\tvalid_0's auc: 0.85013\n",
      "[82]\tvalid_0's auc: 0.850722\n",
      "[83]\tvalid_0's auc: 0.850761\n",
      "[84]\tvalid_0's auc: 0.851262\n",
      "[85]\tvalid_0's auc: 0.851254\n",
      "[86]\tvalid_0's auc: 0.851026\n",
      "[87]\tvalid_0's auc: 0.851601\n",
      "[88]\tvalid_0's auc: 0.851721\n",
      "[89]\tvalid_0's auc: 0.851679\n",
      "[90]\tvalid_0's auc: 0.851578\n",
      "[91]\tvalid_0's auc: 0.851559\n",
      "[92]\tvalid_0's auc: 0.851467\n",
      "[93]\tvalid_0's auc: 0.851796\n",
      "[94]\tvalid_0's auc: 0.852392\n",
      "[95]\tvalid_0's auc: 0.852139\n",
      "[96]\tvalid_0's auc: 0.852058\n",
      "[97]\tvalid_0's auc: 0.852125\n",
      "[98]\tvalid_0's auc: 0.851956\n",
      "[99]\tvalid_0's auc: 0.852342\n",
      "[100]\tvalid_0's auc: 0.852528\n",
      "[101]\tvalid_0's auc: 0.852466\n",
      "[102]\tvalid_0's auc: 0.852484\n",
      "[103]\tvalid_0's auc: 0.852339\n",
      "[104]\tvalid_0's auc: 0.852326\n",
      "[105]\tvalid_0's auc: 0.852475\n",
      "[106]\tvalid_0's auc: 0.852994\n",
      "[107]\tvalid_0's auc: 0.853011\n",
      "[108]\tvalid_0's auc: 0.852883\n",
      "[109]\tvalid_0's auc: 0.852735\n",
      "[110]\tvalid_0's auc: 0.852658\n",
      "[111]\tvalid_0's auc: 0.85311\n",
      "[112]\tvalid_0's auc: 0.853057\n",
      "[113]\tvalid_0's auc: 0.853504\n",
      "[114]\tvalid_0's auc: 0.85382\n",
      "[115]\tvalid_0's auc: 0.854024\n",
      "[116]\tvalid_0's auc: 0.854267\n",
      "[117]\tvalid_0's auc: 0.854013\n",
      "[118]\tvalid_0's auc: 0.853917\n",
      "[119]\tvalid_0's auc: 0.853754\n",
      "[120]\tvalid_0's auc: 0.853771\n",
      "[121]\tvalid_0's auc: 0.854457\n",
      "[122]\tvalid_0's auc: 0.854589\n",
      "[123]\tvalid_0's auc: 0.854478\n",
      "[124]\tvalid_0's auc: 0.854692\n",
      "[125]\tvalid_0's auc: 0.854698\n",
      "[126]\tvalid_0's auc: 0.854916\n",
      "[127]\tvalid_0's auc: 0.854981\n",
      "[128]\tvalid_0's auc: 0.855031\n",
      "[129]\tvalid_0's auc: 0.855083\n",
      "[130]\tvalid_0's auc: 0.855041\n",
      "[131]\tvalid_0's auc: 0.855119\n",
      "[132]\tvalid_0's auc: 0.855067\n",
      "[133]\tvalid_0's auc: 0.854903\n",
      "[134]\tvalid_0's auc: 0.854909\n",
      "[135]\tvalid_0's auc: 0.854748\n",
      "[136]\tvalid_0's auc: 0.855022\n",
      "[137]\tvalid_0's auc: 0.855066\n",
      "[138]\tvalid_0's auc: 0.855031\n",
      "[139]\tvalid_0's auc: 0.855328\n",
      "[140]\tvalid_0's auc: 0.855428\n",
      "[141]\tvalid_0's auc: 0.855247\n",
      "[142]\tvalid_0's auc: 0.855222\n",
      "[143]\tvalid_0's auc: 0.855355\n",
      "[144]\tvalid_0's auc: 0.855255\n",
      "[145]\tvalid_0's auc: 0.855694\n",
      "[146]\tvalid_0's auc: 0.855657\n",
      "[147]\tvalid_0's auc: 0.855611\n",
      "[148]\tvalid_0's auc: 0.855525\n",
      "[149]\tvalid_0's auc: 0.855352\n",
      "[150]\tvalid_0's auc: 0.855711\n",
      "[151]\tvalid_0's auc: 0.855816\n",
      "[152]\tvalid_0's auc: 0.855815\n",
      "[153]\tvalid_0's auc: 0.855794\n",
      "[154]\tvalid_0's auc: 0.856196\n",
      "[155]\tvalid_0's auc: 0.856029\n",
      "[156]\tvalid_0's auc: 0.856019\n",
      "[157]\tvalid_0's auc: 0.856037\n",
      "[158]\tvalid_0's auc: 0.85599\n",
      "[159]\tvalid_0's auc: 0.85603\n",
      "[160]\tvalid_0's auc: 0.85606\n",
      "[161]\tvalid_0's auc: 0.855872\n",
      "[162]\tvalid_0's auc: 0.856004\n",
      "[163]\tvalid_0's auc: 0.856154\n",
      "[164]\tvalid_0's auc: 0.856409\n",
      "[165]\tvalid_0's auc: 0.856288\n",
      "[166]\tvalid_0's auc: 0.856066\n",
      "[167]\tvalid_0's auc: 0.855908\n",
      "[168]\tvalid_0's auc: 0.855897\n",
      "[169]\tvalid_0's auc: 0.85576\n",
      "[170]\tvalid_0's auc: 0.855807\n",
      "[171]\tvalid_0's auc: 0.855688\n",
      "[172]\tvalid_0's auc: 0.855702\n",
      "[173]\tvalid_0's auc: 0.855937\n",
      "[174]\tvalid_0's auc: 0.85584\n",
      "Early stopping, best iteration is:\n",
      "[164]\tvalid_0's auc: 0.856409\n"
     ]
    },
    {
     "data": {
      "image/png": "[encoded data removed]",
      "text/plain": [
       "<matplotlib.figure.Figure at 0x1a10812c88>"
      ]
     },
     "metadata": {},
     "output_type": "display_data"
    }
   ],
   "source": [
    "# データセットを生成する\n",
    "lgb_train = lgb.Dataset(X_train2, y_train2)\n",
    "lgb_eval = lgb.Dataset(X_valid, y_valid, reference=lgb_train)\n",
    "\n",
    "lgbm_params = {\n",
    "    'learning_rate': 0.1,\n",
    "    'num_leaves': 8,\n",
    "    'boosting_type' : 'gbdt',\n",
    "    'subsample' : 0.8,\n",
    "    'reg_alpha' : 1,\n",
    "    'reg_lambda' : 1,\n",
    "    'objective': 'regression',\n",
    "    'metric': 'auc',\n",
    "    }\n",
    "\n",
    "# 上記のパラメータでモデルを学習する\n",
    "model = lgb.train(lgbm_params, lgb_train,\n",
    "                  # モデルの評価用データを渡す\n",
    "                  valid_sets=lgb_eval,\n",
    "                  # 最大で 1000 ラウンドまで学習する\n",
    "                  num_boost_round=1000,\n",
    "                  # 10 ラウンド経過しても性能が向上しないときは学習を打ち切る\n",
    "                  early_stopping_rounds=10)\n",
    "\n",
    "# 特徴量の重要度をプロットする\n",
    "lgb.plot_importance(model, figsize=(20, 10))\n",
    "plt.show()"
   ]
  },
  {
   "cell_type": "markdown",
   "metadata": {},
   "source": [
    "### testでの精度"
   ]
  },
  {
   "cell_type": "code",
   "execution_count": 5,
   "metadata": {},
   "outputs": [
    {
     "name": "stdout",
     "output_type": "stream",
     "text": [
      "0.854653164841\n"
     ]
    }
   ],
   "source": [
    "from sklearn.metrics import roc_auc_score\n",
    "\n",
    "# テストデータを予測する\n",
    "y_pred = model.predict(X_test, num_iteration=model.best_iteration)\n",
    "\n",
    "# auc を計算する\n",
    "auc = roc_auc_score(y_test, y_pred)\n",
    "print(auc)"
   ]
  },
  {
   "cell_type": "code",
   "execution_count": null,
   "metadata": {
    "collapsed": true
   },
   "outputs": [],
   "source": []
  },
  {
   "cell_type": "markdown",
   "metadata": {},
   "source": [
    "## Feature Generation by Genetic Programming"
   ]
  },
  {
   "cell_type": "code",
   "execution_count": 6,
   "metadata": {
    "collapsed": true
   },
   "outputs": [],
   "source": [
    "# ベースラインスコアの算出\n",
    "clf = LogisticRegression(penalty=\"l2\", C=1.0)\n",
    "base_train_auc = np.mean(cross_val_score(clf, X_train, y_train, scoring=\"roc_auc\", cv=5))\n",
    "clf.fit(X_train, y_train)\n",
    "base_test_auc = roc_auc_score(y_test, clf.predict_proba(X_test)[:,1])"
   ]
  },
  {
   "cell_type": "code",
   "execution_count": 7,
   "metadata": {
    "collapsed": true
   },
   "outputs": [],
   "source": [
    "# 除算関数の定義\n",
    "# 左項 / 右項で右項が0の場合1を代入する\n",
    "def protectedDiv(left, right):\n",
    "    eps = 1.0e-7\n",
    "    tmp = np.zeros(len(left))\n",
    "    tmp[np.abs(right) >= eps] = left[np.abs(right) >= eps] / right[np.abs(right) >= eps]\n",
    "    tmp[np.abs(right) < eps] = 1.0\n",
    "    return tmp"
   ]
  },
  {
   "cell_type": "code",
   "execution_count": 8,
   "metadata": {
    "collapsed": true
   },
   "outputs": [],
   "source": [
    "# 乱数シード\n",
    "random.seed(123)\n",
    "\n",
    "# 適合度を最大化するような木構造を個体として定義\n",
    "creator.create(\"FitnessMax\", base.Fitness, weights=(1.0,))\n",
    "creator.create(\"Individual\", gp.PrimitiveTree, fitness=creator.FitnessMax)"
   ]
  },
  {
   "cell_type": "code",
   "execution_count": 9,
   "metadata": {
    "collapsed": true
   },
   "outputs": [],
   "source": [
    "# 初期値の計算\n",
    "# 学習データの5-fold CVのAUCスコアを評価指標の初期値とする\n",
    "n_features = X_train.shape[1]\n",
    "clf = LogisticRegression(penalty=\"l2\", C=1.0)\n",
    "prev_auc = np.mean(cross_val_score(clf, X_train, y_train, scoring=\"roc_auc\", cv=5))"
   ]
  },
  {
   "cell_type": "code",
   "execution_count": 10,
   "metadata": {
    "collapsed": true
   },
   "outputs": [],
   "source": [
    "# メインループ\n",
    "# resultsに特徴量数、学習データのAUCスコア（5-fold CV）、テストデータのAUCスコアを保持する\n",
    "# exprsに生成された特徴量の表記を保持する\n",
    "results = []\n",
    "exprs = []"
   ]
  },
  {
   "cell_type": "code",
   "execution_count": 11,
   "metadata": {
    "scrolled": false
   },
   "outputs": [
    {
     "name": "stderr",
     "output_type": "stream",
     "text": [
      "\r",
      "  0%|          | 0/100 [00:00<?, ?it/s]"
     ]
    },
    {
     "name": "stdout",
     "output_type": "stream",
     "text": [
      "   \t      \t                     fitness                      \t              size             \n",
      "   \t      \t--------------------------------------------------\t-------------------------------\n",
      "gen\tnevals\tavg     \tmax    \tmin     \tstd       \tavg    \tmax\tmin\tstd    \n",
      "0  \t300   \t0.741286\t0.75243\t0.739359\t0.00093841\t4.52667\t14 \t2  \t2.84182\n",
      "1  \t164   \t0.742463\t0.759495\t0.738583\t0.00261917\t4.43667\t14 \t1  \t2.70666\n",
      "2  \t172   \t0.745261\t0.768907\t0.740169\t0.00479189\t4.73   \t14 \t1  \t3.05458\n",
      "3  \t171   \t0.749827\t0.782676\t0.740549\t0.00735729\t5.78333\t17 \t1  \t3.96271\n",
      "4  \t156   \t0.75783 \t0.782676\t0.740453\t0.0105806 \t10.7967\t18 \t1  \t4.05241\n",
      "5  \t168   \t0.764185\t0.792389\t0.740825\t0.0141751 \t13.09  \t22 \t3  \t2.97689\n",
      "6  \t167   \t0.772111\t0.793657\t0.740836\t0.016202  \t15.1167\t22 \t6  \t2.57612\n",
      "7  \t171   \t0.775656\t0.799636\t0.740179\t0.0174457 \t14.83  \t24 \t4  \t2.81681\n",
      "8  \t157   \t0.782073\t0.801036\t0.73729 \t0.0180503 \t15.55  \t22 \t1  \t2.69459\n",
      "9  \t166   \t0.7822  \t0.801207\t0.739583\t0.0211187 \t16.2   \t24 \t4  \t2.51131\n"
     ]
    },
    {
     "name": "stderr",
     "output_type": "stream",
     "text": [
      "\r",
      "  1%|          | 1/100 [01:21<2:13:56, 81.18s/it]"
     ]
    },
    {
     "name": "stdout",
     "output_type": "stream",
     "text": [
      "10 \t164   \t0.786265\t0.802428\t0.739242\t0.021292  \t16.0267\t21 \t1  \t2.47372\n",
      "11 0.802428302576 0.803795647866 0.797010138382 81.16082692146301\n",
      "   \t      \t                         fitness                          \t              size             \n",
      "   \t      \t----------------------------------------------------------\t-------------------------------\n",
      "gen\tnevals\tavg     \tmax     \tmin     \tstd       \tavg    \tmax\tmin\tstd    \n",
      "0  \t300   \t0.802033\t0.814404\t0.761567\t0.00433662\t4.28333\t14 \t2  \t2.69377\n",
      "1  \t164   \t0.803713\t0.814404\t0.764503\t0.00316722\t4.17667\t18 \t1  \t2.61256\n",
      "2  \t164   \t0.806679\t0.81613 \t0.802141\t0.0037591 \t4.33   \t10 \t1  \t1.86577\n",
      "3  \t161   \t0.80984 \t0.81613 \t0.801938\t0.00472126\t4.64333\t11 \t1  \t1.68012\n",
      "4  \t153   \t0.81146 \t0.81613 \t0.802161\t0.00515748\t5.13667\t11 \t3  \t1.38491\n",
      "5  \t152   \t0.81188 \t0.81613 \t0.802048\t0.00516251\t5.62333\t9  \t1  \t1.19225\n",
      "6  \t172   \t0.811213\t0.81613 \t0.801716\t0.00557383\t5.66   \t12 \t1  \t1.32831\n",
      "7  \t157   \t0.811631\t0.81613 \t0.770352\t0.00579245\t5.59333\t11 \t1  \t1.24952\n",
      "8  \t174   \t0.811479\t0.81613 \t0.802029\t0.00534518\t5.46333\t9  \t1  \t1.19805\n",
      "9  \t163   \t0.811848\t0.81613 \t0.802096\t0.00520217\t5.47   \t13 \t1  \t1.23657\n"
     ]
    },
    {
     "name": "stderr",
     "output_type": "stream",
     "text": [
      "\r",
      "  2%|▏         | 2/100 [02:53<2:18:01, 84.50s/it]"
     ]
    },
    {
     "name": "stdout",
     "output_type": "stream",
     "text": [
      "10 \t147   \t0.811569\t0.81613 \t0.80202 \t0.0055067 \t5.51333\t13 \t1  \t1.31776\n",
      "12 0.816129868324 0.817298780873 0.8114929688 92.24004912376404\n",
      "   \t      \t                         fitness                          \t              size             \n",
      "   \t      \t----------------------------------------------------------\t-------------------------------\n",
      "gen\tnevals\tavg     \tmax     \tmin     \tstd       \tavg    \tmax\tmin\tstd    \n",
      "0  \t300   \t0.816128\t0.823524\t0.794877\t0.00158977\t4.14667\t13 \t2  \t2.42593\n",
      "1  \t178   \t0.817119\t0.823524\t0.815655\t0.00180078\t3.95   \t13 \t1  \t1.9615 \n",
      "2  \t161   \t0.819406\t0.823525\t0.81579 \t0.00285312\t4.15333\t11 \t1  \t2.09678\n",
      "3  \t161   \t0.820868\t0.823525\t0.815832\t0.00317795\t3.54333\t12 \t1  \t1.74206\n",
      "4  \t165   \t0.821452\t0.823529\t0.815416\t0.00312237\t3.97333\t15 \t1  \t2.32364\n",
      "5  \t149   \t0.821559\t0.829063\t0.815793\t0.00315751\t7.05   \t19 \t1  \t3.62411\n",
      "6  \t167   \t0.821955\t0.829066\t0.815815\t0.00317337\t10.1433\t18 \t1  \t2.69248\n",
      "7  \t161   \t0.823138\t0.829066\t0.815887\t0.00383283\t11.3367\t21 \t2  \t2.93314\n",
      "8  \t166   \t0.825206\t0.829067\t0.815817\t0.005054  \t11.3767\t19 \t1  \t2.6711 \n",
      "9  \t148   \t0.826979\t0.829071\t0.815894\t0.00425297\t12.03  \t20 \t5  \t1.91897\n"
     ]
    },
    {
     "name": "stderr",
     "output_type": "stream",
     "text": [
      "\r",
      "  3%|▎         | 3/100 [04:35<2:25:12, 89.82s/it]"
     ]
    },
    {
     "name": "stdout",
     "output_type": "stream",
     "text": [
      "10 \t174   \t0.826045\t0.829499\t0.815601\t0.00521858\t12.1767\t26 \t1  \t3.51835\n",
      "13 0.829499139546 0.830656032717 0.824326109937 102.19790506362915\n",
      "   \t      \t                          fitness                          \t              size             \n",
      "   \t      \t-----------------------------------------------------------\t-------------------------------\n",
      "gen\tnevals\tavg     \tmax     \tmin     \tstd        \tavg    \tmax\tmin\tstd    \n",
      "0  \t300   \t0.829527\t0.835429\t0.828997\t0.000501536\t4.25667\t15 \t2  \t2.75635\n",
      "1  \t175   \t0.829918\t0.835429\t0.829007\t0.000949161\t3.67   \t15 \t1  \t1.94622\n",
      "2  \t169   \t0.830882\t0.839667\t0.828999\t0.00179962 \t3.64333\t9  \t1  \t1.81736\n",
      "3  \t163   \t0.832515\t0.839667\t0.829203\t0.00270011 \t5.36   \t15 \t1  \t2.44071\n",
      "4  \t158   \t0.834084\t0.842093\t0.828785\t0.0036491  \t5.64   \t15 \t1  \t2.51338\n",
      "5  \t172   \t0.836154\t0.842093\t0.82881 \t0.00460951 \t6.01   \t11 \t1  \t1.71753\n",
      "6  \t160   \t0.837306\t0.842498\t0.823182\t0.00462295 \t7.41667\t14 \t1  \t2.43921\n",
      "7  \t162   \t0.838484\t0.842649\t0.829118\t0.00470148 \t9.95667\t15 \t2  \t2.35686\n",
      "8  \t164   \t0.839211\t0.842649\t0.829099\t0.00463014 \t11.06  \t18 \t1  \t2.38532\n",
      "9  \t180   \t0.839412\t0.842883\t0.829007\t0.00469644 \t11.42  \t21 \t1  \t2.59684\n"
     ]
    },
    {
     "name": "stderr",
     "output_type": "stream",
     "text": [
      "\r",
      "  4%|▍         | 4/100 [06:37<2:39:13, 99.51s/it]"
     ]
    },
    {
     "name": "stdout",
     "output_type": "stream",
     "text": [
      "10 \t171   \t0.839536\t0.842883\t0.829014\t0.00481196 \t11.94  \t19 \t2  \t2.41586\n",
      "14 0.842882748074 0.843964157486 0.839929087385 122.11120009422302\n",
      "   \t      \t                         fitness                          \t              size             \n",
      "   \t      \t----------------------------------------------------------\t-------------------------------\n",
      "gen\tnevals\tavg     \tmax     \tmin     \tstd       \tavg    \tmax\tmin\tstd    \n",
      "0  \t300   \t0.842458\t0.843703\t0.787594\t0.00392329\t4.03667\t15 \t2  \t2.46482\n",
      "1  \t182   \t0.842981\t0.843703\t0.842252\t0.000256409\t4.17333\t14 \t1  \t2.45424\n",
      "2  \t155   \t0.843284\t0.845571\t0.842475\t0.000391736\t4.08   \t13 \t1  \t1.85839\n",
      "3  \t170   \t0.843532\t0.845629\t0.842568\t0.00058395 \t4.82   \t11 \t1  \t1.46319\n",
      "4  \t165   \t0.843697\t0.845777\t0.757425\t0.00507276 \t4.49333\t12 \t1  \t1.41302\n",
      "5  \t158   \t0.844529\t0.846178\t0.842578\t0.00114965 \t5.07333\t12 \t1  \t1.37403\n",
      "6  \t154   \t0.844933\t0.846178\t0.842345\t0.0011011  \t5.38667\t10 \t1  \t1.23982\n",
      "7  \t175   \t0.844656\t0.846526\t0.759171\t0.00510229 \t6.36667\t13 \t1  \t1.87053\n",
      "8  \t154   \t0.845323\t0.84698 \t0.842345\t0.00127064 \t7.99   \t16 \t2  \t1.9958 \n",
      "9  \t164   \t0.845489\t0.847584\t0.842345\t0.00145059 \t9.37   \t15 \t3  \t2.06715\n"
     ]
    },
    {
     "name": "stderr",
     "output_type": "stream",
     "text": [
      "\r",
      "  5%|▌         | 5/100 [08:45<2:51:09, 108.10s/it]"
     ]
    },
    {
     "name": "stdout",
     "output_type": "stream",
     "text": [
      "10 \t166   \t0.845605\t0.847932\t0.756268\t0.00535856 \t10.24  \t18 \t1  \t2.37678\n",
      "15 0.847932485435 0.849171815009 0.844444711384 128.1265251636505\n",
      "   \t      \t                         fitness                          \t              size             \n",
      "   \t      \t----------------------------------------------------------\t-------------------------------\n",
      "gen\tnevals\tavg     \tmax     \tmin     \tstd       \tavg \tmax\tmin\tstd    \n",
      "0  \t300   \t0.847807\t0.851083\t0.820355\t0.00161459\t4.09\t14 \t2  \t2.33136\n",
      "1  \t165   \t0.848223\t0.851105\t0.845306\t0.000740776\t4.52333\t15 \t1  \t2.41028\n",
      "2  \t151   \t0.849131\t0.852687\t0.847522\t0.00122628 \t4.5    \t12 \t1  \t1.84481\n",
      "3  \t164   \t0.850098\t0.852687\t0.847619\t0.00138347 \t4.13667\t11 \t1  \t1.42524\n",
      "4  \t163   \t0.850189\t0.852687\t0.847476\t0.00161932 \t4.82667\t11 \t1  \t1.27408\n",
      "5  \t150   \t0.850659\t0.852687\t0.847619\t0.0018648  \t5.15333\t11 \t1  \t1.4685 \n",
      "6  \t180   \t0.850297\t0.852687\t0.847557\t0.00231168 \t5.03333\t14 \t1  \t1.65898\n",
      "7  \t182   \t0.850447\t0.852687\t0.847591\t0.0023277  \t5.01333\t13 \t1  \t1.68913\n",
      "8  \t171   \t0.850816\t0.852687\t0.847591\t0.00231882 \t4.99667\t11 \t1  \t1.58008\n",
      "9  \t147   \t0.850872\t0.852687\t0.847591\t0.00228322 \t4.94333\t8  \t1  \t1.2437 \n"
     ]
    },
    {
     "name": "stderr",
     "output_type": "stream",
     "text": [
      "\r",
      "  6%|▌         | 6/100 [11:03<3:03:13, 116.95s/it]"
     ]
    },
    {
     "name": "stdout",
     "output_type": "stream",
     "text": [
      "10 \t164   \t0.850755\t0.852687\t0.847557\t0.00232731 \t4.96667\t9  \t1  \t1.39722\n",
      "16 0.852686520731 0.854126711854 0.845711008072 137.57639479637146\n",
      "   \t      \t                     fitness                      \t             size             \n",
      "   \t      \t--------------------------------------------------\t------------------------------\n",
      "gen\tnevals\tavg     \tmax     \tmin    \tstd       \tavg \tmax\tmin\tstd   \n",
      "0  \t300   \t0.852425\t0.853307\t0.79346\t0.00341542\t4.22\t14 \t2  \t2.5242\n",
      "1  \t165   \t0.852769\t0.853307\t0.852017\t0.000182739\t4.68\t15 \t1  \t2.99849\n",
      "2  \t163   \t0.852719\t0.853331\t0.801125\t0.00299485 \t4.71333\t14 \t1  \t2.36033\n",
      "3  \t161   \t0.853053\t0.854913\t0.85229 \t0.000314936\t4.28   \t13 \t1  \t2.11067\n",
      "4  \t160   \t0.853153\t0.854983\t0.852372\t0.000433026\t4.29667\t11 \t1  \t2.17608\n",
      "5  \t178   \t0.853307\t0.854983\t0.852255\t0.000714044\t6.14333\t15 \t1  \t2.78977\n",
      "6  \t170   \t0.853939\t0.855048\t0.85235 \t0.00106912 \t7.47667\t16 \t1  \t2.26924\n",
      "7  \t165   \t0.854221\t0.855048\t0.852372\t0.00111744 \t7.11   \t10 \t1  \t1.67866\n",
      "8  \t165   \t0.85435 \t0.855048\t0.852372\t0.00104431 \t7.37667\t12 \t1  \t1.63955\n",
      "9  \t160   \t0.854314\t0.855049\t0.852347\t0.0011091  \t7.36333\t11 \t1  \t1.66673\n"
     ]
    },
    {
     "name": "stderr",
     "output_type": "stream",
     "text": [
      "\r",
      "  7%|▋         | 7/100 [13:48<3:23:31, 131.30s/it]"
     ]
    },
    {
     "name": "stdout",
     "output_type": "stream",
     "text": [
      "10 \t188   \t0.854266\t0.855049\t0.852362\t0.00115677 \t7.36333\t11 \t2  \t1.62214\n",
      "17 0.855048986868 0.85657656536 0.847930280607 164.75059580802917\n",
      "   \t      \t                         fitness                          \t              size             \n",
      "   \t      \t----------------------------------------------------------\t-------------------------------\n",
      "gen\tnevals\tavg     \tmax     \tmin     \tstd       \tavg    \tmax\tmin\tstd    \n",
      "0  \t300   \t0.854564\t0.855822\t0.731169\t0.00714094\t4.14667\t14 \t2  \t2.58299\n",
      "1  \t153   \t0.855071\t0.857286\t0.839383\t0.000937062\t3.96667\t11 \t2  \t2.12577\n",
      "2  \t162   \t0.855322\t0.857286\t0.850464\t0.000504503\t4.88   \t16 \t1  \t2.57402\n",
      "3  \t175   \t0.855619\t0.857529\t0.854722\t0.000635606\t4.86667\t13 \t1  \t2.12968\n",
      "4  \t174   \t0.85604 \t0.857605\t0.854726\t0.000952738\t6.25333\t14 \t1  \t2.76571\n",
      "5  \t154   \t0.856475\t0.857607\t0.85455 \t0.00108882 \t8.23   \t17 \t1  \t2.44754\n",
      "6  \t172   \t0.856503\t0.857607\t0.854708\t0.00118773 \t9.73333\t17 \t1  \t2.47162\n",
      "7  \t169   \t0.856518\t0.857608\t0.854714\t0.001217   \t10.0067\t19 \t1  \t2.38885\n",
      "8  \t166   \t0.856694\t0.857648\t0.854707\t0.00116707 \t10.1067\t18 \t1  \t2.28516\n",
      "9  \t172   \t0.856552\t0.857648\t0.854713\t0.00122236 \t9.83   \t17 \t1  \t2.17127\n"
     ]
    },
    {
     "name": "stderr",
     "output_type": "stream",
     "text": [
      "\r",
      "  8%|▊         | 8/100 [17:18<3:57:41, 155.02s/it]"
     ]
    },
    {
     "name": "stdout",
     "output_type": "stream",
     "text": [
      "10 \t167   \t0.856716\t0.8578  \t0.854715\t0.00120108 \t10.1267\t17 \t1  \t2.31314\n",
      "18 0.857799666473 0.859549128451 0.851489925684 210.31481289863586\n",
      "   \t      \t                          fitness                          \t              size             \n",
      "   \t      \t-----------------------------------------------------------\t-------------------------------\n",
      "gen\tnevals\tavg     \tmax     \tmin     \tstd        \tavg    \tmax\tmin\tstd    \n",
      "0  \t300   \t0.857763\t0.861459\t0.852446\t0.000419837\t4.06333\t15 \t2  \t2.54545\n",
      "1  \t173   \t0.858011\t0.861459\t0.857254\t0.000633707\t3.84667\t18 \t1  \t2.43512\n",
      "2  \t167   \t0.858658\t0.861459\t0.857182\t0.00111542 \t5.71333\t18 \t1  \t4.18543\n",
      "3  \t166   \t0.859848\t0.861459\t0.85724 \t0.00149267 \t4.72333\t19 \t1  \t3.65241\n",
      "4  \t167   \t0.860374\t0.86146 \t0.857317\t0.00154562 \t3.11333\t9  \t1  \t0.774912\n",
      "5  \t167   \t0.860409\t0.86146 \t0.85703 \t0.00154042 \t3.07333\t8  \t1  \t0.669295\n",
      "6  \t168   \t0.860277\t0.86146 \t0.85753 \t0.00155383 \t3.10333\t7  \t1  \t0.522164\n",
      "7  \t172   \t0.860453\t0.86146 \t0.857504\t0.00150848 \t3.07667\t8  \t1  \t0.619776\n",
      "8  \t175   \t0.860235\t0.86146 \t0.855745\t0.00162243 \t3.17333\t9  \t1  \t0.862142\n",
      "9  \t169   \t0.860418\t0.86146 \t0.857544\t0.00153877 \t3.05333\t9  \t1  \t0.6662  \n"
     ]
    },
    {
     "name": "stderr",
     "output_type": "stream",
     "text": [
      "\r",
      "  9%|▉         | 9/100 [21:27<4:37:44, 183.13s/it]"
     ]
    },
    {
     "name": "stdout",
     "output_type": "stream",
     "text": [
      "10 \t160   \t0.860416\t0.86146 \t0.824005\t0.00256048 \t3.09   \t9  \t1  \t0.649538\n",
      "19 0.861459640296 0.86317846929 0.85342390608 248.68981790542603\n",
      "   \t      \t                 fitness                  \t              size             \n",
      "   \t      \t------------------------------------------\t-------------------------------\n",
      "gen\tnevals\tavg    \tmax     \tmin    \tstd       \tavg    \tmax\tmin\tstd    \n",
      "0  \t300   \t0.86124\t0.862244\t0.82738\t0.00241753\t4.11333\t14 \t2  \t2.62941\n",
      "1  \t159   \t0.86158\t0.862736\t0.860695\t0.00027733\t4.92667\t14 \t1  \t2.94301\n",
      "2  \t177   \t0.861735\t0.862792\t0.844961\t0.00104733\t5.06667\t17 \t1  \t3.40131\n",
      "3  \t157   \t0.861934\t0.863297\t0.836051\t0.00157545\t7.62333\t16 \t1  \t3.45275\n",
      "4  \t164   \t0.862149\t0.864243\t0.860527\t0.000645915\t5.88667\t16 \t1  \t3.06602\n",
      "5  \t151   \t0.862364\t0.864243\t0.860976\t0.000771197\t5.72   \t13 \t2  \t2.05627\n",
      "6  \t174   \t0.862577\t0.864245\t0.85769 \t0.00103323 \t6.21   \t12 \t1  \t2.0492 \n",
      "7  \t168   \t0.862926\t0.864417\t0.858827\t0.00121661 \t7.01667\t15 \t1  \t2.51722\n",
      "8  \t179   \t0.863138\t0.864477\t0.858398\t0.0013414  \t6.99333\t12 \t1  \t1.3976 \n",
      "9  \t165   \t0.863387\t0.864486\t0.860368\t0.00128294 \t6.94333\t12 \t1  \t1.521  \n"
     ]
    },
    {
     "name": "stderr",
     "output_type": "stream",
     "text": [
      "\r",
      " 10%|█         | 10/100 [26:22<5:25:13, 216.82s/it]"
     ]
    },
    {
     "name": "stdout",
     "output_type": "stream",
     "text": [
      "10 \t152   \t0.863318\t0.864654\t0.836341\t0.00206684 \t7.39   \t15 \t1  \t1.63031\n",
      "20 0.864653998154 0.866487796609 0.854253755846 295.38154196739197\n",
      "   \t      \t                         fitness                          \t              size             \n",
      "   \t      \t----------------------------------------------------------\t-------------------------------\n",
      "gen\tnevals\tavg     \tmax     \tmin     \tstd       \tavg    \tmax\tmin\tstd    \n",
      "0  \t300   \t0.864622\t0.865441\t0.864099\t0.00015414\t3.87333\t14 \t2  \t2.40499\n",
      "1  \t156   \t0.86441 \t0.865984\t0.762702\t0.00588973\t4.15   \t13 \t1  \t2.36802\n",
      "2  \t168   \t0.864737\t0.866004\t0.808657\t0.00327122\t3.87   \t15 \t2  \t2.00826\n",
      "3  \t166   \t0.865119\t0.866004\t0.860856\t0.000470518\t3.09   \t10 \t1  \t1.41959\n",
      "4  \t169   \t0.865267\t0.866004\t0.860269\t0.000656486\t2.91667\t9  \t1  \t1.15314\n",
      "5  \t178   \t0.865133\t0.866013\t0.83921 \t0.00202541 \t3.67333\t11 \t1  \t1.05513\n",
      "6  \t170   \t0.865327\t0.866013\t0.860072\t0.00126961 \t4.10667\t10 \t1  \t0.89179\n",
      "7  \t129   \t0.86549 \t0.866013\t0.859575\t0.00117117 \t4.03667\t8  \t1  \t0.722488\n",
      "8  \t154   \t0.865464\t0.866013\t0.858381\t0.0012777  \t4.16667\t10 \t1  \t0.958587\n",
      "9  \t156   \t0.865271\t0.866013\t0.859377\t0.00139422 \t4.07   \t10 \t1  \t0.835723\n"
     ]
    },
    {
     "name": "stderr",
     "output_type": "stream",
     "text": [
      "\r",
      " 11%|█         | 11/100 [32:15<6:22:14, 257.69s/it]"
     ]
    },
    {
     "name": "stdout",
     "output_type": "stream",
     "text": [
      "10 \t188   \t0.865227\t0.866013\t0.858681\t0.00153133 \t4.04667\t10 \t1  \t0.915326\n",
      "21 0.866012717609 0.867726098928 0.852664128067 352.9923450946808\n",
      "   \t      \t                         fitness                          \t              size             \n",
      "   \t      \t----------------------------------------------------------\t-------------------------------\n",
      "gen\tnevals\tavg     \tmax     \tmin     \tstd       \tavg    \tmax\tmin\tstd    \n",
      "0  \t300   \t0.865574\t0.866715\t0.753601\t0.00647949\t3.95333\t14 \t2  \t2.52147\n",
      "1  \t151   \t0.866092\t0.866775\t0.865552\t0.000214298\t3.74333\t15 \t1  \t2.22653\n",
      "2  \t156   \t0.866314\t0.866775\t0.864542\t0.000349959\t3.25333\t11 \t1  \t1.85898\n",
      "3  \t176   \t0.866591\t0.866775\t0.86574 \t0.000282753\t2.26   \t8  \t1  \t0.886416\n",
      "4  \t158   \t0.866532\t0.866776\t0.865676\t0.000360715\t2.71   \t8  \t1  \t0.807816\n",
      "5  \t154   \t0.866572\t0.866777\t0.86571 \t0.000352942\t3.04667\t8  \t1  \t0.768866\n",
      "6  \t171   \t0.866477\t0.866778\t0.86571 \t0.000391157\t3.10333\t8  \t1  \t0.97262 \n",
      "7  \t153   \t0.866549\t0.866778\t0.865748\t0.000362031\t3.10333\t9  \t1  \t0.816081\n",
      "8  \t158   \t0.866533\t0.866778\t0.865778\t0.00037166 \t2.97   \t8  \t1  \t0.665157\n",
      "9  \t159   \t0.866535\t0.866778\t0.865751\t0.000370605\t3.10333\t8  \t1  \t0.791195\n"
     ]
    },
    {
     "name": "stderr",
     "output_type": "stream",
     "text": [
      "\r",
      " 12%|█▏        | 12/100 [37:34<6:44:41, 275.92s/it]"
     ]
    },
    {
     "name": "stdout",
     "output_type": "stream",
     "text": [
      "10 \t166   \t0.86653 \t0.866778\t0.865714\t0.000371997\t3.11333\t9  \t1  \t0.934785\n",
      "22 0.866778364859 0.868600198358 0.854380886027 318.4031250476837\n",
      "   \t      \t                      fitness                      \t             size             \n",
      "   \t      \t---------------------------------------------------\t------------------------------\n",
      "gen\tnevals\tavg     \tmax    \tmin     \tstd        \tavg    \tmax\tmin\tstd   \n",
      "0  \t300   \t0.866723\t0.86719\t0.866316\t0.000119344\t4.00667\t13 \t2  \t2.3338\n",
      "1  \t169   \t0.866815\t0.867517\t0.866346\t0.000152342\t4.63667\t14 \t1  \t2.59576\n",
      "2  \t179   \t0.866876\t0.867594\t0.863979\t0.000317811\t4.42667\t14 \t1  \t2.536  \n",
      "3  \t166   \t0.866945\t0.867594\t0.854919\t0.000749558\t3.90667\t11 \t1  \t1.68264\n",
      "4  \t169   \t0.867117\t0.86807 \t0.866167\t0.000387287\t4.55   \t12 \t1  \t2.29074\n",
      "5  \t171   \t0.867328\t0.86807 \t0.862662\t0.00045752 \t6.47333\t14 \t1  \t2.75487\n",
      "6  \t184   \t0.867435\t0.868127\t0.866538\t0.000437682\t6.85   \t16 \t1  \t2.6244 \n",
      "7  \t173   \t0.86761 \t0.869358\t0.866626\t0.000579139\t4.96667\t16 \t1  \t2.89578\n",
      "8  \t168   \t0.867628\t0.869358\t0.866307\t0.000669097\t3.66   \t10 \t1  \t1.34823\n",
      "9  \t175   \t0.867772\t0.86936 \t0.866267\t0.000772876\t4.49667\t12 \t1  \t1.52643\n"
     ]
    },
    {
     "name": "stderr",
     "output_type": "stream",
     "text": [
      "\r",
      " 13%|█▎        | 13/100 [43:51<7:24:19, 306.44s/it]"
     ]
    },
    {
     "name": "stdout",
     "output_type": "stream",
     "text": [
      "10 \t180   \t0.868132\t0.869417\t0.8665  \t0.00102104 \t5.46333\t11 \t1  \t1.55841\n",
      "23 0.8694168759 0.871426692778 0.858424026203 377.5869927406311\n",
      "   \t      \t                          fitness                          \t             size             \n",
      "   \t      \t-----------------------------------------------------------\t------------------------------\n",
      "gen\tnevals\tavg     \tmax     \tmin     \tstd        \tavg \tmax\tmin\tstd   \n",
      "0  \t300   \t0.869333\t0.869937\t0.864228\t0.000370727\t4.05\t14 \t2  \t2.5886\n",
      "1  \t153   \t0.869067\t0.869937\t0.748753\t0.00696002 \t3.82333\t14 \t2  \t2.21783\n",
      "2  \t164   \t0.869566\t0.869937\t0.854024\t0.00093537 \t2.93667\t10 \t1  \t1.58514\n",
      "3  \t168   \t0.869874\t0.869937\t0.86922 \t0.000171076\t2.14667\t8  \t1  \t0.803216\n",
      "4  \t178   \t0.869875\t0.869937\t0.86916 \t0.000171566\t2.16333\t8  \t1  \t0.814446\n",
      "5  \t169   \t0.869879\t0.869937\t0.869155\t0.00017331 \t2.08333\t7  \t1  \t0.624277\n",
      "6  \t161   \t0.869885\t0.869937\t0.868477\t0.000173896\t2.11333\t7  \t1  \t0.668697\n",
      "7  \t169   \t0.869881\t0.869937\t0.869245\t0.000161981\t2.10333\t8  \t1  \t0.662814\n",
      "8  \t167   \t0.869027\t0.869937\t0.614384\t0.0147274  \t2.11333\t7  \t1  \t0.554216\n",
      "9  \t150   \t0.869894\t0.869937\t0.869115\t0.000149762\t2.09333\t8  \t1  \t0.609335\n"
     ]
    },
    {
     "name": "stderr",
     "output_type": "stream",
     "text": [
      "\r",
      " 14%|█▍        | 14/100 [49:46<7:39:50, 320.82s/it]"
     ]
    },
    {
     "name": "stdout",
     "output_type": "stream",
     "text": [
      "10 \t156   \t0.869882\t0.869937\t0.869157\t0.000163253\t2.12333\t7  \t1  \t0.664421\n",
      "24 0.869937428082 0.872046656471 0.858455057979 354.31483483314514\n",
      "   \t      \t                         fitness                          \t              size             \n",
      "   \t      \t----------------------------------------------------------\t-------------------------------\n",
      "gen\tnevals\tavg     \tmax     \tmin     \tstd       \tavg \tmax\tmin\tstd    \n",
      "0  \t300   \t0.869664\t0.870283\t0.819549\t0.00293885\t4.06\t15 \t2  \t2.57224\n",
      "1  \t168   \t0.86997 \t0.870283\t0.869491\t0.000136344\t3.4 \t10 \t1  \t1.70294\n",
      "2  \t181   \t0.870036\t0.870663\t0.869531\t0.000190518\t3.67333\t9  \t1  \t1.66932\n",
      "3  \t188   \t0.869007\t0.870663\t0.54096 \t0.0189728  \t4.48   \t11 \t1  \t1.93811\n",
      "4  \t156   \t0.868964\t0.870684\t0.490688\t0.02188    \t5.42667\t12 \t1  \t1.90909\n",
      "5  \t172   \t0.870318\t0.870691\t0.865306\t0.000537014\t6.16   \t12 \t1  \t1.53441\n",
      "6  \t164   \t0.870332\t0.870781\t0.86341 \t0.000765505\t5.53333\t11 \t1  \t1.37679\n",
      "7  \t171   \t0.870418\t0.87081 \t0.869713\t0.000370474\t4.9    \t11 \t1  \t1.51327\n",
      "8  \t169   \t0.870437\t0.870822\t0.864642\t0.000502711\t5.34333\t13 \t1  \t2.26983\n",
      "9  \t168   \t0.870208\t0.870852\t0.784974\t0.0049466  \t8.25667\t18 \t1  \t2.74058\n"
     ]
    },
    {
     "name": "stderr",
     "output_type": "stream",
     "text": [
      "\r",
      " 15%|█▌        | 15/100 [56:47<8:16:57, 350.80s/it]"
     ]
    },
    {
     "name": "stdout",
     "output_type": "stream",
     "text": [
      "10 \t178   \t0.870293\t0.871088\t0.795834\t0.0043251  \t10.04  \t19 \t1  \t2.5778 \n",
      "25 0.8710876351 0.873208643065 0.860753411493 420.68731713294983\n",
      "   \t      \t                     fitness                      \t              size             \n",
      "   \t      \t--------------------------------------------------\t-------------------------------\n",
      "gen\tnevals\tavg    \tmax     \tmin     \tstd       \tavg \tmax\tmin\tstd    \n",
      "0  \t300   \t0.87072\t0.871573\t0.775945\t0.00548234\t4.24\t14 \t2  \t2.67377\n",
      "1  \t168   \t0.871118\t0.871621\t0.868214\t0.000231546\t4.69\t14 \t1  \t2.92357\n",
      "2  \t161   \t0.869894\t0.871621\t0.728686\t0.0122212  \t5.98667\t13 \t1  \t3.13472\n",
      "3  \t159   \t0.866156\t0.871815\t0.496168\t0.0371511  \t7.09333\t14 \t1  \t2.46129\n",
      "4  \t166   \t0.863228\t0.871817\t0.496168\t0.0458803  \t6.04   \t14 \t2  \t2.38853\n",
      "5  \t169   \t0.871479\t0.872009\t0.870773\t0.000322956\t4.14333\t10 \t1  \t1.07523\n",
      "6  \t150   \t0.871587\t0.872016\t0.870773\t0.000347815\t3.95667\t8  \t1  \t1.0808 \n",
      "7  \t191   \t0.871255\t0.872016\t0.787578\t0.00485468 \t4.11667\t9  \t1  \t1.13859\n",
      "8  \t157   \t0.871621\t0.872016\t0.870852\t0.000358107\t4.65667\t8  \t1  \t1.12196\n",
      "9  \t170   \t0.871576\t0.87212 \t0.870623\t0.000419658\t5.12   \t12 \t1  \t1.35607\n"
     ]
    },
    {
     "name": "stderr",
     "output_type": "stream",
     "text": [
      "\r",
      " 16%|█▌        | 16/100 [1:04:13<8:51:08, 379.39s/it]"
     ]
    },
    {
     "name": "stdout",
     "output_type": "stream",
     "text": [
      "10 \t160   \t0.871736\t0.87212 \t0.870754\t0.000401721\t5.33333\t10 \t3  \t1.37679\n",
      "26 0.872120329445 0.874251249615 0.860497149081 446.03529500961304\n",
      "   \t      \t                         fitness                          \t              size             \n",
      "   \t      \t----------------------------------------------------------\t-------------------------------\n",
      "gen\tnevals\tavg     \tmax     \tmin     \tstd       \tavg    \tmax\tmin\tstd    \n",
      "0  \t300   \t0.871952\t0.872388\t0.844608\t0.00159558\t3.99667\t15 \t2  \t2.70986\n",
      "1  \t170   \t0.872079\t0.87261 \t0.858097\t0.00082847\t4.20333\t19 \t1  \t2.47427\n",
      "2  \t166   \t0.872195\t0.87261 \t0.871479\t0.000177403\t3.45   \t14 \t1  \t2.02011\n",
      "3  \t159   \t0.872257\t0.87261 \t0.871769\t0.00020992 \t3.30667\t9  \t1  \t1.58513\n",
      "4  \t161   \t0.872328\t0.872924\t0.869782\t0.000307733\t4.89333\t10 \t1  \t1.74412\n",
      "5  \t160   \t0.872409\t0.872924\t0.871766\t0.000317778\t5.90667\t12 \t1  \t1.5159 \n",
      "6  \t164   \t0.872513\t0.872924\t0.871537\t0.000376167\t5.93667\t13 \t1  \t1.57881\n",
      "7  \t163   \t0.872625\t0.872924\t0.87137 \t0.000399094\t6.07667\t12 \t2  \t1.61373\n",
      "8  \t147   \t0.872364\t0.872924\t0.785823\t0.00502018 \t6.01667\t12 \t1  \t1.49099\n",
      "9  \t171   \t0.872555\t0.872924\t0.871646\t0.000422229\t6.02   \t12 \t1  \t1.61233\n"
     ]
    },
    {
     "name": "stderr",
     "output_type": "stream",
     "text": [
      "\r",
      " 17%|█▋        | 17/100 [1:11:42<9:13:47, 400.34s/it]"
     ]
    },
    {
     "name": "stdout",
     "output_type": "stream",
     "text": [
      "10 \t171   \t0.87266 \t0.872924\t0.870762\t0.000400823\t5.99667\t15 \t1  \t1.42478\n",
      "27 0.872923635008 0.875051970946 0.86098064418 449.14445900917053\n",
      "   \t      \t                      fitness                      \t              size             \n",
      "   \t      \t---------------------------------------------------\t-------------------------------\n",
      "gen\tnevals\tavg    \tmax     \tmin     \tstd        \tavg    \tmax\tmin\tstd    \n",
      "0  \t300   \t0.87282\t0.873334\t0.870583\t0.000200191\t4.05333\t14 \t2  \t2.51869\n",
      "1  \t164   \t0.872921\t0.87348 \t0.872455\t0.000122134\t4.54   \t14 \t1  \t2.75954\n",
      "2  \t174   \t0.871751\t0.873488\t0.508188\t0.0210266  \t6.30333\t17 \t1  \t3.25955\n",
      "3  \t161   \t0.87306 \t0.873488\t0.870661\t0.000285023\t6.63   \t17 \t1  \t2.99551\n",
      "4  \t181   \t0.873098\t0.873488\t0.872232\t0.000322762\t5.37333\t18 \t2  \t2.67469\n",
      "5  \t162   \t0.873175\t0.873491\t0.862047\t0.000725667\t4.21333\t14 \t1  \t1.12598\n",
      "6  \t163   \t0.873205\t0.873491\t0.866599\t0.000506145\t4.03667\t9  \t1  \t0.869093\n",
      "7  \t166   \t0.873198\t0.873492\t0.872542\t0.000348138\t4.05   \t11 \t1  \t0.849019\n",
      "8  \t168   \t0.873233\t0.873492\t0.872543\t0.000332944\t4.10667\t10 \t1  \t0.83384 \n",
      "9  \t184   \t0.873212\t0.873492\t0.872176\t0.000336661\t4.15   \t10 \t1  \t0.956121\n"
     ]
    },
    {
     "name": "stderr",
     "output_type": "stream",
     "text": [
      "\r",
      " 18%|█▊        | 18/100 [1:19:33<9:36:03, 421.50s/it]"
     ]
    },
    {
     "name": "stdout",
     "output_type": "stream",
     "text": [
      "10 \t158   \t0.873236\t0.873496\t0.872527\t0.000330624\t4.11   \t10 \t3  \t0.760197\n",
      "28 0.873495655487 0.875755438167 0.861473148504 470.81135058403015\n",
      "   \t      \t                      fitness                      \t              size             \n",
      "   \t      \t---------------------------------------------------\t-------------------------------\n",
      "gen\tnevals\tavg   \tmax     \tmin     \tstd        \tavg    \tmax\tmin\tstd    \n",
      "0  \t300   \t0.8734\t0.874088\t0.857579\t0.000922923\t3.86333\t13 \t2  \t2.19043\n",
      "1  \t174   \t0.873193\t0.874088\t0.777559\t0.00553349 \t3.85333\t10 \t1  \t1.81984\n",
      "2  \t162   \t0.873617\t0.874101\t0.872522\t0.000236797\t3.61333\t11 \t1  \t1.60535\n",
      "3  \t153   \t0.873548\t0.874117\t0.813262\t0.00349991 \t4.09667\t9  \t2  \t1.49911\n",
      "4  \t173   \t0.873835\t0.874123\t0.873085\t0.000352327\t4.81   \t12 \t1  \t1.85128\n",
      "5  \t165   \t0.873788\t0.874123\t0.853776\t0.00122965 \t5.51333\t11 \t1  \t2.17175\n",
      "6  \t163   \t0.873771\t0.874126\t0.843375\t0.00178737 \t6.94667\t15 \t1  \t1.45046\n",
      "7  \t169   \t0.873914\t0.874126\t0.873034\t0.000319155\t7.15667\t14 \t1  \t1.29053\n",
      "8  \t176   \t0.873929\t0.874169\t0.872909\t0.000288122\t7.38   \t14 \t1  \t1.61522\n",
      "9  \t169   \t0.873722\t0.874169\t0.822442\t0.0029834  \t8.31667\t15 \t5  \t1.6542 \n"
     ]
    },
    {
     "name": "stderr",
     "output_type": "stream",
     "text": [
      "\r",
      " 19%|█▉        | 19/100 [1:28:30<10:15:43, 456.09s/it]"
     ]
    },
    {
     "name": "stdout",
     "output_type": "stream",
     "text": [
      "10 \t158   \t0.873935\t0.87417 \t0.872638\t0.000312879\t9.11333\t15 \t1  \t1.84404\n",
      "29 0.874169694807 0.87644046711 0.861510186431 536.7007830142975\n",
      "   \t      \t                     fitness                      \t              size             \n",
      "   \t      \t--------------------------------------------------\t-------------------------------\n",
      "gen\tnevals\tavg    \tmax     \tmin     \tstd       \tavg \tmax\tmin\tstd    \n",
      "0  \t300   \t0.87347\t0.874464\t0.763249\t0.00720991\t3.74\t14 \t2  \t2.25516\n",
      "1  \t173   \t0.873701\t0.874724\t0.767308\t0.00642646\t3.83333\t12 \t1  \t2.15071\n",
      "2  \t170   \t0.874204\t0.874732\t0.866589\t0.000514518\t3.89   \t10 \t2  \t1.63439\n",
      "3  \t159   \t0.874194\t0.874732\t0.836526\t0.00218975 \t3.65   \t9  \t1  \t1.09278\n",
      "4  \t179   \t0.874368\t0.874734\t0.872428\t0.000302147\t3.80667\t9  \t1  \t0.970887\n",
      "5  \t170   \t0.874507\t0.874734\t0.873641\t0.000306773\t4.06   \t9  \t1  \t0.745922\n",
      "6  \t169   \t0.874476\t0.874734\t0.873922\t0.000313726\t4.07667\t10 \t1  \t0.957839\n",
      "7  \t163   \t0.874347\t0.874734\t0.825061\t0.00286728 \t4.08667\t9  \t1  \t0.791089\n",
      "8  \t175   \t0.874481\t0.874734\t0.873929\t0.00031285 \t4.12   \t9  \t1  \t0.819919\n",
      "9  \t160   \t0.874507\t0.874734\t0.873674\t0.000309855\t4.10333\t9  \t1  \t0.848129\n",
      "10 \t184   \t0.874463\t0.874734\t0.872328\t0.000339189\t4.12333\t10 \t1  \t1.01067 \n",
      "30 0.874734038742 0.877274002327 0.861353025498 625.84836769104\n"
     ]
    }
   ],
   "source": [
    "for i in tqdm(range(100)):\n",
    "    # 構文木として利用可能な演算の定義\n",
    "    pset = gp.PrimitiveSet(\"MAIN\", n_features)\n",
    "    pset.addPrimitive(operator.add, 2)\n",
    "    pset.addPrimitive(operator.sub, 2)\n",
    "    pset.addPrimitive(operator.mul, 2)\n",
    "    pset.addPrimitive(protectedDiv, 2)\n",
    "    pset.addPrimitive(operator.neg, 1)\n",
    "    pset.addPrimitive(np.cos, 1)\n",
    "    pset.addPrimitive(np.sin, 1)\n",
    "    pset.addPrimitive(np.tan, 1)\n",
    "\n",
    "    # 関数のデフォルト値の設定\n",
    "    toolbox = base.Toolbox()\n",
    "    toolbox.register(\"expr\", gp.genHalfAndHalf, pset=pset, min_=1, max_=3)\n",
    "    toolbox.register(\"individual\", tools.initIterate, creator.Individual, toolbox.expr)\n",
    "    toolbox.register(\"population\", tools.initRepeat, list, toolbox.individual)\n",
    "    toolbox.register(\"compile\", gp.compile, pset=pset)\n",
    "\n",
    "    # 評価関数の設定\n",
    "    # 新しく生成した変数を元の変数に加えて5-fold CVを求める\n",
    "    def eval_genfeat(individual):\n",
    "        func = toolbox.compile(expr=individual)\n",
    "        features_train = [X_train[:,i] for i in range(n_features)]\n",
    "        new_feat_train = func(*features_train)\n",
    "        X_train_tmp = np.c_[X_train, new_feat_train]\n",
    "        return np.mean(cross_val_score(clf, X_train_tmp, y_train, scoring=\"roc_auc\", cv=5)),\n",
    "\n",
    "    # 評価、選択、交叉、突然変異の設定\n",
    "    # 選択はサイズ10のトーナメント方式、交叉は1点交叉、突然変異は深さ2のランダム構文木生成と定義\n",
    "    toolbox.register(\"evaluate\", eval_genfeat)\n",
    "    toolbox.register(\"select\", tools.selTournament, tournsize=10)\n",
    "    toolbox.register(\"mate\", gp.cxOnePoint)\n",
    "    toolbox.register(\"expr_mut\", gp.genFull, min_=0, max_=2)\n",
    "    toolbox.register(\"mutate\", gp.mutUniform, expr=toolbox.expr_mut, pset=pset)\n",
    "\n",
    "    # 構文木の制約の設定\n",
    "    # 交叉や突然変異で深さ5以上の木ができないようにする\n",
    "    toolbox.decorate(\"mate\", gp.staticLimit(key=operator.attrgetter(\"height\"), max_value=5))\n",
    "    toolbox.decorate(\"mutate\", gp.staticLimit(key=operator.attrgetter(\"height\"), max_value=5)) \n",
    "\n",
    "    # 世代ごとの個体とベスト解を保持するクラスの生成\n",
    "    pop = toolbox.population(n=300)\n",
    "    hof = tools.HallOfFame(1)\n",
    "\n",
    "    # 統計量の表示設定\n",
    "    stats_fit = tools.Statistics(lambda ind: ind.fitness.values)\n",
    "    stats_size = tools.Statistics(len)\n",
    "    mstats = tools.MultiStatistics(fitness=stats_fit, size=stats_size)\n",
    "    mstats.register(\"avg\", np.mean)\n",
    "    mstats.register(\"std\", np.std)\n",
    "    mstats.register(\"min\", np.min)\n",
    "    mstats.register(\"max\", np.max)\n",
    "\n",
    "    # 進化の実行\n",
    "    # 交叉確率50%、突然変異確率10%、10世代まで進化\n",
    "    start_time = time.time()\n",
    "    pop, log = algorithms.eaSimple(pop, toolbox, 0.5, 0.1, 10, stats=mstats, halloffame=hof, verbose=True)\n",
    "    end_time = time.time()\n",
    "\n",
    "    # ベスト解とAUCの保持\n",
    "    best_expr = hof[0]\n",
    "    best_auc = mstats.compile(pop)[\"fitness\"][\"max\"]\n",
    "\n",
    "    # 5-fold CVのAUCスコアが前ステップのAUCを超えていた場合\n",
    "    # 生成変数を学習、テストデータに追加し、ベストAUCを更新する\n",
    "    if prev_auc < best_auc:\n",
    "        # 生成変数の追加\n",
    "        func = toolbox.compile(expr=best_expr)\n",
    "        features_train = [X_train[:,i] for i in range(n_features)]\n",
    "        features_test = [X_test[:,i] for i in range(n_features)]\n",
    "        new_feat_train = func(*features_train)\n",
    "        new_feat_test = func(*features_test)\n",
    "        X_train = np.c_[X_train, new_feat_train]\n",
    "        X_test = np.c_[X_test, new_feat_test]\n",
    "\n",
    "        ### テストAUCの計算（プロット用）\n",
    "        clf.fit(X_train, y_train)\n",
    "        train_auc = roc_auc_score(y_train, clf.predict_proba(X_train)[:,1])\n",
    "        test_auc = roc_auc_score(y_test, clf.predict_proba(X_test)[:,1])\n",
    "\n",
    "        # ベストAUCの更新と特徴量数の加算\n",
    "        prev_auc = best_auc\n",
    "        n_features += 1\n",
    "\n",
    "        # 表示と出力用データの保持\n",
    "        print(n_features, best_auc, train_auc, test_auc, end_time - start_time)\n",
    "        results.append([n_features, best_auc, train_auc, test_auc])\n",
    "        exprs.append(best_expr)\n",
    "\n",
    "        # 変数追加後の特徴量数が30を超えた場合break\n",
    "        if n_features >= 30:\n",
    "            break"
   ]
  },
  {
   "cell_type": "code",
   "execution_count": 12,
   "metadata": {},
   "outputs": [
    {
     "name": "stdout",
     "output_type": "stream",
     "text": [
      "\n",
      "### Results\n",
      "Baseline AUC train : 0.741195900486\n",
      "Baseline AUC test : 0.731194743417\n",
      "Best AUC train : 0.874734038742\n",
      "Best AUC test : 0.861353025498\n"
     ]
    }
   ],
   "source": [
    "# 結果の出力\n",
    "print()\n",
    "print(\"### Results\")\n",
    "print(\"Baseline AUC train :\", base_train_auc)\n",
    "print(\"Baseline AUC test :\", base_test_auc)\n",
    "print(\"Best AUC train :\", results[-1][1])\n",
    "print(\"Best AUC test :\", results[-1][3])"
   ]
  },
  {
   "cell_type": "code",
   "execution_count": 13,
   "metadata": {
    "collapsed": true
   },
   "outputs": [],
   "source": [
    "# 結果のプロット\n",
    "res = np.array(results)\n",
    "plt.plot(res[:,0], res[:,1],\"o-\", color=\"b\", label=\"train(5-fold CV)\")\n",
    "plt.plot(res[:,0], res[:,3],\"o-\", color=\"r\", label=\"test\")\n",
    "plt.plot(10, base_train_auc, \"d\", color=\"b\", label = \"train baseline(5-fold CV)\")\n",
    "plt.plot(10, base_test_auc, \"d\", color=\"r\", label = \"test baseline\")\n",
    "plt.xlim(9,31)\n",
    "plt.grid(which=\"both\")\n",
    "plt.xlabel('n_features')\n",
    "plt.ylabel('AUC')\n",
    "plt.legend(loc=\"lower right\")\n",
    "plt.savefig(\"gp_featgen.png\")"
   ]
  },
  {
   "cell_type": "code",
   "execution_count": 14,
   "metadata": {
    "scrolled": false
   },
   "outputs": [
    {
     "name": "stdout",
     "output_type": "stream",
     "text": [
      "\n",
      "### Generated feature expression\n",
      "mul(sub(add(mul(ARG9, ARG2), cos(neg(ARG6))), neg(ARG6)), sub(ARG7, cos(cos(neg(ARG6)))))\n",
      "mul(neg(ARG10), mul(ARG9, ARG8))\n",
      "sub(add(ARG1, ARG8), add(mul(add(ARG2, ARG6), ARG8), cos(protectedDiv(ARG10, ARG3))))\n",
      "sub(sub(sub(neg(mul(ARG9, ARG12)), cos(ARG9)), cos(ARG9)), mul(ARG2, ARG12))\n",
      "mul(add(add(ARG6, neg(ARG7)), ARG8), add(sin(ARG6), neg(ARG7)))\n",
      "sin(cos(add(ARG8, ARG2)))\n",
      "cos(cos(add(cos(ARG9), sin(sin(ARG2)))))\n",
      "mul(sub(ARG10, mul(mul(ARG7, ARG2), cos(ARG6))), ARG16)\n",
      "mul(ARG14, ARG8)\n",
      "mul(sub(sub(ARG14, ARG9), sin(ARG6)), add(ARG9, ARG2))\n",
      "mul(ARG11, cos(ARG16))\n",
      "sin(cos(ARG7))\n",
      "mul(add(cos(ARG9), tan(ARG21)), ARG8)\n",
      "cos(ARG22)\n",
      "mul(sub(ARG23, ARG21), sub(sin(ARG9), add(sub(sin(ARG9), add(ARG13, ARG3)), ARG3)))\n",
      "mul(add(add(ARG21, neg(neg(ARG16))), ARG2), ARG23)\n",
      "mul(ARG2, neg(mul(ARG9, ARG9)))\n",
      "mul(cos(ARG14), ARG26)\n",
      "sub(mul(mul(cos(ARG13), ARG0), ARG26), mul(ARG17, ARG26))\n",
      "mul(cos(ARG6), ARG2)\n"
     ]
    }
   ],
   "source": [
    "# 生成した構文木の出力\n",
    "print()\n",
    "print(\"### Generated feature expression\")\n",
    "for expr in exprs:\n",
    "    print(expr)"
   ]
  },
  {
   "cell_type": "markdown",
   "metadata": {},
   "source": [
    "## lightGBM(2)"
   ]
  },
  {
   "cell_type": "code",
   "execution_count": 15,
   "metadata": {},
   "outputs": [
    {
     "name": "stdout",
     "output_type": "stream",
     "text": [
      "[1]\tvalid_0's auc: 0.752588\n",
      "Training until validation scores don't improve for 10 rounds.\n",
      "[2]\tvalid_0's auc: 0.770969\n",
      "[3]\tvalid_0's auc: 0.791902\n",
      "[4]\tvalid_0's auc: 0.796553\n",
      "[5]\tvalid_0's auc: 0.79827\n",
      "[6]\tvalid_0's auc: 0.80239\n",
      "[7]\tvalid_0's auc: 0.807133\n",
      "[8]\tvalid_0's auc: 0.812738\n",
      "[9]\tvalid_0's auc: 0.813093\n",
      "[10]\tvalid_0's auc: 0.816273\n",
      "[11]\tvalid_0's auc: 0.822135\n",
      "[12]\tvalid_0's auc: 0.821824\n",
      "[13]\tvalid_0's auc: 0.824187\n",
      "[14]\tvalid_0's auc: 0.825901\n",
      "[15]\tvalid_0's auc: 0.827086\n",
      "[16]\tvalid_0's auc: 0.830691\n",
      "[17]\tvalid_0's auc: 0.833257\n",
      "[18]\tvalid_0's auc: 0.835706\n",
      "[19]\tvalid_0's auc: 0.837942\n",
      "[20]\tvalid_0's auc: 0.839303\n",
      "[21]\tvalid_0's auc: 0.840747\n",
      "[22]\tvalid_0's auc: 0.842322\n",
      "[23]\tvalid_0's auc: 0.843171\n",
      "[24]\tvalid_0's auc: 0.844819\n",
      "[25]\tvalid_0's auc: 0.845503\n",
      "[26]\tvalid_0's auc: 0.846534\n",
      "[27]\tvalid_0's auc: 0.847227\n",
      "[28]\tvalid_0's auc: 0.848505\n",
      "[29]\tvalid_0's auc: 0.848983\n",
      "[30]\tvalid_0's auc: 0.849424\n",
      "[31]\tvalid_0's auc: 0.850356\n",
      "[32]\tvalid_0's auc: 0.85121\n",
      "[33]\tvalid_0's auc: 0.85239\n",
      "[34]\tvalid_0's auc: 0.853012\n",
      "[35]\tvalid_0's auc: 0.853595\n",
      "[36]\tvalid_0's auc: 0.853648\n",
      "[37]\tvalid_0's auc: 0.854018\n",
      "[38]\tvalid_0's auc: 0.854271\n",
      "[39]\tvalid_0's auc: 0.854744\n",
      "[40]\tvalid_0's auc: 0.855324\n",
      "[41]\tvalid_0's auc: 0.855804\n",
      "[42]\tvalid_0's auc: 0.855819\n",
      "[43]\tvalid_0's auc: 0.856335\n",
      "[44]\tvalid_0's auc: 0.856781\n",
      "[45]\tvalid_0's auc: 0.856906\n",
      "[46]\tvalid_0's auc: 0.85694\n",
      "[47]\tvalid_0's auc: 0.85692\n",
      "[48]\tvalid_0's auc: 0.857414\n",
      "[49]\tvalid_0's auc: 0.857977\n",
      "[50]\tvalid_0's auc: 0.858709\n",
      "[51]\tvalid_0's auc: 0.859017\n",
      "[52]\tvalid_0's auc: 0.859218\n",
      "[53]\tvalid_0's auc: 0.859462\n",
      "[54]\tvalid_0's auc: 0.859701\n",
      "[55]\tvalid_0's auc: 0.859748\n",
      "[56]\tvalid_0's auc: 0.860258\n",
      "[57]\tvalid_0's auc: 0.860489\n",
      "[58]\tvalid_0's auc: 0.860553\n",
      "[59]\tvalid_0's auc: 0.860841\n",
      "[60]\tvalid_0's auc: 0.860857\n",
      "[61]\tvalid_0's auc: 0.860671\n",
      "[62]\tvalid_0's auc: 0.860827\n",
      "[63]\tvalid_0's auc: 0.860801\n",
      "[64]\tvalid_0's auc: 0.860918\n",
      "[65]\tvalid_0's auc: 0.861313\n",
      "[66]\tvalid_0's auc: 0.86132\n",
      "[67]\tvalid_0's auc: 0.86154\n",
      "[68]\tvalid_0's auc: 0.861734\n",
      "[69]\tvalid_0's auc: 0.862042\n",
      "[70]\tvalid_0's auc: 0.861942\n",
      "[71]\tvalid_0's auc: 0.862031\n",
      "[72]\tvalid_0's auc: 0.862022\n",
      "[73]\tvalid_0's auc: 0.862054\n",
      "[74]\tvalid_0's auc: 0.862475\n",
      "[75]\tvalid_0's auc: 0.862814\n",
      "[76]\tvalid_0's auc: 0.86306\n",
      "[77]\tvalid_0's auc: 0.863075\n",
      "[78]\tvalid_0's auc: 0.86359\n",
      "[79]\tvalid_0's auc: 0.863638\n",
      "[80]\tvalid_0's auc: 0.863316\n",
      "[81]\tvalid_0's auc: 0.863784\n",
      "[82]\tvalid_0's auc: 0.863845\n",
      "[83]\tvalid_0's auc: 0.863704\n",
      "[84]\tvalid_0's auc: 0.863962\n",
      "[85]\tvalid_0's auc: 0.864307\n",
      "[86]\tvalid_0's auc: 0.864583\n",
      "[87]\tvalid_0's auc: 0.864482\n",
      "[88]\tvalid_0's auc: 0.864564\n",
      "[89]\tvalid_0's auc: 0.864442\n",
      "[90]\tvalid_0's auc: 0.864475\n",
      "[91]\tvalid_0's auc: 0.864698\n",
      "[92]\tvalid_0's auc: 0.864937\n",
      "[93]\tvalid_0's auc: 0.865117\n",
      "[94]\tvalid_0's auc: 0.865189\n",
      "[95]\tvalid_0's auc: 0.865119\n",
      "[96]\tvalid_0's auc: 0.865\n",
      "[97]\tvalid_0's auc: 0.86492\n",
      "[98]\tvalid_0's auc: 0.865122\n",
      "[99]\tvalid_0's auc: 0.865066\n",
      "[100]\tvalid_0's auc: 0.865047\n",
      "[101]\tvalid_0's auc: 0.865105\n",
      "[102]\tvalid_0's auc: 0.865441\n",
      "[103]\tvalid_0's auc: 0.865536\n",
      "[104]\tvalid_0's auc: 0.865811\n",
      "[105]\tvalid_0's auc: 0.865863\n",
      "[106]\tvalid_0's auc: 0.86588\n",
      "[107]\tvalid_0's auc: 0.865937\n",
      "[108]\tvalid_0's auc: 0.86608\n",
      "[109]\tvalid_0's auc: 0.866273\n",
      "[110]\tvalid_0's auc: 0.866474\n",
      "[111]\tvalid_0's auc: 0.866301\n",
      "[112]\tvalid_0's auc: 0.866396\n",
      "[113]\tvalid_0's auc: 0.866099\n",
      "[114]\tvalid_0's auc: 0.86632\n",
      "[115]\tvalid_0's auc: 0.866438\n",
      "[116]\tvalid_0's auc: 0.866553\n",
      "[117]\tvalid_0's auc: 0.866928\n",
      "[118]\tvalid_0's auc: 0.867195\n",
      "[119]\tvalid_0's auc: 0.867054\n",
      "[120]\tvalid_0's auc: 0.867018\n",
      "[121]\tvalid_0's auc: 0.867162\n",
      "[122]\tvalid_0's auc: 0.867084\n",
      "[123]\tvalid_0's auc: 0.867173\n",
      "[124]\tvalid_0's auc: 0.86722\n",
      "[125]\tvalid_0's auc: 0.867295\n",
      "[126]\tvalid_0's auc: 0.867222\n",
      "[127]\tvalid_0's auc: 0.867164\n",
      "[128]\tvalid_0's auc: 0.867306\n",
      "[129]\tvalid_0's auc: 0.867409\n",
      "[130]\tvalid_0's auc: 0.867342\n",
      "[131]\tvalid_0's auc: 0.867251\n",
      "[132]\tvalid_0's auc: 0.867286\n",
      "[133]\tvalid_0's auc: 0.867217\n",
      "[134]\tvalid_0's auc: 0.867086\n",
      "[135]\tvalid_0's auc: 0.8673\n",
      "[136]\tvalid_0's auc: 0.867037\n",
      "[137]\tvalid_0's auc: 0.866912\n",
      "[138]\tvalid_0's auc: 0.866721\n",
      "[139]\tvalid_0's auc: 0.866903\n",
      "Early stopping, best iteration is:\n",
      "[129]\tvalid_0's auc: 0.867409\n"
     ]
    },
    {
     "data": {
      "image/png": "[encoded data removed]",
      "text/plain": [
       "<matplotlib.figure.Figure at 0x1a10af2240>"
      ]
     },
     "metadata": {},
     "output_type": "display_data"
    },
    {
     "data": {
      "image/png": "[encoded data removed]",
      "text/plain": [
       "<matplotlib.figure.Figure at 0x105134198>"
      ]
     },
     "metadata": {},
     "output_type": "display_data"
    }
   ],
   "source": [
    "X_train2, X_valid, y_train2, y_valid = train_test_split(X_train, y_train, test_size=0.2, random_state=123)\n",
    "\n",
    "# データセットを生成する\n",
    "lgb_train = lgb.Dataset(X_train2, y_train2)\n",
    "lgb_eval = lgb.Dataset(X_valid, y_valid, reference=lgb_train)\n",
    "\n",
    "lgbm_params = {\n",
    "    'learning_rate': 0.1,\n",
    "    'num_leaves': 8,\n",
    "    'boosting_type' : 'gbdt',\n",
    "    'subsample' : 0.8,\n",
    "    'reg_alpha' : 1,\n",
    "    'reg_lambda' : 1,\n",
    "    'objective': 'regression',\n",
    "    'metric': 'auc',\n",
    "    }\n",
    "\n",
    "# 上記のパラメータでモデルを学習する\n",
    "model2 = lgb.train(lgbm_params, lgb_train,\n",
    "                  # モデルの評価用データを渡す\n",
    "                  valid_sets=lgb_eval,\n",
    "                  # 最大で 1000 ラウンドまで学習する\n",
    "                  num_boost_round=1000,\n",
    "                  # 10 ラウンド経過しても性能が向上しないときは学習を打ち切る\n",
    "                  early_stopping_rounds=10)\n",
    "\n",
    "# 特徴量の重要度をプロットする\n",
    "lgb.plot_importance(model2, figsize=(20, 10))\n",
    "plt.show()"
   ]
  },
  {
   "cell_type": "markdown",
   "metadata": {},
   "source": [
    "### testでの検証"
   ]
  },
  {
   "cell_type": "code",
   "execution_count": 16,
   "metadata": {},
   "outputs": [
    {
     "name": "stdout",
     "output_type": "stream",
     "text": [
      "0.877752818887\n"
     ]
    }
   ],
   "source": [
    "# テストデータを予測する\n",
    "y_pred = model2.predict(X_test, num_iteration=model2.best_iteration)\n",
    "\n",
    "# auc を計算する\n",
    "auc = roc_auc_score(y_test, y_pred)\n",
    "print(auc)"
   ]
  },
  {
   "cell_type": "code",
   "execution_count": null,
   "metadata": {
    "collapsed": true
   },
   "outputs": [],
   "source": []
  }
 ],
 "metadata": {
  "kernelspec": {
   "display_name": "Python 3",
   "language": "python",
   "name": "python3"
  },
  "language_info": {
   "codemirror_mode": {
    "name": "ipython",
    "version": 3
   },
   "file_extension": ".py",
   "mimetype": "text/x-python",
   "name": "python",
   "nbconvert_exporter": "python",
   "pygments_lexer": "ipython3",
   "version": "3.6.2"
  }
 },
 "nbformat": 4,
 "nbformat_minor": 2
}
