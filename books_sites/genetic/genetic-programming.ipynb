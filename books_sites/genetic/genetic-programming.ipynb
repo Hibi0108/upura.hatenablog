{
 "cells": [
  {
   "cell_type": "markdown",
   "metadata": {},
   "source": [
    "https://qiita.com/overlap/items/e7f1077ef8239f454602"
   ]
  },
  {
   "cell_type": "code",
   "execution_count": 1,
   "metadata": {},
   "outputs": [],
   "source": [
    "import operator, math, random, time\n",
    "import numpy as np\n",
    "\n",
    "from deap import algorithms, base, creator, tools, gp\n",
    "\n",
    "from sklearn.datasets import make_classification\n",
    "from sklearn.model_selection import train_test_split, cross_val_score\n",
    "from sklearn.linear_model import LogisticRegression\n",
    "from sklearn.metrics import roc_auc_score, log_loss\n",
    "\n",
    "import matplotlib.pyplot as plt\n",
    "from tqdm import tqdm"
   ]
  },
  {
   "cell_type": "code",
   "execution_count": 2,
   "metadata": {
    "collapsed": true
   },
   "outputs": [],
   "source": [
    "# サンプルデータの生成\n",
    "X, y = make_classification(n_samples=10000, n_features=10, n_informative=5, n_redundant=0, n_repeated=0,\n",
    "                           n_clusters_per_class=8, random_state=123)\n",
    "X_train, X_test, y_train, y_test = train_test_split(X, y, test_size=0.2, random_state=123)"
   ]
  },
  {
   "cell_type": "code",
   "execution_count": 3,
   "metadata": {
    "collapsed": true
   },
   "outputs": [],
   "source": [
    "# ベースラインスコアの算出\n",
    "clf = LogisticRegression(penalty=\"l2\", C=1.0)\n",
    "base_train_auc = np.mean(cross_val_score(clf, X_train, y_train, scoring=\"roc_auc\", cv=5))\n",
    "clf.fit(X_train, y_train)\n",
    "base_test_auc = roc_auc_score(y_test, clf.predict_proba(X_test)[:,1])"
   ]
  },
  {
   "cell_type": "code",
   "execution_count": 4,
   "metadata": {
    "collapsed": true
   },
   "outputs": [],
   "source": [
    "# 除算関数の定義\n",
    "# 左項 / 右項で右項が0の場合1を代入する\n",
    "def protectedDiv(left, right):\n",
    "    eps = 1.0e-7\n",
    "    tmp = np.zeros(len(left))\n",
    "    tmp[np.abs(right) >= eps] = left[np.abs(right) >= eps] / right[np.abs(right) >= eps]\n",
    "    tmp[np.abs(right) < eps] = 1.0\n",
    "    return tmp"
   ]
  },
  {
   "cell_type": "code",
   "execution_count": 5,
   "metadata": {
    "collapsed": true
   },
   "outputs": [],
   "source": [
    "# 乱数シード\n",
    "random.seed(123)\n",
    "\n",
    "# 適合度を最大化するような木構造を個体として定義\n",
    "creator.create(\"FitnessMax\", base.Fitness, weights=(1.0,))\n",
    "creator.create(\"Individual\", gp.PrimitiveTree, fitness=creator.FitnessMax)"
   ]
  },
  {
   "cell_type": "code",
   "execution_count": 6,
   "metadata": {
    "collapsed": true
   },
   "outputs": [],
   "source": [
    "# 初期値の計算\n",
    "# 学習データの5-fold CVのAUCスコアを評価指標の初期値とする\n",
    "n_features = X_train.shape[1]\n",
    "clf = LogisticRegression(penalty=\"l2\", C=1.0)\n",
    "prev_auc = np.mean(cross_val_score(clf, X_train, y_train, scoring=\"roc_auc\", cv=5))"
   ]
  },
  {
   "cell_type": "code",
   "execution_count": 7,
   "metadata": {
    "collapsed": true
   },
   "outputs": [],
   "source": [
    "# メインループ\n",
    "# resultsに特徴量数、学習データのAUCスコア（5-fold CV）、テストデータのAUCスコアを保持する\n",
    "# exprsに生成された特徴量の表記を保持する\n",
    "results = []\n",
    "exprs = []"
   ]
  },
  {
   "cell_type": "code",
   "execution_count": 8,
   "metadata": {},
   "outputs": [
    {
     "name": "stderr",
     "output_type": "stream",
     "text": [
      "\r",
      "  0%|          | 0/10 [00:00<?, ?it/s]"
     ]
    },
    {
     "name": "stdout",
     "output_type": "stream",
     "text": [
      "   \t      \t                      fitness                      \t              size             \n",
      "   \t      \t---------------------------------------------------\t-------------------------------\n",
      "gen\tnevals\tavg     \tmax    \tmin     \tstd        \tavg    \tmax\tmin\tstd    \n",
      "0  \t300   \t0.741287\t0.75243\t0.739287\t0.000936722\t4.52667\t14 \t2  \t2.84182\n",
      "1  \t164   \t0.742463\t0.759495\t0.738584\t0.00261917 \t4.42333\t14 \t1  \t2.70385\n",
      "2  \t172   \t0.745261\t0.768907\t0.740169\t0.0047919  \t4.73   \t14 \t1  \t3.05458\n",
      "3  \t171   \t0.749827\t0.782676\t0.740549\t0.00735729 \t5.78333\t17 \t1  \t3.96271\n",
      "4  \t156   \t0.75783 \t0.782676\t0.740453\t0.0105806  \t10.7967\t18 \t1  \t4.05241\n",
      "5  \t168   \t0.764185\t0.792389\t0.740825\t0.0141751  \t13.09  \t22 \t3  \t2.97689\n",
      "6  \t167   \t0.772111\t0.793657\t0.740837\t0.016202   \t15.1167\t22 \t6  \t2.57612\n",
      "7  \t171   \t0.775656\t0.799636\t0.740179\t0.0174457  \t14.83  \t24 \t4  \t2.81681\n",
      "8  \t157   \t0.782073\t0.801036\t0.73717 \t0.0180513  \t15.55  \t22 \t1  \t2.69459\n",
      "9  \t166   \t0.782201\t0.801207\t0.739749\t0.0211176  \t16.2   \t24 \t4  \t2.51131\n"
     ]
    },
    {
     "name": "stderr",
     "output_type": "stream",
     "text": [
      "\r",
      " 10%|█         | 1/10 [01:33<13:57, 93.01s/it]"
     ]
    },
    {
     "name": "stdout",
     "output_type": "stream",
     "text": [
      "10 \t164   \t0.786265\t0.802428\t0.740108\t0.0212921  \t16.0267\t21 \t1  \t2.47372\n",
      "11 0.802428302576 0.803795647866 0.797010138382 92.9943859577179\n",
      "   \t      \t                         fitness                          \t              size             \n",
      "   \t      \t----------------------------------------------------------\t-------------------------------\n",
      "gen\tnevals\tavg     \tmax     \tmin     \tstd       \tavg    \tmax\tmin\tstd    \n",
      "0  \t300   \t0.802048\t0.814404\t0.757718\t0.00424473\t4.28333\t14 \t2  \t2.69377\n",
      "1  \t164   \t0.803722\t0.814404\t0.783152\t0.00274161\t4.17667\t18 \t1  \t2.61256\n",
      "2  \t164   \t0.806679\t0.81613 \t0.802141\t0.0037591 \t4.33   \t10 \t1  \t1.86577\n",
      "3  \t161   \t0.80984 \t0.81613 \t0.801938\t0.0047213 \t4.64333\t11 \t1  \t1.68012\n",
      "4  \t153   \t0.81146 \t0.81613 \t0.802161\t0.00515748\t5.13667\t11 \t3  \t1.38491\n",
      "5  \t152   \t0.81188 \t0.81613 \t0.802048\t0.0051625 \t5.62333\t9  \t1  \t1.19225\n",
      "6  \t172   \t0.811213\t0.81613 \t0.801716\t0.00557387\t5.66   \t12 \t1  \t1.32831\n",
      "7  \t157   \t0.811679\t0.81613 \t0.784686\t0.00550372\t5.59333\t11 \t1  \t1.24952\n",
      "8  \t174   \t0.811479\t0.81613 \t0.802029\t0.0053452 \t5.46333\t9  \t1  \t1.19805\n",
      "9  \t163   \t0.811848\t0.81613 \t0.802096\t0.00520221\t5.47   \t13 \t1  \t1.23657\n"
     ]
    },
    {
     "name": "stderr",
     "output_type": "stream",
     "text": [
      "\r",
      " 20%|██        | 2/10 [04:34<15:57, 119.67s/it]"
     ]
    },
    {
     "name": "stdout",
     "output_type": "stream",
     "text": [
      "10 \t147   \t0.811572\t0.81613 \t0.80202 \t0.00550134\t5.51333\t13 \t1  \t1.31776\n",
      "12 0.816129868324 0.817298780873 0.8114929688 181.841206073761\n",
      "   \t      \t                         fitness                          \t              size             \n",
      "   \t      \t----------------------------------------------------------\t-------------------------------\n",
      "gen\tnevals\tavg     \tmax     \tmin     \tstd       \tavg    \tmax\tmin\tstd    \n",
      "0  \t300   \t0.816123\t0.823524\t0.794877\t0.00163221\t4.14667\t13 \t2  \t2.42593\n",
      "1  \t178   \t0.817119\t0.823524\t0.815655\t0.00180077\t3.95   \t13 \t1  \t1.9615 \n",
      "2  \t161   \t0.819406\t0.823525\t0.81579 \t0.00285312\t4.15333\t11 \t1  \t2.09678\n",
      "3  \t161   \t0.820868\t0.823525\t0.815832\t0.00317795\t3.54333\t12 \t1  \t1.74206\n",
      "4  \t165   \t0.821452\t0.823529\t0.815416\t0.00312237\t3.97333\t15 \t1  \t2.32364\n",
      "5  \t149   \t0.821559\t0.829063\t0.815793\t0.0031575 \t7.05   \t19 \t1  \t3.62411\n",
      "6  \t167   \t0.821955\t0.829066\t0.815815\t0.00317337\t10.1433\t18 \t1  \t2.69248\n",
      "7  \t161   \t0.823138\t0.829066\t0.815887\t0.00383282\t11.3367\t21 \t2  \t2.93314\n",
      "8  \t166   \t0.825206\t0.829067\t0.815836\t0.00505388\t11.3767\t19 \t1  \t2.6711 \n",
      "9  \t148   \t0.826979\t0.829071\t0.815894\t0.00425297\t12.03  \t20 \t5  \t1.91897\n"
     ]
    },
    {
     "name": "stderr",
     "output_type": "stream",
     "text": [
      "\r",
      " 30%|███       | 3/10 [06:26<13:41, 117.30s/it]"
     ]
    },
    {
     "name": "stdout",
     "output_type": "stream",
     "text": [
      "10 \t174   \t0.826045\t0.829499\t0.815601\t0.00521858\t12.1767\t26 \t1  \t3.51835\n",
      "13 0.829499139546 0.830656032717 0.824326109937 111.71443390846252\n",
      "   \t      \t                          fitness                          \t              size             \n",
      "   \t      \t-----------------------------------------------------------\t-------------------------------\n",
      "gen\tnevals\tavg     \tmax     \tmin     \tstd        \tavg    \tmax\tmin\tstd    \n",
      "0  \t300   \t0.829527\t0.835429\t0.828997\t0.000501576\t4.25667\t15 \t2  \t2.75635\n",
      "1  \t175   \t0.829918\t0.835429\t0.829007\t0.000949146\t3.67   \t15 \t1  \t1.94622\n",
      "2  \t169   \t0.830882\t0.839667\t0.828999\t0.00179962 \t3.64333\t9  \t1  \t1.81736\n",
      "3  \t163   \t0.832515\t0.839667\t0.829203\t0.00270009 \t5.36   \t15 \t1  \t2.44071\n",
      "4  \t158   \t0.834084\t0.842093\t0.828785\t0.00364913 \t5.64   \t15 \t1  \t2.51338\n",
      "5  \t172   \t0.836154\t0.842093\t0.82882 \t0.00460956 \t6.01   \t11 \t1  \t1.71753\n",
      "6  \t160   \t0.837305\t0.842498\t0.823015\t0.00462468 \t7.41667\t14 \t1  \t2.43921\n",
      "7  \t162   \t0.838484\t0.842649\t0.829118\t0.00470152 \t9.95667\t15 \t2  \t2.35686\n",
      "8  \t164   \t0.839211\t0.842649\t0.829099\t0.00463014 \t11.06  \t18 \t1  \t2.38532\n",
      "9  \t180   \t0.839412\t0.842883\t0.829007\t0.00469641 \t11.42  \t21 \t1  \t2.59684\n"
     ]
    },
    {
     "name": "stderr",
     "output_type": "stream",
     "text": [
      "\r",
      " 40%|████      | 4/10 [08:19<11:35, 115.97s/it]"
     ]
    },
    {
     "name": "stdout",
     "output_type": "stream",
     "text": [
      "10 \t171   \t0.839536\t0.842883\t0.829012\t0.00481196 \t11.94  \t19 \t2  \t2.41586\n",
      "14 0.842882748074 0.843964157486 0.839929087385 112.86266613006592\n",
      "   \t      \t                     fitness                      \t              size             \n",
      "   \t      \t--------------------------------------------------\t-------------------------------\n",
      "gen\tnevals\tavg     \tmax     \tmin    \tstd       \tavg    \tmax\tmin\tstd    \n",
      "0  \t300   \t0.842457\t0.843703\t0.78687\t0.00394974\t4.03667\t15 \t2  \t2.46482\n",
      "1  \t182   \t0.842982\t0.843703\t0.842252\t0.00025624\t4.17333\t14 \t1  \t2.45424\n",
      "2  \t155   \t0.843284\t0.845571\t0.842475\t0.00039177\t4.08   \t13 \t1  \t1.85839\n",
      "3  \t170   \t0.843532\t0.845629\t0.842568\t0.000583983\t4.82   \t11 \t1  \t1.46319\n",
      "4  \t165   \t0.843653\t0.845777\t0.744306\t0.00581807 \t4.49333\t12 \t1  \t1.41302\n",
      "5  \t158   \t0.844529\t0.846178\t0.842579\t0.00114969 \t5.07333\t12 \t1  \t1.37403\n",
      "6  \t154   \t0.844933\t0.846178\t0.842345\t0.0011011  \t5.38667\t10 \t1  \t1.23982\n",
      "7  \t175   \t0.844642\t0.846526\t0.755062\t0.00533208 \t6.36667\t13 \t1  \t1.87053\n",
      "8  \t154   \t0.845323\t0.84698 \t0.842345\t0.00127119 \t7.99   \t16 \t2  \t1.9958 \n",
      "9  \t164   \t0.845489\t0.847584\t0.842345\t0.00145085 \t9.37   \t15 \t3  \t2.06715\n"
     ]
    },
    {
     "name": "stderr",
     "output_type": "stream",
     "text": [
      "\r",
      " 50%|█████     | 5/10 [10:29<10:01, 120.29s/it]"
     ]
    },
    {
     "name": "stdout",
     "output_type": "stream",
     "text": [
      "10 \t166   \t0.845714\t0.847932\t0.789077\t0.00357071 \t10.24  \t18 \t1  \t2.37678\n",
      "15 0.847932485435 0.849171815009 0.844444711384 130.3481080532074\n",
      "   \t      \t                         fitness                          \t              size             \n",
      "   \t      \t----------------------------------------------------------\t-------------------------------\n",
      "gen\tnevals\tavg     \tmax     \tmin     \tstd       \tavg \tmax\tmin\tstd    \n",
      "0  \t300   \t0.847829\t0.851083\t0.826905\t0.00124521\t4.09\t14 \t2  \t2.33136\n",
      "1  \t165   \t0.848229\t0.851105\t0.846477\t0.000724326\t4.52333\t15 \t1  \t2.41028\n",
      "2  \t151   \t0.849131\t0.852687\t0.847522\t0.00122614 \t4.5    \t12 \t1  \t1.84481\n",
      "3  \t164   \t0.850108\t0.852687\t0.847619\t0.00137913 \t4.11667\t11 \t1  \t1.40821\n",
      "4  \t163   \t0.850188\t0.852687\t0.847476\t0.00161941 \t4.82667\t11 \t1  \t1.27408\n",
      "5  \t150   \t0.850659\t0.852687\t0.847619\t0.00186483 \t5.15333\t11 \t1  \t1.4685 \n",
      "6  \t180   \t0.850297\t0.852687\t0.847558\t0.00231165 \t5.03333\t14 \t1  \t1.65898\n",
      "7  \t182   \t0.850447\t0.852687\t0.847591\t0.00232769 \t5.01333\t13 \t1  \t1.68913\n",
      "8  \t171   \t0.850816\t0.852687\t0.847591\t0.00231882 \t4.99667\t11 \t1  \t1.58008\n",
      "9  \t147   \t0.850872\t0.852687\t0.847591\t0.00228322 \t4.94333\t8  \t1  \t1.2437 \n"
     ]
    },
    {
     "name": "stderr",
     "output_type": "stream",
     "text": [
      "\r",
      " 60%|██████    | 6/10 [12:48<08:23, 125.81s/it]"
     ]
    },
    {
     "name": "stdout",
     "output_type": "stream",
     "text": [
      "10 \t164   \t0.850755\t0.852687\t0.847557\t0.00232731 \t4.96667\t9  \t1  \t1.39722\n",
      "16 0.852686520731 0.854126711854 0.845711008072 138.65630793571472\n",
      "   \t      \t                         fitness                          \t             size             \n",
      "   \t      \t----------------------------------------------------------\t------------------------------\n",
      "gen\tnevals\tavg     \tmax     \tmin     \tstd       \tavg \tmax\tmin\tstd   \n",
      "0  \t300   \t0.852427\t0.853307\t0.792398\t0.00347487\t4.22\t14 \t2  \t2.5242\n",
      "1  \t165   \t0.85277 \t0.853307\t0.852016\t0.000181979\t4.66\t15 \t1  \t2.95935\n",
      "2  \t163   \t0.852675\t0.853331\t0.78783 \t0.0037589  \t4.71333\t14 \t1  \t2.36033\n",
      "3  \t161   \t0.853053\t0.854914\t0.852287\t0.000314946\t4.28   \t13 \t1  \t2.11067\n",
      "4  \t160   \t0.853153\t0.85498 \t0.852374\t0.000433071\t4.29667\t11 \t1  \t2.17608\n",
      "5  \t178   \t0.853307\t0.854982\t0.852255\t0.000713918\t6.14333\t15 \t1  \t2.78977\n",
      "6  \t170   \t0.853939\t0.855049\t0.85235 \t0.00106885 \t7.47667\t16 \t1  \t2.26924\n",
      "7  \t165   \t0.85422 \t0.855049\t0.85237 \t0.00111677 \t7.11   \t10 \t1  \t1.67866\n",
      "8  \t165   \t0.85435 \t0.855049\t0.852372\t0.00104384 \t7.37667\t12 \t1  \t1.63955\n",
      "9  \t160   \t0.854314\t0.855049\t0.852347\t0.00110862 \t7.36333\t11 \t1  \t1.66673\n"
     ]
    },
    {
     "name": "stderr",
     "output_type": "stream",
     "text": [
      "\r",
      " 70%|███████   | 7/10 [15:35<06:54, 138.16s/it]"
     ]
    },
    {
     "name": "stdout",
     "output_type": "stream",
     "text": [
      "10 \t188   \t0.854266\t0.855049\t0.852361\t0.00115665 \t7.36333\t11 \t2  \t1.62214\n",
      "17 0.855048986868 0.856576315349 0.847928278557 166.94300889968872\n",
      "   \t      \t                         fitness                          \t              size             \n",
      "   \t      \t----------------------------------------------------------\t-------------------------------\n",
      "gen\tnevals\tavg     \tmax     \tmin     \tstd       \tavg    \tmax\tmin\tstd    \n",
      "0  \t300   \t0.854562\t0.855823\t0.731188\t0.00714064\t4.14667\t14 \t2  \t2.58299\n",
      "1  \t153   \t0.855069\t0.857286\t0.839378\t0.000937576\t3.94   \t11 \t2  \t2.10152\n",
      "2  \t162   \t0.855299\t0.857286\t0.853813\t0.000405656\t4.87   \t16 \t1  \t2.57677\n",
      "3  \t165   \t0.855611\t0.858313\t0.854734\t0.000690586\t5.17   \t14 \t1  \t2.27474\n",
      "4  \t183   \t0.856123\t0.858313\t0.854728\t0.000996775\t6.75667\t14 \t2  \t2.65533\n",
      "5  \t155   \t0.856594\t0.858316\t0.85467 \t0.00114475 \t8.15667\t15 \t1  \t2.29756\n",
      "6  \t174   \t0.856873\t0.858318\t0.854248\t0.00140226 \t9.59667\t17 \t3  \t2.64839\n",
      "7  \t177   \t0.857135\t0.858318\t0.854253\t0.00148042 \t10.2933\t19 \t2  \t2.3876 \n",
      "8  \t167   \t0.857142\t0.858318\t0.854254\t0.00148516 \t10.39  \t19 \t1  \t2.32907\n",
      "9  \t163   \t0.857226\t0.858318\t0.854252\t0.00146895 \t10.2233\t17 \t1  \t2.34665\n"
     ]
    },
    {
     "name": "stderr",
     "output_type": "stream",
     "text": [
      "\r",
      " 80%|████████  | 8/10 [19:07<05:20, 160.31s/it]"
     ]
    },
    {
     "name": "stdout",
     "output_type": "stream",
     "text": [
      "10 \t151   \t0.857199\t0.85832 \t0.854252\t0.00147355 \t10.3467\t19 \t1  \t2.56382\n",
      "18 0.858319966421 0.859802014135 0.85161405279 211.95232701301575\n",
      "   \t      \t                          fitness                          \t             size             \n",
      "   \t      \t-----------------------------------------------------------\t------------------------------\n",
      "gen\tnevals\tavg     \tmax     \tmin     \tstd        \tavg    \tmax\tmin\tstd   \n",
      "0  \t300   \t0.858292\t0.861808\t0.857915\t0.000264265\t4.09667\t15 \t2  \t2.5444\n",
      "1  \t169   \t0.858498\t0.861808\t0.857807\t0.000581606\t4.06667\t14 \t1  \t2.47701\n",
      "2  \t158   \t0.859032\t0.861856\t0.824596\t0.00231578 \t4.9    \t20 \t1  \t3.79605\n",
      "3  \t161   \t0.860413\t0.861881\t0.857788\t0.00144619 \t3.80333\t14 \t1  \t2.33195\n",
      "4  \t165   \t0.860713\t0.861881\t0.829534\t0.0023064  \t3.85333\t12 \t1  \t1.48048\n",
      "5  \t174   \t0.860805\t0.86193 \t0.856682\t0.00151703 \t5.44333\t11 \t1  \t1.71273\n",
      "6  \t161   \t0.860924\t0.862054\t0.857997\t0.00145993 \t6.19   \t12 \t1  \t1.71481\n",
      "7  \t152   \t0.861052\t0.862054\t0.857917\t0.00143867 \t6.83   \t14 \t1  \t1.86219\n",
      "8  \t160   \t0.860868\t0.862145\t0.796324\t0.00401718 \t7.62333\t14 \t1  \t1.96166\n",
      "9  \t155   \t0.861119\t0.86219 \t0.857984\t0.00153622 \t7.89333\t16 \t1  \t2.2065 \n"
     ]
    },
    {
     "name": "stderr",
     "output_type": "stream",
     "text": [
      "\r",
      " 90%|█████████ | 9/10 [22:45<02:57, 177.65s/it]"
     ]
    },
    {
     "name": "stdout",
     "output_type": "stream",
     "text": [
      "10 \t151   \t0.861035\t0.862286\t0.803206\t0.0036552  \t9.09   \t21 \t3  \t2.74139\n",
      "19 0.862285550833 0.863790432646 0.853602088539 218.0687222480774\n",
      "   \t      \t                         fitness                          \t              size             \n",
      "   \t      \t----------------------------------------------------------\t-------------------------------\n",
      "gen\tnevals\tavg     \tmax     \tmin     \tstd       \tavg    \tmax\tmin\tstd    \n",
      "0  \t300   \t0.862063\t0.862926\t0.828404\t0.00221734\t4.10333\t14 \t2  \t2.62158\n",
      "1  \t168   \t0.861889\t0.863002\t0.728203\t0.0077349 \t4.84667\t15 \t1  \t2.98046\n",
      "2  \t173   \t0.862186\t0.863058\t0.788684\t0.00428227\t5.06333\t18 \t1  \t3.37234\n",
      "3  \t174   \t0.862582\t0.863596\t0.861955\t0.000300234\t5.26   \t16 \t2  \t2.86922\n",
      "4  \t158   \t0.862719\t0.8643  \t0.862002\t0.000386307\t6.41667\t12 \t1  \t2.42413\n",
      "5  \t155   \t0.862961\t0.864881\t0.86181 \t0.000561874\t7.90333\t14 \t1  \t2.4686 \n",
      "6  \t166   \t0.863155\t0.864881\t0.817466\t0.00277137 \t8.86   \t14 \t1  \t2.23616\n",
      "7  \t174   \t0.863696\t0.864884\t0.861127\t0.00106463 \t7.99333\t17 \t1  \t2.42211\n",
      "8  \t167   \t0.86403 \t0.865026\t0.862076\t0.00110821 \t7.23667\t12 \t1  \t1.45625\n",
      "9  \t154   \t0.864188\t0.865027\t0.857724\t0.0011178  \t7.64333\t14 \t1  \t1.74436\n"
     ]
    },
    {
     "name": "stderr",
     "output_type": "stream",
     "text": [
      "\r",
      "100%|██████████| 10/10 [27:05<00:00, 202.38s/it]"
     ]
    },
    {
     "name": "stdout",
     "output_type": "stream",
     "text": [
      "10 \t148   \t0.864267\t0.865027\t0.862052\t0.00114195 \t8.99   \t15 \t1  \t2.01905\n",
      "20 0.865026864333 0.866722306517 0.855670206291 260.0326159000397\n"
     ]
    },
    {
     "name": "stderr",
     "output_type": "stream",
     "text": [
      "\n"
     ]
    }
   ],
   "source": [
    "for i in tqdm(range(10)):\n",
    "    # 構文木として利用可能な演算の定義\n",
    "    pset = gp.PrimitiveSet(\"MAIN\", n_features)\n",
    "    pset.addPrimitive(operator.add, 2)\n",
    "    pset.addPrimitive(operator.sub, 2)\n",
    "    pset.addPrimitive(operator.mul, 2)\n",
    "    pset.addPrimitive(protectedDiv, 2)\n",
    "    pset.addPrimitive(operator.neg, 1)\n",
    "    pset.addPrimitive(np.cos, 1)\n",
    "    pset.addPrimitive(np.sin, 1)\n",
    "    pset.addPrimitive(np.tan, 1)\n",
    "\n",
    "    # 関数のデフォルト値の設定\n",
    "    toolbox = base.Toolbox()\n",
    "    toolbox.register(\"expr\", gp.genHalfAndHalf, pset=pset, min_=1, max_=3)\n",
    "    toolbox.register(\"individual\", tools.initIterate, creator.Individual, toolbox.expr)\n",
    "    toolbox.register(\"population\", tools.initRepeat, list, toolbox.individual)\n",
    "    toolbox.register(\"compile\", gp.compile, pset=pset)\n",
    "\n",
    "    # 評価関数の設定\n",
    "    # 新しく生成した変数を元の変数に加えて5-fold CVを求める\n",
    "    def eval_genfeat(individual):\n",
    "        func = toolbox.compile(expr=individual)\n",
    "        features_train = [X_train[:,i] for i in range(n_features)]\n",
    "        new_feat_train = func(*features_train)\n",
    "        X_train_tmp = np.c_[X_train, new_feat_train]\n",
    "        return np.mean(cross_val_score(clf, X_train_tmp, y_train, scoring=\"roc_auc\", cv=5)),\n",
    "\n",
    "    # 評価、選択、交叉、突然変異の設定\n",
    "    # 選択はサイズ10のトーナメント方式、交叉は1点交叉、突然変異は深さ2のランダム構文木生成と定義\n",
    "    toolbox.register(\"evaluate\", eval_genfeat)\n",
    "    toolbox.register(\"select\", tools.selTournament, tournsize=10)\n",
    "    toolbox.register(\"mate\", gp.cxOnePoint)\n",
    "    toolbox.register(\"expr_mut\", gp.genFull, min_=0, max_=2)\n",
    "    toolbox.register(\"mutate\", gp.mutUniform, expr=toolbox.expr_mut, pset=pset)\n",
    "\n",
    "    # 構文木の制約の設定\n",
    "    # 交叉や突然変異で深さ5以上の木ができないようにする\n",
    "    toolbox.decorate(\"mate\", gp.staticLimit(key=operator.attrgetter(\"height\"), max_value=5))\n",
    "    toolbox.decorate(\"mutate\", gp.staticLimit(key=operator.attrgetter(\"height\"), max_value=5)) \n",
    "\n",
    "    # 世代ごとの個体とベスト解を保持するクラスの生成\n",
    "    pop = toolbox.population(n=300)\n",
    "    hof = tools.HallOfFame(1)\n",
    "\n",
    "    # 統計量の表示設定\n",
    "    stats_fit = tools.Statistics(lambda ind: ind.fitness.values)\n",
    "    stats_size = tools.Statistics(len)\n",
    "    mstats = tools.MultiStatistics(fitness=stats_fit, size=stats_size)\n",
    "    mstats.register(\"avg\", np.mean)\n",
    "    mstats.register(\"std\", np.std)\n",
    "    mstats.register(\"min\", np.min)\n",
    "    mstats.register(\"max\", np.max)\n",
    "\n",
    "    # 進化の実行\n",
    "    # 交叉確率50%、突然変異確率10%、10世代まで進化\n",
    "    start_time = time.time()\n",
    "    pop, log = algorithms.eaSimple(pop, toolbox, 0.5, 0.1, 10, stats=mstats, halloffame=hof, verbose=True)\n",
    "    end_time = time.time()\n",
    "\n",
    "    # ベスト解とAUCの保持\n",
    "    best_expr = hof[0]\n",
    "    best_auc = mstats.compile(pop)[\"fitness\"][\"max\"]\n",
    "\n",
    "    # 5-fold CVのAUCスコアが前ステップのAUCを超えていた場合\n",
    "    # 生成変数を学習、テストデータに追加し、ベストAUCを更新する\n",
    "    if prev_auc < best_auc:\n",
    "        # 生成変数の追加\n",
    "        func = toolbox.compile(expr=best_expr)\n",
    "        features_train = [X_train[:,i] for i in range(n_features)]\n",
    "        features_test = [X_test[:,i] for i in range(n_features)]\n",
    "        new_feat_train = func(*features_train)\n",
    "        new_feat_test = func(*features_test)\n",
    "        X_train = np.c_[X_train, new_feat_train]\n",
    "        X_test = np.c_[X_test, new_feat_test]\n",
    "\n",
    "        ### テストAUCの計算（プロット用）\n",
    "        clf.fit(X_train, y_train)\n",
    "        train_auc = roc_auc_score(y_train, clf.predict_proba(X_train)[:,1])\n",
    "        test_auc = roc_auc_score(y_test, clf.predict_proba(X_test)[:,1])\n",
    "\n",
    "        # ベストAUCの更新と特徴量数の加算\n",
    "        prev_auc = best_auc\n",
    "        n_features += 1\n",
    "\n",
    "        # 表示と出力用データの保持\n",
    "        print(n_features, best_auc, train_auc, test_auc, end_time - start_time)\n",
    "        results.append([n_features, best_auc, train_auc, test_auc])\n",
    "        exprs.append(best_expr)\n",
    "\n",
    "        # 変数追加後の特徴量数が30を超えた場合break\n",
    "        if n_features >= 30:\n",
    "            break"
   ]
  },
  {
   "cell_type": "code",
   "execution_count": 9,
   "metadata": {},
   "outputs": [
    {
     "name": "stdout",
     "output_type": "stream",
     "text": [
      "\n",
      "### Results\n",
      "Baseline AUC train : 0.741195900486\n",
      "Baseline AUC test : 0.731194743417\n",
      "Best AUC train : 0.865026864333\n",
      "Best AUC test : 0.855670206291\n"
     ]
    }
   ],
   "source": [
    "# 結果の出力\n",
    "print()\n",
    "print(\"### Results\")\n",
    "print(\"Baseline AUC train :\", base_train_auc)\n",
    "print(\"Baseline AUC test :\", base_test_auc)\n",
    "print(\"Best AUC train :\", results[-1][1])\n",
    "print(\"Best AUC test :\", results[-1][3])"
   ]
  },
  {
   "cell_type": "code",
   "execution_count": 10,
   "metadata": {
    "collapsed": true
   },
   "outputs": [],
   "source": [
    "# 結果のプロット\n",
    "res = np.array(results)\n",
    "plt.plot(res[:,0], res[:,1],\"o-\", color=\"b\", label=\"train(5-fold CV)\")\n",
    "plt.plot(res[:,0], res[:,3],\"o-\", color=\"r\", label=\"test\")\n",
    "plt.plot(10, base_train_auc, \"d\", color=\"b\", label = \"train baseline(5-fold CV)\")\n",
    "plt.plot(10, base_test_auc, \"d\", color=\"r\", label = \"test baseline\")\n",
    "plt.xlim(9,31)\n",
    "plt.grid(which=\"both\")\n",
    "plt.xlabel('n_features')\n",
    "plt.ylabel('AUC')\n",
    "plt.legend(loc=\"lower right\")\n",
    "plt.savefig(\"gp_featgen.png\")"
   ]
  },
  {
   "cell_type": "code",
   "execution_count": 11,
   "metadata": {},
   "outputs": [
    {
     "name": "stdout",
     "output_type": "stream",
     "text": [
      "\n",
      "### Generated feature expression\n",
      "mul(sub(add(mul(ARG9, ARG2), cos(neg(ARG6))), neg(ARG6)), sub(ARG7, cos(cos(neg(ARG6)))))\n",
      "mul(neg(ARG10), mul(ARG9, ARG8))\n",
      "sub(add(ARG1, ARG8), add(mul(add(ARG2, ARG6), ARG8), cos(protectedDiv(ARG10, ARG3))))\n",
      "sub(sub(sub(neg(mul(ARG9, ARG12)), cos(ARG9)), cos(ARG9)), mul(ARG2, ARG12))\n",
      "mul(add(add(ARG6, neg(ARG7)), ARG8), add(sin(ARG6), neg(ARG7)))\n",
      "sin(cos(add(ARG8, ARG2)))\n",
      "cos(cos(add(cos(ARG9), sin(sin(ARG2)))))\n",
      "mul(sub(mul(mul(ARG7, neg(ARG2)), cos(ARG6)), ARG12), ARG16)\n",
      "mul(neg(sub(sub(sub(ARG14, ARG9), sub(ARG2, ARG16)), ARG7)), ARG8)\n",
      "mul(sub(ARG14, ARG9), add(add(ARG2, ARG9), add(add(ARG2, ARG9), ARG2)))\n"
     ]
    }
   ],
   "source": [
    "# 生成した構文木の出力\n",
    "print()\n",
    "print(\"### Generated feature expression\")\n",
    "for expr in exprs:\n",
    "    print(expr)"
   ]
  },
  {
   "cell_type": "code",
   "execution_count": null,
   "metadata": {
    "collapsed": true
   },
   "outputs": [],
   "source": []
  }
 ],
 "metadata": {
  "kernelspec": {
   "display_name": "Python 3",
   "language": "python",
   "name": "python3"
  },
  "language_info": {
   "codemirror_mode": {
    "name": "ipython",
    "version": 3
   },
   "file_extension": ".py",
   "mimetype": "text/x-python",
   "name": "python",
   "nbconvert_exporter": "python",
   "pygments_lexer": "ipython3",
   "version": "3.6.2"
  }
 },
 "nbformat": 4,
 "nbformat_minor": 2
}
