{
 "cells": [
  {
   "cell_type": "markdown",
   "metadata": {},
   "source": [
    "https://qiita.com/overlap/items/e7f1077ef8239f454602"
   ]
  },
  {
   "cell_type": "code",
   "execution_count": 1,
   "metadata": {},
   "outputs": [],
   "source": [
    "import operator, math, random, time\n",
    "import numpy as np\n",
    "\n",
    "from deap import algorithms, base, creator, tools, gp\n",
    "\n",
    "from sklearn.datasets import make_classification\n",
    "from sklearn.model_selection import train_test_split, cross_val_score\n",
    "from sklearn.linear_model import LogisticRegression\n",
    "from sklearn.metrics import roc_auc_score, log_loss\n",
    "\n",
    "import matplotlib.pyplot as plt\n",
    "from tqdm import tqdm"
   ]
  },
  {
   "cell_type": "code",
   "execution_count": 2,
   "metadata": {
    "collapsed": true
   },
   "outputs": [],
   "source": [
    "# サンプルデータの生成\n",
    "X, y = make_classification(n_samples=10000, n_features=10, n_informative=5, n_redundant=0, n_repeated=0,\n",
    "                           n_clusters_per_class=8, random_state=123)\n",
    "X_train, X_test, y_train, y_test = train_test_split(X, y, test_size=0.2, random_state=123)"
   ]
  },
  {
   "cell_type": "code",
   "execution_count": 3,
   "metadata": {
    "collapsed": true
   },
   "outputs": [],
   "source": [
    "# ベースラインスコアの算出\n",
    "clf = LogisticRegression(penalty=\"l2\", C=1.0)\n",
    "base_train_auc = np.mean(cross_val_score(clf, X_train, y_train, scoring=\"roc_auc\", cv=5))\n",
    "clf.fit(X_train, y_train)\n",
    "base_test_auc = roc_auc_score(y_test, clf.predict_proba(X_test)[:,1])"
   ]
  },
  {
   "cell_type": "code",
   "execution_count": 4,
   "metadata": {
    "collapsed": true
   },
   "outputs": [],
   "source": [
    "# 除算関数の定義\n",
    "# 左項 / 右項で右項が0の場合1を代入する\n",
    "def protectedDiv(left, right):\n",
    "    eps = 1.0e-7\n",
    "    tmp = np.zeros(len(left))\n",
    "    tmp[np.abs(right) >= eps] = left[np.abs(right) >= eps] / right[np.abs(right) >= eps]\n",
    "    tmp[np.abs(right) < eps] = 1.0\n",
    "    return tmp"
   ]
  },
  {
   "cell_type": "code",
   "execution_count": 5,
   "metadata": {
    "collapsed": true
   },
   "outputs": [],
   "source": [
    "# 乱数シード\n",
    "random.seed(123)\n",
    "\n",
    "# 適合度を最大化するような木構造を個体として定義\n",
    "creator.create(\"FitnessMax\", base.Fitness, weights=(1.0,))\n",
    "creator.create(\"Individual\", gp.PrimitiveTree, fitness=creator.FitnessMax)"
   ]
  },
  {
   "cell_type": "code",
   "execution_count": 6,
   "metadata": {
    "collapsed": true
   },
   "outputs": [],
   "source": [
    "# 初期値の計算\n",
    "# 学習データの5-fold CVのAUCスコアを評価指標の初期値とする\n",
    "n_features = X_train.shape[1]\n",
    "clf = LogisticRegression(penalty=\"l2\", C=1.0)\n",
    "prev_auc = np.mean(cross_val_score(clf, X_train, y_train, scoring=\"roc_auc\", cv=5))"
   ]
  },
  {
   "cell_type": "code",
   "execution_count": null,
   "metadata": {
    "collapsed": true
   },
   "outputs": [],
   "source": [
    "# メインループ\n",
    "# resultsに特徴量数、学習データのAUCスコア（5-fold CV）、テストデータのAUCスコアを保持する\n",
    "# exprsに生成された特徴量の表記を保持する\n",
    "results = []\n",
    "exprs = []"
   ]
  },
  {
   "cell_type": "code",
   "execution_count": null,
   "metadata": {},
   "outputs": [
    {
     "name": "stderr",
     "output_type": "stream",
     "text": [
      "\r",
      "  0%|          | 0/10 [00:00<?, ?it/s]"
     ]
    },
    {
     "name": "stdout",
     "output_type": "stream",
     "text": [
      "   \t      \t                      fitness                      \t              size             \n",
      "   \t      \t---------------------------------------------------\t-------------------------------\n",
      "gen\tnevals\tavg     \tmax    \tmin     \tstd        \tavg    \tmax\tmin\tstd    \n",
      "0  \t300   \t0.741287\t0.75243\t0.739287\t0.000936722\t4.52667\t14 \t2  \t2.84182\n",
      "1  \t164   \t0.742463\t0.759495\t0.738584\t0.00261917 \t4.42333\t14 \t1  \t2.70385\n",
      "2  \t172   \t0.745261\t0.768907\t0.740169\t0.0047919  \t4.73   \t14 \t1  \t3.05458\n",
      "3  \t171   \t0.749827\t0.782676\t0.740549\t0.00735729 \t5.78333\t17 \t1  \t3.96271\n",
      "4  \t156   \t0.75783 \t0.782676\t0.740453\t0.0105806  \t10.7967\t18 \t1  \t4.05241\n",
      "5  \t168   \t0.764185\t0.792389\t0.740825\t0.0141751  \t13.09  \t22 \t3  \t2.97689\n",
      "6  \t167   \t0.772111\t0.793657\t0.740837\t0.016202   \t15.1167\t22 \t6  \t2.57612\n",
      "7  \t171   \t0.775656\t0.799636\t0.740179\t0.0174457  \t14.83  \t24 \t4  \t2.81681\n",
      "8  \t157   \t0.782073\t0.801036\t0.73717 \t0.0180513  \t15.55  \t22 \t1  \t2.69459\n",
      "9  \t166   \t0.782201\t0.801207\t0.739749\t0.0211176  \t16.2   \t24 \t4  \t2.51131\n"
     ]
    },
    {
     "name": "stderr",
     "output_type": "stream",
     "text": [
      "\r",
      " 10%|█         | 1/10 [01:33<13:57, 93.01s/it]"
     ]
    },
    {
     "name": "stdout",
     "output_type": "stream",
     "text": [
      "10 \t164   \t0.786265\t0.802428\t0.740108\t0.0212921  \t16.0267\t21 \t1  \t2.47372\n",
      "11 0.802428302576 0.803795647866 0.797010138382 92.9943859577179\n"
     ]
    }
   ],
   "source": [
    "for i in tqdm(range(10)):\n",
    "    # 構文木として利用可能な演算の定義\n",
    "    pset = gp.PrimitiveSet(\"MAIN\", n_features)\n",
    "    pset.addPrimitive(operator.add, 2)\n",
    "    pset.addPrimitive(operator.sub, 2)\n",
    "    pset.addPrimitive(operator.mul, 2)\n",
    "    pset.addPrimitive(protectedDiv, 2)\n",
    "    pset.addPrimitive(operator.neg, 1)\n",
    "    pset.addPrimitive(np.cos, 1)\n",
    "    pset.addPrimitive(np.sin, 1)\n",
    "    pset.addPrimitive(np.tan, 1)\n",
    "\n",
    "    # 関数のデフォルト値の設定\n",
    "    toolbox = base.Toolbox()\n",
    "    toolbox.register(\"expr\", gp.genHalfAndHalf, pset=pset, min_=1, max_=3)\n",
    "    toolbox.register(\"individual\", tools.initIterate, creator.Individual, toolbox.expr)\n",
    "    toolbox.register(\"population\", tools.initRepeat, list, toolbox.individual)\n",
    "    toolbox.register(\"compile\", gp.compile, pset=pset)\n",
    "\n",
    "    # 評価関数の設定\n",
    "    # 新しく生成した変数を元の変数に加えて5-fold CVを求める\n",
    "    def eval_genfeat(individual):\n",
    "        func = toolbox.compile(expr=individual)\n",
    "        features_train = [X_train[:,i] for i in range(n_features)]\n",
    "        new_feat_train = func(*features_train)\n",
    "        X_train_tmp = np.c_[X_train, new_feat_train]\n",
    "        return np.mean(cross_val_score(clf, X_train_tmp, y_train, scoring=\"roc_auc\", cv=5)),\n",
    "\n",
    "    # 評価、選択、交叉、突然変異の設定\n",
    "    # 選択はサイズ10のトーナメント方式、交叉は1点交叉、突然変異は深さ2のランダム構文木生成と定義\n",
    "    toolbox.register(\"evaluate\", eval_genfeat)\n",
    "    toolbox.register(\"select\", tools.selTournament, tournsize=10)\n",
    "    toolbox.register(\"mate\", gp.cxOnePoint)\n",
    "    toolbox.register(\"expr_mut\", gp.genFull, min_=0, max_=2)\n",
    "    toolbox.register(\"mutate\", gp.mutUniform, expr=toolbox.expr_mut, pset=pset)\n",
    "\n",
    "    # 構文木の制約の設定\n",
    "    # 交叉や突然変異で深さ5以上の木ができないようにする\n",
    "    toolbox.decorate(\"mate\", gp.staticLimit(key=operator.attrgetter(\"height\"), max_value=5))\n",
    "    toolbox.decorate(\"mutate\", gp.staticLimit(key=operator.attrgetter(\"height\"), max_value=5)) \n",
    "\n",
    "    # 世代ごとの個体とベスト解を保持するクラスの生成\n",
    "    pop = toolbox.population(n=300)\n",
    "    hof = tools.HallOfFame(1)\n",
    "\n",
    "    # 統計量の表示設定\n",
    "    stats_fit = tools.Statistics(lambda ind: ind.fitness.values)\n",
    "    stats_size = tools.Statistics(len)\n",
    "    mstats = tools.MultiStatistics(fitness=stats_fit, size=stats_size)\n",
    "    mstats.register(\"avg\", np.mean)\n",
    "    mstats.register(\"std\", np.std)\n",
    "    mstats.register(\"min\", np.min)\n",
    "    mstats.register(\"max\", np.max)\n",
    "\n",
    "    # 進化の実行\n",
    "    # 交叉確率50%、突然変異確率10%、10世代まで進化\n",
    "    start_time = time.time()\n",
    "    pop, log = algorithms.eaSimple(pop, toolbox, 0.5, 0.1, 10, stats=mstats, halloffame=hof, verbose=True)\n",
    "    end_time = time.time()\n",
    "\n",
    "    # ベスト解とAUCの保持\n",
    "    best_expr = hof[0]\n",
    "    best_auc = mstats.compile(pop)[\"fitness\"][\"max\"]\n",
    "\n",
    "    # 5-fold CVのAUCスコアが前ステップのAUCを超えていた場合\n",
    "    # 生成変数を学習、テストデータに追加し、ベストAUCを更新する\n",
    "    if prev_auc < best_auc:\n",
    "        # 生成変数の追加\n",
    "        func = toolbox.compile(expr=best_expr)\n",
    "        features_train = [X_train[:,i] for i in range(n_features)]\n",
    "        features_test = [X_test[:,i] for i in range(n_features)]\n",
    "        new_feat_train = func(*features_train)\n",
    "        new_feat_test = func(*features_test)\n",
    "        X_train = np.c_[X_train, new_feat_train]\n",
    "        X_test = np.c_[X_test, new_feat_test]\n",
    "\n",
    "        ### テストAUCの計算（プロット用）\n",
    "        clf.fit(X_train, y_train)\n",
    "        train_auc = roc_auc_score(y_train, clf.predict_proba(X_train)[:,1])\n",
    "        test_auc = roc_auc_score(y_test, clf.predict_proba(X_test)[:,1])\n",
    "\n",
    "        # ベストAUCの更新と特徴量数の加算\n",
    "        prev_auc = best_auc\n",
    "        n_features += 1\n",
    "\n",
    "        # 表示と出力用データの保持\n",
    "        print(n_features, best_auc, train_auc, test_auc, end_time - start_time)\n",
    "        results.append([n_features, best_auc, train_auc, test_auc])\n",
    "        exprs.append(best_expr)\n",
    "\n",
    "        # 変数追加後の特徴量数が30を超えた場合break\n",
    "        if n_features >= 30:\n",
    "            break"
   ]
  },
  {
   "cell_type": "code",
   "execution_count": null,
   "metadata": {
    "collapsed": true
   },
   "outputs": [],
   "source": [
    "# 結果の出力\n",
    "print()\n",
    "print(\"### Results\")\n",
    "print(\"Baseline AUC train :\", base_train_auc)\n",
    "print(\"Baseline AUC test :\", base_test_auc)\n",
    "print(\"Best AUC train :\", results[-1][1])\n",
    "print(\"Best AUC test :\", results[-1][3])"
   ]
  },
  {
   "cell_type": "code",
   "execution_count": null,
   "metadata": {
    "collapsed": true
   },
   "outputs": [],
   "source": [
    "# 結果のプロット\n",
    "res = np.array(results)\n",
    "plt.plot(res[:,0], res[:,1],\"o-\", color=\"b\", label=\"train(5-fold CV)\")\n",
    "plt.plot(res[:,0], res[:,3],\"o-\", color=\"r\", label=\"test\")\n",
    "plt.plot(10, base_train_auc, \"d\", color=\"b\", label = \"train baseline(5-fold CV)\")\n",
    "plt.plot(10, base_test_auc, \"d\", color=\"r\", label = \"test baseline\")\n",
    "plt.xlim(9,31)\n",
    "plt.grid(which=\"both\")\n",
    "plt.xlabel('n_features')\n",
    "plt.ylabel('AUC')\n",
    "plt.legend(loc=\"lower right\")\n",
    "plt.savefig(\"gp_featgen.png\")"
   ]
  },
  {
   "cell_type": "code",
   "execution_count": null,
   "metadata": {
    "collapsed": true
   },
   "outputs": [],
   "source": [
    "# 生成した構文木の出力\n",
    "print()\n",
    "print(\"### Generated feature expression\")\n",
    "for expr in exprs:\n",
    "    print(expr)"
   ]
  },
  {
   "cell_type": "code",
   "execution_count": null,
   "metadata": {
    "collapsed": true
   },
   "outputs": [],
   "source": []
  }
 ],
 "metadata": {
  "kernelspec": {
   "display_name": "Python 3",
   "language": "python",
   "name": "python3"
  },
  "language_info": {
   "codemirror_mode": {
    "name": "ipython",
    "version": 3
   },
   "file_extension": ".py",
   "mimetype": "text/x-python",
   "name": "python",
   "nbconvert_exporter": "python",
   "pygments_lexer": "ipython3",
   "version": "3.6.2"
  }
 },
 "nbformat": 4,
 "nbformat_minor": 2
}
