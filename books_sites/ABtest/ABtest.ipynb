{
 "cells": [
  {
   "cell_type": "code",
   "execution_count": 1,
   "metadata": {},
   "outputs": [
    {
     "data": {
      "text/html": [
       "<style>.container { width:100% !important; }</style>"
      ],
      "text/plain": [
       "<IPython.core.display.HTML object>"
      ]
     },
     "metadata": {},
     "output_type": "display_data"
    }
   ],
   "source": [
    "import numpy as np\n",
    "import pandas as pd\n",
    "from scipy import stats\n",
    "%matplotlib inline\n",
    "from IPython.core.display import display, HTML \n",
    "display(HTML(\"<style>.container { width:100% !important; }</style>\"))"
   ]
  },
  {
   "cell_type": "code",
   "execution_count": 2,
   "metadata": {},
   "outputs": [],
   "source": [
    "SIMULATIONS = 10000\n",
    "SAMPLE_SIZE = 10000\n",
    "TIMES = 1000\n",
    "alpha = 0.5"
   ]
  },
  {
   "cell_type": "code",
   "execution_count": 3,
   "metadata": {},
   "outputs": [],
   "source": [
    "n = SAMPLE_SIZE//TIMES"
   ]
  },
  {
   "cell_type": "code",
   "execution_count": 4,
   "metadata": {},
   "outputs": [],
   "source": [
    "def simulate(j):\n",
    "    data_a = np.array([])\n",
    "    data_b = np.array([])\n",
    "\n",
    "    for i in range(TIMES):\n",
    "        a = np.random.randn(n//2)\n",
    "        b = np.random.randn(n//2)\n",
    "\n",
    "        data_a = np.append(data_a, a)\n",
    "        data_b = np.append(data_b, b)\n",
    "\n",
    "        _, pvalue = stats.ttest_ind(data_a, data_b)\n",
    "\n",
    "        if pvalue < alpha:\n",
    "            break\n",
    "\n",
    "    return(len(data_a) * 2)"
   ]
  },
  {
   "cell_type": "code",
   "execution_count": 19,
   "metadata": {},
   "outputs": [],
   "source": [
    "res =pd.DataFrame( \n",
    "    'alpha0.1': [simulate(_) for _ in range(SIMULATIONS)]\n",
    ")"
   ]
  },
  {
   "cell_type": "code",
   "execution_count": 28,
   "metadata": {},
   "outputs": [
    {
     "data": {
      "text/plain": [
       "10       5033\n",
       "20       6896\n",
       "30       7819\n",
       "40       8392\n",
       "50       8728\n",
       "60       8987\n",
       "70       9157\n",
       "80       9306\n",
       "90       9400\n",
       "100      9487\n",
       "110      9555\n",
       "120      9612\n",
       "130      9662\n",
       "140      9701\n",
       "150      9736\n",
       "160      9761\n",
       "170      9784\n",
       "180      9800\n",
       "190      9818\n",
       "200      9830\n",
       "210      9844\n",
       "220      9852\n",
       "230      9863\n",
       "240      9872\n",
       "250      9878\n",
       "260      9886\n",
       "270      9898\n",
       "280      9905\n",
       "290      9910\n",
       "300      9914\n",
       "        ...  \n",
       "480      9963\n",
       "490      9965\n",
       "510      9967\n",
       "530      9968\n",
       "540      9970\n",
       "550      9972\n",
       "560      9974\n",
       "570      9975\n",
       "580      9976\n",
       "600      9977\n",
       "640      9978\n",
       "650      9980\n",
       "670      9981\n",
       "680      9982\n",
       "690      9983\n",
       "700      9984\n",
       "710      9985\n",
       "750      9986\n",
       "840      9989\n",
       "910      9990\n",
       "940      9991\n",
       "1010     9992\n",
       "1250     9993\n",
       "1310     9994\n",
       "1360     9995\n",
       "1400     9996\n",
       "1620     9997\n",
       "2000     9998\n",
       "2090     9999\n",
       "2540    10000\n",
       "Name: alpha0.1, Length: 76, dtype: int64"
      ]
     },
     "execution_count": 28,
     "metadata": {},
     "output_type": "execute_result"
    }
   ],
   "source": [
    "res['alpha0.1'].value_counts().sort_index().cumsum()"
   ]
  },
  {
   "cell_type": "code",
   "execution_count": null,
   "metadata": {},
   "outputs": [],
   "source": []
  }
 ],
 "metadata": {
  "kernelspec": {
   "display_name": "Python 3",
   "language": "python",
   "name": "python3"
  },
  "language_info": {
   "codemirror_mode": {
    "name": "ipython",
    "version": 3
   },
   "file_extension": ".py",
   "mimetype": "text/x-python",
   "name": "python",
   "nbconvert_exporter": "python",
   "pygments_lexer": "ipython3",
   "version": "3.7.3"
  }
 },
 "nbformat": 4,
 "nbformat_minor": 2
}
