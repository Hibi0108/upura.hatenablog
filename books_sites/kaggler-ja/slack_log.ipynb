{
 "cells": [
  {
   "cell_type": "code",
   "execution_count": 8,
   "metadata": {
    "collapsed": true
   },
   "outputs": [],
   "source": [
    "import requests\n",
    "from bs4 import BeautifulSoup\n",
    "from time import sleep\n",
    "\n",
    "first_URL = 'https://kaggler-ja-slack-archive.appspot.com/?ch=C6RV8M3DG'"
   ]
  },
  {
   "cell_type": "code",
   "execution_count": 2,
   "metadata": {
    "collapsed": true
   },
   "outputs": [],
   "source": [
    "results = []\n",
    "\n",
    "def get_text_data(URL):\n",
    "    \n",
    "    print(URL)\n",
    "    \n",
    "    resp = requests.get(URL)\n",
    "    soup = BeautifulSoup(resp.text, \"lxml\")\n",
    "    texts = soup.find_all('h5', class_='person-text')\n",
    "    for text in texts:\n",
    "        results.append(text.string)\n",
    "\n",
    "    next_URL = soup.find_all('a', class_='page-link')[1].get('href')\n",
    "    next_URL =  'https://kaggler-ja-slack-archive.appspot.com/' + next_URL\n",
    "\n",
    "    sleep(5)\n",
    "    \n",
    "    if next_URL != 'https://kaggler-ja-slack-archive.appspot.com/?ch=C6RV8M3DG&ts=1503410318.0':\n",
    "        get_text_data(next_URL)\n",
    "    else:\n",
    "        return results"
   ]
  },
  {
   "cell_type": "code",
   "execution_count": 3,
   "metadata": {
    "scrolled": true
   },
   "outputs": [
    {
     "name": "stdout",
     "output_type": "stream",
     "text": [
      "https://kaggler-ja-slack-archive.appspot.com/?ch=C6RV8M3DG\n",
      "https://kaggler-ja-slack-archive.appspot.com/?ch=C6RV8M3DG&ts=1541467158.1\n",
      "https://kaggler-ja-slack-archive.appspot.com/?ch=C6RV8M3DG&ts=1539314482.0\n",
      "https://kaggler-ja-slack-archive.appspot.com/?ch=C6RV8M3DG&ts=1538028045.0\n",
      "https://kaggler-ja-slack-archive.appspot.com/?ch=C6RV8M3DG&ts=1536901846.0\n",
      "https://kaggler-ja-slack-archive.appspot.com/?ch=C6RV8M3DG&ts=1536230201.0\n",
      "https://kaggler-ja-slack-archive.appspot.com/?ch=C6RV8M3DG&ts=1535280785.0\n",
      "https://kaggler-ja-slack-archive.appspot.com/?ch=C6RV8M3DG&ts=1533618557.0\n",
      "https://kaggler-ja-slack-archive.appspot.com/?ch=C6RV8M3DG&ts=1532695253.0\n",
      "https://kaggler-ja-slack-archive.appspot.com/?ch=C6RV8M3DG&ts=1531721929.0\n",
      "https://kaggler-ja-slack-archive.appspot.com/?ch=C6RV8M3DG&ts=1530447573.0\n",
      "https://kaggler-ja-slack-archive.appspot.com/?ch=C6RV8M3DG&ts=1530176280.0\n",
      "https://kaggler-ja-slack-archive.appspot.com/?ch=C6RV8M3DG&ts=1529305197.0\n",
      "https://kaggler-ja-slack-archive.appspot.com/?ch=C6RV8M3DG&ts=1528878780.0\n",
      "https://kaggler-ja-slack-archive.appspot.com/?ch=C6RV8M3DG&ts=1528420823.0\n",
      "https://kaggler-ja-slack-archive.appspot.com/?ch=C6RV8M3DG&ts=1528086293.0\n",
      "https://kaggler-ja-slack-archive.appspot.com/?ch=C6RV8M3DG&ts=1527744919.0\n",
      "https://kaggler-ja-slack-archive.appspot.com/?ch=C6RV8M3DG&ts=1527560577.0\n",
      "https://kaggler-ja-slack-archive.appspot.com/?ch=C6RV8M3DG&ts=1526648350.0\n",
      "https://kaggler-ja-slack-archive.appspot.com/?ch=C6RV8M3DG&ts=1526536972.0\n",
      "https://kaggler-ja-slack-archive.appspot.com/?ch=C6RV8M3DG&ts=1524795214.0\n",
      "https://kaggler-ja-slack-archive.appspot.com/?ch=C6RV8M3DG&ts=1524548166.0\n",
      "https://kaggler-ja-slack-archive.appspot.com/?ch=C6RV8M3DG&ts=1522776366.0\n",
      "https://kaggler-ja-slack-archive.appspot.com/?ch=C6RV8M3DG&ts=1521679807.0\n",
      "https://kaggler-ja-slack-archive.appspot.com/?ch=C6RV8M3DG&ts=1519799735.0\n",
      "https://kaggler-ja-slack-archive.appspot.com/?ch=C6RV8M3DG&ts=1517047685.0\n",
      "https://kaggler-ja-slack-archive.appspot.com/?ch=C6RV8M3DG&ts=1516104125.0\n",
      "https://kaggler-ja-slack-archive.appspot.com/?ch=C6RV8M3DG&ts=1514160855.0\n",
      "https://kaggler-ja-slack-archive.appspot.com/?ch=C6RV8M3DG&ts=1512974413.0\n",
      "https://kaggler-ja-slack-archive.appspot.com/?ch=C6RV8M3DG&ts=1512296579.0\n",
      "https://kaggler-ja-slack-archive.appspot.com/?ch=C6RV8M3DG&ts=1512190770.0\n",
      "https://kaggler-ja-slack-archive.appspot.com/?ch=C6RV8M3DG&ts=1511957482.0\n",
      "https://kaggler-ja-slack-archive.appspot.com/?ch=C6RV8M3DG&ts=1511428555.0\n",
      "https://kaggler-ja-slack-archive.appspot.com/?ch=C6RV8M3DG&ts=1510555275.0\n",
      "https://kaggler-ja-slack-archive.appspot.com/?ch=C6RV8M3DG&ts=1509289685.0\n",
      "https://kaggler-ja-slack-archive.appspot.com/?ch=C6RV8M3DG&ts=1508684160.0\n",
      "https://kaggler-ja-slack-archive.appspot.com/?ch=C6RV8M3DG&ts=1507984483.0\n",
      "https://kaggler-ja-slack-archive.appspot.com/?ch=C6RV8M3DG&ts=1507254949.0\n",
      "https://kaggler-ja-slack-archive.appspot.com/?ch=C6RV8M3DG&ts=1506178417.0\n",
      "https://kaggler-ja-slack-archive.appspot.com/?ch=C6RV8M3DG&ts=1505436241.0\n",
      "https://kaggler-ja-slack-archive.appspot.com/?ch=C6RV8M3DG&ts=1504867863.0\n",
      "https://kaggler-ja-slack-archive.appspot.com/?ch=C6RV8M3DG&ts=1504678198.0\n",
      "https://kaggler-ja-slack-archive.appspot.com/?ch=C6RV8M3DG&ts=1504354556.0\n",
      "https://kaggler-ja-slack-archive.appspot.com/?ch=C6RV8M3DG&ts=1504275234.0\n",
      "https://kaggler-ja-slack-archive.appspot.com/?ch=C6RV8M3DG&ts=1504188016.0\n",
      "https://kaggler-ja-slack-archive.appspot.com/?ch=C6RV8M3DG&ts=1503640692.0\n",
      "https://kaggler-ja-slack-archive.appspot.com/?ch=C6RV8M3DG&ts=1503457545.0\n",
      "https://kaggler-ja-slack-archive.appspot.com/?ch=C6RV8M3DG&ts=1503410318.0\n",
      "https://kaggler-ja-slack-archive.appspot.com/?ch=C6RV8M3DG&ts=1503410318.0\n",
      "https://kaggler-ja-slack-archive.appspot.com/?ch=C6RV8M3DG&ts=1503410318.0\n",
      "https://kaggler-ja-slack-archive.appspot.com/?ch=C6RV8M3DG&ts=1503410318.0\n",
      "https://kaggler-ja-slack-archive.appspot.com/?ch=C6RV8M3DG&ts=1503410318.0\n",
      "https://kaggler-ja-slack-archive.appspot.com/?ch=C6RV8M3DG&ts=1503410318.0\n",
      "https://kaggler-ja-slack-archive.appspot.com/?ch=C6RV8M3DG&ts=1503410318.0\n",
      "https://kaggler-ja-slack-archive.appspot.com/?ch=C6RV8M3DG&ts=1503410318.0\n",
      "https://kaggler-ja-slack-archive.appspot.com/?ch=C6RV8M3DG&ts=1503410318.0\n",
      "https://kaggler-ja-slack-archive.appspot.com/?ch=C6RV8M3DG&ts=1503410318.0\n",
      "https://kaggler-ja-slack-archive.appspot.com/?ch=C6RV8M3DG&ts=1503410318.0\n",
      "https://kaggler-ja-slack-archive.appspot.com/?ch=C6RV8M3DG&ts=1503410318.0\n",
      "https://kaggler-ja-slack-archive.appspot.com/?ch=C6RV8M3DG&ts=1503410318.0\n",
      "https://kaggler-ja-slack-archive.appspot.com/?ch=C6RV8M3DG&ts=1503410318.0\n",
      "https://kaggler-ja-slack-archive.appspot.com/?ch=C6RV8M3DG&ts=1503410318.0\n",
      "https://kaggler-ja-slack-archive.appspot.com/?ch=C6RV8M3DG&ts=1503410318.0\n",
      "https://kaggler-ja-slack-archive.appspot.com/?ch=C6RV8M3DG&ts=1503410318.0\n",
      "https://kaggler-ja-slack-archive.appspot.com/?ch=C6RV8M3DG&ts=1503410318.0\n",
      "https://kaggler-ja-slack-archive.appspot.com/?ch=C6RV8M3DG&ts=1503410318.0\n",
      "https://kaggler-ja-slack-archive.appspot.com/?ch=C6RV8M3DG&ts=1503410318.0\n",
      "https://kaggler-ja-slack-archive.appspot.com/?ch=C6RV8M3DG&ts=1503410318.0\n",
      "https://kaggler-ja-slack-archive.appspot.com/?ch=C6RV8M3DG&ts=1503410318.0\n",
      "https://kaggler-ja-slack-archive.appspot.com/?ch=C6RV8M3DG&ts=1503410318.0\n",
      "https://kaggler-ja-slack-archive.appspot.com/?ch=C6RV8M3DG&ts=1503410318.0\n",
      "https://kaggler-ja-slack-archive.appspot.com/?ch=C6RV8M3DG&ts=1503410318.0\n",
      "https://kaggler-ja-slack-archive.appspot.com/?ch=C6RV8M3DG&ts=1503410318.0\n",
      "https://kaggler-ja-slack-archive.appspot.com/?ch=C6RV8M3DG&ts=1503410318.0\n",
      "https://kaggler-ja-slack-archive.appspot.com/?ch=C6RV8M3DG&ts=1503410318.0\n",
      "https://kaggler-ja-slack-archive.appspot.com/?ch=C6RV8M3DG&ts=1503410318.0\n",
      "https://kaggler-ja-slack-archive.appspot.com/?ch=C6RV8M3DG&ts=1503410318.0\n"
     ]
    }
   ],
   "source": [
    "get_text_data(first_URL)"
   ]
  },
  {
   "cell_type": "code",
   "execution_count": 6,
   "metadata": {
    "collapsed": true
   },
   "outputs": [],
   "source": [
    "import pandas as pd\n",
    "pd.Series(results).to_csv(\"results.csv\", index=False)"
   ]
  },
  {
   "cell_type": "markdown",
   "metadata": {},
   "source": [
    "最古\n",
    "https://kaggler-ja-slack-archive.appspot.com/?ch=C6RV8M3DG&ts=1503457545.0\n",
    "\n",
    "2017/08/22 15:19"
   ]
  },
  {
   "cell_type": "code",
   "execution_count": null,
   "metadata": {
    "collapsed": true
   },
   "outputs": [],
   "source": []
  }
 ],
 "metadata": {
  "kernelspec": {
   "display_name": "Python 3",
   "language": "python",
   "name": "python3"
  },
  "language_info": {
   "codemirror_mode": {
    "name": "ipython",
    "version": 3
   },
   "file_extension": ".py",
   "mimetype": "text/x-python",
   "name": "python",
   "nbconvert_exporter": "python",
   "pygments_lexer": "ipython3",
   "version": "3.6.2"
  }
 },
 "nbformat": 4,
 "nbformat_minor": 2
}
