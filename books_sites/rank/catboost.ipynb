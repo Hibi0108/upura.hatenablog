{
 "cells": [
  {
   "cell_type": "markdown",
   "metadata": {},
   "source": [
    "http://www.kamishima.net/sushi/"
   ]
  },
  {
   "cell_type": "markdown",
   "metadata": {},
   "source": [
    "https://orizuru.io/blog/machine-learning/catboost/"
   ]
  },
  {
   "cell_type": "code",
   "execution_count": 1,
   "metadata": {
    "collapsed": true
   },
   "outputs": [],
   "source": [
    "def convert(input_file_name):\n",
    "    # 返還後のファイル名\n",
    "    output_file_name = input_file_name + '_converted'\n",
    "    output = ''\n",
    "\n",
    "    with open(input_file_name, mode='r') as f:\n",
    "        lines = f.readlines()\n",
    "        user_id = 0\n",
    "        for line in lines:\n",
    "            words = line.strip().split(' ')\n",
    "            for item_id, word in enumerate(words):\n",
    "                score = int(word)\n",
    "                if score != -1:\n",
    "                    output += '{0:04d} {1:02d} {2:01d}\\n'.format(user_id, item_id, score)\n",
    "            user_id += 1\n",
    "\n",
    "    with open(output_file_name, mode='w') as f:\n",
    "        f.write(output)\n",
    "\n",
    "    return output_file_name\n",
    "\n",
    "# 「ユーザID アイテムID 評価値」形式にデータファイルを変換\n",
    "output_file_name = convert('sushi3-2016/sushi3b.5000.10.score')\n"
   ]
  },
  {
   "cell_type": "code",
   "execution_count": 2,
   "metadata": {},
   "outputs": [
    {
     "data": {
      "text/plain": [
       "'sushi3-2016/sushi3b.5000.10.score_converted'"
      ]
     },
     "execution_count": 2,
     "metadata": {},
     "output_type": "execute_result"
    }
   ],
   "source": [
    "output_file_name"
   ]
  },
  {
   "cell_type": "code",
   "execution_count": null,
   "metadata": {
    "collapsed": true
   },
   "outputs": [],
   "source": []
  }
 ],
 "metadata": {
  "kernelspec": {
   "display_name": "Python 3",
   "language": "python",
   "name": "python3"
  },
  "language_info": {
   "codemirror_mode": {
    "name": "ipython",
    "version": 3
   },
   "file_extension": ".py",
   "mimetype": "text/x-python",
   "name": "python",
   "nbconvert_exporter": "python",
   "pygments_lexer": "ipython3",
   "version": "3.6.8"
  }
 },
 "nbformat": 4,
 "nbformat_minor": 2
}
