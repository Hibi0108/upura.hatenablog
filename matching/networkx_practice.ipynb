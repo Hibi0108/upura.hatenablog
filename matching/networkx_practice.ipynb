{
 "cells": [
  {
   "cell_type": "code",
   "execution_count": 1,
   "metadata": {},
   "outputs": [],
   "source": [
    "import numpy.random as rd\n",
    "\n",
    "PERSON_NUM = 387\n",
    "VALUE_NUM = 12\n",
    "\n",
    "person = []\n",
    "for i in range(PERSON_NUM):\n",
    "    value = rd.randint(low=0, high=2, size=VALUE_NUM)\n",
    "    person.append(value)"
   ]
  },
  {
   "cell_type": "code",
   "execution_count": 2,
   "metadata": {},
   "outputs": [],
   "source": [
    "import numpy as np\n",
    "\n",
    "def calc_weight(a, b):\n",
    "    distance = np.linalg.norm(a-b)\n",
    "    weight = 1/(1+distance)\n",
    "    return weight"
   ]
  },
  {
   "cell_type": "code",
   "execution_count": 3,
   "metadata": {},
   "outputs": [],
   "source": [
    "%matplotlib inline\n",
    "import matplotlib.pyplot as plt\n",
    "import networkx as nx\n",
    "import itertools\n",
    "\n",
    "G = nx.Graph()\n",
    "\n",
    "nodes_list = [i for i in range(PERSON_NUM)]\n",
    "G.add_nodes_from(nodes_list)\n",
    "\n",
    "for edge in list(itertools.combinations(nodes_list, 2)):\n",
    "    G.add_path(edge, weight=calc_weight(person[edge[0]], person[edge[1]]))\n",
    "    \n",
    "# pos=nx.spring_layout(G)\n",
    "\n",
    "# nx.draw_networkx_nodes(G, pos)\n",
    "# nx.draw_networkx_labels(G, pos)\n",
    "\n",
    "# edge_width = [ d[\"weight\"] for (u,v,d) in G.edges(data=True)]\n",
    "# nx.draw_networkx_edges(G, pos, width=edge_width)\n",
    "\n",
    "# plt.show()"
   ]
  },
  {
   "cell_type": "code",
   "execution_count": 4,
   "metadata": {},
   "outputs": [],
   "source": [
    "import time\n",
    "start = time.time()"
   ]
  },
  {
   "cell_type": "code",
   "execution_count": 5,
   "metadata": {},
   "outputs": [],
   "source": [
    "d = nx.max_weight_matching(G)"
   ]
  },
  {
   "cell_type": "code",
   "execution_count": 6,
   "metadata": {},
   "outputs": [],
   "source": [
    "# 選ばれたエッジ\n",
    "matching_group = d\n",
    "# 上限に達したノード\n",
    "selected_nodes = set()"
   ]
  },
  {
   "cell_type": "code",
   "execution_count": 7,
   "metadata": {},
   "outputs": [],
   "source": [
    "def reMatching(matching_group, d, selected_nodes):\n",
    "    \n",
    "    # 選ばれたエッジを削除\n",
    "    G.remove_edges_from(d)\n",
    "    \n",
    "    # 上限に達したノードの更新\n",
    "    for group in matching_group:\n",
    "        if len(group) == 4:\n",
    "            selected_nodes = selected_nodes | set(group)\n",
    "    \n",
    "    # 上限に達したノードを削除\n",
    "    G.remove_nodes_from(selected_nodes)\n",
    "\n",
    "    # 再度最大流マッチングを実行\n",
    "    d = nx.max_weight_matching(G)\n",
    "\n",
    "    for dd in d:\n",
    "        i, j = dd\n",
    "        i_group = tuple({i})\n",
    "        j_group = tuple({j})\n",
    "\n",
    "        for group in matching_group:\n",
    "            if i in group:\n",
    "                i_group = group\n",
    "            if j in group:\n",
    "                j_group = group\n",
    "\n",
    "        new_group = tuple(set(i_group) | set(j_group))\n",
    "        \n",
    "        if len(new_group) <= 4:\n",
    "\n",
    "            matching_group.discard(i_group)\n",
    "            matching_group.discard(j_group)\n",
    "            matching_group.add(new_group)\n",
    "            \n",
    "    return matching_group, d, selected_nodes"
   ]
  },
  {
   "cell_type": "code",
   "execution_count": 8,
   "metadata": {},
   "outputs": [],
   "source": [
    "while (len(d) > 0):\n",
    "    matching_group, d, selected_nodes = reMatching(matching_group, d, selected_nodes)"
   ]
  },
  {
   "cell_type": "code",
   "execution_count": 9,
   "metadata": {},
   "outputs": [
    {
     "name": "stdout",
     "output_type": "stream",
     "text": [
      "{(337, 332, 205, 230), (73, 377, 371, 270), (297, 347, 116, 165), (140, 331, 364, 351), (43, 348, 187, 366), (75, 12, 101, 166), (131, 380, 20, 190), (113, 382, 301, 358), (312, 329, 316, 189), (33, 153, 37, 273), (202, 76, 197, 302), (225, 83, 69, 285), (186, 150, 90, 342), (17, 290, 171, 386), (176, 61, 13, 318), (248, 199, 127, 39), (211, 155, 5, 14), (139, 49, 55, 183), (152, 66, 62, 87), (368, 57, 67, 280), (161, 346, 132, 322), (121, 162, 142, 239), (160, 65, 323, 289), (240, 1, 50, 157), (52, 276, 22, 231), (8, 0, 172, 334), (328, 306, 45, 214), (89, 354, 124, 262), (216, 177, 149, 159), (201, 130, 18, 203), (313, 229, 79, 175), (224, 258, 284, 333), (257, 261, 278, 95), (170, 233, 146, 279), (105, 179, 85, 134), (296, 99, 341, 237), (9, 385, 182, 311), (193, 26, 198, 335), (256, 163, 93, 133), (19, 353, 123, 308), (336, 378, 340, 109), (352, 307, 325, 174), (98, 28, 365, 36), (344, 264, 207, 287), (128, 143, 30, 367), (232, 3, 349, 23), (265, 185, 317, 383), (184, 303, 126, 191), (168, 35, 80, 38), (178, 379, 381, 103), (64, 234, 74, 106), (114, 220, 286, 119), (217, 58, 222, 319), (40, 115, 259, 29), (145, 338, 156, 330), (200, 384, 195, 53), (267, 236, 293, 374), (48, 25, 315, 244), (141, 369, 188, 158), (72, 266, 92, 359), (204, 100, 60, 327), (305, 268, 21, 263), (345, 82, 196, 31), (210, 164, 253, 246), (283, 81, 251, 275), (304, 356, 206, 151), (376, 97, 300, 350), (320, 298, 108, 120), (370, 274, 324, 15), (24, 361, 137, 277), (144, 343, 362), (194, 180, 373, 181), (281, 227, 269, 167), (299, 11, 219, 235), (208, 34, 147, 104), (192, 107, 294, 47), (242, 212, 309, 6), (78, 243, 110, 271), (96, 41, 122, 363), (291, 117, 94, 295), (59, 314, 27, 63), (360, 154, 88, 84), (169, 91, 125, 255), (56, 42, 2, 260), (112, 228, 245, 247), (241, 226, 310, 7), (223, 44, 357, 375), (218, 355, 292, 102), (209, 339, 4, 111), (272, 118, 70, 254), (250, 148, 77, 86), (16, 173, 71, 135), (32, 372, 213, 54), (288, 51, 46, 215), (249, 282, 221, 326), (136, 138, 252, 68), (321, 129, 10, 238)}\n"
     ]
    }
   ],
   "source": [
    "# 半端な人数に応じた処理\n",
    "rest_node = set(nodes_list) - selected_nodes\n",
    "\n",
    "if len(rest_node) == 1:\n",
    "    # 選ばれなかった一人をどこかに組み込む\n",
    "    for group in matching_group:\n",
    "        new_group = group + tuple(rest_node)\n",
    "        matching_group.add(new_group)\n",
    "        matching_group.discard(group)\n",
    "        break\n",
    "    \n",
    "elif len(rest_node) == 2:\n",
    "    # 2人組を分解して、それぞれどこかに組み込む\n",
    "    for group in matching_group:\n",
    "        if len(group) == 2:\n",
    "            i, j = group\n",
    "            matching_group.discard(group)\n",
    "            break\n",
    "    \n",
    "    for group in matching_group:\n",
    "        new_group = group + tuple({i})\n",
    "        matching_group.add(new_group)\n",
    "        matching_group.discard(group)\n",
    "        break\n",
    "\n",
    "    for group in matching_group:\n",
    "        if len(group) == 4:\n",
    "            new_group = group + tuple({j})\n",
    "            matching_group.add(new_group)\n",
    "            matching_group.discard(group)\n",
    "            break\n",
    "    \n",
    "elif len(rest_node) == 5:\n",
    "    # 2人組と3人組をペアにする\n",
    "    for group in matching_group:\n",
    "        if len(group) == 2:\n",
    "            two_group = group\n",
    "        if (group) == 3:\n",
    "            three_group = group\n",
    "    \n",
    "    new_group = two_group + three_group\n",
    "    matching_group.add(new_group)\n",
    "    matching_group.discard(two_group)\n",
    "    matching_group.discard(three_group) \n",
    "\n",
    "print(matching_group)"
   ]
  },
  {
   "cell_type": "code",
   "execution_count": 10,
   "metadata": {},
   "outputs": [
    {
     "name": "stdout",
     "output_type": "stream",
     "text": [
      "elapsed_time:30.76934313774109[sec]\n"
     ]
    }
   ],
   "source": [
    "elapsed_time = time.time() - start\n",
    "print (\"elapsed_time:{0}\".format(elapsed_time) + \"[sec]\")"
   ]
  }
 ],
 "metadata": {
  "kernelspec": {
   "display_name": "Python 3",
   "language": "python",
   "name": "python3"
  },
  "language_info": {
   "codemirror_mode": {
    "name": "ipython",
    "version": 3
   },
   "file_extension": ".py",
   "mimetype": "text/x-python",
   "name": "python",
   "nbconvert_exporter": "python",
   "pygments_lexer": "ipython3",
   "version": "3.6.3"
  }
 },
 "nbformat": 4,
 "nbformat_minor": 2
}
