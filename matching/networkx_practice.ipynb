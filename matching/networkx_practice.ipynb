{
 "cells": [
  {
   "cell_type": "code",
   "execution_count": 1,
   "metadata": {},
   "outputs": [],
   "source": [
    "import numpy.random as rd\n",
    "\n",
    "PERSON_NUM = 30\n",
    "VALUE_NUM = 12\n",
    "\n",
    "person = []\n",
    "for i in range(PERSON_NUM):\n",
    "    value = rd.randint(low=0, high=2, size=VALUE_NUM)\n",
    "    person.append(value)"
   ]
  },
  {
   "cell_type": "code",
   "execution_count": 2,
   "metadata": {},
   "outputs": [],
   "source": [
    "import numpy as np\n",
    "\n",
    "def calc_weight(a, b):\n",
    "    distance = np.linalg.norm(a-b)\n",
    "    weight = 1/(1+distance)\n",
    "    return weight"
   ]
  },
  {
   "cell_type": "code",
   "execution_count": 3,
   "metadata": {},
   "outputs": [],
   "source": [
    "%matplotlib inline\n",
    "import matplotlib.pyplot as plt\n",
    "import networkx as nx\n",
    "import itertools\n",
    "\n",
    "G = nx.Graph()\n",
    "\n",
    "nodes_list = [i for i in range(PERSON_NUM)]\n",
    "G.add_nodes_from(nodes_list)\n",
    "\n",
    "for edge in list(itertools.combinations(nodes_list, 2)):\n",
    "    G.add_path(edge, weight=calc_weight(person[edge[0]], person[edge[1]]))\n",
    "    \n",
    "# pos=nx.spring_layout(G)\n",
    "\n",
    "# nx.draw_networkx_nodes(G, pos)\n",
    "# nx.draw_networkx_labels(G, pos)\n",
    "\n",
    "# edge_width = [ d[\"weight\"] for (u,v,d) in G.edges(data=True)]\n",
    "# nx.draw_networkx_edges(G, pos, width=edge_width)\n",
    "\n",
    "# plt.show()"
   ]
  },
  {
   "cell_type": "code",
   "execution_count": 4,
   "metadata": {},
   "outputs": [],
   "source": [
    "d = nx.max_weight_matching(G)"
   ]
  },
  {
   "cell_type": "code",
   "execution_count": 5,
   "metadata": {},
   "outputs": [],
   "source": [
    "# 選ばれたエッジ\n",
    "matching_group = d\n",
    "# 上限に達したノード\n",
    "selected_nodes = set()"
   ]
  },
  {
   "cell_type": "code",
   "execution_count": 6,
   "metadata": {},
   "outputs": [],
   "source": [
    "def reMatching(matching_group, d, selected_nodes):\n",
    "    \n",
    "    # 選ばれたエッジを削除\n",
    "    G.remove_edges_from(d)\n",
    "    \n",
    "    # 上限に達したノードの更新\n",
    "    for group in matching_group:\n",
    "        if len(group) == 4:\n",
    "            selected_nodes = selected_nodes | set(group)\n",
    "    \n",
    "    # 上限に達したノードを削除\n",
    "    G.remove_nodes_from(selected_nodes)\n",
    "\n",
    "    # 再度最大流マッチングを実行\n",
    "    d = nx.max_weight_matching(G)\n",
    "\n",
    "    for dd in d:\n",
    "        i, j = dd\n",
    "        i_group = tuple({i})\n",
    "        j_group = tuple({j})\n",
    "\n",
    "        for group in matching_group:\n",
    "            if i in group:\n",
    "                i_group = group\n",
    "            if j in group:\n",
    "                j_group = group\n",
    "\n",
    "        new_group = tuple(set(i_group) | set(j_group))\n",
    "        \n",
    "        if len(new_group) <= 4:\n",
    "\n",
    "            matching_group.add(new_group)\n",
    "            matching_group.discard(i_group)\n",
    "            matching_group.discard(j_group)\n",
    "    \n",
    "    return matching_group, d, selected_nodes"
   ]
  },
  {
   "cell_type": "code",
   "execution_count": 7,
   "metadata": {},
   "outputs": [],
   "source": [
    "import time\n",
    "start = time.time()"
   ]
  },
  {
   "cell_type": "code",
   "execution_count": 8,
   "metadata": {},
   "outputs": [],
   "source": [
    "while (len(d) > 0):\n",
    "    matching_group, d, selected_nodes = reMatching(matching_group, d, selected_nodes)"
   ]
  },
  {
   "cell_type": "code",
   "execution_count": 9,
   "metadata": {},
   "outputs": [
    {
     "name": "stdout",
     "output_type": "stream",
     "text": [
      "{(25, 18, 5, 7), (25, 18, 5, 7, 20), (16, 9, 14, 6), (0, 2, 26, 28), (25, 18, 5, 7, 23), (24, 11, 29, 22), (27, 17, 10, 19), (8, 1, 3, 13), (4, 12, 15, 21)}\n"
     ]
    }
   ],
   "source": [
    "# 半端な人数に応じた処理\n",
    "rest_node = set(nodes_list) - selected_nodes\n",
    "\n",
    "if len(rest_node) == 1:\n",
    "    # 選ばれなかった一人をどこかに組み込む\n",
    "    for group in matching_group:\n",
    "        new_group = group + tuple(rest_node)\n",
    "        matching_group.add(new_group)\n",
    "        matching_group.discard(group)\n",
    "        break\n",
    "    \n",
    "elif len(rest_node) == 2:\n",
    "    # 2人組を分解して、それぞれどこかに組み込む\n",
    "    for group in matching_group:\n",
    "        if len(group) == 2:\n",
    "            i, j = group\n",
    "            matching_group.discard(group)\n",
    "            break\n",
    "    \n",
    "    for group in matching_group:\n",
    "        new_group = group + tuple({i})\n",
    "        matching_group.add(new_group)\n",
    "        break\n",
    "\n",
    "    for group in matching_group:\n",
    "        if len(group) == 4:\n",
    "            new_group = group + tuple({j})\n",
    "            matching_group.add(new_group)\n",
    "            break\n",
    "    \n",
    "elif len(rest_node) == 5:\n",
    "    # 2人組と3人組をペアにする\n",
    "    for group in matching_group:\n",
    "        if len(group) == 2:\n",
    "            two_group = group\n",
    "        if (group) == 3:\n",
    "            three_group = group\n",
    "    \n",
    "    new_group = two_group + three_group\n",
    "    matching_group.add(new_group)\n",
    "    matching_group.discard(two_group)\n",
    "    matching_group.discard(three_group) \n",
    "\n",
    "print(matching_group)"
   ]
  },
  {
   "cell_type": "code",
   "execution_count": 10,
   "metadata": {},
   "outputs": [
    {
     "name": "stdout",
     "output_type": "stream",
     "text": [
      "elapsed_time:0.07642006874084473[sec]\n"
     ]
    }
   ],
   "source": [
    "elapsed_time = time.time() - start\n",
    "print (\"elapsed_time:{0}\".format(elapsed_time) + \"[sec]\")"
   ]
  }
 ],
 "metadata": {
  "kernelspec": {
   "display_name": "Python 3",
   "language": "python",
   "name": "python3"
  },
  "language_info": {
   "codemirror_mode": {
    "name": "ipython",
    "version": 3
   },
   "file_extension": ".py",
   "mimetype": "text/x-python",
   "name": "python",
   "nbconvert_exporter": "python",
   "pygments_lexer": "ipython3",
   "version": "3.6.3"
  }
 },
 "nbformat": 4,
 "nbformat_minor": 2
}
