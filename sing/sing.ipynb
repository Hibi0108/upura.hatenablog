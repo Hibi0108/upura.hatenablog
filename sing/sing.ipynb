{
 "cells": [
  {
   "cell_type": "code",
   "execution_count": 1,
   "metadata": {},
   "outputs": [],
   "source": [
    "import pandas as pd\n",
    "from sklearn import preprocessing\n",
    "from sklearn.neural_network import MLPClassifier\n",
    "\n",
    "\n",
    "df = pd.read_clipboard()\n",
    "# https://ja.wikipedia.org/wiki/%E7%9F%B3%E5%B7%9D%E3%81%95%E3%82%86%E3%82%8A"
   ]
  },
  {
   "cell_type": "code",
   "execution_count": 2,
   "metadata": {},
   "outputs": [
    {
     "data": {
      "text/html": [
       "<div>\n",
       "<style scoped>\n",
       "    .dataframe tbody tr th:only-of-type {\n",
       "        vertical-align: middle;\n",
       "    }\n",
       "\n",
       "    .dataframe tbody tr th {\n",
       "        vertical-align: top;\n",
       "    }\n",
       "\n",
       "    .dataframe thead th {\n",
       "        text-align: right;\n",
       "    }\n",
       "</style>\n",
       "<table border=\"1\" class=\"dataframe\">\n",
       "  <thead>\n",
       "    <tr style=\"text-align: right;\">\n",
       "      <th></th>\n",
       "      <th>年度/放送回</th>\n",
       "      <th>回</th>\n",
       "      <th>曲目</th>\n",
       "      <th>出演順</th>\n",
       "      <th>対戦相手</th>\n",
       "      <th>備考</th>\n",
       "    </tr>\n",
       "  </thead>\n",
       "  <tbody>\n",
       "    <tr>\n",
       "      <th>0</th>\n",
       "      <td>1977年(昭和52年)/第28回</td>\n",
       "      <td>初</td>\n",
       "      <td>津軽海峡・冬景色</td>\n",
       "      <td>19/24</td>\n",
       "      <td>小林旭</td>\n",
       "      <td>紅白初出場</td>\n",
       "    </tr>\n",
       "    <tr>\n",
       "      <th>1</th>\n",
       "      <td>1978年(昭和53年)/第29回</td>\n",
       "      <td>2</td>\n",
       "      <td>火の国へ</td>\n",
       "      <td>3/24</td>\n",
       "      <td>狩人</td>\n",
       "      <td>NaN</td>\n",
       "    </tr>\n",
       "    <tr>\n",
       "      <th>2</th>\n",
       "      <td>1979年(昭和54年)/第30回</td>\n",
       "      <td>3</td>\n",
       "      <td>命燃やして</td>\n",
       "      <td>19/23</td>\n",
       "      <td>内山田洋とクール・ファイブ</td>\n",
       "      <td>NaN</td>\n",
       "    </tr>\n",
       "    <tr>\n",
       "      <th>3</th>\n",
       "      <td>1980年(昭和55年)/第31回</td>\n",
       "      <td>4</td>\n",
       "      <td>鴎という名の酒場</td>\n",
       "      <td>17/23</td>\n",
       "      <td>細川たかし</td>\n",
       "      <td>NaN</td>\n",
       "    </tr>\n",
       "    <tr>\n",
       "      <th>4</th>\n",
       "      <td>1981年(昭和56年)/第32回</td>\n",
       "      <td>5</td>\n",
       "      <td>なみだの宿</td>\n",
       "      <td>17/22</td>\n",
       "      <td>野口五郎</td>\n",
       "      <td>NaN</td>\n",
       "    </tr>\n",
       "  </tbody>\n",
       "</table>\n",
       "</div>"
      ],
      "text/plain": [
       "              年度/放送回  回        曲目    出演順           対戦相手     備考\n",
       "0  1977年(昭和52年)/第28回  初  津軽海峡・冬景色  19/24            小林旭  紅白初出場\n",
       "1  1978年(昭和53年)/第29回  2      火の国へ   3/24             狩人    NaN\n",
       "2  1979年(昭和54年)/第30回  3     命燃やして  19/23  内山田洋とクール・ファイブ    NaN\n",
       "3  1980年(昭和55年)/第31回  4  鴎という名の酒場  17/23          細川たかし    NaN\n",
       "4  1981年(昭和56年)/第32回  5     なみだの宿  17/22           野口五郎    NaN"
      ]
     },
     "execution_count": 2,
     "metadata": {},
     "output_type": "execute_result"
    }
   ],
   "source": [
    "df.head()"
   ]
  },
  {
   "cell_type": "code",
   "execution_count": 3,
   "metadata": {},
   "outputs": [],
   "source": [
    "df['放送回'] = df['年度/放送回'].str[-3:-1].astype(int)\n",
    "# df['出演順'] = df['出演順'].str.split('/').apply(lambda x: x[0]).astype(int)\n",
    "df['回'] = df['回'].str.replace('初', '1').astype(int)\n",
    "df['曲目'] = df['曲目'].replace('\\(\\d\\d回目\\)', '', regex=True).replace('\\(\\d回目\\)', '', regex=True)"
   ]
  },
  {
   "cell_type": "code",
   "execution_count": 4,
   "metadata": {},
   "outputs": [],
   "source": [
    "le = preprocessing.LabelEncoder()\n",
    "df['曲目'] = le.fit_transform(df['曲目'])"
   ]
  },
  {
   "cell_type": "code",
   "execution_count": 5,
   "metadata": {},
   "outputs": [],
   "source": [
    "X_train = df[['回', '放送回']]\n",
    "y_train = df['曲目']"
   ]
  },
  {
   "cell_type": "code",
   "execution_count": 6,
   "metadata": {
    "scrolled": true
   },
   "outputs": [
    {
     "name": "stderr",
     "output_type": "stream",
     "text": [
      "/Users/shotaroishihara/.pyenv/versions/3.7.3/lib/python3.7/site-packages/sklearn/neural_network/multilayer_perceptron.py:566: ConvergenceWarning: Stochastic Optimizer: Maximum iterations (200) reached and the optimization hasn't converged yet.\n",
      "  % self.max_iter, ConvergenceWarning)\n"
     ]
    },
    {
     "data": {
      "text/plain": [
       "MLPClassifier(activation='relu', alpha=0.0001, batch_size='auto', beta_1=0.9,\n",
       "              beta_2=0.999, early_stopping=False, epsilon=1e-08,\n",
       "              hidden_layer_sizes=(100,), learning_rate='constant',\n",
       "              learning_rate_init=0.001, max_iter=200, momentum=0.9,\n",
       "              n_iter_no_change=10, nesterovs_momentum=True, power_t=0.5,\n",
       "              random_state=777, shuffle=True, solver='adam', tol=0.0001,\n",
       "              validation_fraction=0.1, verbose=False, warm_start=False)"
      ]
     },
     "execution_count": 6,
     "metadata": {},
     "output_type": "execute_result"
    }
   ],
   "source": [
    "clf = MLPClassifier(random_state=777)\n",
    "clf.fit(X_train, y_train)"
   ]
  },
  {
   "cell_type": "code",
   "execution_count": 7,
   "metadata": {},
   "outputs": [],
   "source": [
    "X_test = pd.DataFrame({\n",
    "    '回': [42],\n",
    "    '放送回': [70]\n",
    "})"
   ]
  },
  {
   "cell_type": "code",
   "execution_count": 8,
   "metadata": {},
   "outputs": [
    {
     "data": {
      "text/plain": [
       "array(['命燃やして', '命燃やして', '命燃やして', '鴎という名の酒場', '津軽海峡・冬景色', '津軽海峡・冬景色',\n",
       "       '津軽海峡・冬景色', '津軽海峡・冬景色', '津軽海峡・冬景色', '津軽海峡・冬景色', '津軽海峡・冬景色',\n",
       "       '津軽海峡・冬景色', '津軽海峡・冬景色', '津軽海峡・冬景色', '津軽海峡・冬景色', '津軽海峡・冬景色',\n",
       "       '津軽海峡・冬景色', '津軽海峡・冬景色', '天城越え', '天城越え', '天城越え', '天城越え', '天城越え',\n",
       "       '天城越え', '天城越え', '天城越え', '天城越え', '天城越え', '天城越え', '天城越え', '天城越え',\n",
       "       '天城越え', '天城越え', '天城越え', '天城越え', '天城越え', '天城越え', '天城越え', '天城越え',\n",
       "       '天城越え', '天城越え'], dtype=object)"
      ]
     },
     "execution_count": 8,
     "metadata": {},
     "output_type": "execute_result"
    }
   ],
   "source": [
    "le.inverse_transform(clf.predict(X_train))"
   ]
  },
  {
   "cell_type": "code",
   "execution_count": null,
   "metadata": {},
   "outputs": [],
   "source": []
  }
 ],
 "metadata": {
  "kernelspec": {
   "display_name": "Python 3",
   "language": "python",
   "name": "python3"
  },
  "language_info": {
   "codemirror_mode": {
    "name": "ipython",
    "version": 3
   },
   "file_extension": ".py",
   "mimetype": "text/x-python",
   "name": "python",
   "nbconvert_exporter": "python",
   "pygments_lexer": "ipython3",
   "version": "3.7.3"
  }
 },
 "nbformat": 4,
 "nbformat_minor": 2
}
