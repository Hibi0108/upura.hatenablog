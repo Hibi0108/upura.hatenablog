{
 "cells": [
  {
   "cell_type": "markdown",
   "metadata": {},
   "source": [
    "https://pypi.org/project/pymlask/"
   ]
  },
  {
   "cell_type": "code",
   "execution_count": 1,
   "metadata": {},
   "outputs": [
    {
     "data": {
      "text/plain": [
       "{'text': '彼のことは嫌いではない！(;´Д`)',\n",
       " 'emotion': defaultdict(list,\n",
       "             {'iya': ['嫌'], 'yorokobi': ['嫌い*CVS'], 'suki': ['嫌い*CVS']}),\n",
       " 'orientation': 'mostly_POSITIVE',\n",
       " 'activation': 'ACTIVE',\n",
       " 'emoticon': ['(;´Д`)'],\n",
       " 'intension': 2,\n",
       " 'intensifier': {'exclamation': ['！'],\n",
       "  'emotikony': ['´Д`', 'Д`', '´Д', '(;´Д`)']},\n",
       " 'representative': ('yorokobi', ['嫌い*CVS'])}"
      ]
     },
     "execution_count": 1,
     "metadata": {},
     "output_type": "execute_result"
    }
   ],
   "source": [
    "from mlask import MLAsk\n",
    "emotion_analyzer = MLAsk()\n",
    "emotion_analyzer.analyze('彼のことは嫌いではない！(;´Д`)')"
   ]
  },
  {
   "cell_type": "code",
   "execution_count": null,
   "metadata": {},
   "outputs": [],
   "source": []
  }
 ],
 "metadata": {
  "kernelspec": {
   "display_name": "Python 3",
   "language": "python",
   "name": "python3"
  },
  "language_info": {
   "codemirror_mode": {
    "name": "ipython",
    "version": 3
   },
   "file_extension": ".py",
   "mimetype": "text/x-python",
   "name": "python",
   "nbconvert_exporter": "python",
   "pygments_lexer": "ipython3",
   "version": "3.6.8"
  }
 },
 "nbformat": 4,
 "nbformat_minor": 2
}
