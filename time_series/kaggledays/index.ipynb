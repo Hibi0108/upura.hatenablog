{
 "cells": [
  {
   "cell_type": "code",
   "execution_count": 1,
   "metadata": {},
   "outputs": [
    {
     "data": {
      "text/html": [
       "<style>.container { width:100% !important; }</style>"
      ],
      "text/plain": [
       "<IPython.core.display.HTML object>"
      ]
     },
     "metadata": {},
     "output_type": "display_data"
    }
   ],
   "source": [
    "from IPython.core.display import display, HTML \n",
    "display(HTML(\"<style>.container { width:100% !important; }</style>\"))\n",
    "import pandas as pd\n",
    "import matplotlib.pyplot as plt\n",
    "from fastprogress import master_bar, progress_bar\n",
    "%matplotlib inline"
   ]
  },
  {
   "cell_type": "code",
   "execution_count": 2,
   "metadata": {},
   "outputs": [
    {
     "name": "stdout",
     "output_type": "stream",
     "text": [
      "createCsv.py      index.ipynb       nikkei_index.csv\r\n"
     ]
    }
   ],
   "source": [
    "ls"
   ]
  },
  {
   "cell_type": "code",
   "execution_count": 3,
   "metadata": {
    "collapsed": true
   },
   "outputs": [],
   "source": [
    "df = pd.read_csv('nikkei_index.csv')"
   ]
  },
  {
   "cell_type": "code",
   "execution_count": 4,
   "metadata": {},
   "outputs": [
    {
     "data": {
      "text/html": [
       "<div>\n",
       "<style scoped>\n",
       "    .dataframe tbody tr th:only-of-type {\n",
       "        vertical-align: middle;\n",
       "    }\n",
       "\n",
       "    .dataframe tbody tr th {\n",
       "        vertical-align: top;\n",
       "    }\n",
       "\n",
       "    .dataframe thead th {\n",
       "        text-align: right;\n",
       "    }\n",
       "</style>\n",
       "<table border=\"1\" class=\"dataframe\">\n",
       "  <thead>\n",
       "    <tr style=\"text-align: right;\">\n",
       "      <th></th>\n",
       "      <th>date</th>\n",
       "      <th>opening</th>\n",
       "      <th>high</th>\n",
       "      <th>low</th>\n",
       "      <th>ending</th>\n",
       "    </tr>\n",
       "  </thead>\n",
       "  <tbody>\n",
       "    <tr>\n",
       "      <th>0</th>\n",
       "      <td>2007-01-04 00:00:00</td>\n",
       "      <td>17322.50</td>\n",
       "      <td>17379.46</td>\n",
       "      <td>17315.75</td>\n",
       "      <td>17353.66</td>\n",
       "    </tr>\n",
       "    <tr>\n",
       "      <th>1</th>\n",
       "      <td>2007-01-05 00:00:00</td>\n",
       "      <td>17315.53</td>\n",
       "      <td>17327.13</td>\n",
       "      <td>17011.09</td>\n",
       "      <td>17091.58</td>\n",
       "    </tr>\n",
       "    <tr>\n",
       "      <th>2</th>\n",
       "      <td>2007-01-09 00:00:00</td>\n",
       "      <td>17018.89</td>\n",
       "      <td>17261.02</td>\n",
       "      <td>16983.97</td>\n",
       "      <td>17237.76</td>\n",
       "    </tr>\n",
       "    <tr>\n",
       "      <th>3</th>\n",
       "      <td>2007-01-10 00:00:00</td>\n",
       "      <td>17192.41</td>\n",
       "      <td>17199.41</td>\n",
       "      <td>16847.57</td>\n",
       "      <td>16942.40</td>\n",
       "    </tr>\n",
       "    <tr>\n",
       "      <th>4</th>\n",
       "      <td>2007-01-11 00:00:00</td>\n",
       "      <td>16958.57</td>\n",
       "      <td>17057.44</td>\n",
       "      <td>16758.46</td>\n",
       "      <td>16838.16</td>\n",
       "    </tr>\n",
       "  </tbody>\n",
       "</table>\n",
       "</div>"
      ],
      "text/plain": [
       "                  date   opening      high       low    ending\n",
       "0  2007-01-04 00:00:00  17322.50  17379.46  17315.75  17353.66\n",
       "1  2007-01-05 00:00:00  17315.53  17327.13  17011.09  17091.58\n",
       "2  2007-01-09 00:00:00  17018.89  17261.02  16983.97  17237.76\n",
       "3  2007-01-10 00:00:00  17192.41  17199.41  16847.57  16942.40\n",
       "4  2007-01-11 00:00:00  16958.57  17057.44  16758.46  16838.16"
      ]
     },
     "execution_count": 4,
     "metadata": {},
     "output_type": "execute_result"
    }
   ],
   "source": [
    "df.head()"
   ]
  },
  {
   "cell_type": "code",
   "execution_count": 5,
   "metadata": {},
   "outputs": [
    {
     "data": {
      "text/plain": [
       "2620"
      ]
     },
     "execution_count": 5,
     "metadata": {},
     "output_type": "execute_result"
    }
   ],
   "source": [
    "len(df)"
   ]
  },
  {
   "cell_type": "code",
   "execution_count": 6,
   "metadata": {},
   "outputs": [
    {
     "data": {
      "text/plain": [
       "<matplotlib.axes._subplots.AxesSubplot at 0x11373e7b8>"
      ]
     },
     "execution_count": 6,
     "metadata": {},
     "output_type": "execute_result"
    },
    {
     "data": {
      "image/png": "[encoded data removed]",
      "text/plain": [
       "<matplotlib.figure.Figure at 0x10e766a58>"
      ]
     },
     "metadata": {},
     "output_type": "display_data"
    }
   ],
   "source": [
    "df.plot()"
   ]
  },
  {
   "cell_type": "code",
   "execution_count": 7,
   "metadata": {},
   "outputs": [],
   "source": [
    "df['date'] = pd.to_datetime(df['date'])"
   ]
  },
  {
   "cell_type": "code",
   "execution_count": 8,
   "metadata": {
    "collapsed": true
   },
   "outputs": [],
   "source": [
    "X = pd.DataFrame(df['date'])\n",
    "y = df['ending']"
   ]
  },
  {
   "cell_type": "code",
   "execution_count": 9,
   "metadata": {
    "collapsed": true
   },
   "outputs": [],
   "source": [
    "X_train = X[:2600]\n",
    "y_train = y[:2600]\n",
    "X_test = X[2600:].reset_index(drop=True)\n",
    "y_test = y[2600:].reset_index(drop=True)"
   ]
  },
  {
   "cell_type": "code",
   "execution_count": 10,
   "metadata": {},
   "outputs": [
    {
     "data": {
      "text/html": [
       "<div>\n",
       "<style scoped>\n",
       "    .dataframe tbody tr th:only-of-type {\n",
       "        vertical-align: middle;\n",
       "    }\n",
       "\n",
       "    .dataframe tbody tr th {\n",
       "        vertical-align: top;\n",
       "    }\n",
       "\n",
       "    .dataframe thead th {\n",
       "        text-align: right;\n",
       "    }\n",
       "</style>\n",
       "<table border=\"1\" class=\"dataframe\">\n",
       "  <thead>\n",
       "    <tr style=\"text-align: right;\">\n",
       "      <th></th>\n",
       "      <th>date</th>\n",
       "    </tr>\n",
       "  </thead>\n",
       "  <tbody>\n",
       "    <tr>\n",
       "      <th>0</th>\n",
       "      <td>2007-01-04</td>\n",
       "    </tr>\n",
       "    <tr>\n",
       "      <th>1</th>\n",
       "      <td>2007-01-05</td>\n",
       "    </tr>\n",
       "    <tr>\n",
       "      <th>2</th>\n",
       "      <td>2007-01-09</td>\n",
       "    </tr>\n",
       "    <tr>\n",
       "      <th>3</th>\n",
       "      <td>2007-01-10</td>\n",
       "    </tr>\n",
       "    <tr>\n",
       "      <th>4</th>\n",
       "      <td>2007-01-11</td>\n",
       "    </tr>\n",
       "  </tbody>\n",
       "</table>\n",
       "</div>"
      ],
      "text/plain": [
       "        date\n",
       "0 2007-01-04\n",
       "1 2007-01-05\n",
       "2 2007-01-09\n",
       "3 2007-01-10\n",
       "4 2007-01-11"
      ]
     },
     "execution_count": 10,
     "metadata": {},
     "output_type": "execute_result"
    }
   ],
   "source": [
    "X_train.head()"
   ]
  },
  {
   "cell_type": "code",
   "execution_count": 11,
   "metadata": {
    "scrolled": true
   },
   "outputs": [
    {
     "name": "stderr",
     "output_type": "stream",
     "text": [
      "/Users/shotaroishihara/.pyenv/versions/anaconda3-5.0.0/lib/python3.6/site-packages/ipykernel_launcher.py:1: SettingWithCopyWarning: \n",
      "A value is trying to be set on a copy of a slice from a DataFrame.\n",
      "Try using .loc[row_indexer,col_indexer] = value instead\n",
      "\n",
      "See the caveats in the documentation: http://pandas.pydata.org/pandas-docs/stable/indexing.html#indexing-view-versus-copy\n",
      "  \"\"\"Entry point for launching an IPython kernel.\n",
      "/Users/shotaroishihara/.pyenv/versions/anaconda3-5.0.0/lib/python3.6/site-packages/ipykernel_launcher.py:2: SettingWithCopyWarning: \n",
      "A value is trying to be set on a copy of a slice from a DataFrame.\n",
      "Try using .loc[row_indexer,col_indexer] = value instead\n",
      "\n",
      "See the caveats in the documentation: http://pandas.pydata.org/pandas-docs/stable/indexing.html#indexing-view-versus-copy\n",
      "  \n",
      "/Users/shotaroishihara/.pyenv/versions/anaconda3-5.0.0/lib/python3.6/site-packages/ipykernel_launcher.py:3: SettingWithCopyWarning: \n",
      "A value is trying to be set on a copy of a slice from a DataFrame.\n",
      "Try using .loc[row_indexer,col_indexer] = value instead\n",
      "\n",
      "See the caveats in the documentation: http://pandas.pydata.org/pandas-docs/stable/indexing.html#indexing-view-versus-copy\n",
      "  This is separate from the ipykernel package so we can avoid doing imports until\n",
      "/Users/shotaroishihara/.pyenv/versions/anaconda3-5.0.0/lib/python3.6/site-packages/ipykernel_launcher.py:4: SettingWithCopyWarning: \n",
      "A value is trying to be set on a copy of a slice from a DataFrame.\n",
      "Try using .loc[row_indexer,col_indexer] = value instead\n",
      "\n",
      "See the caveats in the documentation: http://pandas.pydata.org/pandas-docs/stable/indexing.html#indexing-view-versus-copy\n",
      "  after removing the cwd from sys.path.\n",
      "/Users/shotaroishihara/.pyenv/versions/anaconda3-5.0.0/lib/python3.6/site-packages/pandas/core/frame.py:3697: SettingWithCopyWarning: \n",
      "A value is trying to be set on a copy of a slice from a DataFrame\n",
      "\n",
      "See the caveats in the documentation: http://pandas.pydata.org/pandas-docs/stable/indexing.html#indexing-view-versus-copy\n",
      "  errors=errors)\n"
     ]
    }
   ],
   "source": [
    "X_train['year'] = X_train['date'].dt.year\n",
    "X_train['month'] = X_train['date'].dt.month\n",
    "X_train['day'] = X_train['date'].dt.day\n",
    "X_train['dow'] = X_train['date'].dt.dayofweek\n",
    "X_train.drop(['date'], axis=1, inplace=True)\n",
    "\n",
    "X_test['year'] = X_test['date'].dt.year\n",
    "X_test['month'] = X_test['date'].dt.month\n",
    "X_test['day'] = X_test['date'].dt.day\n",
    "X_test['dow'] = X_test['date'].dt.dayofweek\n",
    "X_test.drop(['date'], axis=1, inplace=True)"
   ]
  },
  {
   "cell_type": "code",
   "execution_count": 12,
   "metadata": {
    "collapsed": true
   },
   "outputs": [],
   "source": [
    "X_valid = X_train[2580:].reset_index(drop=True)\n",
    "y_valid = y_train[2580:].reset_index(drop=True)\n",
    "X_train2 = X_train[:2580]\n",
    "y_train2 = y_train[:2580]"
   ]
  },
  {
   "cell_type": "code",
   "execution_count": 13,
   "metadata": {
    "scrolled": false
   },
   "outputs": [
    {
     "data": {
      "text/html": [
       "<div>\n",
       "<style scoped>\n",
       "    .dataframe tbody tr th:only-of-type {\n",
       "        vertical-align: middle;\n",
       "    }\n",
       "\n",
       "    .dataframe tbody tr th {\n",
       "        vertical-align: top;\n",
       "    }\n",
       "\n",
       "    .dataframe thead th {\n",
       "        text-align: right;\n",
       "    }\n",
       "</style>\n",
       "<table border=\"1\" class=\"dataframe\">\n",
       "  <thead>\n",
       "    <tr style=\"text-align: right;\">\n",
       "      <th></th>\n",
       "      <th>year</th>\n",
       "      <th>month</th>\n",
       "      <th>day</th>\n",
       "      <th>dow</th>\n",
       "    </tr>\n",
       "  </thead>\n",
       "  <tbody>\n",
       "    <tr>\n",
       "      <th>0</th>\n",
       "      <td>2007</td>\n",
       "      <td>1</td>\n",
       "      <td>4</td>\n",
       "      <td>3</td>\n",
       "    </tr>\n",
       "    <tr>\n",
       "      <th>1</th>\n",
       "      <td>2007</td>\n",
       "      <td>1</td>\n",
       "      <td>5</td>\n",
       "      <td>4</td>\n",
       "    </tr>\n",
       "    <tr>\n",
       "      <th>2</th>\n",
       "      <td>2007</td>\n",
       "      <td>1</td>\n",
       "      <td>9</td>\n",
       "      <td>1</td>\n",
       "    </tr>\n",
       "    <tr>\n",
       "      <th>3</th>\n",
       "      <td>2007</td>\n",
       "      <td>1</td>\n",
       "      <td>10</td>\n",
       "      <td>2</td>\n",
       "    </tr>\n",
       "    <tr>\n",
       "      <th>4</th>\n",
       "      <td>2007</td>\n",
       "      <td>1</td>\n",
       "      <td>11</td>\n",
       "      <td>3</td>\n",
       "    </tr>\n",
       "  </tbody>\n",
       "</table>\n",
       "</div>"
      ],
      "text/plain": [
       "   year  month  day  dow\n",
       "0  2007      1    4    3\n",
       "1  2007      1    5    4\n",
       "2  2007      1    9    1\n",
       "3  2007      1   10    2\n",
       "4  2007      1   11    3"
      ]
     },
     "execution_count": 13,
     "metadata": {},
     "output_type": "execute_result"
    }
   ],
   "source": [
    "X_train.head()"
   ]
  },
  {
   "cell_type": "code",
   "execution_count": 14,
   "metadata": {},
   "outputs": [
    {
     "data": {
      "text/plain": [
       "0     20099.81\n",
       "1     20118.86\n",
       "2     19999.91\n",
       "3     20020.86\n",
       "4     20144.59\n",
       "5     20099.75\n",
       "6     19975.67\n",
       "7     19955.20\n",
       "8     20050.16\n",
       "9     20079.64\n",
       "10    19959.84\n",
       "11    19925.18\n",
       "12    19985.79\n",
       "13    20080.04\n",
       "14    20029.26\n",
       "15    19952.33\n",
       "16    20055.89\n",
       "17    19996.01\n",
       "18    19738.71\n",
       "19    19729.74\n",
       "Name: ending, dtype: float64"
      ]
     },
     "execution_count": 14,
     "metadata": {},
     "output_type": "execute_result"
    }
   ],
   "source": [
    "y_valid"
   ]
  },
  {
   "cell_type": "code",
   "execution_count": 15,
   "metadata": {},
   "outputs": [
    {
     "data": {
      "text/html": [
       "<div>\n",
       "<style scoped>\n",
       "    .dataframe tbody tr th:only-of-type {\n",
       "        vertical-align: middle;\n",
       "    }\n",
       "\n",
       "    .dataframe tbody tr th {\n",
       "        vertical-align: top;\n",
       "    }\n",
       "\n",
       "    .dataframe thead th {\n",
       "        text-align: right;\n",
       "    }\n",
       "</style>\n",
       "<table border=\"1\" class=\"dataframe\">\n",
       "  <thead>\n",
       "    <tr style=\"text-align: right;\">\n",
       "      <th></th>\n",
       "      <th>year</th>\n",
       "      <th>month</th>\n",
       "      <th>day</th>\n",
       "      <th>dow</th>\n",
       "    </tr>\n",
       "  </thead>\n",
       "  <tbody>\n",
       "    <tr>\n",
       "      <th>0</th>\n",
       "      <td>2017</td>\n",
       "      <td>7</td>\n",
       "      <td>13</td>\n",
       "      <td>3</td>\n",
       "    </tr>\n",
       "    <tr>\n",
       "      <th>1</th>\n",
       "      <td>2017</td>\n",
       "      <td>7</td>\n",
       "      <td>14</td>\n",
       "      <td>4</td>\n",
       "    </tr>\n",
       "    <tr>\n",
       "      <th>2</th>\n",
       "      <td>2017</td>\n",
       "      <td>7</td>\n",
       "      <td>18</td>\n",
       "      <td>1</td>\n",
       "    </tr>\n",
       "    <tr>\n",
       "      <th>3</th>\n",
       "      <td>2017</td>\n",
       "      <td>7</td>\n",
       "      <td>19</td>\n",
       "      <td>2</td>\n",
       "    </tr>\n",
       "    <tr>\n",
       "      <th>4</th>\n",
       "      <td>2017</td>\n",
       "      <td>7</td>\n",
       "      <td>20</td>\n",
       "      <td>3</td>\n",
       "    </tr>\n",
       "  </tbody>\n",
       "</table>\n",
       "</div>"
      ],
      "text/plain": [
       "   year  month  day  dow\n",
       "0  2017      7   13    3\n",
       "1  2017      7   14    4\n",
       "2  2017      7   18    1\n",
       "3  2017      7   19    2\n",
       "4  2017      7   20    3"
      ]
     },
     "execution_count": 15,
     "metadata": {},
     "output_type": "execute_result"
    }
   ],
   "source": [
    "X_valid.head()"
   ]
  },
  {
   "cell_type": "code",
   "execution_count": 20,
   "metadata": {
    "collapsed": true
   },
   "outputs": [],
   "source": [
    "import lightgbm as lgb\n",
    "\n",
    "lgbm_params = {\n",
    "    'learning_rate': 0.1,\n",
    "    'num_leaves': 8,\n",
    "    'boosting_type' : 'gbdt',\n",
    "    'objective': 'regression',\n",
    "    'metric': 'rmse',\n",
    "}\n",
    "\n",
    "def lgbm_train(X_train_df, X_valid_df, y_train_df, y_valid_df, lgbm_params):\n",
    "    lgb_train = lgb.Dataset(X_train_df, y_train_df)\n",
    "    lgb_eval = lgb.Dataset(X_valid_df, y_valid_df, reference=lgb_train)\n",
    "\n",
    "    # 上記のパラメータでモデルを学習する\n",
    "    model = lgb.train(lgbm_params, lgb_train,\n",
    "                      # モデルの評価用データを渡す\n",
    "                      valid_sets=lgb_eval,\n",
    "                      # 最大で 1000 ラウンドまで学習する\n",
    "                      num_boost_round=1000,\n",
    "                      # 10 ラウンド経過しても性能が向上しないときは学習を打ち切る\n",
    "                      early_stopping_rounds=10)\n",
    "    \n",
    "    return model"
   ]
  },
  {
   "cell_type": "code",
   "execution_count": 21,
   "metadata": {},
   "outputs": [
    {
     "name": "stdout",
     "output_type": "stream",
     "text": [
      "[1]\tvalid_0's rmse: 5989.74\n",
      "Training until validation scores don't improve for 10 rounds.\n",
      "[2]\tvalid_0's rmse: 5611.61\n",
      "[3]\tvalid_0's rmse: 5221.34\n",
      "[4]\tvalid_0's rmse: 4920.06\n",
      "[5]\tvalid_0's rmse: 4485.76\n",
      "[6]\tvalid_0's rmse: 4201.29\n",
      "[7]\tvalid_0's rmse: 3992.28\n",
      "[8]\tvalid_0's rmse: 3650.81\n",
      "[9]\tvalid_0's rmse: 3343.51\n",
      "[10]\tvalid_0's rmse: 3154.37\n",
      "[11]\tvalid_0's rmse: 2896.76\n",
      "[12]\tvalid_0's rmse: 2664.93\n",
      "[13]\tvalid_0's rmse: 2456.32\n",
      "[14]\tvalid_0's rmse: 2330.48\n",
      "[15]\tvalid_0's rmse: 2155.36\n",
      "[16]\tvalid_0's rmse: 1997.78\n",
      "[17]\tvalid_0's rmse: 1911.75\n",
      "[18]\tvalid_0's rmse: 1778.58\n",
      "[19]\tvalid_0's rmse: 1658.76\n",
      "[20]\tvalid_0's rmse: 1550.95\n",
      "[21]\tvalid_0's rmse: 1453.95\n",
      "[22]\tvalid_0's rmse: 1403.61\n",
      "[23]\tvalid_0's rmse: 1321.39\n",
      "[24]\tvalid_0's rmse: 1293.01\n",
      "[25]\tvalid_0's rmse: 1272.56\n",
      "[26]\tvalid_0's rmse: 1235.31\n",
      "[27]\tvalid_0's rmse: 1169.99\n",
      "[28]\tvalid_0's rmse: 1061.95\n",
      "[29]\tvalid_0's rmse: 1049.92\n",
      "[30]\tvalid_0's rmse: 1024.64\n",
      "[31]\tvalid_0's rmse: 973.988\n",
      "[32]\tvalid_0's rmse: 928.425\n",
      "[33]\tvalid_0's rmse: 844.787\n",
      "[34]\tvalid_0's rmse: 827.317\n",
      "[35]\tvalid_0's rmse: 805.209\n",
      "[36]\tvalid_0's rmse: 768.905\n",
      "[37]\tvalid_0's rmse: 688.72\n",
      "[38]\tvalid_0's rmse: 691.443\n",
      "[39]\tvalid_0's rmse: 660.448\n",
      "[40]\tvalid_0's rmse: 600.882\n",
      "[41]\tvalid_0's rmse: 574.843\n",
      "[42]\tvalid_0's rmse: 572.71\n",
      "[43]\tvalid_0's rmse: 549.527\n",
      "[44]\tvalid_0's rmse: 548.047\n",
      "[45]\tvalid_0's rmse: 500.059\n",
      "[46]\tvalid_0's rmse: 481.522\n",
      "[47]\tvalid_0's rmse: 480.58\n",
      "[48]\tvalid_0's rmse: 439.612\n",
      "[49]\tvalid_0's rmse: 437.825\n",
      "[50]\tvalid_0's rmse: 401.346\n",
      "[51]\tvalid_0's rmse: 388.252\n",
      "[52]\tvalid_0's rmse: 384.745\n",
      "[53]\tvalid_0's rmse: 382.957\n",
      "[54]\tvalid_0's rmse: 387.986\n",
      "[55]\tvalid_0's rmse: 386.325\n",
      "[56]\tvalid_0's rmse: 346.114\n",
      "[57]\tvalid_0's rmse: 342.733\n",
      "[58]\tvalid_0's rmse: 345.324\n",
      "[59]\tvalid_0's rmse: 347.048\n",
      "[60]\tvalid_0's rmse: 319.041\n",
      "[61]\tvalid_0's rmse: 317.711\n",
      "[62]\tvalid_0's rmse: 322.444\n",
      "[63]\tvalid_0's rmse: 314.66\n",
      "[64]\tvalid_0's rmse: 282.585\n",
      "[65]\tvalid_0's rmse: 279.348\n",
      "[66]\tvalid_0's rmse: 281.858\n",
      "[67]\tvalid_0's rmse: 280.528\n",
      "[68]\tvalid_0's rmse: 279.332\n",
      "[69]\tvalid_0's rmse: 251.286\n",
      "[70]\tvalid_0's rmse: 249.419\n",
      "[71]\tvalid_0's rmse: 248.331\n",
      "[72]\tvalid_0's rmse: 247.376\n",
      "[73]\tvalid_0's rmse: 228.273\n",
      "[74]\tvalid_0's rmse: 231.74\n",
      "[75]\tvalid_0's rmse: 230.386\n",
      "[76]\tvalid_0's rmse: 230.824\n",
      "[77]\tvalid_0's rmse: 231.877\n",
      "[78]\tvalid_0's rmse: 209.352\n",
      "[79]\tvalid_0's rmse: 208.493\n",
      "[80]\tvalid_0's rmse: 211.124\n",
      "[81]\tvalid_0's rmse: 210.185\n",
      "[82]\tvalid_0's rmse: 194.56\n",
      "[83]\tvalid_0's rmse: 193.391\n",
      "[84]\tvalid_0's rmse: 193.741\n",
      "[85]\tvalid_0's rmse: 176.213\n",
      "[86]\tvalid_0's rmse: 175.476\n",
      "[87]\tvalid_0's rmse: 173.806\n",
      "[88]\tvalid_0's rmse: 174.576\n",
      "[89]\tvalid_0's rmse: 181.152\n",
      "[90]\tvalid_0's rmse: 181.46\n",
      "[91]\tvalid_0's rmse: 165.601\n",
      "[92]\tvalid_0's rmse: 164.959\n",
      "[93]\tvalid_0's rmse: 164.594\n",
      "[94]\tvalid_0's rmse: 164.046\n",
      "[95]\tvalid_0's rmse: 163.67\n",
      "[96]\tvalid_0's rmse: 163.166\n",
      "[97]\tvalid_0's rmse: 160.503\n",
      "[98]\tvalid_0's rmse: 147.822\n",
      "[99]\tvalid_0's rmse: 147.713\n",
      "[100]\tvalid_0's rmse: 147.44\n",
      "[101]\tvalid_0's rmse: 145.666\n",
      "[102]\tvalid_0's rmse: 145.874\n",
      "[103]\tvalid_0's rmse: 146.413\n",
      "[104]\tvalid_0's rmse: 146.645\n",
      "[105]\tvalid_0's rmse: 138.447\n",
      "[106]\tvalid_0's rmse: 138.164\n",
      "[107]\tvalid_0's rmse: 135.145\n",
      "[108]\tvalid_0's rmse: 135.743\n",
      "[109]\tvalid_0's rmse: 133.03\n",
      "[110]\tvalid_0's rmse: 133.443\n",
      "[111]\tvalid_0's rmse: 134.808\n",
      "[112]\tvalid_0's rmse: 135.213\n",
      "[113]\tvalid_0's rmse: 135.13\n",
      "[114]\tvalid_0's rmse: 138.568\n",
      "[115]\tvalid_0's rmse: 139.166\n",
      "[116]\tvalid_0's rmse: 142.301\n",
      "[117]\tvalid_0's rmse: 142.694\n",
      "[118]\tvalid_0's rmse: 142.615\n",
      "[119]\tvalid_0's rmse: 142.791\n",
      "Early stopping, best iteration is:\n",
      "[109]\tvalid_0's rmse: 133.03\n"
     ]
    }
   ],
   "source": [
    "model = lgbm_train(X_train2, X_valid, y_train2, y_valid, lgbm_params)"
   ]
  },
  {
   "cell_type": "code",
   "execution_count": 30,
   "metadata": {},
   "outputs": [
    {
     "data": {
      "text/plain": [
       "19.918868959771334"
      ]
     },
     "execution_count": 30,
     "metadata": {},
     "output_type": "execute_result"
    }
   ],
   "source": [
    "from sklearn.metrics import mean_absolute_error\n",
    "import numpy as np\n",
    "y_pred = model.predict(X_test, num_iteration=model.best_iteration)\n",
    "np.sqrt(mean_absolute_error(y_test, y_pred))"
   ]
  },
  {
   "cell_type": "code",
   "execution_count": 27,
   "metadata": {},
   "outputs": [
    {
     "data": {
      "text/plain": [
       "[<matplotlib.lines.Line2D at 0x1a21bb7278>]"
      ]
     },
     "execution_count": 27,
     "metadata": {},
     "output_type": "execute_result"
    },
    {
     "data": {
      "image/png": "[encoded data removed]",
      "text/plain": [
       "<matplotlib.figure.Figure at 0x1a21b93080>"
      ]
     },
     "metadata": {},
     "output_type": "display_data"
    }
   ],
   "source": [
    "plt.plot(y_test)\n",
    "plt.plot(y_pred)"
   ]
  },
  {
   "cell_type": "code",
   "execution_count": null,
   "metadata": {
    "collapsed": true
   },
   "outputs": [],
   "source": []
  }
 ],
 "metadata": {
  "kernelspec": {
   "display_name": "Python 3",
   "language": "python",
   "name": "python3"
  },
  "language_info": {
   "codemirror_mode": {
    "name": "ipython",
    "version": 3
   },
   "file_extension": ".py",
   "mimetype": "text/x-python",
   "name": "python",
   "nbconvert_exporter": "python",
   "pygments_lexer": "ipython3",
   "version": "3.6.8"
  }
 },
 "nbformat": 4,
 "nbformat_minor": 2
}
