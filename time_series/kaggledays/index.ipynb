{
 "cells": [
  {
   "cell_type": "code",
   "execution_count": 1,
   "metadata": {},
   "outputs": [
    {
     "data": {
      "text/html": [
       "<style>.container { width:100% !important; }</style>"
      ],
      "text/plain": [
       "<IPython.core.display.HTML object>"
      ]
     },
     "metadata": {},
     "output_type": "display_data"
    }
   ],
   "source": [
    "from IPython.core.display import display, HTML \n",
    "display(HTML(\"<style>.container { width:100% !important; }</style>\"))\n",
    "import pandas as pd\n",
    "import matplotlib.pyplot as plt\n",
    "from fastprogress import master_bar, progress_bar\n",
    "%matplotlib inline"
   ]
  },
  {
   "cell_type": "code",
   "execution_count": 2,
   "metadata": {},
   "outputs": [
    {
     "name": "stdout",
     "output_type": "stream",
     "text": [
      "createCsv.py      \u001b[34mfeatures\u001b[m\u001b[m/         index.ipynb       nikkei_index.csv\r\n"
     ]
    }
   ],
   "source": [
    "ls"
   ]
  },
  {
   "cell_type": "code",
   "execution_count": 3,
   "metadata": {
    "collapsed": true
   },
   "outputs": [],
   "source": [
    "df = pd.read_csv('nikkei_index.csv')"
   ]
  },
  {
   "cell_type": "code",
   "execution_count": 4,
   "metadata": {},
   "outputs": [
    {
     "data": {
      "text/html": [
       "<div>\n",
       "<style scoped>\n",
       "    .dataframe tbody tr th:only-of-type {\n",
       "        vertical-align: middle;\n",
       "    }\n",
       "\n",
       "    .dataframe tbody tr th {\n",
       "        vertical-align: top;\n",
       "    }\n",
       "\n",
       "    .dataframe thead th {\n",
       "        text-align: right;\n",
       "    }\n",
       "</style>\n",
       "<table border=\"1\" class=\"dataframe\">\n",
       "  <thead>\n",
       "    <tr style=\"text-align: right;\">\n",
       "      <th></th>\n",
       "      <th>date</th>\n",
       "      <th>opening</th>\n",
       "      <th>high</th>\n",
       "      <th>low</th>\n",
       "      <th>ending</th>\n",
       "    </tr>\n",
       "  </thead>\n",
       "  <tbody>\n",
       "    <tr>\n",
       "      <th>0</th>\n",
       "      <td>2007-01-04 00:00:00</td>\n",
       "      <td>17322.50</td>\n",
       "      <td>17379.46</td>\n",
       "      <td>17315.75</td>\n",
       "      <td>17353.66</td>\n",
       "    </tr>\n",
       "    <tr>\n",
       "      <th>1</th>\n",
       "      <td>2007-01-05 00:00:00</td>\n",
       "      <td>17315.53</td>\n",
       "      <td>17327.13</td>\n",
       "      <td>17011.09</td>\n",
       "      <td>17091.58</td>\n",
       "    </tr>\n",
       "    <tr>\n",
       "      <th>2</th>\n",
       "      <td>2007-01-09 00:00:00</td>\n",
       "      <td>17018.89</td>\n",
       "      <td>17261.02</td>\n",
       "      <td>16983.97</td>\n",
       "      <td>17237.76</td>\n",
       "    </tr>\n",
       "    <tr>\n",
       "      <th>3</th>\n",
       "      <td>2007-01-10 00:00:00</td>\n",
       "      <td>17192.41</td>\n",
       "      <td>17199.41</td>\n",
       "      <td>16847.57</td>\n",
       "      <td>16942.40</td>\n",
       "    </tr>\n",
       "    <tr>\n",
       "      <th>4</th>\n",
       "      <td>2007-01-11 00:00:00</td>\n",
       "      <td>16958.57</td>\n",
       "      <td>17057.44</td>\n",
       "      <td>16758.46</td>\n",
       "      <td>16838.16</td>\n",
       "    </tr>\n",
       "  </tbody>\n",
       "</table>\n",
       "</div>"
      ],
      "text/plain": [
       "                  date   opening      high       low    ending\n",
       "0  2007-01-04 00:00:00  17322.50  17379.46  17315.75  17353.66\n",
       "1  2007-01-05 00:00:00  17315.53  17327.13  17011.09  17091.58\n",
       "2  2007-01-09 00:00:00  17018.89  17261.02  16983.97  17237.76\n",
       "3  2007-01-10 00:00:00  17192.41  17199.41  16847.57  16942.40\n",
       "4  2007-01-11 00:00:00  16958.57  17057.44  16758.46  16838.16"
      ]
     },
     "execution_count": 4,
     "metadata": {},
     "output_type": "execute_result"
    }
   ],
   "source": [
    "df.head()"
   ]
  },
  {
   "cell_type": "code",
   "execution_count": 5,
   "metadata": {},
   "outputs": [
    {
     "data": {
      "text/plain": [
       "2620"
      ]
     },
     "execution_count": 5,
     "metadata": {},
     "output_type": "execute_result"
    }
   ],
   "source": [
    "len(df)"
   ]
  },
  {
   "cell_type": "code",
   "execution_count": 6,
   "metadata": {},
   "outputs": [
    {
     "data": {
      "text/plain": [
       "<matplotlib.axes._subplots.AxesSubplot at 0x1084e5898>"
      ]
     },
     "execution_count": 6,
     "metadata": {},
     "output_type": "execute_result"
    },
    {
     "data": {
      "image/png": "[encoded data removed]",
      "text/plain": [
       "<matplotlib.figure.Figure at 0x101fb7fd0>"
      ]
     },
     "metadata": {},
     "output_type": "display_data"
    }
   ],
   "source": [
    "df.plot()"
   ]
  },
  {
   "cell_type": "code",
   "execution_count": 7,
   "metadata": {},
   "outputs": [],
   "source": [
    "df['date'] = pd.to_datetime(df['date'])\n",
    "\n",
    "from datetime import date, timedelta\n",
    "\n",
    "base = df['date'][0]\n",
    "date_time = []\n",
    "\n",
    "for i in range(len(df)):\n",
    "    date_time.append(base + timedelta(days = i))\n",
    "    \n",
    "df['date'] = date_time"
   ]
  },
  {
   "cell_type": "code",
   "execution_count": 8,
   "metadata": {},
   "outputs": [
    {
     "data": {
      "text/html": [
       "<div>\n",
       "<style scoped>\n",
       "    .dataframe tbody tr th:only-of-type {\n",
       "        vertical-align: middle;\n",
       "    }\n",
       "\n",
       "    .dataframe tbody tr th {\n",
       "        vertical-align: top;\n",
       "    }\n",
       "\n",
       "    .dataframe thead th {\n",
       "        text-align: right;\n",
       "    }\n",
       "</style>\n",
       "<table border=\"1\" class=\"dataframe\">\n",
       "  <thead>\n",
       "    <tr style=\"text-align: right;\">\n",
       "      <th></th>\n",
       "      <th>date</th>\n",
       "      <th>opening</th>\n",
       "      <th>high</th>\n",
       "      <th>low</th>\n",
       "      <th>ending</th>\n",
       "    </tr>\n",
       "  </thead>\n",
       "  <tbody>\n",
       "    <tr>\n",
       "      <th>0</th>\n",
       "      <td>2007-01-04</td>\n",
       "      <td>17322.50</td>\n",
       "      <td>17379.46</td>\n",
       "      <td>17315.75</td>\n",
       "      <td>17353.66</td>\n",
       "    </tr>\n",
       "    <tr>\n",
       "      <th>1</th>\n",
       "      <td>2007-01-05</td>\n",
       "      <td>17315.53</td>\n",
       "      <td>17327.13</td>\n",
       "      <td>17011.09</td>\n",
       "      <td>17091.58</td>\n",
       "    </tr>\n",
       "    <tr>\n",
       "      <th>2</th>\n",
       "      <td>2007-01-06</td>\n",
       "      <td>17018.89</td>\n",
       "      <td>17261.02</td>\n",
       "      <td>16983.97</td>\n",
       "      <td>17237.76</td>\n",
       "    </tr>\n",
       "    <tr>\n",
       "      <th>3</th>\n",
       "      <td>2007-01-07</td>\n",
       "      <td>17192.41</td>\n",
       "      <td>17199.41</td>\n",
       "      <td>16847.57</td>\n",
       "      <td>16942.40</td>\n",
       "    </tr>\n",
       "    <tr>\n",
       "      <th>4</th>\n",
       "      <td>2007-01-08</td>\n",
       "      <td>16958.57</td>\n",
       "      <td>17057.44</td>\n",
       "      <td>16758.46</td>\n",
       "      <td>16838.16</td>\n",
       "    </tr>\n",
       "  </tbody>\n",
       "</table>\n",
       "</div>"
      ],
      "text/plain": [
       "        date   opening      high       low    ending\n",
       "0 2007-01-04  17322.50  17379.46  17315.75  17353.66\n",
       "1 2007-01-05  17315.53  17327.13  17011.09  17091.58\n",
       "2 2007-01-06  17018.89  17261.02  16983.97  17237.76\n",
       "3 2007-01-07  17192.41  17199.41  16847.57  16942.40\n",
       "4 2007-01-08  16958.57  17057.44  16758.46  16838.16"
      ]
     },
     "execution_count": 8,
     "metadata": {},
     "output_type": "execute_result"
    }
   ],
   "source": [
    "df.head()"
   ]
  },
  {
   "cell_type": "code",
   "execution_count": 9,
   "metadata": {
    "collapsed": true
   },
   "outputs": [],
   "source": [
    "X = df[['date', 'ending']]\n",
    "y = df['ending']\n",
    "\n",
    "X_train = X[:2600]\n",
    "y_train = y[:2600]\n",
    "X_test = X[2600:].reset_index(drop=True)\n",
    "y_test = y[2600:].reset_index(drop=True)"
   ]
  },
  {
   "cell_type": "code",
   "execution_count": 10,
   "metadata": {
    "scrolled": true
   },
   "outputs": [
    {
     "name": "stderr",
     "output_type": "stream",
     "text": [
      "/Users/shotaroishihara/.pyenv/versions/anaconda3-5.0.0/lib/python3.6/site-packages/ipykernel_launcher.py:1: SettingWithCopyWarning: \n",
      "A value is trying to be set on a copy of a slice from a DataFrame.\n",
      "Try using .loc[row_indexer,col_indexer] = value instead\n",
      "\n",
      "See the caveats in the documentation: http://pandas.pydata.org/pandas-docs/stable/indexing.html#indexing-view-versus-copy\n",
      "  \"\"\"Entry point for launching an IPython kernel.\n",
      "/Users/shotaroishihara/.pyenv/versions/anaconda3-5.0.0/lib/python3.6/site-packages/ipykernel_launcher.py:2: SettingWithCopyWarning: \n",
      "A value is trying to be set on a copy of a slice from a DataFrame.\n",
      "Try using .loc[row_indexer,col_indexer] = value instead\n",
      "\n",
      "See the caveats in the documentation: http://pandas.pydata.org/pandas-docs/stable/indexing.html#indexing-view-versus-copy\n",
      "  \n",
      "/Users/shotaroishihara/.pyenv/versions/anaconda3-5.0.0/lib/python3.6/site-packages/ipykernel_launcher.py:3: SettingWithCopyWarning: \n",
      "A value is trying to be set on a copy of a slice from a DataFrame.\n",
      "Try using .loc[row_indexer,col_indexer] = value instead\n",
      "\n",
      "See the caveats in the documentation: http://pandas.pydata.org/pandas-docs/stable/indexing.html#indexing-view-versus-copy\n",
      "  This is separate from the ipykernel package so we can avoid doing imports until\n",
      "/Users/shotaroishihara/.pyenv/versions/anaconda3-5.0.0/lib/python3.6/site-packages/pandas/core/frame.py:3697: SettingWithCopyWarning: \n",
      "A value is trying to be set on a copy of a slice from a DataFrame\n",
      "\n",
      "See the caveats in the documentation: http://pandas.pydata.org/pandas-docs/stable/indexing.html#indexing-view-versus-copy\n",
      "  errors=errors)\n"
     ]
    }
   ],
   "source": [
    "X_train['year'] = X_train['date'].dt.year\n",
    "X_train['month'] = X_train['date'].dt.month\n",
    "X_train['day'] = X_train['date'].dt.day\n",
    "X_train.drop(['date', 'ending'], axis=1, inplace=True)\n",
    "\n",
    "X_test['year'] = X_test['date'].dt.year\n",
    "X_test['month'] = X_test['date'].dt.month\n",
    "X_test['day'] = X_test['date'].dt.day\n",
    "X_test.drop(['date', 'ending'], axis=1, inplace=True)"
   ]
  },
  {
   "cell_type": "code",
   "execution_count": 11,
   "metadata": {
    "collapsed": true
   },
   "outputs": [],
   "source": [
    "X_valid = X_train[2580:].reset_index(drop=True)\n",
    "y_valid = y_train[2580:].reset_index(drop=True)\n",
    "X_train2 = X_train[:2580]\n",
    "y_train2 = y_train[:2580]"
   ]
  },
  {
   "cell_type": "code",
   "execution_count": 12,
   "metadata": {
    "scrolled": false
   },
   "outputs": [
    {
     "data": {
      "text/html": [
       "<div>\n",
       "<style scoped>\n",
       "    .dataframe tbody tr th:only-of-type {\n",
       "        vertical-align: middle;\n",
       "    }\n",
       "\n",
       "    .dataframe tbody tr th {\n",
       "        vertical-align: top;\n",
       "    }\n",
       "\n",
       "    .dataframe thead th {\n",
       "        text-align: right;\n",
       "    }\n",
       "</style>\n",
       "<table border=\"1\" class=\"dataframe\">\n",
       "  <thead>\n",
       "    <tr style=\"text-align: right;\">\n",
       "      <th></th>\n",
       "      <th>year</th>\n",
       "      <th>month</th>\n",
       "      <th>day</th>\n",
       "    </tr>\n",
       "  </thead>\n",
       "  <tbody>\n",
       "    <tr>\n",
       "      <th>0</th>\n",
       "      <td>2007</td>\n",
       "      <td>1</td>\n",
       "      <td>4</td>\n",
       "    </tr>\n",
       "    <tr>\n",
       "      <th>1</th>\n",
       "      <td>2007</td>\n",
       "      <td>1</td>\n",
       "      <td>5</td>\n",
       "    </tr>\n",
       "    <tr>\n",
       "      <th>2</th>\n",
       "      <td>2007</td>\n",
       "      <td>1</td>\n",
       "      <td>6</td>\n",
       "    </tr>\n",
       "    <tr>\n",
       "      <th>3</th>\n",
       "      <td>2007</td>\n",
       "      <td>1</td>\n",
       "      <td>7</td>\n",
       "    </tr>\n",
       "    <tr>\n",
       "      <th>4</th>\n",
       "      <td>2007</td>\n",
       "      <td>1</td>\n",
       "      <td>8</td>\n",
       "    </tr>\n",
       "  </tbody>\n",
       "</table>\n",
       "</div>"
      ],
      "text/plain": [
       "   year  month  day\n",
       "0  2007      1    4\n",
       "1  2007      1    5\n",
       "2  2007      1    6\n",
       "3  2007      1    7\n",
       "4  2007      1    8"
      ]
     },
     "execution_count": 12,
     "metadata": {},
     "output_type": "execute_result"
    }
   ],
   "source": [
    "X_train.head()"
   ]
  },
  {
   "cell_type": "code",
   "execution_count": 13,
   "metadata": {},
   "outputs": [
    {
     "data": {
      "text/plain": [
       "0     20099.81\n",
       "1     20118.86\n",
       "2     19999.91\n",
       "3     20020.86\n",
       "4     20144.59\n",
       "5     20099.75\n",
       "6     19975.67\n",
       "7     19955.20\n",
       "8     20050.16\n",
       "9     20079.64\n",
       "10    19959.84\n",
       "11    19925.18\n",
       "12    19985.79\n",
       "13    20080.04\n",
       "14    20029.26\n",
       "15    19952.33\n",
       "16    20055.89\n",
       "17    19996.01\n",
       "18    19738.71\n",
       "19    19729.74\n",
       "Name: ending, dtype: float64"
      ]
     },
     "execution_count": 13,
     "metadata": {},
     "output_type": "execute_result"
    }
   ],
   "source": [
    "y_valid"
   ]
  },
  {
   "cell_type": "code",
   "execution_count": 14,
   "metadata": {},
   "outputs": [
    {
     "data": {
      "text/html": [
       "<div>\n",
       "<style scoped>\n",
       "    .dataframe tbody tr th:only-of-type {\n",
       "        vertical-align: middle;\n",
       "    }\n",
       "\n",
       "    .dataframe tbody tr th {\n",
       "        vertical-align: top;\n",
       "    }\n",
       "\n",
       "    .dataframe thead th {\n",
       "        text-align: right;\n",
       "    }\n",
       "</style>\n",
       "<table border=\"1\" class=\"dataframe\">\n",
       "  <thead>\n",
       "    <tr style=\"text-align: right;\">\n",
       "      <th></th>\n",
       "      <th>year</th>\n",
       "      <th>month</th>\n",
       "      <th>day</th>\n",
       "    </tr>\n",
       "  </thead>\n",
       "  <tbody>\n",
       "    <tr>\n",
       "      <th>0</th>\n",
       "      <td>2014</td>\n",
       "      <td>1</td>\n",
       "      <td>27</td>\n",
       "    </tr>\n",
       "    <tr>\n",
       "      <th>1</th>\n",
       "      <td>2014</td>\n",
       "      <td>1</td>\n",
       "      <td>28</td>\n",
       "    </tr>\n",
       "    <tr>\n",
       "      <th>2</th>\n",
       "      <td>2014</td>\n",
       "      <td>1</td>\n",
       "      <td>29</td>\n",
       "    </tr>\n",
       "    <tr>\n",
       "      <th>3</th>\n",
       "      <td>2014</td>\n",
       "      <td>1</td>\n",
       "      <td>30</td>\n",
       "    </tr>\n",
       "    <tr>\n",
       "      <th>4</th>\n",
       "      <td>2014</td>\n",
       "      <td>1</td>\n",
       "      <td>31</td>\n",
       "    </tr>\n",
       "  </tbody>\n",
       "</table>\n",
       "</div>"
      ],
      "text/plain": [
       "   year  month  day\n",
       "0  2014      1   27\n",
       "1  2014      1   28\n",
       "2  2014      1   29\n",
       "3  2014      1   30\n",
       "4  2014      1   31"
      ]
     },
     "execution_count": 14,
     "metadata": {},
     "output_type": "execute_result"
    }
   ],
   "source": [
    "X_valid.head()"
   ]
  },
  {
   "cell_type": "code",
   "execution_count": 15,
   "metadata": {
    "collapsed": true
   },
   "outputs": [],
   "source": [
    "import lightgbm as lgb\n",
    "\n",
    "lgbm_params = {\n",
    "    'learning_rate': 0.1,\n",
    "    'num_leaves': 8,\n",
    "    'boosting_type' : 'gbdt',\n",
    "    'objective': 'regression',\n",
    "    'metric': 'rmse',\n",
    "}\n",
    "\n",
    "def lgbm_train(X_train_df, X_valid_df, y_train_df, y_valid_df, lgbm_params):\n",
    "    lgb_train = lgb.Dataset(X_train_df, y_train_df)\n",
    "    lgb_eval = lgb.Dataset(X_valid_df, y_valid_df, reference=lgb_train)\n",
    "\n",
    "    # 上記のパラメータでモデルを学習する\n",
    "    model = lgb.train(lgbm_params, lgb_train,\n",
    "                      # モデルの評価用データを渡す\n",
    "                      valid_sets=lgb_eval,\n",
    "                      # 最大で 1000 ラウンドまで学習する\n",
    "                      num_boost_round=1000,\n",
    "                      # 10 ラウンド経過しても性能が向上しないときは学習を打ち切る\n",
    "                      early_stopping_rounds=10)\n",
    "    \n",
    "    return model"
   ]
  },
  {
   "cell_type": "code",
   "execution_count": 16,
   "metadata": {},
   "outputs": [
    {
     "name": "stdout",
     "output_type": "stream",
     "text": [
      "[1]\tvalid_0's rmse: 6140.29\n",
      "Training until validation scores don't improve for 10 rounds.\n",
      "[2]\tvalid_0's rmse: 5842.13\n",
      "[3]\tvalid_0's rmse: 5253.17\n",
      "[4]\tvalid_0's rmse: 5013.22\n",
      "[5]\tvalid_0's rmse: 4507.19\n",
      "[6]\tvalid_0's rmse: 4314.16\n",
      "[7]\tvalid_0's rmse: 3878.08\n",
      "[8]\tvalid_0's rmse: 3715.19\n",
      "[9]\tvalid_0's rmse: 3568.6\n",
      "[10]\tvalid_0's rmse: 3207.13\n",
      "[11]\tvalid_0's rmse: 3089.39\n",
      "[12]\tvalid_0's rmse: 2951.52\n",
      "[13]\tvalid_0's rmse: 2651.83\n",
      "[14]\tvalid_0's rmse: 2540.18\n",
      "[15]\tvalid_0's rmse: 2281.69\n",
      "[16]\tvalid_0's rmse: 2191.29\n",
      "[17]\tvalid_0's rmse: 1967.76\n",
      "[18]\tvalid_0's rmse: 1915.2\n",
      "[19]\tvalid_0's rmse: 1849.32\n",
      "[20]\tvalid_0's rmse: 1821.13\n",
      "[21]\tvalid_0's rmse: 1767.78\n",
      "[22]\tvalid_0's rmse: 1586.74\n",
      "[23]\tvalid_0's rmse: 1570.23\n",
      "[24]\tvalid_0's rmse: 1409.03\n",
      "[25]\tvalid_0's rmse: 1264.05\n",
      "[26]\tvalid_0's rmse: 1232.61\n",
      "[27]\tvalid_0's rmse: 1105.4\n",
      "[28]\tvalid_0's rmse: 991.025\n",
      "[29]\tvalid_0's rmse: 961.598\n",
      "[30]\tvalid_0's rmse: 939.847\n",
      "[31]\tvalid_0's rmse: 918.607\n",
      "[32]\tvalid_0's rmse: 871.633\n",
      "[33]\tvalid_0's rmse: 873.707\n",
      "[34]\tvalid_0's rmse: 873.853\n",
      "[35]\tvalid_0's rmse: 883.713\n",
      "[36]\tvalid_0's rmse: 810.924\n",
      "[37]\tvalid_0's rmse: 802.227\n",
      "[38]\tvalid_0's rmse: 791.621\n",
      "[39]\tvalid_0's rmse: 784.427\n",
      "[40]\tvalid_0's rmse: 776.502\n",
      "[41]\tvalid_0's rmse: 772.924\n",
      "[42]\tvalid_0's rmse: 770.65\n",
      "[43]\tvalid_0's rmse: 767.842\n",
      "[44]\tvalid_0's rmse: 762.88\n",
      "[45]\tvalid_0's rmse: 761.872\n",
      "[46]\tvalid_0's rmse: 740.456\n",
      "[47]\tvalid_0's rmse: 745.744\n",
      "[48]\tvalid_0's rmse: 728.656\n",
      "[49]\tvalid_0's rmse: 725.264\n",
      "[50]\tvalid_0's rmse: 726.683\n",
      "[51]\tvalid_0's rmse: 728.521\n",
      "[52]\tvalid_0's rmse: 729.615\n",
      "[53]\tvalid_0's rmse: 733.234\n",
      "[54]\tvalid_0's rmse: 697.811\n",
      "[55]\tvalid_0's rmse: 699.258\n",
      "[56]\tvalid_0's rmse: 727.364\n",
      "[57]\tvalid_0's rmse: 725.021\n",
      "[58]\tvalid_0's rmse: 724.433\n",
      "[59]\tvalid_0's rmse: 726.361\n",
      "[60]\tvalid_0's rmse: 751.193\n",
      "[61]\tvalid_0's rmse: 749.01\n",
      "[62]\tvalid_0's rmse: 754.115\n",
      "[63]\tvalid_0's rmse: 757.139\n",
      "[64]\tvalid_0's rmse: 755.291\n",
      "Early stopping, best iteration is:\n",
      "[54]\tvalid_0's rmse: 697.811\n"
     ]
    }
   ],
   "source": [
    "model = lgbm_train(X_train2, X_valid, y_train2, y_valid, lgbm_params)"
   ]
  },
  {
   "cell_type": "code",
   "execution_count": 17,
   "metadata": {},
   "outputs": [
    {
     "data": {
      "text/plain": [
       "18.269915779046013"
      ]
     },
     "execution_count": 17,
     "metadata": {},
     "output_type": "execute_result"
    }
   ],
   "source": [
    "from sklearn.metrics import mean_absolute_error\n",
    "import numpy as np\n",
    "y_pred = model.predict(X_test, num_iteration=model.best_iteration)\n",
    "np.sqrt(mean_absolute_error(y_test, y_pred))"
   ]
  },
  {
   "cell_type": "code",
   "execution_count": 18,
   "metadata": {
    "scrolled": true
   },
   "outputs": [
    {
     "data": {
      "text/plain": [
       "[<matplotlib.lines.Line2D at 0x1085ad8d0>]"
      ]
     },
     "execution_count": 18,
     "metadata": {},
     "output_type": "execute_result"
    },
    {
     "data": {
      "image/png": "[encoded data removed]",
      "text/plain": [
       "<matplotlib.figure.Figure at 0x1085ad208>"
      ]
     },
     "metadata": {},
     "output_type": "display_data"
    }
   ],
   "source": [
    "plt.plot(y_test)\n",
    "plt.plot(y_pred)"
   ]
  },
  {
   "cell_type": "code",
   "execution_count": null,
   "metadata": {
    "collapsed": true
   },
   "outputs": [],
   "source": []
  },
  {
   "cell_type": "code",
   "execution_count": 19,
   "metadata": {
    "collapsed": true
   },
   "outputs": [],
   "source": [
    "X = df[['date', 'ending']]\n",
    "y = df['ending']\n",
    "\n",
    "X_train = X[:2600]\n",
    "y_train = y[:2600]\n",
    "X_test = X[2600:].reset_index(drop=True)\n",
    "y_test = y[2600:].reset_index(drop=True)"
   ]
  },
  {
   "cell_type": "code",
   "execution_count": 20,
   "metadata": {
    "collapsed": true
   },
   "outputs": [],
   "source": [
    "data = pd.concat([X_train, X_test]).reset_index(drop=True)"
   ]
  },
  {
   "cell_type": "code",
   "execution_count": 21,
   "metadata": {},
   "outputs": [
    {
     "data": {
      "text/html": [
       "<div>\n",
       "<style scoped>\n",
       "    .dataframe tbody tr th:only-of-type {\n",
       "        vertical-align: middle;\n",
       "    }\n",
       "\n",
       "    .dataframe tbody tr th {\n",
       "        vertical-align: top;\n",
       "    }\n",
       "\n",
       "    .dataframe thead th {\n",
       "        text-align: right;\n",
       "    }\n",
       "</style>\n",
       "<table border=\"1\" class=\"dataframe\">\n",
       "  <thead>\n",
       "    <tr style=\"text-align: right;\">\n",
       "      <th></th>\n",
       "      <th>date</th>\n",
       "      <th>ending</th>\n",
       "    </tr>\n",
       "  </thead>\n",
       "  <tbody>\n",
       "    <tr>\n",
       "      <th>0</th>\n",
       "      <td>2007-01-04</td>\n",
       "      <td>17353.66</td>\n",
       "    </tr>\n",
       "    <tr>\n",
       "      <th>1</th>\n",
       "      <td>2007-01-05</td>\n",
       "      <td>17091.58</td>\n",
       "    </tr>\n",
       "    <tr>\n",
       "      <th>2</th>\n",
       "      <td>2007-01-06</td>\n",
       "      <td>17237.76</td>\n",
       "    </tr>\n",
       "    <tr>\n",
       "      <th>3</th>\n",
       "      <td>2007-01-07</td>\n",
       "      <td>16942.40</td>\n",
       "    </tr>\n",
       "    <tr>\n",
       "      <th>4</th>\n",
       "      <td>2007-01-08</td>\n",
       "      <td>16838.16</td>\n",
       "    </tr>\n",
       "  </tbody>\n",
       "</table>\n",
       "</div>"
      ],
      "text/plain": [
       "        date    ending\n",
       "0 2007-01-04  17353.66\n",
       "1 2007-01-05  17091.58\n",
       "2 2007-01-06  17237.76\n",
       "3 2007-01-07  16942.40\n",
       "4 2007-01-08  16838.16"
      ]
     },
     "execution_count": 21,
     "metadata": {},
     "output_type": "execute_result"
    }
   ],
   "source": [
    "data.head()"
   ]
  },
  {
   "cell_type": "code",
   "execution_count": 44,
   "metadata": {},
   "outputs": [],
   "source": [
    "ntrain = 2600\n",
    "ntest = 20\n",
    "\n",
    "for d in range(ntest):\n",
    "    for lag in range(1, 3):\n",
    "        feat_name = 'day_lag'+ str(lag) + '_day' + str(d)\n",
    "        df = pd.DataFrame({\n",
    "            'date': data['date'] + pd.DateOffset(lag+d),\n",
    "            'ending_' + feat_name: data['ending']\n",
    "        })\n",
    "        df = pd.merge(data, df, on=['date'], how='left')\n",
    "        train = pd.DataFrame(df['ending_' + feat_name])[:ntrain]\n",
    "        test = pd.DataFrame(df['ending_' + feat_name])[ntrain:].reset_index(drop=True)\n",
    "        train.to_feather(f'features/{feat_name}_train.feather')\n",
    "        test.to_feather(f'features/{feat_name}_test.feather')"
   ]
  },
  {
   "cell_type": "code",
   "execution_count": 45,
   "metadata": {
    "collapsed": true
   },
   "outputs": [],
   "source": [
    "import feather\n",
    "\n",
    "\n",
    "def load_datasets(feats):\n",
    "    dfs = [feather.read_dataframe(f'features/{f}_train.feather') for f in feats]\n",
    "    X_train = pd.concat(dfs, axis=1)\n",
    "    dfs = [feather.read_dataframe(f'features/{f}_test.feather') for f in feats]\n",
    "    X_test = pd.concat(dfs, axis=1)\n",
    "    return X_train, X_test\n",
    "\n",
    "feats = [\n",
    "    'day_lag1_day0',\n",
    "    'day_lag2_day0'\n",
    "]"
   ]
  },
  {
   "cell_type": "code",
   "execution_count": 46,
   "metadata": {
    "collapsed": true
   },
   "outputs": [],
   "source": [
    "feather_train, feather_test = load_datasets(feats)"
   ]
  },
  {
   "cell_type": "code",
   "execution_count": 47,
   "metadata": {},
   "outputs": [
    {
     "data": {
      "text/html": [
       "<div>\n",
       "<style scoped>\n",
       "    .dataframe tbody tr th:only-of-type {\n",
       "        vertical-align: middle;\n",
       "    }\n",
       "\n",
       "    .dataframe tbody tr th {\n",
       "        vertical-align: top;\n",
       "    }\n",
       "\n",
       "    .dataframe thead th {\n",
       "        text-align: right;\n",
       "    }\n",
       "</style>\n",
       "<table border=\"1\" class=\"dataframe\">\n",
       "  <thead>\n",
       "    <tr style=\"text-align: right;\">\n",
       "      <th></th>\n",
       "      <th>ending_day_lag1_day0</th>\n",
       "      <th>ending_day_lag2_day0</th>\n",
       "    </tr>\n",
       "  </thead>\n",
       "  <tbody>\n",
       "    <tr>\n",
       "      <th>0</th>\n",
       "      <td>NaN</td>\n",
       "      <td>NaN</td>\n",
       "    </tr>\n",
       "    <tr>\n",
       "      <th>1</th>\n",
       "      <td>17353.66</td>\n",
       "      <td>NaN</td>\n",
       "    </tr>\n",
       "    <tr>\n",
       "      <th>2</th>\n",
       "      <td>17091.58</td>\n",
       "      <td>17353.66</td>\n",
       "    </tr>\n",
       "    <tr>\n",
       "      <th>3</th>\n",
       "      <td>17237.76</td>\n",
       "      <td>17091.58</td>\n",
       "    </tr>\n",
       "    <tr>\n",
       "      <th>4</th>\n",
       "      <td>16942.40</td>\n",
       "      <td>17237.76</td>\n",
       "    </tr>\n",
       "  </tbody>\n",
       "</table>\n",
       "</div>"
      ],
      "text/plain": [
       "   ending_day_lag1_day0  ending_day_lag2_day0\n",
       "0                   NaN                   NaN\n",
       "1              17353.66                   NaN\n",
       "2              17091.58              17353.66\n",
       "3              17237.76              17091.58\n",
       "4              16942.40              17237.76"
      ]
     },
     "execution_count": 47,
     "metadata": {},
     "output_type": "execute_result"
    }
   ],
   "source": [
    "feather_train.head()"
   ]
  },
  {
   "cell_type": "code",
   "execution_count": 48,
   "metadata": {},
   "outputs": [
    {
     "data": {
      "text/html": [
       "<div>\n",
       "<style scoped>\n",
       "    .dataframe tbody tr th:only-of-type {\n",
       "        vertical-align: middle;\n",
       "    }\n",
       "\n",
       "    .dataframe tbody tr th {\n",
       "        vertical-align: top;\n",
       "    }\n",
       "\n",
       "    .dataframe thead th {\n",
       "        text-align: right;\n",
       "    }\n",
       "</style>\n",
       "<table border=\"1\" class=\"dataframe\">\n",
       "  <thead>\n",
       "    <tr style=\"text-align: right;\">\n",
       "      <th></th>\n",
       "      <th>date</th>\n",
       "      <th>ending</th>\n",
       "      <th>ending_day_lag1_day0</th>\n",
       "      <th>ending_day_lag2_day0</th>\n",
       "    </tr>\n",
       "  </thead>\n",
       "  <tbody>\n",
       "    <tr>\n",
       "      <th>0</th>\n",
       "      <td>2007-01-04</td>\n",
       "      <td>17353.66</td>\n",
       "      <td>NaN</td>\n",
       "      <td>NaN</td>\n",
       "    </tr>\n",
       "    <tr>\n",
       "      <th>1</th>\n",
       "      <td>2007-01-05</td>\n",
       "      <td>17091.58</td>\n",
       "      <td>17353.66</td>\n",
       "      <td>NaN</td>\n",
       "    </tr>\n",
       "    <tr>\n",
       "      <th>2</th>\n",
       "      <td>2007-01-06</td>\n",
       "      <td>17237.76</td>\n",
       "      <td>17091.58</td>\n",
       "      <td>17353.66</td>\n",
       "    </tr>\n",
       "    <tr>\n",
       "      <th>3</th>\n",
       "      <td>2007-01-07</td>\n",
       "      <td>16942.40</td>\n",
       "      <td>17237.76</td>\n",
       "      <td>17091.58</td>\n",
       "    </tr>\n",
       "    <tr>\n",
       "      <th>4</th>\n",
       "      <td>2007-01-08</td>\n",
       "      <td>16838.16</td>\n",
       "      <td>16942.40</td>\n",
       "      <td>17237.76</td>\n",
       "    </tr>\n",
       "  </tbody>\n",
       "</table>\n",
       "</div>"
      ],
      "text/plain": [
       "        date    ending  ending_day_lag1_day0  ending_day_lag2_day0\n",
       "0 2007-01-04  17353.66                   NaN                   NaN\n",
       "1 2007-01-05  17091.58              17353.66                   NaN\n",
       "2 2007-01-06  17237.76              17091.58              17353.66\n",
       "3 2007-01-07  16942.40              17237.76              17091.58\n",
       "4 2007-01-08  16838.16              16942.40              17237.76"
      ]
     },
     "execution_count": 48,
     "metadata": {},
     "output_type": "execute_result"
    }
   ],
   "source": [
    "pd.concat([X_train, feather_train], axis=1).head()"
   ]
  },
  {
   "cell_type": "code",
   "execution_count": null,
   "metadata": {
    "collapsed": true
   },
   "outputs": [],
   "source": []
  },
  {
   "cell_type": "code",
   "execution_count": null,
   "metadata": {
    "collapsed": true
   },
   "outputs": [],
   "source": []
  }
 ],
 "metadata": {
  "kernelspec": {
   "display_name": "Python 3",
   "language": "python",
   "name": "python3"
  },
  "language_info": {
   "codemirror_mode": {
    "name": "ipython",
    "version": 3
   },
   "file_extension": ".py",
   "mimetype": "text/x-python",
   "name": "python",
   "nbconvert_exporter": "python",
   "pygments_lexer": "ipython3",
   "version": "3.6.8"
  }
 },
 "nbformat": 4,
 "nbformat_minor": 2
}
